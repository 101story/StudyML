{
 "cells": [
  {
   "cell_type": "markdown",
   "metadata": {},
   "source": [
    "# NumPy 사용"
   ]
  },
  {
   "cell_type": "code",
   "execution_count": 1,
   "metadata": {
    "collapsed": true
   },
   "outputs": [],
   "source": [
    "import numpy as np\n",
    "import time"
   ]
  },
  {
   "cell_type": "code",
   "execution_count": 2,
   "metadata": {},
   "outputs": [
    {
     "name": "stdout",
     "output_type": "stream",
     "text": [
      "time sum: 6.420993328094482   time sum numpy: 0.07100439071655273\n"
     ]
    }
   ],
   "source": [
    "# 1000만 개의 요소 더하기 사용자 함수와 비교\n",
    "def sum_trad():\n",
    "    start = time.time()\n",
    "    X = range(10000000)\n",
    "    Y = range(10000000)\n",
    "    Z = []\n",
    "    for i in range(len(X)):\n",
    "        Z.append(X[i] + Y[i])\n",
    "    return time.time() - start\n",
    "\n",
    "def sum_numpy():\n",
    "    start = time.time()\n",
    "    X = np.arange(10000000) \n",
    "    Y = np.arange(10000000) \n",
    "    Z=X+Y\n",
    "    return time.time() - start\n",
    "\n",
    "print('time sum:',sum_trad(),'  time sum numpy:',sum_numpy())"
   ]
  },
  {
   "cell_type": "markdown",
   "metadata": {},
   "source": [
    "### 배열생성"
   ]
  },
  {
   "cell_type": "code",
   "execution_count": 3,
   "metadata": {},
   "outputs": [
    {
     "name": "stdout",
     "output_type": "stream",
     "text": [
      "[ 2.  6.  5.  9.]\n",
      "<class 'numpy.ndarray'>\n"
     ]
    }
   ],
   "source": [
    "# 리스트로부터 형 변환된 배열 정의 생성될 배열의 타입을 인자로 줌 \n",
    "arr = np.array([2, 6, 5, 9], float)\n",
    "print(arr)\n",
    "print(type(arr))"
   ]
  },
  {
   "cell_type": "code",
   "execution_count": 4,
   "metadata": {},
   "outputs": [
    {
     "name": "stdout",
     "output_type": "stream",
     "text": [
      "[1.0, 2.0, 3.0]\n",
      "[1.0, 2.0, 3.0]\n"
     ]
    }
   ],
   "source": [
    "# 리스트로 변환\n",
    "arr = np.array([1, 2, 3], float)\n",
    "print(arr.tolist())\n",
    "print(list(arr))"
   ]
  },
  {
   "cell_type": "code",
   "execution_count": 5,
   "metadata": {},
   "outputs": [
    {
     "name": "stdout",
     "output_type": "stream",
     "text": [
      "[ 0.  2.  3.]\n",
      "[ 0.  2.  3.]\n",
      "[ 1.  2.  3.]\n"
     ]
    }
   ],
   "source": [
    "# 기존 배열에서 새 객체 생성 copy\n",
    "arr = np.array([1, 2, 3], float)\n",
    "arr1 = arr\n",
    "arr2 = arr.copy()\n",
    "arr[0] = 0\n",
    "print(arr)\n",
    "print(arr1)\n",
    "print(arr2)"
   ]
  },
  {
   "cell_type": "code",
   "execution_count": 6,
   "metadata": {},
   "outputs": [
    {
     "name": "stdout",
     "output_type": "stream",
     "text": [
      "[ 10.  20.  33.]\n",
      "[ 1.  1.  1.]\n"
     ]
    }
   ],
   "source": [
    "# 배열을 단일 값으로 채우기 fill\n",
    "arr = np.array([10, 20, 33], float)\n",
    "print(arr)\n",
    "arr.fill(1)\n",
    "print(arr)"
   ]
  },
  {
   "cell_type": "code",
   "execution_count": 7,
   "metadata": {},
   "outputs": [
    {
     "name": "stdout",
     "output_type": "stream",
     "text": [
      "[2 0 1]\n",
      "[ 1.15769662 -0.0407008   1.55557318 -0.32066275 -2.02172288]\n",
      "[ 0.68638267  0.79920006  0.05316066  0.36138272  0.14931143]\n"
     ]
    }
   ],
   "source": [
    "# permutation : 배열의 길이로 랜덤 정수열 생성\n",
    "print(np.random.permutation(3))\n",
    "# normal : 정규분포를 따르는 숫자열 1 평균 0 표준편차 5 요소개수\n",
    "print(np.random.normal(0,1,5))\n",
    "# random : 균등 분포 0<n<1 사이의 값반환\n",
    "print(np.random.random(5))"
   ]
  },
  {
   "cell_type": "code",
   "execution_count": 8,
   "metadata": {},
   "outputs": [
    {
     "name": "stdout",
     "output_type": "stream",
     "text": [
      "[[ 1.  0.  0.  0.  0.]\n",
      " [ 0.  1.  0.  0.  0.]\n",
      " [ 0.  0.  1.  0.  0.]\n",
      " [ 0.  0.  0.  1.  0.]\n",
      " [ 0.  0.  0.  0.  1.]]\n",
      "[[ 0.  1.  0.]\n",
      " [ 0.  0.  1.]\n",
      " [ 0.  0.  0.]]\n",
      "---------------------\n",
      "[[ 1.  1.  1.]\n",
      " [ 1.  1.  1.]]\n",
      "[0 0 0 0 0 0]\n",
      "---------------------\n",
      "[[ 0.  0.  0.]\n",
      " [ 0.  0.  0.]]\n",
      "[[ 1.  1.  1.]\n",
      " [ 1.  1.  1.]]\n",
      "---------------------\n",
      "[[1 3 2]\n",
      " [3 4 6]]\n",
      "[[ 0.8310438   0.59558671  0.79374216]\n",
      " [ 0.74056685  0.52305291  0.22812723]]\n",
      "[[ 10.35195623   1.68385917]\n",
      " [  7.43286864   0.87899262]\n",
      " [  8.48000977   0.0919394 ]\n",
      " [ 11.97012502   1.83913672]\n",
      " [ 11.85666263   1.94784637]]\n"
     ]
    }
   ],
   "source": [
    "# 2차원 배열의 생성함수\n",
    "\n",
    "print(np.identity(5, dtype=float)) # 단위행렬 identity matrix \n",
    "print(np.eye(3, k=1, dtype=float)) # k 번째 대각이 1인 행렬\n",
    "\n",
    "# 차원과 타입을 인자로 넘겨 0과 1로 채워진 배열 \n",
    "print('---------------------')\n",
    "print(np.ones((2,3), dtype=float))  \n",
    "print(np.zeros(6, dtype=int))\n",
    "\n",
    "# 주어진 배열과 동일한 차원과 타입의 배열 생성\n",
    "print('---------------------')\n",
    "arr = np.array([[13, 32, 31], [64, 25, 76]], float)\n",
    "print(np.zeros_like(arr))\n",
    "print(np.ones_like(arr))\n",
    "\n",
    "# 여러개의 1차원 배열을 수직방향으로 합침\n",
    "print('---------------------')\n",
    "arr1 = np.array([1,3,2])\n",
    "arr2 = np.array([3,4,6])\n",
    "print(np.vstack([arr1,arr2]))\n",
    "\n",
    "# random 함수의 서브모듈 0과 1사이의 균등분포로 2x3 랜덤 행렬 생성\n",
    "print(np.random.rand(2,3))\n",
    "# random 함수의 서브모듈 다변량 정규 분포\n",
    "# 10,0 : 평균 백터, [[3, 1], [1, 4]] 공분산 행렬, 5 샘플 개수\n",
    "print(np.random.multivariate_normal([10, 0], [[3, 1], [1, 4]], size=[5,]))"
   ]
  },
  {
   "cell_type": "markdown",
   "metadata": {},
   "source": [
    "### 배열 조작"
   ]
  },
  {
   "cell_type": "code",
   "execution_count": 9,
   "metadata": {},
   "outputs": [
    {
     "name": "stdout",
     "output_type": "stream",
     "text": [
      "[ 2.  6.  5.]\n",
      "5.0\n",
      "[ 5.  6.  5.  5.]\n"
     ]
    }
   ],
   "source": [
    "#자르기, 조작\n",
    "arr = np.array([2., 6., 5., 5.])\n",
    "print(arr[:3])\n",
    "print(arr[3])\n",
    "arr[0] = 5.\n",
    "print(arr)"
   ]
  },
  {
   "cell_type": "code",
   "execution_count": 10,
   "metadata": {},
   "outputs": [
    {
     "name": "stdout",
     "output_type": "stream",
     "text": [
      "[ 5.  6.]\n",
      "[ 5.  5.  5.  6.]\n",
      "[0 2 3 1]\n",
      "[ 5.  5.  5.  6.]\n",
      "False\n"
     ]
    }
   ],
   "source": [
    "print(np.unique(arr))   # 유일한 값\n",
    "print(np.sort(arr))     # 정렬 \n",
    "print(np.argsort(arr))  # 정렬 후 인덱스 반환\n",
    "np.random.shuffle(arr)  # 무작위 재배열\n",
    "print(arr)\n",
    "print(np.array_equal(arr,np.array([1,3,2])))   # 배열 비교"
   ]
  },
  {
   "cell_type": "code",
   "execution_count": 11,
   "metadata": {},
   "outputs": [
    {
     "name": "stdout",
     "output_type": "stream",
     "text": [
      "[[ 4.  5.  6.]\n",
      " [ 2.  3.  6.]]\n",
      "4.0 -- 6.0\n",
      "[[ 6.]]\n",
      "[ 2.  3.  6.]\n",
      "[ 6.  6.]\n",
      "[[ 3.  6.]]\n",
      "[[ 10.  29.  23.]\n",
      " [ 24.  25.  46.]]\n",
      "[ 10.  29.  23.  24.  25.  46.]\n",
      "(2, 3)\n",
      "float64\n",
      "[[4 5 6]\n",
      " [2 3 6]]\n"
     ]
    }
   ],
   "source": [
    "# 다차원 배열\n",
    "matrix = np.array([[ 4., 5., 6.], [2, 3, 6]], float)\n",
    "print(matrix)\n",
    "print(matrix[0,0],'--',matrix[0,2])\n",
    "\n",
    "#다차원 배열 조작\n",
    "arr = np.array([[ 4., 5., 6.], [ 2., 3., 6.]], float)\n",
    "print(arr[1:2,2:3])\n",
    "print(arr[1,:])\n",
    "print(arr[:,2])\n",
    "print(arr[-1:,-2:])\n",
    "\n",
    "# 다차원 배열 -> 1차원 배열로 생성 \n",
    "arr = np.array([[10, 29, 23], [24, 25, 46]], float)\n",
    "print(arr)\n",
    "print(arr.flatten())\n",
    "# 배열 정보 확인 \n",
    "print(arr.shape)  # 배열의 크기 \n",
    "print(arr.dtype)  # 타입\n",
    "\n",
    "# 배열의 타입 변환\n",
    "int_arr = matrix.astype(np.int32)\n",
    "print(int_arr)"
   ]
  },
  {
   "cell_type": "code",
   "execution_count": 12,
   "metadata": {},
   "outputs": [
    {
     "name": "stdout",
     "output_type": "stream",
     "text": [
      "2\n",
      "True\n",
      "False\n"
     ]
    }
   ],
   "source": [
    "arr = np.array([[ 4., 5., 6.], [ 2., 3., 6.]], float)\n",
    "print(len(arr))  # 길이변환\n",
    "arr = np.array([[ 4., 5., 6.], [ 2., 3., 6.]], float)\n",
    "print(2 in arr) # 포함여부 확인\n",
    "print(0 in arr)"
   ]
  },
  {
   "cell_type": "code",
   "execution_count": 13,
   "metadata": {},
   "outputs": [
    {
     "name": "stdout",
     "output_type": "stream",
     "text": [
      "[ 0.  1.  2.  3.  4.  5.  6.  7.]\n",
      "[[ 0.  1.]\n",
      " [ 2.  3.]\n",
      " [ 4.  5.]\n",
      " [ 6.  7.]]\n",
      "(4, 2)\n"
     ]
    }
   ],
   "source": [
    "# 배열의 요소를 다른 차원으로 재배열 \n",
    "arr = np.array(range(8), float)\n",
    "print(arr)\n",
    "arr = arr.reshape((4,2))\n",
    "print(arr)\n",
    "print(arr.shape)"
   ]
  },
  {
   "cell_type": "code",
   "execution_count": 14,
   "metadata": {},
   "outputs": [
    {
     "name": "stdout",
     "output_type": "stream",
     "text": [
      "[[ 0.  1.  2.]\n",
      " [ 3.  4.  5.]]\n",
      "[[ 0.  3.]\n",
      " [ 1.  4.]\n",
      " [ 2.  5.]]\n",
      "[[ 0  1  2  3  4]\n",
      " [ 5  6  7  8  9]\n",
      " [10 11 12 13 14]]\n",
      "[[ 0  5 10]\n",
      " [ 1  6 11]\n",
      " [ 2  7 12]\n",
      " [ 3  8 13]\n",
      " [ 4  9 14]]\n"
     ]
    }
   ],
   "source": [
    "# 전치행렬(차원 바꾸기)\n",
    "# 방법1\n",
    "arr = np.array(range(6), float).reshape((2, 3))\n",
    "print(arr)\n",
    "print(arr.transpose())\n",
    "# 방법2\n",
    "matrix = np.arange(15).reshape((3, 5))\n",
    "print(matrix)\n",
    "print(matrix .T)"
   ]
  },
  {
   "cell_type": "code",
   "execution_count": 15,
   "metadata": {},
   "outputs": [
    {
     "name": "stdout",
     "output_type": "stream",
     "text": [
      "[ 14.  32.  13.]\n",
      "(3,)\n",
      "[[ 14.]\n",
      " [ 32.]\n",
      " [ 13.]]\n",
      "(3, 1)\n",
      "[[ 14.  32.  13.]]\n",
      "(1, 3)\n"
     ]
    }
   ],
   "source": [
    "# 차원 늘리기\n",
    "# newaxis 상수 : 길이가 1인 축을 추가해 1차원 배열을 2차원 배열로 생성 \n",
    "arr = np.array([14, 32, 13], float)\n",
    "print(arr)\n",
    "print(arr.shape)\n",
    "print(arr[:,np.newaxis])\n",
    "print(arr[:,np.newaxis].shape)\n",
    "print(arr[np.newaxis,:])\n",
    "print(arr[np.newaxis,:].shape)"
   ]
  },
  {
   "cell_type": "code",
   "execution_count": 16,
   "metadata": {},
   "outputs": [
    {
     "name": "stdout",
     "output_type": "stream",
     "text": [
      "[ 10.  22.  31.  43.  54.  61.  71.  82.  29.]\n",
      "[[ 11.  12.]\n",
      " [ 32.  42.]\n",
      " [ 54.  26.]\n",
      " [ 27.  28.]]\n",
      "[[ 11.  12.]\n",
      " [ 32.  42.]\n",
      " [ 54.  26.]\n",
      " [ 27.  28.]]\n",
      "[[ 11.  12.  54.  26.]\n",
      " [ 32.  42.  27.  28.]]\n"
     ]
    }
   ],
   "source": [
    "#결합함수\n",
    "#1차원 배열 결합\n",
    "arr1 = np.array([10,22], float)\n",
    "arr2 = np.array([31,43,54,61], float)\n",
    "arr3 = np.array([71,82,29], float)\n",
    "print(np.concatenate((arr1, arr2, arr3)))\n",
    "#다차원 배열 결합 (어떤 축을 따라 결합할지 def 첫번쨰 차원)\n",
    "arr1 = np.array([[11, 12], [32, 42]], float)\n",
    "arr2 = np.array([[54, 26], [27,28]], float)\n",
    "print(np.concatenate((arr1,arr2)))\n",
    "print(np.concatenate((arr1,arr2), axis=0))\n",
    "print(np.concatenate((arr1,arr2), axis=1))"
   ]
  },
  {
   "cell_type": "code",
   "execution_count": 17,
   "metadata": {},
   "outputs": [
    {
     "name": "stdout",
     "output_type": "stream",
     "text": [
      "b'\\x00\\x00\\x00\\x00\\x00\\x00$@\\x00\\x00\\x00\\x00\\x00\\x004@\\x00\\x00\\x00\\x00\\x00\\x00>@'\n",
      "[ 10.  20.  30.]\n"
     ]
    }
   ],
   "source": [
    "# 큰 데이터 저장 \n",
    "arr = np.array([10, 20, 30], float)\n",
    "str = arr.tostring()  # 배열 -> 바이너리 문자열\n",
    "print(str)\n",
    "print(np.fromstring(str)) # 배열 <- 바이너리 문자열"
   ]
  },
  {
   "cell_type": "markdown",
   "metadata": {},
   "source": [
    "### 배열 연산"
   ]
  },
  {
   "cell_type": "code",
   "execution_count": 18,
   "metadata": {},
   "outputs": [
    {
     "name": "stdout",
     "output_type": "stream",
     "text": [
      "[ 2.  4.  6.]\n",
      "[ 0.  0.  0.]\n",
      "[ 1.  4.  9.]\n",
      "[ 1.  1.  1.]\n",
      "[ 0.  0.  0.]\n",
      "[  1.   4.  27.]\n"
     ]
    }
   ],
   "source": [
    "# 기본 수학 연산\n",
    "arr1 = np.array([1,2,3], float)\n",
    "arr2 = np.array([1,2,3], float)\n",
    "print(arr1+arr2)\n",
    "print(arr1-arr2)\n",
    "print(arr1 * arr2)\n",
    "print(arr2 / arr1)\n",
    "print(arr1 % arr2)\n",
    "print(arr2**arr1)"
   ]
  },
  {
   "cell_type": "code",
   "execution_count": 19,
   "metadata": {},
   "outputs": [
    {
     "name": "stdout",
     "output_type": "stream",
     "text": [
      "[[ 1.  2.]\n",
      " [ 3.  4.]\n",
      " [ 5.  6.]]\n",
      "[ 1.  2.]\n",
      "[[ 2.  4.]\n",
      " [ 4.  6.]\n",
      " [ 6.  8.]]\n",
      "[[ 0.  0.]\n",
      " [ 0.  0.]]\n",
      "[ 1.  2.]\n",
      "[[ 1.  2.]\n",
      " [ 1.  2.]]\n",
      "[[ 1.  2.]\n",
      " [ 1.  2.]]\n",
      "[[ 1.  1.]\n",
      " [ 2.  2.]]\n"
     ]
    }
   ],
   "source": [
    "# 브로드캐스팅 : 배열의 차원이 서로다를 떄 작은 차원의 배열을 큰 차원의 배열 크기에 맞춰 확장 \n",
    "arr1 = np.array([[1, 2], [3, 4], [5, 6]], float)\n",
    "arr2 = np.array([1, 2], float)\n",
    "print(arr1)\n",
    "print(arr2)\n",
    "print(arr1 + arr2)\n",
    "arr1 = np.zeros((2,2), float)\n",
    "arr2 = np.array([1., 2.], float)\n",
    "print(arr1)\n",
    "print(arr2)\n",
    "print(arr1+arr2)\n",
    "# newaxis (상수) 를 이용한 명시적 브로드캐스팅 \n",
    "print(arr1 + arr2[np.newaxis,:])\n",
    "print(arr1 + arr2[:,np.newaxis])"
   ]
  },
  {
   "cell_type": "code",
   "execution_count": 20,
   "metadata": {},
   "outputs": [
    {
     "name": "stdout",
     "output_type": "stream",
     "text": [
      "[[False False]\n",
      " [False  True]]\n",
      "[ 9.]\n",
      "[[ 1.  2.]\n",
      " [ 5.  9.]]\n"
     ]
    }
   ],
   "source": [
    "# 배열의 쿼리를 위한 필터링 \n",
    "# 불리언 이용\n",
    "arr = np.array([[1, 2], [5, 9]], float)\n",
    "print(arr >= 7)\n",
    "print(arr[arr >= 7])\n",
    "# 논리식 이용 (부분집합)\n",
    "arr[np.logical_and(arr > 5, arr < 11)]\n",
    "print(arr)"
   ]
  },
  {
   "cell_type": "code",
   "execution_count": 21,
   "metadata": {},
   "outputs": [
    {
     "name": "stdout",
     "output_type": "stream",
     "text": [
      "[ 1.  4.  4.  9.  4.  4.  4.]\n",
      "[ 1.  4.  4.  9.  4.]\n",
      "[ 13.   2.   1.  13.]\n",
      "---------------\n",
      "[ 6.  7.  6.  9.  9.  6.]\n",
      "[[ 10.  21.]\n",
      " [ 10.  21.]\n",
      " [ 62.  33.]]\n",
      "[[ 10.  10.  21.]\n",
      " [ 62.  62.  33.]]\n"
     ]
    }
   ],
   "source": [
    "# 배열의 요소선택 \n",
    "arr1 = np.array([1, 4, 5, 9], float)\n",
    "arr2 = np.array([0, 1, 1, 3, 1, 1, 1], int)\n",
    "print(arr1[arr2])\n",
    "arr = np.array([1, 4, 5, 9], float)\n",
    "print(arr[[0, 1, 1, 3, 1]])\n",
    "arr1 = np.array([[1, 2], [5, 13]], float)\n",
    "arr2 = np.array([1, 0, 0, 1], int)\n",
    "arr3 = np.array([1, 1, 0, 1], int)\n",
    "print(arr1[arr2,arr3])\n",
    "# take 함수 괄호 선택 방식과 동일 \n",
    "print('---------------')\n",
    "arr1 = np.array([7, 6, 6, 9], float)\n",
    "arr2 = np.array([1, 0, 1, 3, 3, 1], int)\n",
    "print(arr1.take(arr2))  # arr1 의 1, 0, 1.. 번째 값을 반환\n",
    "arr1 = np.array([[10, 21], [62, 33]], float)\n",
    "arr2 = np.array([0, 0, 1], int)\n",
    "print(arr1.take(arr2, axis=0))\n",
    "print(arr1.take(arr2, axis=1))"
   ]
  },
  {
   "cell_type": "code",
   "execution_count": 22,
   "metadata": {},
   "outputs": [
    {
     "name": "stdout",
     "output_type": "stream",
     "text": [
      "[  2.   3.   6.   2.  10.   9.]\n"
     ]
    }
   ],
   "source": [
    "# put 함수 : take 함수와 반대로 인덱스와 배열의 값을 입력받아 해당 인덱스 위치값에 값을 변경 \n",
    "arr1 = np.array([2, 1, 6, 2, 1, 9], float)\n",
    "arr2 = np.array([3, 10, 2], float)\n",
    "arr1.put([1, 4], arr2) # 1, 4 위치 값을 arr2 의 0, 1 번째 값으로 변경\n",
    "print(arr1)"
   ]
  },
  {
   "cell_type": "code",
   "execution_count": 23,
   "metadata": {},
   "outputs": [
    {
     "name": "stdout",
     "output_type": "stream",
     "text": [
      "[[ 275.  660.]\n",
      " [ 299.  462.]]\n"
     ]
    }
   ],
   "source": [
    "# 행렬의 곱\n",
    "arr1 = np.array([[11,22], [23,14]], float)\n",
    "arr2 = np.array([[25,30], [13,33]], float)\n",
    "print(arr1*arr2)"
   ]
  },
  {
   "cell_type": "markdown",
   "metadata": {},
   "source": [
    "### 선행 대수 연산"
   ]
  },
  {
   "cell_type": "code",
   "execution_count": 24,
   "metadata": {},
   "outputs": [
    {
     "name": "stdout",
     "output_type": "stream",
     "text": [
      "[[ 0  1  2  3  4]\n",
      " [ 5  6  7  8  9]\n",
      " [10 11 12 13 14]]\n",
      "[[ 0  5 10]\n",
      " [ 1  6 11]\n",
      " [ 2  7 12]\n",
      " [ 3  8 13]\n",
      " [ 4  9 14]]\n",
      "[[125 140 155 170 185]\n",
      " [140 158 176 194 212]\n",
      " [155 176 197 218 239]\n",
      " [170 194 218 242 266]\n",
      " [185 212 239 266 293]]\n"
     ]
    }
   ],
   "source": [
    "# x 행렬과 전치 행렬의 내적 \n",
    "X = np.arange(15).reshape((3, 5))\n",
    "print(X)\n",
    "print(X.T)\n",
    "print(np.dot(X .T, X)) #X^T X"
   ]
  },
  {
   "cell_type": "code",
   "execution_count": 25,
   "metadata": {},
   "outputs": [
    {
     "name": "stdout",
     "output_type": "stream",
     "text": [
      "[[  252.   504.   168.]\n",
      " [  903.  1806.   602.]\n",
      " [  210.   420.   140.]]\n",
      "2198.0\n",
      "[ 182.   42. -399.]\n"
     ]
    }
   ],
   "source": [
    "# inner, outer, cross 배열의 곱 함수 제공\n",
    "arr1 = np.array([12, 43, 10], float)\n",
    "arr2 = np.array([21, 42, 14], float)\n",
    "print(np.outer(arr1, arr2))\n",
    "print(np.inner(arr1, arr2))\n",
    "print(np.cross(arr1, arr2))"
   ]
  },
  {
   "cell_type": "code",
   "execution_count": 26,
   "metadata": {},
   "outputs": [
    {
     "name": "stdout",
     "output_type": "stream",
     "text": [
      "[[ 74.  22.  10.]\n",
      " [ 92.  31.  17.]\n",
      " [ 21.  22.  12.]]\n",
      "-2852.0\n"
     ]
    }
   ],
   "source": [
    "# linalg 서브모듈 : 행렬에 대한 선형 대수 함수 포함 \n",
    "matrix = np.array([[74, 22, 10], [92, 31, 17], [21, 22, 12]], float)\n",
    "print(matrix)\n",
    "print(np.linalg.det(matrix)) # determinant (2x2 에서 1/ad-bc)"
   ]
  },
  {
   "cell_type": "code",
   "execution_count": 27,
   "metadata": {},
   "outputs": [
    {
     "name": "stdout",
     "output_type": "stream",
     "text": [
      "[[ 0.00070126  0.01542777 -0.02244039]\n",
      " [ 0.26192146 -0.23772791  0.11851332]\n",
      " [-0.48141655  0.4088359  -0.09467041]]\n",
      "[[  1.00000000e+00  -1.11022302e-16  -1.11022302e-16]\n",
      " [  5.77315973e-15   1.00000000e+00   8.88178420e-16]\n",
      " [ -3.91353616e-15  -1.05471187e-15   1.00000000e+00]]\n"
     ]
    }
   ],
   "source": [
    "# 역행렬 \n",
    "inv_matrix = np.linalg.inv(matrix)\n",
    "print(inv_matrix)\n",
    "print(np.dot(inv_matrix,matrix)) #행렬과 역행열의 곱 (단위행렬: 대각은 1 나머지는 0)"
   ]
  },
  {
   "cell_type": "code",
   "execution_count": 28,
   "metadata": {},
   "outputs": [
    {
     "name": "stdout",
     "output_type": "stream",
     "text": [
      "[ 107.99587441   11.33411853   -2.32999294]\n",
      "[[-0.57891525 -0.21517959  0.06319955]\n",
      " [-0.75804695  0.17632618 -0.58635713]\n",
      " [-0.30036971  0.96052424  0.80758352]]\n"
     ]
    }
   ],
   "source": [
    "# 고유값과 고유벡터 \n",
    "vals, vecs = np.linalg.eig(matrix)\n",
    "print(vals)\n",
    "print(vecs)"
   ]
  },
  {
   "cell_type": "markdown",
   "metadata": {},
   "source": [
    "### 통계 및 수학 함수"
   ]
  },
  {
   "cell_type": "code",
   "execution_count": 29,
   "metadata": {},
   "outputs": [
    {
     "name": "stdout",
     "output_type": "stream",
     "text": [
      "-0.356892169349\n",
      "-0.356892169349\n",
      "-11.4205494192\n"
     ]
    }
   ],
   "source": [
    "#Statistics and mathematical functions\n",
    "arr = np.random.randn(8, 4)\n",
    "print(arr.mean())\n",
    "print(np.mean(arr))\n",
    "print(arr.sum())"
   ]
  },
  {
   "cell_type": "markdown",
   "metadata": {},
   "source": [
    "# Pandas "
   ]
  },
  {
   "cell_type": "code",
   "execution_count": 30,
   "metadata": {
    "collapsed": true
   },
   "outputs": [],
   "source": [
    "import pandas as pd"
   ]
  },
  {
   "cell_type": "markdown",
   "metadata": {},
   "source": [
    "### 데이터 탐색"
   ]
  },
  {
   "cell_type": "code",
   "execution_count": 31,
   "metadata": {},
   "outputs": [
    {
     "data": {
      "text/plain": [
       "0    3\n",
       "1    5\n",
       "2   -2\n",
       "3    1\n",
       "dtype: int64"
      ]
     },
     "execution_count": 31,
     "metadata": {},
     "output_type": "execute_result"
    }
   ],
   "source": [
    "# Series 객체 : 어떤 데이터 타입이든 저장가능, 인덱스(데이터 레이블배열) 이 있음\n",
    "obj = pd.Series([3,5,-2,1])\n",
    "obj"
   ]
  },
  {
   "cell_type": "code",
   "execution_count": 32,
   "metadata": {},
   "outputs": [
    {
     "data": {
      "text/plain": [
       "array([ 3,  5, -2,  1], dtype=int64)"
      ]
     },
     "execution_count": 32,
     "metadata": {},
     "output_type": "execute_result"
    }
   ],
   "source": [
    "obj.values"
   ]
  },
  {
   "cell_type": "code",
   "execution_count": 33,
   "metadata": {},
   "outputs": [
    {
     "data": {
      "text/plain": [
       "RangeIndex(start=0, stop=4, step=1)"
      ]
     },
     "execution_count": 33,
     "metadata": {},
     "output_type": "execute_result"
    }
   ],
   "source": [
    "obj.index"
   ]
  },
  {
   "cell_type": "code",
   "execution_count": 34,
   "metadata": {},
   "outputs": [
    {
     "name": "stdout",
     "output_type": "stream",
     "text": [
      "0     6\n",
      "1    10\n",
      "2    -4\n",
      "3     2\n",
      "dtype: int64\n",
      "0    3\n",
      "1    5\n",
      "dtype: int64\n"
     ]
    }
   ],
   "source": [
    "# 배열 연산적용\n",
    "print(obj *2)\n",
    "print(obj[obj>2])"
   ]
  },
  {
   "cell_type": "code",
   "execution_count": 35,
   "metadata": {},
   "outputs": [
    {
     "data": {
      "text/plain": [
       "a     30.0\n",
       "b     70.0\n",
       "c    160.0\n",
       "d      5.0\n",
       "g      NaN\n",
       "dtype: float64"
      ]
     },
     "execution_count": 35,
     "metadata": {},
     "output_type": "execute_result"
    }
   ],
   "source": [
    "# dictionary 이용 \n",
    "data = {'a': 30, 'b': 70, 'c': 160, 'd': 5}\n",
    "obj = pd.Series(data)\n",
    "obj\n",
    "# 별도 index \n",
    "index = ['a','b','c','d','g']\n",
    "obj = pd.Series(data, index=index)\n",
    "obj"
   ]
  },
  {
   "cell_type": "code",
   "execution_count": 36,
   "metadata": {},
   "outputs": [
    {
     "data": {
      "text/plain": [
       "a     True\n",
       "b     True\n",
       "c     True\n",
       "d     True\n",
       "g    False\n",
       "dtype: bool"
      ]
     },
     "execution_count": 36,
     "metadata": {},
     "output_type": "execute_result"
    }
   ],
   "source": [
    "# 마지막 인덱스 레이블은 g 이고 연관된 객체 값이 없어서 디폴드 NaN(Not a Number) 로 표시\n",
    "# Missing data 판단\n",
    "pd.isnull(obj)\n",
    "pd.notnull(obj)"
   ]
  },
  {
   "cell_type": "code",
   "execution_count": 37,
   "metadata": {},
   "outputs": [
    {
     "name": "stderr",
     "output_type": "stream",
     "text": [
      "C:\\Users\\jhee\\Documents\\Anaconda3\\lib\\site-packages\\IPython\\core\\interactiveshell.py:2717: DtypeWarning: Columns (3) have mixed types. Specify dtype option on import or set low_memory=False.\n",
      "  interactivity=interactivity, compiler=compiler, result=result)\n"
     ]
    }
   ],
   "source": [
    "# CSV -> DataFrame\n",
    "# DataFrame : 순서, 행열\n",
    "data = pd.read_csv(\"ad-dataset/ad.data\",header=None)"
   ]
  },
  {
   "cell_type": "code",
   "execution_count": 38,
   "metadata": {},
   "outputs": [
    {
     "data": {
      "text/html": [
       "<div>\n",
       "<style>\n",
       "    .dataframe thead tr:only-child th {\n",
       "        text-align: right;\n",
       "    }\n",
       "\n",
       "    .dataframe thead th {\n",
       "        text-align: left;\n",
       "    }\n",
       "\n",
       "    .dataframe tbody tr th {\n",
       "        vertical-align: top;\n",
       "    }\n",
       "</style>\n",
       "<table border=\"1\" class=\"dataframe\">\n",
       "  <thead>\n",
       "    <tr style=\"text-align: right;\">\n",
       "      <th></th>\n",
       "      <th>4</th>\n",
       "      <th>5</th>\n",
       "      <th>6</th>\n",
       "      <th>7</th>\n",
       "      <th>8</th>\n",
       "      <th>9</th>\n",
       "      <th>10</th>\n",
       "      <th>11</th>\n",
       "      <th>12</th>\n",
       "      <th>13</th>\n",
       "      <th>...</th>\n",
       "      <th>1548</th>\n",
       "      <th>1549</th>\n",
       "      <th>1550</th>\n",
       "      <th>1551</th>\n",
       "      <th>1552</th>\n",
       "      <th>1553</th>\n",
       "      <th>1554</th>\n",
       "      <th>1555</th>\n",
       "      <th>1556</th>\n",
       "      <th>1557</th>\n",
       "    </tr>\n",
       "  </thead>\n",
       "  <tbody>\n",
       "    <tr>\n",
       "      <th>count</th>\n",
       "      <td>3279.000000</td>\n",
       "      <td>3279.000000</td>\n",
       "      <td>3279.000000</td>\n",
       "      <td>3279.000000</td>\n",
       "      <td>3279.000000</td>\n",
       "      <td>3279.000000</td>\n",
       "      <td>3279.000000</td>\n",
       "      <td>3279.000000</td>\n",
       "      <td>3279.000000</td>\n",
       "      <td>3279.000000</td>\n",
       "      <td>...</td>\n",
       "      <td>3279.000000</td>\n",
       "      <td>3279.000000</td>\n",
       "      <td>3279.000000</td>\n",
       "      <td>3279.000000</td>\n",
       "      <td>3279.000000</td>\n",
       "      <td>3279.000000</td>\n",
       "      <td>3279.000000</td>\n",
       "      <td>3279.000000</td>\n",
       "      <td>3279.000000</td>\n",
       "      <td>3279.000000</td>\n",
       "    </tr>\n",
       "    <tr>\n",
       "      <th>mean</th>\n",
       "      <td>0.004270</td>\n",
       "      <td>0.011589</td>\n",
       "      <td>0.004575</td>\n",
       "      <td>0.003355</td>\n",
       "      <td>0.003965</td>\n",
       "      <td>0.011589</td>\n",
       "      <td>0.003355</td>\n",
       "      <td>0.004880</td>\n",
       "      <td>0.009149</td>\n",
       "      <td>0.004575</td>\n",
       "      <td>...</td>\n",
       "      <td>0.006099</td>\n",
       "      <td>0.004575</td>\n",
       "      <td>0.003660</td>\n",
       "      <td>0.002440</td>\n",
       "      <td>0.003050</td>\n",
       "      <td>0.006404</td>\n",
       "      <td>0.012809</td>\n",
       "      <td>0.013419</td>\n",
       "      <td>0.009759</td>\n",
       "      <td>0.001525</td>\n",
       "    </tr>\n",
       "    <tr>\n",
       "      <th>std</th>\n",
       "      <td>0.065212</td>\n",
       "      <td>0.107042</td>\n",
       "      <td>0.067491</td>\n",
       "      <td>0.057831</td>\n",
       "      <td>0.062850</td>\n",
       "      <td>0.107042</td>\n",
       "      <td>0.057831</td>\n",
       "      <td>0.069694</td>\n",
       "      <td>0.095227</td>\n",
       "      <td>0.067491</td>\n",
       "      <td>...</td>\n",
       "      <td>0.077872</td>\n",
       "      <td>0.067491</td>\n",
       "      <td>0.060393</td>\n",
       "      <td>0.049341</td>\n",
       "      <td>0.055148</td>\n",
       "      <td>0.079783</td>\n",
       "      <td>0.112466</td>\n",
       "      <td>0.115077</td>\n",
       "      <td>0.098320</td>\n",
       "      <td>0.039026</td>\n",
       "    </tr>\n",
       "    <tr>\n",
       "      <th>min</th>\n",
       "      <td>0.000000</td>\n",
       "      <td>0.000000</td>\n",
       "      <td>0.000000</td>\n",
       "      <td>0.000000</td>\n",
       "      <td>0.000000</td>\n",
       "      <td>0.000000</td>\n",
       "      <td>0.000000</td>\n",
       "      <td>0.000000</td>\n",
       "      <td>0.000000</td>\n",
       "      <td>0.000000</td>\n",
       "      <td>...</td>\n",
       "      <td>0.000000</td>\n",
       "      <td>0.000000</td>\n",
       "      <td>0.000000</td>\n",
       "      <td>0.000000</td>\n",
       "      <td>0.000000</td>\n",
       "      <td>0.000000</td>\n",
       "      <td>0.000000</td>\n",
       "      <td>0.000000</td>\n",
       "      <td>0.000000</td>\n",
       "      <td>0.000000</td>\n",
       "    </tr>\n",
       "    <tr>\n",
       "      <th>25%</th>\n",
       "      <td>0.000000</td>\n",
       "      <td>0.000000</td>\n",
       "      <td>0.000000</td>\n",
       "      <td>0.000000</td>\n",
       "      <td>0.000000</td>\n",
       "      <td>0.000000</td>\n",
       "      <td>0.000000</td>\n",
       "      <td>0.000000</td>\n",
       "      <td>0.000000</td>\n",
       "      <td>0.000000</td>\n",
       "      <td>...</td>\n",
       "      <td>0.000000</td>\n",
       "      <td>0.000000</td>\n",
       "      <td>0.000000</td>\n",
       "      <td>0.000000</td>\n",
       "      <td>0.000000</td>\n",
       "      <td>0.000000</td>\n",
       "      <td>0.000000</td>\n",
       "      <td>0.000000</td>\n",
       "      <td>0.000000</td>\n",
       "      <td>0.000000</td>\n",
       "    </tr>\n",
       "    <tr>\n",
       "      <th>50%</th>\n",
       "      <td>0.000000</td>\n",
       "      <td>0.000000</td>\n",
       "      <td>0.000000</td>\n",
       "      <td>0.000000</td>\n",
       "      <td>0.000000</td>\n",
       "      <td>0.000000</td>\n",
       "      <td>0.000000</td>\n",
       "      <td>0.000000</td>\n",
       "      <td>0.000000</td>\n",
       "      <td>0.000000</td>\n",
       "      <td>...</td>\n",
       "      <td>0.000000</td>\n",
       "      <td>0.000000</td>\n",
       "      <td>0.000000</td>\n",
       "      <td>0.000000</td>\n",
       "      <td>0.000000</td>\n",
       "      <td>0.000000</td>\n",
       "      <td>0.000000</td>\n",
       "      <td>0.000000</td>\n",
       "      <td>0.000000</td>\n",
       "      <td>0.000000</td>\n",
       "    </tr>\n",
       "    <tr>\n",
       "      <th>75%</th>\n",
       "      <td>0.000000</td>\n",
       "      <td>0.000000</td>\n",
       "      <td>0.000000</td>\n",
       "      <td>0.000000</td>\n",
       "      <td>0.000000</td>\n",
       "      <td>0.000000</td>\n",
       "      <td>0.000000</td>\n",
       "      <td>0.000000</td>\n",
       "      <td>0.000000</td>\n",
       "      <td>0.000000</td>\n",
       "      <td>...</td>\n",
       "      <td>0.000000</td>\n",
       "      <td>0.000000</td>\n",
       "      <td>0.000000</td>\n",
       "      <td>0.000000</td>\n",
       "      <td>0.000000</td>\n",
       "      <td>0.000000</td>\n",
       "      <td>0.000000</td>\n",
       "      <td>0.000000</td>\n",
       "      <td>0.000000</td>\n",
       "      <td>0.000000</td>\n",
       "    </tr>\n",
       "    <tr>\n",
       "      <th>max</th>\n",
       "      <td>1.000000</td>\n",
       "      <td>1.000000</td>\n",
       "      <td>1.000000</td>\n",
       "      <td>1.000000</td>\n",
       "      <td>1.000000</td>\n",
       "      <td>1.000000</td>\n",
       "      <td>1.000000</td>\n",
       "      <td>1.000000</td>\n",
       "      <td>1.000000</td>\n",
       "      <td>1.000000</td>\n",
       "      <td>...</td>\n",
       "      <td>1.000000</td>\n",
       "      <td>1.000000</td>\n",
       "      <td>1.000000</td>\n",
       "      <td>1.000000</td>\n",
       "      <td>1.000000</td>\n",
       "      <td>1.000000</td>\n",
       "      <td>1.000000</td>\n",
       "      <td>1.000000</td>\n",
       "      <td>1.000000</td>\n",
       "      <td>1.000000</td>\n",
       "    </tr>\n",
       "  </tbody>\n",
       "</table>\n",
       "<p>8 rows × 1554 columns</p>\n",
       "</div>"
      ],
      "text/plain": [
       "              4            5            6            7            8     \\\n",
       "count  3279.000000  3279.000000  3279.000000  3279.000000  3279.000000   \n",
       "mean      0.004270     0.011589     0.004575     0.003355     0.003965   \n",
       "std       0.065212     0.107042     0.067491     0.057831     0.062850   \n",
       "min       0.000000     0.000000     0.000000     0.000000     0.000000   \n",
       "25%       0.000000     0.000000     0.000000     0.000000     0.000000   \n",
       "50%       0.000000     0.000000     0.000000     0.000000     0.000000   \n",
       "75%       0.000000     0.000000     0.000000     0.000000     0.000000   \n",
       "max       1.000000     1.000000     1.000000     1.000000     1.000000   \n",
       "\n",
       "              9            10           11           12           13    \\\n",
       "count  3279.000000  3279.000000  3279.000000  3279.000000  3279.000000   \n",
       "mean      0.011589     0.003355     0.004880     0.009149     0.004575   \n",
       "std       0.107042     0.057831     0.069694     0.095227     0.067491   \n",
       "min       0.000000     0.000000     0.000000     0.000000     0.000000   \n",
       "25%       0.000000     0.000000     0.000000     0.000000     0.000000   \n",
       "50%       0.000000     0.000000     0.000000     0.000000     0.000000   \n",
       "75%       0.000000     0.000000     0.000000     0.000000     0.000000   \n",
       "max       1.000000     1.000000     1.000000     1.000000     1.000000   \n",
       "\n",
       "          ...              1548         1549         1550         1551  \\\n",
       "count     ...       3279.000000  3279.000000  3279.000000  3279.000000   \n",
       "mean      ...          0.006099     0.004575     0.003660     0.002440   \n",
       "std       ...          0.077872     0.067491     0.060393     0.049341   \n",
       "min       ...          0.000000     0.000000     0.000000     0.000000   \n",
       "25%       ...          0.000000     0.000000     0.000000     0.000000   \n",
       "50%       ...          0.000000     0.000000     0.000000     0.000000   \n",
       "75%       ...          0.000000     0.000000     0.000000     0.000000   \n",
       "max       ...          1.000000     1.000000     1.000000     1.000000   \n",
       "\n",
       "              1552         1553         1554         1555         1556  \\\n",
       "count  3279.000000  3279.000000  3279.000000  3279.000000  3279.000000   \n",
       "mean      0.003050     0.006404     0.012809     0.013419     0.009759   \n",
       "std       0.055148     0.079783     0.112466     0.115077     0.098320   \n",
       "min       0.000000     0.000000     0.000000     0.000000     0.000000   \n",
       "25%       0.000000     0.000000     0.000000     0.000000     0.000000   \n",
       "50%       0.000000     0.000000     0.000000     0.000000     0.000000   \n",
       "75%       0.000000     0.000000     0.000000     0.000000     0.000000   \n",
       "max       1.000000     1.000000     1.000000     1.000000     1.000000   \n",
       "\n",
       "              1557  \n",
       "count  3279.000000  \n",
       "mean      0.001525  \n",
       "std       0.039026  \n",
       "min       0.000000  \n",
       "25%       0.000000  \n",
       "50%       0.000000  \n",
       "75%       0.000000  \n",
       "max       1.000000  \n",
       "\n",
       "[8 rows x 1554 columns]"
      ]
     },
     "execution_count": 38,
     "metadata": {},
     "output_type": "execute_result"
    }
   ],
   "source": [
    "# 요약 정보\n",
    "data.describe()"
   ]
  },
  {
   "cell_type": "code",
   "execution_count": 39,
   "metadata": {},
   "outputs": [
    {
     "data": {
      "text/plain": [
       "Int64Index([   0,    1,    2,    3,    4,    5,    6,    7,    8,    9,\n",
       "            ...\n",
       "            1549, 1550, 1551, 1552, 1553, 1554, 1555, 1556, 1557, 1558],\n",
       "           dtype='int64', length=1559)"
      ]
     },
     "execution_count": 39,
     "metadata": {},
     "output_type": "execute_result"
    }
   ],
   "source": [
    "# 컬럼 이름 확인\n",
    "data.columns"
   ]
  },
  {
   "cell_type": "code",
   "execution_count": 40,
   "metadata": {},
   "outputs": [
    {
     "name": "stdout",
     "output_type": "stream",
     "text": [
      "0       object\n",
      "1       object\n",
      "2       object\n",
      "3       object\n",
      "4        int64\n",
      "5        int64\n",
      "6        int64\n",
      "7        int64\n",
      "8        int64\n",
      "9        int64\n",
      "10       int64\n",
      "11       int64\n",
      "12       int64\n",
      "13       int64\n",
      "14       int64\n",
      "15       int64\n",
      "16       int64\n",
      "17       int64\n",
      "18       int64\n",
      "19       int64\n",
      "20       int64\n",
      "21       int64\n",
      "22       int64\n",
      "23       int64\n",
      "24       int64\n",
      "25       int64\n",
      "26       int64\n",
      "27       int64\n",
      "28       int64\n",
      "29       int64\n",
      "         ...  \n",
      "1529     int64\n",
      "1530     int64\n",
      "1531     int64\n",
      "1532     int64\n",
      "1533     int64\n",
      "1534     int64\n",
      "1535     int64\n",
      "1536     int64\n",
      "1537     int64\n",
      "1538     int64\n",
      "1539     int64\n",
      "1540     int64\n",
      "1541     int64\n",
      "1542     int64\n",
      "1543     int64\n",
      "1544     int64\n",
      "1545     int64\n",
      "1546     int64\n",
      "1547     int64\n",
      "1548     int64\n",
      "1549     int64\n",
      "1550     int64\n",
      "1551     int64\n",
      "1552     int64\n",
      "1553     int64\n",
      "1554     int64\n",
      "1555     int64\n",
      "1556     int64\n",
      "1557     int64\n",
      "1558    object\n",
      "Length: 1559, dtype: object\n"
     ]
    }
   ],
   "source": [
    "# 컬럼의 데이터 타입\n",
    "print(data.dtypes)"
   ]
  },
  {
   "cell_type": "code",
   "execution_count": 41,
   "metadata": {},
   "outputs": [
    {
     "name": "stdout",
     "output_type": "stream",
     "text": [
      "0        125\n",
      "1        468\n",
      "2        230\n",
      "3        468\n",
      "4        468\n",
      "5        468\n",
      "6        460\n",
      "7        234\n",
      "8        468\n",
      "9        468\n",
      "10         ?\n",
      "11        52\n",
      "12        60\n",
      "13        60\n",
      "14       230\n",
      "15       468\n",
      "16       468\n",
      "17       125\n",
      "18       468\n",
      "19       585\n",
      "20        60\n",
      "21        60\n",
      "22        60\n",
      "23        60\n",
      "24         ?\n",
      "25        52\n",
      "26        60\n",
      "27       468\n",
      "28       234\n",
      "29       234\n",
      "        ... \n",
      "3249       ?\n",
      "3250       ?\n",
      "3251      16\n",
      "3252      75\n",
      "3253       ?\n",
      "3254     100\n",
      "3255       ?\n",
      "3256     175\n",
      "3257       ?\n",
      "3258       ?\n",
      "3259     600\n",
      "3260      64\n",
      "3261       ?\n",
      "3262     200\n",
      "3263      16\n",
      "3264     184\n",
      "3265      26\n",
      "3266     130\n",
      "3267     192\n",
      "3268     100\n",
      "3269       ?\n",
      "3270       ?\n",
      "3271       ?\n",
      "3272     110\n",
      "3273      30\n",
      "3274      94\n",
      "3275     140\n",
      "3276     120\n",
      "3277       ?\n",
      "3278      40\n",
      "Name: 1, Length: 3279, dtype: object\n",
      "-------\n",
      "        1   20\n",
      "0      125   0\n",
      "1      468   0\n",
      "2      230   0\n",
      "3      468   0\n",
      "4      468   0\n",
      "5      468   0\n",
      "6      460   0\n",
      "7      234   0\n",
      "8      468   0\n",
      "9      468   0\n",
      "10       ?   0\n",
      "11      52   0\n",
      "12      60   0\n",
      "13      60   0\n",
      "14     230   0\n",
      "15     468   0\n",
      "16     468   0\n",
      "17     125   0\n",
      "18     468   0\n",
      "19     585   0\n",
      "20      60   0\n",
      "21      60   0\n",
      "22      60   0\n",
      "23      60   0\n",
      "24       ?   0\n",
      "25      52   0\n",
      "26      60   0\n",
      "27     468   0\n",
      "28     234   0\n",
      "29     234   0\n",
      "...    ...  ..\n",
      "3249     ?   0\n",
      "3250     ?   0\n",
      "3251    16   0\n",
      "3252    75   0\n",
      "3253     ?   0\n",
      "3254   100   0\n",
      "3255     ?   0\n",
      "3256   175   0\n",
      "3257     ?   0\n",
      "3258     ?   0\n",
      "3259   600   0\n",
      "3260    64   0\n",
      "3261     ?   0\n",
      "3262   200   0\n",
      "3263    16   0\n",
      "3264   184   0\n",
      "3265    26   0\n",
      "3266   130   0\n",
      "3267   192   0\n",
      "3268   100   0\n",
      "3269     ?   0\n",
      "3270     ?   0\n",
      "3271     ?   0\n",
      "3272   110   0\n",
      "3273    30   0\n",
      "3274    94   0\n",
      "3275   140   0\n",
      "3276   120   0\n",
      "3277     ?   0\n",
      "3278    40   0\n",
      "\n",
      "[3279 rows x 2 columns]\n"
     ]
    }
   ],
   "source": [
    "# 컬럼 접근 방법\n",
    "#이름을 명시\n",
    "print(data[1])\n",
    "print('-------')\n",
    "print(data[[1,20]])"
   ]
  },
  {
   "cell_type": "code",
   "execution_count": 42,
   "metadata": {},
   "outputs": [
    {
     "data": {
      "text/plain": [
       "0     125\n",
       "1     468\n",
       "2     230\n",
       "3     468\n",
       "4     468\n",
       "Name: 1, dtype: object"
      ]
     },
     "execution_count": 42,
     "metadata": {},
     "output_type": "execute_result"
    }
   ],
   "source": [
    "# 내용확인\n",
    "data[1].head()"
   ]
  },
  {
   "cell_type": "code",
   "execution_count": 43,
   "metadata": {},
   "outputs": [
    {
     "data": {
      "text/plain": [
       "3269       ?\n",
       "3270       ?\n",
       "3271       ?\n",
       "3272     110\n",
       "3273      30\n",
       "3274      94\n",
       "3275     140\n",
       "3276     120\n",
       "3277       ?\n",
       "3278      40\n",
       "Name: 1, dtype: object"
      ]
     },
     "execution_count": 43,
     "metadata": {},
     "output_type": "execute_result"
    }
   ],
   "source": [
    "data[1].tail(10)"
   ]
  },
  {
   "cell_type": "code",
   "execution_count": 44,
   "metadata": {},
   "outputs": [
    {
     "data": {
      "text/html": [
       "<div>\n",
       "<style>\n",
       "    .dataframe thead tr:only-child th {\n",
       "        text-align: right;\n",
       "    }\n",
       "\n",
       "    .dataframe thead th {\n",
       "        text-align: left;\n",
       "    }\n",
       "\n",
       "    .dataframe tbody tr th {\n",
       "        vertical-align: top;\n",
       "    }\n",
       "</style>\n",
       "<table border=\"1\" class=\"dataframe\">\n",
       "  <thead>\n",
       "    <tr style=\"text-align: right;\">\n",
       "      <th></th>\n",
       "      <th>0</th>\n",
       "      <th>1</th>\n",
       "      <th>2</th>\n",
       "      <th>3</th>\n",
       "      <th>4</th>\n",
       "      <th>5</th>\n",
       "      <th>6</th>\n",
       "      <th>7</th>\n",
       "      <th>8</th>\n",
       "      <th>9</th>\n",
       "      <th>...</th>\n",
       "      <th>1549</th>\n",
       "      <th>1550</th>\n",
       "      <th>1551</th>\n",
       "      <th>1552</th>\n",
       "      <th>1553</th>\n",
       "      <th>1554</th>\n",
       "      <th>1555</th>\n",
       "      <th>1556</th>\n",
       "      <th>1557</th>\n",
       "      <th>1558</th>\n",
       "    </tr>\n",
       "  </thead>\n",
       "  <tbody>\n",
       "    <tr>\n",
       "      <th>1</th>\n",
       "      <td>57</td>\n",
       "      <td>468</td>\n",
       "      <td>8.2105</td>\n",
       "      <td>1</td>\n",
       "      <td>0</td>\n",
       "      <td>0</td>\n",
       "      <td>0</td>\n",
       "      <td>0</td>\n",
       "      <td>0</td>\n",
       "      <td>0</td>\n",
       "      <td>...</td>\n",
       "      <td>0</td>\n",
       "      <td>0</td>\n",
       "      <td>0</td>\n",
       "      <td>0</td>\n",
       "      <td>0</td>\n",
       "      <td>0</td>\n",
       "      <td>0</td>\n",
       "      <td>0</td>\n",
       "      <td>0</td>\n",
       "      <td>ad.</td>\n",
       "    </tr>\n",
       "    <tr>\n",
       "      <th>2</th>\n",
       "      <td>33</td>\n",
       "      <td>230</td>\n",
       "      <td>6.9696</td>\n",
       "      <td>1</td>\n",
       "      <td>0</td>\n",
       "      <td>0</td>\n",
       "      <td>0</td>\n",
       "      <td>0</td>\n",
       "      <td>0</td>\n",
       "      <td>0</td>\n",
       "      <td>...</td>\n",
       "      <td>0</td>\n",
       "      <td>0</td>\n",
       "      <td>0</td>\n",
       "      <td>0</td>\n",
       "      <td>0</td>\n",
       "      <td>0</td>\n",
       "      <td>0</td>\n",
       "      <td>0</td>\n",
       "      <td>0</td>\n",
       "      <td>ad.</td>\n",
       "    </tr>\n",
       "  </tbody>\n",
       "</table>\n",
       "<p>2 rows × 1559 columns</p>\n",
       "</div>"
      ],
      "text/plain": [
       "   0     1       2    3     4     5     6     7     8     9     ...   1549  \\\n",
       "1    57   468  8.2105    1     0     0     0     0     0     0  ...      0   \n",
       "2    33   230  6.9696    1     0     0     0     0     0     0  ...      0   \n",
       "\n",
       "   1550  1551  1552  1553  1554  1555  1556  1557  1558  \n",
       "1     0     0     0     0     0     0     0     0   ad.  \n",
       "2     0     0     0     0     0     0     0     0   ad.  \n",
       "\n",
       "[2 rows x 1559 columns]"
      ]
     },
     "execution_count": 44,
     "metadata": {},
     "output_type": "execute_result"
    }
   ],
   "source": [
    "# 데이터 자르기\n",
    "data[1:3]"
   ]
  },
  {
   "cell_type": "markdown",
   "metadata": {},
   "source": [
    "### 데이터 조작"
   ]
  },
  {
   "cell_type": "code",
   "execution_count": 45,
   "metadata": {},
   "outputs": [],
   "source": [
    "import numpy as np"
   ]
  },
  {
   "cell_type": "code",
   "execution_count": 46,
   "metadata": {},
   "outputs": [
    {
     "name": "stdout",
     "output_type": "stream",
     "text": [
      "      0     1       2    3     4     5     6     7     8     9      ...    \\\n",
      "0      125   125     1.0    1     0     0     0     0     0     0   ...     \n",
      "1       57   468  8.2105    1     0     0     0     0     0     0   ...     \n",
      "2       33   230  6.9696    1     0     0     0     0     0     0   ...     \n",
      "3       60   468     7.8    1     0     0     0     0     0     0   ...     \n",
      "4       60   468     7.8    1     0     0     0     0     0     0   ...     \n",
      "5       60   468     7.8    1     0     0     0     0     0     0   ...     \n",
      "6       59   460  7.7966    1     0     0     0     0     0     0   ...     \n",
      "7       60   234     3.9    1     0     0     0     0     0     0   ...     \n",
      "8       60   468     7.8    1     0     0     0     0     0     0   ...     \n",
      "9       60   468     7.8    1     0     0     0     0     0     0   ...     \n",
      "10     NaN   NaN     NaN    1     0     0     0     0     0     0   ...     \n",
      "11      90    52  0.5777    1     0     0     0     0     0     0   ...     \n",
      "12      90    60  0.6666    1     0     0     0     0     0     0   ...     \n",
      "13      90    60  0.6666    1     0     0     0     0     0     0   ...     \n",
      "14      33   230  6.9696    1     0     0     0     0     0     0   ...     \n",
      "15      60   468     7.8    1     0     0     0     0     0     0   ...     \n",
      "16      60   468     7.8    0     0     0     0     0     0     0   ...     \n",
      "17     125   125     1.0    1     0     0     0     0     0     0   ...     \n",
      "18      60   468     7.8    1     0     0     0     0     0     0   ...     \n",
      "19      30   585    19.5    1     0     0     0     0     0     0   ...     \n",
      "20      90    60  0.6666    1     0     0     0     0     0     0   ...     \n",
      "21      90    60  0.6666    1     0     0     0     0     0     0   ...     \n",
      "22      90    60  0.6666    1     0     0     0     0     0     0   ...     \n",
      "23      90    60  0.6666    1     0     0     0     0     0     0   ...     \n",
      "24     NaN   NaN     NaN    1     0     0     0     0     0     0   ...     \n",
      "25      90    52  0.5777    1     0     0     0     0     0     0   ...     \n",
      "26      90    60  0.6666    1     0     0     0     0     0     0   ...     \n",
      "27      60   468     7.8    1     0     0     0     0     0     0   ...     \n",
      "28      60   234     3.9    0     0     0     0     0     0     0   ...     \n",
      "29      60   234     3.9    0     0     0     0     0     0     0   ...     \n",
      "...    ...   ...     ...  ...   ...   ...   ...   ...   ...   ...   ...     \n",
      "3249   NaN   NaN     NaN    1     0     0     0     0     0     0   ...     \n",
      "3250   NaN   NaN     NaN    1     0     0     0     0     0     0   ...     \n",
      "3251    16    16     1.0    1     0     0     0     0     0     0   ...     \n",
      "3252    24    75   3.125    1     0     0     0     0     0     0   ...     \n",
      "3253   NaN   NaN     NaN    1     0     0     0     0     0     0   ...     \n",
      "3254    25   100     4.0    1     0     0     0     0     0     0   ...     \n",
      "3255   NaN   NaN     NaN    1     0     0     0     0     0     0   ...     \n",
      "3256    55   175  3.1818    1     0     0     0     0     0     0   ...     \n",
      "3257   NaN   NaN     NaN    1     0     0     0     0     0     0   ...     \n",
      "3258   NaN   NaN     NaN    1     0     0     0     0     0     0   ...     \n",
      "3259    10   600    60.0    1     0     0     0     0     0     0   ...     \n",
      "3260    11    64  5.8181    1     0     0     0     0     0     0   ...     \n",
      "3261   NaN   NaN     NaN    1     0     0     0     0     0     0   ...     \n",
      "3262   150   200  1.3333    1     0     0     0     0     0     0   ...     \n",
      "3263    16    16     1.0    1     0     0     0     0     0     0   ...     \n",
      "3264   134   184  1.3731    0     0     0     0     0     0     0   ...     \n",
      "3265    23    26  1.1304    1     0     0     0     0     0     0   ...     \n",
      "3266    40   130    3.25    1     0     0     0     0     0     0   ...     \n",
      "3267   158   192  1.2151    1     0     0     0     0     0     0   ...     \n",
      "3268    25   100     4.0    1     0     0     0     0     0     0   ...     \n",
      "3269   NaN   NaN     NaN    1     0     0     0     0     0     0   ...     \n",
      "3270   NaN   NaN     NaN    1     0     0     0     0     0     0   ...     \n",
      "3271   NaN   NaN     NaN    1     0     0     0     0     0     0   ...     \n",
      "3272   106   110  1.0377    1     0     0     0     0     0     0   ...     \n",
      "3273    30    30     1.0    0     0     0     0     0     0     0   ...     \n",
      "3274   170    94  0.5529    0     0     0     0     0     0     0   ...     \n",
      "3275   101   140  1.3861    1     0     0     0     0     0     0   ...     \n",
      "3276    23   120  5.2173    1     0     0     0     0     0     0   ...     \n",
      "3277   NaN   NaN     NaN    1     0     0     0     0     0     0   ...     \n",
      "3278    40    40     1.0    1     0     0     0     0     0     0   ...     \n",
      "\n",
      "      1549  1550  1551  1552  1553  1554  1555  1556  1557    1558  \n",
      "0        0     0     0     0     0     0     0     0     0     ad.  \n",
      "1        0     0     0     0     0     0     0     0     0     ad.  \n",
      "2        0     0     0     0     0     0     0     0     0     ad.  \n",
      "3        0     0     0     0     0     0     0     0     0     ad.  \n",
      "4        0     0     0     0     0     0     0     0     0     ad.  \n",
      "5        0     0     0     0     0     0     0     0     0     ad.  \n",
      "6        0     0     0     0     0     0     0     0     0     ad.  \n",
      "7        0     0     0     0     0     0     0     0     0     ad.  \n",
      "8        0     0     0     0     0     0     0     0     0     ad.  \n",
      "9        0     0     0     0     0     0     0     0     0     ad.  \n",
      "10       0     0     0     0     0     0     0     0     0     ad.  \n",
      "11       0     0     0     0     0     0     0     0     0     ad.  \n",
      "12       0     0     0     0     0     0     0     0     0     ad.  \n",
      "13       0     0     0     0     0     0     0     0     0     ad.  \n",
      "14       0     0     0     0     0     0     0     0     0     ad.  \n",
      "15       0     0     0     0     0     1     1     0     0     ad.  \n",
      "16       0     0     0     0     0     1     1     0     0     ad.  \n",
      "17       0     0     0     0     0     0     0     0     0     ad.  \n",
      "18       0     0     0     0     0     1     1     1     0     ad.  \n",
      "19       0     0     0     0     0     0     0     0     0     ad.  \n",
      "20       0     0     0     0     0     0     0     0     0     ad.  \n",
      "21       0     0     0     0     0     0     0     0     0     ad.  \n",
      "22       0     0     0     0     0     0     0     0     0     ad.  \n",
      "23       0     0     0     0     0     0     0     0     0     ad.  \n",
      "24       0     0     0     0     0     0     0     0     0     ad.  \n",
      "25       0     0     0     0     0     0     0     0     0     ad.  \n",
      "26       0     0     0     0     0     0     0     0     0     ad.  \n",
      "27       0     0     0     0     0     0     0     0     0     ad.  \n",
      "28       0     0     0     0     0     0     0     0     0     ad.  \n",
      "29       0     0     0     0     0     0     0     0     0     ad.  \n",
      "...    ...   ...   ...   ...   ...   ...   ...   ...   ...     ...  \n",
      "3249     0     0     0     0     0     0     0     0     0  nonad.  \n",
      "3250     0     0     0     0     0     0     0     0     0  nonad.  \n",
      "3251     0     0     0     0     0     0     0     0     0  nonad.  \n",
      "3252     0     0     0     0     0     0     0     0     0  nonad.  \n",
      "3253     0     0     0     0     0     0     0     0     0  nonad.  \n",
      "3254     0     0     0     0     0     0     0     0     0  nonad.  \n",
      "3255     0     0     0     0     0     0     0     0     0  nonad.  \n",
      "3256     0     0     0     0     0     0     0     0     0  nonad.  \n",
      "3257     0     0     0     0     0     0     0     0     0  nonad.  \n",
      "3258     0     0     0     0     0     0     0     0     0  nonad.  \n",
      "3259     0     0     0     0     0     0     0     0     0  nonad.  \n",
      "3260     0     0     0     0     0     0     0     0     0  nonad.  \n",
      "3261     0     0     0     0     0     0     0     0     0  nonad.  \n",
      "3262     0     0     0     0     0     0     0     0     0  nonad.  \n",
      "3263     0     0     0     0     0     0     0     0     0  nonad.  \n",
      "3264     0     0     0     0     0     0     0     0     0  nonad.  \n",
      "3265     0     0     0     0     0     0     0     0     0  nonad.  \n",
      "3266     0     0     0     0     0     0     0     0     0  nonad.  \n",
      "3267     0     0     0     0     0     0     0     0     0  nonad.  \n",
      "3268     0     0     0     0     0     0     0     0     0  nonad.  \n",
      "3269     0     0     0     0     0     0     0     0     0  nonad.  \n",
      "3270     0     0     0     0     0     0     0     0     0  nonad.  \n",
      "3271     0     0     0     0     0     0     0     0     0  nonad.  \n",
      "3272     0     0     0     0     0     0     0     0     0  nonad.  \n",
      "3273     0     0     0     0     0     0     0     0     0  nonad.  \n",
      "3274     0     0     0     0     0     0     0     0     0  nonad.  \n",
      "3275     0     0     0     0     0     0     0     0     0  nonad.  \n",
      "3276     0     0     0     0     0     0     0     0     0  nonad.  \n",
      "3277     0     0     0     0     0     0     0     0     0  nonad.  \n",
      "3278     0     0     0     0     0     0     0     0     0  nonad.  \n",
      "\n",
      "[3279 rows x 1559 columns]\n"
     ]
    }
   ],
   "source": [
    "# 누락 데이터 ? 를 Nan 으로 변경\n",
    "data=data.replace({'?': np.nan})\n",
    "data=data.replace({'  ?': np.nan})\n",
    "data=data.replace({'   ?': np.nan})\n",
    "data=data.replace({'    ?': np.nan})\n",
    "data=data.replace({'     ?': np.nan})\n",
    "print(data)"
   ]
  },
  {
   "cell_type": "code",
   "execution_count": 47,
   "metadata": {},
   "outputs": [
    {
     "data": {
      "text/plain": [
       "0       125.0\n",
       "1       468.0\n",
       "2       230.0\n",
       "3       468.0\n",
       "4       468.0\n",
       "5       468.0\n",
       "6       460.0\n",
       "7       234.0\n",
       "8       468.0\n",
       "9       468.0\n",
       "10        NaN\n",
       "11       52.0\n",
       "12       60.0\n",
       "13       60.0\n",
       "14      230.0\n",
       "15      468.0\n",
       "16      468.0\n",
       "17      125.0\n",
       "18      468.0\n",
       "19      585.0\n",
       "20       60.0\n",
       "21       60.0\n",
       "22       60.0\n",
       "23       60.0\n",
       "24        NaN\n",
       "25       52.0\n",
       "26       60.0\n",
       "27      468.0\n",
       "28      234.0\n",
       "29      234.0\n",
       "        ...  \n",
       "3249      NaN\n",
       "3250      NaN\n",
       "3251     16.0\n",
       "3252     75.0\n",
       "3253      NaN\n",
       "3254    100.0\n",
       "3255      NaN\n",
       "3256    175.0\n",
       "3257      NaN\n",
       "3258      NaN\n",
       "3259    600.0\n",
       "3260     64.0\n",
       "3261      NaN\n",
       "3262    200.0\n",
       "3263     16.0\n",
       "3264    184.0\n",
       "3265     26.0\n",
       "3266    130.0\n",
       "3267    192.0\n",
       "3268    100.0\n",
       "3269      NaN\n",
       "3270      NaN\n",
       "3271      NaN\n",
       "3272    110.0\n",
       "3273     30.0\n",
       "3274     94.0\n",
       "3275    140.0\n",
       "3276    120.0\n",
       "3277      NaN\n",
       "3278     40.0\n",
       "Name: 1, Length: 3279, dtype: float64"
      ]
     },
     "execution_count": 47,
     "metadata": {},
     "output_type": "execute_result"
    }
   ],
   "source": [
    "data[1] = data[1].astype(float)\n",
    "# 연산을 위해서 type 변경 Nan 은 int 변경 불가\n",
    "data[1]"
   ]
  },
  {
   "cell_type": "code",
   "execution_count": 48,
   "metadata": {},
   "outputs": [
    {
     "data": {
      "text/html": [
       "<div>\n",
       "<style>\n",
       "    .dataframe thead tr:only-child th {\n",
       "        text-align: right;\n",
       "    }\n",
       "\n",
       "    .dataframe thead th {\n",
       "        text-align: left;\n",
       "    }\n",
       "\n",
       "    .dataframe tbody tr th {\n",
       "        vertical-align: top;\n",
       "    }\n",
       "</style>\n",
       "<table border=\"1\" class=\"dataframe\">\n",
       "  <thead>\n",
       "    <tr style=\"text-align: right;\">\n",
       "      <th></th>\n",
       "      <th>0</th>\n",
       "      <th>1</th>\n",
       "      <th>2</th>\n",
       "      <th>3</th>\n",
       "      <th>4</th>\n",
       "      <th>5</th>\n",
       "      <th>6</th>\n",
       "      <th>7</th>\n",
       "      <th>8</th>\n",
       "      <th>9</th>\n",
       "      <th>...</th>\n",
       "      <th>1549</th>\n",
       "      <th>1550</th>\n",
       "      <th>1551</th>\n",
       "      <th>1552</th>\n",
       "      <th>1553</th>\n",
       "      <th>1554</th>\n",
       "      <th>1555</th>\n",
       "      <th>1556</th>\n",
       "      <th>1557</th>\n",
       "      <th>1558</th>\n",
       "    </tr>\n",
       "  </thead>\n",
       "  <tbody>\n",
       "    <tr>\n",
       "      <th>0</th>\n",
       "      <td>125</td>\n",
       "      <td>125.0</td>\n",
       "      <td>1.0</td>\n",
       "      <td>1</td>\n",
       "      <td>0</td>\n",
       "      <td>0</td>\n",
       "      <td>0</td>\n",
       "      <td>0</td>\n",
       "      <td>0</td>\n",
       "      <td>0</td>\n",
       "      <td>...</td>\n",
       "      <td>0</td>\n",
       "      <td>0</td>\n",
       "      <td>0</td>\n",
       "      <td>0</td>\n",
       "      <td>0</td>\n",
       "      <td>0</td>\n",
       "      <td>0</td>\n",
       "      <td>0</td>\n",
       "      <td>0</td>\n",
       "      <td>ad.</td>\n",
       "    </tr>\n",
       "    <tr>\n",
       "      <th>1</th>\n",
       "      <td>57</td>\n",
       "      <td>468.0</td>\n",
       "      <td>8.2105</td>\n",
       "      <td>1</td>\n",
       "      <td>0</td>\n",
       "      <td>0</td>\n",
       "      <td>0</td>\n",
       "      <td>0</td>\n",
       "      <td>0</td>\n",
       "      <td>0</td>\n",
       "      <td>...</td>\n",
       "      <td>0</td>\n",
       "      <td>0</td>\n",
       "      <td>0</td>\n",
       "      <td>0</td>\n",
       "      <td>0</td>\n",
       "      <td>0</td>\n",
       "      <td>0</td>\n",
       "      <td>0</td>\n",
       "      <td>0</td>\n",
       "      <td>ad.</td>\n",
       "    </tr>\n",
       "    <tr>\n",
       "      <th>2</th>\n",
       "      <td>33</td>\n",
       "      <td>230.0</td>\n",
       "      <td>6.9696</td>\n",
       "      <td>1</td>\n",
       "      <td>0</td>\n",
       "      <td>0</td>\n",
       "      <td>0</td>\n",
       "      <td>0</td>\n",
       "      <td>0</td>\n",
       "      <td>0</td>\n",
       "      <td>...</td>\n",
       "      <td>0</td>\n",
       "      <td>0</td>\n",
       "      <td>0</td>\n",
       "      <td>0</td>\n",
       "      <td>0</td>\n",
       "      <td>0</td>\n",
       "      <td>0</td>\n",
       "      <td>0</td>\n",
       "      <td>0</td>\n",
       "      <td>ad.</td>\n",
       "    </tr>\n",
       "    <tr>\n",
       "      <th>3</th>\n",
       "      <td>60</td>\n",
       "      <td>468.0</td>\n",
       "      <td>7.8</td>\n",
       "      <td>1</td>\n",
       "      <td>0</td>\n",
       "      <td>0</td>\n",
       "      <td>0</td>\n",
       "      <td>0</td>\n",
       "      <td>0</td>\n",
       "      <td>0</td>\n",
       "      <td>...</td>\n",
       "      <td>0</td>\n",
       "      <td>0</td>\n",
       "      <td>0</td>\n",
       "      <td>0</td>\n",
       "      <td>0</td>\n",
       "      <td>0</td>\n",
       "      <td>0</td>\n",
       "      <td>0</td>\n",
       "      <td>0</td>\n",
       "      <td>ad.</td>\n",
       "    </tr>\n",
       "  </tbody>\n",
       "</table>\n",
       "<p>4 rows × 1559 columns</p>\n",
       "</div>"
      ],
      "text/plain": [
       "   0      1       2    3     4     5     6     7     8     9     ...   1549  \\\n",
       "0   125  125.0     1.0    1     0     0     0     0     0     0  ...      0   \n",
       "1    57  468.0  8.2105    1     0     0     0     0     0     0  ...      0   \n",
       "2    33  230.0  6.9696    1     0     0     0     0     0     0  ...      0   \n",
       "3    60  468.0     7.8    1     0     0     0     0     0     0  ...      0   \n",
       "\n",
       "   1550  1551  1552  1553  1554  1555  1556  1557  1558  \n",
       "0     0     0     0     0     0     0     0     0   ad.  \n",
       "1     0     0     0     0     0     0     0     0   ad.  \n",
       "2     0     0     0     0     0     0     0     0   ad.  \n",
       "3     0     0     0     0     0     0     0     0   ad.  \n",
       "\n",
       "[4 rows x 1559 columns]"
      ]
     },
     "execution_count": 48,
     "metadata": {},
     "output_type": "execute_result"
    }
   ],
   "source": [
    "# 행 선택 인덱스 명시 또는 조건 명시\n",
    "data[data[1]>0].head(4)"
   ]
  },
  {
   "cell_type": "code",
   "execution_count": 49,
   "metadata": {},
   "outputs": [
    {
     "data": {
      "text/html": [
       "<div>\n",
       "<style>\n",
       "    .dataframe thead tr:only-child th {\n",
       "        text-align: right;\n",
       "    }\n",
       "\n",
       "    .dataframe thead th {\n",
       "        text-align: left;\n",
       "    }\n",
       "\n",
       "    .dataframe tbody tr th {\n",
       "        vertical-align: top;\n",
       "    }\n",
       "</style>\n",
       "<table border=\"1\" class=\"dataframe\">\n",
       "  <thead>\n",
       "    <tr style=\"text-align: right;\">\n",
       "      <th></th>\n",
       "      <th>0</th>\n",
       "      <th>1</th>\n",
       "      <th>2</th>\n",
       "      <th>3</th>\n",
       "      <th>4</th>\n",
       "      <th>5</th>\n",
       "      <th>6</th>\n",
       "      <th>7</th>\n",
       "      <th>8</th>\n",
       "      <th>9</th>\n",
       "      <th>...</th>\n",
       "      <th>1549</th>\n",
       "      <th>1550</th>\n",
       "      <th>1551</th>\n",
       "      <th>1552</th>\n",
       "      <th>1553</th>\n",
       "      <th>1554</th>\n",
       "      <th>1555</th>\n",
       "      <th>1556</th>\n",
       "      <th>1557</th>\n",
       "      <th>1558</th>\n",
       "    </tr>\n",
       "  </thead>\n",
       "  <tbody>\n",
       "    <tr>\n",
       "      <th>0</th>\n",
       "      <td>125</td>\n",
       "      <td>125.0</td>\n",
       "      <td>1.0</td>\n",
       "      <td>1</td>\n",
       "      <td>0</td>\n",
       "      <td>0</td>\n",
       "      <td>0</td>\n",
       "      <td>0</td>\n",
       "      <td>0</td>\n",
       "      <td>0</td>\n",
       "      <td>...</td>\n",
       "      <td>0</td>\n",
       "      <td>0</td>\n",
       "      <td>0</td>\n",
       "      <td>0</td>\n",
       "      <td>0</td>\n",
       "      <td>0</td>\n",
       "      <td>0</td>\n",
       "      <td>0</td>\n",
       "      <td>0</td>\n",
       "      <td>ad.</td>\n",
       "    </tr>\n",
       "    <tr>\n",
       "      <th>1</th>\n",
       "      <td>57</td>\n",
       "      <td>468.0</td>\n",
       "      <td>8.2105</td>\n",
       "      <td>1</td>\n",
       "      <td>0</td>\n",
       "      <td>0</td>\n",
       "      <td>0</td>\n",
       "      <td>0</td>\n",
       "      <td>0</td>\n",
       "      <td>0</td>\n",
       "      <td>...</td>\n",
       "      <td>0</td>\n",
       "      <td>0</td>\n",
       "      <td>0</td>\n",
       "      <td>0</td>\n",
       "      <td>0</td>\n",
       "      <td>0</td>\n",
       "      <td>0</td>\n",
       "      <td>0</td>\n",
       "      <td>0</td>\n",
       "      <td>ad.</td>\n",
       "    </tr>\n",
       "    <tr>\n",
       "      <th>2</th>\n",
       "      <td>33</td>\n",
       "      <td>230.0</td>\n",
       "      <td>6.9696</td>\n",
       "      <td>1</td>\n",
       "      <td>0</td>\n",
       "      <td>0</td>\n",
       "      <td>0</td>\n",
       "      <td>0</td>\n",
       "      <td>0</td>\n",
       "      <td>0</td>\n",
       "      <td>...</td>\n",
       "      <td>0</td>\n",
       "      <td>0</td>\n",
       "      <td>0</td>\n",
       "      <td>0</td>\n",
       "      <td>0</td>\n",
       "      <td>0</td>\n",
       "      <td>0</td>\n",
       "      <td>0</td>\n",
       "      <td>0</td>\n",
       "      <td>ad.</td>\n",
       "    </tr>\n",
       "    <tr>\n",
       "      <th>3</th>\n",
       "      <td>60</td>\n",
       "      <td>468.0</td>\n",
       "      <td>7.8</td>\n",
       "      <td>1</td>\n",
       "      <td>0</td>\n",
       "      <td>0</td>\n",
       "      <td>0</td>\n",
       "      <td>0</td>\n",
       "      <td>0</td>\n",
       "      <td>0</td>\n",
       "      <td>...</td>\n",
       "      <td>0</td>\n",
       "      <td>0</td>\n",
       "      <td>0</td>\n",
       "      <td>0</td>\n",
       "      <td>0</td>\n",
       "      <td>0</td>\n",
       "      <td>0</td>\n",
       "      <td>0</td>\n",
       "      <td>0</td>\n",
       "      <td>ad.</td>\n",
       "    </tr>\n",
       "  </tbody>\n",
       "</table>\n",
       "<p>4 rows × 1559 columns</p>\n",
       "</div>"
      ],
      "text/plain": [
       "   0      1       2    3     4     5     6     7     8     9     ...   1549  \\\n",
       "0   125  125.0     1.0    1     0     0     0     0     0     0  ...      0   \n",
       "1    57  468.0  8.2105    1     0     0     0     0     0     0  ...      0   \n",
       "2    33  230.0  6.9696    1     0     0     0     0     0     0  ...      0   \n",
       "3    60  468.0     7.8    1     0     0     0     0     0     0  ...      0   \n",
       "\n",
       "   1550  1551  1552  1553  1554  1555  1556  1557  1558  \n",
       "0     0     0     0     0     0     0     0     0   ad.  \n",
       "1     0     0     0     0     0     0     0     0   ad.  \n",
       "2     0     0     0     0     0     0     0     0   ad.  \n",
       "3     0     0     0     0     0     0     0     0   ad.  \n",
       "\n",
       "[4 rows x 1559 columns]"
      ]
     },
     "execution_count": 49,
     "metadata": {},
     "output_type": "execute_result"
    }
   ],
   "source": [
    "data[(data[1]> 0) & (data[1558]=='ad.')].head(4)"
   ]
  },
  {
   "cell_type": "code",
   "execution_count": 50,
   "metadata": {},
   "outputs": [
    {
     "name": "stderr",
     "output_type": "stream",
     "text": [
      "C:\\Users\\jhee\\Documents\\Anaconda3\\lib\\site-packages\\ipykernel_launcher.py:2: DeprecationWarning: \n",
      ".ix is deprecated. Please use\n",
      ".loc for label based indexing or\n",
      ".iloc for positional indexing\n",
      "\n",
      "See the documentation here:\n",
      "http://pandas.pydata.org/pandas-docs/stable/indexing.html#deprecate_ix\n",
      "  \n"
     ]
    },
    {
     "data": {
      "text/html": [
       "<div>\n",
       "<style>\n",
       "    .dataframe thead tr:only-child th {\n",
       "        text-align: right;\n",
       "    }\n",
       "\n",
       "    .dataframe thead th {\n",
       "        text-align: left;\n",
       "    }\n",
       "\n",
       "    .dataframe tbody tr th {\n",
       "        vertical-align: top;\n",
       "    }\n",
       "</style>\n",
       "<table border=\"1\" class=\"dataframe\">\n",
       "  <thead>\n",
       "    <tr style=\"text-align: right;\">\n",
       "      <th></th>\n",
       "      <th>0</th>\n",
       "      <th>1</th>\n",
       "      <th>2</th>\n",
       "      <th>3</th>\n",
       "      <th>4</th>\n",
       "      <th>5</th>\n",
       "      <th>6</th>\n",
       "      <th>7</th>\n",
       "      <th>8</th>\n",
       "      <th>9</th>\n",
       "      <th>...</th>\n",
       "      <th>1549</th>\n",
       "      <th>1550</th>\n",
       "      <th>1551</th>\n",
       "      <th>1552</th>\n",
       "      <th>1553</th>\n",
       "      <th>1554</th>\n",
       "      <th>1555</th>\n",
       "      <th>1556</th>\n",
       "      <th>1557</th>\n",
       "      <th>1558</th>\n",
       "    </tr>\n",
       "  </thead>\n",
       "  <tbody>\n",
       "    <tr>\n",
       "      <th>0</th>\n",
       "      <td>125</td>\n",
       "      <td>125.0</td>\n",
       "      <td>1.0</td>\n",
       "      <td>1</td>\n",
       "      <td>0</td>\n",
       "      <td>0</td>\n",
       "      <td>0</td>\n",
       "      <td>0</td>\n",
       "      <td>0</td>\n",
       "      <td>0</td>\n",
       "      <td>...</td>\n",
       "      <td>0</td>\n",
       "      <td>0</td>\n",
       "      <td>0</td>\n",
       "      <td>0</td>\n",
       "      <td>0</td>\n",
       "      <td>0</td>\n",
       "      <td>0</td>\n",
       "      <td>0</td>\n",
       "      <td>0</td>\n",
       "      <td>ad.</td>\n",
       "    </tr>\n",
       "    <tr>\n",
       "      <th>1</th>\n",
       "      <td>57</td>\n",
       "      <td>468.0</td>\n",
       "      <td>8.2105</td>\n",
       "      <td>1</td>\n",
       "      <td>0</td>\n",
       "      <td>0</td>\n",
       "      <td>0</td>\n",
       "      <td>0</td>\n",
       "      <td>0</td>\n",
       "      <td>0</td>\n",
       "      <td>...</td>\n",
       "      <td>0</td>\n",
       "      <td>0</td>\n",
       "      <td>0</td>\n",
       "      <td>0</td>\n",
       "      <td>0</td>\n",
       "      <td>0</td>\n",
       "      <td>0</td>\n",
       "      <td>0</td>\n",
       "      <td>0</td>\n",
       "      <td>ad.</td>\n",
       "    </tr>\n",
       "    <tr>\n",
       "      <th>2</th>\n",
       "      <td>33</td>\n",
       "      <td>230.0</td>\n",
       "      <td>6.9696</td>\n",
       "      <td>1</td>\n",
       "      <td>0</td>\n",
       "      <td>0</td>\n",
       "      <td>0</td>\n",
       "      <td>0</td>\n",
       "      <td>0</td>\n",
       "      <td>0</td>\n",
       "      <td>...</td>\n",
       "      <td>0</td>\n",
       "      <td>0</td>\n",
       "      <td>0</td>\n",
       "      <td>0</td>\n",
       "      <td>0</td>\n",
       "      <td>0</td>\n",
       "      <td>0</td>\n",
       "      <td>0</td>\n",
       "      <td>0</td>\n",
       "      <td>ad.</td>\n",
       "    </tr>\n",
       "    <tr>\n",
       "      <th>3</th>\n",
       "      <td>60</td>\n",
       "      <td>468.0</td>\n",
       "      <td>7.8</td>\n",
       "      <td>1</td>\n",
       "      <td>0</td>\n",
       "      <td>0</td>\n",
       "      <td>0</td>\n",
       "      <td>0</td>\n",
       "      <td>0</td>\n",
       "      <td>0</td>\n",
       "      <td>...</td>\n",
       "      <td>0</td>\n",
       "      <td>0</td>\n",
       "      <td>0</td>\n",
       "      <td>0</td>\n",
       "      <td>0</td>\n",
       "      <td>0</td>\n",
       "      <td>0</td>\n",
       "      <td>0</td>\n",
       "      <td>0</td>\n",
       "      <td>ad.</td>\n",
       "    </tr>\n",
       "  </tbody>\n",
       "</table>\n",
       "<p>4 rows × 1559 columns</p>\n",
       "</div>"
      ],
      "text/plain": [
       "   0      1       2    3     4     5     6     7     8     9     ...   1549  \\\n",
       "0   125  125.0     1.0    1     0     0     0     0     0     0  ...      0   \n",
       "1    57  468.0  8.2105    1     0     0     0     0     0     0  ...      0   \n",
       "2    33  230.0  6.9696    1     0     0     0     0     0     0  ...      0   \n",
       "3    60  468.0     7.8    1     0     0     0     0     0     0  ...      0   \n",
       "\n",
       "   1550  1551  1552  1553  1554  1555  1556  1557  1558  \n",
       "0     0     0     0     0     0     0     0     0   ad.  \n",
       "1     0     0     0     0     0     0     0     0   ad.  \n",
       "2     0     0     0     0     0     0     0     0   ad.  \n",
       "3     0     0     0     0     0     0     0     0   ad.  \n",
       "\n",
       "[4 rows x 1559 columns]"
      ]
     },
     "execution_count": 50,
     "metadata": {},
     "output_type": "execute_result"
    }
   ],
   "source": [
    "# ix 함수 : 인덱스를 지정해 행을 선택 \n",
    "data.ix[:3]"
   ]
  },
  {
   "cell_type": "code",
   "execution_count": 51,
   "metadata": {},
   "outputs": [
    {
     "data": {
      "text/html": [
       "<div>\n",
       "<style>\n",
       "    .dataframe thead tr:only-child th {\n",
       "        text-align: right;\n",
       "    }\n",
       "\n",
       "    .dataframe thead th {\n",
       "        text-align: left;\n",
       "    }\n",
       "\n",
       "    .dataframe tbody tr th {\n",
       "        vertical-align: top;\n",
       "    }\n",
       "</style>\n",
       "<table border=\"1\" class=\"dataframe\">\n",
       "  <thead>\n",
       "    <tr style=\"text-align: right;\">\n",
       "      <th></th>\n",
       "      <th>0</th>\n",
       "      <th>1</th>\n",
       "      <th>2</th>\n",
       "      <th>3</th>\n",
       "      <th>4</th>\n",
       "      <th>5</th>\n",
       "      <th>6</th>\n",
       "      <th>7</th>\n",
       "      <th>8</th>\n",
       "      <th>9</th>\n",
       "      <th>...</th>\n",
       "      <th>1549</th>\n",
       "      <th>1550</th>\n",
       "      <th>1551</th>\n",
       "      <th>1552</th>\n",
       "      <th>1553</th>\n",
       "      <th>1554</th>\n",
       "      <th>1555</th>\n",
       "      <th>1556</th>\n",
       "      <th>1557</th>\n",
       "      <th>1558</th>\n",
       "    </tr>\n",
       "  </thead>\n",
       "  <tbody>\n",
       "    <tr>\n",
       "      <th>0</th>\n",
       "      <td>125</td>\n",
       "      <td>125.0</td>\n",
       "      <td>1.0</td>\n",
       "      <td>1</td>\n",
       "      <td>0</td>\n",
       "      <td>0</td>\n",
       "      <td>0</td>\n",
       "      <td>0</td>\n",
       "      <td>0</td>\n",
       "      <td>0</td>\n",
       "      <td>...</td>\n",
       "      <td>0</td>\n",
       "      <td>0</td>\n",
       "      <td>0</td>\n",
       "      <td>0</td>\n",
       "      <td>0</td>\n",
       "      <td>0</td>\n",
       "      <td>0</td>\n",
       "      <td>0</td>\n",
       "      <td>0</td>\n",
       "      <td>ad.</td>\n",
       "    </tr>\n",
       "    <tr>\n",
       "      <th>1</th>\n",
       "      <td>57</td>\n",
       "      <td>468.0</td>\n",
       "      <td>8.2105</td>\n",
       "      <td>1</td>\n",
       "      <td>0</td>\n",
       "      <td>0</td>\n",
       "      <td>0</td>\n",
       "      <td>0</td>\n",
       "      <td>0</td>\n",
       "      <td>0</td>\n",
       "      <td>...</td>\n",
       "      <td>0</td>\n",
       "      <td>0</td>\n",
       "      <td>0</td>\n",
       "      <td>0</td>\n",
       "      <td>0</td>\n",
       "      <td>0</td>\n",
       "      <td>0</td>\n",
       "      <td>0</td>\n",
       "      <td>0</td>\n",
       "      <td>ad.</td>\n",
       "    </tr>\n",
       "    <tr>\n",
       "      <th>2</th>\n",
       "      <td>33</td>\n",
       "      <td>230.0</td>\n",
       "      <td>6.9696</td>\n",
       "      <td>1</td>\n",
       "      <td>0</td>\n",
       "      <td>0</td>\n",
       "      <td>0</td>\n",
       "      <td>0</td>\n",
       "      <td>0</td>\n",
       "      <td>0</td>\n",
       "      <td>...</td>\n",
       "      <td>0</td>\n",
       "      <td>0</td>\n",
       "      <td>0</td>\n",
       "      <td>0</td>\n",
       "      <td>0</td>\n",
       "      <td>0</td>\n",
       "      <td>0</td>\n",
       "      <td>0</td>\n",
       "      <td>0</td>\n",
       "      <td>ad.</td>\n",
       "    </tr>\n",
       "  </tbody>\n",
       "</table>\n",
       "<p>3 rows × 1559 columns</p>\n",
       "</div>"
      ],
      "text/plain": [
       "   0      1       2    3     4     5     6     7     8     9     ...   1549  \\\n",
       "0   125  125.0     1.0    1     0     0     0     0     0     0  ...      0   \n",
       "1    57  468.0  8.2105    1     0     0     0     0     0     0  ...      0   \n",
       "2    33  230.0  6.9696    1     0     0     0     0     0     0  ...      0   \n",
       "\n",
       "   1550  1551  1552  1553  1554  1555  1556  1557  1558  \n",
       "0     0     0     0     0     0     0     0     0   ad.  \n",
       "1     0     0     0     0     0     0     0     0   ad.  \n",
       "2     0     0     0     0     0     0     0     0   ad.  \n",
       "\n",
       "[3 rows x 1559 columns]"
      ]
     },
     "execution_count": 51,
     "metadata": {},
     "output_type": "execute_result"
    }
   ],
   "source": [
    "# iloc 함수 : xi 인덱스 레이블에 대해 실행 되지만 iloc 는 인덱스 위치에 대해 실행된다. \n",
    "data.iloc[:3]\n",
    "# ix 는 0 부터 레이블 3 이 나타날때까지 선택\n",
    "# iloc 는 DataFrame 에서 0 부터 위치 3 까지의 열을 선택한다. \n",
    "# (자르기 끝위치의 값은 포함되지 않는다.)"
   ]
  },
  {
   "cell_type": "code",
   "execution_count": 52,
   "metadata": {},
   "outputs": [
    {
     "data": {
      "text/html": [
       "<div>\n",
       "<style>\n",
       "    .dataframe thead tr:only-child th {\n",
       "        text-align: right;\n",
       "    }\n",
       "\n",
       "    .dataframe thead th {\n",
       "        text-align: left;\n",
       "    }\n",
       "\n",
       "    .dataframe tbody tr th {\n",
       "        vertical-align: top;\n",
       "    }\n",
       "</style>\n",
       "<table border=\"1\" class=\"dataframe\">\n",
       "  <thead>\n",
       "    <tr style=\"text-align: right;\">\n",
       "      <th></th>\n",
       "      <th>0</th>\n",
       "      <th>1</th>\n",
       "      <th>2</th>\n",
       "      <th>3</th>\n",
       "      <th>4</th>\n",
       "      <th>5</th>\n",
       "      <th>6</th>\n",
       "      <th>7</th>\n",
       "      <th>8</th>\n",
       "      <th>9</th>\n",
       "      <th>...</th>\n",
       "      <th>1549</th>\n",
       "      <th>1550</th>\n",
       "      <th>1551</th>\n",
       "      <th>1552</th>\n",
       "      <th>1553</th>\n",
       "      <th>1554</th>\n",
       "      <th>1555</th>\n",
       "      <th>1556</th>\n",
       "      <th>1557</th>\n",
       "      <th>1558</th>\n",
       "    </tr>\n",
       "  </thead>\n",
       "  <tbody>\n",
       "    <tr>\n",
       "      <th>0</th>\n",
       "      <td>125</td>\n",
       "      <td>125.0</td>\n",
       "      <td>1.0</td>\n",
       "      <td>1</td>\n",
       "      <td>0</td>\n",
       "      <td>0</td>\n",
       "      <td>0</td>\n",
       "      <td>0</td>\n",
       "      <td>0</td>\n",
       "      <td>0</td>\n",
       "      <td>...</td>\n",
       "      <td>0</td>\n",
       "      <td>0</td>\n",
       "      <td>0</td>\n",
       "      <td>0</td>\n",
       "      <td>0</td>\n",
       "      <td>0</td>\n",
       "      <td>0</td>\n",
       "      <td>0</td>\n",
       "      <td>0</td>\n",
       "      <td>ad.</td>\n",
       "    </tr>\n",
       "    <tr>\n",
       "      <th>1</th>\n",
       "      <td>57</td>\n",
       "      <td>468.0</td>\n",
       "      <td>8.2105</td>\n",
       "      <td>1</td>\n",
       "      <td>0</td>\n",
       "      <td>0</td>\n",
       "      <td>0</td>\n",
       "      <td>0</td>\n",
       "      <td>0</td>\n",
       "      <td>0</td>\n",
       "      <td>...</td>\n",
       "      <td>0</td>\n",
       "      <td>0</td>\n",
       "      <td>0</td>\n",
       "      <td>0</td>\n",
       "      <td>0</td>\n",
       "      <td>0</td>\n",
       "      <td>0</td>\n",
       "      <td>0</td>\n",
       "      <td>0</td>\n",
       "      <td>ad.</td>\n",
       "    </tr>\n",
       "    <tr>\n",
       "      <th>2</th>\n",
       "      <td>33</td>\n",
       "      <td>230.0</td>\n",
       "      <td>6.9696</td>\n",
       "      <td>1</td>\n",
       "      <td>0</td>\n",
       "      <td>0</td>\n",
       "      <td>0</td>\n",
       "      <td>0</td>\n",
       "      <td>0</td>\n",
       "      <td>0</td>\n",
       "      <td>...</td>\n",
       "      <td>0</td>\n",
       "      <td>0</td>\n",
       "      <td>0</td>\n",
       "      <td>0</td>\n",
       "      <td>0</td>\n",
       "      <td>0</td>\n",
       "      <td>0</td>\n",
       "      <td>0</td>\n",
       "      <td>0</td>\n",
       "      <td>ad.</td>\n",
       "    </tr>\n",
       "    <tr>\n",
       "      <th>3</th>\n",
       "      <td>60</td>\n",
       "      <td>468.0</td>\n",
       "      <td>7.8</td>\n",
       "      <td>1</td>\n",
       "      <td>0</td>\n",
       "      <td>0</td>\n",
       "      <td>0</td>\n",
       "      <td>0</td>\n",
       "      <td>0</td>\n",
       "      <td>0</td>\n",
       "      <td>...</td>\n",
       "      <td>0</td>\n",
       "      <td>0</td>\n",
       "      <td>0</td>\n",
       "      <td>0</td>\n",
       "      <td>0</td>\n",
       "      <td>0</td>\n",
       "      <td>0</td>\n",
       "      <td>0</td>\n",
       "      <td>0</td>\n",
       "      <td>ad.</td>\n",
       "    </tr>\n",
       "  </tbody>\n",
       "</table>\n",
       "<p>4 rows × 1559 columns</p>\n",
       "</div>"
      ],
      "text/plain": [
       "   0      1       2    3     4     5     6     7     8     9     ...   1549  \\\n",
       "0   125  125.0     1.0    1     0     0     0     0     0     0  ...      0   \n",
       "1    57  468.0  8.2105    1     0     0     0     0     0     0  ...      0   \n",
       "2    33  230.0  6.9696    1     0     0     0     0     0     0  ...      0   \n",
       "3    60  468.0     7.8    1     0     0     0     0     0     0  ...      0   \n",
       "\n",
       "   1550  1551  1552  1553  1554  1555  1556  1557  1558  \n",
       "0     0     0     0     0     0     0     0     0   ad.  \n",
       "1     0     0     0     0     0     0     0     0   ad.  \n",
       "2     0     0     0     0     0     0     0     0   ad.  \n",
       "3     0     0     0     0     0     0     0     0   ad.  \n",
       "\n",
       "[4 rows x 1559 columns]"
      ]
     },
     "execution_count": 52,
     "metadata": {},
     "output_type": "execute_result"
    }
   ],
   "source": [
    "# 시작과 끝행이 결과에 포함\n",
    "data.loc[:3]"
   ]
  },
  {
   "cell_type": "code",
   "execution_count": 53,
   "metadata": {},
   "outputs": [
    {
     "name": "stdout",
     "output_type": "stream",
     "text": [
      "0    0\n",
      "1    0\n",
      "2    0\n",
      "3    0\n",
      "4    0\n",
      "Name: 1547, dtype: int64\n"
     ]
    }
   ],
   "source": [
    "# 컬럼 전체를 하나의 값으로\n",
    "data[1547] = 0\n",
    "print(data[1547].head())"
   ]
  },
  {
   "cell_type": "code",
   "execution_count": 54,
   "metadata": {},
   "outputs": [
    {
     "name": "stdout",
     "output_type": "stream",
     "text": [
      "0.0\n"
     ]
    }
   ],
   "source": [
    "# 특정 셀을 원하는 값으로\n",
    "data.ix[3,1]=0\n",
    "print(data.ix[3,1])"
   ]
  },
  {
   "cell_type": "code",
   "execution_count": 55,
   "metadata": {},
   "outputs": [
    {
     "name": "stdout",
     "output_type": "stream",
     "text": [
      "0         1\n",
      "1         0\n",
      "2         0\n",
      "3         1\n",
      "4         1\n",
      "5         0\n",
      "6         1\n",
      "7         1\n",
      "8         0\n",
      "9         1\n",
      "10        0\n",
      "11        1\n",
      "12        1\n",
      "13        0\n",
      "14        0\n",
      "15        0\n",
      "16        0\n",
      "17        0\n",
      "18        1\n",
      "19        1\n",
      "20        0\n",
      "21        0\n",
      "22        1\n",
      "23        1\n",
      "24        0\n",
      "25        1\n",
      "26        1\n",
      "27        0\n",
      "28        1\n",
      "29        0\n",
      "       ... \n",
      "1529      0\n",
      "1530      1\n",
      "1531      1\n",
      "1532      0\n",
      "1533      1\n",
      "1534      1\n",
      "1535      0\n",
      "1536      1\n",
      "1537      0\n",
      "1538      1\n",
      "1539      1\n",
      "1540      1\n",
      "1541      0\n",
      "1542      0\n",
      "1543      0\n",
      "1544      1\n",
      "1545      1\n",
      "1546      0\n",
      "1547      0\n",
      "1548      1\n",
      "1549      1\n",
      "1550      1\n",
      "1551      1\n",
      "1552      1\n",
      "1553      0\n",
      "1554      0\n",
      "1555      0\n",
      "1556      1\n",
      "1557      0\n",
      "1558    ad.\n",
      "Name: 0, Length: 1559, dtype: object\n"
     ]
    }
   ],
   "source": [
    "# 전체 행을 값의 집합으로 지정 \n",
    "import random\n",
    "data.ix[0] = [random.randint(0,1) for r in range(1558)]+['ad.']\n",
    "print(data.ix[0])"
   ]
  },
  {
   "cell_type": "code",
   "execution_count": 56,
   "metadata": {},
   "outputs": [
    {
     "name": "stdout",
     "output_type": "stream",
     "text": [
      "      0      1       2    3     4     5     6     7     8     9      ...    \\\n",
      "0        1    0.0       0    1     1     0     1     1     0     1   ...     \n",
      "1       57  468.0  8.2105    1     0     0     0     0     0     0   ...     \n",
      "2       33  230.0  6.9696    1     0     0     0     0     0     0   ...     \n",
      "3       60    0.0     7.8    1     0     0     0     0     0     0   ...     \n",
      "4       60  468.0     7.8    1     0     0     0     0     0     0   ...     \n",
      "5       60  468.0     7.8    1     0     0     0     0     0     0   ...     \n",
      "6       59  460.0  7.7966    1     0     0     0     0     0     0   ...     \n",
      "7       60  234.0     3.9    1     0     0     0     0     0     0   ...     \n",
      "8       60  468.0     7.8    1     0     0     0     0     0     0   ...     \n",
      "9       60  468.0     7.8    1     0     0     0     0     0     0   ...     \n",
      "10     NaN    NaN     NaN    1     0     0     0     0     0     0   ...     \n",
      "11      90   52.0  0.5777    1     0     0     0     0     0     0   ...     \n",
      "12      90   60.0  0.6666    1     0     0     0     0     0     0   ...     \n",
      "13      90   60.0  0.6666    1     0     0     0     0     0     0   ...     \n",
      "14      33  230.0  6.9696    1     0     0     0     0     0     0   ...     \n",
      "15      60  468.0     7.8    1     0     0     0     0     0     0   ...     \n",
      "16      60  468.0     7.8    0     0     0     0     0     0     0   ...     \n",
      "17     125  125.0     1.0    1     0     0     0     0     0     0   ...     \n",
      "18      60  468.0     7.8    1     0     0     0     0     0     0   ...     \n",
      "19      30  585.0    19.5    1     0     0     0     0     0     0   ...     \n",
      "20      90   60.0  0.6666    1     0     0     0     0     0     0   ...     \n",
      "21      90   60.0  0.6666    1     0     0     0     0     0     0   ...     \n",
      "22      90   60.0  0.6666    1     0     0     0     0     0     0   ...     \n",
      "23      90   60.0  0.6666    1     0     0     0     0     0     0   ...     \n",
      "24     NaN    NaN     NaN    1     0     0     0     0     0     0   ...     \n",
      "25      90   52.0  0.5777    1     0     0     0     0     0     0   ...     \n",
      "26      90   60.0  0.6666    1     0     0     0     0     0     0   ...     \n",
      "27      60  468.0     7.8    1     0     0     0     0     0     0   ...     \n",
      "28      60  234.0     3.9    0     0     0     0     0     0     0   ...     \n",
      "29      60  234.0     3.9    0     0     0     0     0     0     0   ...     \n",
      "...    ...    ...     ...  ...   ...   ...   ...   ...   ...   ...   ...     \n",
      "3250   NaN    NaN     NaN    1     0     0     0     0     0     0   ...     \n",
      "3251    16   16.0     1.0    1     0     0     0     0     0     0   ...     \n",
      "3252    24   75.0   3.125    1     0     0     0     0     0     0   ...     \n",
      "3253   NaN    NaN     NaN    1     0     0     0     0     0     0   ...     \n",
      "3254    25  100.0     4.0    1     0     0     0     0     0     0   ...     \n",
      "3255   NaN    NaN     NaN    1     0     0     0     0     0     0   ...     \n",
      "3256    55  175.0  3.1818    1     0     0     0     0     0     0   ...     \n",
      "3257   NaN    NaN     NaN    1     0     0     0     0     0     0   ...     \n",
      "3258   NaN    NaN     NaN    1     0     0     0     0     0     0   ...     \n",
      "3259    10  600.0    60.0    1     0     0     0     0     0     0   ...     \n",
      "3260    11   64.0  5.8181    1     0     0     0     0     0     0   ...     \n",
      "3261   NaN    NaN     NaN    1     0     0     0     0     0     0   ...     \n",
      "3262   150  200.0  1.3333    1     0     0     0     0     0     0   ...     \n",
      "3263    16   16.0     1.0    1     0     0     0     0     0     0   ...     \n",
      "3264   134  184.0  1.3731    0     0     0     0     0     0     0   ...     \n",
      "3265    23   26.0  1.1304    1     0     0     0     0     0     0   ...     \n",
      "3266    40  130.0    3.25    1     0     0     0     0     0     0   ...     \n",
      "3267   158  192.0  1.2151    1     0     0     0     0     0     0   ...     \n",
      "3268    25  100.0     4.0    1     0     0     0     0     0     0   ...     \n",
      "3269   NaN    NaN     NaN    1     0     0     0     0     0     0   ...     \n",
      "3270   NaN    NaN     NaN    1     0     0     0     0     0     0   ...     \n",
      "3271   NaN    NaN     NaN    1     0     0     0     0     0     0   ...     \n",
      "3272   106  110.0  1.0377    1     0     0     0     0     0     0   ...     \n",
      "3273    30   30.0     1.0    0     0     0     0     0     0     0   ...     \n",
      "3274   170   94.0  0.5529    0     0     0     0     0     0     0   ...     \n",
      "3275   101  140.0  1.3861    1     0     0     0     0     0     0   ...     \n",
      "3276    23  120.0  5.2173    1     0     0     0     0     0     0   ...     \n",
      "3277   NaN    NaN     NaN    1     0     0     0     0     0     0   ...     \n",
      "3278    40   40.0     1.0    1     0     0     0     0     0     0   ...     \n",
      "3279     0    1.0       0    0     0     1     1     1     1     0   ...     \n",
      "\n",
      "      1549  1550  1551  1552  1553  1554  1555  1556  1557    1558  \n",
      "0        1     1     1     1     0     0     0     1     0     ad.  \n",
      "1        0     0     0     0     0     0     0     0     0     ad.  \n",
      "2        0     0     0     0     0     0     0     0     0     ad.  \n",
      "3        0     0     0     0     0     0     0     0     0     ad.  \n",
      "4        0     0     0     0     0     0     0     0     0     ad.  \n",
      "5        0     0     0     0     0     0     0     0     0     ad.  \n",
      "6        0     0     0     0     0     0     0     0     0     ad.  \n",
      "7        0     0     0     0     0     0     0     0     0     ad.  \n",
      "8        0     0     0     0     0     0     0     0     0     ad.  \n",
      "9        0     0     0     0     0     0     0     0     0     ad.  \n",
      "10       0     0     0     0     0     0     0     0     0     ad.  \n",
      "11       0     0     0     0     0     0     0     0     0     ad.  \n",
      "12       0     0     0     0     0     0     0     0     0     ad.  \n",
      "13       0     0     0     0     0     0     0     0     0     ad.  \n",
      "14       0     0     0     0     0     0     0     0     0     ad.  \n",
      "15       0     0     0     0     0     1     1     0     0     ad.  \n",
      "16       0     0     0     0     0     1     1     0     0     ad.  \n",
      "17       0     0     0     0     0     0     0     0     0     ad.  \n",
      "18       0     0     0     0     0     1     1     1     0     ad.  \n",
      "19       0     0     0     0     0     0     0     0     0     ad.  \n",
      "20       0     0     0     0     0     0     0     0     0     ad.  \n",
      "21       0     0     0     0     0     0     0     0     0     ad.  \n",
      "22       0     0     0     0     0     0     0     0     0     ad.  \n",
      "23       0     0     0     0     0     0     0     0     0     ad.  \n",
      "24       0     0     0     0     0     0     0     0     0     ad.  \n",
      "25       0     0     0     0     0     0     0     0     0     ad.  \n",
      "26       0     0     0     0     0     0     0     0     0     ad.  \n",
      "27       0     0     0     0     0     0     0     0     0     ad.  \n",
      "28       0     0     0     0     0     0     0     0     0     ad.  \n",
      "29       0     0     0     0     0     0     0     0     0     ad.  \n",
      "...    ...   ...   ...   ...   ...   ...   ...   ...   ...     ...  \n",
      "3250     0     0     0     0     0     0     0     0     0  nonad.  \n",
      "3251     0     0     0     0     0     0     0     0     0  nonad.  \n",
      "3252     0     0     0     0     0     0     0     0     0  nonad.  \n",
      "3253     0     0     0     0     0     0     0     0     0  nonad.  \n",
      "3254     0     0     0     0     0     0     0     0     0  nonad.  \n",
      "3255     0     0     0     0     0     0     0     0     0  nonad.  \n",
      "3256     0     0     0     0     0     0     0     0     0  nonad.  \n",
      "3257     0     0     0     0     0     0     0     0     0  nonad.  \n",
      "3258     0     0     0     0     0     0     0     0     0  nonad.  \n",
      "3259     0     0     0     0     0     0     0     0     0  nonad.  \n",
      "3260     0     0     0     0     0     0     0     0     0  nonad.  \n",
      "3261     0     0     0     0     0     0     0     0     0  nonad.  \n",
      "3262     0     0     0     0     0     0     0     0     0  nonad.  \n",
      "3263     0     0     0     0     0     0     0     0     0  nonad.  \n",
      "3264     0     0     0     0     0     0     0     0     0  nonad.  \n",
      "3265     0     0     0     0     0     0     0     0     0  nonad.  \n",
      "3266     0     0     0     0     0     0     0     0     0  nonad.  \n",
      "3267     0     0     0     0     0     0     0     0     0  nonad.  \n",
      "3268     0     0     0     0     0     0     0     0     0  nonad.  \n",
      "3269     0     0     0     0     0     0     0     0     0  nonad.  \n",
      "3270     0     0     0     0     0     0     0     0     0  nonad.  \n",
      "3271     0     0     0     0     0     0     0     0     0  nonad.  \n",
      "3272     0     0     0     0     0     0     0     0     0  nonad.  \n",
      "3273     0     0     0     0     0     0     0     0     0  nonad.  \n",
      "3274     0     0     0     0     0     0     0     0     0  nonad.  \n",
      "3275     0     0     0     0     0     0     0     0     0  nonad.  \n",
      "3276     0     0     0     0     0     0     0     0     0  nonad.  \n",
      "3277     0     0     0     0     0     0     0     0     0  nonad.  \n",
      "3278     0     0     0     0     0     0     0     0     0  nonad.  \n",
      "3279     1     0     0     0     0     1     1     1     1     ad.  \n",
      "\n",
      "[3280 rows x 1559 columns]\n"
     ]
    }
   ],
   "source": [
    "# 배열을 Series 객체로 변환해 DataFrame 마지막 행에 추가\n",
    "row = [random.randint(0,1) for r in range(1558)]+['ad.']\n",
    "data = data.append(pd.Series(row,index = data.columns),ignore_index=True)\n",
    "print(data)"
   ]
  },
  {
   "cell_type": "code",
   "execution_count": 57,
   "metadata": {
    "collapsed": true
   },
   "outputs": [],
   "source": [
    "# loc 함수로 마지막 라인에 행 추가 \n",
    "data.loc[len(data)] = row"
   ]
  },
  {
   "cell_type": "code",
   "execution_count": 58,
   "metadata": {},
   "outputs": [
    {
     "data": {
      "text/plain": [
       "Index([          0,           1,           2,           3,           4,\n",
       "                 5,           6,           7,           8,           9,\n",
       "       ...\n",
       "              1550,        1551,        1552,        1553,        1554,\n",
       "              1555,        1556,        1557,        1558, 'newcolumn'],\n",
       "      dtype='object', length=1560)"
      ]
     },
     "execution_count": 58,
     "metadata": {},
     "output_type": "execute_result"
    }
   ],
   "source": [
    "# DataFrame 에 새 컬럼 이름으로 추가 \n",
    "data['newcolumn'] = 'test value'\n",
    "data.columns"
   ]
  },
  {
   "cell_type": "code",
   "execution_count": 59,
   "metadata": {},
   "outputs": [
    {
     "data": {
      "text/plain": [
       "Index([   0,    1,    2,    3,    4,    5,    6,    7,    8,    9,\n",
       "       ...\n",
       "       1549, 1550, 1551, 1552, 1553, 1554, 1555, 1556, 1557, 1558],\n",
       "      dtype='object', length=1559)"
      ]
     },
     "execution_count": 59,
     "metadata": {},
     "output_type": "execute_result"
    }
   ],
   "source": [
    "# drop 컬럼 지우기 \n",
    "data = data.drop('newcolumn', 1)\n",
    "data.columns"
   ]
  },
  {
   "cell_type": "code",
   "execution_count": 60,
   "metadata": {},
   "outputs": [
    {
     "data": {
      "text/plain": [
       "0    False\n",
       "1    False\n",
       "2    False\n",
       "3    False\n",
       "4    False\n",
       "dtype: bool"
      ]
     },
     "execution_count": 60,
     "metadata": {},
     "output_type": "execute_result"
    }
   ],
   "source": [
    "# 중복 여부 체크\n",
    "data.duplicated().head()"
   ]
  },
  {
   "cell_type": "code",
   "execution_count": 61,
   "metadata": {},
   "outputs": [
    {
     "data": {
      "text/plain": [
       "0         ad.\n",
       "459    nonad.\n",
       "Name: 1558, dtype: object"
      ]
     },
     "execution_count": 61,
     "metadata": {},
     "output_type": "execute_result"
    }
   ],
   "source": [
    "# 유일 값으로 구성된 DataFrame 반환\n",
    "data[1558].drop_duplicates()"
   ]
  },
  {
   "cell_type": "code",
   "execution_count": 62,
   "metadata": {},
   "outputs": [
    {
     "data": {
      "text/plain": [
       "['ad.', 'nonad.']"
      ]
     },
     "execution_count": 62,
     "metadata": {},
     "output_type": "execute_result"
    }
   ],
   "source": [
    "# 반환된 결과를 리스트로 변환\n",
    "data[1558].drop_duplicates().tolist()"
   ]
  },
  {
   "cell_type": "code",
   "execution_count": 63,
   "metadata": {},
   "outputs": [
    {
     "name": "stdout",
     "output_type": "stream",
     "text": [
      "   0      1       2    3     4     5     6     7     8     9     ...   1549  \\\n",
      "0     1    0.0       0    1     1     0     1     1     0     1  ...      1   \n",
      "1    57  468.0  8.2105    1     0     0     0     0     0     0  ...      0   \n",
      "2    33  230.0  6.9696    1     0     0     0     0     0     0  ...      0   \n",
      "3    60    0.0     7.8    1     0     0     0     0     0     0  ...      0   \n",
      "4    60  468.0     7.8    1     0     0     0     0     0     0  ...      0   \n",
      "\n",
      "   1550  1551  1552  1553  1554  1555  1556  1557  1558  \n",
      "0     1     1     1     0     0     0     1     0     1  \n",
      "1     0     0     0     0     0     0     0     0     1  \n",
      "2     0     0     0     0     0     0     0     0     1  \n",
      "3     0     0     0     0     0     0     0     0     1  \n",
      "4     0     0     0     0     0     0     0     0     1  \n",
      "\n",
      "[5 rows x 1559 columns]\n"
     ]
    }
   ],
   "source": [
    "# 레이블을 숫자로 변환\n",
    "adindices = data[data.columns[-1]]== 'ad.'\n",
    "data.loc[adindices,data.columns[-1]]=1\n",
    "nonadindices = data[data.columns[-1]]=='nonad.'\n",
    "data.loc[nonadindices,data.columns[-1]]=0\n",
    "print(data.head())"
   ]
  },
  {
   "cell_type": "code",
   "execution_count": 64,
   "metadata": {},
   "outputs": [
    {
     "name": "stdout",
     "output_type": "stream",
     "text": [
      "object\n",
      "0    1.0\n",
      "1    1.0\n",
      "2    1.0\n",
      "3    1.0\n",
      "4    1.0\n",
      "Name: 1558, dtype: float64\n"
     ]
    }
   ],
   "source": [
    "# 레이블 컬럼(Object)을 float 타입으로 변경 \n",
    "print(data[1558].dtypes)\n",
    "data[data.columns[-1]]=data[data.columns[-1]].astype(float)\n",
    "print(data[data.columns[-1]].head())"
   ]
  },
  {
   "cell_type": "code",
   "execution_count": 65,
   "metadata": {},
   "outputs": [
    {
     "name": "stdout",
     "output_type": "stream",
     "text": [
      "   0      1       2    3     4     5     6     7     8     9     ...   1549  \\\n",
      "0     1    0.0       0    1     1     0     1     1     0     1  ...      1   \n",
      "1    57  468.0  8.2105    1     0     0     0     0     0     0  ...      0   \n",
      "2    33  230.0  6.9696    1     0     0     0     0     0     0  ...      0   \n",
      "3    60    0.0     7.8    1     0     0     0     0     0     0  ...      0   \n",
      "4    60  468.0     7.8    1     0     0     0     0     0     0  ...      0   \n",
      "\n",
      "   1550  1551  1552  1553  1554  1555  1556  1557  1558  \n",
      "0     1     1     1     0     0     0     1     0   1.0  \n",
      "1     0     0     0     0     0     0     0     0   1.0  \n",
      "2     0     0     0     0     0     0     0     0   1.0  \n",
      "3     0     0     0     0     0     0     0     0   1.0  \n",
      "4     0     0     0     0     0     0     0     0   1.0  \n",
      "\n",
      "[5 rows x 1559 columns]\n",
      "   0      1       2    3     4     5     6     7     8     9     ...   1549  \\\n",
      "0     1    0.0       0    1     1     0     1     1     0     1  ...      1   \n",
      "1    57  468.0  8.2105    1     0     0     0     0     0     0  ...      0   \n",
      "2    33  230.0  6.9696    1     0     0     0     0     0     0  ...      0   \n",
      "3    60    0.0     7.8    1     0     0     0     0     0     0  ...      0   \n",
      "4    60  468.0     7.8    1     0     0     0     0     0     0  ...      0   \n",
      "\n",
      "   1550  1551  1552  1553  1554  1555  1556  1557  1558  \n",
      "0     1     1     1     0     0     0     1     0   1.0  \n",
      "1     0     0     0     0     0     0     0     0   1.0  \n",
      "2     0     0     0     0     0     0     0     0   1.0  \n",
      "3     0     0     0     0     0     0     0     0   1.0  \n",
      "4     0     0     0     0     0     0     0     0   1.0  \n",
      "\n",
      "[5 rows x 1559 columns]\n"
     ]
    }
   ],
   "source": [
    "# 누락데이터 처리 \n",
    "# 2. 빈 항목 채우기\n",
    "data=data.fillna(-1)\n",
    "print(data.head())\n",
    "# 1. 누락데이터 행 제거\n",
    "data=data.dropna()\n",
    "print(data.head())"
   ]
  },
  {
   "cell_type": "code",
   "execution_count": 66,
   "metadata": {},
   "outputs": [],
   "source": [
    "# astype 전체 칼럼을 float 타입으로 바꿈 \n",
    "# apply 함수는 특정 축을 따라 함수를 적용 default index 축\n",
    "data=data.apply(lambda x: pd.to_numeric(x))\n",
    "# to_numeric 는 x 를 가장 비슷한 타입으로 바꿈 "
   ]
  },
  {
   "cell_type": "code",
   "execution_count": 67,
   "metadata": {},
   "outputs": [],
   "source": [
    "# 두 Dataframe 결합 \n",
    "data1 = pd.DataFrame(columns=[i for i in range(1559)])\n",
    "data1.loc[len(data1)] = [np.random.randint(0,1) for r in range(1558)]+[1]\n",
    "data1.loc[len(data1)] = [np.random.randint(0,1) for r in range(1558)]+[1]"
   ]
  },
  {
   "cell_type": "code",
   "execution_count": 68,
   "metadata": {},
   "outputs": [
    {
     "name": "stdout",
     "output_type": "stream",
     "text": [
      "3281\n"
     ]
    },
    {
     "data": {
      "text/plain": [
       "3283"
      ]
     },
     "execution_count": 68,
     "metadata": {},
     "output_type": "execute_result"
    }
   ],
   "source": [
    "# 새롭게 만들어진 테이블 datal 두개의 행으로 구성 원래 data 와 concat 함수를 통해서 병합 아래에 datal 행이 붙음 \n",
    "print(len(data))\n",
    "datatot = pd.concat([data[:],data1[:]])\n",
    "len(datatot)"
   ]
  },
  {
   "cell_type": "markdown",
   "metadata": {},
   "source": [
    "# Matplotlib 튜토리얼"
   ]
  },
  {
   "cell_type": "code",
   "execution_count": 69,
   "metadata": {
    "collapsed": true
   },
   "outputs": [],
   "source": [
    "import matplotlib.pyplot as plt\n",
    "%matplotlib inline"
   ]
  },
  {
   "cell_type": "code",
   "execution_count": 70,
   "metadata": {},
   "outputs": [
    {
     "data": {
      "image/png": "[encoded data removed]",
      "text/plain": [
       "<matplotlib.figure.Figure at 0x2482e8d1630>"
      ]
     },
     "metadata": {},
     "output_type": "display_data"
    },
    {
     "data": {
      "image/png": "[encoded data removed]",
      "text/plain": [
       "<matplotlib.figure.Figure at 0x2482a4a84e0>"
      ]
     },
     "metadata": {},
     "output_type": "display_data"
    }
   ],
   "source": [
    "# figure 객체 초기화 axis 객체를 추가 \n",
    "# matplotlib.pyplot : plt\n",
    "# figure : fig\n",
    "# axis : ax\n",
    "plt.plot([10,5,2,4],color='green',label='line 1', linewidth=5)\n",
    "plt.ylabel('y',fontsize=40)\n",
    "plt.xlabel('x',fontsize=40)\n",
    "plt.axis([0,3, 0,15])\n",
    "#plt.show()\n",
    "#simple plot of a line\n",
    "fig = plt.figure(figsize=(10,10))\n",
    "ax = fig.add_subplot(111)\n",
    "ax.set_xlabel('x',fontsize=40)\n",
    "ax.set_ylabel('y',fontsize=40)\n",
    "fig.suptitle('figure',fontsize=40)\n",
    "ax.plot([10,5,2,4],color='green',label='line 1', linewidth=5) # 선을 그리고 각 그려진 선을 handle 이라 함\n",
    "fig.savefig('figure.png')\n",
    "# 그려진 선은 fig 객체에 그려짐"
   ]
  },
  {
   "cell_type": "code",
   "execution_count": 71,
   "metadata": {},
   "outputs": [
    {
     "data": {
      "image/png": "[encoded data removed]",
      "text/plain": [
       "<matplotlib.figure.Figure at 0x2482de1b550>"
      ]
     },
     "metadata": {},
     "output_type": "display_data"
    }
   ],
   "source": [
    "# 다른여러선을 한번에 그리기\n",
    "import numpy as np\n",
    "fig = plt.figure(figsize=(10,10))\n",
    "ax = fig.add_subplot(111)\n",
    "r = np.arange(0., 10., 0.3)\n",
    "p1, = ax.plot(r, r, 'r--',label='line 1', linewidth=10) # r-- : 빨간색 사각형 \n",
    "p2, = ax.plot(r, r**0.5, 'bs',label='line 2', linewidth=10) # bs : 파란색 정사각형, linewidth 선굵기\n",
    "p3, = ax.plot(r,np.sin(r),'g^', label='line 3', markersize=10) # g^ : 녹색 삼각형, markersize 점크기 \n",
    "# ax 객체에 저장돼 있는 핸들과 레이블 목록을 반환하며, 이것을 legend 함수에 전달해 범례 legend 를 그릴때 사용\n",
    "handles, labels = ax.get_legend_handles_labels()\n",
    "ax.legend(handles, labels,fontsize=40) \n",
    "ax.set_xlabel('x',fontsize=40)\n",
    "ax.set_ylabel('y',fontsize=40)\n",
    "fig.suptitle('figure 1',fontsize=40)\n",
    "fig.savefig('figure_multiplelines.png')"
   ]
  },
  {
   "cell_type": "code",
   "execution_count": 72,
   "metadata": {},
   "outputs": [
    {
     "data": {
      "image/png": "[encoded data removed]",
      "text/plain": [
       "<matplotlib.figure.Figure at 0x2482eb7ed30>"
      ]
     },
     "metadata": {},
     "output_type": "display_data"
    }
   ],
   "source": [
    "colors = ['b', 'c', 'y', 'm', 'r']\n",
    "fig = plt.figure(figsize=(10,10))\n",
    "ax = fig.add_subplot(111)\n",
    "ax.scatter(np.random.random(10), np.random.random(10), marker='x', color=colors[0])\n",
    "p1 = ax.scatter(np.random.random(10), np.random.random(10), marker='x', color=colors[0],s=50) # s : 점의 크기 \n",
    "p2 = ax.scatter(np.random.random(10), np.random.random(10), marker='o', color=colors[1],s=50) # color : 점의 색\n",
    "p3 = ax.scatter(np.random.random(10), np.random.random(10), marker='o', color=colors[2],s=50)\n",
    "ax.legend((p1,p2,p3),('points 1','points 2','points 3'),fontsize=20) # 점들에 대한 핸들 전달\n",
    "ax.set_xlabel('x',fontsize=40)\n",
    "ax.set_ylabel('y',fontsize=40)\n",
    "fig.savefig('figure_scatterplot.png')"
   ]
  },
  {
   "cell_type": "markdown",
   "metadata": {},
   "source": [
    "www.matplotlib.org/"
   ]
  }
 ],
 "metadata": {
  "kernelspec": {
   "display_name": "Python 3",
   "language": "python",
   "name": "python3"
  },
  "language_info": {
   "codemirror_mode": {
    "name": "ipython",
    "version": 3
   },
   "file_extension": ".py",
   "mimetype": "text/x-python",
   "name": "python",
   "nbconvert_exporter": "python",
   "pygments_lexer": "ipython3",
   "version": "3.6.1"
  }
 },
 "nbformat": 4,
 "nbformat_minor": 2
}
