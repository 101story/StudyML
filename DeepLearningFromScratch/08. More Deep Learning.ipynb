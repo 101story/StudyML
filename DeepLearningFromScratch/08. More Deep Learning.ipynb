{
 "cells": [
  {
   "cell_type": "markdown",
   "metadata": {},
   "source": [
    "# 8.1 더 깊게 \n",
    "\n",
    "\n",
    "## 8.1.1 더 깊은 신경망으로 \n",
    "\n",
    "합성곱 계층은 모두 3x3 크기의 작은 필터로, 층이 깊어지면서 채널 수가 더 늘어나는 것이 특징이다. \n",
    "\n",
    "16, 16, 32, 32, 64, 64 로 채널수가 늘어간다. \n",
    "\n",
    "풀링계층을 추가하여 중간 데이터의 공간 크기를 점차 줄여가고 마지막에 FC 계층에서 드롭아웃 계층을 사용한다. \n",
    "\n",
    "초기값으로 He 초기값을 사용, 가중치 매개 변수갱신에 Adam 을 이용 \n",
    "\n",
    "- 3x3 의 작은 필터를 사용한 합성곱 계층\n",
    "- 활성화 함수 ReLU 사용\n",
    "- FC 후 드롭아웃 계층 사용 \n",
    "- Adam 최적화\n",
    "- 가중치 초기값 He\n",
    "\n",
    "deep_convnet.py > \n",
    "deep_conv_net_params.pkl 파일을 이용 (학습시간이 오래걸림)\n",
    "\n"
   ]
  },
  {
   "cell_type": "markdown",
   "metadata": {},
   "source": [
    "## 8.1.2 정확도 높이기 \n",
    "\n",
    "What is the class of this image? 사이트 \n",
    "\n",
    "앙상블 학습, 학습률 감소, 데이터 확장로 정확도 향상\n",
    "\n",
    "* data augmentation : 훈련 이미지를 알고리즘을 동원에 '인위적으로 확장' 훈련이미지를 화전하거나, 세로로 이동하는 등 미세한 변화를 주어 개수를 늘림 (데이터가 없을때 효과적)\n",
    "\n",
    "crop(이미지 일부자르기), flip(좌우뒤집기), 밝기, 확대, 축소 등 이용 \n"
   ]
  },
  {
   "cell_type": "markdown",
   "metadata": {},
   "source": [
    "## 8.1.3 깊게 하는 이유\n",
    "\n",
    "ILSVRC 대회에서 나옴 \n",
    "\n",
    "층의 깊이가 정확도를 높인다. \n",
    "\n",
    "1. 층이 깊을 수록 매개변수 수가 줄어든다. (더 적은 매개변수로 같은 (이상) 표현력을 달성할 수 있다.) \n",
    "\n",
    "    5x5 의 합성곱 연산 1회는 3x3 의 합성곱 연산 2회와 같다. <br>\n",
    "    매개변수 25개(5x5), 18개(2x3x3)\n",
    "\n",
    "    매개변수는 층을 반복 할 수록 적어 진다. 그리고 개수의 차이는 층이 깊어질수록 커진다. \n",
    "\n",
    "    receptive field (수용영역) : 뉴런에 변화를 일으키는 국소적인 공간영역\n",
    "\n",
    "2. 작은 필터를 겹쳐 신경망을 깊게 할 떄의 장점은 수용영역을 소화 할 수 있다. 게다가 ReLU 등의 활성화 함수를 합성곱 계층 사이에 끼움으로써 신경망에 '비선형' 힘을 가하며 더 복잡한 것도 표현 할수 있게 되어 표현력이 좋아진다. \n",
    "\n",
    "3. 정보를 계층적으로 전달 할 수 있다. \n",
    "\n",
    "    예) 에지 정보추출한 층의 다음 층은 에지 정보를 쓸 수 있고 다음 층은 더 고도화된 정보를 이용할 수 있다. \n",
    "\n"
   ]
  },
  {
   "cell_type": "markdown",
   "metadata": {},
   "source": [
    "# 8.2 딥러닝 초기 역사 \n",
    "\n",
    "## 8.2.1 ImageNet  \n",
    "\n",
    "VGG, GoogLeNet, ResNet 이 성적이 좋음\n",
    "\n",
    "## 8.2.2 VGG \n",
    "\n",
    "기본적인 CNN \n",
    "\n",
    "합성곱, FC 계층 모두 16 층 (또는 19 층) \n",
    "\n",
    "3x3 작은 필터를 사용한 합성곱 계층을 연속으로 거친다. 2~4회 연속 풀링 계층을 두어 크기를 절반으로 줄이는 처리를 반복 마지막엔 오나전 연결 계층을 통과해 결과를 출력 \n",
    "\n",
    "간단하여 응용하기 좋음\n",
    "\n",
    "## 8.2.3 GoogLeNet\n",
    "\n",
    "세로 뿐만 아니라 가로 깊이가 깊다. \n",
    " \n",
    "폭을 추가 (인셉션 구조) 크기가 다른 필터 (와 풀링) 를 여러개 적용하여 그 결과를 결합한다. 인셉션 구조를 하나의 빌딩 블록(구성요소)으로 사용한다. \n",
    "\n",
    "## 8.2.4 ResNet\n",
    "\n",
    "Residual Network (MS에서 개발) \n",
    "\n",
    "스킵연결 (skip connection)  도입 층의 깊이에 비례해 성능을 향상 시킬수 있게 함 \n",
    "\n",
    "skip connection : 입력데이터를 합성곱 계층을 건너뛰어 출력에 바로 더하는 구조 \n",
    "\n",
    "transfer learning : 학습된 가중치(혹은 그 일부)를 다른 신경망에 복사한 다음, 그 상태로 재학습을 수행 \n",
    "\n",
    "## 그밖에.. \n",
    "#### R-CNN (Regions with Convolutional Neural Network) \n",
    "    CNN 을 이용하여 사물 검충을 수행하는 방식\n",
    "    후보영역추출, CNN 특징 계산 \n",
    "    이미지를 사각형으로 변형하거나 분류할 떄 SVM 을 사용 \n",
    "    \n",
    "#### FCN (Fully Convolutional Network) \n",
    "    이미지 분석에 픽셀 수 만큼 forward 연산해야 하는데 이런 낭비를 줄여줌 단 한번의 forward 처리로 모든 픽셀의 클래스를 분류해주는 기법\n",
    "\n",
    "#### RNN (Recurrent Neural Network) \n",
    "    순환적 관계를 갖는 신경망으로 자연어처리나 시계열 데이터 등의 연속 데이터를 다룰 떄 사용 \n",
    "\n",
    "#### NIC (Neural Image Caption) \n",
    "    CNN 으로 사진에서 특징을 추출하고 특징을 RNN 에 넘겨 특징을 초깃값으로 텍스트를 순환적으로 생성 이미지 캡션을 생성함 (multimodel processing) \n",
    "\n",
    "#### DCGAN (Deep Convolutional Generative Adversarial Network) : \n",
    "    새로운 이미지 생성 생성자와 식별자로 불리는 2개의 신경망을 이용, 생성자가 진짜와 똑같은 이미지를 생성하고 식별자는 그것이 진짜 인지 판정, 둘을 겨루도록 학습시킴. 생성자는 더 정교한가짜이미지를 생성함 GAN (Generative Adversarial Network) \n",
    "\n",
    "#### Deep Q-Network\n",
    "    시행착오 과정에서 스스로 학습하게 함 \n",
    "    * Reinforcement learning\n",
    "        에이전트 라는 것이 환경에 맞게 행동을 선택하고 행동에 의해 환경이 변함 \n",
    "        환경이 변화하면 에이전트는 보상을 얻음\n",
    "        에이전트의 행동 지침을 더 나은 보상을 받는 쪽으로 잡아감 \n",
    "        보상이 정해져 있지 않음 \n",
    "    Q학습에서는 최적 행동 가치 함수로 최적인 행동을 정하고 CNN 으로 비슷하게 흉내내어사용하는 것 DQN\n",
    "  "
   ]
  },
  {
   "cell_type": "code",
   "execution_count": null,
   "metadata": {
    "collapsed": true
   },
   "outputs": [],
   "source": []
  }
 ],
 "metadata": {
  "kernelspec": {
   "display_name": "Python 3",
   "language": "python",
   "name": "python3"
  },
  "language_info": {
   "codemirror_mode": {
    "name": "ipython",
    "version": 3
   },
   "file_extension": ".py",
   "mimetype": "text/x-python",
   "name": "python",
   "nbconvert_exporter": "python",
   "pygments_lexer": "ipython3",
   "version": "3.6.1"
  }
 },
 "nbformat": 4,
 "nbformat_minor": 2
}
