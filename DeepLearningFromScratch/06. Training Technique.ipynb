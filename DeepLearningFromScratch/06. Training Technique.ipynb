{
 "cells": [
  {
   "cell_type": "markdown",
   "metadata": {},
   "source": [
    "# 6.1 매개변수 갱신\n",
    "\n",
    "최적의 매개변수 찾기 = 최적화 (Optimization)\n",
    "\n",
    "확률적 경사 하강법 (SGD) : 매개 변수의 기울기를 구해, 기울어진 방향으로 매개 변수 값을 갱신하는 일을 반복해서 최적의 매개 변수를 찾는 과정 \n",
    "\n",
    "## 6.1.2 확률적 경사 하강법 (SGD)\n",
    "\n",
    "W = W - r미분(L/W) \n",
    "\n",
    "W 는 가중치 매개변수 <br>\n",
    "r 는 학습률<br>\n",
    "미분(L/W) 는 W 에 대한 손실함수의 기울기 \n",
    "\n",
    "기울어진 방향으로 일정거리만 가겠다. \n"
   ]
  },
  {
   "cell_type": "code",
   "execution_count": 1,
   "metadata": {
    "collapsed": true
   },
   "outputs": [],
   "source": [
    "class SGD:\n",
    "    def __init__(self, lr=0.01):\n",
    "        self.lr = lr\n",
    "        \n",
    "    def update(self, params, grads):\n",
    "        for key in params.keys():\n",
    "            params[key] -= self.lr*grads[key]"
   ]
  },
  {
   "cell_type": "markdown",
   "metadata": {},
   "source": [
    "* lr : learning rate\n",
    "* update(params, grads) dictinary 변수로 가중치와 기울기를 저장하고 있음 "
   ]
  },
  {
   "cell_type": "markdown",
   "metadata": {},
   "source": [
    "## 6.1.3 SGD 의 단점 \n",
    "\n",
    "anisortropy 비등방성 (방향에 따라 성질, 즉 기울기가 달라지는 함수) 에서는 탐색 경로가 비효율 적이다. \n",
    "\n",
    "지그재그로 탐색하는 근본 원인은 기울어진 방향이 본래의 최솟값과 다른 방향을 가리키기 때문이다. \n",
    "\n",
    "## 6.1.4 모멘텀\n",
    "Momentum : 운동량 \n",
    "\n",
    "v = av - r미분(L/W)\n",
    "W = W + v\n",
    "\n",
    "W : 갱신할 가중치 매개변수 <br>\n",
    "av : 아무런 힘을 받지 않을 때 서서히 하강시킴 (공기저항)<br>\n",
    "v : 속도 <br>\n",
    "기울기 방향으로 힘을 받아 물체가 가속됨 \n"
   ]
  },
  {
   "cell_type": "code",
   "execution_count": 2,
   "metadata": {
    "collapsed": true
   },
   "outputs": [],
   "source": [
    "class Momentum:\n",
    "    def __init__(self, lr = 0.01, momentum =0.9):\n",
    "        self.lr = lr\n",
    "        self.momentum = momentum\n",
    "        self.v = None\n",
    "    \n",
    "    def update(self, params, grads):\n",
    "        if self.v is None:\n",
    "            self.v = {}\n",
    "            for key, val in params.items():\n",
    "                self.v[key] = np.zeros_like(val)\n",
    "        \n",
    "        for key in params.keys():\n",
    "            self.v[key] = self.momentum*self.v[key] - self.lr*grads[key]\n",
    "            params[key] += self.v[key]\n",
    "            "
   ]
  },
  {
   "cell_type": "markdown",
   "metadata": {},
   "source": [
    "v 는 초기에 아무것도 담지 않음 update 호출 될때 매개변수와 같은 구조로 저장됨 \n",
    "\n",
    "SGD 에 비하면 지그재그 정도가 덜하다."
   ]
  },
  {
   "cell_type": "markdown",
   "metadata": {
    "collapsed": true
   },
   "source": [
    "## 6.1.5 AdaGrad\n",
    "\n",
    "학습률 을 정하는 기술 학습률 감소 learning rate decay <br>\n",
    "학습을 진행하면서 학습률을 점차 줄여가는 방법\n",
    "\n",
    "AdaGrad 는 매개변수 '전체'의 학습률 값을 일괄적으로 낮추는 것에서 발전시켜 '각각의' 매개변수에 맞춤형 값을 만들어 주는 방식 \n",
    "\n",
    "개별 매개변수에 적응적(adative) 학습률을 조정하면서 학습을 진행 \n",
    "\n",
    "h 라는 변수가 등장하여 기존 기울기 값을 제곱하여 계속 더해주고 매개변수가 갱신할 때 1/루트h 를 곱해 학습률을 조정\n",
    "\n",
    "매개변수의 원소 중에서 많이 움직인 (크게 갱신된) 원소는 학습률이 낮아지게 됨 \n",
    "\n",
    "과거의 기울기를 제곱해서 계속 더해가서 학습을 진행할수록 갱신 강도가 약해진다. 학습을 계쏙하면 순간 갱신량이 0이되어 전혀 갱신되지 않게 된다. 이를 개선한 RMSProp 는 과거의 모든 기울기를 균일하게 더해가는 것이 아니라, 먼 과거의 기울기는 서서히 잊고 새로운 기울기 정보를 크게 반영하는 지수이동평균 Exponential Moving Average 라 하여, 과거 기울기의 반영규모를 기하급수적으로 감소 시킨다. "
   ]
  },
  {
   "cell_type": "code",
   "execution_count": 2,
   "metadata": {
    "collapsed": true
   },
   "outputs": [],
   "source": [
    "class AdaGrad:\n",
    "    def __init__(self, lr=0.01):\n",
    "        self.lr = lr\n",
    "        self.h = None\n",
    "        \n",
    "    def update(self, params, grads):\n",
    "        if self.h is None:\n",
    "            self.h = {}\n",
    "            for key, val in params.items():\n",
    "                self.h[key] = np.zeros_like(val)\n",
    "\n",
    "        for key in params.keys():\n",
    "            self.h[key] += grads[key] * grads[key]\n",
    "            params[key] -= self.lr * grads[key]/(np.sqrt(self.h[key])+1e-7)"
   ]
  },
  {
   "cell_type": "markdown",
   "metadata": {},
   "source": [
    "마지막에 +1e-7 작은 값을 더하는 부분은 self.h[key] 에 0이 담겨 있다해도 0으로 나누는 사태를 막아준다.\n",
    "\n",
    "y축 방향은 기울기가 커서 처음에는 크게 움직이지만, 그 큰 움직임에 비례해 갱신 정도도 큰복으로 작아지도록 조정된다. y 축 방향으로 갱신 강도가 약해졌고, 지그재그 움직임이 줄어든다. "
   ]
  },
  {
   "cell_type": "markdown",
   "metadata": {
    "collapsed": true
   },
   "source": [
    "## 6.1.6 Adam \n",
    "\n",
    "모멘텀 : 공이 그릇을 구르는 듯한 물리 법칙에 따른 움직임 <br>\n",
    "AdaGrad : 매개변수의 원소마다 적응적으로 갱신정도를 조정 <br>\n",
    "Adam : 이 두 방법을 융합 하이퍼파라미터의 '편향보정', 모멘텀보다 좌우 흔들림이 작음 (학습의 갱신 강도를 적응적으로 조정)"
   ]
  },
  {
   "cell_type": "code",
   "execution_count": null,
   "metadata": {
    "collapsed": true
   },
   "outputs": [],
   "source": [
    "class Adam:\n",
    "\n",
    "    \"\"\"Adam (http://arxiv.org/abs/1412.6980v8)\"\"\"\n",
    "\n",
    "    def __init__(self, lr=0.001, beta1=0.9, beta2=0.999):\n",
    "        self.lr = lr\n",
    "        self.beta1 = beta1\n",
    "        self.beta2 = beta2\n",
    "        self.iter = 0\n",
    "        self.m = None\n",
    "        self.v = None\n",
    "        \n",
    "    def update(self, params, grads):\n",
    "        if self.m is None:\n",
    "            self.m, self.v = {}, {}\n",
    "            for key, val in params.items():\n",
    "                self.m[key] = np.zeros_like(val)\n",
    "                self.v[key] = np.zeros_like(val)\n",
    "        \n",
    "        self.iter += 1\n",
    "        lr_t  = self.lr * np.sqrt(1.0 - self.beta2**self.iter) / (1.0 - self.beta1**self.iter)         \n",
    "        \n",
    "        for key in params.keys():\n",
    "            #self.m[key] = self.beta1*self.m[key] + (1-self.beta1)*grads[key]\n",
    "            #self.v[key] = self.beta2*self.v[key] + (1-self.beta2)*(grads[key]**2)\n",
    "            self.m[key] += (1 - self.beta1) * (grads[key] - self.m[key])\n",
    "            self.v[key] += (1 - self.beta2) * (grads[key]**2 - self.v[key])\n",
    "            \n",
    "            params[key] -= lr_t * self.m[key] / (np.sqrt(self.v[key]) + 1e-7)\n",
    "            \n",
    "            #unbias_m += (1 - self.beta1) * (grads[key] - self.m[key]) # correct bias\n",
    "            #unbisa_b += (1 - self.beta2) * (grads[key]*grads[key] - self.v[key]) # correct bias\n",
    "            #params[key] += self.lr * unbias_m / (np.sqrt(unbisa_b) + 1e-7)\n"
   ]
  },
  {
   "cell_type": "markdown",
   "metadata": {},
   "source": [
    "## 6.1.7 어느 갱신 방법을 이용할 것인가?\n",
    "\n",
    "기법의 결과 비교 - 맞춰서 잘 사용하길.. (주로 SGD, Adam 을 사용함)"
   ]
  },
  {
   "cell_type": "code",
   "execution_count": 1,
   "metadata": {},
   "outputs": [
    {
     "data": {
      "image/png": "[encoded data removed]",
      "text/plain": [
       "<matplotlib.figure.Figure at 0x2af0f61e3c8>"
      ]
     },
     "metadata": {},
     "output_type": "display_data"
    }
   ],
   "source": [
    "# coding: utf-8\n",
    "import sys, os\n",
    "sys.path.append(os.pardir)  # 부모 디렉터리의 파일을 가져올 수 있도록 설정\n",
    "import numpy as np\n",
    "import matplotlib.pyplot as plt\n",
    "from collections import OrderedDict\n",
    "from common.optimizer import *\n",
    "\n",
    "\n",
    "def f(x, y):\n",
    "    return x**2 / 20.0 + y**2\n",
    "\n",
    "\n",
    "def df(x, y):\n",
    "    return x / 10.0, 2.0*y\n",
    "\n",
    "init_pos = (-7.0, 2.0)\n",
    "params = {}\n",
    "params['x'], params['y'] = init_pos[0], init_pos[1]\n",
    "grads = {}\n",
    "grads['x'], grads['y'] = 0, 0\n",
    "\n",
    "\n",
    "optimizers = OrderedDict()\n",
    "optimizers[\"SGD\"] = SGD(lr=0.95)\n",
    "optimizers[\"Momentum\"] = Momentum(lr=0.1)\n",
    "optimizers[\"AdaGrad\"] = AdaGrad(lr=1.5)\n",
    "optimizers[\"Adam\"] = Adam(lr=0.3)\n",
    "\n",
    "idx = 1\n",
    "\n",
    "for key in optimizers:\n",
    "    optimizer = optimizers[key]\n",
    "    x_history = []\n",
    "    y_history = []\n",
    "    params['x'], params['y'] = init_pos[0], init_pos[1]\n",
    "    \n",
    "    for i in range(30):\n",
    "        x_history.append(params['x'])\n",
    "        y_history.append(params['y'])\n",
    "        \n",
    "        grads['x'], grads['y'] = df(params['x'], params['y'])\n",
    "        optimizer.update(params, grads)\n",
    "    \n",
    "\n",
    "    x = np.arange(-10, 10, 0.01)\n",
    "    y = np.arange(-5, 5, 0.01)\n",
    "    \n",
    "    X, Y = np.meshgrid(x, y) \n",
    "    Z = f(X, Y)\n",
    "    \n",
    "    # 외곽선 단순화\n",
    "    mask = Z > 7\n",
    "    Z[mask] = 0\n",
    "    \n",
    "    # 그래프 그리기\n",
    "    plt.subplot(2, 2, idx)\n",
    "    idx += 1\n",
    "    plt.plot(x_history, y_history, 'o-', color=\"red\")\n",
    "    plt.contour(X, Y, Z)\n",
    "    plt.ylim(-10, 10)\n",
    "    plt.xlim(-10, 10)\n",
    "    plt.plot(0, 0, '+')\n",
    "    #colorbar()\n",
    "    #spring()\n",
    "    plt.title(key)\n",
    "    plt.xlabel(\"x\")\n",
    "    plt.ylabel(\"y\")\n",
    "    \n",
    "plt.show()\n"
   ]
  },
  {
   "cell_type": "markdown",
   "metadata": {},
   "source": [
    "## 6.1.8 MNIST 데이터셋으로 본 갱신 방법 비교\n",
    "\n",
    "100 개의 뉴런으로 구성된 5층 신경망에서 ReLU 를 활성화 함수로 사용해 측정 \n",
    "\n",
    "하이퍼파라미터인 학습률과 신경망의 구조에 따라 결과가 달라진다. \n"
   ]
  },
  {
   "cell_type": "code",
   "execution_count": 2,
   "metadata": {},
   "outputs": [
    {
     "name": "stdout",
     "output_type": "stream",
     "text": [
      "===========iteration:0===========\n",
      "SGD:2.32673079114\n",
      "Momentum:2.541961857\n",
      "AdaGrad:2.33596171541\n",
      "Adam:2.21237799895\n",
      "===========iteration:100===========\n",
      "SGD:1.40796067202\n",
      "Momentum:0.343553114649\n",
      "AdaGrad:0.143096497937\n",
      "Adam:0.293880162376\n",
      "===========iteration:200===========\n",
      "SGD:0.857674675638\n",
      "Momentum:0.341686438048\n",
      "AdaGrad:0.157223474874\n",
      "Adam:0.255719674022\n",
      "===========iteration:300===========\n",
      "SGD:0.581429014061\n",
      "Momentum:0.189020691049\n",
      "AdaGrad:0.059119337957\n",
      "Adam:0.081316903573\n",
      "===========iteration:400===========\n",
      "SGD:0.518722082448\n",
      "Momentum:0.212188620669\n",
      "AdaGrad:0.0784261537893\n",
      "Adam:0.127169053149\n",
      "===========iteration:500===========\n",
      "SGD:0.346217128556\n",
      "Momentum:0.0752360599955\n",
      "AdaGrad:0.0425821583738\n",
      "Adam:0.0473747176021\n",
      "===========iteration:600===========\n",
      "SGD:0.457257555255\n",
      "Momentum:0.169846445333\n",
      "AdaGrad:0.0683963877931\n",
      "Adam:0.112104790017\n",
      "===========iteration:700===========\n",
      "SGD:0.394990750836\n",
      "Momentum:0.114310178897\n",
      "AdaGrad:0.0583674341805\n",
      "Adam:0.067227826877\n",
      "===========iteration:800===========\n",
      "SGD:0.300435999576\n",
      "Momentum:0.113252292656\n",
      "AdaGrad:0.0611169387405\n",
      "Adam:0.073083260096\n",
      "===========iteration:900===========\n",
      "SGD:0.232168081446\n",
      "Momentum:0.111216636911\n",
      "AdaGrad:0.0309669968669\n",
      "Adam:0.0384906049978\n",
      "===========iteration:1000===========\n",
      "SGD:0.208001412642\n",
      "Momentum:0.0405597994072\n",
      "AdaGrad:0.0165528309333\n",
      "Adam:0.0204500488861\n",
      "===========iteration:1100===========\n",
      "SGD:0.283783061322\n",
      "Momentum:0.159388816484\n",
      "AdaGrad:0.0615333877316\n",
      "Adam:0.141081591453\n",
      "===========iteration:1200===========\n",
      "SGD:0.384831434007\n",
      "Momentum:0.129293429429\n",
      "AdaGrad:0.0597333172315\n",
      "Adam:0.117522048402\n",
      "===========iteration:1300===========\n",
      "SGD:0.219789603281\n",
      "Momentum:0.0787352262784\n",
      "AdaGrad:0.0202769863953\n",
      "Adam:0.02632889985\n",
      "===========iteration:1400===========\n",
      "SGD:0.256353507126\n",
      "Momentum:0.0785253686801\n",
      "AdaGrad:0.0480341572259\n",
      "Adam:0.0562634900011\n",
      "===========iteration:1500===========\n",
      "SGD:0.156501166944\n",
      "Momentum:0.0536712673616\n",
      "AdaGrad:0.0207055405258\n",
      "Adam:0.0396788172231\n",
      "===========iteration:1600===========\n",
      "SGD:0.183507922556\n",
      "Momentum:0.0676155923896\n",
      "AdaGrad:0.0256634484384\n",
      "Adam:0.0382731640669\n",
      "===========iteration:1700===========\n",
      "SGD:0.207229840968\n",
      "Momentum:0.0567381779845\n",
      "AdaGrad:0.0386199250062\n",
      "Adam:0.0301996906006\n",
      "===========iteration:1800===========\n",
      "SGD:0.182317316129\n",
      "Momentum:0.165356464001\n",
      "AdaGrad:0.0780396426834\n",
      "Adam:0.125635399549\n",
      "===========iteration:1900===========\n",
      "SGD:0.183586950423\n",
      "Momentum:0.0697515768689\n",
      "AdaGrad:0.0216156805017\n",
      "Adam:0.0452945178436\n"
     ]
    },
    {
     "data": {
      "image/png": "[encoded data removed]",
      "text/plain": [
       "<matplotlib.figure.Figure at 0x2af0fca0400>"
      ]
     },
     "metadata": {},
     "output_type": "display_data"
    }
   ],
   "source": [
    "# coding: utf-8\n",
    "import os\n",
    "import sys\n",
    "sys.path.append(os.pardir)  # 부모 디렉터리의 파일을 가져올 수 있도록 설정\n",
    "import matplotlib.pyplot as plt\n",
    "from dataset.mnist import load_mnist\n",
    "from common.util import smooth_curve\n",
    "from common.multi_layer_net import MultiLayerNet\n",
    "from common.optimizer import *\n",
    "\n",
    "\n",
    "# 0. MNIST 데이터 읽기==========\n",
    "(x_train, t_train), (x_test, t_test) = load_mnist(normalize=True)\n",
    "\n",
    "train_size = x_train.shape[0]\n",
    "batch_size = 128\n",
    "max_iterations = 2000\n",
    "\n",
    "\n",
    "# 1. 실험용 설정==========\n",
    "optimizers = {}\n",
    "optimizers['SGD'] = SGD()\n",
    "optimizers['Momentum'] = Momentum()\n",
    "optimizers['AdaGrad'] = AdaGrad()\n",
    "optimizers['Adam'] = Adam()\n",
    "#optimizers['RMSprop'] = RMSprop()\n",
    "\n",
    "networks = {}\n",
    "train_loss = {}\n",
    "for key in optimizers.keys():\n",
    "    networks[key] = MultiLayerNet(\n",
    "        input_size=784, hidden_size_list=[100, 100, 100, 100],\n",
    "        output_size=10)\n",
    "    train_loss[key] = []    \n",
    "\n",
    "\n",
    "# 2. 훈련 시작==========\n",
    "for i in range(max_iterations):\n",
    "    batch_mask = np.random.choice(train_size, batch_size)\n",
    "    x_batch = x_train[batch_mask]\n",
    "    t_batch = t_train[batch_mask]\n",
    "    \n",
    "    for key in optimizers.keys():\n",
    "        grads = networks[key].gradient(x_batch, t_batch)\n",
    "        optimizers[key].update(networks[key].params, grads)\n",
    "    \n",
    "        loss = networks[key].loss(x_batch, t_batch)\n",
    "        train_loss[key].append(loss)\n",
    "    \n",
    "    if i % 100 == 0:\n",
    "        print( \"===========\" + \"iteration:\" + str(i) + \"===========\")\n",
    "        for key in optimizers.keys():\n",
    "            loss = networks[key].loss(x_batch, t_batch)\n",
    "            print(key + \":\" + str(loss))\n",
    "\n",
    "\n",
    "# 3. 그래프 그리기==========\n",
    "markers = {\"SGD\": \"o\", \"Momentum\": \"x\", \"AdaGrad\": \"s\", \"Adam\": \"D\"}\n",
    "x = np.arange(max_iterations)\n",
    "for key in optimizers.keys():\n",
    "    plt.plot(x, smooth_curve(train_loss[key]), marker=markers[key], markevery=100, label=key)\n",
    "plt.xlabel(\"iterations\")\n",
    "plt.ylabel(\"loss\")\n",
    "plt.ylim(0, 1)\n",
    "plt.legend()\n",
    "plt.show()\n"
   ]
  },
  {
   "cell_type": "markdown",
   "metadata": {},
   "source": [
    "# 6.2 가중치의 초기값\n",
    "\n",
    "## 6.2.1 초기값=0?\n",
    "\n",
    "가중치 감소 weight decay (오버피팅을 억제해 범용 성능을 높이는 방법) : 가중치 매개변수의 값이 작아지도록 학습하는 방법, 가중치 값을 작게해 오버피팅이 일어나지 않게함\n",
    "\n",
    "초기값이 0 인경우 오차역전파법에서 모든 가중치의 값이 똑같이 갱신됨 \n",
    "\n",
    "가중치가 고르게 되지 않으려면 초깃값을 무작위로 설정해야 함\n",
    "\n",
    "## 6.2.2 은닉층의 활성화값 분포 \n",
    "\n",
    "activation fucntion 의 출력 데이터의 분포 확인\n",
    "\n",
    "가중치 초기값에 따라서 hidden layer 의 활성화 값이 어떻게 변하는지 확인 \n",
    "\n",
    "시그모이드와 5 layer 에 무작위 입력 데이터를 흘려 각 층의 활성화 값 분포를 histogram 으로 확인 \n"
   ]
  },
  {
   "cell_type": "code",
   "execution_count": 1,
   "metadata": {
    "collapsed": true
   },
   "outputs": [],
   "source": [
    "# coding: utf-8\n",
    "import numpy as np\n",
    "import matplotlib.pyplot as plt\n",
    "\n",
    "\n",
    "def sigmoid(x):\n",
    "    return 1 / (1 + np.exp(-x))\n",
    "\n",
    "\n",
    "def ReLU(x):\n",
    "    return np.maximum(0, x)\n",
    "\n",
    "\n",
    "def tanh(x):\n",
    "    return np.tanh(x)\n",
    "    \n",
    "input_data = np.random.randn(1000, 100)  # 1000개의 데이터 편차가1인 정규분포\n",
    "node_num = 100  # 각 은닉층의 노드(뉴런) 수\n",
    "hidden_layer_size = 5  # 은닉층이 5개\n",
    "activations = {}  # 이곳에 활성화 결과를 저장\n",
    "\n",
    "x = input_data\n",
    "\n",
    "for i in range(hidden_layer_size):\n",
    "    if i != 0:\n",
    "        x = activations[i-1]\n",
    "\n",
    "    # 초깃값을 다양하게 바꿔가며 실험해보자！\n",
    "    w = np.random.randn(node_num, node_num) * 1\n",
    "    # w = np.random.randn(node_num, node_num) * 0.01\n",
    "    # w = np.random.randn(node_num, node_num) * np.sqrt(1.0 / node_num)\n",
    "    # w = np.random.randn(node_num, node_num) * np.sqrt(2.0 / node_num)\n",
    "\n",
    "\n",
    "    a = np.dot(x, w)\n",
    "\n",
    "\n",
    "    # 활성화 함수도 바꿔가며 실험해보자！\n",
    "    z = sigmoid(a)\n",
    "    # z = ReLU(a)\n",
    "    # z = tanh(a)\n",
    "\n",
    "    activations[i] = z"
   ]
  },
  {
   "cell_type": "code",
   "execution_count": 2,
   "metadata": {},
   "outputs": [
    {
     "data": {
      "image/png": "[encoded data removed]",
      "text/plain": [
       "<matplotlib.figure.Figure at 0x22bb3fca0f0>"
      ]
     },
     "metadata": {},
     "output_type": "display_data"
    }
   ],
   "source": [
    "# 히스토그램 그리기\n",
    "for i, a in activations.items():\n",
    "    plt.subplot(1, len(activations), i+1)\n",
    "    plt.title(str(i+1) + \"-layer\")\n",
    "    if i != 0: plt.yticks([], [])\n",
    "    # plt.xlim(0.1, 1)\n",
    "    # plt.ylim(0, 7000)\n",
    "    plt.hist(a.flatten(), 30, range=(0,1))\n",
    "plt.show()"
   ]
  },
  {
   "cell_type": "markdown",
   "metadata": {},
   "source": [
    "각 활성화 값들이 0과 1에 치우쳐 분포함 \n",
    "\n",
    "시그모이드 함수는 출력이 0 또는 1 에 가까우면 미분값이 0 이 됨 \n",
    "\n",
    "역전파의 기우릭 값이 점점 사라짐 기울기 소실 Gradient Vanishing \n"
   ]
  }
 ],
 "metadata": {
  "kernelspec": {
   "display_name": "Python 3",
   "language": "python",
   "name": "python3"
  },
  "language_info": {
   "codemirror_mode": {
    "name": "ipython",
    "version": 3
   },
   "file_extension": ".py",
   "mimetype": "text/x-python",
   "name": "python",
   "nbconvert_exporter": "python",
   "pygments_lexer": "ipython3",
   "version": "3.6.1"
  }
 },
 "nbformat": 4,
 "nbformat_minor": 2
}
