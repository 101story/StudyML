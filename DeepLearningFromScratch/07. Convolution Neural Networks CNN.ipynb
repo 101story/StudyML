{
 "cells": [
  {
   "cell_type": "code",
   "execution_count": 4,
   "metadata": {
    "collapsed": true
   },
   "outputs": [],
   "source": [
    "from IPython.core.interactiveshell import InteractiveShell\n",
    "InteractiveShell.ast_node_interactivity = \"all\" "
   ]
  },
  {
   "cell_type": "markdown",
   "metadata": {},
   "source": [
    "# Convolution Neural Networks \n",
    "\n",
    "합성곱 신경망 \n",
    "\n",
    "이미지 인식, 음성 인식 등에 사용됨 \n",
    "\n",
    "\n",
    "# 7.1 전체 구조\n",
    "\n",
    "* Pooling Layer 추가됨 \n",
    "\n",
    "* Fully Connected (전결합) : 인접하는 계층의 모든 뉴런과 결합\n",
    "\n",
    "* Affine 계층 : 완전히 연결된 계층 \n",
    "\n",
    "        Affine -> ReLU -> Affine -> ReLU -> Affine -> Softmax ->\n",
    "\n",
    "* CNN 구조 \n",
    "    \n",
    "        Conv -> ReLU -> Pooling -> Conv -> ReLU -> Pooling\n",
    "        -> Conv -> ReLU -> Affine -> ReLU -> Affine -> Softmax -> \n",
    "    \n",
    "    Conv 합성곱 계층과 Pooling 계층이 추가 됨 "
   ]
  },
  {
   "cell_type": "markdown",
   "metadata": {},
   "source": [
    "    \n",
    "\n",
    "# 7.2 Conv 계층\n",
    "\n",
    "## 7.2.1 Fully Connected 계층의 문제점 \n",
    "\n",
    "* Fully Connected : 인접하는 계층의 뉴런이 모두 연결되고 출력의 수는 임의로 정할 수 있다. \n",
    "\n",
    "    문제점 : 데이터의 형상이 무시 된다. <br>\n",
    "    예) 3차원 이미지 데이터를 평평한 1차원 데이터로 바꿔서 연산을 해야함 MNIST 데이터 셋을 사용한 사례에서 (1,28,28) 이미지를 1줄로 784 개의 데이터를 Affine 계층에 입력으로 사용\n",
    "\n",
    "\n",
    "* Feature map : 합성곱 계층의 입출력 데이터 \n",
    "    input feature map, output feature map\n",
    "    \n",
    "    \n",
    "## 7.2.2 Conv 연산\n",
    "\n",
    "합성곱 연산은 이미지 처리에서 말하는 **필터 연산** 에 해당\n",
    "\n",
    "가로 세로 방향의 차원을 가짐 입력 (4,4) 필터는 (3,3) -> (2,2) 출력 \n",
    "\n",
    "<img src='CNNFilter.png' width=50%>\n",
    "\n",
    "* kernel : 필터 \n",
    "\n",
    "* window : 합성곱의 연산은 필터의 윈도우를 일정간격으로 이동하며 입력데이터 적용 \n",
    "\n",
    "입력과 필터에서 대응하는 원소끼리 곱한 후 그 총합을 구함 (단일곱셈 누산 Fused multiply-add FMA 라함) 그 결과를 출력의 장소에 저장 \n",
    "\n",
    "CNN 에서의 필터 = 가중치 \n",
    "\n",
    "편향은 항상 하나만 존재하여 필터를 적용한 모든 원소에 같은 값을 더하여 사용 \n",
    "\n",
    "\n",
    "## 7.2.3 패딩\n",
    "\n",
    "* padding : 입력 데이터 주변의 특정 값을 채움 \n",
    "\n",
    "-- 패딩은 주로 출력 크기를 조정할 목적으로 사용, 입력 데이터의 공간적 크기를 고정한 채로 다음 계층에 전달 할수 있다. (Conv 연산을 거칠때 마다 점점 크기가 줄어듬을 방지) \n",
    "\n",
    "\n",
    "## 7.2.4 스트라이드 \n",
    "\n",
    "* stride : 필터를 적용하는 위치의 간격, window 가 이동하는 간격 (보폭)\n",
    "\n",
    "입력 (H,W) 필터 (FH, FW) -> 출력 (OH, OW) <br>\n",
    "패딩 P, 스트라이드 S\n",
    "\n",
    "\\begin{equation*}\n",
    "    OH = \\frac{H + 2P + - FH}{S} + 1 \\\\\n",
    "    OW = \\frac{H + 2P + - FW}{S} + 1\n",
    "\\end{equation*}\n",
    "\n",
    "정수로 나눠 떨어져야함. 값이 딱 나눠 떨어지지 않을 때엔 가장 가까운 정수로 반올림 등 (특별히 에러를 내지 않고 진행하도록 구현)\n",
    "\n",
    "## 7.2.5 3차원 데이터의 Conv 연산 \n",
    "\n",
    "http://cs231n.github.io/convolutional-networks/\n",
    "\n",
    "필터도 여러가지 채널(색상) 에 맞춰서 줘야한다. 채널이 3개면 필터도 3개 \n",
    "\n",
    "## 7.2.6 블록으로 생각하기 \n",
    "\n",
    "3차원의 연산은 데이터와 필터를 직육면체 블록으로 생각 \n",
    "\n",
    "채널수 C, 필터 높이 FH, 필터 너비 FW (C, FH, FW)\n",
    "\n",
    "<img src='CNNblock.png' width=50%/>\n",
    "\n",
    "\n",
    "여러개의 필터를 사용하면 4차원이 됨 -> 출력데이터가 필터의 개수만큼 만들어짐 (FN)\n",
    "\n",
    "형상이 다른 블록의 덧셈은 브로드캐스트됨\n",
    "\n",
    "\n",
    "## 7.2.7 배치 처리 \n",
    "\n",
    "<img src ='CNNblock2.png' width=50%/>\n",
    "\n",
    "블럭이 N 개, 필터의 개수는 그대로 (N 데이터수, FN 필터 수 , OH 높이, OW 너비) 4차원의 데이터 \n",
    "\n",
    "N 개의 데이터에 대한 합성곱 연산이 이뤄짐 \n",
    "\n"
   ]
  },
  {
   "cell_type": "markdown",
   "metadata": {
    "collapsed": true
   },
   "source": [
    "# 7.3 풀링계층 \n",
    "\n",
    "Pooling layer : 가로, 세로 방향의 공간을 줄이는 연산 \n",
    "\n",
    "\n",
    "<img src='CNNmaxPooling.png' width=50%>\n",
    "\n",
    "* 최대 풀링(max pooling)을 스트라이드 2로 처리 영역의 최대값을 취함 \n",
    "* 평균 풀링 : 평균 풀링은 대상 영역의 평균으로 계산 \n",
    "\n",
    "## 7.3.1 풀링계층의 특징\n",
    "\n",
    "* 최댓값 혹은 평균을 취하는 명확한 처리하므로 학습해야 할 매개변수가 없다.\n",
    "* 채널마다 독립적으로 계산하므로 채널 수가 변하지 않는다.\n",
    "* 입력 데이터가 조금 변해도 풀링의 결과는 잘 변하지 않는다. (영향을 적게 받는다, 떨림 같은..)\n"
   ]
  },
  {
   "cell_type": "markdown",
   "metadata": {},
   "source": [
    "# 7.4 합성곱/풀링 계층 구현하기\n",
    "\n",
    "## 7.4.1 4차원배열\n",
    "\n",
    "* 높이 28, 너비 28, 채널 1 인 이미지 데이터 10개 (10, 1, 28, 28)\n"
   ]
  },
  {
   "cell_type": "code",
   "execution_count": 8,
   "metadata": {},
   "outputs": [
    {
     "data": {
      "text/plain": [
       "(10, 1, 28, 28)"
      ]
     },
     "execution_count": 8,
     "metadata": {},
     "output_type": "execute_result"
    },
    {
     "data": {
      "text/plain": [
       "(1, 28, 28)"
      ]
     },
     "execution_count": 8,
     "metadata": {},
     "output_type": "execute_result"
    },
    {
     "data": {
      "text/plain": [
       "array([[ 0.63464697,  0.29145329,  0.70943543,  0.07292147,  0.61769742,\n",
       "         0.0262977 ,  0.63931379,  0.88161805,  0.50876108,  0.96345767,\n",
       "         0.30438957,  0.47415976,  0.89437433,  0.42327603,  0.70335345,\n",
       "         0.53635078,  0.83545286,  0.12923368,  0.90939233,  0.40892987,\n",
       "         0.3615447 ,  0.70294223,  0.58095422,  0.47800973,  0.84101858,\n",
       "         0.92739338,  0.94328139,  0.68488791],\n",
       "       [ 0.09005096,  0.38282588,  0.6024875 ,  0.79704861,  0.71563762,\n",
       "         0.42587486,  0.50756603,  0.49538155,  0.57475933,  0.51511513,\n",
       "         0.58623892,  0.81419385,  0.89426036,  0.5061551 ,  0.18958154,\n",
       "         0.10657779,  0.18733242,  0.10495775,  0.52886277,  0.217858  ,\n",
       "         0.93185952,  0.19957075,  0.07862927,  0.65470483,  0.12457137,\n",
       "         0.59053177,  0.01442056,  0.34501623]])"
      ]
     },
     "execution_count": 8,
     "metadata": {},
     "output_type": "execute_result"
    }
   ],
   "source": [
    "import numpy as np\n",
    "x = np.random.rand(10, 1, 28, 28)\n",
    "x.shape\n",
    "x[0].shape\n",
    "x[0, 0][:2]"
   ]
  },
  {
   "cell_type": "markdown",
   "metadata": {},
   "source": [
    "## 7.4.2 im2col 로 데이터 펼침\n",
    "\n",
    "넘파이에서는 원소에 접근할 때 for 문을 사용하지 않는 것이 좋음\n",
    "\n",
    "<img src = 'CNNim2col.png' width=50%>\n",
    "* im2col 함수를 구현 : 입력데이터를 필터링(가중치 계산) 하기 좋게 전개하는(펼치는)함수, 4차원 데이터가 2차원 행렬로 바뀜 \n",
    "    <br>입력데이터에서 필터를 적용해 3차원 블록을 한줄로 늘어 놓음 \n",
    "    \n",
    "* caffe 와 chainer 에서도 im2col 이용 \n",
    "\n",
    "<img src ='CNNim2col1.png' width=50%>\n",
    "\n",
    "필터를 세로로 1열로 전개 N 개의 필터 만큼 [데이터열 x FN] 이 됨 <br>\n",
    "2차원인 출력 데이터를 4차원의 reshape 함\n"
   ]
  },
  {
   "cell_type": "code",
   "execution_count": 9,
   "metadata": {
    "collapsed": true
   },
   "outputs": [],
   "source": [
    "def im2col(input_data, filter_h, filter_w, stride=1, pad=0):\n",
    "    \"\"\"다수의 이미지를 입력받아 2차원 배열로 변환한다(평탄화).\n",
    "    \n",
    "    Parameters\n",
    "    ----------\n",
    "    input_data : 4차원 배열 형태의 입력 데이터(이미지 수, 채널 수, 높이, 너비)\n",
    "    filter_h : 필터의 높이\n",
    "    filter_w : 필터의 너비\n",
    "    stride : 스트라이드\n",
    "    pad : 패딩\n",
    "    \n",
    "    Returns \n",
    "    -------\n",
    "    col : 2차원 배열\n",
    "    \"\"\"\n",
    "    N, C, H, W = input_data.shape\n",
    "    out_h = (H + 2*pad - filter_h)//stride + 1\n",
    "    out_w = (W + 2*pad - filter_w)//stride + 1\n",
    "\n",
    "    img = np.pad(input_data, [(0,0), (0,0), (pad, pad), (pad, pad)], 'constant')\n",
    "    col = np.zeros((N, C, filter_h, filter_w, out_h, out_w))\n",
    "\n",
    "    for y in range(filter_h):\n",
    "        y_max = y + stride*out_h\n",
    "        for x in range(filter_w):\n",
    "            x_max = x + stride*out_w\n",
    "            col[:, :, y, x, :, :] = img[:, :, y:y_max:stride, x:x_max:stride]\n",
    "\n",
    "    col = col.transpose(0, 4, 5, 1, 2, 3).reshape(N*out_h*out_w, -1)\n",
    "    return col"
   ]
  },
  {
   "cell_type": "code",
   "execution_count": 11,
   "metadata": {},
   "outputs": [
    {
     "data": {
      "text/plain": [
       "(9, 75)"
      ]
     },
     "execution_count": 11,
     "metadata": {},
     "output_type": "execute_result"
    }
   ],
   "source": [
    "x1 = np.random.rand(1,3,7,7) # 데이터 수, 채널, 높이, 너비 (4차원데이터)\n",
    "col1 = im2col(x1, 5, 5,stride=1, pad=0)\n",
    "col1.shape # 9 출력 이미지의 사이즈 75/3=25 채널 3 개로 되어 있음 1채널에는 25 = 5개 씩 5개 "
   ]
  },
  {
   "cell_type": "code",
   "execution_count": 12,
   "metadata": {},
   "outputs": [
    {
     "data": {
      "text/plain": [
       "(90, 75)"
      ]
     },
     "execution_count": 12,
     "metadata": {},
     "output_type": "execute_result"
    }
   ],
   "source": [
    "x2 = np.random.rand(10,3,7,7) \n",
    "col2 = im2col(x2, 5, 5,stride=1, pad=0)\n",
    "col2.shape"
   ]
  },
  {
   "cell_type": "code",
   "execution_count": 14,
   "metadata": {},
   "outputs": [
    {
     "data": {
      "text/plain": [
       "array([[[[ 0.49151141,  0.12164675,  0.86855103,  0.22889157,  0.14627692],\n",
       "         [ 0.07541529,  0.3949526 ,  0.33361449,  0.86657293,  0.4811581 ],\n",
       "         [ 0.32640807,  0.39474257,  0.82698389,  0.73426756,  0.2800613 ],\n",
       "         [ 0.07286197,  0.3153743 ,  0.3133537 ,  0.87511364,  0.28247084],\n",
       "         [ 0.42991487,  0.09583869,  0.14669056,  0.30303999,  0.64246304]],\n",
       "\n",
       "        [[ 0.05630697,  0.65717021,  0.79114124,  0.45824106,  0.034449  ],\n",
       "         [ 0.61192191,  0.39725512,  0.64123497,  0.75642833,  0.05970315],\n",
       "         [ 0.01500802,  0.33153892,  0.80708351,  0.68613629,  0.50918153],\n",
       "         [ 0.03102622,  0.61155163,  0.56794188,  0.11420271,  0.15683787],\n",
       "         [ 0.12565463,  0.09268063,  0.37644713,  0.55595962,  0.53431739]],\n",
       "\n",
       "        [[ 0.84796216,  0.07615896,  0.20359564,  0.84968551,  0.69550601],\n",
       "         [ 0.49095945,  0.34566338,  0.28857688,  0.38606163,  0.02631764],\n",
       "         [ 0.88426045,  0.25525849,  0.790754  ,  0.69487079,  0.05823669],\n",
       "         [ 0.56016581,  0.67255286,  0.09210888,  0.43415972,  0.63087052],\n",
       "         [ 0.96774258,  0.4621141 ,  0.04172049,  0.64125415,  0.25157897]]]])"
      ]
     },
     "execution_count": 14,
     "metadata": {},
     "output_type": "execute_result"
    }
   ],
   "source": [
    "x1[:, :,:5, :5]"
   ]
  },
  {
   "cell_type": "code",
   "execution_count": 13,
   "metadata": {},
   "outputs": [
    {
     "data": {
      "text/plain": [
       "array([ 0.49151141,  0.12164675,  0.86855103,  0.22889157,  0.14627692,\n",
       "        0.07541529,  0.3949526 ,  0.33361449,  0.86657293,  0.4811581 ,\n",
       "        0.32640807,  0.39474257,  0.82698389,  0.73426756,  0.2800613 ,\n",
       "        0.07286197,  0.3153743 ,  0.3133537 ,  0.87511364,  0.28247084,\n",
       "        0.42991487,  0.09583869,  0.14669056,  0.30303999,  0.64246304,\n",
       "        0.05630697,  0.65717021,  0.79114124,  0.45824106,  0.034449  ,\n",
       "        0.61192191,  0.39725512,  0.64123497,  0.75642833,  0.05970315,\n",
       "        0.01500802,  0.33153892,  0.80708351,  0.68613629,  0.50918153,\n",
       "        0.03102622,  0.61155163,  0.56794188,  0.11420271,  0.15683787,\n",
       "        0.12565463,  0.09268063,  0.37644713,  0.55595962,  0.53431739,\n",
       "        0.84796216,  0.07615896,  0.20359564,  0.84968551,  0.69550601,\n",
       "        0.49095945,  0.34566338,  0.28857688,  0.38606163,  0.02631764,\n",
       "        0.88426045,  0.25525849,  0.790754  ,  0.69487079,  0.05823669,\n",
       "        0.56016581,  0.67255286,  0.09210888,  0.43415972,  0.63087052,\n",
       "        0.96774258,  0.4621141 ,  0.04172049,  0.64125415,  0.25157897])"
      ]
     },
     "execution_count": 13,
     "metadata": {},
     "output_type": "execute_result"
    }
   ],
   "source": [
    "col1[0, :] #  0.05630697 6번째 -> x1 의 두번쨰 [[ 0.05630697 합쳐짐"
   ]
  },
  {
   "cell_type": "markdown",
   "metadata": {},
   "source": [
    "## 7.4.3 합성곱 계층 구현\n",
    "\n",
    "- Pooling 클래스\n",
    "    - forward() 메소드\n",
    "        - 입력 데이터 전개\n",
    "        - 행별 최댓값\n",
    "        - 적절한 모향으로 성형\n",
    "    - backward() 메소드\n",
    "        - ReLU 노드 구현 시 사용한 max의 역전파 참고"
   ]
  },
  {
   "cell_type": "code",
   "execution_count": null,
   "metadata": {
    "collapsed": true
   },
   "outputs": [],
   "source": [
    "\n",
    "class Convolution:\n",
    "    def __init__(self, W, b, stride=1, pad=0):\n",
    "        self.W = W\n",
    "        self.b = b\n",
    "        self.stride = stride\n",
    "        self.pad = pad\n",
    "        \n",
    "        # 중간 데이터（backward 시 사용）\n",
    "        self.x = None   \n",
    "        self.col = None\n",
    "        self.col_W = None\n",
    "        \n",
    "        # 가중치와 편향 매개변수의 기울기\n",
    "        self.dW = None\n",
    "        self.db = None\n",
    "\n",
    "    def forward(self, x):\n",
    "        FN, C, FH, FW = self.W.shape  # 필터개수, 채널, 필터높이, 필터폭\n",
    "        N, C, H, W = x.shape\n",
    "        out_h = 1 + int((H + 2*self.pad - FH) / self.stride)\n",
    "        out_w = 1 + int((W + 2*self.pad - FW) / self.stride)\n",
    "\n",
    "        ## Conv 구현 \n",
    "        col = im2col(x, FH, FW, self.stride, self.pad)\n",
    "        # 2차원 배열로 만듬 \n",
    "        col_W = self.W.reshape(FN, -1).T\n",
    "        # 두 행렬의 내적함 \n",
    "        out = np.dot(col, col_W) + self.b\n",
    "        \n",
    "        # (N,H,W,C) -> (N, C, H, W) 로 변경함 \n",
    "        out = out.reshape(N, out_h, out_w, -1).transpose(0, 3, 1, 2)\n",
    "\n",
    "        self.x = x\n",
    "        self.col = col\n",
    "        self.col_W = col_W\n",
    "\n",
    "        return out\n",
    "\n",
    "    def backward(self, dout):\n",
    "        FN, C, FH, FW = self.W.shape\n",
    "        dout = dout.transpose(0,2,3,1).reshape(-1, FN)\n",
    "\n",
    "        self.db = np.sum(dout, axis=0)\n",
    "        self.dW = np.dot(self.col.T, dout)\n",
    "        self.dW = self.dW.transpose(1, 0).reshape(FN, C, FH, FW)\n",
    "\n",
    "        dcol = np.dot(dout, self.col_W.T)\n",
    "        dx = col2im(dcol, self.x.shape, FH, FW, self.stride, self.pad)\n",
    "\n",
    "        return dx\n"
   ]
  },
  {
   "cell_type": "code",
   "execution_count": 26,
   "metadata": {},
   "outputs": [
    {
     "data": {
      "text/plain": [
       "array([[[[ 0,  1,  2],\n",
       "         [ 3,  4,  5],\n",
       "         [ 6,  7,  8]],\n",
       "\n",
       "        [[ 9, 10, 11],\n",
       "         [12, 13, 14],\n",
       "         [15, 16, 17]],\n",
       "\n",
       "        [[18, 19, 20],\n",
       "         [21, 22, 23],\n",
       "         [24, 25, 26]]]])"
      ]
     },
     "execution_count": 26,
     "metadata": {},
     "output_type": "execute_result"
    },
    {
     "data": {
      "text/plain": [
       "array([[ 0,  1,  2,  3,  4,  5,  6,  7,  8,  9, 10, 11, 12, 13, 14, 15, 16,\n",
       "        17, 18, 19, 20, 21, 22, 23, 24, 25, 26]])"
      ]
     },
     "execution_count": 26,
     "metadata": {},
     "output_type": "execute_result"
    }
   ],
   "source": [
    "# numpy reshape\n",
    "x = np.array(np.arange(27)).reshape(1,3,3,3)\n",
    "x\n",
    "x.reshape(1,-1)"
   ]
  },
  {
   "cell_type": "code",
   "execution_count": null,
   "metadata": {
    "collapsed": true
   },
   "outputs": [],
   "source": []
  }
 ],
 "metadata": {
  "kernelspec": {
   "display_name": "Python 3",
   "language": "python",
   "name": "python3"
  },
  "language_info": {
   "codemirror_mode": {
    "name": "ipython",
    "version": 3
   },
   "file_extension": ".py",
   "mimetype": "text/x-python",
   "name": "python",
   "nbconvert_exporter": "python",
   "pygments_lexer": "ipython3",
   "version": "3.6.1"
  }
 },
 "nbformat": 4,
 "nbformat_minor": 2
}
