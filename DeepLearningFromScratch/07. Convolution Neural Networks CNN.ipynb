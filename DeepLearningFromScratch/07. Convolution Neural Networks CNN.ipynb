{
 "cells": [
  {
   "cell_type": "markdown",
   "metadata": {},
   "source": [
    "# Convolution Neural Networks \n",
    "\n",
    "합성곱 신경망 \n",
    "\n",
    "이미지 인식, 음성 인식 등에 사용됨 \n",
    "\n",
    "\n",
    "# 7.1 전체 구조\n",
    "\n",
    "* Pooling Layer 추가됨 \n",
    "\n",
    "* Fully Connected (전결합) : 인접하는 계층의 모든 뉴런과 결합\n",
    "\n",
    "* Affine 계층 : 완전히 연결된 계층 \n",
    "\n",
    "    Affine -> ReLU -> Affine -> ReLU -> Affine -> Softmax ->\n",
    "\n",
    "* CNN 구조 \n",
    "    \n",
    "    Conv -> ReLU -> Pooling -> Conv -> ReLU -> Pooling -> Conv -> ReLU -> Affine -> ReLU -> Affine -> Softmax -> \n",
    "    \n",
    "    Conv 합성곱 계층과 Pooling 계층이 추가 됨 \n",
    "    \n",
    "\n",
    "# 7.2 Conv 계층\n",
    "\n",
    "## 7.2.1 Fully Connected 계층의 문제점 \n",
    "\n",
    "* Fully Connected : 인접하는 계층의 뉴런이 모두 연결되고 출력의 수는 임의로 정할 수 있다. \n",
    "\n",
    "    문제점 : 데이터의 형상이 무시 된다. \n",
    "        3차원 데이터를 평평한 1차원 데이터로 바꿔서 연산을 해야함 MNIST 데이터 셋을 사용한 사례에서 (1,28,28) 이미지를 1줄로 784 개의 데이터를 Affine 계층에 입력으로 사용\n",
    "\n",
    "\n",
    "* Feature map : 합성곱 계층의 입출력 데이터 \n",
    "    input feature map, output feature map\n",
    "    \n",
    "    \n",
    "## 7.2.2 Conv\n"
   ]
  },
  {
   "cell_type": "code",
   "execution_count": null,
   "metadata": {
    "collapsed": true
   },
   "outputs": [],
   "source": []
  }
 ],
 "metadata": {
  "kernelspec": {
   "display_name": "Python 3",
   "language": "python",
   "name": "python3"
  },
  "language_info": {
   "codemirror_mode": {
    "name": "ipython",
    "version": 3
   },
   "file_extension": ".py",
   "mimetype": "text/x-python",
   "name": "python",
   "nbconvert_exporter": "python",
   "pygments_lexer": "ipython3",
   "version": "3.6.1"
  }
 },
 "nbformat": 4,
 "nbformat_minor": 2
}
