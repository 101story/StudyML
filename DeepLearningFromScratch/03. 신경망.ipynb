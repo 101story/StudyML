{
 "cells": [
  {
   "cell_type": "markdown",
   "metadata": {},
   "source": [
    "# 3.1 퍼셉트론에서 신경망으로\n",
    "가중치 매개변수의 적절한 값을 데이터로 부터 자동으로 학습하능 능력 \n",
    "\n",
    "## 3.1.1 신경망\n",
    "\n",
    "* 입력층 -> 은닉층 -> 출력층\n",
    "* 활성화 함수 : 입력신호의 총합을 출력신호로 변환하는 함수\n",
    "\n",
    "## 3.1.2 퍼셉트론 \n",
    "b 편향 : 매개변수로 뉴런이 얼마나 쉽게 활성화 되느냐를 제어  <br>\n",
    "편향의 입력신호는 항상 1 <br>\n",
    "\n",
    "## 3.1.3 활성화 함수\n",
    "* activation function : 입력신호의 총합이 활성화를 일으키는지를 정하는 역할\n"
   ]
  },
  {
   "cell_type": "markdown",
   "metadata": {
    "collapsed": true
   },
   "source": [
    "# 3.2 활성화 함수 \n",
    "\n",
    "* step function (임계값을 경계로 출력이 바뀜) <br>\n",
    "퍼셉트론에서 활성화 함수로 계단 함수를 이용 한다.\n",
    "\n",
    "## 3.2.1 시그모이드 \n",
    "입력 값을 0과 1 사이의 값으로 만들어 줌 \n",
    "\n",
    "## 3.2.2 계단 함수 구현\n"
   ]
  },
  {
   "cell_type": "code",
   "execution_count": 5,
   "metadata": {
    "collapsed": true
   },
   "outputs": [],
   "source": [
    "import numpy as np"
   ]
  },
  {
   "cell_type": "code",
   "execution_count": 2,
<<<<<<< HEAD
   "metadata": {},
=======
   "metadata": {
    "collapsed": true
   },
>>>>>>> 3f1f0cd92d8898b7dbe3bb4e490f71a06b648711
   "outputs": [],
   "source": [
    "def step_function(x):\n",
    "    if x>0 :\n",
    "        return 1\n",
    "    else:\n",
    "        return 0"
   ]
  },
  {
   "cell_type": "code",
   "execution_count": 3,
   "metadata": {},
   "outputs": [
    {
     "data": {
      "text/plain": [
       "1"
      ]
     },
     "execution_count": 3,
     "metadata": {},
     "output_type": "execute_result"
    }
   ],
   "source": [
    "step_function(3.0)"
   ]
  },
  {
   "cell_type": "code",
   "execution_count": 4,
   "metadata": {
    "collapsed": true
   },
   "outputs": [],
   "source": [
    "def step_function(x):\n",
    "    y = x > 0\n",
    "    return y.astype(np.int)"
   ]
  },
  {
   "cell_type": "code",
   "execution_count": 13,
   "metadata": {},
   "outputs": [
    {
     "data": {
      "text/plain": [
       "array([1, 1])"
      ]
     },
     "execution_count": 13,
     "metadata": {},
     "output_type": "execute_result"
    }
   ],
   "source": [
    "step_function(np.array([1.0, 2.1]))"
   ]
  },
  {
   "cell_type": "markdown",
   "metadata": {},
   "source": [
    "## 3.2.3 계단 함수 그래프 "
   ]
  },
  {
   "cell_type": "code",
   "execution_count": 14,
   "metadata": {
    "collapsed": true
   },
   "outputs": [],
   "source": [
    "import numpy as np\n",
    "import matplotlib.pylab as plt\n",
    "\n",
    "def step_function(x): \n",
    "    return np.array(x > 0, dtype=np.int)\n"
   ]
  },
  {
   "cell_type": "code",
   "execution_count": 16,
   "metadata": {},
   "outputs": [
    {
     "data": {
      "image/png": "iVBORw0KGgoAAAANSUhEUgAAAXcAAAD8CAYAAACMwORRAAAABHNCSVQICAgIfAhkiAAAAAlwSFlz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\n1WIQXfsAAAAASUVORK5CYII=\n",
      "text/plain": [
       "<matplotlib.figure.Figure at 0x24bc020cf60>"
      ]
     },
     "metadata": {},
     "output_type": "display_data"
    }
   ],
   "source": [
    "# -5~5 까지 0.1 간격의 배열 생성 \n",
    "x = np.arange(-5.0, 5.0, 0.1)\n",
    "y = step_function(x)\n",
    "plt.plot(x, y)\n",
    "plt.ylim(-0.1, 1.1) # y 축 범위 지정\n",
    "plt.show()"
   ]
  },
  {
   "cell_type": "code",
   "execution_count": 19,
   "metadata": {},
   "outputs": [
    {
     "data": {
      "text/plain": [
       "array([-5. , -4.9, -4.8, -4.7, -4.6, -4.5, -4.4, -4.3, -4.2, -4.1])"
      ]
     },
     "execution_count": 19,
     "metadata": {},
     "output_type": "execute_result"
    }
   ],
   "source": [
    "x[:10]"
   ]
  },
  {
   "cell_type": "markdown",
   "metadata": {},
   "source": [
    "## 3.2.4 시그모이드 함수 구현 "
   ]
  },
  {
   "cell_type": "code",
<<<<<<< HEAD
   "execution_count": 20,
=======
   "execution_count": 27,
>>>>>>> 3f1f0cd92d8898b7dbe3bb4e490f71a06b648711
   "metadata": {
    "collapsed": true
   },
   "outputs": [],
   "source": [
    "def sigmoid(x):\n",
    "    return 1 / (1+np.exp(-x))"
   ]
  },
  {
   "cell_type": "code",
   "execution_count": 21,
   "metadata": {},
   "outputs": [
    {
     "data": {
      "text/plain": [
       "array([ 0.26894142,  0.73105858,  0.88079708])"
      ]
     },
     "execution_count": 21,
     "metadata": {},
     "output_type": "execute_result"
    }
   ],
   "source": [
    "x = np.array([-1.0, 1.0, 2.0])\n",
    "sigmoid(x)"
   ]
  },
  {
   "cell_type": "markdown",
   "metadata": {},
   "source": [
    "브로드케드스 연산으로 배열의 원소를 각각의 스칼라 값으로 바꿔 여러번 수행해줌 "
   ]
  },
  {
   "cell_type": "code",
   "execution_count": 22,
   "metadata": {},
   "outputs": [
    {
     "data": {
      "image/png": "iVBORw0KGgoAAAANSUhEUgAAAXcAAAD8CAYAAACMwORRAAAABHNCSVQICAgIfAhkiAAAAAlwSFlz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\nVO4iImFI5S4iEob+DxH15vm8DFuTAAAAAElFTkSuQmCC\n",
      "text/plain": [
       "<matplotlib.figure.Figure at 0x24bc025ea20>"
      ]
     },
     "metadata": {},
     "output_type": "display_data"
    }
   ],
   "source": [
    "x = np.arange(-5.0, 5.0, 0.1)\n",
    "y = sigmoid(x)\n",
    "plt.plot(x, y)\n",
    "plt.ylim(-0.1, 1.1) \n",
    "plt.show()"
   ]
  },
  {
   "cell_type": "markdown",
   "metadata": {},
   "source": [
    "## 3.2.5 시그모이드 함수와 계단함수 비교\n",
    "\n",
    "계단함수는 0과 1중 하나만 출력 <br>\n",
    "시그모이드는 0과 1사이의 값 연속적인 실수 \n",
    "\n",
    "## 3.2.6 비선형 함수 \n",
    "\n",
    "시그모이드 함수는 곡선, 계단함수는 직선 <br>\n",
    "둘다 선형이 아닌 비선형 함수 <br>\n",
    "(선형 함수 : 출력이 입력의 상수배만큼 변하는 함수 직선)\n",
    "\n",
    "선형함수는 신경망의 층을 깊게 하는 의미가 없어진다. <br>\n",
    "층을 아무리 깊이 해도 '은닉층이 없는 네트워크'와 같다. "
   ]
  },
  {
   "cell_type": "markdown",
   "metadata": {},
   "source": [
    "## 3.2.7 ReLU 함수 \n",
    "\n",
    "0 을 넘으면 그대로 출력 0 이하는 0을 출력하는 함수 \n"
   ]
  },
  {
   "cell_type": "code",
   "execution_count": 23,
   "metadata": {},
   "outputs": [
    {
     "data": {
      "text/plain": [
       "3"
      ]
     },
     "execution_count": 23,
     "metadata": {},
     "output_type": "execute_result"
    }
   ],
   "source": [
    "def relu(x):\n",
    "    return np.maximum(0, x)\n",
    "\n",
    "relu(3)"
   ]
  },
  {
   "cell_type": "markdown",
   "metadata": {},
   "source": [
    "# 3.3 다차원 배열의 계산\n",
    "\n",
    "## 3.3.1 다차원 배열 \n",
    "N 차원의 숫자를 나열해 놓은 배열 "
   ]
  },
  {
   "cell_type": "code",
   "execution_count": 25,
   "metadata": {},
   "outputs": [
    {
     "name": "stdout",
     "output_type": "stream",
     "text": [
      "[1 2 3 4]\n",
      "1\n",
      "(4,)\n",
      "4\n"
     ]
    }
   ],
   "source": [
    "# 1 차원\n",
    "a = np.array([1,2,3,4])\n",
    "print(a)\n",
    "print(np.ndim(a))\n",
    "print(a.shape)\n",
    "print(a.shape[0])"
   ]
  },
  {
   "cell_type": "code",
   "execution_count": 26,
   "metadata": {},
   "outputs": [
    {
     "name": "stdout",
     "output_type": "stream",
     "text": [
      "[[1 2]\n",
      " [3 4]\n",
      " [4 5]]\n",
      "2\n",
      "(3, 2)\n"
     ]
    }
   ],
   "source": [
    "# 2 차원 \n",
    "b = np.array([[1,2], [3,4],[4,5]])\n",
    "print(b)\n",
    "print(np.ndim(b))\n",
    "print(b.shape)"
   ]
  },
  {
   "cell_type": "markdown",
   "metadata": {},
   "source": [
    "## 3.3.2 행렬의 내적 (행렬 곱)\n"
   ]
  },
  {
   "cell_type": "code",
   "execution_count": 27,
   "metadata": {},
   "outputs": [
    {
     "name": "stdout",
     "output_type": "stream",
     "text": [
      "(2, 2)\n",
      "(2, 2)\n"
     ]
    },
    {
     "data": {
      "text/plain": [
       "array([[ 7, 10],\n",
       "       [15, 22]])"
      ]
     },
     "execution_count": 27,
     "metadata": {},
     "output_type": "execute_result"
    }
   ],
   "source": [
    "a = np.array([[1,2], [3,4]])\n",
    "b = np.array([[1,2], [3,4]])\n",
    "print(a.shape)\n",
    "print(b.shape)\n",
    "np.dot(a,b)"
   ]
  },
  {
   "cell_type": "code",
   "execution_count": 28,
   "metadata": {},
   "outputs": [
    {
     "name": "stdout",
     "output_type": "stream",
     "text": [
      "(2, 3)\n",
      "(3, 2)\n"
     ]
    },
    {
     "data": {
      "text/plain": [
       "array([[22, 28],\n",
       "       [40, 52]])"
      ]
     },
     "execution_count": 28,
     "metadata": {},
     "output_type": "execute_result"
    }
   ],
   "source": [
    "a = np.array([[1,2,3], [3,4,5]])\n",
    "b = np.array([[1,2], [3,4], [5,6]])\n",
    "print(a.shape)\n",
    "print(b.shape)\n",
    "np.dot(a,b)"
   ]
  },
  {
   "cell_type": "markdown",
   "metadata": {},
   "source": [
    "행렬의 형상 shape 에 주의해야 한다."
   ]
  },
  {
   "cell_type": "code",
   "execution_count": 29,
   "metadata": {},
   "outputs": [
    {
     "name": "stdout",
     "output_type": "stream",
     "text": [
      "(3, 2)\n",
      "(2,)\n"
     ]
    },
    {
     "data": {
      "text/plain": [
       "array([23, 53, 83])"
      ]
     },
     "execution_count": 29,
     "metadata": {},
     "output_type": "execute_result"
    }
   ],
   "source": [
    "a = np.array([[1,2], [3,4], [5,6]])\n",
    "b = np.array([7,8])\n",
    "print(a.shape)\n",
    "print(b.shape)\n",
    "np.dot(a,b)"
   ]
  },
  {
   "cell_type": "markdown",
   "metadata": {},
   "source": [
    "## 3.3.3 신경망의 내적 \n"
   ]
  },
  {
   "cell_type": "code",
   "execution_count": 31,
   "metadata": {},
   "outputs": [
    {
     "name": "stdout",
     "output_type": "stream",
     "text": [
      "(2,)\n",
      "(2, 3)\n"
     ]
    },
    {
     "data": {
      "text/plain": [
       "array([ 5, 11, 17])"
      ]
     },
     "execution_count": 31,
     "metadata": {},
     "output_type": "execute_result"
    }
   ],
   "source": [
    "X = np.array([1,2])\n",
    "print(X.shape)\n",
    "W = np.array([[1,3,5],[2,4,6]])\n",
    "print(W.shape)\n",
    "Y = np.dot(X,W)\n",
    "Y"
   ]
  },
  {
   "cell_type": "markdown",
   "metadata": {},
   "source": [
    "# 3층 신경망 구현하기\n",
    "\n",
    "입력부터 출력까지 순방향 처리 \n",
    "\n",
    "## 3.4.1 표기법 설명 \n",
    "  (1)  : 첫번째 층에서 출발 <br>\n",
    "  W <br>\n",
    "    1 2 : 다음 두번째 층의 1번쨰 뉴런으로 감, 첫번째 층의 두번쨰 뉴런이었음\n",
    "    \n",
    "## 3.4.2 각 층의 신호 전달 구하기\n"
   ]
  },
  {
   "cell_type": "code",
   "execution_count": 34,
   "metadata": {},
   "outputs": [
    {
     "name": "stdout",
     "output_type": "stream",
     "text": [
      "(2,)\n",
      "(2, 3)\n",
      "(3,)\n"
     ]
    },
    {
     "data": {
      "text/plain": [
       "array([ 0.3,  0.7,  1.1])"
      ]
     },
     "execution_count": 34,
     "metadata": {},
     "output_type": "execute_result"
    }
   ],
   "source": [
    "# 첫번째 층의 계산식 두개의 X 입력과 Bias \n",
    "X = np.array([1.0, 0.5])\n",
    "W1 = np.array([[0.1,0.3,0.5],[0.2,0.4,0.6]])\n",
    "B1 = np.array([0.1, 0.2, 0.3])\n",
    "\n",
    "print(X.shape)\n",
    "print(W1.shape)\n",
    "print(B1.shape)\n",
    "\n",
    "A1 = np.dot(X,W1) + B1\n",
    "A1"
   ]
  },
  {
   "cell_type": "code",
   "execution_count": 36,
   "metadata": {},
   "outputs": [
    {
     "name": "stdout",
     "output_type": "stream",
     "text": [
      "[ 0.3  0.7  1.1]\n",
      "[ 0.57444252  0.66818777  0.75026011]\n"
     ]
    }
   ],
   "source": [
    "# 활성화 함수 적용\n",
    "Z1 = sigmoid(A1)\n",
    "\n",
    "print(A1) # 은닉층에 들어온 값\n",
    "print(Z1) # 시그모이드로 변환한 값"
   ]
  },
  {
   "cell_type": "code",
   "execution_count": 37,
   "metadata": {},
   "outputs": [
    {
     "name": "stdout",
     "output_type": "stream",
     "text": [
      "(3,)\n",
      "(3, 2)\n",
      "(2,)\n"
     ]
    },
    {
     "data": {
      "text/plain": [
       "array([ 0.62624937,  0.7710107 ])"
      ]
     },
     "execution_count": 37,
     "metadata": {},
     "output_type": "execute_result"
    }
   ],
   "source": [
    "# 첫번쨰 층 -> 두번쨰 층으로 \n",
    "W2 = np.array([[0.1,0.4],[0.2,0.5],[0.3, 0.6]])\n",
    "B2 = np.array([0.1, 0.2])\n",
    "\n",
    "print(Z1.shape)\n",
    "print(W2.shape)\n",
    "print(B2.shape)\n",
    "\n",
    "A2 = np.dot(Z1,W2) + B2\n",
    "Z2 = sigmoid(A2)\n",
    "Z2"
   ]
  },
  {
   "cell_type": "code",
   "execution_count": 38,
   "metadata": {},
   "outputs": [
    {
     "data": {
      "text/plain": [
       "array([ 0.51615984,  1.21402696])"
      ]
     },
     "execution_count": 38,
     "metadata": {},
     "output_type": "execute_result"
    }
   ],
   "source": [
    "# 두번째 층 -> 출려층\n",
    "def identify_function(x):\n",
    "    return x\n",
    "\n",
    "W3 = np.array([[0.1,0.3],[0.2,0.5]])\n",
    "B3 = np.array([0.1, 0.2])\n",
    "A3 = np.dot(Z1,W2) + B2\n",
    "Y = identify_function(A3) # 항등 함수 (출력층의 활성화 함수)\n",
    "Y"
   ]
  },
  {
   "cell_type": "markdown",
   "metadata": {},
   "source": [
    "## 3.4.3 구현 정리"
   ]
  },
  {
   "cell_type": "code",
   "execution_count": 44,
   "metadata": {
    "collapsed": true
   },
   "outputs": [],
   "source": [
    "# 가중치와 편향을 초기화 \n",
    "def init_network():\n",
    "    network = {}\n",
    "    network['W1'] = np.array([[0.1,0.3,0.5],[0.2,0.4,0.6]])\n",
    "    network['B1'] = np.array([0.1, 0.2, 0.3])\n",
    "    network['W2'] = np.array([[0.1,0.4],[0.2,0.5],[0.3, 0.6]])\n",
    "    network['B2'] = np.array([0.1, 0.2])\n",
    "    network['W3'] = np.array([[0.1,0.3],[0.2,0.5]])\n",
    "    network['B3'] = np.array([0.1, 0.2])\n",
    "    return network\n",
    "\n",
    "# 입력신호를 출력으로 변환하는 처리과정 \n",
    "def forward(network, x):\n",
    "    W1, W2, W3 = network['W1'], network['W2'], network['W3']\n",
    "    b1, b2, b3 = network['B1'], network['B2'], network['B3']\n",
    "    \n",
    "    a1 = np.dot(x, W1) + b1\n",
    "    z1 = sigmoid(a1)\n",
    "    a2 = np.dot(z1, W2) + b2\n",
    "    z2 = sigmoid(a2)\n",
    "    a3 = np.dot(z2, W3) + b3\n",
    "    y = identify_function(a3)\n",
    "    \n",
    "    return y"
   ]
  },
  {
   "cell_type": "code",
   "execution_count": 45,
   "metadata": {},
   "outputs": [
    {
     "name": "stdout",
     "output_type": "stream",
     "text": [
      "[ 0.31682708  0.77338016]\n"
     ]
    }
   ],
   "source": [
    "networt = init_network()\n",
    "X = np.array([1.0, 0.5])\n",
    "y = forward(networt, X)\n",
    "print(y)"
   ]
  },
  {
   "cell_type": "markdown",
   "metadata": {},
   "source": [
    "# 3.5 출력층 설계하기 \n",
    "\n",
    "* 회귀 (주로 항등함수 사용 )\n",
    "* 분류 (주로 소프트맥스 사용 )"
   ]
  },
  {
   "cell_type": "markdown",
   "metadata": {},
   "source": [
    "## 3.5.1 항등함수와 소프트맥스 함수 구현하기 \n",
    "\n",
    "항등함수는 입력 그대로 출력 \n",
    "\n",
    "소프트맥스함수 <br>\n",
    "    -- 입력신호의 지수함수 exp(a)/ 모든 입력 신호의 지수함수 exp(a) 의 합 <br>\n",
    "    -- 출력층의 각 뉴런이 모든 입력신호에서 영향을 받음 "
   ]
  },
  {
   "cell_type": "code",
   "execution_count": 46,
   "metadata": {},
   "outputs": [
    {
     "name": "stdout",
     "output_type": "stream",
     "text": [
      "[  1.34985881  18.17414537  54.59815003]\n",
      "74.1221542102\n"
     ]
    },
    {
     "data": {
      "text/plain": [
       "array([ 0.01821127,  0.24519181,  0.73659691])"
      ]
     },
     "execution_count": 46,
     "metadata": {},
     "output_type": "execute_result"
    }
   ],
   "source": [
    "# 소프트맥스 함수 구현\n",
    "a = np.array([0.3, 2.9, 4.0])\n",
    "\n",
    "exp_a = np.exp(a)\n",
    "print(exp_a)\n",
    "sum_exp_a = np.sum(exp_a)\n",
    "print(sum_exp_a)\n",
    "\n",
    "y = exp_a / sum_exp_a\n",
    "y"
   ]
  },
  {
   "cell_type": "markdown",
   "metadata": {},
   "source": [
    "## 3.5.2 소프트맥스 함수 구현시 주의점\n",
    "\n",
    "지수함수를 사용하기 때문에 연산시 오버플로우가 발생할수 있음\n",
    "\n",
    "오버플로우를 발생하지 않도록 식을 변형 <br>\n",
    "소프트맥스 식의 분자 분모에 같은 값을 곱해줌 (주로 입력값의 최대값을 이용) = 지수함수에 어떤값을 더하거나 뻄"
   ]
  },
  {
   "cell_type": "code",
   "execution_count": 47,
   "metadata": {},
   "outputs": [
    {
     "name": "stdout",
     "output_type": "stream",
     "text": [
      "[ nan  nan  nan]\n",
      "[  0 -10 -20]\n"
     ]
    },
    {
     "name": "stderr",
     "output_type": "stream",
     "text": [
      "C:\\Users\\jhee\\Documents\\Anaconda3\\lib\\site-packages\\ipykernel_launcher.py:2: RuntimeWarning: overflow encountered in exp\n",
      "  \n",
      "C:\\Users\\jhee\\Documents\\Anaconda3\\lib\\site-packages\\ipykernel_launcher.py:2: RuntimeWarning: invalid value encountered in true_divide\n",
      "  \n"
     ]
    },
    {
     "data": {
      "text/plain": [
       "array([  9.99954600e-01,   4.53978686e-05,   2.06106005e-09])"
      ]
     },
     "execution_count": 47,
     "metadata": {},
     "output_type": "execute_result"
    }
   ],
   "source": [
    "a = np.array([1010, 1000, 990])\n",
    "before = np.exp(a) / np.sum(np.exp(a))\n",
    "print(before)\n",
    "\n",
    "c = np.max(a)\n",
    "print(a-c)\n",
    "\n",
    "new = np.exp(a-c) / np.sum(np.exp(a-c))\n",
    "new"
   ]
  },
  {
   "cell_type": "code",
<<<<<<< HEAD
   "execution_count": 48,
=======
   "execution_count": 26,
>>>>>>> 3f1f0cd92d8898b7dbe3bb4e490f71a06b648711
   "metadata": {
    "collapsed": true
   },
   "outputs": [],
   "source": [
    "def softmax(a):\n",
    "    c = np.max(a) \n",
    "    exp_a = np.exp(a-c)\n",
    "    sum_exp_a = np.sum(np.exp(a-c))\n",
    "    y = exp_a / sum_exp_a\n",
    "    \n",
    "    return y"
   ]
  },
  {
   "cell_type": "code",
   "execution_count": 49,
   "metadata": {},
   "outputs": [
    {
     "data": {
      "text/plain": [
       "array([  9.99954600e-01,   4.53978686e-05,   2.06106005e-09])"
      ]
     },
     "execution_count": 49,
     "metadata": {},
     "output_type": "execute_result"
    }
   ],
   "source": [
    "softmax(a)"
   ]
  },
  {
   "cell_type": "markdown",
   "metadata": {},
   "source": [
    "## 3.5.3 소프트맥스 함수의 특징 "
   ]
  },
  {
   "cell_type": "code",
   "execution_count": 50,
   "metadata": {},
   "outputs": [
    {
     "name": "stdout",
     "output_type": "stream",
     "text": [
      "[ 0.01821127  0.24519181  0.73659691]\n"
     ]
    },
    {
     "data": {
      "text/plain": [
       "1.0"
      ]
     },
     "execution_count": 50,
     "metadata": {},
     "output_type": "execute_result"
    }
   ],
   "source": [
    "a = np.array([0.3, 2.9, 4.0])\n",
    "y = softmax(a)\n",
    "print(y)\n",
    "np.sum(y)"
   ]
  },
  {
<<<<<<< HEAD
   "cell_type": "code",
   "execution_count": null,
   "metadata": {
    "collapsed": true
   },
   "outputs": [],
   "source": [
    "소프트맥스의 총 합은 1 => 함수의 출력을 확률로 해석 할수 있음 \n"
=======
   "cell_type": "markdown",
   "metadata": {
    "collapsed": true
   },
   "source": [
    "소프트맥스의 총 합은 1 => 함수의 출력을 확률로 해석 할수 있음 <br>\n",
    "지수함수 계산의 자원을 줄이고자 주로 출력층의 소프트맥스함수를 생략함\n",
    "\n",
    "학습, 추론 단계 <br>\n",
    "- 학습 : 모델을 학습\n",
    "- 추론 : 학습한 모델로 데이터에 대해서 추론 (소프트맥스 생략)\n",
    "\n",
    "## 3.5.4 출력층의 뉴런 수정하기\n",
    "분류하고 싶은 클래스의 수 \n",
    "\n"
   ]
  },
  {
   "cell_type": "markdown",
   "metadata": {},
   "source": [
    "# 3.6 MNIST \n",
    "\n",
    "추론 과정 구현 <br>\n",
    "순전파 (forward propagation)\n",
    "\n",
    "## 3.6.1 MNIST 데이터셋\n",
    "28*28\n",
    "\n"
   ]
  },
  {
   "cell_type": "code",
   "execution_count": 2,
   "metadata": {},
   "outputs": [
    {
     "data": {
      "text/plain": [
       "{'COL_NAMES': ['label', 'data'],\n",
       " 'DESCR': 'mldata.org dataset: mnist-original',\n",
       " 'data': array([[0, 0, 0, ..., 0, 0, 0],\n",
       "        [0, 0, 0, ..., 0, 0, 0],\n",
       "        [0, 0, 0, ..., 0, 0, 0],\n",
       "        ..., \n",
       "        [0, 0, 0, ..., 0, 0, 0],\n",
       "        [0, 0, 0, ..., 0, 0, 0],\n",
       "        [0, 0, 0, ..., 0, 0, 0]], dtype=uint8),\n",
       " 'target': array([ 0.,  0.,  0., ...,  9.,  9.,  9.])}"
      ]
     },
     "execution_count": 2,
     "metadata": {},
     "output_type": "execute_result"
    }
   ],
   "source": [
    "from sklearn.datasets import fetch_mldata\n",
    "mnist = fetch_mldata('MNIST original')\n",
    "mnist"
   ]
  },
  {
   "cell_type": "code",
   "execution_count": 12,
   "metadata": {},
   "outputs": [],
   "source": [
    "x, y = mnist[\"data\"], mnist[\"target\"]\n",
    "x.shape\n",
    "x_train, t_train, x_test, t_test = X[:60000],y[:60000], X[60000:], y[60000:]"
   ]
  },
  {
   "cell_type": "code",
   "execution_count": 14,
   "metadata": {},
   "outputs": [
    {
     "name": "stdout",
     "output_type": "stream",
     "text": [
      "(60000, 784)\n",
      "(60000,)\n",
      "(10000, 784)\n",
      "(10000,)\n"
     ]
    }
   ],
   "source": [
    "print(x_train.shape)\n",
    "print(t_train.shape)\n",
    "print(x_test.shape)\n",
    "print(t_test.shape)"
   ]
  },
  {
   "cell_type": "markdown",
   "metadata": {},
   "source": [
    "pickle : 프로그램 실행 중에 특정 객체를 파일로 저장 (당시 객체를 즉시복원가능)"
   ]
  },
  {
   "cell_type": "code",
   "execution_count": 20,
   "metadata": {},
   "outputs": [
    {
     "name": "stdout",
     "output_type": "stream",
     "text": [
      "0.0\n",
      "(784,)\n",
      "(28, 28)\n"
     ]
    }
   ],
   "source": [
    "import sys, os\n",
    "sys.path.append(os.pardir) # 부모 디렉터리의 파일을 가져올 수 있도록 설정\n",
    "from PIL import Image\n",
    "import numpy as np\n",
    "\n",
    "def img_show(img):\n",
    "    # 넘파이로 저장된 이미지 데이터를 PLT 데이터 객체로 변환 \n",
    "    pil_img = Image.fromarray(np.uint8(img))\n",
    "    pil_img.show()\n",
    "\n",
    "img = x_train[0]\n",
    "label = t_train[0]\n",
    "print(label)  # 5\n",
    "\n",
    "print(img.shape)  # (784,)\n",
    "img = img.reshape(28, 28)  # 형상을 원래 이미지의 크기로 변형\n",
    "print(img.shape)  # (28, 28)\n",
    "\n",
    "img_show(img)"
   ]
  },
  {
   "cell_type": "markdown",
   "metadata": {},
   "source": [
    "## 3.6.2 신경망의 추론 처리\n"
   ]
  },
  {
   "cell_type": "code",
   "execution_count": 31,
   "metadata": {},
   "outputs": [],
   "source": [
    "import sys, os\n",
    "sys.path.append(os.pardir)  # 부모 디렉터리의 파일을 가져올 수 있도록 설정\n",
    "import numpy as np\n",
    "import pickle\n",
    "#from common.functions import sigmoid, softmax\n",
    "\n",
    "# pickle 파일인 sample_wegiht 에 저장된 학습된 가중치 매개변수를 읽고 \n",
    "#가중치와 편향을 딕셔너리 변수로 저장\n",
    "def init_network():\n",
    "    with open(\"sample_weight.pkl\", 'rb') as f:\n",
    "        network = pickle.load(f)\n",
    "    return network\n",
    "\n",
    "\n",
    "def predict(network, x):\n",
    "    W1, W2, W3 = network['W1'], network['W2'], network['W3']\n",
    "    b1, b2, b3 = network['b1'], network['b2'], network['b3']\n",
    "\n",
    "    a1 = np.dot(x, W1) + b1\n",
    "    z1 = sigmoid(a1)\n",
    "    a2 = np.dot(z1, W2) + b2\n",
    "    z2 = sigmoid(a2)\n",
    "    a3 = np.dot(z2, W3) + b3\n",
    "    y = softmax(a3)\n",
    "\n",
    "    return y\n"
   ]
  },
  {
   "cell_type": "code",
   "execution_count": 30,
   "metadata": {},
   "outputs": [
    {
     "name": "stderr",
     "output_type": "stream",
     "text": [
      "C:\\Users\\jhee\\Documents\\Anaconda3\\lib\\site-packages\\ipykernel_launcher.py:2: RuntimeWarning: overflow encountered in exp\n",
      "  \n"
     ]
    },
    {
     "name": "stdout",
     "output_type": "stream",
     "text": [
      "Accuracy:0.9251833333333334\n"
     ]
    }
   ],
   "source": [
    "x = x_train\n",
    "t = t_train\n",
    "network = init_network()\n",
    "accuracy_cnt = 0\n",
    "for i in range(len(x)):\n",
    "    y = predict(network, x[i])\n",
    "    p= np.argmax(y) # 확률이 가장 높은 원소의 인덱스를 얻는다.\n",
    "    if p == t[i]:\n",
    "        accuracy_cnt += 1\n",
    "\n",
    "print(\"Accuracy:\" + str(float(accuracy_cnt) / len(x)))"
   ]
  },
  {
   "cell_type": "markdown",
   "metadata": {},
   "source": [
    "정규화 (normalization) : 데이터를 특정 범위로 변환하는 처리 \n",
    "\n",
    "## 3.6.3 배치처리\n",
    "형상 shape 에 주의 \n",
    "\n",
    "신경망 각층의 가중치 형상 "
   ]
  },
  {
   "cell_type": "code",
   "execution_count": 32,
   "metadata": {},
   "outputs": [
    {
     "name": "stdout",
     "output_type": "stream",
     "text": [
      "(60000, 784)\n",
      "(784,)\n",
      "(784, 50)\n",
      "(50, 100)\n",
      "(100, 10)\n"
     ]
    }
   ],
   "source": [
    "network = init_network()\n",
    "W1, W2, W3 = network['W1'], network['W2'], network['W3']\n",
    "print(x.shape)\n",
    "print(x[0].shape)\n",
    "print(W1.shape)\n",
    "print(W2.shape)\n",
    "print(W3.shape)"
   ]
  },
  {
   "cell_type": "markdown",
   "metadata": {},
   "source": [
    "배치 : 하나로 묶은 입력 데이터 "
   ]
  },
  {
   "cell_type": "code",
   "execution_count": 33,
   "metadata": {},
   "outputs": [
    {
     "name": "stderr",
     "output_type": "stream",
     "text": [
      "C:\\Users\\jhee\\Documents\\Anaconda3\\lib\\site-packages\\ipykernel_launcher.py:2: RuntimeWarning: overflow encountered in exp\n",
      "  \n"
     ]
    },
    {
     "name": "stdout",
     "output_type": "stream",
     "text": [
      "Accuracy:0.9251833333333334\n"
     ]
    }
   ],
   "source": [
    "batch_size = 100\n",
    "accuracy_cnt = 0\n",
    "\n",
    "for i in range(0, len(x), batch_size):\n",
    "    x_batch = x[i:i+batch_size]\n",
    "    y_batch = predict(network, x_batch)\n",
    "    p = np.argmax(y_batch, axis=1)\n",
    "    accuracy_cnt += np.sum(p == t[i:i+batch_size])\n",
    "    \n",
    "print(\"Accuracy:\" + str(float(accuracy_cnt) / len(x)))"
   ]
  },
  {
   "cell_type": "code",
   "execution_count": 34,
   "metadata": {},
   "outputs": [
    {
     "data": {
      "text/plain": [
       "array([1, 2, 1, 0], dtype=int64)"
      ]
     },
     "execution_count": 34,
     "metadata": {},
     "output_type": "execute_result"
    }
   ],
   "source": [
    "x = np.array([[0.1, 0.8, 0.1],\n",
    "             [0.3, 0.1, 0.6],\n",
    "             [0.2, 0.5, 0.3],\n",
    "             [0.8, 0.1, 0.1]])\n",
    "y = np.argmax(x, axis=1) # 행중에서 \n",
    "y"
   ]
  },
  {
   "cell_type": "code",
   "execution_count": 36,
   "metadata": {},
   "outputs": [
    {
     "data": {
      "text/plain": [
       "array([3, 0, 1], dtype=int64)"
      ]
     },
     "execution_count": 36,
     "metadata": {},
     "output_type": "execute_result"
    }
   ],
   "source": [
    "np.argmax(x, axis=0) "
   ]
  },
  {
   "cell_type": "code",
   "execution_count": 39,
   "metadata": {},
   "outputs": [
    {
     "name": "stdout",
     "output_type": "stream",
     "text": [
      "[ True  True False  True]\n"
     ]
    },
    {
     "data": {
      "text/plain": [
       "3"
      ]
     },
     "execution_count": 39,
     "metadata": {},
     "output_type": "execute_result"
    }
   ],
   "source": [
    "y = np.array([1,2,1,0])\n",
    "t = np.array([1,2,0,0])\n",
    "print(y==t)\n",
    "np.sum(y==t)"
>>>>>>> 3f1f0cd92d8898b7dbe3bb4e490f71a06b648711
   ]
  }
 ],
 "metadata": {
  "kernelspec": {
   "display_name": "Python 3",
   "language": "python",
   "name": "python3"
  },
  "language_info": {
   "codemirror_mode": {
    "name": "ipython",
    "version": 3
   },
   "file_extension": ".py",
   "mimetype": "text/x-python",
   "name": "python",
   "nbconvert_exporter": "python",
   "pygments_lexer": "ipython3",
   "version": "3.6.1"
  }
 },
 "nbformat": 4,
 "nbformat_minor": 2
}
