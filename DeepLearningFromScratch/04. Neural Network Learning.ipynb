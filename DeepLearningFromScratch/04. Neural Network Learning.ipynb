{
 "cells": [
  {
   "cell_type": "code",
   "execution_count": 7,
   "metadata": {
    "collapsed": true
   },
   "outputs": [],
   "source": [
    "from IPython.core.interactiveshell import InteractiveShell\n",
    "InteractiveShell.ast_node_interactivity = \"all\" "
   ]
  },
  {
   "cell_type": "markdown",
   "metadata": {},
   "source": [
    "* 손실함수 : 결과값을 가장 작게 만드는 함수 가중치 매개변수를 찾을떄 사용 \n",
    "\n",
    "# 4.1 데이터 학습\n",
    "\n",
    "규칙을 ‘사람’이 만드는 방식 ‘기계’가 데이터로부터 규칙(특징)을 발견해 내는 방식으로 패러다임 전환\n",
    "\n",
    "## 4.1.1 데이터 주도학습\n",
    "특징을 추출하고 벡터가 가지는 가중치를 부여\n",
    "\n",
    "종단간 기계학습(end-to-end machine learning) : 처음부터 끝까지 입력에서 결과를 얻는다. \n",
    "\n",
    "## 4.1.2 훈련데이터와 시험데이터 \n",
    "범용능력을 평가하기 위해서 train, test 데이터 분리 \n",
    "\n",
    "# 4.2 손실함수 \n",
    "loss function : 최적의 매겨변수 값을 탐색 \n",
    "\n",
    "평균 제곱 오차, 교차 엔트로피 오차 사용\n",
    "\n",
    "\n",
    "## 4.2.1 평균 제곱 오차 \n",
    "\n",
    "mean squared error MSE : 각 원소의 출력(추정) 값과 정답 레이블의 차를 제곱한 후 그 총합 \n",
    "\n",
    "one hot encoding: 한원소만 1로 하고 그외는 0으로 나타내는 표기범\n"
   ]
  },
  {
   "cell_type": "code",
   "execution_count": 8,
   "metadata": {
    "collapsed": true
   },
   "outputs": [],
   "source": [
    "import numpy as np \n",
    "\n",
    "def mean_squared_error(y, t):\n",
    "    return 0.5 * np.sum((y-t)**2)"
   ]
  },
  {
   "cell_type": "code",
   "execution_count": 9,
   "metadata": {},
   "outputs": [
    {
     "name": "stdout",
     "output_type": "stream",
     "text": [
      "0.095\n",
      "0.415\n"
     ]
    }
   ],
   "source": [
    "t = [0,0,1,0,0,0,0,0,0,0]\n",
    "y = [0.1,0.2,0.7,0.2,0.1,0,0,0,0,0]\n",
    "\n",
    "print(mean_squared_error(np.array(y), np.array(t)))\n",
    "\n",
    "t = [0,0,1,0,0,0,0,0,0,0]\n",
    "y = [0.1,0.2,0.7,0.2,0.1,0,0.8,0,0,0]\n",
    "print(mean_squared_error(np.array(y), np.array(t)))"
   ]
  },
  {
   "cell_type": "markdown",
   "metadata": {},
   "source": [
    "오답에 가까울 수록 결과가 크다.\n",
    "\n",
    "## 4.2.2 교차 엔트로피 \n",
    "cross entroypy CEE : 정답에 해당하는 인덱스만 1 log 를 곱해도 나머진 모두 0이므로 결과에 영향을 주지 않는다. 정답일떄의 출력이 전체 값을 정함\n",
    "\n",
    "정답에 해당하는 출력이 커질수록 0에 다가가다가 출력이 1일떄 0이 됨, 반대로 정답일때의 출력이 작아질수록 오차는 커짐\n",
    "\n",
    "- 정보엔트로피 : 현재 사건에 대한 정보량 (정보량이 많다. = 선택사항이 많다. = 불확실 하다. = 복잡성, 불확정성)\n",
    "- 교차엔트로피 (자연로그) : 두 확률 간의 엔트로피 (두확률간에 복잡도가 얼마나 높은지, 오차가 얼마나 많은지)\n"
   ]
  },
  {
   "cell_type": "code",
   "execution_count": 10,
   "metadata": {
    "collapsed": true
   },
   "outputs": [],
   "source": [
    "def cross_entropy_error(y, t):\n",
    "    delta = 1e-7\n",
    "    return -np.sum(t*np.log(y+delta))\n",
    "\n",
    "# np.log(0) 이면 -inf 가 되어 계산을 진행할수 없음 0이 되지 않도록 해줌 "
   ]
  },
  {
   "cell_type": "code",
   "execution_count": 11,
   "metadata": {},
   "outputs": [
    {
     "name": "stdout",
     "output_type": "stream",
     "text": [
      "0.356674801082\n",
      "0.69314698056\n"
     ]
    }
   ],
   "source": [
    "t = [0,0,1,0,0,0,0,0,0,0]\n",
    "y = [0.1,0.2,0.7,0.2,0.1,0,0,0.1,0.2,0]\n",
    "print(cross_entropy_error(np.array(y), np.array(t)))\n",
    "\n",
    "y = [0.1,0.2,0.5,0.2,0.1,0,0.8,0,0,0]\n",
    "print(cross_entropy_error(np.array(y), np.array(t)))"
   ]
  },
  {
   "cell_type": "markdown",
   "metadata": {},
   "source": [
    "오차가 작은 처번째 추정이 정답일 가능성이 높다고 판단"
   ]
  },
  {
   "cell_type": "markdown",
   "metadata": {},
   "source": [
    "## 4.2.3 미니배치 학습\n",
    "\n",
    "모두에 대한 손실 함수의 합을 구함 평균 손실 함수 \n",
    "\n",
    "일부만 골라서 학습 미니배치 학습 \n",
    "\n",
    "test 한건당 평균 오차 "
   ]
  },
  {
   "cell_type": "code",
   "execution_count": 14,
   "metadata": {},
   "outputs": [
    {
     "name": "stdout",
     "output_type": "stream",
     "text": [
      "(60000, 784)\n",
      "(60000, 10)\n"
     ]
    }
   ],
   "source": [
    "import sys, os\n",
    "sys.path.append(os.pardir)  # 부모 디렉터리의 파일을 가져올 수 있도록 \n",
    "import numpy as np\n",
    "import pickle\n",
    "from tmp.dataset.mnist import load_mnist\n",
    "from common.functions import sigmoid, softmax\n",
    "\n",
    "(x_train, t_train), (x_test, t_test) = load_mnist(normalize =True, one_hot_label=True)\n",
    "\n",
    "print(x_train.shape)\n",
    "print(t_train.shape)"
   ]
  },
  {
   "cell_type": "code",
   "execution_count": 16,
   "metadata": {},
   "outputs": [
    {
     "data": {
      "text/plain": [
       "array([[ 0.,  0.,  0., ...,  0.,  0.,  0.],\n",
       "       [ 0.,  0.,  0., ...,  0.,  0.,  0.],\n",
       "       [ 0.,  0.,  0., ...,  0.,  0.,  0.],\n",
       "       ..., \n",
       "       [ 0.,  0.,  0., ...,  0.,  0.,  0.],\n",
       "       [ 0.,  0.,  0., ...,  0.,  0.,  0.],\n",
       "       [ 0.,  0.,  0., ...,  0.,  0.,  0.]], dtype=float32)"
      ]
     },
     "execution_count": 16,
     "metadata": {},
     "output_type": "execute_result"
    },
    {
     "data": {
      "text/plain": [
       "array([ 0.,  0.,  0.,  0.,  0.,  0.,  1.,  0.,  0.,  0.])"
      ]
     },
     "execution_count": 16,
     "metadata": {},
     "output_type": "execute_result"
    }
   ],
   "source": [
    "# 훈련 데이터에서 무작위로 10장만 뺌 np.random.choice 이용\n",
    "train_size = x_train.shape[0]\n",
    "batch_size = 10\n",
    "batch_mask = np.random.choice(train_size, batch_size)\n",
    "x_batch = x_train[batch_mask]\n",
    "t_batch = t_train[batch_mask]\n",
    "x_batch[0:10]\n",
    "t_batch[0]"
   ]
  },
  {
   "cell_type": "code",
   "execution_count": 17,
   "metadata": {},
   "outputs": [
    {
     "data": {
      "text/plain": [
       "array([35983, 53085, 12898, 30921,  9693,  2657, 45665,  6457,   993, 43959])"
      ]
     },
     "execution_count": 17,
     "metadata": {},
     "output_type": "execute_result"
    }
   ],
   "source": [
    "np.random.choice(60000, 10)"
   ]
  },
  {
   "cell_type": "markdown",
   "metadata": {},
   "source": [
    "## 4.2.4 (배치용) 교차 엔트로피 오차 구현하기 \n",
    "\n",
    "데이터 하나당 교차 엔트로피 오차를 구하는 경우 reshape 함수로 데이터 shape 을 바꿈\n",
    "배치크기로 나눠 정규화를 하고 이미지 1장단 평균의 교차 엔트로피 오차를 계산\n"
   ]
  },
  {
   "cell_type": "code",
   "execution_count": 25,
   "metadata": {
    "collapsed": true
   },
   "outputs": [],
   "source": [
    "def cross_entropy_error(y, t):\n",
    "    if y.ndim == 1:\n",
    "        t = t.reshape(1, t.size)\n",
    "        y = y.reshape(1, y.size)\n",
    "        \n",
    "    batch_size = y.shape[0]\n",
    "    return -np.sum(t*np.log(y))/batch_size"
   ]
  },
  {
   "cell_type": "code",
   "execution_count": 26,
   "metadata": {
    "scrolled": true
   },
   "outputs": [
    {
     "data": {
      "text/plain": [
       "0.21815200513228775"
      ]
     },
     "execution_count": 26,
     "metadata": {},
     "output_type": "execute_result"
    }
   ],
   "source": [
    "from tmp.ch03 import neuralnet_mnist\n",
    "network = neuralnet_mnist.init_network()\n",
    "y = neuralnet_mnist.predict(network, x_batch)\n",
    "cross_entropy_error(y, t_batch)"
   ]
  },
  {
   "cell_type": "code",
   "execution_count": 27,
   "metadata": {
    "collapsed": true
   },
   "outputs": [],
   "source": [
    "# one-hot 이 아닌 숫자 레이블일 경우 \n",
    "def cross_entropy_error(y, t):\n",
    "    if y.ndim == 1:\n",
    "        t = t.reshape(1, t.size)\n",
    "        y = y.reshape(1, y.size)\n",
    "        \n",
    "    batch_size = y.shape[0]\n",
    "    return -np.sum(np.log(y[np.arange(batch_size), t]))/batch_size"
   ]
  },
  {
   "cell_type": "code",
   "execution_count": 28,
   "metadata": {},
   "outputs": [
    {
     "data": {
      "text/plain": [
       "10"
      ]
     },
     "execution_count": 28,
     "metadata": {},
     "output_type": "execute_result"
    },
    {
     "data": {
      "text/plain": [
       "[0, 0, 1, 0, 0, 0, 0, 0, 0, 0]"
      ]
     },
     "execution_count": 28,
     "metadata": {},
     "output_type": "execute_result"
    },
    {
     "data": {
      "text/plain": [
       "array([0, 1, 2, 3, 4, 5, 6, 7, 8, 9])"
      ]
     },
     "execution_count": 28,
     "metadata": {},
     "output_type": "execute_result"
    },
    {
     "data": {
      "text/plain": [
       "array([  5.24714182e-04,   1.59779377e-03,   7.48113889e-05,\n",
       "         6.39280770e-04,   9.94004071e-01,   4.35634895e-04,\n",
       "         1.87226001e-03,   9.97999232e-05,   7.29477335e-07,\n",
       "         2.27661990e-02], dtype=float32)"
      ]
     },
     "execution_count": 28,
     "metadata": {},
     "output_type": "execute_result"
    }
   ],
   "source": [
    "batch_size\n",
    "t\n",
    "np.arange(batch_size)\n",
    "y[np.arange(batch_size), t]\n",
    "# np.arange(batch_size) row / t column"
   ]
  },
  {
   "cell_type": "markdown",
   "metadata": {},
   "source": [
    "* np.log(y[arange(batch_size), t])  설명<br>\n",
    "0 부터 batch_size-1 까지 배열을 생성 <br>\n",
    "각 데이터 정답 레이블에 해당하는 신경망의 출력을 추출 <br>\n",
    "예) [y[0,2],y[1,7],y[3,9],y[4,4]]"
   ]
  },
  {
   "cell_type": "code",
   "execution_count": 44,
   "metadata": {},
   "outputs": [
    {
     "data": {
      "text/plain": [
       "232.84817245588638"
      ]
     },
     "execution_count": 44,
     "metadata": {},
     "output_type": "execute_result"
    }
   ],
   "source": [
    "cross_entropy_error(y, [3])"
   ]
  },
  {
   "cell_type": "code",
   "execution_count": 35,
   "metadata": {
    "collapsed": true
   },
   "outputs": [],
   "source": [
    "# 두가지를 한번에\n",
    "def cross_entropy_error(y, t):\n",
    "    if y.ndim == 1:\n",
    "        t = t.reshape(1, t.size)\n",
    "        y = y.reshape(1, y.size)\n",
    "        \n",
    "    # 훈련 데이터가 원핫벡터라면 정답 레이블의 인덱스로 반환\n",
    "    if t.size == y.size:\n",
    "        t = t.argmax(axis=1)\n",
    "        \n",
    "    batch_size = y.shape[0]\n",
    "    return -np.sum(np.log(y[np.arange(batch_size), t]))/batch_size"
   ]
  },
  {
   "cell_type": "markdown",
   "metadata": {},
   "source": [
    "## 4.2.5 왜 손실 함수를 설정하는가?\n",
    "\n",
    "손실함수의 미분 : 가중치 매개변수의 값을 아주 조금 변화시켰을때, 손실함수가 어떻게 변하냐 <br>\n",
    "음수면 가중치 매개변수를 양으로 양이면 음수로 변화 시킴 <br>\n",
    "미분 값이 0 이면 멈춤 <br>\n",
    "\n",
    "계단 함수의 경우 미분한 값이 대부분 0 시그모이드는 연속적으로 변함 <br>\n",
    "기울기가 0이 되지 않아 올바르게 학습할 수 있다. "
   ]
  },
  {
   "cell_type": "markdown",
   "metadata": {},
   "source": [
    "# 4.3 수치 미분\n",
    "\n",
    "경사법 기울기(경사) 값을 기준으로 나아가야 하는 방향 \n",
    "\n",
    "## 4.3.1 미분\n"
   ]
  },
  {
   "cell_type": "code",
   "execution_count": 10,
   "metadata": {
    "collapsed": true
   },
   "outputs": [],
   "source": [
    "def numerical_diff(f,x):\n",
    "    h=10e-50\n",
    "    return (f(x+h)-f(x))/h"
   ]
  },
  {
   "cell_type": "markdown",
   "metadata": {},
   "source": [
    "문제점1) 반올림 오차 소숫점 8자리 이하는 생략되어 0이 되버림 (float32 0이되버림) > 1e-4 사용 <br>\n",
    "문제점2) 차분 x+h 와 x 사이의 기울기에 해당됨 x 의 진정한 접선이 아니다. \n",
    "\n",
    "x+h 와 x-h 를 사용하여 x 를 중심으로 전후 차분을 계산 : **중심차분(중앙차분) **"
   ]
  },
  {
   "cell_type": "code",
   "execution_count": 29,
   "metadata": {
    "collapsed": true
   },
   "outputs": [],
   "source": [
    "def numerical_diff(f,x):\n",
    "    h=1e-4 #0.001\n",
    "    return (f(x+h)-f(x-h))/(2*h)"
   ]
  },
  {
   "cell_type": "markdown",
   "metadata": {},
   "source": [
    "## 4.3.2 수치미분의 예"
   ]
  },
  {
   "cell_type": "code",
   "execution_count": 30,
   "metadata": {
    "collapsed": true
   },
   "outputs": [],
   "source": [
    "def function_1(x):\n",
    "    return 0.01*x**2 + 0.1*x"
   ]
  },
  {
   "cell_type": "code",
   "execution_count": 31,
   "metadata": {
    "collapsed": true
   },
   "outputs": [],
   "source": [
    "def tangent_line(f, x):\n",
    "    a = numerical_diff(f,x)\n",
    "    b = f(x)-a*x\n",
    "    return lambda t:a*t+b"
   ]
  },
  {
   "cell_type": "code",
   "execution_count": 34,
   "metadata": {},
   "outputs": [
    {
     "data": {
      "text/plain": [
       "array([-0.25, -0.23, -0.21, -0.19, -0.17, -0.15, -0.13, -0.11, -0.09,\n",
       "       -0.07, -0.05, -0.03, -0.01,  0.01,  0.03,  0.05,  0.07,  0.09,\n",
       "        0.11,  0.13,  0.15,  0.17,  0.19,  0.21,  0.23,  0.25,  0.27,\n",
       "        0.29,  0.31,  0.33,  0.35,  0.37,  0.39,  0.41,  0.43,  0.45,\n",
       "        0.47,  0.49,  0.51,  0.53,  0.55,  0.57,  0.59,  0.61,  0.63,\n",
       "        0.65,  0.67,  0.69,  0.71,  0.73,  0.75,  0.77,  0.79,  0.81,\n",
       "        0.83,  0.85,  0.87,  0.89,  0.91,  0.93,  0.95,  0.97,  0.99,\n",
       "        1.01,  1.03,  1.05,  1.07,  1.09,  1.11,  1.13,  1.15,  1.17,\n",
       "        1.19,  1.21,  1.23,  1.25,  1.27,  1.29,  1.31,  1.33,  1.35,\n",
       "        1.37,  1.39,  1.41,  1.43,  1.45,  1.47,  1.49,  1.51,  1.53,\n",
       "        1.55,  1.57,  1.59,  1.61,  1.63,  1.65,  1.67,  1.69,  1.71,\n",
       "        1.73,  1.75,  1.77,  1.79,  1.81,  1.83,  1.85,  1.87,  1.89,\n",
       "        1.91,  1.93,  1.95,  1.97,  1.99,  2.01,  2.03,  2.05,  2.07,\n",
       "        2.09,  2.11,  2.13,  2.15,  2.17,  2.19,  2.21,  2.23,  2.25,\n",
       "        2.27,  2.29,  2.31,  2.33,  2.35,  2.37,  2.39,  2.41,  2.43,\n",
       "        2.45,  2.47,  2.49,  2.51,  2.53,  2.55,  2.57,  2.59,  2.61,\n",
       "        2.63,  2.65,  2.67,  2.69,  2.71,  2.73,  2.75,  2.77,  2.79,\n",
       "        2.81,  2.83,  2.85,  2.87,  2.89,  2.91,  2.93,  2.95,  2.97,\n",
       "        2.99,  3.01,  3.03,  3.05,  3.07,  3.09,  3.11,  3.13,  3.15,\n",
       "        3.17,  3.19,  3.21,  3.23,  3.25,  3.27,  3.29,  3.31,  3.33,\n",
       "        3.35,  3.37,  3.39,  3.41,  3.43,  3.45,  3.47,  3.49,  3.51,\n",
       "        3.53,  3.55,  3.57,  3.59,  3.61,  3.63,  3.65,  3.67,  3.69,\n",
       "        3.71,  3.73])"
      ]
     },
     "execution_count": 34,
     "metadata": {},
     "output_type": "execute_result"
    },
    {
     "data": {
      "text/plain": [
       "<matplotlib.text.Text at 0x82430f0>"
      ]
     },
     "execution_count": 34,
     "metadata": {},
     "output_type": "execute_result"
    },
    {
     "data": {
      "text/plain": [
       "<matplotlib.text.Text at 0x82515f8>"
      ]
     },
     "execution_count": 34,
     "metadata": {},
     "output_type": "execute_result"
    },
    {
     "data": {
      "text/plain": [
       "[<matplotlib.lines.Line2D at 0x82b14a8>]"
      ]
     },
     "execution_count": 34,
     "metadata": {},
     "output_type": "execute_result"
    },
    {
     "data": {
      "text/plain": [
       "[<matplotlib.lines.Line2D at 0x82b1ef0>]"
      ]
     },
     "execution_count": 34,
     "metadata": {},
     "output_type": "execute_result"
    },
    {
     "data": {
      "image/png": "[encoded data removed]",
      "text/plain": [
       "<matplotlib.figure.Figure at 0x7ec8c18>"
      ]
     },
     "metadata": {},
     "output_type": "display_data"
    }
   ],
   "source": [
    "import numpy as np\n",
    "import matplotlib.pylab as plt\n",
    "\n",
    "x = np.arange(0.0, 20.0, 0.1)\n",
    "y = function_1(x)\n",
    "\n",
    "tangent = tangent_line(function_1, 5)\n",
    "tl = tangent(x)\n",
    "tl\n",
    "\n",
    "plt.xlabel(\"x\")\n",
    "plt.ylabel(\"f(x)\")\n",
    "plt.plot(x,y)\n",
    "plt.plot(x,tl)\n",
    "plt.show()"
   ]
  },
  {
   "cell_type": "code",
   "execution_count": 14,
   "metadata": {},
   "outputs": [
    {
     "data": {
      "text/plain": [
       "0.1999999999990898"
      ]
     },
     "execution_count": 14,
     "metadata": {},
     "output_type": "execute_result"
    }
   ],
   "source": [
    "# 5일떄 변화량\n",
    "numerical_diff(function_1, 5)"
   ]
  },
  {
   "cell_type": "code",
   "execution_count": 15,
   "metadata": {},
   "outputs": [
    {
     "data": {
      "text/plain": [
       "0.2999999999986347"
      ]
     },
     "execution_count": 15,
     "metadata": {},
     "output_type": "execute_result"
    }
   ],
   "source": [
    "# 10일떄 변화량\n",
    "numerical_diff(function_1, 10)"
   ]
  },
  {
   "cell_type": "markdown",
   "metadata": {},
   "source": [
    "## 4.3.3 편미분\n",
    "partial differentiation"
   ]
  },
  {
   "cell_type": "code",
   "execution_count": 37,
   "metadata": {
    "collapsed": true
   },
   "outputs": [],
   "source": [
    "def function_2(x):\n",
    "    return x[0]**2 + x[1]**2 #np.sum(x**2)"
   ]
  },
  {
   "cell_type": "code",
   "execution_count": 38,
   "metadata": {},
   "outputs": [
    {
     "data": {
      "text/plain": [
       "6.00000000000378"
      ]
     },
     "execution_count": 38,
     "metadata": {},
     "output_type": "execute_result"
    }
   ],
   "source": [
    "# x0=3 x1=4 x0 에 대한 편미분\n",
    "def function_tmp1(x):\n",
    "    return x*x + 4.0**2.0\n",
    "numerical_diff(function_tmp1, 3.0)"
   ]
  },
  {
   "cell_type": "code",
   "execution_count": 39,
   "metadata": {},
   "outputs": [
    {
     "data": {
      "text/plain": [
       "7.999999999999119"
      ]
     },
     "execution_count": 39,
     "metadata": {},
     "output_type": "execute_result"
    }
   ],
   "source": [
    "# x0=3 x1=4 x1 에 대한 편미분\n",
    "def function_tmp1(x):\n",
    "    return  3.0**2.0+x*x\n",
    "numerical_diff(function_tmp1, 4.0)"
   ]
  },
  {
   "cell_type": "markdown",
   "metadata": {},
   "source": [
    "# 4.4 기울기 (gradient)\n",
    "\n",
    "모든 변수의 평미분을 벡터로 정리"
   ]
  },
  {
   "cell_type": "code",
   "execution_count": 40,
   "metadata": {
    "collapsed": true
   },
   "outputs": [],
   "source": [
    "# 모든 변수의 편미분 (기울기) 값 구하기 \n",
    "def numerical_gradient(f, x):\n",
    "    h = 1e-4\n",
    "    grad = np.zeros_like(x) # k 와 shape 이 같은 0배열을 생성 \n",
    "    \n",
    "    for idx in range(x.size):\n",
    "        tmp_val = x[idx]\n",
    "        \n",
    "        # f(x+h) 계산\n",
    "        x[idx] = tmp_val + h\n",
    "        fxh1 = f(x)\n",
    "        \n",
    "        # f(x-h) 계산\n",
    "        x[idx] = tmp_val - h \n",
    "        fxh2 = f(x) \n",
    "        \n",
    "        grad[idx] = (fxh1 - fxh2) / (2*h)\n",
    "        x[idx] = tmp_val # 값 복원\n",
    "        \n",
    "    return grad"
   ]
  },
  {
   "cell_type": "code",
   "execution_count": 41,
   "metadata": {},
   "outputs": [
    {
     "name": "stdout",
     "output_type": "stream",
     "text": [
      "[ 6.  8.]\n",
      "[ 0.  4.]\n",
      "[ 6.  0.]\n"
     ]
    }
   ],
   "source": [
    "print(numerical_gradient(function_2, np.array([3.0, 4.0])))\n",
    "print(numerical_gradient(function_2, np.array([0.0, 2.0])))\n",
    "print(numerical_gradient(function_2, np.array([3.0, 0.0])))"
   ]
  },
  {
   "cell_type": "markdown",
   "metadata": {
    "collapsed": true
   },
   "source": [
    "기울기가 가리키는 쪽: 각 장소에서 함수의 출력 값을 가장 줄이는 방향 (최소값)"
   ]
  },
  {
   "cell_type": "markdown",
   "metadata": {
    "collapsed": true
   },
   "source": [
    "## 4.4.1 경사 하강법\n",
    "최적의 매개변수 찾기 \n",
    "\n",
    "* 극소값, 최소값, 안장점 (sddle point) 이 되는 장소에서는 기울기가 0 \n",
    "    * 복잡하고 찌그러진 모양의 함수라면 평평한곳으로 파고들면 고원(plateau) 라는 학습이 진행되지 않는 정체기에 빠질수 있다.\n",
    "    \n",
    "* 경사법 : 기울기를 구하고 -> 기울어진 방향으로 일정 거리만큼 이동 반복 \n",
    "    * 학습률 : 매개변수 값을 얼마나 갱신할지 갱신하는 양 \n",
    "    \n",
    "현재 상태 = 이전 상태 - 경사"
   ]
  },
  {
   "cell_type": "code",
   "execution_count": 42,
   "metadata": {
    "collapsed": true
   },
   "outputs": [],
   "source": [
    "def gradient_descent(f, init_x, lr = 0.01, step_num = 100):\n",
    "    x = init_x\n",
    "    for i in range(step_num):\n",
    "        grad = numerical_gradient(f, x)\n",
    "        x -= lr * grad\n",
    "    return x"
   ]
  },
  {
   "cell_type": "code",
   "execution_count": 43,
   "metadata": {},
   "outputs": [
    {
     "data": {
      "text/plain": [
       "array([ -6.11110793e-10,   8.14814391e-10])"
      ]
     },
     "execution_count": 43,
     "metadata": {},
     "output_type": "execute_result"
    }
   ],
   "source": [
    "def function_2(x):\n",
    "    return x[0]**2 + x[1]**2\n",
    "\n",
    "init_x = np.array([-3.0, 4.0])\n",
    "gradient_descent(function_2, init_x=init_x, lr=0.1, step_num=100)"
   ]
  },
  {
   "cell_type": "code",
   "execution_count": 34,
   "metadata": {},
   "outputs": [
    {
     "data": {
      "text/plain": [
       "array([ -2.58983747e+13,  -1.29524862e+12])"
      ]
     },
     "execution_count": 34,
     "metadata": {},
     "output_type": "execute_result"
    }
   ],
   "source": [
    "# 학습률이 너무 큰 경우 \n",
    "init_x = np.array([-3.0, 4.0])\n",
    "gradient_descent(function_2, init_x=init_x, lr=10.0, step_num=100)"
   ]
  },
  {
   "cell_type": "markdown",
   "metadata": {},
   "source": [
    "큰 값으로 발산해버림"
   ]
  },
  {
   "cell_type": "code",
   "execution_count": 35,
   "metadata": {},
   "outputs": [
    {
     "data": {
      "text/plain": [
       "array([-2.99999994,  3.99999992])"
      ]
     },
     "execution_count": 35,
     "metadata": {},
     "output_type": "execute_result"
    }
   ],
   "source": [
    "# 학습률이 너무 작은 경우 \n",
    "init_x = np.array([-3.0, 4.0])\n",
    "gradient_descent(function_2, init_x=init_x, lr=1e-10, step_num=100)"
   ]
  },
  {
   "cell_type": "markdown",
   "metadata": {},
   "source": [
    "거의 갱신되지 않은 채로 끝남 \n",
    "\n",
    "* 하이퍼파라미터 : 학습률 같은 매개변수<br> \n",
    "    가중치, 편향 같은 매개변수는 훈련 데이터와 학습 알고리즘에 의해 자동으로 획득<br> \n",
    "    하이퍼파라미터는 직접 설정해줘야함 "
   ]
  },
  {
   "cell_type": "code",
   "execution_count": null,
   "metadata": {
    "collapsed": true
   },
   "outputs": [],
   "source": [
    "list, numpy 의 array 차이로 [:] 복제가 x = init_x  아닌 "
   ]
  },
  {
   "cell_type": "markdown",
   "metadata": {},
   "source": [
    "## 4.4.2 신경망의 기울기 \n",
    "\n",
    "가중치 매개변수에 관한 손실함수의 기울기 <br>\n",
    "W 가 조금 변경했을 떄 손실함수 L 이 얼마나 변화하느냐 "
   ]
  },
  {
   "cell_type": "code",
   "execution_count": 36,
   "metadata": {
    "collapsed": true
   },
   "outputs": [],
   "source": [
    "# 신경망 기울기 구하기 \n",
    "# x 입력 데이터, t 정답 레이블 \n",
    "import sys, os\n",
    "sys.path.append(os.pardir)  # 부모 디렉터리의 파일을 가져올 수 있도록 설정\n",
    "import numpy as np\n",
    "from common.functions import softmax, cross_entropy_error\n",
    "from common.gradient import numerical_gradient\n",
    "\n",
    "class simpleNet:\n",
    "    # 2 * 3 가중치 매개변수\n",
    "    def __init__(self):\n",
    "        self.W = np.random.randn(2,3) # 정규분포로 초기화\n",
    "\n",
    "    # 예측함수\n",
    "    def predict(self, x):\n",
    "        return np.dot(x, self.W)\n",
    "\n",
    "    #손실함수\n",
    "    def loss(self, x, t):\n",
    "        z = self.predict(x)\n",
    "        y = softmax(z)\n",
    "        loss = cross_entropy_error(y, t)\n",
    "\n",
    "        return loss"
   ]
  },
  {
   "cell_type": "code",
   "execution_count": 37,
   "metadata": {},
   "outputs": [
    {
     "name": "stdout",
     "output_type": "stream",
     "text": [
      "[[ 0.48310344  1.90941639 -0.10516501]\n",
      " [ 0.68532831  0.45945631 -0.85851639]]\n"
     ]
    }
   ],
   "source": [
    "net = simpleNet()\n",
    "print(net.W)"
   ]
  },
  {
   "cell_type": "code",
   "execution_count": 39,
   "metadata": {},
   "outputs": [
    {
     "name": "stdout",
     "output_type": "stream",
     "text": [
      "[ 0.90665754  1.55916052 -0.83576375]\n"
     ]
    },
    {
     "data": {
      "text/plain": [
       "1"
      ]
     },
     "execution_count": 39,
     "metadata": {},
     "output_type": "execute_result"
    }
   ],
   "source": [
    "x = np.array([0.6, 0.9])\n",
    "p = net.predict(x)\n",
    "print(p)\n",
    "\n",
    "np.argmax(p)"
   ]
  },
  {
   "cell_type": "code",
   "execution_count": 40,
   "metadata": {},
   "outputs": [
    {
     "data": {
      "text/plain": [
       "2.8723504888714944"
      ]
     },
     "execution_count": 40,
     "metadata": {},
     "output_type": "execute_result"
    }
   ],
   "source": [
    "t = np.array([0,0,1])\n",
    "net.loss(x, t)"
   ]
  },
  {
   "cell_type": "code",
   "execution_count": 41,
   "metadata": {},
   "outputs": [
    {
     "name": "stdout",
     "output_type": "stream",
     "text": [
      "[[ 0.19383368  0.37222683 -0.56606051]\n",
      " [ 0.29075052  0.55834025 -0.84909077]]\n"
     ]
    }
   ],
   "source": [
    "# numerical_gradient 내부에서 f(x) 를 실행 -> 일관성을 위해서 f(W) 를 정의\n",
    "f = lambda w: net.loss(x, t)\n",
    "dW = numerical_gradient(f, net.W)\n",
    "\n",
    "print(dW)"
   ]
  },
  {
   "cell_type": "markdown",
   "metadata": {},
   "source": [
    "# 4.5 학습 알고리즘 구현하기\n",
    "\n",
    "* 전제 <br>\n",
    "    가중치와 편향을 훈련데이터에 적응하는 과정 : 학습\n",
    "* 1단계-미니배치 <br>\n",
    "    훈련데이터중에 일부 선별 \n",
    "* 2단계-기울기 산출 <br>\n",
    "    손실함수 값을 줄이기 위해 가중치 매개변수의 기울기 구함 손실 함수를 작게하는 방향을 구함\n",
    "* 3단계-매개변수 갱신 <br>\n",
    "    가중치 매개변수를 기울기 방향으로 갱신 \n",
    "* 4단계-반복\n"
   ]
  },
  {
   "cell_type": "markdown",
   "metadata": {},
   "source": [
    "* **SGD** 확률적 경사 하강법 (stochastic gradient descent) <br>\n",
    "    확률 적으로 무작위로 골라낸 데이터 로 하는 경사하강법\n",
    "    \n",
    "## 4.5.1 2층 신경망 클래스 구현"
   ]
  },
  {
   "cell_type": "code",
   "execution_count": 42,
   "metadata": {
    "collapsed": true
   },
   "outputs": [],
   "source": [
    "# coding: utf-8\n",
    "import sys, os\n",
    "sys.path.append(os.pardir)  # 부모 디렉터리의 파일을 가져올 수 있도록 설정\n",
    "from common.functions import *\n",
    "from common.gradient import numerical_gradient\n",
    "\n",
    "\n",
    "class TwoLayerNet:\n",
    "\n",
    "    # 입력충의 뉴런수, 은닉층의 뉴런수, 출력층의 뉴런수\n",
    "    def __init__(self, input_size, hidden_size, output_size, weight_init_std=0.01):\n",
    "        # 가중치 초기화\n",
    "        self.params = {}\n",
    "        # 1층의 가중치 \n",
    "        self.params['W1'] = weight_init_std * np.random.randn(input_size, hidden_size)\n",
    "        self.params['b1'] = np.zeros(hidden_size)\n",
    "        # 2층의 가중치 \n",
    "        self.params['W2'] = weight_init_std * np.random.randn(hidden_size, output_size)\n",
    "        self.params['b2'] = np.zeros(output_size)\n",
    "\n",
    "    # 예측 : 이미지 데이터\n",
    "    def predict(self, x):\n",
    "        W1, W2 = self.params['W1'], self.params['W2']\n",
    "        b1, b2 = self.params['b1'], self.params['b2']\n",
    "    \n",
    "        a1 = np.dot(x, W1) + b1\n",
    "        z1 = sigmoid(a1)\n",
    "        a2 = np.dot(z1, W2) + b2\n",
    "        y = softmax(a2)\n",
    "        \n",
    "        return y\n",
    "        \n",
    "    # 손실함수값 x : 입력 데이터, t : 정답 레이블\n",
    "    def loss(self, x, t):\n",
    "        y = self.predict(x)\n",
    "        \n",
    "        return cross_entropy_error(y, t)\n",
    "    \n",
    "    # 예측 정확도\n",
    "    def accuracy(self, x, t):\n",
    "        y = self.predict(x)\n",
    "        y = np.argmax(y, axis=1)\n",
    "        t = np.argmax(t, axis=1)\n",
    "        \n",
    "        accuracy = np.sum(y == t) / float(x.shape[0])\n",
    "        return accuracy\n",
    "        \n",
    "    # 가중치 매개변수 기울기 x : 입력 데이터, t : 정답 레이블\n",
    "    def numerical_gradient(self, x, t):\n",
    "        loss_W = lambda W: self.loss(x, t)\n",
    "        \n",
    "        grads = {}\n",
    "        # 1층 가중치의 기울기\n",
    "        grads['W1'] = numerical_gradient(loss_W, self.params['W1'])\n",
    "        grads['b1'] = numerical_gradient(loss_W, self.params['b1'])\n",
    "        # 2층 가중치의 기울기\n",
    "        grads['W2'] = numerical_gradient(loss_W, self.params['W2'])\n",
    "        grads['b2'] = numerical_gradient(loss_W, self.params['b2'])\n",
    "        \n",
    "        return grads\n",
    "    \n",
    "    # numerical_gradient 개선판 \n",
    "    def gradient(self, x, t):\n",
    "        W1, W2 = self.params['W1'], self.params['W2']\n",
    "        b1, b2 = self.params['b1'], self.params['b2']\n",
    "        grads = {}\n",
    "        \n",
    "        batch_num = x.shape[0]\n",
    "        \n",
    "        # forward\n",
    "        a1 = np.dot(x, W1) + b1\n",
    "        z1 = sigmoid(a1)\n",
    "        a2 = np.dot(z1, W2) + b2\n",
    "        y = softmax(a2)\n",
    "        \n",
    "        # backward\n",
    "        dy = (y - t) / batch_num\n",
    "        grads['W2'] = np.dot(z1.T, dy)\n",
    "        grads['b2'] = np.sum(dy, axis=0)\n",
    "        \n",
    "        da1 = np.dot(dy, W2.T)\n",
    "        dz1 = sigmoid_grad(a1) * da1\n",
    "        grads['W1'] = np.dot(x.T, dz1)\n",
    "        grads['b1'] = np.sum(dz1, axis=0)\n",
    "\n",
    "        return grads"
   ]
  },
  {
   "cell_type": "code",
   "execution_count": 45,
   "metadata": {},
   "outputs": [
    {
     "name": "stdout",
     "output_type": "stream",
     "text": [
      "(784, 100)\n",
      "(100,)\n",
      "(100, 10)\n",
      "(10,)\n"
     ]
    }
   ],
   "source": [
    "# 신경망에 필요한 매개변수 저장\n",
    "net = TwoLayerNet(input_size=784, hidden_size=100, output_size=10)\n",
    "print(net.params['W1'].shape)\n",
    "print(net.params['b1'].shape)\n",
    "print(net.params['W2'].shape)\n",
    "print(net.params['b2'].shape)"
   ]
  },
  {
   "cell_type": "code",
   "execution_count": 47,
   "metadata": {},
   "outputs": [
    {
     "data": {
      "text/plain": [
       "array([[ 0.09661801,  0.09823199,  0.10047899,  0.10625221,  0.09984452,\n",
       "         0.10113933,  0.09909032,  0.10163015,  0.10220259,  0.09451189],\n",
       "       [ 0.09702084,  0.09876809,  0.10043464,  0.10595654,  0.09913132,\n",
       "         0.1010357 ,  0.09889177,  0.10200017,  0.10205234,  0.0947086 ],\n",
       "       [ 0.09642484,  0.09856958,  0.10062087,  0.10651354,  0.09919013,\n",
       "         0.10059105,  0.09887902,  0.10198866,  0.10233317,  0.09488912],\n",
       "       [ 0.09639613,  0.09853308,  0.10061959,  0.1060782 ,  0.09941427,\n",
       "         0.10076057,  0.09907962,  0.10190778,  0.10207527,  0.09513549],\n",
       "       [ 0.096157  ,  0.09864748,  0.10077103,  0.10624788,  0.09990382,\n",
       "         0.10077861,  0.09904095,  0.10149305,  0.10207702,  0.09488317],\n",
       "       [ 0.0965733 ,  0.09866743,  0.10049966,  0.10631646,  0.09950652,\n",
       "         0.100639  ,  0.09905209,  0.10174237,  0.10210188,  0.0949013 ],\n",
       "       [ 0.0964438 ,  0.09849396,  0.10067279,  0.1059192 ,  0.09964911,\n",
       "         0.10096882,  0.09899076,  0.10175873,  0.10223044,  0.09487239],\n",
       "       [ 0.09657587,  0.09866106,  0.10039193,  0.10638895,  0.09922   ,\n",
       "         0.1005554 ,  0.09919081,  0.10173015,  0.102276  ,  0.09500982],\n",
       "       [ 0.09626664,  0.0986377 ,  0.10033836,  0.10638344,  0.09934022,\n",
       "         0.10069705,  0.09888089,  0.10200228,  0.10245828,  0.09499512],\n",
       "       [ 0.09645758,  0.09878853,  0.10018838,  0.10609402,  0.09948069,\n",
       "         0.10090117,  0.09893227,  0.10202529,  0.10230728,  0.09482479],\n",
       "       [ 0.09625684,  0.09836252,  0.10055615,  0.10627081,  0.09987768,\n",
       "         0.10015035,  0.0992955 ,  0.10211087,  0.10219164,  0.09492766],\n",
       "       [ 0.09645473,  0.09828676,  0.10043809,  0.10627269,  0.09968265,\n",
       "         0.1006638 ,  0.09898532,  0.10202748,  0.10220489,  0.09498359],\n",
       "       [ 0.09621455,  0.09832933,  0.10041787,  0.10653199,  0.09962813,\n",
       "         0.10094151,  0.09910892,  0.10180584,  0.10222619,  0.09479567],\n",
       "       [ 0.0965126 ,  0.09871691,  0.10024461,  0.10626239,  0.09952332,\n",
       "         0.10104197,  0.09896554,  0.10162985,  0.10228587,  0.09481694],\n",
       "       [ 0.09661367,  0.09873086,  0.1003321 ,  0.10635276,  0.09958106,\n",
       "         0.1009093 ,  0.09921093,  0.10164345,  0.10199523,  0.09463064],\n",
       "       [ 0.09639374,  0.09888914,  0.10040327,  0.10646484,  0.09919105,\n",
       "         0.10091612,  0.09919126,  0.10187916,  0.10222371,  0.09444772],\n",
       "       [ 0.09620807,  0.09872265,  0.10019579,  0.10651604,  0.09942062,\n",
       "         0.10075857,  0.09907399,  0.10174445,  0.10219115,  0.09516867],\n",
       "       [ 0.09648968,  0.09827297,  0.10056828,  0.10628599,  0.09967929,\n",
       "         0.10076894,  0.09918457,  0.10172367,  0.1021824 ,  0.09484421],\n",
       "       [ 0.0964806 ,  0.09855646,  0.10003011,  0.10634274,  0.09984345,\n",
       "         0.1008231 ,  0.0988445 ,  0.10172835,  0.10216154,  0.09518916],\n",
       "       [ 0.09633662,  0.09854292,  0.10041067,  0.10614175,  0.09964619,\n",
       "         0.10066264,  0.09947008,  0.10168374,  0.10252652,  0.09457887],\n",
       "       [ 0.09636242,  0.09881579,  0.10032797,  0.10624864,  0.09954995,\n",
       "         0.10080709,  0.09900423,  0.10175114,  0.10248303,  0.09464977],\n",
       "       [ 0.09660505,  0.09838743,  0.10035023,  0.10597219,  0.0994768 ,\n",
       "         0.10079491,  0.09977302,  0.10190479,  0.10214646,  0.09458913],\n",
       "       [ 0.09620534,  0.09895214,  0.10060463,  0.10639854,  0.09919797,\n",
       "         0.10101504,  0.09882229,  0.10162335,  0.10216894,  0.09501174],\n",
       "       [ 0.09652111,  0.09830338,  0.10049695,  0.10616254,  0.09981816,\n",
       "         0.10081002,  0.09900986,  0.10186649,  0.10234553,  0.09466596],\n",
       "       [ 0.09644955,  0.09884078,  0.10029594,  0.10602393,  0.09990746,\n",
       "         0.1005583 ,  0.09905926,  0.10178403,  0.1022857 ,  0.09479505],\n",
       "       [ 0.09622067,  0.09824835,  0.10063223,  0.10639181,  0.09957093,\n",
       "         0.10098481,  0.09894833,  0.10161041,  0.10228871,  0.09510376],\n",
       "       [ 0.09642763,  0.09827951,  0.10078432,  0.10622419,  0.09966981,\n",
       "         0.10039943,  0.09958859,  0.10174155,  0.10215368,  0.0947313 ],\n",
       "       [ 0.0966106 ,  0.09853792,  0.10084355,  0.1062928 ,  0.09948356,\n",
       "         0.10058731,  0.0989475 ,  0.10169125,  0.10215264,  0.09485287],\n",
       "       [ 0.09686993,  0.09856873,  0.10055861,  0.1061739 ,  0.09939444,\n",
       "         0.1007276 ,  0.09912766,  0.10185342,  0.10230488,  0.09442082],\n",
       "       [ 0.09651871,  0.09847943,  0.10032398,  0.10621693,  0.09940601,\n",
       "         0.10104754,  0.09917987,  0.101697  ,  0.10219454,  0.09493598],\n",
       "       [ 0.09647787,  0.09848258,  0.10060122,  0.10617802,  0.0992415 ,\n",
       "         0.10100586,  0.09895606,  0.10183974,  0.10190135,  0.0953158 ],\n",
       "       [ 0.09653268,  0.098442  ,  0.10078751,  0.10594655,  0.09958113,\n",
       "         0.10086027,  0.09888634,  0.10195982,  0.10204868,  0.09495502],\n",
       "       [ 0.09664566,  0.0986948 ,  0.10029758,  0.1059169 ,  0.09975832,\n",
       "         0.10054159,  0.0990213 ,  0.10211741,  0.10205941,  0.09494703],\n",
       "       [ 0.09659982,  0.09863483,  0.10048801,  0.10631511,  0.09971997,\n",
       "         0.10043024,  0.09895579,  0.10187114,  0.10206033,  0.09492475],\n",
       "       [ 0.09623993,  0.09873546,  0.10001258,  0.10632841,  0.0994163 ,\n",
       "         0.1010685 ,  0.09955853,  0.10159509,  0.10265519,  0.09439002],\n",
       "       [ 0.09621265,  0.09843948,  0.1005809 ,  0.10660857,  0.0998337 ,\n",
       "         0.10034515,  0.09918182,  0.10191833,  0.10206787,  0.09481154],\n",
       "       [ 0.09626599,  0.09857668,  0.10042009,  0.10624516,  0.09970811,\n",
       "         0.10106869,  0.09874704,  0.10199224,  0.10209225,  0.09488377],\n",
       "       [ 0.09677298,  0.09807155,  0.10026605,  0.10643408,  0.09950761,\n",
       "         0.10057086,  0.09917555,  0.10183786,  0.10250606,  0.09485739],\n",
       "       [ 0.09663224,  0.09843636,  0.10031698,  0.10597171,  0.09958135,\n",
       "         0.10109976,  0.0988094 ,  0.10188088,  0.10212975,  0.09514158],\n",
       "       [ 0.09660555,  0.09881413,  0.10068267,  0.1063568 ,  0.09923195,\n",
       "         0.10041315,  0.09902675,  0.10179832,  0.10203423,  0.09503646],\n",
       "       [ 0.09649538,  0.09885694,  0.10063218,  0.10602167,  0.09967426,\n",
       "         0.10061773,  0.09903412,  0.10177503,  0.10248826,  0.09440445],\n",
       "       [ 0.09649002,  0.09835974,  0.10092072,  0.10645249,  0.09947528,\n",
       "         0.10065358,  0.09889775,  0.10181901,  0.10223151,  0.0946999 ],\n",
       "       [ 0.0963076 ,  0.09894211,  0.10046609,  0.10605027,  0.09953539,\n",
       "         0.1009455 ,  0.09934129,  0.10160852,  0.10209185,  0.09471136],\n",
       "       [ 0.09633035,  0.09869477,  0.10041873,  0.10644907,  0.09939756,\n",
       "         0.10089926,  0.09888049,  0.10162917,  0.10235918,  0.09494142],\n",
       "       [ 0.0963292 ,  0.09839838,  0.10073536,  0.10598817,  0.10013743,\n",
       "         0.1004674 ,  0.09905974,  0.10182286,  0.10260484,  0.09445662],\n",
       "       [ 0.09646699,  0.09877864,  0.10051423,  0.10625241,  0.09956363,\n",
       "         0.10060954,  0.09886484,  0.10160048,  0.10252585,  0.09482337],\n",
       "       [ 0.09663028,  0.09854492,  0.10028905,  0.10623261,  0.09962413,\n",
       "         0.10025695,  0.09932992,  0.10196498,  0.10195127,  0.09517589],\n",
       "       [ 0.09628053,  0.09851359,  0.10023841,  0.10599306,  0.09970814,\n",
       "         0.10088936,  0.09886041,  0.10203728,  0.10254096,  0.09493825],\n",
       "       [ 0.09628607,  0.0985301 ,  0.10048885,  0.10645503,  0.09956688,\n",
       "         0.10056496,  0.09921293,  0.10177158,  0.10196625,  0.09515735],\n",
       "       [ 0.09634938,  0.09847679,  0.10082617,  0.10656433,  0.09930166,\n",
       "         0.10085483,  0.09869019,  0.10166297,  0.10229132,  0.09498238],\n",
       "       [ 0.09637767,  0.09904156,  0.10028704,  0.10596573,  0.0997201 ,\n",
       "         0.10130636,  0.09910533,  0.10164643,  0.10190478,  0.09464501],\n",
       "       [ 0.09635611,  0.0986787 ,  0.10036898,  0.10630559,  0.09977721,\n",
       "         0.10077741,  0.09907931,  0.10159237,  0.10232824,  0.09473607],\n",
       "       [ 0.09640283,  0.09878067,  0.10068182,  0.10656159,  0.09949276,\n",
       "         0.10060918,  0.09908063,  0.10149474,  0.1021032 ,  0.09479258],\n",
       "       [ 0.09635112,  0.09883368,  0.10048091,  0.10601376,  0.09946366,\n",
       "         0.10068361,  0.09900434,  0.10174399,  0.10275674,  0.0946682 ],\n",
       "       [ 0.09630617,  0.09853031,  0.10087493,  0.106362  ,  0.09981856,\n",
       "         0.10020512,  0.09899807,  0.10179798,  0.10230314,  0.09480373],\n",
       "       [ 0.09628468,  0.0983843 ,  0.10076323,  0.10654455,  0.09966309,\n",
       "         0.10057525,  0.09885953,  0.10178146,  0.10230664,  0.09483728],\n",
       "       [ 0.09660009,  0.09839684,  0.10054187,  0.1060627 ,  0.0993197 ,\n",
       "         0.10076486,  0.09912791,  0.10185192,  0.10248016,  0.09485396],\n",
       "       [ 0.09674174,  0.09817201,  0.09997707,  0.10641057,  0.09966651,\n",
       "         0.10101401,  0.09890428,  0.10141658,  0.10251961,  0.09517762],\n",
       "       [ 0.09622865,  0.09852195,  0.10079677,  0.10631497,  0.09944425,\n",
       "         0.10045487,  0.09918821,  0.10186751,  0.10253579,  0.09464702],\n",
       "       [ 0.09649211,  0.09844462,  0.10073001,  0.10658561,  0.09959358,\n",
       "         0.10042348,  0.09897708,  0.10172163,  0.10213676,  0.09489513],\n",
       "       [ 0.09652482,  0.0986798 ,  0.10077047,  0.10615806,  0.0994321 ,\n",
       "         0.10093175,  0.09892278,  0.10156406,  0.10223491,  0.09478126],\n",
       "       [ 0.0963656 ,  0.09881427,  0.10041037,  0.10630376,  0.09951568,\n",
       "         0.10040657,  0.09917291,  0.10206599,  0.10215348,  0.09479138],\n",
       "       [ 0.09648829,  0.09875259,  0.10050019,  0.10609972,  0.09947661,\n",
       "         0.10102667,  0.0991057 ,  0.10155282,  0.10239138,  0.09460602],\n",
       "       [ 0.09619867,  0.09837961,  0.10019036,  0.10612816,  0.09979305,\n",
       "         0.10073895,  0.09928455,  0.10200891,  0.10239418,  0.09488358],\n",
       "       [ 0.09642324,  0.09862681,  0.10091708,  0.10627031,  0.09949689,\n",
       "         0.10051648,  0.09916666,  0.10182589,  0.10222545,  0.0945312 ],\n",
       "       [ 0.09628633,  0.09840678,  0.10043833,  0.10608935,  0.09953134,\n",
       "         0.1007764 ,  0.09914928,  0.10194137,  0.10262519,  0.09475565],\n",
       "       [ 0.09669801,  0.09867291,  0.1004611 ,  0.10614112,  0.09966688,\n",
       "         0.10066005,  0.09892543,  0.10171204,  0.10274463,  0.09431784],\n",
       "       [ 0.09648934,  0.09866885,  0.10053832,  0.10606092,  0.09961338,\n",
       "         0.10085572,  0.09901894,  0.10166857,  0.1021763 ,  0.09490967],\n",
       "       [ 0.09621265,  0.09856165,  0.10044919,  0.10634757,  0.09934844,\n",
       "         0.10066675,  0.0991516 ,  0.101709  ,  0.10268105,  0.0948721 ],\n",
       "       [ 0.09637697,  0.09846975,  0.10080892,  0.10619858,  0.09926895,\n",
       "         0.10054597,  0.09931268,  0.1021157 ,  0.10209299,  0.09480949],\n",
       "       [ 0.09637753,  0.09866195,  0.10051715,  0.10623075,  0.09961596,\n",
       "         0.10074561,  0.09874608,  0.10192066,  0.10236443,  0.09481987],\n",
       "       [ 0.09631584,  0.09859437,  0.10051469,  0.10631948,  0.09954773,\n",
       "         0.10040753,  0.09943023,  0.10168654,  0.10250511,  0.09467848],\n",
       "       [ 0.09613652,  0.09852312,  0.10022512,  0.1061309 ,  0.09976632,\n",
       "         0.10073235,  0.09914596,  0.10194034,  0.10219666,  0.09520269],\n",
       "       [ 0.09640448,  0.09828358,  0.1005201 ,  0.10658389,  0.09988702,\n",
       "         0.10045124,  0.09906002,  0.10183054,  0.10225826,  0.09472087],\n",
       "       [ 0.09611892,  0.09833847,  0.10100163,  0.10602041,  0.09969897,\n",
       "         0.1005861 ,  0.09917961,  0.10178775,  0.10239015,  0.094878  ],\n",
       "       [ 0.09635108,  0.09862377,  0.10081765,  0.10644024,  0.09957707,\n",
       "         0.10064631,  0.0985717 ,  0.10164191,  0.10209917,  0.0952311 ],\n",
       "       [ 0.09627547,  0.0984028 ,  0.10064462,  0.10630389,  0.09979048,\n",
       "         0.10090512,  0.09874539,  0.10182606,  0.10217356,  0.09493261],\n",
       "       [ 0.09637885,  0.0985369 ,  0.10077491,  0.10646452,  0.09949727,\n",
       "         0.10081193,  0.09902306,  0.10167067,  0.10219913,  0.09464277],\n",
       "       [ 0.09633563,  0.09866652,  0.10014644,  0.10638807,  0.0993632 ,\n",
       "         0.10073873,  0.09905788,  0.10197696,  0.10230875,  0.09501783],\n",
       "       [ 0.09646646,  0.09843276,  0.10030958,  0.10602861,  0.09965481,\n",
       "         0.1007779 ,  0.09928819,  0.10163404,  0.10243808,  0.09496956],\n",
       "       [ 0.09628436,  0.09826105,  0.10059347,  0.1064151 ,  0.0994266 ,\n",
       "         0.10083155,  0.09911202,  0.10163478,  0.10241918,  0.09502189],\n",
       "       [ 0.09655696,  0.09887667,  0.10036792,  0.10624158,  0.09983946,\n",
       "         0.10071233,  0.09923676,  0.1017277 ,  0.10210266,  0.09433794],\n",
       "       [ 0.09613343,  0.09856248,  0.10050413,  0.10619565,  0.09989907,\n",
       "         0.10058901,  0.09927966,  0.1016794 ,  0.10225685,  0.09490033],\n",
       "       [ 0.09666495,  0.09852853,  0.1006357 ,  0.10617252,  0.09978856,\n",
       "         0.1008267 ,  0.09881619,  0.10170544,  0.10203038,  0.09483102],\n",
       "       [ 0.09650636,  0.09820383,  0.10028766,  0.1066188 ,  0.09969746,\n",
       "         0.10077086,  0.09921111,  0.10182634,  0.10208067,  0.09479693],\n",
       "       [ 0.09621437,  0.0986122 ,  0.10047169,  0.10659315,  0.09943306,\n",
       "         0.1005242 ,  0.09879891,  0.10179342,  0.10232309,  0.09523591],\n",
       "       [ 0.09648793,  0.09862642,  0.1005897 ,  0.10617888,  0.09972961,\n",
       "         0.10071001,  0.09896318,  0.10170398,  0.10220449,  0.09480581],\n",
       "       [ 0.09638863,  0.09855577,  0.10059523,  0.10659494,  0.09967025,\n",
       "         0.10049333,  0.09916188,  0.1016168 ,  0.10228235,  0.09464082],\n",
       "       [ 0.09677321,  0.09848167,  0.10005722,  0.10625161,  0.09989044,\n",
       "         0.10070466,  0.09899286,  0.10191584,  0.10219026,  0.09474223],\n",
       "       [ 0.09631617,  0.0983308 ,  0.10060156,  0.1062401 ,  0.09953637,\n",
       "         0.10085652,  0.09916846,  0.10150613,  0.10235183,  0.09509204],\n",
       "       [ 0.09613628,  0.09854443,  0.10015691,  0.10632129,  0.09994251,\n",
       "         0.10056401,  0.09908534,  0.10178641,  0.10258654,  0.09487628],\n",
       "       [ 0.0964603 ,  0.09844357,  0.10082095,  0.10610306,  0.09936512,\n",
       "         0.10064505,  0.09926515,  0.10189936,  0.10194274,  0.0950547 ],\n",
       "       [ 0.09622286,  0.09826419,  0.10069852,  0.1063878 ,  0.09965816,\n",
       "         0.10059179,  0.09916881,  0.10173153,  0.10256068,  0.09471565],\n",
       "       [ 0.09651738,  0.09846084,  0.10048527,  0.10607169,  0.09950862,\n",
       "         0.1005772 ,  0.09931038,  0.10176741,  0.10265538,  0.09464582],\n",
       "       [ 0.09651673,  0.09849357,  0.10088443,  0.10641298,  0.09948639,\n",
       "         0.10038318,  0.09920006,  0.10184422,  0.10209089,  0.09468756],\n",
       "       [ 0.09667531,  0.09874435,  0.10049837,  0.10607206,  0.09932818,\n",
       "         0.10029888,  0.09931086,  0.10200083,  0.10229793,  0.09477324],\n",
       "       [ 0.09664365,  0.09840231,  0.10067094,  0.10630684,  0.09940842,\n",
       "         0.10054756,  0.09875886,  0.10174427,  0.10244899,  0.09506817],\n",
       "       [ 0.09655409,  0.09851237,  0.10032468,  0.10633219,  0.09948629,\n",
       "         0.10063653,  0.09917944,  0.10180471,  0.10208946,  0.09508024],\n",
       "       [ 0.09661433,  0.09799781,  0.10073929,  0.10647987,  0.09985843,\n",
       "         0.10069046,  0.09907702,  0.10181122,  0.10183068,  0.09490089],\n",
       "       [ 0.09643124,  0.09879417,  0.10043252,  0.10602886,  0.09957447,\n",
       "         0.10068628,  0.09885045,  0.10180514,  0.10249931,  0.09489755]])"
      ]
     },
     "execution_count": 47,
     "metadata": {},
     "output_type": "execute_result"
    }
   ],
   "source": [
    "# 매개변수 예측 처리 (순방향)\n",
    "x = np.random.rand(100, 784) # 더미 입력 데이터 100장 \n",
    "y = net.predict(x)\n",
    "y"
   ]
  },
  {
   "cell_type": "code",
   "execution_count": 48,
   "metadata": {},
   "outputs": [
    {
     "name": "stdout",
     "output_type": "stream",
     "text": [
      "(784, 100)\n",
      "(100,)\n",
      "(100, 10)\n",
      "(10,)\n"
     ]
    }
   ],
   "source": [
    "# 기울기 계산\n",
    "x = np.random.rand(100, 784) # 더미 입력 데이터 (100장)\n",
    "t = np.random.rand(100, 10) # 더미 정답 데이터 (100장)\n",
    "\n",
    "grads = net.numerical_gradient(x,t)\n",
    "\n",
    "print(grads['W1'].shape)\n",
    "print(grads['b1'].shape)\n",
    "print(grads['W2'].shape)\n",
    "print(grads['b2'].shape)"
   ]
  },
  {
   "cell_type": "markdown",
   "metadata": {},
   "source": [
    "## 4.5.2 미니배치 학습 구현"
   ]
  },
  {
   "cell_type": "code",
   "execution_count": 20,
   "metadata": {},
   "outputs": [
    {
     "ename": "NameError",
     "evalue": "name 'TwoLayerNet' is not defined",
     "output_type": "error",
     "traceback": [
      "\u001b[1;31m---------------------------------------------------------------------------\u001b[0m",
      "\u001b[1;31mNameError\u001b[0m                                 Traceback (most recent call last)",
      "\u001b[1;32m<ipython-input-20-420db5fbb913>\u001b[0m in \u001b[0;36m<module>\u001b[1;34m()\u001b[0m\n\u001b[0;32m      8\u001b[0m \u001b[1;33m(\u001b[0m\u001b[0mx_train\u001b[0m\u001b[1;33m,\u001b[0m \u001b[0mt_train\u001b[0m\u001b[1;33m)\u001b[0m\u001b[1;33m,\u001b[0m \u001b[1;33m(\u001b[0m\u001b[0mx_test\u001b[0m\u001b[1;33m,\u001b[0m \u001b[0mt_test\u001b[0m\u001b[1;33m)\u001b[0m \u001b[1;33m=\u001b[0m \u001b[0mload_mnist\u001b[0m\u001b[1;33m(\u001b[0m\u001b[0mnormalize\u001b[0m\u001b[1;33m=\u001b[0m\u001b[1;32mTrue\u001b[0m\u001b[1;33m,\u001b[0m \u001b[0mone_hot_label\u001b[0m\u001b[1;33m=\u001b[0m\u001b[1;32mTrue\u001b[0m\u001b[1;33m)\u001b[0m\u001b[1;33m\u001b[0m\u001b[0m\n\u001b[0;32m      9\u001b[0m \u001b[1;33m\u001b[0m\u001b[0m\n\u001b[1;32m---> 10\u001b[1;33m \u001b[0mnetwork\u001b[0m \u001b[1;33m=\u001b[0m \u001b[0mTwoLayerNet\u001b[0m\u001b[1;33m(\u001b[0m\u001b[0minput_size\u001b[0m\u001b[1;33m=\u001b[0m\u001b[1;36m784\u001b[0m\u001b[1;33m,\u001b[0m \u001b[0mhidden_size\u001b[0m\u001b[1;33m=\u001b[0m\u001b[1;36m50\u001b[0m\u001b[1;33m,\u001b[0m \u001b[0moutput_size\u001b[0m\u001b[1;33m=\u001b[0m\u001b[1;36m10\u001b[0m\u001b[1;33m)\u001b[0m\u001b[1;33m\u001b[0m\u001b[0m\n\u001b[0m\u001b[0;32m     11\u001b[0m \u001b[0mprint\u001b[0m\u001b[1;33m(\u001b[0m\u001b[0mnet\u001b[0m\u001b[1;33m.\u001b[0m\u001b[0mparams\u001b[0m\u001b[1;33m[\u001b[0m\u001b[1;34m'W1'\u001b[0m\u001b[1;33m]\u001b[0m\u001b[1;33m.\u001b[0m\u001b[0mshape\u001b[0m\u001b[1;33m)\u001b[0m\u001b[1;33m\u001b[0m\u001b[0m\n\u001b[0;32m     12\u001b[0m \u001b[0mprint\u001b[0m\u001b[1;33m(\u001b[0m\u001b[0mnet\u001b[0m\u001b[1;33m.\u001b[0m\u001b[0mparams\u001b[0m\u001b[1;33m[\u001b[0m\u001b[1;34m'b1'\u001b[0m\u001b[1;33m]\u001b[0m\u001b[1;33m.\u001b[0m\u001b[0mshape\u001b[0m\u001b[1;33m)\u001b[0m\u001b[1;33m\u001b[0m\u001b[0m\n",
      "\u001b[1;31mNameError\u001b[0m: name 'TwoLayerNet' is not defined"
     ]
    }
   ],
   "source": [
    "import sys, os\n",
    "sys.path.append(os.pardir)  # 부모 디렉터리의 파일을 가져올 수 있도록 설정\n",
    "import numpy as np\n",
    "import matplotlib.pyplot as plt\n",
    "from tmp.dataset.mnist import load_mnist\n",
    "\n",
    "# 데이터 읽기\n",
    "(x_train, t_train), (x_test, t_test) = load_mnist(normalize=True, one_hot_label=True)\n",
    "\n",
    "network = TwoLayerNet(input_size=784, hidden_size=50, output_size=10)\n",
    "print(net.params['W1'].shape)\n",
    "print(net.params['b1'].shape)\n",
    "print(net.params['W2'].shape)\n",
    "print(net.params['b2'].shape)"
   ]
  },
  {
   "cell_type": "code",
   "execution_count": null,
   "metadata": {
    "collapsed": true
   },
   "outputs": [],
   "source": [
    "# 하이퍼파라미터\n",
    "iters_num = 10000  # 반복 횟수를 적절히 설정한다.\n",
    "train_size = x_train.shape[0]\n",
    "batch_size = 100   # 미니배치 크기\n",
    "learning_rate = 0.1\n",
    "\n",
    "train_loss_list = []\n",
    "train_acc_list = []\n",
    "test_acc_list = []\n",
    "\n",
    "# 1에폭당 반복 수\n",
    "iter_per_epoch = max(train_size / batch_size, 1)"
   ]
  },
  {
   "cell_type": "markdown",
   "metadata": {},
   "source": [
    "60,000 개의 훈련데이터에서 임의 100개 데이터 추림 (이미지, 정답 데이터) <br>\n",
    "확률 적으로 경사 하강법 수행으로 매개변수 갱신<br>\n",
    "갱신 횟수 10,000 번 (반복횟수) <br>\n",
    "갱신 시, 훈련데이터에 대한 손실함수계산, 배열에 추가 "
   ]
  },
  {
   "cell_type": "code",
   "execution_count": 53,
   "metadata": {},
   "outputs": [
    {
     "name": "stdout",
     "output_type": "stream",
     "text": [
      "train acc, test acc | 0.0986333333333, 0.0958\n",
      "train acc, test acc | 0.788166666667, 0.7918\n",
      "train acc, test acc | 0.879333333333, 0.8826\n",
      "train acc, test acc | 0.897816666667, 0.9012\n",
      "train acc, test acc | 0.908966666667, 0.9118\n",
      "train acc, test acc | 0.914733333333, 0.916\n",
      "train acc, test acc | 0.92025, 0.9222\n",
      "train acc, test acc | 0.924416666667, 0.9248\n",
      "train acc, test acc | 0.928466666667, 0.9279\n",
      "train acc, test acc | 0.93235, 0.9316\n",
      "train acc, test acc | 0.934816666667, 0.935\n",
      "train acc, test acc | 0.937483333333, 0.9376\n",
      "train acc, test acc | 0.940166666667, 0.9389\n",
      "train acc, test acc | 0.941966666667, 0.9399\n",
      "train acc, test acc | 0.94375, 0.9419\n",
      "train acc, test acc | 0.945783333333, 0.9448\n",
      "train acc, test acc | 0.947166666667, 0.9456\n"
     ]
    }
   ],
   "source": [
    "for i in range(iters_num):\n",
    "    # 미니배치 획득\n",
    "    batch_mask = np.random.choice(train_size, batch_size)\n",
    "    x_batch = x_train[batch_mask]\n",
    "    t_batch = t_train[batch_mask]\n",
    "    \n",
    "    # 기울기 계산\n",
    "    #grad = network.numerical_gradient(x_batch, t_batch)\n",
    "    grad = network.gradient(x_batch, t_batch)\n",
    "    \n",
    "    # 매개변수 갱신\n",
    "    for key in ('W1', 'b1', 'W2', 'b2'):\n",
    "        network.params[key] -= learning_rate * grad[key]\n",
    "    \n",
    "    # 학습 경과 기록\n",
    "    loss = network.loss(x_batch, t_batch)\n",
    "    train_loss_list.append(loss)\n",
    "    \n",
    "    # 1에폭당 정확도 계산\n",
    "    if i % iter_per_epoch == 0:\n",
    "        train_acc = network.accuracy(x_train, t_train)\n",
    "        test_acc = network.accuracy(x_test, t_test)\n",
    "        train_acc_list.append(train_acc)\n",
    "        test_acc_list.append(test_acc)\n",
    "        print(\"train acc, test acc | \" + str(train_acc) + \", \" + str(test_acc))\n"
   ]
  },
  {
   "cell_type": "markdown",
   "metadata": {},
   "source": [
    "## 4.5.3 시험 데이터로 평가 \n",
    "\n",
    "* epoch : 학습에서 훈련 데이터를 모두 소진했을 떄의 횟수 (10,000개를 100개의 미지배치로 학습한 경우 100회 1epoch)"
   ]
  },
  {
   "cell_type": "code",
   "execution_count": 54,
   "metadata": {},
   "outputs": [
    {
     "data": {
      "image/png": "[encoded data removed]",
      "text/plain": [
       "<matplotlib.figure.Figure at 0x1d576737828>"
      ]
     },
     "metadata": {},
     "output_type": "display_data"
    }
   ],
   "source": [
    "# 정확도 그래프 그리기\n",
    "markers = {'train': 'o', 'test': 's'}\n",
    "x = np.arange(len(train_acc_list))\n",
    "plt.plot(x, train_acc_list, label='train acc')\n",
    "plt.plot(x, test_acc_list, label='test acc', linestyle='--')\n",
    "plt.xlabel(\"epochs\")\n",
    "plt.ylabel(\"accuracy\")\n",
    "plt.ylim(0, 1.0)\n",
    "plt.legend(loc='lower right')\n",
    "plt.show()\n"
   ]
  },
  {
   "cell_type": "code",
   "execution_count": null,
   "metadata": {
    "collapsed": true
   },
   "outputs": [],
   "source": []
  }
 ],
 "metadata": {
  "kernelspec": {
   "display_name": "Python 3",
   "language": "python",
   "name": "python3"
  },
  "language_info": {
   "codemirror_mode": {
    "name": "ipython",
    "version": 3
   },
   "file_extension": ".py",
   "mimetype": "text/x-python",
   "name": "python",
   "nbconvert_exporter": "python",
   "pygments_lexer": "ipython3",
   "version": "3.6.1"
  }
 },
 "nbformat": 4,
 "nbformat_minor": 2
}
