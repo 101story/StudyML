{
 "cells": [
  {
   "cell_type": "markdown",
   "metadata": {},
   "source": [
    "# 22절: 확률의 정의와 특성\n",
    "\n",
    "# 확률의 수학적 정의\n",
    "\n",
    "## 확률 표본\n",
    "\n",
    "확률 표본 또는 표본(sample) : 선택된 하나의 사실\n",
    "예) 주사위 1이라는 숫자를 표시하는 면이 위로 나온 표본\n",
    "\n",
    "## 표본 공간\n",
    "\n",
    "선택될 수 있는 모든 표본의 집합\n",
    "\n",
    "## 사건\n",
    "\n",
    "표본 공간의 부분집합<br>\n",
    "전체 표본 공간 중에서 우리가 관심을 가지고 있는 일부 표본의 집합\n",
    "\n",
    "## 확률\n",
    "\n",
    "확률(probability) : 각각의 사건에 대해 할당된, 다음과 같은 3가지 조건을 만족하는 숫자\n",
    "\n",
    "1. 모든 사건에 대해 확률은 실수이고 양수이다.\n",
    "2. 표본공간이라는 사건에 대한 확률은 1이다.\n",
    "3. 공통 원소가 없는 두 사건의 합집합의 확률은 각각의 사건의 확률의 합이다.\n",
    "\n",
    "## 확률의 의미\n",
    "\n",
    "사건(부분집합)에 해당하는 표본이 선택될 혹은 선택되었을 가능성\n",
    "\n",
    "주사위를 던져 나온 숫자가 3보다 클 가능성<br>\n",
    "주사위를 던져 나온 숫자가 3보다 크다\"는 주장의 신뢰도\n",
    "\n",
    "## 표본의 수가 무한한 경우\n",
    "\n",
    "표본의 수가 무한하고 모든 표본에 대해 표본 하나만을 가진 사건의 확률이 동일하다면, 표본 하나에 대한 사건의 확률은 언제나 0 이다. \n",
    "\n"
   ]
  },
  {
   "cell_type": "markdown",
   "metadata": {},
   "source": [
    "# 확률의 의미\n",
    "\n",
    "## 확률의 빈도주의 의미\n",
    "\n",
    "샘플링(sampling) : 표본 집합에서 하나의 표본을 선택하는 것 (표본 추출)\n",
    "\n",
    "A 라는 사건이 가지는 확률 : A 의 원소가 될 경향(propensity) 또는 가능성\n",
    "\n",
    "빈도주의자(frequentist) 의 가능성(확률) : 반복된 샘플링<br>\n",
    "즉, 100번 반복하여 표본을 선택 <br>\n",
    "해당 표본이 사과인 경우가 10번, <br>\n",
    "오렌지인 경우가 90번이라면 <br>\n",
    "사과라는 사건의 확률은 10/100 = 0.1 로 정의\n",
    "\n",
    "## 확률의 베이지안 의미\n",
    "\n",
    "이미 발생한 일이 특정한 사건에 속할 가능성 <br>\n",
    "이미 발생한 일이 특정한 사건에 속한다는 가설(hypothesis) 혹은 주장에 대한 신뢰도\n",
    "\n",
    "- 사건(event) : 진짜 표본이 포함되어 있을 가능성이 있는 후보의 집합\n",
    "- 사건의 확률 : 진짜 표본이 그 후보 집합에 있을 가능성\n",
    "\n",
    "베이즈 정리(Bayesian Rule)는 사전 지식이 최종 확률에 어떤 영향을 끼치는지를 계산할 수 있게 해준다.\n",
    "\n",
    "사전 지식이 없는 상태에서 4시선다형 문제의 정답률은 25% 이지만 사전지식이 있는 경우 달라질 수 있다."
   ]
  },
  {
   "cell_type": "markdown",
   "metadata": {
    "collapsed": true
   },
   "source": [
    "# 확률의 성질\n",
    "\n",
    "* 공집합의 확률 <br>\n",
    "$P(∅)=0$\n",
    "\n",
    "* 여집합의 확률 <br>\n",
    "$P(AC)=1−P(A)$\n",
    " \n",
    "* 포함-배제 원리 <br>\n",
    "$P(A∪B)=P(A)+P(B)–P(A∩B)$\n",
    " \n",
    "* 전체 확률의 법칙 <br>\n",
    "$P(A)=∑iP(A∩Ci)$\n",
    "\n",
    "    복수의 사건 Ci 가 서로 교칩합이 없고 모두 합쳤을때 전체 표본 공간이면 <br>\n",
    "    모든 사건  A 에 대해 사건  A 의 확률은 사건  A 와 사건  Ci 가 동시에 발생할 사건들의 확률의 합과 같다.\n",
    "    \n",
    "    $P(A) = \\sum_i P(A \\cap C_i)$\n",
    "\n"
   ]
  },
  {
   "cell_type": "markdown",
   "metadata": {},
   "source": [
    "# 23절. 베이즈 정리\n",
    "\n",
    "# 결합 확률과 조건부 확률\n",
    "\n",
    "\n",
    "* 하나의 사건(부분 집합) : 선택된 표본이 포함되어 있을 수 있는 하나의 부분 집합<br>\n",
    "    또는  \"선택된 표본이 이 사건(부분 집합) 안에 있다\"라는 주장 혹은 가설\n",
    "\n",
    "* 사건(부분 집합)의 확률 :  사건(부분 집합)이 선택된 표본을 포함할 가능성, 주장이 진실일 가능성, 가설의 신뢰도\n",
    "\n",
    "* 베이지안 확률론의 장점 : 추가적인 정보가 발생하였을 때 이 추가 정보를 사용하여 기존에 가지고 있던 확률 즉, 어떤 가설에 대한 신뢰도를 좀 더 정확하게 수정할 수 있다\n",
    "\n",
    "\n",
    "## 범인 문제 \n",
    "* 살인 사건 발생\n",
    "* 용의자는 20명\n",
    "    * 남자 12명, 여자 8명\n",
    "    * 머리가 긴 사람 10명, 머리가 짧은 사람 10명\n",
    "* 범인이 남자일 확률\n",
    "    * 남자의 집합(사건)  AA 에 범인(선택된 표본)이 속해 있다는 주장의 신뢰도:  \n",
    "    $P(A)=0.6P(A)=0.6 $\n",
    "* 범인이 머리가 길 확률\n",
    "    * 머리가 긴 사람의 집합(사건)  BB 에 범인(선택된 표본)이 속해 있다는 주장의 신뢰도:  \n",
    "    $P(B)=0.5P(B)=0.5 $\n",
    "* 실제로는 범인이 머리가 길다.\n",
    "\n",
    "\n",
    "## 결합 확률과 조건부 확률\n",
    "\n",
    "* 결합 확률(joint probability) : 사건  A 와  B 가 동시에 발생할 확률\n",
    "$P(A \\cap B) \\text{ 또는 } P(A, B)$ \n",
    "\n",
    "* 조건부 확률(conditional : B 가 사실일 때  A 가 일어날 확률 \n",
    "$P(A|B) = \\dfrac{P(A,B)}{P(B)}$\n",
    "\n",
    "    * 사건  B 가 사실이므로 모든 가능한 표본은 사건  B 에 포함되어야 한다. 즉, 표본 공간  Ω→B 가 된다.\n",
    "    * 사건  A 의 원소는 모두 사건  B 의 원소도 되므로 사실상 사건  A∩B 의 원소가 된다. 즉,  A→A∩B 가 된다.\n",
    "    * 사건  A 의 확률 즉, 신뢰도는 원래의 신뢰도(결합 확률)를 새로운 표본 공간의 신뢰도(확률)로 정규화(normalize)한 값이라고 할 수 있다.\n",
    "\n",
    "=====\n",
    "\n",
    "* 조건부 확률  P(A|B)P(A|B) \n",
    "    * 사건 B가 발생한 경우의 사건 A의 확률\n",
    "    * 표본이 이벤트 B에 속한다는 새로운 사실을 알게 되었을 때,\n",
    "    * 이 표본이 사건 A에 속한다는 사실의 정확성(신뢰도)이 어떻게 변하는지를 알려준다.\n",
    "* 예를 들어, 범인 찾기 문제에서\n",
    "    * P(A)P(A) : 범인이 남자일 확률\n",
    "    * P(B)P(B) : 범인이 머리가 길 확률\n",
    "    * P(A|B)P(A|B) : 범인이 머리가 길다는 사실을 알게 되었을 때, 달라진(갱신된) \"범인이 남자일 확률\"\n",
    "* 조건부 확률의 값<br>\n",
    "$P(A|B) = \\dfrac{P(A,B)}{P(B)}$\n",
    "\n",
    "머리가 긴 남자가 3명이면 <br>\n",
    "    $P(A|B) = \\dfrac{P(A, B)}{P(B)} = \\dfrac{3/20}{10/20}  = \\dfrac{3}{10}$ \n",
    "\n",
    "## 독립\n",
    " 사건  A 와 사건  B 의 결합 확률의 값이 다음과 같은 관계가 성립하면 두 사건  A 와  B 는 서로 독립(independent)<br>\n",
    "     $P(A,B) = P(A)P(B)$\n",
    "\n",
    " 즉,  B  라는 사건이 발생하든 말든 사건  A 에는 전혀 영향을 주지 않는다.\n"
   ]
  },
  {
   "cell_type": "markdown",
   "metadata": {},
   "source": [
    "# 베이즈 정리\n",
    " \n",
    "사건  B 가 발생함으로써 사건  A 의 확률이 어떻게 변화하는지를 표현한 정리<br>\n",
    " 새로운 정보가 기존의 의사 결정에 어떻게 영향을 미치는지를 설명<br>\n",
    "     $P(A|B) = \\dfrac{P(B|A)P(A)}{P(B)}$\n",
    "\n",
    "* $P(A|B)$ : 사후 확률(posterior). 사건 B가 발생한 후 갱신된 사건 A의 확률<br>\n",
    "* $P(A)$ : 사전 확률(prior). 사건 B가 발생하기 전에 가지고 있던 사건 A의 확률<br>\n",
    "* $P(B|A)$ : 우도(likelihood). 사건 A가 발생한 경우 사건 B의 확률 <br>\n",
    "* $P(B)$ : 정규화 상수(normalizing constant): 확률의 크기 조정 <br>\n",
    "\n",
    "## 베이즈 정리의 확장 1\n",
    "\n",
    "사건 Ai 가 \n",
    "    - 서로 교칩합이 없음\n",
    "    - 모두 합치면 전체 표본 공간\n",
    "\n",
    "* 전체 확률의 법칙을 이용<br>\n",
    "$P(A_1|B) = \\dfrac{P(B|A_1)P(A_1)}{P(B)} = \\dfrac{P(B|A_1)P(A_1)}{\\sum_i P(A_i, B)}= \\dfrac{P(B|A_1)P(A_1)}{\\sum_i P(B|A_i)P(A_i)}$\n",
    "\n",
    "* $ A_1 = A, A_2 = A^C$ 인 경우 <br>\n",
    "$P(A|B) = \\dfrac{P(B|A)P(A)}{P(B|A)P(A) + P(B|A^C)P(A^C)}  = \\dfrac{P(B|A)P(A)}{P(B|A)P(A) + P(B|A^C)(1 - P(A))}$\n",
    "\n"
   ]
  },
  {
   "cell_type": "markdown",
   "metadata": {
    "collapsed": true
   },
   "source": [
    "# 확률 모형이란\n",
    "\n",
    "## 데이터 분포 묘사의 문제점\n"
   ]
  },
  {
   "cell_type": "code",
   "execution_count": 11,
   "metadata": {},
   "outputs": [],
   "source": [
    "import scipy as sp\n",
    "import matplotlib.pyplot as plt\n",
    "import pandas as pd\n",
    "import numpy as np"
   ]
  },
  {
   "cell_type": "code",
   "execution_count": 5,
   "metadata": {},
   "outputs": [
    {
     "data": {
      "image/png": "[encoded data removed]",
      "text/plain": [
       "<matplotlib.figure.Figure at 0x7ba77f0>"
      ]
     },
     "metadata": {},
     "output_type": "display_data"
    }
   ],
   "source": [
    "sp.random.seed(0)\n",
    "x = sp.random.normal(size=1000)\n",
    "ns, bins, ps = plt.hist(x, bins=10)\n",
    "plt.show()"
   ]
  },
  {
   "cell_type": "code",
   "execution_count": 7,
   "metadata": {},
   "outputs": [
    {
     "data": {
      "text/html": [
       "<div>\n",
       "<style>\n",
       "    .dataframe thead tr:only-child th {\n",
       "        text-align: right;\n",
       "    }\n",
       "\n",
       "    .dataframe thead th {\n",
       "        text-align: left;\n",
       "    }\n",
       "\n",
       "    .dataframe tbody tr th {\n",
       "        vertical-align: top;\n",
       "    }\n",
       "</style>\n",
       "<table border=\"1\" class=\"dataframe\">\n",
       "  <thead>\n",
       "    <tr style=\"text-align: right;\">\n",
       "      <th></th>\n",
       "      <th>0</th>\n",
       "      <th>1</th>\n",
       "      <th>2</th>\n",
       "      <th>3</th>\n",
       "      <th>4</th>\n",
       "      <th>5</th>\n",
       "      <th>6</th>\n",
       "      <th>7</th>\n",
       "      <th>8</th>\n",
       "      <th>9</th>\n",
       "      <th>10</th>\n",
       "    </tr>\n",
       "  </thead>\n",
       "  <tbody>\n",
       "    <tr>\n",
       "      <th>0</th>\n",
       "      <td>-3.046143</td>\n",
       "      <td>-2.465593</td>\n",
       "      <td>-1.885043</td>\n",
       "      <td>-1.304494</td>\n",
       "      <td>-0.723944</td>\n",
       "      <td>-0.143394</td>\n",
       "      <td>0.437156</td>\n",
       "      <td>1.017706</td>\n",
       "      <td>1.598255</td>\n",
       "      <td>2.178805</td>\n",
       "      <td>2.759355</td>\n",
       "    </tr>\n",
       "    <tr>\n",
       "      <th>1</th>\n",
       "      <td>0.009000</td>\n",
       "      <td>0.020000</td>\n",
       "      <td>0.070000</td>\n",
       "      <td>0.146000</td>\n",
       "      <td>0.217000</td>\n",
       "      <td>0.239000</td>\n",
       "      <td>0.160000</td>\n",
       "      <td>0.086000</td>\n",
       "      <td>0.038000</td>\n",
       "      <td>0.015000</td>\n",
       "      <td>NaN</td>\n",
       "    </tr>\n",
       "  </tbody>\n",
       "</table>\n",
       "</div>"
      ],
      "text/plain": [
       "         0         1         2         3         4         5         6   \\\n",
       "0 -3.046143 -2.465593 -1.885043 -1.304494 -0.723944 -0.143394  0.437156   \n",
       "1  0.009000  0.020000  0.070000  0.146000  0.217000  0.239000  0.160000   \n",
       "\n",
       "         7         8         9         10  \n",
       "0  1.017706  1.598255  2.178805  2.759355  \n",
       "1  0.086000  0.038000  0.015000       NaN  "
      ]
     },
     "execution_count": 7,
     "metadata": {},
     "output_type": "execute_result"
    }
   ],
   "source": [
    "pd.DataFrame([bins, ns/1000])"
   ]
  },
  {
   "cell_type": "code",
   "execution_count": 8,
   "metadata": {},
   "outputs": [
    {
     "data": {
      "image/png": "[encoded data removed]",
      "text/plain": [
       "<matplotlib.figure.Figure at 0x9f73940>"
      ]
     },
     "metadata": {},
     "output_type": "display_data"
    }
   ],
   "source": [
    "#구간의 수를 증가\n",
    "ns, bins, ps = plt.hist(x, bins=100)\n",
    "plt.show()"
   ]
  },
  {
   "cell_type": "code",
   "execution_count": 9,
   "metadata": {},
   "outputs": [
    {
     "data": {
      "text/html": [
       "<div>\n",
       "<style>\n",
       "    .dataframe thead tr:only-child th {\n",
       "        text-align: right;\n",
       "    }\n",
       "\n",
       "    .dataframe thead th {\n",
       "        text-align: left;\n",
       "    }\n",
       "\n",
       "    .dataframe tbody tr th {\n",
       "        vertical-align: top;\n",
       "    }\n",
       "</style>\n",
       "<table border=\"1\" class=\"dataframe\">\n",
       "  <thead>\n",
       "    <tr style=\"text-align: right;\">\n",
       "      <th></th>\n",
       "      <th>0</th>\n",
       "      <th>1</th>\n",
       "      <th>2</th>\n",
       "      <th>3</th>\n",
       "      <th>4</th>\n",
       "      <th>5</th>\n",
       "      <th>6</th>\n",
       "      <th>7</th>\n",
       "      <th>8</th>\n",
       "      <th>9</th>\n",
       "      <th>...</th>\n",
       "      <th>91</th>\n",
       "      <th>92</th>\n",
       "      <th>93</th>\n",
       "      <th>94</th>\n",
       "      <th>95</th>\n",
       "      <th>96</th>\n",
       "      <th>97</th>\n",
       "      <th>98</th>\n",
       "      <th>99</th>\n",
       "      <th>100</th>\n",
       "    </tr>\n",
       "  </thead>\n",
       "  <tbody>\n",
       "    <tr>\n",
       "      <th>0</th>\n",
       "      <td>-3.046143</td>\n",
       "      <td>-2.988088</td>\n",
       "      <td>-2.930033</td>\n",
       "      <td>-2.871978</td>\n",
       "      <td>-2.813923</td>\n",
       "      <td>-2.755868</td>\n",
       "      <td>-2.697813</td>\n",
       "      <td>-2.639758</td>\n",
       "      <td>-2.581703</td>\n",
       "      <td>-2.523648</td>\n",
       "      <td>...</td>\n",
       "      <td>2.23686</td>\n",
       "      <td>2.294915</td>\n",
       "      <td>2.35297</td>\n",
       "      <td>2.411025</td>\n",
       "      <td>2.46908</td>\n",
       "      <td>2.527135</td>\n",
       "      <td>2.58519</td>\n",
       "      <td>2.643245</td>\n",
       "      <td>2.7013</td>\n",
       "      <td>2.759355</td>\n",
       "    </tr>\n",
       "    <tr>\n",
       "      <th>1</th>\n",
       "      <td>0.001000</td>\n",
       "      <td>0.000000</td>\n",
       "      <td>0.000000</td>\n",
       "      <td>0.001000</td>\n",
       "      <td>0.001000</td>\n",
       "      <td>0.001000</td>\n",
       "      <td>0.002000</td>\n",
       "      <td>0.001000</td>\n",
       "      <td>0.002000</td>\n",
       "      <td>0.000000</td>\n",
       "      <td>...</td>\n",
       "      <td>0.00400</td>\n",
       "      <td>0.003000</td>\n",
       "      <td>0.00200</td>\n",
       "      <td>0.001000</td>\n",
       "      <td>0.00100</td>\n",
       "      <td>0.000000</td>\n",
       "      <td>0.00100</td>\n",
       "      <td>0.001000</td>\n",
       "      <td>0.0010</td>\n",
       "      <td>NaN</td>\n",
       "    </tr>\n",
       "  </tbody>\n",
       "</table>\n",
       "<p>2 rows × 101 columns</p>\n",
       "</div>"
      ],
      "text/plain": [
       "        0         1         2         3         4         5         6    \\\n",
       "0 -3.046143 -2.988088 -2.930033 -2.871978 -2.813923 -2.755868 -2.697813   \n",
       "1  0.001000  0.000000  0.000000  0.001000  0.001000  0.001000  0.002000   \n",
       "\n",
       "        7         8         9      ...         91        92       93   \\\n",
       "0 -2.639758 -2.581703 -2.523648    ...     2.23686  2.294915  2.35297   \n",
       "1  0.001000  0.002000  0.000000    ...     0.00400  0.003000  0.00200   \n",
       "\n",
       "        94       95        96       97        98      99        100  \n",
       "0  2.411025  2.46908  2.527135  2.58519  2.643245  2.7013  2.759355  \n",
       "1  0.001000  0.00100  0.000000  0.00100  0.001000  0.0010       NaN  \n",
       "\n",
       "[2 rows x 101 columns]"
      ]
     },
     "execution_count": 9,
     "metadata": {},
     "output_type": "execute_result"
    }
   ],
   "source": [
    "pd.DataFrame([bins, ns/1000])"
   ]
  },
  {
   "cell_type": "markdown",
   "metadata": {},
   "source": [
    "## 확률 모형과 데이터 생성\n",
    "데이터 그 자체에는 의미가 없으며 데이터의 분포 특성만이 중요<br>\n",
    "분포 특성이 같은 데이터는 실질적으로 동일한 정보를 주는 데이터로 봄 "
   ]
  },
  {
   "cell_type": "code",
   "execution_count": 12,
   "metadata": {},
   "outputs": [],
   "source": [
    "# 주사위를 던져서 나올수 있는 값 \n",
    "x = np.array([5, 6, 1, 4, 4, 4, 2, 4, 6, 3, 5, 1, 1, 5, 3, 2, 1, 2, 6, 2, 6, 1, 2,\n",
    "              5, 4, 1, 4, 6, 1, 3, 4, 1, 2, 4, 6, 4, 4, 1, 2, 2, 2, 1, 3, 5, 4, 4,\n",
    "              3, 5, 3, 1, 1, 5, 6, 6, 1, 5, 2, 5, 2, 3, 3, 1, 2, 2, 2, 2, 4, 4, 3,\n",
    "              4, 1, 4, 6, 5, 2, 3, 5, 4, 5, 5, 5, 4, 5, 5, 5, 1, 5, 4, 3, 6, 6, 6])"
   ]
  },
  {
   "cell_type": "code",
   "execution_count": 16,
   "metadata": {},
   "outputs": [
    {
     "data": {
      "text/plain": [
       "array([5, 6, 1, 4, 4, 4, 2, 4, 6, 3, 5, 1, 1, 5, 3, 2, 1, 2, 6, 2, 6, 1, 2,\n",
       "       5, 4, 1, 4, 6, 1, 3, 4, 1, 2, 4, 6, 4, 4, 1, 2, 2, 2, 1, 3, 5, 4, 4,\n",
       "       3, 5, 3, 1, 1, 5, 6, 6, 1, 5, 2, 5, 2, 3, 3, 1, 2, 2, 2, 2, 4, 4, 3,\n",
       "       4, 1, 4, 6, 5, 2, 3, 5, 4, 5, 5, 5, 4, 5, 5, 5, 1, 5, 4, 3, 6, 6, 6])"
      ]
     },
     "execution_count": 16,
     "metadata": {},
     "output_type": "execute_result"
    }
   ],
   "source": [
    "# randint(low, high=None, size=None, dtype='l')\n",
    "np.random.seed(0)\n",
    "np.random.randint(1, 7, 92)"
   ]
  },
  {
   "cell_type": "markdown",
   "metadata": {},
   "source": [
    "확률 모형론을 사용한다는 것은 데이터를 생성하는 가상의 주사위가 있다고 가정<br>\n",
    "현재 가지고 있는 데이터와 똑같은 분포의 데이터를 만들어내는 가상의 주사위를 찾고 그 주사위를 실제로 만드는 것<br>\n",
    "동일한 데이터 분포를 만들어내는 주사위"
   ]
  },
  {
   "cell_type": "markdown",
   "metadata": {},
   "source": [
    "## 확률 변수\n",
    "\n",
    "확률 변수 : 특정한 분포 특성을 가지는 데이터를 만들어 내는 주사위 혹은 일종의 기계(machine)\n",
    "\n",
    "확률 변수는 수학적으로 하나의 표본에 대해 하나의 실수 숫자를 대응하는 함수로 정의\n",
    "\n",
    "## 확률 분포 함수\n",
    "\n",
    "확률적 특성을 정의 : \n",
    "확률 분포 함수(probability distribution function) 또는 확률 밀도 함수(probability density function)\n",
    "\n",
    "함수들의 계수 모수(parameter)\n",
    "\n",
    "가우시안 정규 분포(Gaussian normal distribution) <br>\n",
    "$N(x; \\mu, \\sigma) = \\frac{1}{\\sigma\\sqrt{2\\pi}}\\, e^{-\\frac{(x - \\mu)^2}{2 \\sigma^2}}$\n",
    "\n",
    "독립 변수 x,   μ 와  σ 는 평균(mean)과 표준편차(standard deviation)\n",
    "\n",
    "평균 0, 표준편차 1인 표준 정규 분포(standard normal distribution)"
   ]
  },
  {
   "cell_type": "code",
   "execution_count": 18,
   "metadata": {},
   "outputs": [
    {
     "data": {
      "image/png": "[encoded data removed]",
      "text/plain": [
       "<matplotlib.figure.Figure at 0xa1d99b0>"
      ]
     },
     "metadata": {},
     "output_type": "display_data"
    }
   ],
   "source": [
    "import scipy.stats\n",
    "x = np.linspace(-3, 3, 100)\n",
    "y = sp.stats.norm.pdf(x)\n",
    "plt.plot(x,y)\n",
    "plt.show()"
   ]
  },
  {
   "cell_type": "markdown",
   "metadata": {},
   "source": [
    "이 데이터는 평균  μ , 표준편차  σ 인 가우시안 정규 분포를 따른다"
   ]
  },
  {
   "cell_type": "markdown",
   "metadata": {},
   "source": [
    "## 샘플링, 실현\n",
    "데이터를 생성하는 과정 샘플링(sampling) 또는 실현(realization)\n",
    "\n",
    "샘플링을 통해 얻어진 데이터 표본\n",
    "\n",
    "## 데이터 분석의 과정\n",
    "\n",
    "1. 자료를 확보한다.\n",
    "2. 확보된 자료를 확률 변수의 표본으로 가정한다.\n",
    "3. 확률 변수가 특정한 확률 모형을 따른다고 가정한다.\n",
    "4. 표본에 대한 정보로부터 확률 모형의 종류나 모수를 추정한다.\n",
    "5. 구해진 확률 모형으로부터 다음에 생성될 데이터나 데이터 특성을 예측한다.\n",
    "\n",
    "\n",
    "# 확률 변수\n",
    "\n",
    "## 확률 변수의 정의\n",
    "\n",
    "표본 공간의 모든 표본에 대해 어떤 실수 값을 붙인 것\n",
    "\n",
    "* 확률과 확률 변수의 차이점\n",
    "    * 확률은 표본으로 이루어진 집합 즉, 사건에 대해 할당된 숫자이지만 확률 변수는 표본 하나 하나에 대해 할당된 숫자이다.\n",
    "    * 확률은 0부터 1사이의 숫자만 할당할 수 있지만 확률 변수는 모든 실수 범위의 숫자를 할당할 수 있다.\n",
    "    \n",
    "확률 변수는 표본 공간을 정의역(domain)으로 가지고 실수를 공역(range)으로 가지는 함수\n",
    "\n",
    "## 이산 확률 변수\n",
    "\n",
    "주사위에서 나올 수 있는 모든 면의 집합 표본집합 \n",
    "\n",
    "확률 변수값이 연속적(continuous)이지 않고 떨어져(discrete) 있는 경우 이산 확률 변수(discrete random variable)<br>\n",
    "(기하 분포(geometric distribution)는 양의 정수값을 가지는 이산 분포이지만 무한대의 양의 정수도 0이 아닌 확률을 가질 수 있다.)\n",
    "\n",
    "## 연속 확률 변수\n",
    "\n",
    "실수(real number) 집합처럼 연속적이고 무한개의 경우의 수 연속 확률 변수 (continuous random variable)\n",
    "\n",
    "특정한 값을 가리킬 확률은 0 <br>\n",
    "확률을 정의할 때 특정한 각도에 대해 정의한 것이 아니라 구간(inteval)이라는 사건(event)에 대해 확률을 정의\n",
    "\n",
    "사건(event)을 수직선 상의 실수 구간(interval)으로 변환할 수 있다.<br>\n",
    "구간은 시작점과 끝점이라는 두 개의 숫자로 묘사하는 것이 가능하므로 결국 두 개의 실수 숫자 쌍으로 사건을 정의 할 수 있다."
   ]
  },
  {
   "cell_type": "markdown",
   "metadata": {},
   "source": [
    "# 누적 분포 함수와 확률 밀도 함수\n",
    "\n",
    "## 확률 분포의 묘사\n",
    "\n",
    "확률 : 사건(event)이라는 표본의 집합에 대해 할당된 숫자\n",
    "\n",
    "확률 분포(distribution) : 어떤 사건에 어느 정도의 확률이 할당되었는지를 묘사한 것을 \n",
    "\n",
    "\n",
    "## 누적 확률 분포\n",
    "\n",
    "숫자 하나만으로 사건 즉, 구간을 정의할 수 있는 방법으로 구간의 시작을 나타내는 숫자를 모두 같은 숫자인 음수 무한대( −∞ )로 통일 한다. <br>\n",
    "(확률 공간의 정의를 이용하면 이러한 구간들로부터 시작점이 음수 무한대가 아닌 다른 구간들을 생성할 수 있다. 또한 새로 생성된 구간들에 대한 확률값도 확률의 정의에 따라 계산할 수 있다.)\n",
    "\n",
    "예) <br>\n",
    "F(−1) : 확률 변수가 -∞ 이상 -1 미만인 구간 내에 존재할 확률 즉,  P({−∞≤X<−1})\n",
    "F(0)  : 확률 변수가 -∞ 이상 0 미만인 구간 내에 존재할 확률 즉,  P({−∞≤X<0})\n",
    "F(1)  : 확률 변수가 −∞ 이상 1 미만인 구간 내에 존재할 확률 즉, P({−∞≤X<1}) <br>\n",
    "\n",
    ".....\n",
    " \n",
    "F(10)  : 확률 변수가 −∞ 이상 10 미만인 구간 내에 존재할 확률 즉,  P({−∞≤X<10})\n"
   ]
  },
  {
   "cell_type": "code",
   "execution_count": 20,
   "metadata": {},
   "outputs": [
    {
     "data": {
      "image/png": "[encoded data removed]",
      "text/plain": [
       "<matplotlib.figure.Figure at 0xbda24a8>"
      ]
     },
     "metadata": {},
     "output_type": "display_data"
    }
   ],
   "source": [
    "t = np.linspace(-100, 500, 100)\n",
    "F = t / 360\n",
    "F[t<0] = 0\n",
    "F[t>360] = 1\n",
    "plt.plot(t, F)\n",
    "plt.ylim(-0.1, 1.1)\n",
    "plt.xticks([0, 180, 360]);\n",
    "plt.title(\"Cumulative Distribution Function\");\n",
    "plt.xlabel(\"$x$ (deg.)\");\n",
    "plt.ylabel(\"$F(x)$\");\n",
    "plt.show()"
   ]
  },
  {
   "cell_type": "markdown",
   "metadata": {},
   "source": [
    "특징 <br>\n",
    "* $F(-\\infty) = 0$<br>\n",
    "* $F(+\\infty) = 1$<br>\n",
    "* $F(x) \\geq F(y) \\;\\; \\text{ if } \\;\\; x > y$"
   ]
  },
  {
   "cell_type": "markdown",
   "metadata": {},
   "source": [
    "## 확률 밀도 함수\n",
    "\n",
    "누적 분포 함수는 확률이 어느 사건(event)에 어느 정도 분포되어 있는지 수학적으로 명확하게 표현해 준다.\n",
    "\n",
    "음수 무한대로 시작점을 사용하는 경우 <br>\n",
    "어떤 확률 변수 값이 더 자주 나오는지에 대한 정보를 알기 힘들다. <br>\n",
    "아주 작은 폭을 가지는 구간들로 나눈 다음 각 구간의 확률을 살펴보는 것이 편리하다.\n",
    "\n",
    "절대적인 확률이 아닌 상대적인 확률 분포 형태만을 보기 위한 확률 밀도 함수(probability density function)\n"
   ]
  },
  {
   "cell_type": "code",
   "execution_count": 24,
   "metadata": {},
   "outputs": [
    {
     "data": {
      "image/png": "[encoded data removed]",
      "text/plain": [
       "<matplotlib.figure.Figure at 0xbdbf518>"
      ]
     },
     "metadata": {},
     "output_type": "display_data"
    }
   ],
   "source": [
    "t = np.linspace(-100, 500, 1000)\n",
    "F = t / 360\n",
    "F[t < 0] = 0\n",
    "F[t > 360] = 1\n",
    "f = np.gradient(F, 600/1000)  # 수치미분\n",
    "plt.plot(t, f)\n",
    "plt.ylim(-0.0001, f.max()*1.1)\n",
    "plt.xticks([0, 180, 360]);\n",
    "plt.title(\"Probability Density Function\");\n",
    "plt.xlabel(\"$x$ (deg.)\");\n",
    "plt.ylabel(\"$f(x)$\");\n",
    "plt.show()"
   ]
  },
  {
   "cell_type": "markdown",
   "metadata": {},
   "source": [
    "## 확률 질량 함수 \n",
    "이산 확률 분포는 확률 밀도 함수를 정의할 수 없는 대신 확률 질량 함수가 존재한다. 확률 질량 함수(probability mass funtion)는 이산 확률 변수의 가능한 값 하나 하나에 대해 확률을 정의한 함수이다."
   ]
  },
  {
   "cell_type": "code",
   "execution_count": 25,
   "metadata": {},
   "outputs": [
    {
     "data": {
      "image/png": "[encoded data removed]",
      "text/plain": [
       "<matplotlib.figure.Figure at 0x7c5d518>"
      ]
     },
     "metadata": {},
     "output_type": "display_data"
    }
   ],
   "source": [
    "x = np.arange(1,7)\n",
    "y = np.array([0.0, 0.1, 0.1, 0.2, 0.2, 0.4])\n",
    "plt.stem(x, y);\n",
    "plt.xlim(0, 7);\n",
    "plt.ylim(-0.01, 0.5);\n",
    "plt.show()"
   ]
  },
  {
   "cell_type": "code",
   "execution_count": null,
   "metadata": {
    "collapsed": true
   },
   "outputs": [],
   "source": []
  }
 ],
 "metadata": {
  "kernelspec": {
   "display_name": "Python 3",
   "language": "python",
   "name": "python3"
  },
  "language_info": {
   "codemirror_mode": {
    "name": "ipython",
    "version": 3
   },
   "file_extension": ".py",
   "mimetype": "text/x-python",
   "name": "python",
   "nbconvert_exporter": "python",
   "pygments_lexer": "ipython3",
   "version": "3.6.1"
  }
 },
 "nbformat": 4,
 "nbformat_minor": 2
}
