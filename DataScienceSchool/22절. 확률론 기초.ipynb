{
 "cells": [
  {
   "cell_type": "markdown",
   "metadata": {},
   "source": [
    "# 22절: 확률의 정의와 특성\n",
    "\n",
    "# 확률의 수학적 정의\n",
    "\n",
    "## 확률 표본\n",
    "\n",
    "확률 표본 또는 표본(sample) : 선택된 하나의 사실\n",
    "예) 주사위 1이라는 숫자를 표시하는 면이 위로 나온 표본\n",
    "\n",
    "## 표본 공간\n",
    "\n",
    "선택될 수 있는 모든 표본의 집합\n",
    "\n",
    "## 사건\n",
    "\n",
    "표본 공간의 부분집합<br>\n",
    "전체 표본 공간 중에서 우리가 관심을 가지고 있는 일부 표본의 집합\n",
    "\n",
    "## 확률\n",
    "\n",
    "확률(probability) : 각각의 사건에 대해 할당된, 다음과 같은 3가지 조건을 만족하는 숫자\n",
    "\n",
    "1. 모든 사건에 대해 확률은 실수이고 양수이다.\n",
    "2. 표본공간이라는 사건에 대한 확률은 1이다.\n",
    "3. 공통 원소가 없는 두 사건의 합집합의 확률은 각각의 사건의 확률의 합이다.\n",
    "\n",
    "## 확률의 의미\n",
    "\n",
    "사건(부분집합)에 해당하는 표본이 선택될 혹은 선택되었을 가능성\n",
    "\n",
    "주사위를 던져 나온 숫자가 3보다 클 가능성<br>\n",
    "주사위를 던져 나온 숫자가 3보다 크다\"는 주장의 신뢰도\n",
    "\n",
    "## 표본의 수가 무한한 경우\n",
    "\n",
    "표본의 수가 무한하고 모든 표본에 대해 표본 하나만을 가진 사건의 확률이 동일하다면, 표본 하나에 대한 사건의 확률은 언제나 0 이다. \n",
    "\n"
   ]
  },
  {
   "cell_type": "markdown",
   "metadata": {},
   "source": [
    "# 확률의 의미\n",
    "\n",
    "## 확률의 빈도주의 의미\n",
    "\n",
    "샘플링(sampling) : 표본 집합에서 하나의 표본을 선택하는 것 (표본 추출)\n",
    "\n",
    "A 라는 사건이 가지는 확률 : A 의 원소가 될 경향(propensity) 또는 가능성"
   ]
  },
  {
   "cell_type": "code",
   "execution_count": null,
   "metadata": {
    "collapsed": true
   },
   "outputs": [],
   "source": []
  }
 ],
 "metadata": {
  "kernelspec": {
   "display_name": "Python 3",
   "language": "python",
   "name": "python3"
  },
  "language_info": {
   "codemirror_mode": {
    "name": "ipython",
    "version": 3
   },
   "file_extension": ".py",
   "mimetype": "text/x-python",
   "name": "python",
   "nbconvert_exporter": "python",
   "pygments_lexer": "ipython3",
   "version": "3.6.1"
  }
 },
 "nbformat": 4,
 "nbformat_minor": 2
}
