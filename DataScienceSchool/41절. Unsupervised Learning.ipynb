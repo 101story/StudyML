{
 "cells": [
  {
   "cell_type": "code",
   "execution_count": 1,
   "metadata": {
    "collapsed": true
   },
   "outputs": [],
   "source": [
    "from IPython.core.interactiveshell import InteractiveShell\n",
    "InteractiveShell.ast_node_interactivity = \"all\"\n",
    "\n",
    "import numpy as np\n",
    "import pandas as pd\n",
    "import seaborn as sns\n",
    "import matplotlib.pyplot as plt"
   ]
  },
  {
   "cell_type": "markdown",
   "metadata": {},
   "source": [
    "# 41절: 주성분 분석\n",
    "\n",
    "# PCA\n",
    "\n",
    "PCA(Principal Component Analysis)는 주성분 분석이라고도 하며 차원 축소를 통해 최소 차원의 정보로 원래 차원의 정보를 모사(approximate)하려는 작업\n",
    "\n",
    "## 차원 축소\n",
    "\n",
    "고차원 벡터에서 일부 차원의 값을 모두 0으로 만들어(truncation) 저차원 벡터로 줄임\n",
    "\n",
    "다만 원래의 고차원 벡터의 특성을 최대한 살리기 위해 가장 분산이 높은 방향으로 회전 변환(rotation transform)을 함 \n",
    "\n",
    "\n",
    "## PCA와 고유값 분해\n",
    "\n",
    "직교 변환 행렬 W 을 찾는 것과 동일\n",
    "\n",
    "직교행렬 : 어떤행렬이 그 행렬의 전치행렬과 그 행렬의 역행렬이 서로 같을때 어떤 행렬\n",
    "\n",
    "W 값은 공분산 행렬  XXT 의 고유값 분해(eigenvalue decomposition)를 사용하여 찾을 수 있다. W 의 각 열은 가장 큰 고유값부터 D 개의 순차적인 고유값에 대응하는 고유 벡터로 이루어진다.\n",
    "\n",
    "\n",
    "### Scikit-Learn 의 PCA 기능\n",
    "**  PCA 클래스 **\n",
    "\n",
    "* 입력 인수:\n",
    "    - n_components : 정수\n",
    "         최종 성분의 수\n",
    "\n",
    "\n",
    "* 속성:\n",
    "    - components_\n",
    "         주성분 축\n",
    "    - n_components_\n",
    "         주성분의 수\n",
    "    - mean_ :\n",
    "         각 성분의 평균\n",
    "    - explained_variance_ratio_\n",
    "         각 성분의 분산 비율\n",
    "         \n",
    "         \n",
    "* 주성분 분석 참고 <br>\n",
    "\n",
    "http://antilibrary.org/1091\n",
    "\n",
    "    주성분 분석은 데이터를 한개의 축으로 사상시켰을 때 그 분산이 가장 커지는 축\n",
    "    새로운 좌표계로 데이터를 선형 변환\n",
    "    주로 분산을 그대로 유지하고 고차원에서 저차원으로 축소 할 수 있도록 함 \n",
    "    \n",
    "https://wikidocs.net/7646\n",
    "\n",
    "    그림4 참고 분산이 클수록 원래 데이터의 형태를 반영 할 수 있다. \n",
    "    \n",
    "    \n",
    "* 공분산 \n",
    "    \n",
    "    둘 이상의 변량이 연관성을 가지며 분포하는 모양을 전체적으로 나타낸 분산 \n",
    "    "
   ]
  },
  {
   "cell_type": "markdown",
   "metadata": {},
   "source": [
    "## 2차원 PCA의 예"
   ]
  },
  {
   "cell_type": "code",
   "execution_count": 2,
   "metadata": {},
   "outputs": [
    {
     "data": {
      "text/plain": [
       "<matplotlib.collections.PathCollection at 0x2a4d483ecc0>"
      ]
     },
     "execution_count": 2,
     "metadata": {},
     "output_type": "execute_result"
    },
    {
     "data": {
      "text/plain": [
       "(-4, 4)"
      ]
     },
     "execution_count": 2,
     "metadata": {},
     "output_type": "execute_result"
    },
    {
     "data": {
      "text/plain": [
       "(-3, 3)"
      ]
     },
     "execution_count": 2,
     "metadata": {},
     "output_type": "execute_result"
    },
    {
     "data": {
      "text/plain": [
       "<matplotlib.text.Text at 0x2a4d48520b8>"
      ]
     },
     "execution_count": 2,
     "metadata": {},
     "output_type": "execute_result"
    },
    {
     "data": {
      "image/png": "[encoded data removed]",
      "text/plain": [
       "<matplotlib.figure.Figure at 0x2a4d4485940>"
      ]
     },
     "metadata": {},
     "output_type": "display_data"
    }
   ],
   "source": [
    "X = np.array([[-1, -1], [-2, -1], [-3, -2], [1, 1], [2, 1], [3, 2]])\n",
    "plt.scatter(X[:,0], X[:,1], s=100)\n",
    "plt.xlim(-4,4)\n",
    "plt.ylim(-3,3)\n",
    "plt.title(\"original data\")\n",
    "plt.show()"
   ]
  },
  {
   "cell_type": "code",
   "execution_count": 4,
   "metadata": {},
   "outputs": [
    {
     "data": {
      "text/plain": [
       "PCA(copy=True, iterated_power='auto', n_components=2, random_state=None,\n",
       "  svd_solver='auto', tol=0.0, whiten=False)"
      ]
     },
     "execution_count": 4,
     "metadata": {},
     "output_type": "execute_result"
    }
   ],
   "source": [
    "from sklearn.decomposition import PCA\n",
    "pca = PCA(n_components=2)\n",
    "pca.fit(X)"
   ]
  },
  {
   "cell_type": "code",
   "execution_count": 5,
   "metadata": {},
   "outputs": [
    {
     "data": {
      "text/plain": [
       "array([[ 1.38340578,  0.2935787 ],\n",
       "       [ 2.22189802, -0.25133484],\n",
       "       [ 3.6053038 ,  0.04224385],\n",
       "       [-1.38340578, -0.2935787 ],\n",
       "       [-2.22189802,  0.25133484],\n",
       "       [-3.6053038 , -0.04224385]])"
      ]
     },
     "execution_count": 5,
     "metadata": {},
     "output_type": "execute_result"
    }
   ],
   "source": [
    "# X 값들에 대해서 바뀐 차원의 x,y 값\n",
    "Z = pca.transform(X)\n",
    "Z"
   ]
  },
  {
   "cell_type": "code",
   "execution_count": 7,
   "metadata": {},
   "outputs": [
    {
     "data": {
      "text/plain": [
       "(array([ 6.61628593,  0.05038073]), array([[ 0.83849224, -0.54491354],\n",
       "        [ 0.54491354,  0.83849224]]))"
      ]
     },
     "execution_count": 7,
     "metadata": {},
     "output_type": "execute_result"
    },
    {
     "name": "stdout",
     "output_type": "stream",
     "text": [
      "The history saving thread hit an unexpected error (OperationalError('database or disk is full',)).History will not be written to the database.\n"
     ]
    }
   ],
   "source": [
    "# pca.get_covariance() 공분산 np.linalg.eig() 고유값 \n",
    "w, V = np.linalg.eig(pca.get_covariance())\n",
    "w, V"
   ]
  },
  {
   "cell_type": "code",
   "execution_count": 8,
   "metadata": {},
   "outputs": [
    {
     "data": {
      "text/plain": [
       "array([[-1.38340578, -0.2935787 ],\n",
       "       [-2.22189802,  0.25133484],\n",
       "       [-3.6053038 , -0.04224385],\n",
       "       [ 1.38340578,  0.2935787 ],\n",
       "       [ 2.22189802, -0.25133484],\n",
       "       [ 3.6053038 ,  0.04224385]])"
      ]
     },
     "execution_count": 8,
     "metadata": {},
     "output_type": "execute_result"
    }
   ],
   "source": [
    "V.T.dot(X.T).T"
   ]
  },
  {
   "cell_type": "code",
   "execution_count": 9,
   "metadata": {},
   "outputs": [
    {
     "data": {
      "text/plain": [
       "<matplotlib.collections.PathCollection at 0x2a4d5e25b38>"
      ]
     },
     "execution_count": 9,
     "metadata": {},
     "output_type": "execute_result"
    },
    {
     "data": {
      "text/plain": [
       "(-4, 4)"
      ]
     },
     "execution_count": 9,
     "metadata": {},
     "output_type": "execute_result"
    },
    {
     "data": {
      "text/plain": [
       "(-3, 3)"
      ]
     },
     "execution_count": 9,
     "metadata": {},
     "output_type": "execute_result"
    },
    {
     "data": {
      "text/plain": [
       "<matplotlib.text.Text at 0x2a4d5e2b940>"
      ]
     },
     "execution_count": 9,
     "metadata": {},
     "output_type": "execute_result"
    },
    {
     "data": {
      "image/png": "[encoded data removed]",
      "text/plain": [
       "<matplotlib.figure.Figure at 0x2a4d5ddafd0>"
      ]
     },
     "metadata": {},
     "output_type": "display_data"
    }
   ],
   "source": [
    "# 새로운 차원에 -1~1 까지의 값으로 정규화 시킨것\n",
    "plt.scatter(Z[:,0], Z[:,1], c='r', s=100)\n",
    "plt.xlim(-4,4)\n",
    "plt.ylim(-3,3)\n",
    "plt.title(\"transformed data\")\n",
    "plt.show()"
   ]
  },
  {
   "cell_type": "code",
   "execution_count": null,
   "metadata": {
    "collapsed": true
   },
   "outputs": [],
   "source": []
  }
 ],
 "metadata": {
  "kernelspec": {
   "display_name": "Python 3",
   "language": "python",
   "name": "python3"
  },
  "language_info": {
   "codemirror_mode": {
    "name": "ipython",
    "version": 3
   },
   "file_extension": ".py",
   "mimetype": "text/x-python",
   "name": "python",
   "nbconvert_exporter": "python",
   "pygments_lexer": "ipython3",
   "version": "3.6.1"
  }
 },
 "nbformat": 4,
 "nbformat_minor": 2
}
