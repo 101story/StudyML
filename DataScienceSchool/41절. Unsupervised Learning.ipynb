{
 "cells": [
  {
   "cell_type": "markdown",
   "metadata": {},
   "source": [
    "# 41절: 주성분 분석\n",
    "\n",
    "# PCA\n",
    "\n",
    "PCA(Principal Component Analysis)는 주성분 분석이라고도 하며 차원 축소를 통해 최소 차원의 정보로 원래 차원의 정보를 모사(approximate)하려는 작업\n",
    "\n",
    "## 차원 축소\n",
    "\n",
    "고차원 벡터에서 일부 차원의 값을 모두 0으로 만들어(truncation) 저차원 벡터로 줄임\n",
    "\n",
    "다만 원래의 고차원 벡터의 특성을 최대한 살리기 위해 가장 분산이 높은 방향으로 회전 변환(rotation transform)을 함 \n",
    "\n",
    "\n",
    "## PCA와 고유값 분해\n",
    "\n",
    "직교 변환 행렬 W 을 찾는 것과 동일\n",
    "\n",
    "직교행렬 : 어떤행렬이 그 행렬의 전치행렬과 그 행렬의 역행렬이 서로 같을때 어떤 행렬\n",
    "\n",
    "\n",
    "\n"
   ]
  },
  {
   "cell_type": "code",
   "execution_count": null,
   "metadata": {
    "collapsed": true
   },
   "outputs": [],
   "source": []
  }
 ],
 "metadata": {
  "kernelspec": {
   "display_name": "Python 3",
   "language": "python",
   "name": "python3"
  },
  "language_info": {
   "codemirror_mode": {
    "name": "ipython",
    "version": 3
   },
   "file_extension": ".py",
   "mimetype": "text/x-python",
   "name": "python",
   "nbconvert_exporter": "python",
   "pygments_lexer": "ipython3",
   "version": "3.6.1"
  }
 },
 "nbformat": 4,
 "nbformat_minor": 2
}
