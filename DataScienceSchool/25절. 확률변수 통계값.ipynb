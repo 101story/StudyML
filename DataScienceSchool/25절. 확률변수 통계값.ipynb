{
 "cells": [
  {
   "cell_type": "markdown",
   "metadata": {},
   "source": [
    "# 25절: 난수발생과 카운팅\n",
    "\n",
    "## NumPy를 사용한 난수 발생과 카운팅\n"
   ]
  },
  {
   "cell_type": "code",
   "execution_count": 33,
   "metadata": {
    "collapsed": true
   },
   "outputs": [],
   "source": [
    "import scipy as sp\n",
    "import matplotlib.pyplot as plt\n",
    "import pandas as pd\n",
    "import numpy as np"
   ]
  },
  {
   "cell_type": "code",
   "execution_count": 24,
   "metadata": {},
   "outputs": [],
   "source": [
    "from IPython.core.interactiveshell import InteractiveShell\n",
    "InteractiveShell.ast_node_interactivity = \"all\" #'last' 기본값"
   ]
  },
  {
   "cell_type": "markdown",
   "metadata": {},
   "source": [
    "## 시드 설정하기\n",
    "\n",
    "시드(seed) : 같은 알고리즘을 여러번 실행하더라도 다른 숫자가 나오도록 시작 숫자는 현재 시간 등을 사용해서 매번 바꿔준다. 시작 숫자"
   ]
  },
  {
   "cell_type": "code",
   "execution_count": 3,
   "metadata": {},
   "outputs": [
    {
     "data": {
      "text/plain": [
       "array([ 0.5488135 ,  0.71518937,  0.60276338,  0.54488318,  0.4236548 ])"
      ]
     },
     "execution_count": 3,
     "metadata": {},
     "output_type": "execute_result"
    }
   ],
   "source": [
    "np.random.seed(0)\n",
    "np.random.rand(5)"
   ]
  },
  {
   "cell_type": "markdown",
   "metadata": {},
   "source": [
    "## 기존의 데이터의 순서 바꾸기"
   ]
  },
  {
   "cell_type": "code",
   "execution_count": 7,
   "metadata": {},
   "outputs": [
    {
     "data": {
      "text/plain": [
       "array([3, 1, 8, 7, 9, 0, 6, 4, 2, 5])"
      ]
     },
     "execution_count": 7,
     "metadata": {},
     "output_type": "execute_result"
    }
   ],
   "source": [
    "x = np.arange(10)\n",
    "np.random.shuffle(x)\n",
    "x"
   ]
  },
  {
   "cell_type": "markdown",
   "metadata": {},
   "source": [
    "## 기존의 데이터에서 샘플링하기\n",
    "\n",
    "choice 명령\n",
    "\n",
    "* numpy.random.choice(a, size=None, replace=True, p=None)\n",
    "    - a : 배열이면 원래의 데이터, 정수이면 range(a) 명령으로 데이터 생성\n",
    "    - size : 정수. 샘플 숫자\n",
    "    - replace : 불리언. True이면 한번 선택한 데이터를 다시 선택 가능\n",
    "    - p : 배열. 각 데이터가 선택될 수 있는 확률"
   ]
  },
  {
   "cell_type": "code",
   "execution_count": 8,
   "metadata": {},
   "outputs": [
    {
     "data": {
      "text/plain": [
       "array([4, 2, 3, 1, 0])"
      ]
     },
     "execution_count": 8,
     "metadata": {},
     "output_type": "execute_result"
    }
   ],
   "source": [
    "np.random.choice(5, 5, replace=False) # shuffle 명령과 같음 "
   ]
  },
  {
   "cell_type": "code",
   "execution_count": 9,
   "metadata": {},
   "outputs": [
    {
     "data": {
      "text/plain": [
       "array([2, 3, 4])"
      ]
     },
     "execution_count": 9,
     "metadata": {},
     "output_type": "execute_result"
    }
   ],
   "source": [
    "np.random.choice(5, 3, replace=False)  # 3개만 선택"
   ]
  },
  {
   "cell_type": "code",
   "execution_count": 10,
   "metadata": {},
   "outputs": [
    {
     "data": {
      "text/plain": [
       "array([0, 3, 0, 2, 3, 0, 1, 3, 3, 3])"
      ]
     },
     "execution_count": 10,
     "metadata": {},
     "output_type": "execute_result"
    }
   ],
   "source": [
    "np.random.choice(5, 10) # 반복해서 10개 선택"
   ]
  },
  {
   "cell_type": "code",
   "execution_count": 11,
   "metadata": {},
   "outputs": [
    {
     "data": {
      "text/plain": [
       "array([2, 3, 2, 3, 3, 3, 2, 3, 3, 3], dtype=int64)"
      ]
     },
     "execution_count": 11,
     "metadata": {},
     "output_type": "execute_result"
    }
   ],
   "source": [
    "np.random.choice(5, 10, p=[0.1, 0, 0.3, 0.6, 0])  # 선택 확률을 다르게 해서 10개 선택"
   ]
  },
  {
   "cell_type": "markdown",
   "metadata": {},
   "source": [
    "## 난수 생성\n",
    "random 서브패키지 난수 생성\n",
    "\n",
    "- rand: 0부터 1사이의 균일 분포\n",
    "- randn: 가우시안 표준 정규 분포\n",
    "- randint: 균일 분포의 정수 난수"
   ]
  },
  {
   "cell_type": "code",
   "execution_count": 13,
   "metadata": {},
   "outputs": [
    {
     "data": {
      "text/plain": [
       "array([ 0.0187898 ,  0.6176355 ,  0.61209572,  0.616934  ,  0.94374808,\n",
       "        0.6818203 ,  0.3595079 ,  0.43703195,  0.6976312 ,  0.06022547])"
      ]
     },
     "execution_count": 13,
     "metadata": {},
     "output_type": "execute_result"
    }
   ],
   "source": [
    "np.random.rand(10)"
   ]
  },
  {
   "cell_type": "code",
   "execution_count": 14,
   "metadata": {},
   "outputs": [
    {
     "data": {
      "text/plain": [
       "array([[ 0.66676672,  0.67063787,  0.21038256,  0.1289263 ,  0.31542835],\n",
       "       [ 0.36371077,  0.57019677,  0.43860151,  0.98837384,  0.10204481],\n",
       "       [ 0.20887676,  0.16130952,  0.65310833,  0.2532916 ,  0.46631077]])"
      ]
     },
     "execution_count": 14,
     "metadata": {},
     "output_type": "execute_result"
    }
   ],
   "source": [
    "np.random.rand(3, 5)"
   ]
  },
  {
   "cell_type": "markdown",
   "metadata": {},
   "source": [
    "기댓값이 0이고 표준편차가 1인 가우시안 표준 정규 분포를 따르는 난수를 생성"
   ]
  },
  {
   "cell_type": "code",
   "execution_count": 15,
   "metadata": {},
   "outputs": [
    {
     "data": {
      "text/plain": [
       "array([-0.63972264, -0.4794198 ,  0.3113635 , -0.77602047, -0.30736481,\n",
       "       -0.36652394,  1.11971196, -0.45792242,  0.4253934 , -0.02797118])"
      ]
     },
     "execution_count": 15,
     "metadata": {},
     "output_type": "execute_result"
    }
   ],
   "source": [
    "np.random.randn(10)"
   ]
  },
  {
   "cell_type": "markdown",
   "metadata": {},
   "source": [
    "* randint <br>\n",
    "numpy.random.randint(low, high=None, size=None)\n",
    "\n",
    "high를 입력하지 않으면 0과 low사이의 숫자를, high를 입력하면 low와 high는 사이의 숫자를 출력"
   ]
  },
  {
   "cell_type": "code",
   "execution_count": 16,
   "metadata": {},
   "outputs": [
    {
     "data": {
      "text/plain": [
       "array([7, 5, 9, 0, 2, 7, 2, 9, 2, 3])"
      ]
     },
     "execution_count": 16,
     "metadata": {},
     "output_type": "execute_result"
    }
   ],
   "source": [
    "np.random.randint(10, size=10)"
   ]
  },
  {
   "cell_type": "code",
   "execution_count": 17,
   "metadata": {},
   "outputs": [
    {
     "data": {
      "text/plain": [
       "array([13, 12, 13, 14, 11, 12, 19, 11, 14, 16])"
      ]
     },
     "execution_count": 17,
     "metadata": {},
     "output_type": "execute_result"
    }
   ],
   "source": [
    "np.random.randint(10, 20, size=10)"
   ]
  },
  {
   "cell_type": "code",
   "execution_count": 18,
   "metadata": {},
   "outputs": [
    {
     "data": {
      "text/plain": [
       "array([[18, 12, 13, 10, 10],\n",
       "       [16, 10, 16, 13, 13],\n",
       "       [18, 18, 18, 12, 13]])"
      ]
     },
     "execution_count": 18,
     "metadata": {},
     "output_type": "execute_result"
    }
   ],
   "source": [
    "np.random.randint(10, 20, size=(3,5))"
   ]
  },
  {
   "cell_type": "markdown",
   "metadata": {},
   "source": [
    "## 정수 데이터 카운팅\n",
    "\n",
    "난수가 실수값이면 히스토그램 <br>\n",
    "난수가 정수값이면 unique 명령이나 bincount 명령으로 데이터 값을 분석\n",
    "\n",
    "unique : 데이터에서 중복된 값을 제거하고 중복되지 않는 값의 리스트를 출력\n",
    "\n",
    "return_counts 인수를 True 로 설정 : 각 값을 가진 데이터 갯수 출력"
   ]
  },
  {
   "cell_type": "code",
   "execution_count": 20,
   "metadata": {},
   "outputs": [
    {
     "data": {
      "text/plain": [
       "array([ 2, 11, 34])"
      ]
     },
     "execution_count": 20,
     "metadata": {},
     "output_type": "execute_result"
    }
   ],
   "source": [
    "np.unique([11,11,2,2,34,34])"
   ]
  },
  {
   "cell_type": "code",
   "execution_count": 25,
   "metadata": {},
   "outputs": [
    {
     "data": {
      "text/plain": [
       "array(['a', 'b', 'c'],\n",
       "      dtype='<U1')"
      ]
     },
     "execution_count": 25,
     "metadata": {},
     "output_type": "execute_result"
    },
    {
     "data": {
      "text/plain": [
       "array([2, 2, 1], dtype=int64)"
      ]
     },
     "execution_count": 25,
     "metadata": {},
     "output_type": "execute_result"
    }
   ],
   "source": [
    "a = np.array(['a', 'b', 'b', 'c', 'a'])\n",
    "index, count = np.unique(a, return_counts=True)\n",
    "index\n",
    "count"
   ]
  },
  {
   "cell_type": "markdown",
   "metadata": {},
   "source": [
    "unique 명령은 데이터에 존재하는 값에 대해서만 갯수를 세므로 데이터 값이 나올 수 있음에도 불구하고 데이터가 하나도 없는 경우에는 정보를 주지 않는다.\n",
    "\n",
    "bincount에 minlength 인수를 설정\n",
    "\n",
    "0 부터 minlength - 1 까지의 숫자에 대해 각각 카운트<br>\n",
    "데이터가 없을 경우에는 카운트 값이 0 "
   ]
  },
  {
   "cell_type": "code",
   "execution_count": 26,
   "metadata": {},
   "outputs": [
    {
     "data": {
      "text/plain": [
       "array([0, 2, 3, 1, 0, 0], dtype=int64)"
      ]
     },
     "execution_count": 26,
     "metadata": {},
     "output_type": "execute_result"
    }
   ],
   "source": [
    "np.bincount([1, 1, 2, 2, 2, 3], minlength=6)"
   ]
  },
  {
   "cell_type": "markdown",
   "metadata": {},
   "source": [
    "# 26절: SciPy의 확률분석기능\n",
    "\n",
    "## SciPy를 이용한 확률 분포 분석\n",
    "\n",
    "### 확률 분포 객체\n",
    "\n",
    "\n",
    "| 종류 | 이름                | 확률 분포                 |\n",
    "|------|---------------------|---------------------------|\n",
    "| 이산 | bernoulli           | 베르누이 분포             |\n",
    "| 이산 | binom               | 이항 분포                 |\n",
    "| 연속 | uniform             | 균일 분포                 |\n",
    "| 연속 | norm                | 가우시안 정규 분포        |\n",
    "| 연속 | beta                | 베타 분포                 |\n",
    "| 연속 | gamma               | 감마 분포                 |\n",
    "| 연속 | t                   | 스튜던트 t 분포           |\n",
    "| 연속 | chi2                | 카이 제곱 분포            |\n",
    "| 연속 | f                   | F 분포                    |\n",
    "| 연속 | dirichlet           | 디리클리 분포             |\n",
    "| 연속 | multivariate_normal | 다변수 가우시안 정규 분포 |\n",
    "\n",
    "\n"
   ]
  },
  {
   "cell_type": "code",
   "execution_count": 28,
   "metadata": {},
   "outputs": [
    {
     "data": {
      "text/plain": [
       "scipy.stats._distn_infrastructure.rv_frozen"
      ]
     },
     "execution_count": 28,
     "metadata": {},
     "output_type": "execute_result"
    }
   ],
   "source": [
    "import scipy.stats\n",
    "\n",
    "rv = scipy.stats.norm()\n",
    "type(rv)"
   ]
  },
  {
   "cell_type": "markdown",
   "metadata": {},
   "source": [
    "### 모수 지정\n",
    "분포의 모수(parameter)를 인수로 지정\n",
    "\n",
    "확률 분포마다 지정해 주어야 할 모수가 다름\n",
    "\n",
    "- loc\t: 일반적으로 분포의 기댓값\n",
    "- scale\t: 일반적으로 분포의 표준편차\n",
    "- size\t: 샘플 생성시 생성될 샘플의 크기\n",
    "- random_state\t: 샘플 생성시 사용되는 시드(seed)값"
   ]
  },
  {
   "cell_type": "code",
   "execution_count": 31,
   "metadata": {},
   "outputs": [
    {
     "data": {
      "text/plain": [
       "<scipy.stats._distn_infrastructure.rv_frozen at 0x7f7cdd8>"
      ]
     },
     "execution_count": 31,
     "metadata": {},
     "output_type": "execute_result"
    }
   ],
   "source": [
    "rv = sp.stats.norm(loc=1, scale=2)\n",
    "rv"
   ]
  },
  {
   "cell_type": "markdown",
   "metadata": {},
   "source": [
    "## 확률 분포 메서드\n",
    "\n",
    "- pdf\t: 확률 밀도 함수 (probability density function)\n",
    "- pmf\t: 확률 질량 함수 (probability mass function)\n",
    "- cdf\t: 누적 분포 함수 (cumulative distribution function)\n",
    "- rvs\t: 랜덤 샘플 생성 (random variable sampling)\n",
    "- stats\t: 기술 통계 함수 (descriptive statistics)\n",
    "- fit\t: 모수 추정 (parameter estimation)"
   ]
  },
  {
   "cell_type": "markdown",
   "metadata": {},
   "source": [
    "### 확률 밀도 함수"
   ]
  },
  {
   "cell_type": "code",
   "execution_count": 34,
   "metadata": {},
   "outputs": [
    {
     "data": {
      "text/plain": [
       "[<matplotlib.lines.Line2D at 0xaa43a58>]"
      ]
     },
     "execution_count": 34,
     "metadata": {},
     "output_type": "execute_result"
    },
    {
     "data": {
      "image/png": "[encoded data removed]",
      "text/plain": [
       "<matplotlib.figure.Figure at 0xa9e7668>"
      ]
     },
     "metadata": {},
     "output_type": "display_data"
    }
   ],
   "source": [
    "xx = np.linspace(-8, 8, 100)\n",
    "pdf = rv.pdf(xx)\n",
    "plt.plot(xx, pdf)\n",
    "plt.show()"
   ]
  },
  {
   "cell_type": "markdown",
   "metadata": {},
   "source": [
    "### 누적 분포 함수"
   ]
  },
  {
   "cell_type": "code",
   "execution_count": 35,
   "metadata": {},
   "outputs": [
    {
     "data": {
      "text/plain": [
       "[<matplotlib.lines.Line2D at 0xbb44c88>]"
      ]
     },
     "execution_count": 35,
     "metadata": {},
     "output_type": "execute_result"
    },
    {
     "data": {
      "image/png": "[encoded data removed]",
      "text/plain": [
       "<matplotlib.figure.Figure at 0xaabbf98>"
      ]
     },
     "metadata": {},
     "output_type": "display_data"
    }
   ],
   "source": [
    "xx = np.linspace(-8, 8, 100)\n",
    "cdf = rv.cdf(xx)\n",
    "plt.plot(xx, cdf)\n",
    "plt.show()"
   ]
  },
  {
   "cell_type": "markdown",
   "metadata": {},
   "source": [
    "### 랜덤 샘플 생성"
   ]
  },
  {
   "cell_type": "code",
   "execution_count": 36,
   "metadata": {},
   "outputs": [
    {
     "data": {
      "text/plain": [
       "array([[ 4.52810469,  1.80031442,  2.95747597,  5.4817864 ,  4.73511598],\n",
       "       [-0.95455576,  2.90017684,  0.69728558,  0.7935623 ,  1.821197  ],\n",
       "       [ 1.28808714,  3.90854701,  2.52207545,  1.24335003,  1.88772647]])"
      ]
     },
     "execution_count": 36,
     "metadata": {},
     "output_type": "execute_result"
    }
   ],
   "source": [
    "rv.rvs(size=(3,5), random_state=0)"
   ]
  },
  {
   "cell_type": "code",
   "execution_count": 38,
   "metadata": {},
   "outputs": [
    {
     "data": {
      "text/plain": [
       "<matplotlib.axes._subplots.AxesSubplot at 0xbdb54a8>"
      ]
     },
     "execution_count": 38,
     "metadata": {},
     "output_type": "execute_result"
    },
    {
     "data": {
      "text/plain": [
       "(-8, 8)"
      ]
     },
     "execution_count": 38,
     "metadata": {},
     "output_type": "execute_result"
    },
    {
     "data": {
      "image/png": "[encoded data removed]",
      "text/plain": [
       "<matplotlib.figure.Figure at 0xbb8fba8>"
      ]
     },
     "metadata": {},
     "output_type": "display_data"
    }
   ],
   "source": [
    " import seaborn as sns \n",
    "\n",
    "sns.distplot(rv.rvs(size=10000, random_state=0))\n",
    "plt.xlim(-8, 8)\n",
    "plt.show()"
   ]
  },
  {
   "cell_type": "markdown",
   "metadata": {},
   "source": [
    "# 분포의 대표값\n",
    "\n",
    "평균, 기댓값, 중간값\n",
    "\n",
    "## 샘플 평균\n",
    "\n",
    "샘플 :  이미 가지고 있는 자료 값의 집합이 어떤 확률 모형 또는 모집합으로 부터 생성된 것이\n",
    "\n",
    "샘플링 할 때마다 샘플 평균이 예측할 수 없는 값이 나오기 때문에 샘플 평균  X 도 하나의 확률 변수라고 할 수 있다\n",
    "\n",
    "\n",
    "## 확률 분포의 기댓값\n",
    "\n",
    "일반적으로 <br>\n",
    "평균 = 확률 변수의 기댓값(expectation)\n",
    "\n",
    "## 기댓값의 성질\n",
    "\n",
    "랜덤변수가 아닌 고정된 값 c 에 대해 $\\operatorname{E}[c] = c$ \n",
    "<br> 선형성\n",
    "\n",
    "## 독립인 두 확률 변수의 기댓값\n",
    "\n",
    "두 확률 변수가 독립이면 \n",
    "\n",
    "$\\text{E}\\left[ (X-\\mu_X)(Y-\\mu_Y) \\right] = 0$\n",
    "\n",
    "## 기댓값과 샘플 평균의 관계\n",
    "\n",
    "샘플 평균의 기댓값\n",
    "\n",
    "이 기댓값이 원래의 확률 변수의 기댓값과 일치함을 수학적으로 증명<br>\n",
    "$\\begin{eqnarray}\n",
    "\\operatorname{E}[\\bar{X}] \n",
    "&=& \\operatorname{E}\\left[\\dfrac{1}{N}\\sum_{1}^{N}X_i \\right]  \\\\\n",
    "&=& \\dfrac{1}{N}\\sum_{1}^{N}\\operatorname{E}[X_i]  \\\\\n",
    "&=& \\dfrac{1}{N}\\sum_{1}^{N}\\operatorname{E}[X]  \\\\\n",
    "&=& \\dfrac{1}{N} N \\operatorname{E}[X] \\\\ \n",
    "&=& \\operatorname{E}[X]  \\\\\n",
    "\\end{eqnarray}$\n",
    "\n",
    "## 중앙값\n",
    "\n",
    "전체 자료를 크기별로 정렬하였을 때 가장 중앙에 위치하게 되는 값\n",
    "\n",
    "전체 샘플의 갯수 N \n",
    "    - N 이 홀수 : 중간값은 (n+1)/2 번째 샘플 값\n",
    "    - N 이 짝수 : 중간값은 n/2 샘플의 값과 n/2+1 번쨰 샘플 값의 평균\n",
    " \n",
    "## 최빈값\n",
    " 가장 빈번하게 나올 수 있는 값\n",
    " \n",
    "## 기댓값, 중앙값, 최빈값의 비교\n",
    "\n",
    "확률 밀도 함수가 대칭인 경우에는 기댓값, 중앙값, 최빈값이 모두 같다.\n",
    "\n",
    "<img src = 'https://datascienceschool.net/upfiles/dd06ed356a03475cbe9cc14909be96d1.jpeg'/>\n",
    "\n"
   ]
  },
  {
   "cell_type": "markdown",
   "metadata": {},
   "source": [
    "## Python 을 사용한 계산\n",
    "* mean()\n",
    "* nanmean()\n",
    "* median()\n",
    "* argmax()\n",
    "* histogram()"
   ]
  },
  {
   "cell_type": "code",
   "execution_count": 39,
   "metadata": {},
   "outputs": [
    {
     "data": {
      "text/plain": [
       "(-0.045256707490195384, -0.058028034799627745)"
      ]
     },
     "execution_count": 39,
     "metadata": {},
     "output_type": "execute_result"
    }
   ],
   "source": [
    "np.random.seed(0)\n",
    "x = np.random.normal(size=1000)\n",
    "\n",
    "np.mean(x), np.median(x)"
   ]
  },
  {
   "cell_type": "code",
   "execution_count": 40,
   "metadata": {},
   "outputs": [
    {
     "data": {
      "text/plain": [
       "(-0.52631578947368496, 0.52631578947368318)"
      ]
     },
     "execution_count": 40,
     "metadata": {},
     "output_type": "execute_result"
    }
   ],
   "source": [
    "ns, bins = np.histogram(x, bins=np.linspace(-10,10,20))\n",
    "M = np.argmax(ns)\n",
    "bins[M], bins[M+1]"
   ]
  },
  {
   "cell_type": "markdown",
   "metadata": {},
   "source": [
    "# 분산과 표준편차\n",
    "\n",
    "분포의 모양에서 위치를 대표하는 값 : 평균, 기댓값<br>\n",
    "분포의 폭을 대표하는 값 : 분산 \n",
    "(분산에 대한 양의 제곱근:표준편차)\n",
    "\n",
    "## 샘플 분산\n",
    "\n",
    "편향 오차를 갖는 편향 샘플 분산 \n",
    "\n",
    "$s^2 = \\dfrac{1}{N}\\sum_{i=1}^{N} (x_i-m)^2$\n",
    "\n",
    "비편향 샘플분산 \n",
    "\n",
    "$s^2_{\\text{unbiased}} = \\dfrac{1}{N-1}\\sum_{i=1}^{N} (x_i-m)^2$ \n",
    "\n",
    "\n",
    "## 확률 분포의 분산\n",
    "\n",
    "확률 분포 확률 밀도 함수f(x) 로 분포 전체의 모양을 정확하게 정의  \n",
    "\n",
    "$\\sigma^2 = \\text{Var}[X] = \\text{E}[(X - \\mu)^2] = \\int_{-\\infty}^{\\infty} (x - \\mu)^2 f(x)dx$\n",
    "\n",
    "이산 확률 변수 확률 질량 함수  P(x) 를 사용하여 분산\n",
    "\n",
    "$\\sigma^2 = \\sum (x - \\mu)^2 P(x)$\n",
    "\n",
    "## 분산의 성질\n",
    " \n",
    "- 0 또는 양수값\n",
    "- 랜덤 변수가 아닌 고정된 값 c에 대해 \n",
    "$\\text{Var}[c] = 0$ , \n",
    "$\\text{Var}[cX] = c^2 \\text{Var}[X]$\n",
    "\n",
    "## 독립인 두 확률 변수의 분산\n",
    "\n",
    "$\\text{Var}\\left[ X + Y \\right] =  \\text{Var}\\left[ X \\right] + \\text{Var}\\left[ Y \\right]$\n",
    "\n",
    "다음식이 성립됨 \n",
    "\n",
    "$\\text{E}\\left[ (X-\\mu_X)(Y-\\mu_Y) \\right] = 0$ \n",
    "->\n",
    "$\\text{Var}\\left[ X + Y \\right] =  \\text{E}\\left[ (X -\\mu_X)^2 \\right] + \\text{E}\\left[ (Y - \\mu_Y)^2 \\right]$\n",
    "\n",
    "## 샘플 평균의 분산\n",
    "\n",
    "## Python을 사용한 계산\n",
    "\n",
    "- var()\n",
    "- std()\n",
    "- nanvar()\n",
    "- nanstd()\n"
   ]
  },
  {
   "cell_type": "code",
   "execution_count": 47,
   "metadata": {},
   "outputs": [
    {
     "data": {
      "text/plain": [
       "(array([   9.,   20.,   70.,  146.,  217.,  239.,  160.,   86.,   38.,   15.]),\n",
       " array([-6.09228611, -4.93118648, -3.77008684, -2.60898721, -1.44788757,\n",
       "        -0.28678794,  0.87431169,  2.03541133,  3.19651096,  4.35761059,\n",
       "         5.51871023]),\n",
       " <a list of 10 Patch objects>)"
      ]
     },
     "execution_count": 47,
     "metadata": {},
     "output_type": "execute_result"
    },
    {
     "data": {
      "image/png": "[encoded data removed]",
      "text/plain": [
       "<matplotlib.figure.Figure at 0xc0235f8>"
      ]
     },
     "metadata": {},
     "output_type": "display_data"
    }
   ],
   "source": [
    "sp.random.seed(0)\n",
    "x = sp.stats.norm(0, 2).rvs(1000)  # mean=0, standard deviation=2\n",
    "plt.hist(x)\n",
    "plt.show()"
   ]
  },
  {
   "cell_type": "code",
   "execution_count": 45,
   "metadata": {},
   "outputs": [
    {
     "data": {
      "text/plain": [
       "3.8969378252486169"
      ]
     },
     "execution_count": 45,
     "metadata": {},
     "output_type": "execute_result"
    },
    {
     "data": {
      "text/plain": [
       "3.9008386639125292"
      ]
     },
     "execution_count": 45,
     "metadata": {},
     "output_type": "execute_result"
    }
   ],
   "source": [
    "np.var(x)\n",
    "\n",
    "np.var(x, ddof=1)  # unbiased variance"
   ]
  },
  {
   "cell_type": "code",
   "execution_count": null,
   "metadata": {
    "collapsed": true
   },
   "outputs": [],
   "source": []
  }
 ],
 "metadata": {
  "kernelspec": {
   "display_name": "Python 3",
   "language": "python",
   "name": "python3"
  },
  "language_info": {
   "codemirror_mode": {
    "name": "ipython",
    "version": 3
   },
   "file_extension": ".py",
   "mimetype": "text/x-python",
   "name": "python",
   "nbconvert_exporter": "python",
   "pygments_lexer": "ipython3",
   "version": "3.6.1"
  }
 },
 "nbformat": 4,
 "nbformat_minor": 2
}
