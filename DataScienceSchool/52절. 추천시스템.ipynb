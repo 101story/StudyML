{
 "cells": [
  {
   "cell_type": "markdown",
   "metadata": {},
   "source": [
    "# 추천 시스템의 기초\n",
    "\n",
    "사용자(user)가 상품(item)에 대해 어떻게 평가하는지를 예측하는 예측 시스템\n",
    "\n",
    "## Surprise 패키지\n",
    "\n",
    "* https://github.com/NicolasHug/Surprise\n",
    "* http://surprise.readthedocs.io/en/latest/index.html\n",
    "\n",
    "\n",
    "* Koren2010: \"Factor in the Neighbors: Scalable and Accurate Collaborative Filtering\", YEHUDA KOREN. 2010\n",
    "    - http://courses.ischool.berkeley.edu/i290-dm/s11/SECURE/a1-koren.pdf\n",
    "* Koren2011: \"Collaborative Filtering on Ordinal User Feedback\", Yehuda Koren and Joseph Sill, 2011\n",
    "    - http://www.ijcai.org/Proceedings/13/Papers/449.pdf\n",
    "    "
   ]
  },
  {
   "cell_type": "code",
   "execution_count": 5,
   "metadata": {},
   "outputs": [
    {
     "name": "stdout",
     "output_type": "stream",
     "text": [
      "Requirement already up-to-date: pip in c:\\users\\jhee\\documents\\anaconda3\\lib\\site-packages\n"
     ]
    }
   ],
   "source": [
    "!pip install --upgrade pip"
   ]
  },
  {
   "cell_type": "code",
   "execution_count": null,
   "metadata": {
    "collapsed": true
   },
   "outputs": [],
   "source": [
    "!pip install --timeout 1000 surprise"
   ]
  },
  {
   "cell_type": "code",
   "execution_count": 3,
   "metadata": {
    "collapsed": true
   },
   "outputs": [],
   "source": [
    "from IPython.core.interactiveshell import InteractiveShell\n",
    "InteractiveShell.ast_node_interactivity = \"all\"\n",
    "\n",
    "import numpy as np\n",
    "import pandas as pd\n",
    "import matplotlib.pyplot as plt\n",
    "import surprise"
   ]
  },
  {
   "cell_type": "code",
   "execution_count": null,
   "metadata": {},
   "outputs": [],
   "source": [
    "# MovieLense 데이터 중 10만개의 샘플 데이터세트\n",
    "\n",
    "data = surprise.Dataset.load_builtin()"
   ]
  },
  {
   "cell_type": "code",
   "execution_count": null,
   "metadata": {
    "collapsed": true
   },
   "outputs": [],
   "source": []
  }
 ],
 "metadata": {
  "kernelspec": {
   "display_name": "Python 3",
   "language": "python",
   "name": "python3"
  },
  "language_info": {
   "codemirror_mode": {
    "name": "ipython",
    "version": 3
   },
   "file_extension": ".py",
   "mimetype": "text/x-python",
   "name": "python",
   "nbconvert_exporter": "python",
   "pygments_lexer": "ipython3",
   "version": "3.6.1"
  }
 },
 "nbformat": 4,
 "nbformat_minor": 2
}
