{
 "cells": [
  {
   "cell_type": "markdown",
   "metadata": {},
   "source": [
    "# 추천 시스템의 기초\n",
    "\n",
    "사용자(user)가 상품(item)에 대해 어떻게 평가하는지를 예측하는 예측 시스템\n",
    "\n",
    "## Surprise 패키지\n",
    "\n",
    "* https://github.com/NicolasHug/Surprise\n",
    "* http://surprise.readthedocs.io/en/latest/index.html\n",
    "\n",
    "\n",
    "* Koren2010: \"Factor in the Neighbors: Scalable and Accurate Collaborative Filtering\", YEHUDA KOREN. 2010\n",
    "    - http://courses.ischool.berkeley.edu/i290-dm/s11/SECURE/a1-koren.pdf\n",
    "* Koren2011: \"Collaborative Filtering on Ordinal User Feedback\", Yehuda Koren and Joseph Sill, 2011\n",
    "    - http://www.ijcai.org/Proceedings/13/Papers/449.pdf\n",
    "    "
   ]
  },
  {
   "cell_type": "markdown",
   "metadata": {},
   "source": [
    "!pip install --upgrade pip"
   ]
  },
  {
   "cell_type": "markdown",
   "metadata": {
    "collapsed": true
   },
   "source": [
    "!pip install --timeout 1000 surprise"
   ]
  },
  {
   "cell_type": "code",
   "execution_count": 9,
   "metadata": {
    "collapsed": true
   },
   "outputs": [],
   "source": [
    "from IPython.core.interactiveshell import InteractiveShell\n",
    "InteractiveShell.ast_node_interactivity = \"all\"\n",
    "\n",
    "import numpy as np\n",
    "import pandas as pd\n",
    "import matplotlib.pyplot as plt\n",
    "import surprise"
   ]
  },
  {
   "cell_type": "markdown",
   "metadata": {
    "collapsed": true
   },
   "source": [
    "## 평점 데이터  "
   ]
  },
  {
   "cell_type": "code",
   "execution_count": 2,
   "metadata": {},
   "outputs": [],
   "source": [
    "# MovieLense 데이터 중 10만개의 샘플 데이터세트\n",
    "\n",
    "data = surprise.Dataset.load_builtin('ml-100k')"
   ]
  },
  {
   "cell_type": "code",
   "execution_count": 3,
   "metadata": {},
   "outputs": [
    {
     "data": {
      "text/html": [
       "<div>\n",
       "<style>\n",
       "    .dataframe thead tr:only-child th {\n",
       "        text-align: right;\n",
       "    }\n",
       "\n",
       "    .dataframe thead th {\n",
       "        text-align: left;\n",
       "    }\n",
       "\n",
       "    .dataframe tbody tr th {\n",
       "        vertical-align: top;\n",
       "    }\n",
       "</style>\n",
       "<table border=\"1\" class=\"dataframe\">\n",
       "  <thead>\n",
       "    <tr style=\"text-align: right;\">\n",
       "      <th></th>\n",
       "      <th>user</th>\n",
       "      <th>item</th>\n",
       "      <th>rate</th>\n",
       "    </tr>\n",
       "  </thead>\n",
       "  <tbody>\n",
       "    <tr>\n",
       "      <th>0</th>\n",
       "      <td>196</td>\n",
       "      <td>242</td>\n",
       "      <td>3.0</td>\n",
       "    </tr>\n",
       "    <tr>\n",
       "      <th>1</th>\n",
       "      <td>186</td>\n",
       "      <td>302</td>\n",
       "      <td>3.0</td>\n",
       "    </tr>\n",
       "    <tr>\n",
       "      <th>2</th>\n",
       "      <td>22</td>\n",
       "      <td>377</td>\n",
       "      <td>1.0</td>\n",
       "    </tr>\n",
       "    <tr>\n",
       "      <th>3</th>\n",
       "      <td>244</td>\n",
       "      <td>51</td>\n",
       "      <td>2.0</td>\n",
       "    </tr>\n",
       "    <tr>\n",
       "      <th>4</th>\n",
       "      <td>166</td>\n",
       "      <td>346</td>\n",
       "      <td>1.0</td>\n",
       "    </tr>\n",
       "    <tr>\n",
       "      <th>5</th>\n",
       "      <td>298</td>\n",
       "      <td>474</td>\n",
       "      <td>4.0</td>\n",
       "    </tr>\n",
       "    <tr>\n",
       "      <th>6</th>\n",
       "      <td>115</td>\n",
       "      <td>265</td>\n",
       "      <td>2.0</td>\n",
       "    </tr>\n",
       "    <tr>\n",
       "      <th>7</th>\n",
       "      <td>253</td>\n",
       "      <td>465</td>\n",
       "      <td>5.0</td>\n",
       "    </tr>\n",
       "    <tr>\n",
       "      <th>8</th>\n",
       "      <td>305</td>\n",
       "      <td>451</td>\n",
       "      <td>3.0</td>\n",
       "    </tr>\n",
       "    <tr>\n",
       "      <th>9</th>\n",
       "      <td>6</td>\n",
       "      <td>86</td>\n",
       "      <td>3.0</td>\n",
       "    </tr>\n",
       "  </tbody>\n",
       "</table>\n",
       "</div>"
      ],
      "text/plain": [
       "  user item  rate\n",
       "0  196  242   3.0\n",
       "1  186  302   3.0\n",
       "2   22  377   1.0\n",
       "3  244   51   2.0\n",
       "4  166  346   1.0\n",
       "5  298  474   4.0\n",
       "6  115  265   2.0\n",
       "7  253  465   5.0\n",
       "8  305  451   3.0\n",
       "9    6   86   3.0"
      ]
     },
     "execution_count": 3,
     "metadata": {},
     "output_type": "execute_result"
    }
   ],
   "source": [
    "df=pd.DataFrame(data.raw_ratings, columns=['user', 'item', 'rate', 'id'])\n",
    "del df['id']\n",
    "df.head(10)"
   ]
  },
  {
   "cell_type": "markdown",
   "metadata": {},
   "source": [
    ">추천 시스템은 사용자 아이디와 상품 아이디라는 두 개의 카테고리 입력과 평점 출력을 가지는 예측 시스템"
   ]
  },
  {
   "cell_type": "code",
   "execution_count": 4,
   "metadata": {},
   "outputs": [
    {
     "data": {
      "text/html": [
       "<div>\n",
       "<style>\n",
       "    .dataframe thead tr:only-child th {\n",
       "        text-align: right;\n",
       "    }\n",
       "\n",
       "    .dataframe thead th {\n",
       "        text-align: left;\n",
       "    }\n",
       "\n",
       "    .dataframe tbody tr th {\n",
       "        vertical-align: top;\n",
       "    }\n",
       "</style>\n",
       "<table border=\"1\" class=\"dataframe\">\n",
       "  <thead>\n",
       "    <tr>\n",
       "      <th></th>\n",
       "      <th colspan=\"9\" halign=\"left\">rate</th>\n",
       "    </tr>\n",
       "    <tr>\n",
       "      <th>item</th>\n",
       "      <th>211</th>\n",
       "      <th>212</th>\n",
       "      <th>213</th>\n",
       "      <th>214</th>\n",
       "      <th>215</th>\n",
       "      <th>216</th>\n",
       "      <th>217</th>\n",
       "      <th>218</th>\n",
       "      <th>219</th>\n",
       "    </tr>\n",
       "    <tr>\n",
       "      <th>user</th>\n",
       "      <th></th>\n",
       "      <th></th>\n",
       "      <th></th>\n",
       "      <th></th>\n",
       "      <th></th>\n",
       "      <th></th>\n",
       "      <th></th>\n",
       "      <th></th>\n",
       "      <th></th>\n",
       "    </tr>\n",
       "  </thead>\n",
       "  <tbody>\n",
       "    <tr>\n",
       "      <th>290</th>\n",
       "      <td>3</td>\n",
       "      <td></td>\n",
       "      <td></td>\n",
       "      <td></td>\n",
       "      <td></td>\n",
       "      <td>4</td>\n",
       "      <td></td>\n",
       "      <td>2</td>\n",
       "      <td></td>\n",
       "    </tr>\n",
       "    <tr>\n",
       "      <th>291</th>\n",
       "      <td></td>\n",
       "      <td>4</td>\n",
       "      <td></td>\n",
       "      <td>4</td>\n",
       "      <td>4</td>\n",
       "      <td></td>\n",
       "      <td></td>\n",
       "      <td>4</td>\n",
       "      <td>4</td>\n",
       "    </tr>\n",
       "    <tr>\n",
       "      <th>292</th>\n",
       "      <td></td>\n",
       "      <td></td>\n",
       "      <td></td>\n",
       "      <td>3</td>\n",
       "      <td></td>\n",
       "      <td></td>\n",
       "      <td></td>\n",
       "      <td></td>\n",
       "      <td></td>\n",
       "    </tr>\n",
       "    <tr>\n",
       "      <th>293</th>\n",
       "      <td>4</td>\n",
       "      <td></td>\n",
       "      <td>3</td>\n",
       "      <td></td>\n",
       "      <td>4</td>\n",
       "      <td>4</td>\n",
       "      <td>3</td>\n",
       "      <td>2</td>\n",
       "      <td></td>\n",
       "    </tr>\n",
       "    <tr>\n",
       "      <th>294</th>\n",
       "      <td></td>\n",
       "      <td></td>\n",
       "      <td></td>\n",
       "      <td></td>\n",
       "      <td></td>\n",
       "      <td></td>\n",
       "      <td></td>\n",
       "      <td></td>\n",
       "      <td></td>\n",
       "    </tr>\n",
       "    <tr>\n",
       "      <th>295</th>\n",
       "      <td></td>\n",
       "      <td></td>\n",
       "      <td>5</td>\n",
       "      <td></td>\n",
       "      <td>5</td>\n",
       "      <td>5</td>\n",
       "      <td>4</td>\n",
       "      <td>5</td>\n",
       "      <td></td>\n",
       "    </tr>\n",
       "    <tr>\n",
       "      <th>296</th>\n",
       "      <td>4</td>\n",
       "      <td></td>\n",
       "      <td></td>\n",
       "      <td></td>\n",
       "      <td></td>\n",
       "      <td></td>\n",
       "      <td></td>\n",
       "      <td></td>\n",
       "      <td></td>\n",
       "    </tr>\n",
       "    <tr>\n",
       "      <th>297</th>\n",
       "      <td>4</td>\n",
       "      <td></td>\n",
       "      <td>3</td>\n",
       "      <td></td>\n",
       "      <td>2</td>\n",
       "      <td>4</td>\n",
       "      <td></td>\n",
       "      <td>3</td>\n",
       "      <td></td>\n",
       "    </tr>\n",
       "    <tr>\n",
       "      <th>298</th>\n",
       "      <td>5</td>\n",
       "      <td></td>\n",
       "      <td>3</td>\n",
       "      <td></td>\n",
       "      <td>5</td>\n",
       "      <td></td>\n",
       "      <td></td>\n",
       "      <td></td>\n",
       "      <td></td>\n",
       "    </tr>\n",
       "    <tr>\n",
       "      <th>299</th>\n",
       "      <td>4</td>\n",
       "      <td>4</td>\n",
       "      <td>5</td>\n",
       "      <td></td>\n",
       "      <td></td>\n",
       "      <td>5</td>\n",
       "      <td></td>\n",
       "      <td></td>\n",
       "      <td></td>\n",
       "    </tr>\n",
       "  </tbody>\n",
       "</table>\n",
       "</div>"
      ],
      "text/plain": [
       "     rate                                \n",
       "item  211 212 213 214 215 216 217 218 219\n",
       "user                                     \n",
       "290     3                   4       2    \n",
       "291         4       4   4           4   4\n",
       "292                 3                    \n",
       "293     4       3       4   4   3   2    \n",
       "294                                      \n",
       "295             5       5   5   4   5    \n",
       "296     4                                \n",
       "297     4       3       2   4       3    \n",
       "298     5       3       5                \n",
       "299     4   4   5           5            "
      ]
     },
     "execution_count": 4,
     "metadata": {},
     "output_type": "execute_result"
    }
   ],
   "source": [
    "# x 상품, y 사용자 아이디 -> 평점 행렬 R (특정 사용자y 의 특정 상품x 의 평점)\n",
    "df_table=df.set_index(['user', 'item']).unstack()\n",
    "df_table.fillna('').iloc[212:222, 808:817]"
   ]
  },
  {
   "cell_type": "code",
   "execution_count": 5,
   "metadata": {},
   "outputs": [
    {
     "data": {
      "text/plain": [
       "<matplotlib.image.AxesImage at 0x227d26d6358>"
      ]
     },
     "execution_count": 5,
     "metadata": {},
     "output_type": "execute_result"
    },
    {
     "data": {
      "text/plain": [
       "<matplotlib.text.Text at 0x227cfaf8b70>"
      ]
     },
     "execution_count": 5,
     "metadata": {},
     "output_type": "execute_result"
    },
    {
     "data": {
      "text/plain": [
       "<matplotlib.text.Text at 0x227d0b5e240>"
      ]
     },
     "execution_count": 5,
     "metadata": {},
     "output_type": "execute_result"
    },
    {
     "data": {
      "text/plain": [
       "<matplotlib.text.Text at 0x227d0bef940>"
      ]
     },
     "execution_count": 5,
     "metadata": {},
     "output_type": "execute_result"
    },
    {
     "data": {
      "image/png": "[encoded data removed]",
      "text/plain": [
       "<matplotlib.figure.Figure at 0x227cfb19550>"
      ]
     },
     "metadata": {},
     "output_type": "display_data"
    }
   ],
   "source": [
    "# 빈칸을 힌색, 점수에 색을줌 \n",
    "plt.imshow(df_table)\n",
    "plt.grid(False)\n",
    "plt.xlabel(\"item\")\n",
    "plt.ylabel(\"user\")\n",
    "plt.title(\"Rate Matrix\")\n",
    "plt.show()"
   ]
  },
  {
   "cell_type": "markdown",
   "metadata": {},
   "source": [
    "## 추천 시스템 알고리즘\n",
    "\n",
    "1. 베이스라인 모형\n",
    "2. Collaborative Filtering\n",
    "    * 2-1. Neighborhood Models\n",
    "        - User-based CF\n",
    "        - Item-based CF\n",
    "    * 2-2. Latent Factor Models\n",
    "        - Matrix Factorization\n",
    "        - SVD\n",
    "3. Content-Based Recommendation\n"
   ]
  },
  {
   "cell_type": "markdown",
   "metadata": {},
   "source": [
    "### 베이스라인 모형\n",
    "\n",
    "사용자 아이디  u , 상품 아이디  i, 두 개의 카테고리 값 입력에서 평점  $r_{ui}$ 의 예측치  $\\hat{r}_{ui}$  을 예측하는 가장 단순한 모형\n",
    "\n",
    "사용자와 상품 특성에 의한 평균 평점의 합을 이용<br>\n",
    "오차 함수를 최소화 하도록 구해짐 <br>\n",
    "과최적화를 피하기 위해 정규화 항을 추가 할 수 있다. \n",
    "\n",
    "### 최적화 알고리즘 \n",
    "\n",
    "오차 함수를 최소화하기위한 알고리즘 ( 알고리즘의 선택은 method 인수를 사용)\n",
    "\n",
    "* ALS (Alternating Least Squares)의 인수\n",
    "    reg_i: 상품에 대한 정규화 가중치. 디폴트는 10.\n",
    "    reg_u: 사용자에 대한 정규화 가중치. 디폴트는 15.\n",
    "    n_epochs: 최적화 반복 횟수. 디폴트는 10.\n",
    "* SGD (Stochastic Gradient Descent)의 인수\n",
    "    reg: 정규화 가중치. 디폴트는 0.02.\n",
    "    learning_rate: 최적화 스텝 사이즈. 디폴트는 0.005.\n",
    "    n_epochs: 최적화 반복 횟수. 디폴트는 20\n",
    "\n",
    "### 모형 사용법\n",
    "1. 데이터세트의 split, folds 메소드를 사용하여 K-Fold 트레이닝 데이터셋과 테스트 데이터셋을 만든다.\n",
    "2. 모형 알고리즘 객체를 생성한다.\n",
    "3. 모형 알고리즘 객체의 train 메서드와 트레이닝 데이터셋으로 모수를 추정한 후, test 메서드로 테스트 데이터셋에 대한 예측을 실시한다.\n",
    "4. accuracy 서브패키지의 성능평가 함수를 사용하여 예측 성능을 계산한다.\n",
    "\n",
    "evaluate 명령으로 단축할 수도 있다.\n",
    "\n",
    "베이스라인 모형을 위한 BaselineOnly 클래스"
   ]
  },
  {
   "cell_type": "code",
   "execution_count": 6,
   "metadata": {
    "scrolled": true
   },
   "outputs": [
    {
     "name": "stdout",
     "output_type": "stream",
     "text": [
      "Estimating biases using als...\n",
      "FCP:  0.7047\n",
      "Estimating biases using als...\n",
      "FCP:  0.6995\n",
      "Estimating biases using als...\n",
      "FCP:  0.7031\n"
     ]
    },
    {
     "data": {
      "text/plain": [
       "0.70241740660712315"
      ]
     },
     "execution_count": 6,
     "metadata": {},
     "output_type": "execute_result"
    }
   ],
   "source": [
    "data.split(n_folds=3) # 3개의 fold 로 나눔 \n",
    "bsl_options = {'method': 'als',\n",
    "              'n_epochs':5,\n",
    "              'reg_u': 12, \n",
    "              'reg_i':5}\n",
    "algo = surprise.BaselineOnly(bsl_options=bsl_options)\n",
    "\n",
    "np.random.seed(0)\n",
    "acc = np.zeros(3)\n",
    "for i, (trainset, testset) in enumerate(data.folds()):\n",
    "#     if i==0 : \n",
    "#         print(trainset.all_items)\n",
    "#         print('-----',trainset)\n",
    "#         print('-----',testset)\n",
    "        \n",
    "    algo.train(trainset)\n",
    "    predictions = algo.test(testset)\n",
    "    acc[i] = surprise.accuracy.fcp(predictions, verbose=True)\n",
    "acc.mean()"
   ]
  },
  {
   "cell_type": "markdown",
   "metadata": {},
   "source": [
    " FCP(Fraction of Concordant Pairs)로 계산한 평가 점수는 약 0.70점이다."
   ]
  },
  {
   "cell_type": "markdown",
   "metadata": {},
   "source": [
    "### 추천성능 평가기준\n",
    "\n",
    "accuracy 서브패키지 이용 \n",
    "    - RMSE(Root Mean Squared Error)\n",
    "        $\\text{RMSE} = \\sqrt{\\frac{1}{|\\hat{R}|} \\sum_{\\hat{r}_{ui} \\in \\hat{R}}(r_{ui} - \\hat{r}_{ui})^2}$\n",
    "        \n",
    "* FCP (Fraction of Concordant Pairs) :  Karen2011 에서 제안된 것으로 평점 자체가 아닌 평점에 의한 순위를 기준으로 하는 방법\n",
    "\n",
    "evaluate 명령을 사용하면 위 코드를 다음과 같이 짧게 만들면서 여러가지 평가기준을 사용할 수 있다."
   ]
  },
  {
   "cell_type": "code",
   "execution_count": 7,
   "metadata": {},
   "outputs": [
    {
     "name": "stdout",
     "output_type": "stream",
     "text": [
      "Evaluating RMSE, MAE of algorithm BaselineOnly.\n",
      "\n",
      "------------\n",
      "Fold 1\n",
      "Estimating biases using als...\n",
      "RMSE: 0.9402\n",
      "MAE:  0.7441\n",
      "------------\n",
      "Fold 2\n",
      "Estimating biases using als...\n",
      "RMSE: 0.9501\n",
      "MAE:  0.7533\n",
      "------------\n",
      "Fold 3\n",
      "Estimating biases using als...\n",
      "RMSE: 0.9439\n",
      "MAE:  0.7482\n",
      "------------\n",
      "------------\n",
      "Mean RMSE: 0.9447\n",
      "Mean MAE : 0.7485\n",
      "------------\n",
      "------------\n"
     ]
    },
    {
     "data": {
      "text/plain": [
       "CaseInsensitiveDefaultDict(list,\n",
       "                           {'mae': [0.74408670479351391,\n",
       "                             0.75330700924027127,\n",
       "                             0.74822722434354882],\n",
       "                            'rmse': [0.94022930496712953,\n",
       "                             0.95007389942101372,\n",
       "                             0.94389227907434359]})"
      ]
     },
     "execution_count": 7,
     "metadata": {},
     "output_type": "execute_result"
    }
   ],
   "source": [
    "surprise.evaluate(algo, data)"
   ]
  },
  {
   "cell_type": "markdown",
   "metadata": {},
   "source": [
    "## Collaborative Filter\n",
    "모든 사용자의 데이터를 균일하게 사용하는 것이 아니라 평점 행렬이 가진 특정한 패턴을 찾아서 이를 평점 예측에 사용하는 방법\n",
    "\n",
    "* CF 방법 \n",
    "    -  Neighborhood 모형: 사용자나 상품 기준으로 평점의 유사성을 확인\n",
    "    -  Latent Factor 모형: 행렬의 수치적 특징을 이용"
   ]
  },
  {
   "cell_type": "markdown",
   "metadata": {},
   "source": [
    "## Neighborhood 모형 (Memory-based CF)\n",
    "\n",
    "해당 사용자와 유사한(similar) 사용자에 대해 가중치를 준다. \n",
    "\n",
    "* 사용자 기반 (User-based) CF:  해당 사용자와 유사한 사용자를 찾는 방법 즉, 평점 행렬에서 유사한 사용자 행 벡터를 찾아서 이를 기반으로 빈 데이터를 계산하는 방법을 라고 한다.\n",
    "\n",
    "\n",
    "* 상품 기반 (Item-based) CF: 특정한 상품에 대해 사용자가 준 점수 즉, 평점 행렬의 상품 열 벡터의 유사성을 찾고 특정 상품과 유사한 평점 정보를 가지는 상품들로 해당 상품의 빈 데이터를 예측하는 방법"
   ]
  },
  {
   "cell_type": "markdown",
   "metadata": {},
   "source": [
    "## 유사도 계산\n",
    "사용자 특성 벡터(평점 행렬의 행 벡터)이나 상품 특성 벡터(평점 행렬의 열 벡터)의 유사도(similarity)을 비교하기 위한 기준도 여러가지가 있을 수 있다.\n",
    "\n",
    "- 평균제곱차이 유사도 (Mean Squared Difference Similarity)\n",
    "- 코사인 유사도 (Cosine Similarity)\n",
    "- 피어슨 유사도 (Pearson Similarity)\n",
    "- 피어슨-베이스라인 유사도 (Pearson-Baseline Similarity)"
   ]
  },
  {
   "cell_type": "markdown",
   "metadata": {},
   "source": [
    "## 평균제곱차이 유사도 (Mean Squared Difference Similarity)\n",
    "\n",
    "msd는 유클리드 공간에서의 거리 제곱에 비례하는 값이다.\n",
    "\n",
    "* 사용자 u 와 사용자 v 간의 msd\n",
    "\n",
    "    $\\text{msd}(u, v) = \\frac{1}{|I_{uv}|} \\cdot \\sum\\limits_{i \\in I_{uv}} (r_{ui} - r_{vi})^2$\n",
    "    \n",
    "    I 는 i사용자와 j사용자 모두에 의해 평가된 상품의 집합, |I| i사용자와 j사용자 모두에 의해 평가된 상품수 \n",
    "    \n",
    "    \n",
    "* 상품 i 와 상품 j 간의 msd\n",
    "\n",
    "    $\\text{msd}(i, j) = \\frac{1}{|U_{ij}|} \\cdot \\sum\\limits_{u \\in U_{ij}} (r_{ui} - r_{uj})^2$\n",
    "    \n",
    "    U 는 i상품, j상품 모두를 평가한 사용자의 집합이고 |U| 상품i 와 상품j 모두를 평가한 사용자 수 \n",
    "    \n",
    "\n",
    "거리가 멀수록 유사도는 떨어진다. msd값이 0이 되는 경우를 대비하여 1을 더해준다. \n",
    "\n",
    "$\\begin{split}\\text{msd_sim}(u, v) &= \\frac{1}{\\text{msd}(u, v) + 1}\\\\\n",
    "\\text{msd_sim}(i, j) &= \\frac{1}{\\text{msd}(i, j) + 1}\\end{split}$"
   ]
  },
  {
   "cell_type": "code",
   "execution_count": 12,
   "metadata": {},
   "outputs": [
    {
     "name": "stdout",
     "output_type": "stream",
     "text": [
      "Evaluating RMSE, MAE of algorithm KNNBasic.\n",
      "\n",
      "------------\n",
      "Fold 1\n",
      "Computing the msd similarity matrix...\n",
      "Done computing similarity matrix.\n",
      "RMSE: 0.9886\n",
      "MAE:  0.7800\n",
      "------------\n",
      "Fold 2\n",
      "Computing the msd similarity matrix...\n",
      "Done computing similarity matrix.\n",
      "RMSE: 0.9902\n",
      "MAE:  0.7836\n",
      "------------\n",
      "Fold 3\n",
      "Computing the msd similarity matrix...\n",
      "Done computing similarity matrix.\n",
      "RMSE: 0.9869\n",
      "MAE:  0.7806\n",
      "------------\n",
      "------------\n",
      "Mean RMSE: 0.9885\n",
      "Mean MAE : 0.7814\n",
      "------------\n",
      "------------\n"
     ]
    },
    {
     "data": {
      "text/plain": [
       "CaseInsensitiveDefaultDict(list,\n",
       "                           {'mae': [0.78003965346735049,\n",
       "                             0.78363621800346173,\n",
       "                             0.78056677108086081],\n",
       "                            'rmse': [0.98858741197997724,\n",
       "                             0.99017322051835588,\n",
       "                             0.98686584325074944]})"
      ]
     },
     "execution_count": 12,
     "metadata": {},
     "output_type": "execute_result"
    }
   ],
   "source": [
    "sim_options = {'name':'msd'}\n",
    "algo = surprise.KNNBasic(sim_options=sim_options)\n",
    "surprise.evaluate(algo, data)"
   ]
  },
  {
   "cell_type": "markdown",
   "metadata": {},
   "source": [
    "## 코사인 유사도 (Cosine Similarity)\n",
    "\n",
    "두 특성 벡터의 각도에 대한 코사인 값 \n",
    "\n",
    "벡터 x 와 벡터 y 사이의 각도 θ  는 두 벡터의 내적 x⋅y 와 다음과 같은 관계가 있다. \n",
    "\n",
    "각도 θ 가 0도이면 코사인 유사도는 1이다. 반대로 각도 θ 가 90도이면 코사인 유사도는 0이다."
   ]
  },
  {
   "cell_type": "code",
   "execution_count": 13,
   "metadata": {},
   "outputs": [
    {
     "name": "stdout",
     "output_type": "stream",
     "text": [
      "Evaluating RMSE, MAE of algorithm KNNBasic.\n",
      "\n",
      "------------\n",
      "Fold 1\n",
      "Computing the cosine similarity matrix...\n",
      "Done computing similarity matrix.\n",
      "RMSE: 1.0223\n",
      "MAE:  0.8075\n",
      "------------\n",
      "Fold 2\n",
      "Computing the cosine similarity matrix...\n",
      "Done computing similarity matrix.\n",
      "RMSE: 1.0247\n",
      "MAE:  0.8118\n",
      "------------\n",
      "Fold 3\n",
      "Computing the cosine similarity matrix...\n",
      "Done computing similarity matrix.\n",
      "RMSE: 1.0190\n",
      "MAE:  0.8076\n",
      "------------\n",
      "------------\n",
      "Mean RMSE: 1.0220\n",
      "Mean MAE : 0.8089\n",
      "------------\n",
      "------------\n"
     ]
    },
    {
     "data": {
      "text/plain": [
       "CaseInsensitiveDefaultDict(list,\n",
       "                           {'mae': [0.80750332552680459,\n",
       "                             0.81177206213621389,\n",
       "                             0.80756159060634702],\n",
       "                            'rmse': [1.0222944428841125,\n",
       "                             1.0246658327983542,\n",
       "                             1.0189738441664089]})"
      ]
     },
     "execution_count": 13,
     "metadata": {},
     "output_type": "execute_result"
    }
   ],
   "source": [
    "sim_options = {'name': 'cosine'}\n",
    "algo = surprise.KNNBasic(sim_options=sim_options)\n",
    "surprise.evaluate(algo, data)"
   ]
  },
  {
   "cell_type": "markdown",
   "metadata": {},
   "source": [
    "## 피어슨 유사도 (Pearson Similarity)\n",
    "\n",
    "두 벡터의 상관계수(Pearson correlation coefficient)\n",
    "\n",
    "- 사용자 u 와 사용자 v 간의 msd\n",
    "- 상품 i 와 상품 j 간의 msd\n",
    "\n",
    "상관계수는 가장 높은 경우의 값이 1이고 무상관인 경우에는 0이다."
   ]
  },
  {
   "cell_type": "code",
   "execution_count": 14,
   "metadata": {},
   "outputs": [
    {
     "name": "stdout",
     "output_type": "stream",
     "text": [
      "Evaluating RMSE, MAE of algorithm KNNBasic.\n",
      "\n",
      "------------\n",
      "Fold 1\n",
      "Computing the pearson similarity matrix...\n",
      "Done computing similarity matrix.\n",
      "RMSE: 1.0203\n",
      "MAE:  0.8083\n",
      "------------\n",
      "Fold 2\n",
      "Computing the pearson similarity matrix...\n",
      "Done computing similarity matrix.\n",
      "RMSE: 1.0219\n",
      "MAE:  0.8117\n",
      "------------\n",
      "Fold 3\n",
      "Computing the pearson similarity matrix...\n",
      "Done computing similarity matrix.\n",
      "RMSE: 1.0196\n",
      "MAE:  0.8091\n",
      "------------\n",
      "------------\n",
      "Mean RMSE: 1.0206\n",
      "Mean MAE : 0.8097\n",
      "------------\n",
      "------------\n"
     ]
    },
    {
     "data": {
      "text/plain": [
       "CaseInsensitiveDefaultDict(list,\n",
       "                           {'mae': [0.80832858833726573,\n",
       "                             0.81172876105088099,\n",
       "                             0.80907484745025715],\n",
       "                            'rmse': [1.0203032617754169,\n",
       "                             1.0218681954683047,\n",
       "                             1.0195611604258723]})"
      ]
     },
     "execution_count": 14,
     "metadata": {},
     "output_type": "execute_result"
    }
   ],
   "source": [
    "sim_options = {'name': 'pearson'}\n",
    "algo = surprise.KNNBasic(sim_options=sim_options)\n",
    "surprise.evaluate(algo, data)"
   ]
  },
  {
   "cell_type": "markdown",
   "metadata": {},
   "source": [
    "## 피어슨-베이스라인 유사도 (Pearson-Baseline Similarity)\n",
    "\n",
    "상관계수를 구하지만 각 벡터의 기댓값을 단순 평균이 아니라 베이스라인 모형에서 예측한 값을 사용한다.\n",
    "\n",
    "는 벡터의 차원 즉, 두 사용자나 상품에 공통적으로 있는 평점 원소의 갯수를 이용하여 정규화를 하는 shrinkage를 추가하여 사용\n",
    "\n",
    "* 사용자와 사용자 msd  $ \\hat{\\rho}_{uv}$ 를 사용\n",
    "$\\begin{split}\\text{pearson_baseline_shrunk_sim}(u, v) &= \\frac{|I_{uv}| - 1}\n",
    "{|I_{uv}| - 1 + \\text{shrinkage}} \\cdot \\hat{\\rho}_{uv}\\end{split}$\n",
    "\n",
    "* 상품과 상품 msd  $ \\hat{\\rho}_{ij}$ 를 사용\n",
    "$\\begin{split}\\text{pearson_baseline_shrunk_sim}(i, j) &= \\frac{|U_{ij}| - 1}\n",
    "{|U_{ij}| - 1 + \\text{shrinkage}} \\cdot \\hat{\\rho}_{ij}\\end{split}$\n",
    "\n",
    "\n",
    "* surprise 패키지의 유사도 설정 옵션\n",
    "    - name: 사용할 유사도의 종류를 나타내는 문자열. 디폴트는 'MSD'.\n",
    "    - user_based: True면 사용자 기반, False면 상품 기반.\n",
    "    - min_support: 두 사용자나, 상품에서 공통적으로 있는 평점 원소의 수의 최솟값. 공통 평점 원소의 수가 이 값보다 적으면 해당 벡터는 사용하지 않는다. 디폴트는\n",
    "    - shrinkage: Shrinkage 가중치. 디폴트는 100.\n"
   ]
  },
  {
   "cell_type": "code",
   "execution_count": 15,
   "metadata": {},
   "outputs": [
    {
     "name": "stdout",
     "output_type": "stream",
     "text": [
      "Evaluating RMSE, MAE of algorithm KNNBasic.\n",
      "\n",
      "------------\n",
      "Fold 1\n",
      "Estimating biases using als...\n",
      "Computing the pearson_baseline similarity matrix...\n",
      "Done computing similarity matrix.\n",
      "RMSE: 1.0104\n",
      "MAE:  0.7982\n",
      "------------\n",
      "Fold 2\n",
      "Estimating biases using als...\n",
      "Computing the pearson_baseline similarity matrix...\n",
      "Done computing similarity matrix.\n",
      "RMSE: 1.0112\n",
      "MAE:  0.8006\n",
      "------------\n",
      "Fold 3\n",
      "Estimating biases using als...\n",
      "Computing the pearson_baseline similarity matrix...\n",
      "Done computing similarity matrix.\n",
      "RMSE: 1.0113\n",
      "MAE:  0.8010\n",
      "------------\n",
      "------------\n",
      "Mean RMSE: 1.0110\n",
      "Mean MAE : 0.8000\n",
      "------------\n",
      "------------\n"
     ]
    },
    {
     "data": {
      "text/plain": [
       "CaseInsensitiveDefaultDict(list,\n",
       "                           {'mae': [0.7982307138145035,\n",
       "                             0.80060439054999366,\n",
       "                             0.80104432969047168],\n",
       "                            'rmse': [1.0103975523064834,\n",
       "                             1.0111963400864099,\n",
       "                             1.0113342753032724]})"
      ]
     },
     "execution_count": 15,
     "metadata": {},
     "output_type": "execute_result"
    }
   ],
   "source": [
    "sim_options = {'name': 'pearson_baseline'}\n",
    "algo = surprise.KNNBasic(sim_options=sim_options)\n",
    "surprise.evaluate(algo, data)"
   ]
  },
  {
   "cell_type": "markdown",
   "metadata": {},
   "source": [
    "## KNN 가중치 예측 방법\n",
    "\n",
    "* KNN(K Nearest Neighbors) 기반 예측 방법: 일단 유사도가 구해지면 평점을 예측하고자 하는 사용자(또는 상품)와 유사도가 큰 k 개의 사용자(또는 상품) 벡터를 사용하여 가중 평균을 구해서 가중치를 예측하는 방법 \n",
    "\n",
    "\n",
    "* surprise 패키지의 3가지 kNN 기반 가중치 예측 알고리즘 클래스 \n",
    "    -  KNNBasic : 평점들을 단순히 가중 평균한다. Nk 는 k 개의 가장 유사도가 큰 벡터의 집합이다.\n",
    "    - KNNWithMeans : 평점들을 평균값 기준으로 가중 평균한다.\n",
    "    - KNNBaseline : 평점들을 베이스라인 모형의 값 기준으로 가중 평균한다."
   ]
  },
  {
   "cell_type": "code",
   "execution_count": 16,
   "metadata": {},
   "outputs": [
    {
     "name": "stdout",
     "output_type": "stream",
     "text": [
      "Evaluating RMSE, MAE of algorithm KNNWithMeans.\n",
      "\n",
      "------------\n",
      "Fold 1\n",
      "Estimating biases using als...\n",
      "Computing the pearson_baseline similarity matrix...\n",
      "Done computing similarity matrix.\n",
      "RMSE: 0.9454\n",
      "MAE:  0.7362\n",
      "------------\n",
      "Fold 2\n",
      "Estimating biases using als...\n",
      "Computing the pearson_baseline similarity matrix...\n",
      "Done computing similarity matrix.\n",
      "RMSE: 0.9548\n",
      "MAE:  0.7436\n",
      "------------\n",
      "Fold 3\n",
      "Estimating biases using als...\n",
      "Computing the pearson_baseline similarity matrix...\n",
      "Done computing similarity matrix.\n",
      "RMSE: 0.9459\n",
      "MAE:  0.7389\n",
      "------------\n",
      "------------\n",
      "Mean RMSE: 0.9487\n",
      "Mean MAE : 0.7395\n",
      "------------\n",
      "------------\n"
     ]
    },
    {
     "data": {
      "text/plain": [
       "CaseInsensitiveDefaultDict(list,\n",
       "                           {'mae': [0.73615574599618594,\n",
       "                             0.74359161656742523,\n",
       "                             0.73888041744545319],\n",
       "                            'rmse': [0.94544127849978465,\n",
       "                             0.95483697175919002,\n",
       "                             0.94592206643814936]})"
      ]
     },
     "execution_count": 16,
     "metadata": {},
     "output_type": "execute_result"
    }
   ],
   "source": [
    "sim_options = {'name': 'pearson_baseline'}\n",
    "algo = surprise.KNNWithMeans(sim_options=sim_options)\n",
    "surprise.evaluate(algo, data)"
   ]
  },
  {
   "cell_type": "code",
   "execution_count": 17,
   "metadata": {},
   "outputs": [
    {
     "name": "stdout",
     "output_type": "stream",
     "text": [
      "Evaluating RMSE, MAE of algorithm KNNBaseline.\n",
      "\n",
      "------------\n",
      "Fold 1\n",
      "Estimating biases using als...\n",
      "Computing the pearson_baseline similarity matrix...\n",
      "Done computing similarity matrix.\n",
      "RMSE: 0.9288\n",
      "MAE:  0.7267\n",
      "------------\n",
      "Fold 2\n",
      "Estimating biases using als...\n",
      "Computing the pearson_baseline similarity matrix...\n",
      "Done computing similarity matrix.\n",
      "RMSE: 0.9377\n",
      "MAE:  0.7351\n",
      "------------\n",
      "Fold 3\n",
      "Estimating biases using als...\n",
      "Computing the pearson_baseline similarity matrix...\n",
      "Done computing similarity matrix.\n",
      "RMSE: 0.9310\n",
      "MAE:  0.7300\n",
      "------------\n",
      "------------\n",
      "Mean RMSE: 0.9325\n",
      "Mean MAE : 0.7306\n",
      "------------\n",
      "------------\n"
     ]
    },
    {
     "data": {
      "text/plain": [
       "CaseInsensitiveDefaultDict(list,\n",
       "                           {'mae': [0.72668665897975215,\n",
       "                             0.73509977830678708,\n",
       "                             0.73000684126778348],\n",
       "                            'rmse': [0.9288461182053559,\n",
       "                             0.93774902478999866,\n",
       "                             0.9310173410593936]})"
      ]
     },
     "execution_count": 17,
     "metadata": {},
     "output_type": "execute_result"
    }
   ],
   "source": [
    "sim_options = {'name': 'pearson_baseline'}\n",
    "algo = surprise.KNNBaseline(sim_options=sim_options)\n",
    "surprise.evaluate(algo, data)"
   ]
  },
  {
   "cell_type": "markdown",
   "metadata": {},
   "source": [
    "# Latent Factor 모형\n",
    "\n",
    "긴 사용자 특성이나 상품 특성을 몇 개의 요인 벡터로 간략화(approximate)할 수 있다는 가정에서 출발한 모형이다. PCA(Principle Component Analysis)를 사용하면 긴 특성 벡터를 소수의 차원으로 차원 축소할 수 있듯이 사용자의 특성도 차원 축소 할 수 있다.\n",
    "\n",
    "예를 들어 액션을 싫어하고(-1) 코미디(2)나 드라마(3)를 좋아하는 사용자의 요인 벡터는 다음과 같다.\n",
    "\n",
    "pTu=(−1,2,3)\n",
    " \n",
    "어떤 영화가 액션 요소가 2이고 코미디 요소가 1이고, 드라마 요소가 1이라면\n",
    "\n",
    "qTi=(2,1,1)\n",
    " \n",
    "평점은 다음과 같을 것이다.\n",
    "$r_{ui} = q_i^Tp_u = -1 \\cdot 2 + 2 \\cdot 1 + 3 \\cdot 1 = 3$\n"
   ]
  },
  {
   "cell_type": "markdown",
   "metadata": {},
   "source": [
    "# Matrix Factorization\n",
    "\n",
    "Matrix Factorization 방법은 모든 사용자와 상품에 대해 다음 오차 함수를 최소화하는 요인 벡터를 찾아낸다. \n",
    "\n",
    "   $R \\approx PQ^T$\n",
    "\n",
    "- $R \\in \\mathbf{R}^{m \\times n}$ : m 사용자와 n 상품의 평점 행렬  \n",
    "- $P \\in \\mathbf{R}^{m \\times k}$ : m 사용자와 k 요인의 관계 행렬 \n",
    "- $Q \\in \\mathbf{R}^{n \\times k}$ : n 상품과 k 요인의 관계 행렬 "
   ]
  },
  {
   "cell_type": "markdown",
   "metadata": {},
   "source": [
    "# SVD (Singular Value Decomposition)\n",
    "\n",
    "SVD (Singular Value Decomposition) 특이값분해 는 Matrix Factorization 문제를 푸는 방법 중 하나이다.\n",
    "\n",
    "m×n 크기의 행렬 R 은 다음과 같이 세 행렬의 곱으로 나타낼 수 있다. \n",
    "\n",
    "$R =  U \\Sigma V^T$\n",
    "- $U$ : m×m 크기의 행렬로 역행렬이 대칭 행렬\n",
    "- $\\Sigma$ : m×n 크기의 행렬로 비대각 성분이 0\n",
    "- $V$ : n×n 크기의 행렬로 역행렬이 대칭 행렬\n",
    "\n",
    "$\\Sigma$ 의 대각성분 = 특이치 \n",
    "\n",
    "전체 특이치 중에서 가장 큰 값 k 개의 특이치만 사용 (Truncated SVD) 하여 다음행렬을 만듬 \n",
    "- $\\hat{U}$ : U 에서 가장 큰 값 k 개의 특이치에 대응하는 k 개의 성분만 남긴 m x k 크기의 행렬 \n",
    "- $\\hat{\\Sigma}$ : 가장 큰 값 k 개의 특이치에 대응하는 k 개의 성분만 남긴 k x k 크기의 대각행렬 \n",
    "- $\\hat{V}$ : v 에서 가장 큰 값 k 개의 특이치에 대응하는 k 개의 성분만 남긴 k x n 크기의 행렬 \n",
    "\n",
    "이 행렬들을 조합해 원래의 행렬과 같은 크기의 유사한 행렬을 만듬 \n",
    "\n",
    "하지만 실제로 평점 행렬은 빈 원소가 많은 sparse 행렬로서 SVD를 바로 적용하기 힘들기 때문에 행렬  P, Q 는 다음과 같은 모형에 대해 오차 함수를 최소화하여 구한다.\n",
    "\n",
    "surprise 패키지에서는 matrix_factorization 서브패키지에서 SVD 와 SVDpp라는 클래스를 제공한다.\n",
    "\n",
    "http://surprise.readthedocs.io/en/latest/matrix_factorization.html"
   ]
  },
  {
   "cell_type": "code",
   "execution_count": 18,
   "metadata": {},
   "outputs": [
    {
     "name": "stdout",
     "output_type": "stream",
     "text": [
      "Evaluating RMSE, MAE of algorithm SVD.\n",
      "\n",
      "------------\n",
      "Fold 1\n",
      "RMSE: 0.9532\n",
      "MAE:  0.7508\n",
      "------------\n",
      "Fold 2\n",
      "RMSE: 0.9602\n",
      "MAE:  0.7570\n",
      "------------\n",
      "Fold 3\n",
      "RMSE: 0.9534\n",
      "MAE:  0.7519\n",
      "------------\n",
      "------------\n",
      "Mean RMSE: 0.9556\n",
      "Mean MAE : 0.7532\n",
      "------------\n",
      "------------\n"
     ]
    },
    {
     "data": {
      "text/plain": [
       "CaseInsensitiveDefaultDict(list,\n",
       "                           {'mae': [0.75081270552967738,\n",
       "                             0.75701018410304088,\n",
       "                             0.75186228416016865],\n",
       "                            'rmse': [0.95315143945678538,\n",
       "                             0.96021523509860573,\n",
       "                             0.95340125771148521]})"
      ]
     },
     "execution_count": 18,
     "metadata": {},
     "output_type": "execute_result"
    }
   ],
   "source": [
    "algo = surprise.SVD(n_factors=200, n_epochs=30)\n",
    "surprise.evaluate(algo, data)"
   ]
  },
  {
   "cell_type": "code",
   "execution_count": null,
   "metadata": {
    "collapsed": true
   },
   "outputs": [],
   "source": []
  }
 ],
 "metadata": {
  "kernelspec": {
   "display_name": "Python 3",
   "language": "python",
   "name": "python3"
  },
  "language_info": {
   "codemirror_mode": {
    "name": "ipython",
    "version": 3
   },
   "file_extension": ".py",
   "mimetype": "text/x-python",
   "name": "python",
   "nbconvert_exporter": "python",
   "pygments_lexer": "ipython3",
   "version": "3.6.1"
  }
 },
 "nbformat": 4,
 "nbformat_minor": 2
}
