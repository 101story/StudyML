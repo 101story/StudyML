{
 "cells": [
  {
   "cell_type": "markdown",
   "metadata": {},
   "source": [
    "# 15절. 벡터와 행렬 \n",
    "\n",
    "## 선형대수 입문\n",
    "\n",
    "### 데이터의 유형\n",
    "\n",
    "\n",
    "- **스칼라** 는 숫자 하나로 이루어진 데이터\n",
    "- **벡터** 는 여러 개의 숫자로 이루어진 데이터 레코드(data record)\n",
    "- **행렬** 은 데이터 레코드가 여러 개 있는 데이터 집합\n",
    "\n",
    "\n",
    "벡터를 이루는 데이터의 개수 **차원(dimension)** <br>\n",
    "**특징 벡터(feature vector)** : a feature vector is an n-dimensional vector of numerical features that represent some object. \n"
   ]
  },
  {
   "cell_type": "code",
   "execution_count": 2,
   "metadata": {
    "collapsed": true
   },
   "outputs": [],
   "source": [
    "import numpy as np"
   ]
  },
  {
   "cell_type": "code",
   "execution_count": 8,
   "metadata": {},
   "outputs": [
    {
     "data": {
      "text/plain": [
       "array([[ 5.1],\n",
       "       [ 3.5],\n",
       "       [ 1.4],\n",
       "       [ 0.2]])"
      ]
     },
     "execution_count": 8,
     "metadata": {},
     "output_type": "execute_result"
    }
   ],
   "source": [
    "x1 = np.array([[5.1], [3.5], [1.4], [0.2]])\n",
    "x1"
   ]
  },
  {
   "cell_type": "code",
   "execution_count": 9,
   "metadata": {},
   "outputs": [
    {
     "data": {
      "text/plain": [
       "array([ 5.1,  3.5,  1.4,  0.2])"
      ]
     },
     "execution_count": 9,
     "metadata": {},
     "output_type": "execute_result"
    }
   ],
   "source": [
    "x2 = np.array([5.1, 3.5, 1.4, 0.2])\n",
    "x2"
   ]
  },
  {
   "cell_type": "markdown",
   "metadata": {},
   "source": [
    "1 차원 배열 객체도 벡터로 간주 행처럼 표시되지만 실제로는 열의 의미를 가짐 "
   ]
  },
  {
   "cell_type": "markdown",
   "metadata": {},
   "source": [
    "## 전치 연산 (transpose)\n",
    "\n",
    "행과 열을 바꾸는 연산 "
   ]
  },
  {
   "cell_type": "code",
   "execution_count": 12,
   "metadata": {},
   "outputs": [
    {
     "data": {
      "text/plain": [
       "array([[ 5.1,  3.5,  1.4,  0.2]])"
      ]
     },
     "execution_count": 12,
     "metadata": {},
     "output_type": "execute_result"
    }
   ],
   "source": [
    "x1.T"
   ]
  },
  {
   "cell_type": "markdown",
   "metadata": {
    "collapsed": true
   },
   "source": [
    "## 특수한 벡터와 행렬\n",
    "\n",
    "- 영 벡터 : 모든 원소가 0인  N 차원 벡터\n",
    "- 일 벡터 : 모든 원소가 1인  N 차원 벡터\n",
    "- 정방 행렬 : 행의 크기와 열의 크기가 같은 행렬\n",
    "- 대각 행렬 : 행의 숫자와 열의 숫자가 같은 위치를 대각(diagonal), 그외 비대각(off-diagonal) 일때, 비대각 요소가 0인 정방 행렬\n",
    "- 단위 행렬 : 모든 대각 성분의 값이 1인 대각 행렬\n",
    "- 대칭 행렬 :  전치 연산을 통해서 얻어진 전치 행렬과 원래의 행렬이 같을때 (정방행렬만가능)"
   ]
  },
  {
   "cell_type": "code",
   "execution_count": 13,
   "metadata": {},
   "outputs": [
    {
     "data": {
      "text/plain": [
       "array([[1, 0, 0],\n",
       "       [0, 2, 0],\n",
       "       [0, 0, 3]])"
      ]
     },
     "execution_count": 13,
     "metadata": {},
     "output_type": "execute_result"
    }
   ],
   "source": [
    "# 대각행렬\n",
    "np.diag([1, 2, 3])"
   ]
  },
  {
   "cell_type": "code",
   "execution_count": 14,
   "metadata": {},
   "outputs": [
    {
     "data": {
      "text/plain": [
       "array([[ 1.,  0.,  0.],\n",
       "       [ 0.,  1.,  0.],\n",
       "       [ 0.,  0.,  1.]])"
      ]
     },
     "execution_count": 14,
     "metadata": {},
     "output_type": "execute_result"
    }
   ],
   "source": [
    "# 단위행렬\n",
    "np.identity(3)"
   ]
  },
  {
   "cell_type": "code",
   "execution_count": 15,
   "metadata": {},
   "outputs": [
    {
     "data": {
      "text/plain": [
       "array([[ 1.,  0.,  0.,  0.],\n",
       "       [ 0.,  1.,  0.,  0.],\n",
       "       [ 0.,  0.,  1.,  0.],\n",
       "       [ 0.,  0.,  0.,  1.]])"
      ]
     },
     "execution_count": 15,
     "metadata": {},
     "output_type": "execute_result"
    }
   ],
   "source": [
    "# 단위행렬\n",
    "np.eye(4)"
   ]
  },
  {
   "cell_type": "markdown",
   "metadata": {},
   "source": [
    "# 벡터와 행렬의 연산\n",
    "\n",
    "## 벡터와 행렬의 덧셈과 뺄셈"
   ]
  },
  {
   "cell_type": "code",
   "execution_count": 16,
   "metadata": {
    "collapsed": true
   },
   "outputs": [],
   "source": [
    "x = np.array([10, 11, 12, 13, 14])\n",
    "y = np.array([0, 1, 2, 3, 4])"
   ]
  },
  {
   "cell_type": "code",
   "execution_count": 17,
   "metadata": {},
   "outputs": [
    {
     "name": "stdout",
     "output_type": "stream",
     "text": [
      "[10 12 14 16 18]\n",
      "[10 10 10 10 10]\n"
     ]
    }
   ],
   "source": [
    "print(x+y)\n",
    "print(x-y)"
   ]
  },
  {
   "cell_type": "markdown",
   "metadata": {},
   "source": [
    "## 벡터의 곱셈(내적)\n",
    "\n",
    "벡터의 곱셈> 내적(inner product), 외적(outer product) <br>\n",
    "내적 (dot 연산자 사용)\n",
    "\n",
    "* 내적의 조건\n",
    "    1. 우선 두 벡터의 길이가 같아야 함\n",
    "    2. 앞의 벡터가 행 벡터이고 뒤의 벡터가 열 벡터여야 함\n",
    "    \n",
    "## 가중합\n",
    "각각의 수에 어떤 가중치 값을 곱한 후 이 곱셈 결과들을 다시 합한 것\n",
    "\n",
    "두 벡터의 곱셈<br>\n",
    "NumPy에서는 결과 값이 스칼라가 아니라 1x1 크기의 2차원 배열 즉, 행렬로 표시됨\n"
   ]
  },
  {
   "cell_type": "code",
   "execution_count": 18,
   "metadata": {},
   "outputs": [
    {
     "data": {
      "text/plain": [
       "array([[32]])"
      ]
     },
     "execution_count": 18,
     "metadata": {},
     "output_type": "execute_result"
    }
   ],
   "source": [
    "x = np.array([[1], [2], [3]])\n",
    "y = np.array([[4], [5], [6]])\n",
    "np.dot(x.T, y)"
   ]
  },
  {
   "cell_type": "code",
   "execution_count": 19,
   "metadata": {},
   "outputs": [
    {
     "data": {
      "text/plain": [
       "32"
      ]
     },
     "execution_count": 19,
     "metadata": {},
     "output_type": "execute_result"
    }
   ],
   "source": [
    "x = np.array([1, 2, 3])\n",
    "y = np.array([4, 5, 6])\n",
    "np.dot(x, y)"
   ]
  },
  {
   "cell_type": "markdown",
   "metadata": {},
   "source": [
    " NumPy가 자동적으로 앞의 벡터는 행 벡터이고 뒤의 벡터는 열 벡터라고 가정\n",
    " \n",
    " ## 평균\n"
   ]
  },
  {
   "cell_type": "code",
   "execution_count": 20,
   "metadata": {},
   "outputs": [
    {
     "data": {
      "text/plain": [
       "4.5"
      ]
     },
     "execution_count": 20,
     "metadata": {},
     "output_type": "execute_result"
    }
   ],
   "source": [
    "x = np.arange(10)\n",
    "x.mean()"
   ]
  },
  {
   "cell_type": "code",
   "execution_count": 21,
   "metadata": {},
   "outputs": [
    {
     "data": {
      "text/plain": [
       "4.5"
      ]
     },
     "execution_count": 21,
     "metadata": {},
     "output_type": "execute_result"
    }
   ],
   "source": [
    "N = len(x)\n",
    "np.dot(np.ones(N), x)/N"
   ]
  },
  {
   "cell_type": "markdown",
   "metadata": {},
   "source": [
    "## 선형 회귀 모형 \n",
    "\n",
    "독립 변수  x 에서 종속 변수  y 를 예측하기 위한 방법의 하나로 독립 변수 벡터  x  와 가중치 벡터  w 와의 가중합으로  y 와 가장 비슷한 값  ^y 를 계산하는 수식\n",
    "\n",
    "* 인공 신경망(artificial neural network)에서는 선형회귀 모형\n",
    "    - 데이터 : 노드(node) 혹은 뉴런(neuron)이라는 동그라미로 표시\n",
    "    - 곱셈 : 선분(line)위에 곱할 숫자로 표시\n",
    "    - 덧셈 : 여러개의 선분이 만나는 것으로 표시\n",
    "    \n",
    "## 행렬의 곱셈(내적)\n"
   ]
  },
  {
   "cell_type": "code",
   "execution_count": 24,
   "metadata": {},
   "outputs": [
    {
     "data": {
      "text/plain": [
       "array([[22, 28],\n",
       "       [49, 64]])"
      ]
     },
     "execution_count": 24,
     "metadata": {},
     "output_type": "execute_result"
    }
   ],
   "source": [
    "A = np.array([[1, 2, 3], [4, 5, 6]])\n",
    "B = np.array([[1, 2], [3, 4], [5, 6]])\n",
    "C = np.dot(A,B)\n",
    "C"
   ]
  },
  {
   "cell_type": "markdown",
   "metadata": {},
   "source": [
    "## 단위 행렬의 곱 "
   ]
  },
  {
   "cell_type": "code",
   "execution_count": 26,
   "metadata": {},
   "outputs": [
    {
     "name": "stdout",
     "output_type": "stream",
     "text": [
      "[[ 1.  2.]\n",
      " [ 3.  4.]]\n",
      "[[ 1.  2.]\n",
      " [ 3.  4.]]\n"
     ]
    }
   ],
   "source": [
    "A = np.array([[1, 2], [3, 4]])\n",
    "I = np.eye(2)\n",
    "\n",
    "print(np.dot(A,I))\n",
    "print(np.dot(I,A))"
   ]
  },
  {
   "cell_type": "markdown",
   "metadata": {},
   "source": [
    "## 잔차\n",
    "\n",
    "- 선형 회귀 분석(linear regression)을 한 결과 > 가중치 벡터  W\n",
    "- 예측치 > 벡터  Xi 의 가중합\n",
    "- 오차(error) 혹은 잔차(residual) : 예측치와 실제 값(target)  Yi 의 차이\n",
    "\n",
    "## 잔차 제곱합\n",
    "잔차의 크기: 잔차 벡터의 각 원소를 제곱한 후 더한 잔차 제곱합(RSS: Residual Sum of Squares)를 이용\n",
    "\n",
    "## 이차형식\n",
    "이렇게 어떤 벡터에 대해 \"행벡터 x 정방 행렬 x 열벡터\" 의 형식으로 되어 있는 식 <br>\n",
    "정방 행렬 = XtX "
   ]
  },
  {
   "cell_type": "code",
   "execution_count": 36,
   "metadata": {},
   "outputs": [
    {
     "data": {
      "text/plain": [
       "array([[1, 2, 3],\n",
       "       [2, 4, 6],\n",
       "       [3, 6, 9]])"
      ]
     },
     "execution_count": 36,
     "metadata": {},
     "output_type": "execute_result"
    }
   ],
   "source": [
    "x = np.array([[1,2,3]])\n",
    "A = np.dot(x.T, x)\n",
    "A"
   ]
  },
  {
   "cell_type": "code",
   "execution_count": 39,
   "metadata": {},
   "outputs": [
    {
     "data": {
      "text/plain": [
       "196"
      ]
     },
     "execution_count": 39,
     "metadata": {},
     "output_type": "execute_result"
    }
   ],
   "source": [
    "np.dot(np.dot([1,2,3], A), [1,2,3],)"
   ]
  },
  {
   "cell_type": "markdown",
   "metadata": {
    "collapsed": true
   },
   "source": [
    "--> wtAw"
   ]
  },
  {
   "cell_type": "markdown",
   "metadata": {},
   "source": [
    "# 행렬의 성질\n",
    "\n",
    "## 행렬의 부호\n",
    "\n",
    "- 양-한정(positive definite) : 영 벡터가 아닌 모든 벡터  x 에 대해 다음 부등식이 성립\n",
    "- 양-반한정(positive semi-definite) : 식이 등호를 포함\n",
    "\n",
    "\n",
    "## 행렬의 크기\n",
    " \n",
    "### 행렬 놈(norm)\n",
    "벡터나 행렬의 크기를 일반화 시킨것\n",
    "\n",
    "$\\Vert A \\Vert_p = \\left( \\sum_{i=1}^M \\sum_{j=1}^N |a_{ij}|^p \\right)^{1/p}$\n",
    "\n",
    "\n",
    "프로베니우스 놈(Frobenius norm)\n",
    "\n",
    "$\\Vert A \\Vert = \\Vert A \\Vert_F = \\sqrt{\\sum_{i=1}^M \\sum_{j=1}^N a_{ij}^2}$\n",
    "\n",
    "벡터의 놈의 제곱은 그 벡터의 제곱합과 같다. <br>\n",
    "벡터의 제곱합을 최소화(가장 작게 만드는 것)하는 것은 놈을 최소화하는 것과 같다."
   ]
  },
  {
   "cell_type": "code",
   "execution_count": 41,
   "metadata": {},
   "outputs": [
    {
     "data": {
      "text/plain": [
       "array([[-4, -3, -2],\n",
       "       [-1,  0,  1],\n",
       "       [ 2,  3,  4]])"
      ]
     },
     "execution_count": 41,
     "metadata": {},
     "output_type": "execute_result"
    }
   ],
   "source": [
    "A = (np.arange(9) - 4).reshape((3, 3))\n",
    "A"
   ]
  },
  {
   "cell_type": "code",
   "execution_count": 42,
   "metadata": {},
   "outputs": [
    {
     "data": {
      "text/plain": [
       "7.745966692414834"
      ]
     },
     "execution_count": 42,
     "metadata": {},
     "output_type": "execute_result"
    }
   ],
   "source": [
    "np.linalg.norm(A)"
   ]
  },
  {
   "cell_type": "markdown",
   "metadata": {},
   "source": [
    "### 대각 성분\n",
    "\n",
    "정방 행렬에 대해서만 정의, 대각 원소들의 합\n",
    "\n",
    "$\\operatorname{tr}(A) = a_{11} + a_{22} + \\dots + a_{NN}=\\sum_{i=1}^{N} a_{ii}$ \n",
    "\n",
    "대각 성분 성질 <br>\n",
    "$\\text{tr} (cA) = c\\;\\text{tr} (A)$<br>\n",
    "$\\text{tr} (A^T) = \\text{tr} (A)$<br>\n",
    "$\\text{tr} (A + B) = \\text{tr} (A) + \\text{tr} (B)$<br>\n",
    "$\\text{tr} (AB) = \\text{tr} (BA)$<br>\n",
    "$\\text{tr} (ABC) = \\text{tr} (BCA) = \\text{tr} (CAB)$\n",
    "\n",
    "트레이스 트릭(trace trick) : 차 형식(quadratic form)의 미분을 구함\n",
    "$x^TAx = \\text{tr}(x^TAx) = \\text{tr}(Axx^T) = \\text{tr}(xx^TA)$"
   ]
  },
  {
   "cell_type": "code",
   "execution_count": 46,
   "metadata": {},
   "outputs": [
    {
     "name": "stdout",
     "output_type": "stream",
     "text": [
      "[[ 1.  0.  0.]\n",
      " [ 0.  1.  0.]\n",
      " [ 0.  0.  1.]]\n"
     ]
    },
    {
     "data": {
      "text/plain": [
       "3.0"
      ]
     },
     "execution_count": 46,
     "metadata": {},
     "output_type": "execute_result"
    }
   ],
   "source": [
    "print(np.eye(3))\n",
    "np.trace(np.eye(3))"
   ]
  },
  {
   "cell_type": "markdown",
   "metadata": {},
   "source": [
    "### 행렬식\n",
    "정사각행렬에 수를 대응시키는 함수의 하나, 정사각행렬이 나타내는 선형 변환이 부피를 확대시키는 정도\n",
    "\n",
    "코팩터 확장(cofactor expansion) \n",
    "$\\det(A) = \\sum_{i=1}^N \\left\\{ (-1)^{i+j_0}M_{i,j_0} \\right\\} a_{i,j_0} = \\sum_{j=1}^N \\left\\{ (-1)^{i_0+j} M_{i_0,j} \\right\\} a_{i_0,j}$\n",
    "\n",
    "1×1 행렬의 행렬식\n",
    "$\\det \\left( \\begin{bmatrix}a\\end{bmatrix} \\right) =a$\n",
    " \n",
    "2×2 행렬의 행렬식\n",
    "$\\det \\left( \\begin{bmatrix}a&b\\\\c&d\\end{bmatrix} \\right) =ad-bc$\n",
    " \n",
    "3×3 행렬의 행렬식\n",
    "$\\det \\left( \\begin{bmatrix}a&b&c\\\\d&e&f\\\\g&h&i\\end{bmatrix} \\right) =aei+bfg+cdh-ceg-bdi-afh$"
   ]
  },
  {
   "cell_type": "code",
   "execution_count": 47,
   "metadata": {},
   "outputs": [
    {
     "data": {
      "text/plain": [
       "array([[1, 2],\n",
       "       [3, 4]])"
      ]
     },
     "execution_count": 47,
     "metadata": {},
     "output_type": "execute_result"
    }
   ],
   "source": [
    "A = np.array([[1, 2], [3, 4]])\n",
    "A"
   ]
  },
  {
   "cell_type": "code",
   "execution_count": 49,
   "metadata": {},
   "outputs": [
    {
     "data": {
      "text/plain": [
       "-2.0000000000000004"
      ]
     },
     "execution_count": 49,
     "metadata": {},
     "output_type": "execute_result"
    }
   ],
   "source": [
    "np.linalg.det(A)"
   ]
  },
  {
   "cell_type": "markdown",
   "metadata": {},
   "source": [
    "성질 \n",
    "\n",
    "전치행렬의 행렬식은 원래의 행렬의 행렬식과 같다.\n",
    "$\\det(A^{T}) = \\det(A)$\n",
    "\n",
    "단위 행렬의 행렬식은 1\n",
    "$\\det(I) = 1$\n",
    "\n",
    "두 행렬의 곱의 행렬식은 각 행렬의 행렬식의 곱과 같다.\n",
    "$\\det(AB) = \\det(A)\\det(B)$\n",
    "\n",
    "역행렬의 행렬식은 원래의 행렬의 행렬식 값이 역수가 된다.\n",
    "$\\det(A^{-1}) = \\dfrac{1}{\\det(A)}$\n"
   ]
  },
  {
   "cell_type": "markdown",
   "metadata": {},
   "source": [
    "# 연립 방정식과 역행렬\n",
    "\n",
    "**연립 방정식(system of equations)** : M 개의 미지수를 가지는 N 개의 방정식 \n",
    "\n",
    "$\\begin{matrix}\n",
    "a_{11} x_1 & + \\;& a_{12} x_2   &\\; + \\cdots + \\;& a_{1M} x_M &\\; = \\;& b_1 \\\\\n",
    "a_{21} x_1 & + \\;& a_{22} x_2   &\\; + \\cdots + \\;& a_{2M} x_M &\\; = \\;& b_2 \\\\\n",
    "\\vdots\\;\\;\\; &   & \\vdots\\;\\;\\; &                & \\vdots\\;\\;\\; &     & \\;\\vdots \\\\\n",
    "a_{N1} x_1 & + \\;& a_{N2} x_2   &\\; + \\cdots + \\;& a_{NM} x_M &\\; = \\;& b_N \\\\\n",
    "\\end{matrix}$\n",
    "\n",
    "## 역행렬\n",
    "$A^{-1}A = AA^{-1} = I$\n",
    "\n",
    "## 역행렬의 성질\n",
    "전치행렬의 역행렬은 역행렬의 전치행렬과 같다.  <br>\n",
    "$(A^{T})^{-1} = (A^{-1})^{T}$\n",
    "\n",
    "정방행렬의 곱(두 개 이상의 정방 행렬의 곱)의 역행렬 성질\n",
    "$(ABC)^{-1} = C^{-1} B^{-1} A^{-1}$\n",
    "\n",
    "코팩터로 이루어진 행렬  C 코팩터 행렬(matrix of cofactors, 또는 cofactor matrix, comatrix)<br>\n",
    "코팩터 행렬의 전치 행렬  CT 를 adjugate matrix 또는 adjoint matrix 이라고 하며  adj(A) 로 표기\n",
    "\n",
    "$A^{-1} = \\dfrac{1}{\\det A} C^T = \\dfrac{1}{\\det A} \n",
    "\\begin{bmatrix}\n",
    "C_{1,1} &\\cdots& C_{N, 1}\\\\\n",
    "\\vdots &\\ddots &\\vdots\\\\\n",
    "C_{1,N} &\\cdots &C_{N,N}\\\\\n",
    "\\end{bmatrix}$\n",
    "\n",
    "A = $\\begin{bmatrix} a \\ b \\\\ c \\ d \\end{bmatrix}$\n",
    "det(A) : A 행렬의 넓이 <br>\n",
    "A 가 3차원의 경우 부피를 나타냄\n",
    "\n",
    "## 역행렬과 연립 방정식의 해\n",
    "\n",
    "역행렬이 존재한다면 \n",
    "      \n",
    "$Ax=b$\n",
    "\n",
    "$A^{−1}Ax=A^{−1}b$\n",
    "\n",
    "$Ix=A^{−1}b$\n",
    "\n",
    "$x=A^{−1}b$\n",
    "\n",
    "## NumPy의 역행렬 계산\n",
    "\n",
    "NumPy의 linalg 서브패키지의 inv 라는 명령어가 있으나 **lstsq **(least square) 명령어를 사용\n"
   ]
  },
  {
   "cell_type": "code",
   "execution_count": 50,
   "metadata": {},
   "outputs": [
    {
     "data": {
      "text/plain": [
       "array([[ 1,  3, -2],\n",
       "       [ 3,  5,  6],\n",
       "       [ 2,  4,  3]])"
      ]
     },
     "execution_count": 50,
     "metadata": {},
     "output_type": "execute_result"
    }
   ],
   "source": [
    "A = np.array([[1, 3, -2], [3, 5, 6], [2, 4, 3]])\n",
    "A"
   ]
  },
  {
   "cell_type": "code",
   "execution_count": 51,
   "metadata": {},
   "outputs": [
    {
     "data": {
      "text/plain": [
       "array([[5],\n",
       "       [7],\n",
       "       [8]])"
      ]
     },
     "execution_count": 51,
     "metadata": {},
     "output_type": "execute_result"
    }
   ],
   "source": [
    "b = np.array([[5], [7], [8]])\n",
    "b"
   ]
  },
  {
   "cell_type": "code",
   "execution_count": 52,
   "metadata": {},
   "outputs": [
    {
     "data": {
      "text/plain": [
       "array([[ 2.25,  4.25, -7.  ],\n",
       "       [-0.75, -1.75,  3.  ],\n",
       "       [-0.5 , -0.5 ,  1.  ]])"
      ]
     },
     "execution_count": 52,
     "metadata": {},
     "output_type": "execute_result"
    }
   ],
   "source": [
    "# A 의 역행렬 \n",
    "Ainv = np.linalg.inv(A)\n",
    "Ainv"
   ]
  },
  {
   "cell_type": "code",
   "execution_count": 53,
   "metadata": {},
   "outputs": [
    {
     "data": {
      "text/plain": [
       "array([[-15.],\n",
       "       [  8.],\n",
       "       [  2.]])"
      ]
     },
     "execution_count": 53,
     "metadata": {},
     "output_type": "execute_result"
    }
   ],
   "source": [
    "x = np.dot(Ainv, b)\n",
    "x"
   ]
  },
  {
   "cell_type": "code",
   "execution_count": 54,
   "metadata": {},
   "outputs": [
    {
     "data": {
      "text/plain": [
       "array([[ -1.06581410e-14],\n",
       "       [ -3.90798505e-14],\n",
       "       [ -2.66453526e-14]])"
      ]
     },
     "execution_count": 54,
     "metadata": {},
     "output_type": "execute_result"
    }
   ],
   "source": [
    "np.dot(A, x) - b"
   ]
  },
  {
   "cell_type": "code",
   "execution_count": 61,
   "metadata": {},
   "outputs": [
    {
     "data": {
      "text/plain": [
       "array([[ -1.06581410e-14],\n",
       "       [ -3.90798505e-14],\n",
       "       [ -2.66453526e-14]])"
      ]
     },
     "execution_count": 61,
     "metadata": {},
     "output_type": "execute_result"
    }
   ],
   "source": [
    "np.dot(A,np.dot(Ainv,b))-b"
   ]
  },
  {
   "cell_type": "code",
   "execution_count": 56,
   "metadata": {},
   "outputs": [
    {
     "name": "stdout",
     "output_type": "stream",
     "text": [
      "[[-15.]\n",
      " [  8.]\n",
      " [  2.]]\n",
      "[]\n",
      "3\n",
      "[ 9.95351327  3.73041127  0.10772757]\n"
     ]
    }
   ],
   "source": [
    "x, resid, rank, s = np.linalg.lstsq(A, b)\n",
    "print(x) \n",
    "print(resid) \n",
    "print(rank)\n",
    "print(s)"
   ]
  },
  {
   "cell_type": "markdown",
   "metadata": {},
   "source": [
    "## 역행렬의 존재\n",
    "\n",
    "행렬식의 값이 0이 아니면 역행렬이 존재한다. <br>반대로 역행렬이 존재하면 행렬식의 값은 0이 아니다.\n",
    "\n",
    "## 최소 자승 문제\n",
    "\n",
    "방정식의 수가 미지수의 수와 같다. ( N=M ) <br>\n",
    "방정식의 수가 미지수의 수보다 적다. ( N < M ) : 무수히 많은 해가 존재 하거나 하나도 없을 수 있다.<br> \n",
    "방정식의 수가 미지수의 수보다 많다. ( N>M ) : 해가 하나도 존재할 수 없을 수도 있다.\n",
    "\n",
    "\n",
    "* 최소 자승(Least Square) : 좌변과 우변의 차이를 최소화하는 문제\n",
    "> Ax = b -> e = Ax - b \n",
    "\n",
    "    잔차 벡터의 크기 즉, 놈을 최소화 하는 것<br>\n",
    "    $e^Te = \\Vert e \\Vert^2 = (Ax-b)^T(Ax-b)$\n",
    "    --\n",
    "    $x = \\text{arg} \\min_x e^Te = \\text{arg} \\min_x  \\; (Ax-b)^T(Ax-b)$\n",
    "\n",
    "    $x = \\text{arg} \\min_x f(x)$ f(x) 를 가장 작게 만드는 **x**  \n",
    "\n",
    "\n",
    "* 의사 역행렬(pseudo inverse)\n",
    "> Ax = b -> e = Ax - b \n",
    "    \n",
    "    $A^TAx = A^Tb$\n",
    "    $x = ((A^TA)^{-1}A^T) b$\n",
    "    \n",
    "    이럴떄 $A^{+}$ 값 을 **의사 역행렬** 이라고 한다. <br>\n",
    "    \n",
    "    $A^{+} = (A^TA)^{-1}A^T$<br>\n",
    "    $x=A^{+}b$\n",
    "    "
   ]
  },
  {
   "cell_type": "code",
   "execution_count": 63,
   "metadata": {},
   "outputs": [
    {
     "data": {
      "text/plain": [
       "array([[ 0.41666667, -0.16666667,  0.08333333],\n",
       "       [ 0.08333333,  0.16666667,  0.41666667]])"
      ]
     },
     "execution_count": 63,
     "metadata": {},
     "output_type": "execute_result"
    }
   ],
   "source": [
    "A = np.array([[2, 0], [-1, 1], [0, 2]])\n",
    "b = np.array([[1], [0], [-1]])\n",
    "Apinv = np.dot(np.linalg.inv(np.dot(A.T, A)), A.T)\n",
    "Apinv"
   ]
  },
  {
   "cell_type": "code",
   "execution_count": 65,
   "metadata": {},
   "outputs": [
    {
     "name": "stdout",
     "output_type": "stream",
     "text": [
      "[[-0.33333333]\n",
      " [-0.66666667]\n",
      " [ 0.33333333]]\n"
     ]
    },
    {
     "data": {
      "text/plain": [
       "array([[ 0.33333333],\n",
       "       [-0.33333333]])"
      ]
     },
     "execution_count": 65,
     "metadata": {},
     "output_type": "execute_result"
    }
   ],
   "source": [
    "x = np.dot(Apinv, b)\n",
    "print(np.dot(A, x) - b)\n",
    "x, resid, rank, s = np.linalg.lstsq(A, b)\n",
    "x"
   ]
  },
  {
   "cell_type": "markdown",
   "metadata": {},
   "source": [
    "# 선형대수와 해석기하\n",
    "\n",
    "## 벡터의 기하학적 의미\n",
    "\n",
    "N 차원 벡터 a는 N 차원 공간에서 <br>\n",
    "    벡터 a 의 값으로 표시되는 point 또는 원점과 연결한 화살표로 간주할 수도 있음 \n",
    "    "
   ]
  },
  {
   "cell_type": "code",
   "execution_count": 68,
   "metadata": {},
   "outputs": [
    {
     "data": {
      "image/png": "[encoded data removed]",
      "text/plain": [
       "<matplotlib.figure.Figure at 0x91fa5f8>"
      ]
     },
     "metadata": {},
     "output_type": "display_data"
    }
   ],
   "source": [
    "import matplotlib.pylab as plt\n",
    "\n",
    "a = np.array([1, 2])\n",
    "\n",
    "plt.annotate('', xy=a, xytext=(0,0), arrowprops=dict(facecolor='black'))\n",
    "plt.plot(0, 0, 'ro', ms=10)\n",
    "plt.plot(a[0], a[1], 'ro', ms=10)\n",
    "plt.text(0.35, 1.15, \"$a$\", fontdict={\"size\": 18})\n",
    "plt.xticks(np.arange(-2, 4))\n",
    "plt.yticks(np.arange(-1, 4))\n",
    "plt.xlim(-2.4, 3.4)\n",
    "plt.ylim(-1.2, 3.2)\n",
    "plt.grid()\n",
    "plt.show()"
   ]
  },
  {
   "cell_type": "markdown",
   "metadata": {},
   "source": [
    "## 벡터의 길이\n",
    "2차원 벡터  aa 의 길이는 피타고라스 정리를 이용하여 놈(norm)으로 계산"
   ]
  },
  {
   "cell_type": "code",
   "execution_count": 69,
   "metadata": {},
   "outputs": [
    {
     "data": {
      "text/plain": [
       "2.2360679774997898"
      ]
     },
     "execution_count": 69,
     "metadata": {},
     "output_type": "execute_result"
    }
   ],
   "source": [
    "a = np.array([1,2])\n",
    "np.linalg.norm(a)"
   ]
  },
  {
   "cell_type": "markdown",
   "metadata": {},
   "source": [
    "## 단위 벡터\n",
    "\n",
    "길이가 1인 벡터"
   ]
  },
  {
   "cell_type": "code",
   "execution_count": 70,
   "metadata": {},
   "outputs": [
    {
     "data": {
      "text/plain": [
       "(1.0, 1.0, 0.99999999999999989)"
      ]
     },
     "execution_count": 70,
     "metadata": {},
     "output_type": "execute_result"
    }
   ],
   "source": [
    "a = np.array([1, 0])\n",
    "b = np.array([0, 1])\n",
    "c = np.array([1/np.sqrt(2), 1/np.sqrt(2)])\n",
    "np.linalg.norm(a), np.linalg.norm(b), np.linalg.norm(c)"
   ]
  },
  {
   "cell_type": "markdown",
   "metadata": {},
   "source": [
    "## 벡터와 실수의 곱\n",
    "\n",
    "벡터의 방향은 변하지 않고 실수의 크기만큼 벡터의 길이가 커짐\n",
    "\n",
    "음의 실수를 곱은 벡터의 방향이 반대가 됨"
   ]
  },
  {
   "cell_type": "code",
   "execution_count": 87,
   "metadata": {},
   "outputs": [
    {
     "data": {
      "image/png": "[encoded data removed]",
      "text/plain": [
       "<matplotlib.figure.Figure at 0x92e7710>"
      ]
     },
     "metadata": {},
     "output_type": "display_data"
    }
   ],
   "source": [
    "a = np.array([1, 2])\n",
    "b = 2 * a\n",
    "c = -1 * a\n",
    "\n",
    "plt.plot(0, 0, 'ro', ms=10)\n",
    "plt.plot(b[0], b[1], 'ro', ms=10)\n",
    "plt.annotate('', xy=b, xytext=(0,0), arrowprops=dict(facecolor='blue'))\n",
    "plt.text(0.4, 2.0, \"$a$\", fontdict={\"size\": 18})\n",
    "\n",
    "#plt.plot(0, 0, 'ro', ms=10)\n",
    "plt.plot(c[0], c[1], 'ro', ms=10)\n",
    "plt.annotate('', xy=c, xytext=(0,0), arrowprops=dict(facecolor='red'))\n",
    "\n",
    "plt.xticks(np.arange(-5, 6))\n",
    "plt.yticks(np.arange(-5, 6))\n",
    "plt.xlim(-2.4, 3.4)\n",
    "plt.ylim(-3.2, 5.2)\n",
    "plt.grid()\n",
    "plt.show()"
   ]
  },
  {
   "cell_type": "markdown",
   "metadata": {},
   "source": [
    "## 벡터의 합\n",
    "\n",
    "평행사변형의 다른 쪽 모서리의 위치"
   ]
  },
  {
   "cell_type": "code",
   "execution_count": 91,
   "metadata": {},
   "outputs": [
    {
     "data": {
      "image/png": "[encoded data removed]",
      "text/plain": [
       "<matplotlib.figure.Figure at 0x9506630>"
      ]
     },
     "metadata": {},
     "output_type": "display_data"
    }
   ],
   "source": [
    "a = np.array([1, 2])\n",
    "b = np.array([2, 1])\n",
    "c = a + b\n",
    "\n",
    "plt.annotate('', xy=a, xytext=(0,0), arrowprops=dict(facecolor='gray'))\n",
    "plt.annotate('', xy=b, xytext=(0,0), arrowprops=dict(facecolor='gray'))\n",
    "plt.annotate('', xy=c, xytext=(0,0), arrowprops=dict(facecolor='black'))\n",
    "\n",
    "plt.plot(0, 0, 'ro', ms=10)\n",
    "plt.plot(a[0], a[1], 'ro', ms=10)\n",
    "plt.plot(b[0], b[1], 'ro', ms=10)\n",
    "plt.plot(c[0], c[1], 'ro', ms=10)\n",
    "plt.plot([a[0], c[0]], [a[1], c[1]], 'k--')\n",
    "plt.plot([b[0], c[0]], [b[1], c[1]], 'k--')\n",
    "\n",
    "plt.text(0.35, 1.15, \"$a$\", fontdict={\"size\": 18})\n",
    "plt.text(1.15, 0.25, \"$b$\", fontdict={\"size\": 18})\n",
    "plt.text(1.25, 1.45, \"$c$\", fontdict={\"size\": 18})\n",
    "\n",
    "plt.xticks(np.arange(-2, 5))\n",
    "plt.yticks(np.arange(-1, 4))\n",
    "plt.xlim(-0.7, 3.4)\n",
    "plt.ylim(-0.6, 3.5)\n",
    "plt.grid()\n",
    "plt.show()"
   ]
  },
  {
   "cell_type": "markdown",
   "metadata": {},
   "source": [
    "벡터의 끝점을 차례대로 연결해 마지막 벡터가 가리키는 점으로 계산"
   ]
  },
  {
   "cell_type": "code",
   "execution_count": 93,
   "metadata": {},
   "outputs": [
    {
     "data": {
      "image/png": "[encoded data removed]",
      "text/plain": [
       "<matplotlib.figure.Figure at 0x92994a8>"
      ]
     },
     "metadata": {},
     "output_type": "display_data"
    }
   ],
   "source": [
    "a = np.array([1, 2])\n",
    "b = np.array([2, 1])\n",
    "c = a + b\n",
    "\n",
    "plt.annotate('', xy=a, xytext=(0,0), arrowprops=dict(facecolor='gray'))\n",
    "plt.annotate('', xy=c, xytext=a, arrowprops=dict(facecolor='gray'))\n",
    "plt.annotate('', xy=c, xytext=(0,0), arrowprops=dict(facecolor='black'))\n",
    "\n",
    "plt.plot(0, 0, 'ro', ms=10)\n",
    "plt.plot(a[0], a[1], 'ro', ms=10)\n",
    "plt.plot(c[0], c[1], 'ro', ms=10)\n",
    "\n",
    "plt.text(0.35, 1.15, \"$a$\", fontdict={\"size\": 18})\n",
    "plt.text(1.45, 2.45, \"$b$\", fontdict={\"size\": 18})\n",
    "plt.text(1.25, 1.45, \"$c$\", fontdict={\"size\": 18})\n",
    "\n",
    "plt.xticks(np.arange(-2, 5))\n",
    "plt.yticks(np.arange(-1, 4))\n",
    "plt.xlim(-0.7, 3.4)\n",
    "plt.ylim(-0.6, 3.5)\n",
    "plt.grid()\n",
    "plt.show()"
   ]
  },
  {
   "cell_type": "code",
   "execution_count": 94,
   "metadata": {},
   "outputs": [
    {
     "data": {
      "image/png": "[encoded data removed]",
      "text/plain": [
       "<matplotlib.figure.Figure at 0x91f8780>"
      ]
     },
     "metadata": {},
     "output_type": "display_data"
    }
   ],
   "source": [
    "a = np.array([1, 2])\n",
    "b = np.array([2, 1])\n",
    "c = a + b\n",
    "\n",
    "plt.annotate('', xy=b, xytext=(0,0), arrowprops=dict(facecolor='gray'))\n",
    "plt.annotate('', xy=c, xytext=b, arrowprops=dict(facecolor='gray'))\n",
    "plt.annotate('', xy=c, xytext=(0,0), arrowprops=dict(facecolor='black'))\n",
    "\n",
    "plt.plot(0, 0, 'ro', ms=10)\n",
    "plt.plot(b[0], b[1], 'ro', ms=10)\n",
    "plt.plot(c[0], c[1], 'ro', ms=10)\n",
    "\n",
    "plt.text(2.45, 1.55, \"$a$\", fontdict={\"size\": 18})\n",
    "plt.text(1.25, 0.25, \"$b$\", fontdict={\"size\": 18})\n",
    "plt.text(1.25, 1.45, \"$c$\", fontdict={\"size\": 18})\n",
    "\n",
    "plt.xticks(np.arange(-2, 5))\n",
    "plt.yticks(np.arange(-1, 4))\n",
    "plt.xlim(-0.7, 3.4)\n",
    "plt.ylim(-0.6, 3.5)\n",
    "plt.grid()\n",
    "plt.show()"
   ]
  },
  {
   "cell_type": "markdown",
   "metadata": {},
   "source": [
    "## 벡터의 차\n",
    "벡터  b 가 가리키는 점으로부터 벡터  a 가 가리키는 점을 연결하는 벡터\n",
    "\n",
    "$a - b = c$"
   ]
  },
  {
   "cell_type": "code",
   "execution_count": 95,
   "metadata": {},
   "outputs": [
    {
     "data": {
      "image/png": "[encoded data removed]",
      "text/plain": [
       "<matplotlib.figure.Figure at 0x9540160>"
      ]
     },
     "metadata": {},
     "output_type": "display_data"
    }
   ],
   "source": [
    "\n",
    "a = np.array([1, 2])\n",
    "b = np.array([2, 1])\n",
    "c = a - b\n",
    "\n",
    "plt.annotate('', xy=a, xytext=(0,0), arrowprops=dict(facecolor='gray'))\n",
    "plt.annotate('', xy=b, xytext=(0,0), arrowprops=dict(facecolor='gray'))\n",
    "plt.annotate('', xy=a, xytext=b, arrowprops=dict(facecolor='black'))\n",
    "\n",
    "plt.plot(0, 0, 'ro', ms=10)\n",
    "plt.plot(a[0], a[1], 'ro', ms=10)\n",
    "plt.plot(b[0], b[1], 'ro', ms=10)\n",
    "\n",
    "plt.text(0.35, 1.15, \"$a$\", fontdict={\"size\": 18})\n",
    "plt.text(1.15, 0.25, \"$b$\", fontdict={\"size\": 18})\n",
    "plt.text(1.55, 1.65, \"$a-b$\", fontdict={\"size\": 18})\n",
    "\n",
    "plt.xticks(np.arange(-2, 5))\n",
    "plt.yticks(np.arange(-1, 4))\n",
    "plt.xlim(-0.7, 3.4)\n",
    "plt.ylim(-0.6, 3.5)\n",
    "plt.grid()\n",
    "plt.show()"
   ]
  },
  {
   "cell_type": "markdown",
   "metadata": {},
   "source": [
    "## Word2Vec\n",
    "\n",
    "하나의 단어를 공간상의 벡터로 표현, <br>\n",
    "단어의 의미에 따라 다름과 같은 평행사변형 관계를 가질 수도 있다.\n",
    "\n",
    ">woman = man + (queen - king)\n"
   ]
  },
  {
   "cell_type": "code",
   "execution_count": 96,
   "metadata": {},
   "outputs": [
    {
     "data": {
      "image/png": "[encoded data removed]",
      "text/plain": [
       "<matplotlib.figure.Figure at 0x9631278>"
      ]
     },
     "metadata": {},
     "output_type": "display_data"
    }
   ],
   "source": [
    "a = np.array([1, 2])\n",
    "b = np.array([2, 1])\n",
    "c = a + b\n",
    "\n",
    "plt.annotate('', xy=a, xytext=(0,0), arrowprops=dict(facecolor='gray'))\n",
    "plt.annotate('', xy=b, xytext=(0,0), arrowprops=dict(facecolor='gray'))\n",
    "plt.annotate('', xy=a+b, xytext=b, arrowprops=dict(facecolor='gray'))\n",
    "\n",
    "plt.plot(0, 0, 'ro', ms=10)\n",
    "plt.plot(a[0], a[1], 'ro', ms=10)\n",
    "plt.plot(b[0], b[1], 'ro', ms=10)\n",
    "plt.plot(c[0], c[1], 'ro', ms=10)\n",
    "\n",
    "plt.text(-0.35, -0.35, \"$king$\", fontdict={\"size\": 18})\n",
    "plt.text(0.55, 2.35, \"$queen$\", fontdict={\"size\": 18})\n",
    "plt.text(1.95, 0.65, \"$man$\", fontdict={\"size\": 18})\n",
    "plt.text(2.95, 3.15, \"$woman$\", fontdict={\"size\": 18})\n",
    "\n",
    "plt.xticks(np.arange(-2, 5))\n",
    "plt.yticks(np.arange(-1, 4))\n",
    "plt.xlim(-0.7, 3.4)\n",
    "plt.ylim(-0.6, 3.5)\n",
    "plt.grid()\n",
    "plt.show()"
   ]
  },
  {
   "cell_type": "markdown",
   "metadata": {},
   "source": [
    "## 벡터의 분해와 성분\n",
    "\n",
    "어떤 두 백터 a,b 의 합이 다른 벡터 c 가 될때  <br>\n",
    "c가 두 벡터 성분 a,b로 분해 된다\n",
    "\n",
    "## 두 벡터의 내적\n",
    "\n",
    "두 벡터의 길이와 사이의 각도 $\\theta$ 로 계산\n",
    "\n",
    "## 벡터의 직교\n",
    "\n",
    "두 벡터  a 와  b 가 이루는 각이 90도이면 서로 직교(orthogonal) <br>\n",
    "벡터의 벡터 내적(inner product, dot product)는 0\n",
    "\n",
    "## 투영\n",
    "\n",
    "벡터  a 를 다른 벡터  b 에 직교하는 성분  a1 과 벡터  b 에 평행한 성분  a2 로 분해<br>\n",
    "a2 의 길이를 벡터 a 의 벡터 b 에 대한 투영(projection)\n",
    "\n"
   ]
  },
  {
   "cell_type": "code",
   "execution_count": 1,
   "metadata": {},
   "outputs": [
    {
     "ename": "NameError",
     "evalue": "name 'np' is not defined",
     "output_type": "error",
     "traceback": [
      "\u001b[1;31m----------------------------------------------------------------------\u001b[0m",
      "\u001b[1;31mNameError\u001b[0m                            Traceback (most recent call last)",
      "\u001b[1;32m<ipython-input-1-1adee06af499>\u001b[0m in \u001b[0;36m<module>\u001b[1;34m()\u001b[0m\n\u001b[1;32m----> 1\u001b[1;33m \u001b[0ma\u001b[0m \u001b[1;33m=\u001b[0m \u001b[0mnp\u001b[0m\u001b[1;33m.\u001b[0m\u001b[0marray\u001b[0m\u001b[1;33m(\u001b[0m\u001b[1;33m[\u001b[0m\u001b[1;36m1\u001b[0m\u001b[1;33m,\u001b[0m \u001b[1;36m2\u001b[0m\u001b[1;33m]\u001b[0m\u001b[1;33m)\u001b[0m\u001b[1;33m\u001b[0m\u001b[0m\n\u001b[0m\u001b[0;32m      2\u001b[0m \u001b[0mb\u001b[0m \u001b[1;33m=\u001b[0m \u001b[0mnp\u001b[0m\u001b[1;33m.\u001b[0m\u001b[0marray\u001b[0m\u001b[1;33m(\u001b[0m\u001b[1;33m[\u001b[0m\u001b[1;36m2\u001b[0m\u001b[1;33m,\u001b[0m \u001b[1;36m0\u001b[0m\u001b[1;33m]\u001b[0m\u001b[1;33m)\u001b[0m\u001b[1;33m\u001b[0m\u001b[0m\n\u001b[0;32m      3\u001b[0m \u001b[0ma2\u001b[0m \u001b[1;33m=\u001b[0m \u001b[0mnp\u001b[0m\u001b[1;33m.\u001b[0m\u001b[0mdot\u001b[0m\u001b[1;33m(\u001b[0m\u001b[0ma\u001b[0m\u001b[1;33m,\u001b[0m \u001b[0mb\u001b[0m\u001b[1;33m)\u001b[0m\u001b[1;33m/\u001b[0m\u001b[0mnp\u001b[0m\u001b[1;33m.\u001b[0m\u001b[0mlinalg\u001b[0m\u001b[1;33m.\u001b[0m\u001b[0mnorm\u001b[0m\u001b[1;33m(\u001b[0m\u001b[0mb\u001b[0m\u001b[1;33m)\u001b[0m \u001b[1;33m*\u001b[0m \u001b[0mnp\u001b[0m\u001b[1;33m.\u001b[0m\u001b[0marray\u001b[0m\u001b[1;33m(\u001b[0m\u001b[1;33m[\u001b[0m\u001b[1;36m1\u001b[0m\u001b[1;33m,\u001b[0m \u001b[1;36m0\u001b[0m\u001b[1;33m]\u001b[0m\u001b[1;33m)\u001b[0m\u001b[1;33m\u001b[0m\u001b[0m\n\u001b[0;32m      4\u001b[0m \u001b[0ma1\u001b[0m \u001b[1;33m=\u001b[0m \u001b[0ma\u001b[0m \u001b[1;33m-\u001b[0m \u001b[0ma2\u001b[0m\u001b[1;33m\u001b[0m\u001b[0m\n\u001b[0;32m      5\u001b[0m \u001b[1;33m\u001b[0m\u001b[0m\n",
      "\u001b[1;31mNameError\u001b[0m: name 'np' is not defined"
     ]
    }
   ],
   "source": [
    "a = np.array([1, 2])\n",
    "b = np.array([2, 0])\n",
    "a2 = np.dot(a, b)/np.linalg.norm(b) * np.array([1, 0])\n",
    "a1 = a - a2\n",
    "\n",
    "plt.annotate('', xy=a, xytext=(0,0), arrowprops=dict(facecolor='gray'))\n",
    "plt.annotate('', xy=b, xytext=(0,0), arrowprops=dict(facecolor='gray'))\n",
    "plt.annotate('', xy=a2, xytext=(0,0), arrowprops=dict(facecolor='green'))\n",
    "plt.annotate('', xy=a1, xytext=(0,0), arrowprops=dict(facecolor='green'))\n",
    "\n",
    "plt.plot(0, 0, 'ro', ms=10)\n",
    "plt.plot(a[0], a[1], 'ro', ms=10)\n",
    "plt.plot(b[0], b[1], 'ro', ms=10)\n",
    "\n",
    "plt.text(0.35, 1.15, \"$a$\", fontdict={\"size\": 18})\n",
    "plt.text(1.55, 0.15, \"$b$\", fontdict={\"size\": 18})\n",
    "plt.text(-0.35, 1.05, \"$a_1$\", fontdict={\"size\": 18})\n",
    "plt.text(0.50, 0.15, \"$a_2$\", fontdict={\"size\": 18})\n",
    "\n",
    "plt.xticks(np.arange(-2, 4))\n",
    "plt.yticks(np.arange(-1, 4))\n",
    "plt.xlim(-0.7, 3.4)\n",
    "plt.ylim(-0.6, 3.5)\n",
    "plt.grid()\n",
    "plt.show()"
   ]
  },
  {
   "cell_type": "markdown",
   "metadata": {},
   "source": [
    "## 직선의 방정식\n"
   ]
  },
  {
   "cell_type": "code",
   "execution_count": null,
   "metadata": {
    "collapsed": true
   },
   "outputs": [],
   "source": []
  }
 ],
 "metadata": {
  "kernelspec": {
   "display_name": "Python 3",
   "language": "python",
   "name": "python3"
  },
  "language_info": {
   "codemirror_mode": {
    "name": "ipython",
    "version": 3
   },
   "file_extension": ".py",
   "mimetype": "text/x-python",
   "name": "python",
   "nbconvert_exporter": "python",
   "pygments_lexer": "ipython3",
   "version": "3.6.1"
  }
 },
 "nbformat": 4,
 "nbformat_minor": 2
}
