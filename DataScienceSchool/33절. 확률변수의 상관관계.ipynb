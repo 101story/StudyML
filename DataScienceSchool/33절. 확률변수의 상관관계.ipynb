{
 "cells": [
  {
   "cell_type": "code",
   "execution_count": 2,
   "metadata": {
    "collapsed": true
   },
   "outputs": [],
   "source": [
    "import scipy as sp\n",
    "from scipy import stats, optimize, interpolate\n",
    "import matplotlib.pyplot as plt\n",
    "import pandas as pd\n",
    "import numpy as np\n",
    "import seaborn as sns \n",
    "\n",
    "from IPython.core.interactiveshell import InteractiveShell\n",
    "InteractiveShell.ast_node_interactivity = \"all\" #'last' 기본값"
   ]
  },
  {
   "cell_type": "markdown",
   "metadata": {},
   "source": [
    "# 33절: 결합확률과 조건부확률\n",
    "\n",
    "# 다변수 이산확률변수의 결합/조건부확률\n",
    "\n",
    "## 다변수 이산확률변수\n",
    "\n",
    "카테고리 값을 가질 수 있는 이산확률변수가 두 개 이상 있는 경우 확률분포 쌍이 가지는 복합적인 확률분포를 살펴보아야 한다.\n",
    "\n",
    "$P_X(1)$ \n",
    "\n",
    "확률변수 X의 값이 1이 나올 확률 \n",
    "\n",
    "## 결합 확률질량함수\n",
    "\n",
    "두 개의 값, 즉 특정한 숫자 쌍이 나타나는 경우\n",
    "\n",
    "하나의 숫자 쌍만을 가지는 사건,즉 아톰(atom) 사건에 대한 확률만 알고 있으면\n",
    "임의의 숫자 쌍 집합 즉, 임의의 사건에 대해서도 확률을 계산할 수 있다. \n",
    "\n",
    "하나 하나의 숫자 쌍에 대해 확률을 알려주는 확률질량함수만 있으면 전체 확률분포를 알 수 있다. 이러한 확률질량함수를 결합 확률질량함수(joint probability mass function)이라고 한다.\n",
    "\n",
    "$P_{XY}(x, y)$ \n",
    "두개의 숫자의 쌍 (독립변수) x,y, 종속변수는 그 숫자 쌍이 나타날 확률\n",
    "\n",
    "동전을 3번 던지는 경우 앞앞앞, 앞앞뒤, 앞뒤뒤.. \n",
    "\n",
    "6개의 카테고리 값을 가지는 두 개의 이산확률변수의 확률질량함수 예"
   ]
  },
  {
   "cell_type": "code",
   "execution_count": 3,
   "metadata": {},
   "outputs": [
    {
     "data": {
      "text/plain": [
       "array([[ 0.02,  0.04,  0.02,  0.  ,  0.  ,  0.  ],\n",
       "       [ 0.  ,  0.04,  0.06,  0.02,  0.  ,  0.  ],\n",
       "       [ 0.  ,  0.08,  0.12,  0.08,  0.02,  0.  ],\n",
       "       [ 0.  ,  0.02,  0.08,  0.12,  0.08,  0.  ],\n",
       "       [ 0.  ,  0.  ,  0.02,  0.06,  0.04,  0.  ],\n",
       "       [ 0.  ,  0.  ,  0.  ,  0.02,  0.04,  0.02]])"
      ]
     },
     "execution_count": 3,
     "metadata": {},
     "output_type": "execute_result"
    }
   ],
   "source": [
    "pmf = np.array([[1, 2, 1, 0, 0, 0],\n",
    "                [0, 2, 3, 1, 0, 0],\n",
    "                [0, 4, 6, 4, 1, 0],\n",
    "                [0, 1, 4, 6, 4, 0],\n",
    "                [0, 0, 1, 3, 2, 0],\n",
    "                [0, 0, 0, 1, 2, 1]])\n",
    "pmf = pmf/pmf.sum()\n",
    "pmf"
   ]
  },
  {
   "cell_type": "code",
   "execution_count": 4,
   "metadata": {},
   "outputs": [
    {
     "data": {
      "text/plain": [
       "<matplotlib.text.Text at 0xabf6e48>"
      ]
     },
     "execution_count": 4,
     "metadata": {},
     "output_type": "execute_result"
    },
    {
     "data": {
      "text/plain": [
       "<matplotlib.text.Text at 0xad17128>"
      ]
     },
     "execution_count": 4,
     "metadata": {},
     "output_type": "execute_result"
    },
    {
     "data": {
      "text/plain": [
       "<matplotlib.text.Text at 0xad43978>"
      ]
     },
     "execution_count": 4,
     "metadata": {},
     "output_type": "execute_result"
    },
    {
     "data": {
      "image/png": "[encoded data removed]",
      "text/plain": [
       "<matplotlib.figure.Figure at 0xabcc3c8>"
      ]
     },
     "metadata": {},
     "output_type": "display_data"
    }
   ],
   "source": [
    "ax = sns.heatmap(pmf)\n",
    "ax.xaxis.tick_top()\n",
    "ax.xaxis.set_label_position(\"top\")\n",
    "plt.xlabel(\"x\")\n",
    "plt.ylabel(\"y\")\n",
    "plt.title(\"Joint Probability Mass Function P(x,y)\", y=-0.1)\n",
    "plt.show()"
   ]
  },
  {
   "cell_type": "markdown",
   "metadata": {},
   "source": [
    "## 주변 확률질량함수\n",
    "\n",
    "두 확률변수 중 하나의 확률변수 값에 대해서만 확률분포를 표시한 함수 <br>\n",
    "즉, 다변수가 되기 이전의 단변수 확률질량함수\n",
    "\n",
    "결합 확률질량함수에서 주변 확률질량함수를 구하려면 <br>\n",
    "전체 확률의 법칙에 의해 다른 변수가 가질 수 있는 모든 값의 결합확률질량함수를 합한 확률이 된다.\n",
    "\n",
    "$\\begin{align}%\\label{}\n",
    "\\nonumber  P_X(x) = \\sum_{y_i} f_{XY}(x,y_i) \\\\\n",
    "\\nonumber  P_Y(y) = \\sum_{x_i} f_{XY}(x_i,y) \\\\\n",
    "\\end{align}$"
   ]
  },
  {
   "cell_type": "code",
   "execution_count": 5,
   "metadata": {},
   "outputs": [
    {
     "data": {
      "text/plain": [
       "array([ 0.02,  0.18,  0.3 ,  0.3 ,  0.18,  0.02])"
      ]
     },
     "execution_count": 5,
     "metadata": {},
     "output_type": "execute_result"
    },
    {
     "data": {
      "text/plain": [
       "array([[ 0.08],\n",
       "       [ 0.12],\n",
       "       [ 0.3 ],\n",
       "       [ 0.3 ],\n",
       "       [ 0.12],\n",
       "       [ 0.08]])"
      ]
     },
     "execution_count": 5,
     "metadata": {},
     "output_type": "execute_result"
    }
   ],
   "source": [
    "pmf_marginal_x = pmf.sum(axis=0)\n",
    "pmf_marginal_x\n",
    "pmf_marginal_y = pmf.sum(axis=1)\n",
    "pmf_marginal_y[:, np.newaxis]"
   ]
  },
  {
   "cell_type": "markdown",
   "metadata": {},
   "source": [
    "## 조건부 확률질량함수\n",
    "\n",
    "조건부 확률질량함수(conditional probability mass function)는 <br>\n",
    "다변수 확률변수 중 하나의 값이 특정 값으로 고정되어 상수가 되어 버린 경우, <br> \n",
    "나머지 변수에 대한 확률질량함수를 말한다.\n",
    "\n",
    "조건부 확률질량함수의 모양은 결합질량함수 PXY(x,y) 에서 y 값이 고정된 함수, 즉, 결합질량함수의 단면과 같아진다.\n",
    "\n",
    "다만 조건부 확률질량함수의 합은 1이 된다.\n"
   ]
  },
  {
   "cell_type": "markdown",
   "metadata": {},
   "source": [
    "# 다변수 연속확률변수의 결합/조건부확률\n",
    "\n",
    "연속확률분포에서는 단변수 연속확률변수처럼 누적확률분포함수를 먼저 정의한 후 이를 미분하여 확률밀도함수를 정의하는 방법을 사용\n",
    "\n",
    "## 결합 누적확률분포함수\n",
    "$F_{XY}(x, y) = P(\\{ X < x \\} \\cap \\{ Y < y \\}) = P(X < x, Y < y)$\n",
    "\n",
    "구간의 끝을 나타내는 두 독립 변수 x, y 중 하나가 무한대 값을 가지는 경우 <br>\n",
    "해당 변수의 값은 어떤 값을 가져도 상관없으므로 남은 하나의 변수에 대한 누적확률분포함수로 줄어든다. 이를 주변 누적확률분포(marginal cumulative probability distribution)이라고 한다.\n",
    "\n",
    "\n",
    "## 결합 확률밀도함수\n",
    "\n",
    "\n"
   ]
  },
  {
   "cell_type": "code",
   "execution_count": null,
   "metadata": {
    "collapsed": true
   },
   "outputs": [],
   "source": []
  }
 ],
 "metadata": {
  "kernelspec": {
   "display_name": "Python 3",
   "language": "python",
   "name": "python3"
  },
  "language_info": {
   "codemirror_mode": {
    "name": "ipython",
    "version": 3
   },
   "file_extension": ".py",
   "mimetype": "text/x-python",
   "name": "python",
   "nbconvert_exporter": "python",
   "pygments_lexer": "ipython3",
   "version": "3.6.1"
  }
 },
 "nbformat": 4,
 "nbformat_minor": 2
}
