{
 "cells": [
  {
   "cell_type": "code",
   "execution_count": 1,
   "metadata": {
    "collapsed": true
   },
   "outputs": [],
   "source": [
    "import scipy as sp\n",
    "from scipy import stats, optimize, interpolate\n",
    "import matplotlib.pyplot as plt\n",
    "import pandas as pd\n",
    "import numpy as np\n",
    "import seaborn as sns \n",
    "\n",
    "from IPython.core.interactiveshell import InteractiveShell\n",
    "InteractiveShell.ast_node_interactivity = \"all\" #'last' 기본값"
   ]
  },
  {
   "cell_type": "markdown",
   "metadata": {},
   "source": [
    "# 27절: 베르누이 분포와 이항 분포\n",
    "\n",
    "# 베르누이 확률 분포\n",
    "\n",
    "## 베르누이 시도\n",
    "\n",
    "결과가 성공(Success) 혹은 실패(Fail) 두 가지 중 하나로만 나오는 것\n",
    "\n",
    "## 베르누이 분포\n",
    "\n",
    "확률 질량 함수(pmf: probability mass function)로 정의\n",
    "\n",
    "$\\text{Bern}(x;\\theta) = \n",
    "\\begin{cases} \n",
    "\\theta   & \\text{if }x=1, \\\\\n",
    "1-\\theta & \\text{if }x=0\n",
    "\\end{cases}$\n",
    "\n",
    "하나의 수식으로 표현\n",
    "\n",
    "$\\text{Bern}(x;\\theta) = \\theta^x(1-\\theta)^{(1-x)}$\n",
    "\n",
    "## SciPy를 사용한 베르누이 분포의 시뮬레이션\n",
    "\n",
    "rv.pmf(xx) : 확률 질량 함수(pmf: probability mass function)를 계산<br>\n",
    "p 모수 $\\theta$"
   ]
  },
  {
   "cell_type": "code",
   "execution_count": null,
   "metadata": {
    "collapsed": true
   },
   "outputs": [],
   "source": []
  },
  {
   "cell_type": "code",
   "execution_count": 2,
   "metadata": {},
   "outputs": [
    {
     "data": {
      "text/plain": [
       "<Container object of 2 artists>"
      ]
     },
     "execution_count": 2,
     "metadata": {},
     "output_type": "execute_result"
    },
    {
     "data": {
      "text/plain": [
       "(-1, 2)"
      ]
     },
     "execution_count": 2,
     "metadata": {},
     "output_type": "execute_result"
    },
    {
     "data": {
      "text/plain": [
       "(0, 1)"
      ]
     },
     "execution_count": 2,
     "metadata": {},
     "output_type": "execute_result"
    },
    {
     "data": {
      "text/plain": [
       "([<matplotlib.axis.XTick at 0xabce0f0>, <matplotlib.axis.XTick at 0xabf8f28>],\n",
       " <a list of 2 Text xticklabel objects>)"
      ]
     },
     "execution_count": 2,
     "metadata": {},
     "output_type": "execute_result"
    },
    {
     "data": {
      "text/plain": [
       "<matplotlib.text.Text at 0xabdf048>"
      ]
     },
     "execution_count": 2,
     "metadata": {},
     "output_type": "execute_result"
    },
    {
     "data": {
      "text/plain": [
       "<matplotlib.text.Text at 0xad43cc0>"
      ]
     },
     "execution_count": 2,
     "metadata": {},
     "output_type": "execute_result"
    },
    {
     "data": {
      "image/png": "[encoded data removed]",
      "text/plain": [
       "<matplotlib.figure.Figure at 0x4cd46d8>"
      ]
     },
     "metadata": {},
     "output_type": "display_data"
    }
   ],
   "source": [
    "theta = 0.6\n",
    "rv = sp.stats.bernoulli(theta)\n",
    "\n",
    "xx = [0, 1]\n",
    "plt.bar(xx, rv.pmf(xx), align=\"center\")\n",
    "plt.xlim(-1, 2)\n",
    "plt.ylim(0, 1)\n",
    "plt.xticks([0, 1], [\"X=0\", \"X=1\"])\n",
    "plt.ylabel(\"P(x)\")\n",
    "plt.title(\"pmf of Bernoulli distribution\")\n",
    "plt.show()"
   ]
  },
  {
   "cell_type": "markdown",
   "metadata": {},
   "source": [
    "시뮬레이션을 하려면 rvs "
   ]
  },
  {
   "cell_type": "code",
   "execution_count": 3,
   "metadata": {},
   "outputs": [
    {
     "data": {
      "text/plain": [
       "array([1, 0, 0, 1, 1, 0, 1, 0, 0, 1, 0, 1, 1, 0, 1, 1, 1, 0, 0, 0, 0, 0, 1,\n",
       "       0, 1, 0, 1, 0, 1, 1, 1, 0, 1, 1, 1, 0, 0, 0, 0, 0, 1, 1, 0, 1, 0, 0,\n",
       "       1, 1, 1, 1, 1, 1, 0, 1, 1, 1, 0, 1, 1, 1, 1, 1, 0, 1, 1, 1, 0, 1, 0,\n",
       "       1, 0, 1, 0, 0, 0, 1, 1, 1, 1, 1, 1, 1, 1, 0, 1, 1, 1, 1, 1, 0, 1, 0,\n",
       "       1, 0, 1, 1, 1, 1, 0, 1])"
      ]
     },
     "execution_count": 3,
     "metadata": {},
     "output_type": "execute_result"
    }
   ],
   "source": [
    "x = rv.rvs(100, random_state=0)\n",
    "x"
   ]
  },
  {
   "cell_type": "markdown",
   "metadata": {},
   "source": [
    "결과를 seaborn의 countplot 명령으로 시각화"
   ]
  },
  {
   "cell_type": "code",
   "execution_count": 4,
   "metadata": {},
   "outputs": [
    {
     "data": {
      "text/plain": [
       "<matplotlib.axes._subplots.AxesSubplot at 0xab8d8d0>"
      ]
     },
     "execution_count": 4,
     "metadata": {},
     "output_type": "execute_result"
    },
    {
     "data": {
      "image/png": "[encoded data removed]",
      "text/plain": [
       "<matplotlib.figure.Figure at 0xa7462b0>"
      ]
     },
     "metadata": {},
     "output_type": "display_data"
    }
   ],
   "source": [
    "sns.countplot(x)\n",
    "plt.show()"
   ]
  },
  {
   "cell_type": "markdown",
   "metadata": {},
   "source": [
    "확률 분포와 샘플의 확률 분포를 동시에 출력"
   ]
  },
  {
   "cell_type": "code",
   "execution_count": 5,
   "metadata": {},
   "outputs": [
    {
     "data": {
      "text/html": [
       "<div>\n",
       "<style>\n",
       "    .dataframe thead tr:only-child th {\n",
       "        text-align: right;\n",
       "    }\n",
       "\n",
       "    .dataframe thead th {\n",
       "        text-align: left;\n",
       "    }\n",
       "\n",
       "    .dataframe tbody tr th {\n",
       "        vertical-align: top;\n",
       "    }\n",
       "</style>\n",
       "<table border=\"1\" class=\"dataframe\">\n",
       "  <thead>\n",
       "    <tr style=\"text-align: right;\">\n",
       "      <th></th>\n",
       "      <th>simulation</th>\n",
       "      <th>theoretic</th>\n",
       "    </tr>\n",
       "  </thead>\n",
       "  <tbody>\n",
       "    <tr>\n",
       "      <th>0</th>\n",
       "      <td>0.38</td>\n",
       "      <td>0.4</td>\n",
       "    </tr>\n",
       "    <tr>\n",
       "      <th>1</th>\n",
       "      <td>0.62</td>\n",
       "      <td>0.6</td>\n",
       "    </tr>\n",
       "  </tbody>\n",
       "</table>\n",
       "</div>"
      ],
      "text/plain": [
       "   simulation  theoretic\n",
       "0        0.38        0.4\n",
       "1        0.62        0.6"
      ]
     },
     "execution_count": 5,
     "metadata": {},
     "output_type": "execute_result"
    }
   ],
   "source": [
    "y = np.bincount(x, minlength=2) / float(len(x))\n",
    "\n",
    "df = pd.DataFrame({\"theoretic\": rv.pmf(xx), \"simulation\": y})\n",
    "df.index = [0, 1]\n",
    "df"
   ]
  },
  {
   "cell_type": "markdown",
   "metadata": {},
   "source": [
    "seaborn의 barplot 명령으로 시각화"
   ]
  },
  {
   "cell_type": "code",
   "execution_count": 6,
   "metadata": {},
   "outputs": [
    {
     "data": {
      "text/html": [
       "<div>\n",
       "<style>\n",
       "    .dataframe thead tr:only-child th {\n",
       "        text-align: right;\n",
       "    }\n",
       "\n",
       "    .dataframe thead th {\n",
       "        text-align: left;\n",
       "    }\n",
       "\n",
       "    .dataframe tbody tr th {\n",
       "        vertical-align: top;\n",
       "    }\n",
       "</style>\n",
       "<table border=\"1\" class=\"dataframe\">\n",
       "  <thead>\n",
       "    <tr style=\"text-align: right;\">\n",
       "      <th></th>\n",
       "      <th>value</th>\n",
       "      <th>type</th>\n",
       "      <th>ratio</th>\n",
       "    </tr>\n",
       "  </thead>\n",
       "  <tbody>\n",
       "    <tr>\n",
       "      <th>0</th>\n",
       "      <td>0</td>\n",
       "      <td>simulation</td>\n",
       "      <td>0.38</td>\n",
       "    </tr>\n",
       "    <tr>\n",
       "      <th>1</th>\n",
       "      <td>0</td>\n",
       "      <td>theoretic</td>\n",
       "      <td>0.40</td>\n",
       "    </tr>\n",
       "    <tr>\n",
       "      <th>2</th>\n",
       "      <td>1</td>\n",
       "      <td>simulation</td>\n",
       "      <td>0.62</td>\n",
       "    </tr>\n",
       "    <tr>\n",
       "      <th>3</th>\n",
       "      <td>1</td>\n",
       "      <td>theoretic</td>\n",
       "      <td>0.60</td>\n",
       "    </tr>\n",
       "  </tbody>\n",
       "</table>\n",
       "</div>"
      ],
      "text/plain": [
       "   value        type  ratio\n",
       "0      0  simulation   0.38\n",
       "1      0   theoretic   0.40\n",
       "2      1  simulation   0.62\n",
       "3      1   theoretic   0.60"
      ]
     },
     "execution_count": 6,
     "metadata": {},
     "output_type": "execute_result"
    }
   ],
   "source": [
    "df2 = df.stack().reset_index()\n",
    "df2.columns = [\"value\", \"type\", \"ratio\"]\n",
    "df2"
   ]
  },
  {
   "cell_type": "code",
   "execution_count": 7,
   "metadata": {},
   "outputs": [
    {
     "data": {
      "text/plain": [
       "<matplotlib.axes._subplots.AxesSubplot at 0xbdde630>"
      ]
     },
     "execution_count": 7,
     "metadata": {},
     "output_type": "execute_result"
    },
    {
     "data": {
      "image/png": "[encoded data removed]",
      "text/plain": [
       "<matplotlib.figure.Figure at 0xbe381d0>"
      ]
     },
     "metadata": {},
     "output_type": "display_data"
    }
   ],
   "source": [
    "sns.barplot(x=\"value\", y=\"ratio\", hue=\"type\", data=df2)\n",
    "plt.show()"
   ]
  },
  {
   "cell_type": "markdown",
   "metadata": {},
   "source": [
    "## 베르누이 분포의 모멘트\n",
    "\n",
    "기댓값, 분산\n"
   ]
  },
  {
   "cell_type": "code",
   "execution_count": 8,
   "metadata": {},
   "outputs": [
    {
     "data": {
      "text/plain": [
       "0.62"
      ]
     },
     "execution_count": 8,
     "metadata": {},
     "output_type": "execute_result"
    },
    {
     "data": {
      "text/plain": [
       "0.23797979797979804"
      ]
     },
     "execution_count": 8,
     "metadata": {},
     "output_type": "execute_result"
    }
   ],
   "source": [
    "np.mean(x)\n",
    "np.var(x, ddof=1)\n"
   ]
  },
  {
   "cell_type": "code",
   "execution_count": 9,
   "metadata": {},
   "outputs": [
    {
     "data": {
      "text/plain": [
       "DescribeResult(nobs=100, minmax=(0, 1), mean=0.62, variance=0.23797979797979804, skewness=-0.4944513860581973, kurtosis=-1.755517826825128)"
      ]
     },
     "execution_count": 9,
     "metadata": {},
     "output_type": "execute_result"
    },
    {
     "data": {
      "text/plain": [
       "count    100.000000\n",
       "mean       0.620000\n",
       "std        0.487832\n",
       "min        0.000000\n",
       "25%        0.000000\n",
       "50%        1.000000\n",
       "75%        1.000000\n",
       "max        1.000000\n",
       "dtype: float64"
      ]
     },
     "execution_count": 9,
     "metadata": {},
     "output_type": "execute_result"
    }
   ],
   "source": [
    "s = sp.stats.describe(x)\n",
    "s\n",
    "pd.Series(x).describe()"
   ]
  },
  {
   "cell_type": "markdown",
   "metadata": {},
   "source": [
    "# 이항 확률 분포\n",
    "\n",
    "성공확률이 θ 인 베르누이 시도를 N 번 하는 경우\n",
    "\n",
    "$x = \\sum_{i=1}^N y_i$\n",
    "\n",
    "이항 분포 수식 \n",
    "\n",
    "$\\text{Bin}(x;N,\\theta) = \\binom N x  \\theta^x(1-\\theta)^{N-x}$\n",
    "\n",
    "# SciPy를 사용한 베르누이 분포의 시뮬레이션\n",
    "\n",
    "Scipy의 stats 서브 패키지에 있는 binom 클래스 \n",
    "\n"
   ]
  },
  {
   "cell_type": "code",
   "execution_count": 10,
   "metadata": {},
   "outputs": [
    {
     "data": {
      "text/plain": [
       "<scipy.stats._distn_infrastructure.rv_frozen at 0xad883c8>"
      ]
     },
     "execution_count": 10,
     "metadata": {},
     "output_type": "execute_result"
    }
   ],
   "source": [
    "# 모수 설정 N, theta(p)\n",
    "N = 10\n",
    "theta = 0.6\n",
    "rv = sp.stats.binom(N, theta)\n",
    "rv"
   ]
  },
  {
   "cell_type": "markdown",
   "metadata": {},
   "source": [
    "pmf 메서드를 사용하면 확률 질량 함수(pmf: probability mass function)를 계산"
   ]
  },
  {
   "cell_type": "code",
   "execution_count": 11,
   "metadata": {},
   "outputs": [
    {
     "data": {
      "text/plain": [
       "<Container object of 11 artists>"
      ]
     },
     "execution_count": 11,
     "metadata": {},
     "output_type": "execute_result"
    },
    {
     "data": {
      "text/plain": [
       "<matplotlib.text.Text at 0xbf58780>"
      ]
     },
     "execution_count": 11,
     "metadata": {},
     "output_type": "execute_result"
    },
    {
     "data": {
      "text/plain": [
       "<matplotlib.text.Text at 0xbf7bf98>"
      ]
     },
     "execution_count": 11,
     "metadata": {},
     "output_type": "execute_result"
    },
    {
     "data": {
      "image/png": "[encoded data removed]",
      "text/plain": [
       "<matplotlib.figure.Figure at 0xbea41d0>"
      ]
     },
     "metadata": {},
     "output_type": "display_data"
    }
   ],
   "source": [
    "xx = np.arange(N + 1)\n",
    "plt.bar(xx, rv.pmf(xx), align=\"center\")\n",
    "plt.ylabel(\"P(x)\")\n",
    "plt.title(\"pmf of binomial distribution\")\n",
    "plt.show()"
   ]
  },
  {
   "cell_type": "markdown",
   "metadata": {},
   "source": [
    "시뮬레이션 "
   ]
  },
  {
   "cell_type": "code",
   "execution_count": 12,
   "metadata": {},
   "outputs": [
    {
     "data": {
      "text/plain": [
       "array([ 6,  5,  6,  6,  6,  5,  6,  4,  3,  6,  5,  6,  6,  4,  8,  8,  9,\n",
       "        5,  5,  4,  3,  5,  6,  5,  8,  5,  8,  4,  6,  6,  7,  5,  6,  6,\n",
       "        9,  6,  6,  6,  4,  5,  7,  6,  5,  8,  5,  5,  7,  8,  7,  7,  6,\n",
       "        6,  2,  8,  7,  8,  5,  7,  6,  7,  8,  8,  5,  8,  7,  7,  5,  8,\n",
       "        4,  8,  3,  6,  3,  6,  5,  9,  7,  8,  7,  8,  7,  6,  8,  5,  6,\n",
       "        7,  6,  8,  6,  4,  7,  5,  8,  5,  7,  7,  6,  9,  5, 10])"
      ]
     },
     "execution_count": 12,
     "metadata": {},
     "output_type": "execute_result"
    },
    {
     "data": {
      "text/plain": [
       "<matplotlib.axes._subplots.AxesSubplot at 0xbfb19e8>"
      ]
     },
     "execution_count": 12,
     "metadata": {},
     "output_type": "execute_result"
    },
    {
     "data": {
      "image/png": "[encoded data removed]",
      "text/plain": [
       "<matplotlib.figure.Figure at 0xbe9dbe0>"
      ]
     },
     "metadata": {},
     "output_type": "display_data"
    }
   ],
   "source": [
    "np.random.seed(0)\n",
    "x = rv.rvs(100)\n",
    "x\n",
    "\n",
    "sns.countplot(x)\n",
    "plt.show()"
   ]
  },
  {
   "cell_type": "markdown",
   "metadata": {},
   "source": [
    "이론적인 확률 분포와 샘플의 확률 분포 동시"
   ]
  },
  {
   "cell_type": "code",
   "execution_count": 13,
   "metadata": {},
   "outputs": [
    {
     "data": {
      "text/html": [
       "<div>\n",
       "<style>\n",
       "    .dataframe thead tr:only-child th {\n",
       "        text-align: right;\n",
       "    }\n",
       "\n",
       "    .dataframe thead th {\n",
       "        text-align: left;\n",
       "    }\n",
       "\n",
       "    .dataframe tbody tr th {\n",
       "        vertical-align: top;\n",
       "    }\n",
       "</style>\n",
       "<table border=\"1\" class=\"dataframe\">\n",
       "  <thead>\n",
       "    <tr style=\"text-align: right;\">\n",
       "      <th>type</th>\n",
       "      <th>simulation</th>\n",
       "      <th>theoretic</th>\n",
       "    </tr>\n",
       "    <tr>\n",
       "      <th>value</th>\n",
       "      <th></th>\n",
       "      <th></th>\n",
       "    </tr>\n",
       "  </thead>\n",
       "  <tbody>\n",
       "    <tr>\n",
       "      <th>0</th>\n",
       "      <td>0.00</td>\n",
       "      <td>0.000105</td>\n",
       "    </tr>\n",
       "    <tr>\n",
       "      <th>1</th>\n",
       "      <td>0.00</td>\n",
       "      <td>0.001573</td>\n",
       "    </tr>\n",
       "    <tr>\n",
       "      <th>2</th>\n",
       "      <td>0.01</td>\n",
       "      <td>0.010617</td>\n",
       "    </tr>\n",
       "    <tr>\n",
       "      <th>3</th>\n",
       "      <td>0.04</td>\n",
       "      <td>0.042467</td>\n",
       "    </tr>\n",
       "    <tr>\n",
       "      <th>4</th>\n",
       "      <td>0.07</td>\n",
       "      <td>0.111477</td>\n",
       "    </tr>\n",
       "    <tr>\n",
       "      <th>5</th>\n",
       "      <td>0.21</td>\n",
       "      <td>0.200658</td>\n",
       "    </tr>\n",
       "    <tr>\n",
       "      <th>6</th>\n",
       "      <td>0.27</td>\n",
       "      <td>0.250823</td>\n",
       "    </tr>\n",
       "    <tr>\n",
       "      <th>7</th>\n",
       "      <td>0.17</td>\n",
       "      <td>0.214991</td>\n",
       "    </tr>\n",
       "    <tr>\n",
       "      <th>8</th>\n",
       "      <td>0.18</td>\n",
       "      <td>0.120932</td>\n",
       "    </tr>\n",
       "    <tr>\n",
       "      <th>9</th>\n",
       "      <td>0.04</td>\n",
       "      <td>0.040311</td>\n",
       "    </tr>\n",
       "    <tr>\n",
       "      <th>10</th>\n",
       "      <td>0.01</td>\n",
       "      <td>0.006047</td>\n",
       "    </tr>\n",
       "  </tbody>\n",
       "</table>\n",
       "</div>"
      ],
      "text/plain": [
       "type   simulation  theoretic\n",
       "value                       \n",
       "0            0.00   0.000105\n",
       "1            0.00   0.001573\n",
       "2            0.01   0.010617\n",
       "3            0.04   0.042467\n",
       "4            0.07   0.111477\n",
       "5            0.21   0.200658\n",
       "6            0.27   0.250823\n",
       "7            0.17   0.214991\n",
       "8            0.18   0.120932\n",
       "9            0.04   0.040311\n",
       "10           0.01   0.006047"
      ]
     },
     "execution_count": 13,
     "metadata": {},
     "output_type": "execute_result"
    }
   ],
   "source": [
    "y = np.bincount(x, minlength=N+1)/float(len(x))\n",
    "df = pd.DataFrame({\"theoretic\": rv.pmf(xx), \"simulation\": y}).stack()\n",
    "df = df.reset_index()\n",
    "df.columns = [\"value\", \"type\", \"ratio\"]\n",
    "df.pivot(\"value\", \"type\", \"ratio\")"
   ]
  },
  {
   "cell_type": "code",
   "execution_count": 14,
   "metadata": {},
   "outputs": [
    {
     "data": {
      "text/plain": [
       "<matplotlib.axes._subplots.AxesSubplot at 0xc0bd898>"
      ]
     },
     "execution_count": 14,
     "metadata": {},
     "output_type": "execute_result"
    },
    {
     "data": {
      "image/png": "[encoded data removed]",
      "text/plain": [
       "<matplotlib.figure.Figure at 0xadb4860>"
      ]
     },
     "metadata": {},
     "output_type": "display_data"
    }
   ],
   "source": [
    "sns.barplot(x=\"value\", y=\"ratio\", hue=\"type\", data=df)\n",
    "plt.show()"
   ]
  },
  {
   "cell_type": "markdown",
   "metadata": {},
   "source": [
    "# 28절: 정규 분포와 스튜던트 t 분포\n",
    "\n",
    "## 가우시안 정규 분포\n",
    "\n",
    "정규 분포\n",
    "\n",
    "평균  μ 와 분산 σ2 이라는 두 개의 모수만으로 정의\n",
    "\n",
    "$\\mathcal{N}(x; \\mu, \\sigma^2) = \\dfrac{1}{\\sqrt{2\\pi\\sigma^2}} \\exp \\left(-\\dfrac{(x-\\mu)^2}{2\\sigma^2}\\right)$\n",
    "\n",
    "표준 정규 분포(standard normal distribution) 평균이 0 이고 분산이 1 인 ( μ=0 , σ2=1 ) 정규 분포\n",
    "\n",
    "## SciPy를 사용한 정규 분포의 시뮬레이션\n",
    "\n",
    "Scipy의 stats 서브 패키지에 있는 norm 클래스\n",
    "\n",
    "loc 인수로 평균을 설정하고 scale 인수로 표준 편차를 설정"
   ]
  },
  {
   "cell_type": "code",
   "execution_count": 15,
   "metadata": {},
   "outputs": [
    {
     "data": {
      "text/plain": [
       "<scipy.stats._distn_infrastructure.rv_frozen at 0xc221a90>"
      ]
     },
     "execution_count": 15,
     "metadata": {},
     "output_type": "execute_result"
    }
   ],
   "source": [
    "mu = 0\n",
    "std = 1\n",
    "rv = sp.stats.norm(mu, std)\n",
    "rv"
   ]
  },
  {
   "cell_type": "markdown",
   "metadata": {},
   "source": [
    "pdf 메서드를 사용하면 확률 밀도 함수(pdf: probability density function)를 계산"
   ]
  },
  {
   "cell_type": "code",
   "execution_count": 16,
   "metadata": {},
   "outputs": [
    {
     "data": {
      "text/plain": [
       "[<matplotlib.lines.Line2D at 0xc2ac0f0>]"
      ]
     },
     "execution_count": 16,
     "metadata": {},
     "output_type": "execute_result"
    },
    {
     "data": {
      "text/plain": [
       "<matplotlib.text.Text at 0xc0c3240>"
      ]
     },
     "execution_count": 16,
     "metadata": {},
     "output_type": "execute_result"
    },
    {
     "data": {
      "text/plain": [
       "<matplotlib.text.Text at 0xc27f2b0>"
      ]
     },
     "execution_count": 16,
     "metadata": {},
     "output_type": "execute_result"
    },
    {
     "data": {
      "image/png": "[encoded data removed]",
      "text/plain": [
       "<matplotlib.figure.Figure at 0xc1f59e8>"
      ]
     },
     "metadata": {},
     "output_type": "display_data"
    }
   ],
   "source": [
    "xx = np.linspace(-5, 5, 100)\n",
    "plt.plot(xx, rv.pdf(xx))\n",
    "plt.ylabel(\"p(x)\")\n",
    "plt.title(\"pdf of normal distribution\")\n",
    "plt.show()"
   ]
  },
  {
   "cell_type": "markdown",
   "metadata": {},
   "source": [
    "시뮬레이션을 통해 샘플을 얻으려면 rvs 메서드 사용"
   ]
  },
  {
   "cell_type": "code",
   "execution_count": 17,
   "metadata": {},
   "outputs": [
    {
     "data": {
      "text/plain": [
       "array([ 1.76405235,  0.40015721,  0.97873798,  2.2408932 ,  1.86755799,\n",
       "       -0.97727788,  0.95008842, -0.15135721, -0.10321885,  0.4105985 ,\n",
       "        0.14404357,  1.45427351,  0.76103773,  0.12167502,  0.44386323,\n",
       "        0.33367433,  1.49407907, -0.20515826,  0.3130677 , -0.85409574,\n",
       "       -2.55298982,  0.6536186 ,  0.8644362 , -0.74216502,  2.26975462,\n",
       "       -1.45436567,  0.04575852, -0.18718385,  1.53277921,  1.46935877,\n",
       "        0.15494743,  0.37816252, -0.88778575, -1.98079647, -0.34791215,\n",
       "        0.15634897,  1.23029068,  1.20237985, -0.38732682, -0.30230275,\n",
       "       -1.04855297, -1.42001794, -1.70627019,  1.9507754 , -0.50965218,\n",
       "       -0.4380743 , -1.25279536,  0.77749036, -1.61389785, -0.21274028,\n",
       "       -0.89546656,  0.3869025 , -0.51080514, -1.18063218, -0.02818223,\n",
       "        0.42833187,  0.06651722,  0.3024719 , -0.63432209, -0.36274117,\n",
       "       -0.67246045, -0.35955316, -0.81314628, -1.7262826 ,  0.17742614,\n",
       "       -0.40178094, -1.63019835,  0.46278226, -0.90729836,  0.0519454 ,\n",
       "        0.72909056,  0.12898291,  1.13940068, -1.23482582,  0.40234164,\n",
       "       -0.68481009, -0.87079715, -0.57884966, -0.31155253,  0.05616534,\n",
       "       -1.16514984,  0.90082649,  0.46566244, -1.53624369,  1.48825219,\n",
       "        1.89588918,  1.17877957, -0.17992484, -1.07075262,  1.05445173,\n",
       "       -0.40317695,  1.22244507,  0.20827498,  0.97663904,  0.3563664 ,\n",
       "        0.70657317,  0.01050002,  1.78587049,  0.12691209,  0.40198936])"
      ]
     },
     "execution_count": 17,
     "metadata": {},
     "output_type": "execute_result"
    }
   ],
   "source": [
    "np.random.seed(0)\n",
    "x = rv.rvs(100)\n",
    "x"
   ]
  },
  {
   "cell_type": "code",
   "execution_count": 18,
   "metadata": {},
   "outputs": [
    {
     "data": {
      "text/plain": [
       "<matplotlib.axes._subplots.AxesSubplot at 0xc256da0>"
      ]
     },
     "execution_count": 18,
     "metadata": {},
     "output_type": "execute_result"
    },
    {
     "data": {
      "image/png": "[encoded data removed]",
      "text/plain": [
       "<matplotlib.figure.Figure at 0xc2d2c88>"
      ]
     },
     "metadata": {},
     "output_type": "display_data"
    }
   ],
   "source": [
    "sns.distplot(x, kde=False, fit=sp.stats.norm)\n",
    "plt.show()"
   ]
  },
  {
   "cell_type": "markdown",
   "metadata": {},
   "source": [
    "## Q-Q 플롯\n",
    "\n",
    "정규 분포 검정(normality test) : 어떤 확률 변수의 분포가 정규 분포인지 아닌지 확인하는 것\n",
    "\n",
    "Q-Q 플롯 : 분석하고자 하는 샘플의 분포과 정규 분포의 분포 형태를 비교하는 시각적 도구,  동일 분위수에 해당하는 정상 분포의 값과 주어진 분포의 값을 한 쌍으로 만들어 스캐터 플롯(scatter plot)으로 그린 것\n",
    "\n",
    "1. 대상 샘플을 크기에 따라 정렬(sort)한다.\n",
    "2. 각 샘플의 분위수(quantile number)를 구한다.\n",
    "3. 각 샘플의 분위수와 일치하는 분위수를 가지는 정규 분포 값을 구한다.\n",
    "4. 대상 샘플과 정규 분포 값을 하나의 쌍으로 생각하여 2차원 공간에 하나의 점(point)으로 그린다.\n",
    "5. 모든 샘플에 대해 2부터 4까지의 과정을 반복하여 스캐터 플롯과 유사한 형태의 플롯을 완성한다.\n",
    "6. 비교를 위한 45도 직선을 그린다.\n",
    "\n",
    "probplot은 기본적으로 인수로 보낸 데이터 샘플에 대한 Q-Q 정보만을 반환하고 챠트는 그리지 않음\n",
    "\n"
   ]
  },
  {
   "cell_type": "code",
   "execution_count": 19,
   "metadata": {
    "scrolled": true
   },
   "outputs": [
    {
     "data": {
      "text/plain": [
       "<matplotlib.figure.Figure at 0xc2fd4e0>"
      ]
     },
     "execution_count": 19,
     "metadata": {},
     "output_type": "execute_result"
    },
    {
     "data": {
      "text/plain": [
       "((array([-2.46203784, -2.12570747, -1.93122778, -1.79044653, -1.67819304,\n",
       "         -1.58381122, -1.50174123, -1.42869743, -1.36256869, -1.30191411,\n",
       "         -1.24570419, -1.19317644, -1.14374949, -1.09696931, -1.05247413,\n",
       "         -1.00997067, -0.96921765, -0.93001393, -0.89218993, -0.85560121,\n",
       "         -0.82012357, -0.78564937, -0.75208458, -0.71934648, -0.68736185,\n",
       "         -0.65606548, -0.62539893, -0.59530962, -0.56574992, -0.53667655,\n",
       "         -0.50804994, -0.47983378, -0.45199463, -0.42450149, -0.39732558,\n",
       "         -0.37044003, -0.34381966, -0.31744076, -0.29128096, -0.26531902,\n",
       "         -0.23953472, -0.21390872, -0.18842244, -0.16305799, -0.13779803,\n",
       "         -0.1126257 , -0.08752455, -0.06247843, -0.03747145, -0.01248789,\n",
       "          0.01248789,  0.03747145,  0.06247843,  0.08752455,  0.1126257 ,\n",
       "          0.13779803,  0.16305799,  0.18842244,  0.21390872,  0.23953472,\n",
       "          0.26531902,  0.29128096,  0.31744076,  0.34381966,  0.37044003,\n",
       "          0.39732558,  0.42450149,  0.45199463,  0.47983378,  0.50804994,\n",
       "          0.53667655,  0.56574992,  0.59530962,  0.62539893,  0.65606548,\n",
       "          0.68736185,  0.71934648,  0.75208458,  0.78564937,  0.82012357,\n",
       "          0.85560121,  0.89218993,  0.93001393,  0.96921765,  1.00997067,\n",
       "          1.05247413,  1.09696931,  1.14374949,  1.19317644,  1.24570419,\n",
       "          1.30191411,  1.36256869,  1.42869743,  1.50174123,  1.58381122,\n",
       "          1.67819304,  1.79044653,  1.93122778,  2.12570747,  2.46203784]),\n",
       "  array([-2.55298982, -1.98079647, -1.7262826 , -1.70627019, -1.63019835,\n",
       "         -1.61389785, -1.53624369, -1.45436567, -1.42001794, -1.25279536,\n",
       "         -1.23482582, -1.18063218, -1.16514984, -1.07075262, -1.04855297,\n",
       "         -0.97727788, -0.90729836, -0.89546656, -0.88778575, -0.87079715,\n",
       "         -0.85409574, -0.81314628, -0.74216502, -0.68481009, -0.67246045,\n",
       "         -0.63432209, -0.57884966, -0.51080514, -0.50965218, -0.4380743 ,\n",
       "         -0.40317695, -0.40178094, -0.38732682, -0.36274117, -0.35955316,\n",
       "         -0.34791215, -0.31155253, -0.30230275, -0.21274028, -0.20515826,\n",
       "         -0.18718385, -0.17992484, -0.15135721, -0.10321885, -0.02818223,\n",
       "          0.01050002,  0.04575852,  0.0519454 ,  0.05616534,  0.06651722,\n",
       "          0.12167502,  0.12691209,  0.12898291,  0.14404357,  0.15494743,\n",
       "          0.15634897,  0.17742614,  0.20827498,  0.3024719 ,  0.3130677 ,\n",
       "          0.33367433,  0.3563664 ,  0.37816252,  0.3869025 ,  0.40015721,\n",
       "          0.40198936,  0.40234164,  0.4105985 ,  0.42833187,  0.44386323,\n",
       "          0.46278226,  0.46566244,  0.6536186 ,  0.70657317,  0.72909056,\n",
       "          0.76103773,  0.77749036,  0.8644362 ,  0.90082649,  0.95008842,\n",
       "          0.97663904,  0.97873798,  1.05445173,  1.13940068,  1.17877957,\n",
       "          1.20237985,  1.22244507,  1.23029068,  1.45427351,  1.46935877,\n",
       "          1.48825219,  1.49407907,  1.53277921,  1.76405235,  1.78587049,\n",
       "          1.86755799,  1.89588918,  1.9507754 ,  2.2408932 ,  2.26975462])),\n",
       " (1.0259489598178935, 0.059808015534484775, 0.99753636333678519))"
      ]
     },
     "execution_count": 19,
     "metadata": {},
     "output_type": "execute_result"
    },
    {
     "data": {
      "text/plain": [
       "(-2.7082416219129732,\n",
       " 2.7082416219129732,\n",
       " -2.809925965354195,\n",
       " 2.842669324088364)"
      ]
     },
     "execution_count": 19,
     "metadata": {},
     "output_type": "execute_result"
    },
    {
     "data": {
      "image/png": "[encoded data removed]",
      "text/plain": [
       "<matplotlib.figure.Figure at 0xc2fd4e0>"
      ]
     },
     "metadata": {},
     "output_type": "display_data"
    }
   ],
   "source": [
    "np.random.seed(0)\n",
    "x = np.random.randn(100)\n",
    "plt.figure(figsize=(7,7))\n",
    "sp.stats.probplot(x, plot=plt)\n",
    "plt.axis(\"equal\")\n",
    "plt.show()"
   ]
  },
  {
   "cell_type": "markdown",
   "metadata": {},
   "source": [
    "정규분포를 따르지 않는 데이터는 휘어짐 "
   ]
  },
  {
   "cell_type": "code",
   "execution_count": 20,
   "metadata": {},
   "outputs": [
    {
     "data": {
      "text/plain": [
       "<matplotlib.figure.Figure at 0xc6567f0>"
      ]
     },
     "execution_count": 20,
     "metadata": {},
     "output_type": "execute_result"
    },
    {
     "data": {
      "text/plain": [
       "((array([-2.46203784, -2.12570747, -1.93122778, -1.79044653, -1.67819304,\n",
       "         -1.58381122, -1.50174123, -1.42869743, -1.36256869, -1.30191411,\n",
       "         -1.24570419, -1.19317644, -1.14374949, -1.09696931, -1.05247413,\n",
       "         -1.00997067, -0.96921765, -0.93001393, -0.89218993, -0.85560121,\n",
       "         -0.82012357, -0.78564937, -0.75208458, -0.71934648, -0.68736185,\n",
       "         -0.65606548, -0.62539893, -0.59530962, -0.56574992, -0.53667655,\n",
       "         -0.50804994, -0.47983378, -0.45199463, -0.42450149, -0.39732558,\n",
       "         -0.37044003, -0.34381966, -0.31744076, -0.29128096, -0.26531902,\n",
       "         -0.23953472, -0.21390872, -0.18842244, -0.16305799, -0.13779803,\n",
       "         -0.1126257 , -0.08752455, -0.06247843, -0.03747145, -0.01248789,\n",
       "          0.01248789,  0.03747145,  0.06247843,  0.08752455,  0.1126257 ,\n",
       "          0.13779803,  0.16305799,  0.18842244,  0.21390872,  0.23953472,\n",
       "          0.26531902,  0.29128096,  0.31744076,  0.34381966,  0.37044003,\n",
       "          0.39732558,  0.42450149,  0.45199463,  0.47983378,  0.50804994,\n",
       "          0.53667655,  0.56574992,  0.59530962,  0.62539893,  0.65606548,\n",
       "          0.68736185,  0.71934648,  0.75208458,  0.78564937,  0.82012357,\n",
       "          0.85560121,  0.89218993,  0.93001393,  0.96921765,  1.00997067,\n",
       "          1.05247413,  1.09696931,  1.14374949,  1.19317644,  1.24570419,\n",
       "          1.30191411,  1.36256869,  1.42869743,  1.50174123,  1.58381122,\n",
       "          1.67819304,  1.79044653,  1.93122778,  2.12570747,  2.46203784]),\n",
       "  array([ 0.00469548,  0.0187898 ,  0.02010755,  0.0202184 ,  0.03918779,\n",
       "          0.06022547,  0.0641475 ,  0.07103606,  0.0871293 ,  0.09394051,\n",
       "          0.09609841,  0.09710128,  0.10204481,  0.11037514,  0.11827443,\n",
       "          0.11872772,  0.12019656,  0.1289263 ,  0.13179786,  0.13818295,\n",
       "          0.14335329,  0.15896958,  0.16130952,  0.18319136,  0.19658236,\n",
       "          0.20887676,  0.21038256,  0.24442559,  0.2532916 ,  0.26455561,\n",
       "          0.26538949,  0.28280696,  0.28940609,  0.2961402 ,  0.31542835,\n",
       "          0.31798318,  0.31856895,  0.3595079 ,  0.36371077,  0.36872517,\n",
       "          0.38344152,  0.41426299,  0.41466194,  0.4236548 ,  0.43703195,\n",
       "          0.43758721,  0.43860151,  0.45615033,  0.46147936,  0.46631077,\n",
       "          0.4686512 ,  0.52184832,  0.52324805,  0.52889492,  0.54488318,\n",
       "          0.5488135 ,  0.56660145,  0.56804456,  0.56843395,  0.57019677,\n",
       "          0.5759465 ,  0.58651293,  0.60276338,  0.60484552,  0.61209572,\n",
       "          0.616934  ,  0.6176355 ,  0.63992102,  0.64589411,  0.65310833,\n",
       "          0.65632959,  0.66676672,  0.66741038,  0.67063787,  0.6818203 ,\n",
       "          0.69247212,  0.6976312 ,  0.71518937,  0.7163272 ,  0.73926358,\n",
       "          0.77423369,  0.77815675,  0.78052918,  0.79172504,  0.79915856,\n",
       "          0.82099323,  0.82894003,  0.83261985,  0.83794491,  0.87001215,\n",
       "          0.891773  ,  0.92559664,  0.9292962 ,  0.94374808,  0.94466892,\n",
       "          0.96366276,  0.97645947,  0.97676109,  0.97861834,  0.98837384])),\n",
       " (0.28832577752911948, 0.47279383951251763, 0.9800521523718152))"
      ]
     },
     "execution_count": 20,
     "metadata": {},
     "output_type": "execute_result"
    },
    {
     "data": {
      "text/plain": [
       "(-0.5, 1.5)"
      ]
     },
     "execution_count": 20,
     "metadata": {},
     "output_type": "execute_result"
    },
    {
     "data": {
      "image/png": "[encoded data removed]",
      "text/plain": [
       "<matplotlib.figure.Figure at 0xc6567f0>"
      ]
     },
     "metadata": {},
     "output_type": "display_data"
    }
   ],
   "source": [
    "np.random.seed(0)\n",
    "x = np.random.rand(100)\n",
    "plt.figure(figsize=(7,7))\n",
    "sp.stats.probplot(x, plot=plt)\n",
    "plt.ylim(-0.5, 1.5)\n",
    "plt.show()"
   ]
  },
  {
   "cell_type": "markdown",
   "metadata": {},
   "source": [
    "## 중심 극한 정리\n",
    "\n",
    "중심 극한 정리는 어떤 분포를 따르는 확류 변수든 간에 해당 확률 변수가 복수인 경우 그 합은 정규 분포와 비슷한 분포를 이루는 현상\n",
    "\n",
    "확률 변수  Sn 의 분포는 n 이 증가할 수록 다음과 같은 정규 분포에 수렴한다.\n",
    "\n",
    "$\\dfrac{S_n - n\\mu}{\\sqrt{n}} \\xrightarrow{d}\\ N(0,\\;\\sigma^2)$\n"
   ]
  },
  {
   "cell_type": "code",
   "execution_count": 21,
   "metadata": {},
   "outputs": [
    {
     "data": {
      "text/plain": [
       "<matplotlib.figure.Figure at 0xc651e48>"
      ]
     },
     "execution_count": 21,
     "metadata": {},
     "output_type": "execute_result"
    },
    {
     "data": {
      "text/plain": [
       "<matplotlib.axes._subplots.AxesSubplot at 0xc221908>"
      ]
     },
     "execution_count": 21,
     "metadata": {},
     "output_type": "execute_result"
    },
    {
     "data": {
      "text/plain": [
       "<matplotlib.axes._subplots.AxesSubplot at 0xc221908>"
      ]
     },
     "execution_count": 21,
     "metadata": {},
     "output_type": "execute_result"
    },
    {
     "data": {
      "text/plain": [
       "(-2, 2)"
      ]
     },
     "execution_count": 21,
     "metadata": {},
     "output_type": "execute_result"
    },
    {
     "data": {
      "text/plain": [
       "([], <a list of 0 Text yticklabel objects>)"
      ]
     },
     "execution_count": 21,
     "metadata": {},
     "output_type": "execute_result"
    },
    {
     "data": {
      "text/plain": [
       "<matplotlib.axes._subplots.AxesSubplot at 0xc763eb8>"
      ]
     },
     "execution_count": 21,
     "metadata": {},
     "output_type": "execute_result"
    },
    {
     "data": {
      "text/plain": [
       "((array([ -3.19758950e+00,  -2.93237785e+00,  -2.78437841e+00,\n",
       "          -2.67999560e+00,  -2.59855946e+00,  -2.53139899e+00,\n",
       "          -2.47402263e+00,  -2.42379214e+00,  -2.37902149e+00,\n",
       "          -2.33856546e+00,  -2.30160949e+00,  -2.26755284e+00,\n",
       "          -2.23593934e+00,  -2.20641415e+00,  -2.17869564e+00,\n",
       "          -2.15255643e+00,  -2.12781017e+00,  -2.10430217e+00,\n",
       "          -2.08190261e+00,  -2.06050135e+00,  -2.04000420e+00,\n",
       "          -2.02032992e+00,  -2.00140792e+00,  -1.98317650e+00,\n",
       "          -1.96558137e+00,  -1.94857451e+00,  -1.93211325e+00,\n",
       "          -1.91615948e+00,  -1.90067901e+00,  -1.88564107e+00,\n",
       "          -1.87101783e+00,  -1.85678408e+00,  -1.84291686e+00,\n",
       "          -1.82939524e+00,  -1.81620005e+00,  -1.80331371e+00,\n",
       "          -1.79072004e+00,  -1.77840415e+00,  -1.76635224e+00,\n",
       "          -1.75455157e+00,  -1.74299028e+00,  -1.73165738e+00,\n",
       "          -1.72054262e+00,  -1.70963644e+00,  -1.69892989e+00,\n",
       "          -1.68841463e+00,  -1.67808281e+00,  -1.66792707e+00,\n",
       "          -1.65794051e+00,  -1.64811661e+00,  -1.63844924e+00,\n",
       "          -1.62893261e+00,  -1.61956127e+00,  -1.61033003e+00,\n",
       "          -1.60123402e+00,  -1.59226859e+00,  -1.58342935e+00,\n",
       "          -1.57471213e+00,  -1.56611295e+00,  -1.55762804e+00,\n",
       "          -1.54925381e+00,  -1.54098684e+00,  -1.53282387e+00,\n",
       "          -1.52476177e+00,  -1.51679758e+00,  -1.50892845e+00,\n",
       "          -1.50115166e+00,  -1.49346462e+00,  -1.48586482e+00,\n",
       "          -1.47834989e+00,  -1.47091753e+00,  -1.46356555e+00,\n",
       "          -1.45629184e+00,  -1.44909437e+00,  -1.44197119e+00,\n",
       "          -1.43492043e+00,  -1.42794030e+00,  -1.42102906e+00,\n",
       "          -1.41418503e+00,  -1.40740661e+00,  -1.40069224e+00,\n",
       "          -1.39404044e+00,  -1.38744975e+00,  -1.38091878e+00,\n",
       "          -1.37444619e+00,  -1.36803067e+00,  -1.36167098e+00,\n",
       "          -1.35536588e+00,  -1.34911421e+00,  -1.34291482e+00,\n",
       "          -1.33676663e+00,  -1.33066855e+00,  -1.32461956e+00,\n",
       "          -1.31861865e+00,  -1.31266485e+00,  -1.30675722e+00,\n",
       "          -1.30089485e+00,  -1.29507686e+00,  -1.28930237e+00,\n",
       "          -1.28357055e+00,  -1.27788060e+00,  -1.27223172e+00,\n",
       "          -1.26662315e+00,  -1.26105415e+00,  -1.25552398e+00,\n",
       "          -1.25003194e+00,  -1.24457735e+00,  -1.23915954e+00,\n",
       "          -1.23377786e+00,  -1.22843168e+00,  -1.22312038e+00,\n",
       "          -1.21784337e+00,  -1.21260004e+00,  -1.20738985e+00,\n",
       "          -1.20221223e+00,  -1.19706664e+00,  -1.19195255e+00,\n",
       "          -1.18686944e+00,  -1.18181682e+00,  -1.17679419e+00,\n",
       "          -1.17180107e+00,  -1.16683699e+00,  -1.16190151e+00,\n",
       "          -1.15699416e+00,  -1.15211453e+00,  -1.14726217e+00,\n",
       "          -1.14243667e+00,  -1.13763763e+00,  -1.13286465e+00,\n",
       "          -1.12811734e+00,  -1.12339532e+00,  -1.11869822e+00,\n",
       "          -1.11402566e+00,  -1.10937731e+00,  -1.10475280e+00,\n",
       "          -1.10015180e+00,  -1.09557397e+00,  -1.09101899e+00,\n",
       "          -1.08648653e+00,  -1.08197628e+00,  -1.07748793e+00,\n",
       "          -1.07302119e+00,  -1.06857575e+00,  -1.06415133e+00,\n",
       "          -1.05974765e+00,  -1.05536442e+00,  -1.05100137e+00,\n",
       "          -1.04665824e+00,  -1.04233476e+00,  -1.03803068e+00,\n",
       "          -1.03374574e+00,  -1.02947970e+00,  -1.02523232e+00,\n",
       "          -1.02100335e+00,  -1.01679256e+00,  -1.01259972e+00,\n",
       "          -1.00842461e+00,  -1.00426700e+00,  -1.00012668e+00,\n",
       "          -9.96003439e-01,  -9.91897058e-01,  -9.87807334e-01,\n",
       "          -9.83734067e-01,  -9.79677056e-01,  -9.75636106e-01,\n",
       "          -9.71611024e-01,  -9.67601623e-01,  -9.63607717e-01,\n",
       "          -9.59629122e-01,  -9.55665660e-01,  -9.51717154e-01,\n",
       "          -9.47783430e-01,  -9.43864319e-01,  -9.39959651e-01,\n",
       "          -9.36069261e-01,  -9.32192988e-01,  -9.28330671e-01,\n",
       "          -9.24482153e-01,  -9.20647280e-01,  -9.16825898e-01,\n",
       "          -9.13017857e-01,  -9.09223011e-01,  -9.05441213e-01,\n",
       "          -9.01672321e-01,  -8.97916193e-01,  -8.94172691e-01,\n",
       "          -8.90441678e-01,  -8.86723020e-01,  -8.83016583e-01,\n",
       "          -8.79322237e-01,  -8.75639853e-01,  -8.71969305e-01,\n",
       "          -8.68310468e-01,  -8.64663218e-01,  -8.61027434e-01,\n",
       "          -8.57402996e-01,  -8.53789787e-01,  -8.50187690e-01,\n",
       "          -8.46596591e-01,  -8.43016376e-01,  -8.39446935e-01,\n",
       "          -8.35888157e-01,  -8.32339934e-01,  -8.28802160e-01,\n",
       "          -8.25274728e-01,  -8.21757535e-01,  -8.18250479e-01,\n",
       "          -8.14753457e-01,  -8.11266372e-01,  -8.07789123e-01,\n",
       "          -8.04321614e-01,  -8.00863750e-01,  -7.97415434e-01,\n",
       "          -7.93976575e-01,  -7.90547079e-01,  -7.87126857e-01,\n",
       "          -7.83715817e-01,  -7.80313872e-01,  -7.76920933e-01,\n",
       "          -7.73536915e-01,  -7.70161733e-01,  -7.66795301e-01,\n",
       "          -7.63437536e-01,  -7.60088358e-01,  -7.56747683e-01,\n",
       "          -7.53415433e-01,  -7.50091527e-01,  -7.46775888e-01,\n",
       "          -7.43468439e-01,  -7.40169103e-01,  -7.36877804e-01,\n",
       "          -7.33594468e-01,  -7.30319022e-01,  -7.27051392e-01,\n",
       "          -7.23791507e-01,  -7.20539295e-01,  -7.17294687e-01,\n",
       "          -7.14057613e-01,  -7.10828003e-01,  -7.07605791e-01,\n",
       "          -7.04390909e-01,  -7.01183291e-01,  -6.97982871e-01,\n",
       "          -6.94789584e-01,  -6.91603367e-01,  -6.88424155e-01,\n",
       "          -6.85251886e-01,  -6.82086498e-01,  -6.78927930e-01,\n",
       "          -6.75776120e-01,  -6.72631010e-01,  -6.69492539e-01,\n",
       "          -6.66360648e-01,  -6.63235280e-01,  -6.60116377e-01,\n",
       "          -6.57003883e-01,  -6.53897740e-01,  -6.50797893e-01,\n",
       "          -6.47704287e-01,  -6.44616868e-01,  -6.41535581e-01,\n",
       "          -6.38460373e-01,  -6.35391191e-01,  -6.32327983e-01,\n",
       "          -6.29270697e-01,  -6.26219281e-01,  -6.23173684e-01,\n",
       "          -6.20133858e-01,  -6.17099750e-01,  -6.14071313e-01,\n",
       "          -6.11048498e-01,  -6.08031256e-01,  -6.05019539e-01,\n",
       "          -6.02013299e-01,  -5.99012491e-01,  -5.96017067e-01,\n",
       "          -5.93026981e-01,  -5.90042188e-01,  -5.87062643e-01,\n",
       "          -5.84088300e-01,  -5.81119115e-01,  -5.78155045e-01,\n",
       "          -5.75196045e-01,  -5.72242074e-01,  -5.69293087e-01,\n",
       "          -5.66349043e-01,  -5.63409899e-01,  -5.60475614e-01,\n",
       "          -5.57546147e-01,  -5.54621458e-01,  -5.51701504e-01,\n",
       "          -5.48786247e-01,  -5.45875647e-01,  -5.42969663e-01,\n",
       "          -5.40068258e-01,  -5.37171392e-01,  -5.34279026e-01,\n",
       "          -5.31391124e-01,  -5.28507646e-01,  -5.25628557e-01,\n",
       "          -5.22753817e-01,  -5.19883391e-01,  -5.17017243e-01,\n",
       "          -5.14155335e-01,  -5.11297632e-01,  -5.08444099e-01,\n",
       "          -5.05594699e-01,  -5.02749399e-01,  -4.99908163e-01,\n",
       "          -4.97070957e-01,  -4.94237747e-01,  -4.91408498e-01,\n",
       "          -4.88583178e-01,  -4.85761752e-01,  -4.82944188e-01,\n",
       "          -4.80130452e-01,  -4.77320513e-01,  -4.74514337e-01,\n",
       "          -4.71711893e-01,  -4.68913149e-01,  -4.66118073e-01,\n",
       "          -4.63326634e-01,  -4.60538801e-01,  -4.57754542e-01,\n",
       "          -4.54973827e-01,  -4.52196626e-01,  -4.49422908e-01,\n",
       "          -4.46652644e-01,  -4.43885803e-01,  -4.41122356e-01,\n",
       "          -4.38362274e-01,  -4.35605527e-01,  -4.32852086e-01,\n",
       "          -4.30101924e-01,  -4.27355010e-01,  -4.24611318e-01,\n",
       "          -4.21870818e-01,  -4.19133483e-01,  -4.16399284e-01,\n",
       "          -4.13668196e-01,  -4.10940189e-01,  -4.08215237e-01,\n",
       "          -4.05493313e-01,  -4.02774389e-01,  -4.00058440e-01,\n",
       "          -3.97345439e-01,  -3.94635359e-01,  -3.91928175e-01,\n",
       "          -3.89223860e-01,  -3.86522388e-01,  -3.83823735e-01,\n",
       "          -3.81127874e-01,  -3.78434779e-01,  -3.75744427e-01,\n",
       "          -3.73056792e-01,  -3.70371848e-01,  -3.67689572e-01,\n",
       "          -3.65009939e-01,  -3.62332924e-01,  -3.59658504e-01,\n",
       "          -3.56986653e-01,  -3.54317348e-01,  -3.51650566e-01,\n",
       "          -3.48986282e-01,  -3.46324472e-01,  -3.43665115e-01,\n",
       "          -3.41008186e-01,  -3.38353661e-01,  -3.35701519e-01,\n",
       "          -3.33051736e-01,  -3.30404290e-01,  -3.27759157e-01,\n",
       "          -3.25116316e-01,  -3.22475743e-01,  -3.19837417e-01,\n",
       "          -3.17201315e-01,  -3.14567416e-01,  -3.11935698e-01,\n",
       "          -3.09306138e-01,  -3.06678715e-01,  -3.04053407e-01,\n",
       "          -3.01430193e-01,  -2.98809052e-01,  -2.96189962e-01,\n",
       "          -2.93572903e-01,  -2.90957852e-01,  -2.88344790e-01,\n",
       "          -2.85733695e-01,  -2.83124547e-01,  -2.80517325e-01,\n",
       "          -2.77912008e-01,  -2.75308576e-01,  -2.72707009e-01,\n",
       "          -2.70107286e-01,  -2.67509388e-01,  -2.64913294e-01,\n",
       "          -2.62318984e-01,  -2.59726438e-01,  -2.57135637e-01,\n",
       "          -2.54546561e-01,  -2.51959189e-01,  -2.49373504e-01,\n",
       "          -2.46789484e-01,  -2.44207112e-01,  -2.41626367e-01,\n",
       "          -2.39047230e-01,  -2.36469683e-01,  -2.33893705e-01,\n",
       "          -2.31319279e-01,  -2.28746384e-01,  -2.26175004e-01,\n",
       "          -2.23605117e-01,  -2.21036707e-01,  -2.18469754e-01,\n",
       "          -2.15904240e-01,  -2.13340146e-01,  -2.10777454e-01,\n",
       "          -2.08216145e-01,  -2.05656202e-01,  -2.03097605e-01,\n",
       "          -2.00540338e-01,  -1.97984381e-01,  -1.95429717e-01,\n",
       "          -1.92876328e-01,  -1.90324196e-01,  -1.87773302e-01,\n",
       "          -1.85223630e-01,  -1.82675162e-01,  -1.80127879e-01,\n",
       "          -1.77581765e-01,  -1.75036802e-01,  -1.72492971e-01,\n",
       "          -1.69950256e-01,  -1.67408640e-01,  -1.64868105e-01,\n",
       "          -1.62328633e-01,  -1.59790208e-01,  -1.57252812e-01,\n",
       "          -1.54716428e-01,  -1.52181038e-01,  -1.49646627e-01,\n",
       "          -1.47113177e-01,  -1.44580670e-01,  -1.42049091e-01,\n",
       "          -1.39518421e-01,  -1.36988645e-01,  -1.34459745e-01,\n",
       "          -1.31931705e-01,  -1.29404507e-01,  -1.26878136e-01,\n",
       "          -1.24352575e-01,  -1.21827806e-01,  -1.19303813e-01,\n",
       "          -1.16780581e-01,  -1.14258092e-01,  -1.11736329e-01,\n",
       "          -1.09215277e-01,  -1.06694919e-01,  -1.04175238e-01,\n",
       "          -1.01656219e-01,  -9.91378445e-02,  -9.66200987e-02,\n",
       "          -9.41029651e-02,  -9.15864277e-02,  -8.90704701e-02,\n",
       "          -8.65550762e-02,  -8.40402299e-02,  -8.15259149e-02,\n",
       "          -7.90121153e-02,  -7.64988148e-02,  -7.39859974e-02,\n",
       "          -7.14736472e-02,  -6.89617480e-02,  -6.64502838e-02,\n",
       "          -6.39392387e-02,  -6.14285967e-02,  -5.89183419e-02,\n",
       "          -5.64084582e-02,  -5.38989299e-02,  -5.13897409e-02,\n",
       "          -4.88808755e-02,  -4.63723177e-02,  -4.38640516e-02,\n",
       "          -4.13560616e-02,  -3.88483316e-02,  -3.63408459e-02,\n",
       "          -3.38335886e-02,  -3.13265441e-02,  -2.88196964e-02,\n",
       "          -2.63130298e-02,  -2.38065286e-02,  -2.13001769e-02,\n",
       "          -1.87939590e-02,  -1.62878591e-02,  -1.37818616e-02,\n",
       "          -1.12759505e-02,  -8.77011034e-03,  -6.26432519e-03,\n",
       "          -3.75857938e-03,  -1.25285717e-03,   1.25285717e-03,\n",
       "           3.75857938e-03,   6.26432519e-03,   8.77011034e-03,\n",
       "           1.12759505e-02,   1.37818616e-02,   1.62878591e-02,\n",
       "           1.87939590e-02,   2.13001769e-02,   2.38065286e-02,\n",
       "           2.63130298e-02,   2.88196964e-02,   3.13265441e-02,\n",
       "           3.38335886e-02,   3.63408459e-02,   3.88483316e-02,\n",
       "           4.13560616e-02,   4.38640516e-02,   4.63723177e-02,\n",
       "           4.88808755e-02,   5.13897409e-02,   5.38989299e-02,\n",
       "           5.64084582e-02,   5.89183419e-02,   6.14285967e-02,\n",
       "           6.39392387e-02,   6.64502838e-02,   6.89617480e-02,\n",
       "           7.14736472e-02,   7.39859974e-02,   7.64988148e-02,\n",
       "           7.90121153e-02,   8.15259149e-02,   8.40402299e-02,\n",
       "           8.65550762e-02,   8.90704701e-02,   9.15864277e-02,\n",
       "           9.41029651e-02,   9.66200987e-02,   9.91378445e-02,\n",
       "           1.01656219e-01,   1.04175238e-01,   1.06694919e-01,\n",
       "           1.09215277e-01,   1.11736329e-01,   1.14258092e-01,\n",
       "           1.16780581e-01,   1.19303813e-01,   1.21827806e-01,\n",
       "           1.24352575e-01,   1.26878136e-01,   1.29404507e-01,\n",
       "           1.31931705e-01,   1.34459745e-01,   1.36988645e-01,\n",
       "           1.39518421e-01,   1.42049091e-01,   1.44580670e-01,\n",
       "           1.47113177e-01,   1.49646627e-01,   1.52181038e-01,\n",
       "           1.54716428e-01,   1.57252812e-01,   1.59790208e-01,\n",
       "           1.62328633e-01,   1.64868105e-01,   1.67408640e-01,\n",
       "           1.69950256e-01,   1.72492971e-01,   1.75036802e-01,\n",
       "           1.77581765e-01,   1.80127879e-01,   1.82675162e-01,\n",
       "           1.85223630e-01,   1.87773302e-01,   1.90324196e-01,\n",
       "           1.92876328e-01,   1.95429717e-01,   1.97984381e-01,\n",
       "           2.00540338e-01,   2.03097605e-01,   2.05656202e-01,\n",
       "           2.08216145e-01,   2.10777454e-01,   2.13340146e-01,\n",
       "           2.15904240e-01,   2.18469754e-01,   2.21036707e-01,\n",
       "           2.23605117e-01,   2.26175004e-01,   2.28746384e-01,\n",
       "           2.31319279e-01,   2.33893705e-01,   2.36469683e-01,\n",
       "           2.39047230e-01,   2.41626367e-01,   2.44207112e-01,\n",
       "           2.46789484e-01,   2.49373504e-01,   2.51959189e-01,\n",
       "           2.54546561e-01,   2.57135637e-01,   2.59726438e-01,\n",
       "           2.62318984e-01,   2.64913294e-01,   2.67509388e-01,\n",
       "           2.70107286e-01,   2.72707009e-01,   2.75308576e-01,\n",
       "           2.77912008e-01,   2.80517325e-01,   2.83124547e-01,\n",
       "           2.85733695e-01,   2.88344790e-01,   2.90957852e-01,\n",
       "           2.93572903e-01,   2.96189962e-01,   2.98809052e-01,\n",
       "           3.01430193e-01,   3.04053407e-01,   3.06678715e-01,\n",
       "           3.09306138e-01,   3.11935698e-01,   3.14567416e-01,\n",
       "           3.17201315e-01,   3.19837417e-01,   3.22475743e-01,\n",
       "           3.25116316e-01,   3.27759157e-01,   3.30404290e-01,\n",
       "           3.33051736e-01,   3.35701519e-01,   3.38353661e-01,\n",
       "           3.41008186e-01,   3.43665115e-01,   3.46324472e-01,\n",
       "           3.48986282e-01,   3.51650566e-01,   3.54317348e-01,\n",
       "           3.56986653e-01,   3.59658504e-01,   3.62332924e-01,\n",
       "           3.65009939e-01,   3.67689572e-01,   3.70371848e-01,\n",
       "           3.73056792e-01,   3.75744427e-01,   3.78434779e-01,\n",
       "           3.81127874e-01,   3.83823735e-01,   3.86522388e-01,\n",
       "           3.89223860e-01,   3.91928175e-01,   3.94635359e-01,\n",
       "           3.97345439e-01,   4.00058440e-01,   4.02774389e-01,\n",
       "           4.05493313e-01,   4.08215237e-01,   4.10940189e-01,\n",
       "           4.13668196e-01,   4.16399284e-01,   4.19133483e-01,\n",
       "           4.21870818e-01,   4.24611318e-01,   4.27355010e-01,\n",
       "           4.30101924e-01,   4.32852086e-01,   4.35605527e-01,\n",
       "           4.38362274e-01,   4.41122356e-01,   4.43885803e-01,\n",
       "           4.46652644e-01,   4.49422908e-01,   4.52196626e-01,\n",
       "           4.54973827e-01,   4.57754542e-01,   4.60538801e-01,\n",
       "           4.63326634e-01,   4.66118073e-01,   4.68913149e-01,\n",
       "           4.71711893e-01,   4.74514337e-01,   4.77320513e-01,\n",
       "           4.80130452e-01,   4.82944188e-01,   4.85761752e-01,\n",
       "           4.88583178e-01,   4.91408498e-01,   4.94237747e-01,\n",
       "           4.97070957e-01,   4.99908163e-01,   5.02749399e-01,\n",
       "           5.05594699e-01,   5.08444099e-01,   5.11297632e-01,\n",
       "           5.14155335e-01,   5.17017243e-01,   5.19883391e-01,\n",
       "           5.22753817e-01,   5.25628557e-01,   5.28507646e-01,\n",
       "           5.31391124e-01,   5.34279026e-01,   5.37171392e-01,\n",
       "           5.40068258e-01,   5.42969663e-01,   5.45875647e-01,\n",
       "           5.48786247e-01,   5.51701504e-01,   5.54621458e-01,\n",
       "           5.57546147e-01,   5.60475614e-01,   5.63409899e-01,\n",
       "           5.66349043e-01,   5.69293087e-01,   5.72242074e-01,\n",
       "           5.75196045e-01,   5.78155045e-01,   5.81119115e-01,\n",
       "           5.84088300e-01,   5.87062643e-01,   5.90042188e-01,\n",
       "           5.93026981e-01,   5.96017067e-01,   5.99012491e-01,\n",
       "           6.02013299e-01,   6.05019539e-01,   6.08031256e-01,\n",
       "           6.11048498e-01,   6.14071313e-01,   6.17099750e-01,\n",
       "           6.20133858e-01,   6.23173684e-01,   6.26219281e-01,\n",
       "           6.29270697e-01,   6.32327983e-01,   6.35391191e-01,\n",
       "           6.38460373e-01,   6.41535581e-01,   6.44616868e-01,\n",
       "           6.47704287e-01,   6.50797893e-01,   6.53897740e-01,\n",
       "           6.57003883e-01,   6.60116377e-01,   6.63235280e-01,\n",
       "           6.66360648e-01,   6.69492539e-01,   6.72631010e-01,\n",
       "           6.75776120e-01,   6.78927930e-01,   6.82086498e-01,\n",
       "           6.85251886e-01,   6.88424155e-01,   6.91603367e-01,\n",
       "           6.94789584e-01,   6.97982871e-01,   7.01183291e-01,\n",
       "           7.04390909e-01,   7.07605791e-01,   7.10828003e-01,\n",
       "           7.14057613e-01,   7.17294687e-01,   7.20539295e-01,\n",
       "           7.23791507e-01,   7.27051392e-01,   7.30319022e-01,\n",
       "           7.33594468e-01,   7.36877804e-01,   7.40169103e-01,\n",
       "           7.43468439e-01,   7.46775888e-01,   7.50091527e-01,\n",
       "           7.53415433e-01,   7.56747683e-01,   7.60088358e-01,\n",
       "           7.63437536e-01,   7.66795301e-01,   7.70161733e-01,\n",
       "           7.73536915e-01,   7.76920933e-01,   7.80313872e-01,\n",
       "           7.83715817e-01,   7.87126857e-01,   7.90547079e-01,\n",
       "           7.93976575e-01,   7.97415434e-01,   8.00863750e-01,\n",
       "           8.04321614e-01,   8.07789123e-01,   8.11266372e-01,\n",
       "           8.14753457e-01,   8.18250479e-01,   8.21757535e-01,\n",
       "           8.25274728e-01,   8.28802160e-01,   8.32339934e-01,\n",
       "           8.35888157e-01,   8.39446935e-01,   8.43016376e-01,\n",
       "           8.46596591e-01,   8.50187690e-01,   8.53789787e-01,\n",
       "           8.57402996e-01,   8.61027434e-01,   8.64663218e-01,\n",
       "           8.68310468e-01,   8.71969305e-01,   8.75639853e-01,\n",
       "           8.79322237e-01,   8.83016583e-01,   8.86723020e-01,\n",
       "           8.90441678e-01,   8.94172691e-01,   8.97916193e-01,\n",
       "           9.01672321e-01,   9.05441213e-01,   9.09223011e-01,\n",
       "           9.13017857e-01,   9.16825898e-01,   9.20647280e-01,\n",
       "           9.24482153e-01,   9.28330671e-01,   9.32192988e-01,\n",
       "           9.36069261e-01,   9.39959651e-01,   9.43864319e-01,\n",
       "           9.47783430e-01,   9.51717154e-01,   9.55665660e-01,\n",
       "           9.59629122e-01,   9.63607717e-01,   9.67601623e-01,\n",
       "           9.71611024e-01,   9.75636106e-01,   9.79677056e-01,\n",
       "           9.83734067e-01,   9.87807334e-01,   9.91897058e-01,\n",
       "           9.96003439e-01,   1.00012668e+00,   1.00426700e+00,\n",
       "           1.00842461e+00,   1.01259972e+00,   1.01679256e+00,\n",
       "           1.02100335e+00,   1.02523232e+00,   1.02947970e+00,\n",
       "           1.03374574e+00,   1.03803068e+00,   1.04233476e+00,\n",
       "           1.04665824e+00,   1.05100137e+00,   1.05536442e+00,\n",
       "           1.05974765e+00,   1.06415133e+00,   1.06857575e+00,\n",
       "           1.07302119e+00,   1.07748793e+00,   1.08197628e+00,\n",
       "           1.08648653e+00,   1.09101899e+00,   1.09557397e+00,\n",
       "           1.10015180e+00,   1.10475280e+00,   1.10937731e+00,\n",
       "           1.11402566e+00,   1.11869822e+00,   1.12339532e+00,\n",
       "           1.12811734e+00,   1.13286465e+00,   1.13763763e+00,\n",
       "           1.14243667e+00,   1.14726217e+00,   1.15211453e+00,\n",
       "           1.15699416e+00,   1.16190151e+00,   1.16683699e+00,\n",
       "           1.17180107e+00,   1.17679419e+00,   1.18181682e+00,\n",
       "           1.18686944e+00,   1.19195255e+00,   1.19706664e+00,\n",
       "           1.20221223e+00,   1.20738985e+00,   1.21260004e+00,\n",
       "           1.21784337e+00,   1.22312038e+00,   1.22843168e+00,\n",
       "           1.23377786e+00,   1.23915954e+00,   1.24457735e+00,\n",
       "           1.25003194e+00,   1.25552398e+00,   1.26105415e+00,\n",
       "           1.26662315e+00,   1.27223172e+00,   1.27788060e+00,\n",
       "           1.28357055e+00,   1.28930237e+00,   1.29507686e+00,\n",
       "           1.30089485e+00,   1.30675722e+00,   1.31266485e+00,\n",
       "           1.31861865e+00,   1.32461956e+00,   1.33066855e+00,\n",
       "           1.33676663e+00,   1.34291482e+00,   1.34911421e+00,\n",
       "           1.35536588e+00,   1.36167098e+00,   1.36803067e+00,\n",
       "           1.37444619e+00,   1.38091878e+00,   1.38744975e+00,\n",
       "           1.39404044e+00,   1.40069224e+00,   1.40740661e+00,\n",
       "           1.41418503e+00,   1.42102906e+00,   1.42794030e+00,\n",
       "           1.43492043e+00,   1.44197119e+00,   1.44909437e+00,\n",
       "           1.45629184e+00,   1.46356555e+00,   1.47091753e+00,\n",
       "           1.47834989e+00,   1.48586482e+00,   1.49346462e+00,\n",
       "           1.50115166e+00,   1.50892845e+00,   1.51679758e+00,\n",
       "           1.52476177e+00,   1.53282387e+00,   1.54098684e+00,\n",
       "           1.54925381e+00,   1.55762804e+00,   1.56611295e+00,\n",
       "           1.57471213e+00,   1.58342935e+00,   1.59226859e+00,\n",
       "           1.60123402e+00,   1.61033003e+00,   1.61956127e+00,\n",
       "           1.62893261e+00,   1.63844924e+00,   1.64811661e+00,\n",
       "           1.65794051e+00,   1.66792707e+00,   1.67808281e+00,\n",
       "           1.68841463e+00,   1.69892989e+00,   1.70963644e+00,\n",
       "           1.72054262e+00,   1.73165738e+00,   1.74299028e+00,\n",
       "           1.75455157e+00,   1.76635224e+00,   1.77840415e+00,\n",
       "           1.79072004e+00,   1.80331371e+00,   1.81620005e+00,\n",
       "           1.82939524e+00,   1.84291686e+00,   1.85678408e+00,\n",
       "           1.87101783e+00,   1.88564107e+00,   1.90067901e+00,\n",
       "           1.91615948e+00,   1.93211325e+00,   1.94857451e+00,\n",
       "           1.96558137e+00,   1.98317650e+00,   2.00140792e+00,\n",
       "           2.02032992e+00,   2.04000420e+00,   2.06050135e+00,\n",
       "           2.08190261e+00,   2.10430217e+00,   2.12781017e+00,\n",
       "           2.15255643e+00,   2.17869564e+00,   2.20641415e+00,\n",
       "           2.23593934e+00,   2.26755284e+00,   2.30160949e+00,\n",
       "           2.33856546e+00,   2.37902149e+00,   2.42379214e+00,\n",
       "           2.47402263e+00,   2.53139899e+00,   2.59855946e+00,\n",
       "           2.67999560e+00,   2.78437841e+00,   2.93237785e+00,\n",
       "           3.19758950e+00]),\n",
       "  array([-0.49945404, -0.49933578, -0.49861665, -0.49729679, -0.49613965,\n",
       "         -0.49484704, -0.49468995, -0.4921159 , -0.4899363 , -0.48864487,\n",
       "         -0.48857254, -0.48828592, -0.48796378, -0.48782884, -0.48676314,\n",
       "         -0.48649129, -0.48439394, -0.4836715 , -0.48357037, -0.48312833,\n",
       "         -0.48293951, -0.48147821, -0.4808771 , -0.4808068 , -0.479349  ,\n",
       "         -0.47904993, -0.4757273 , -0.4756868 , -0.47532127, -0.47433728,\n",
       "         -0.47104745, -0.47080977, -0.47004968, -0.46976474, -0.46933895,\n",
       "         -0.46816107, -0.46692541, -0.46669537, -0.46463756, -0.46396618,\n",
       "         -0.46144275, -0.46038448, -0.4600072 , -0.45709381, -0.45707581,\n",
       "         -0.45602457, -0.4553877 , -0.45399269, -0.45319365, -0.4513097 ,\n",
       "         -0.45065105, -0.44892452, -0.44657282, -0.44566201, -0.44462568,\n",
       "         -0.44315192, -0.44312274, -0.44197084, -0.44164364, -0.44146508,\n",
       "         -0.44061681, -0.4400557 , -0.43892146, -0.437364  , -0.43728705,\n",
       "         -0.43679238, -0.43644623, -0.43604473, -0.43469579, -0.43439513,\n",
       "         -0.43385054, -0.43275037, -0.43192593, -0.4319069 , -0.43114804,\n",
       "         -0.430833  , -0.43081734, -0.42995781, -0.42913022, -0.42464093,\n",
       "         -0.42351323, -0.42304355, -0.42047792, -0.419468  , -0.41889861,\n",
       "         -0.4186304 , -0.41670902, -0.41657756, -0.41468908, -0.41050545,\n",
       "         -0.41039697, -0.40911427, -0.40354914, -0.40319605, -0.40275707,\n",
       "         -0.40274201, -0.40232363, -0.40215552, -0.40038507, -0.40026705,\n",
       "         -0.39998594, -0.39977311, -0.39974826, -0.39970606, -0.39758624,\n",
       "         -0.39670184, -0.39537211, -0.39409385, -0.39299586, -0.39278925,\n",
       "         -0.39252743, -0.39238229, -0.39109626, -0.39021554, -0.38952289,\n",
       "         -0.38850394, -0.38757268, -0.3845157 , -0.38433813, -0.38429677,\n",
       "         -0.384166  , -0.38410153, -0.38268444, -0.38267952, -0.38261971,\n",
       "         -0.38247436, -0.38246814, -0.37987982, -0.37972266, -0.37618002,\n",
       "         -0.37270597, -0.37113943, -0.37064424, -0.36894477, -0.36871067,\n",
       "         -0.3685172 , -0.36793189, -0.36751237, -0.36656057, -0.36653853,\n",
       "         -0.36452594, -0.36309973, -0.3609273 , -0.35968398, -0.35961604,\n",
       "         -0.35904252, -0.35849351, -0.35818272, -0.35515224, -0.35305335,\n",
       "         -0.35231442, -0.35219867, -0.35219132, -0.35185914, -0.3505517 ,\n",
       "         -0.3490651 , -0.34797277, -0.34764529, -0.34663112, -0.34361665,\n",
       "         -0.34085376, -0.34058554, -0.34015471, -0.33976953, -0.33953236,\n",
       "         -0.33946118, -0.33787974, -0.33764205, -0.33750707, -0.33704557,\n",
       "         -0.33530584, -0.33395218, -0.33097459, -0.32837032, -0.3281469 ,\n",
       "         -0.32704865, -0.32534161, -0.325228  , -0.32462793, -0.32350061,\n",
       "         -0.32299422, -0.32142003, -0.32039632, -0.32020471, -0.31884904,\n",
       "         -0.31696671, -0.31672016, -0.31476767, -0.31465141, -0.3144821 ,\n",
       "         -0.31436406, -0.3141024 , -0.31380699, -0.31286911, -0.31015209,\n",
       "         -0.30943309, -0.30294572, -0.30274053, -0.30040386, -0.30000348,\n",
       "         -0.29507631, -0.29252992, -0.29174675, -0.29025005, -0.29015625,\n",
       "         -0.2885452 , -0.28756564, -0.28668802, -0.28616465, -0.2846018 ,\n",
       "         -0.28449232, -0.28354274, -0.28312975, -0.28310302, -0.28233716,\n",
       "         -0.27989614, -0.27883908, -0.27860355, -0.27713618, -0.27691837,\n",
       "         -0.27607531, -0.27568297, -0.27558639, -0.27263755, -0.27258537,\n",
       "         -0.2722405 , -0.27135345, -0.27043256, -0.26829837, -0.26776586,\n",
       "         -0.26737301, -0.26725587, -0.26722733, -0.26657974, -0.26416578,\n",
       "         -0.26225817, -0.26219276, -0.26210718, -0.26158672, -0.25997973,\n",
       "         -0.25917122, -0.25858138, -0.25844296, -0.2580983 , -0.25782141,\n",
       "         -0.25632212, -0.25511052, -0.25463279, -0.25393682, -0.25344306,\n",
       "         -0.25260124, -0.25231498, -0.25158653, -0.25124686, -0.25057996,\n",
       "         -0.24960179, -0.24805901, -0.24680881, -0.24635748, -0.24605836,\n",
       "         -0.24564352, -0.2456176 , -0.2438862 , -0.24308336, -0.24131593,\n",
       "         -0.24057744, -0.2390955 , -0.23788185, -0.23667762, -0.2353504 ,\n",
       "         -0.2349603 , -0.23469668, -0.23436745, -0.23279297, -0.22999203,\n",
       "         -0.22967209, -0.22874792, -0.22834723, -0.2275631 , -0.2271781 ,\n",
       "         -0.22645797, -0.22517643, -0.22265973, -0.2224039 , -0.22237129,\n",
       "         -0.2216747 , -0.22093205, -0.21826989, -0.21730035, -0.21716315,\n",
       "         -0.21648115, -0.21600002, -0.21294848, -0.2124555 , -0.2116015 ,\n",
       "         -0.21143004, -0.21008655, -0.20992239, -0.20975196, -0.20915909,\n",
       "         -0.20785247, -0.20720597, -0.20711143, -0.20697972, -0.20592334,\n",
       "         -0.20344373, -0.20256305, -0.20181264, -0.20171767, -0.19997108,\n",
       "         -0.19959632, -0.19842518, -0.19840137, -0.19582644, -0.19580131,\n",
       "         -0.19555364, -0.19553159, -0.1931899 , -0.18961917, -0.18937078,\n",
       "         -0.18916002, -0.18820412, -0.188055  , -0.1854267 , -0.18349925,\n",
       "         -0.18345744, -0.18326933, -0.18176649, -0.17998285, -0.17895701,\n",
       "         -0.17766646, -0.17717046, -0.17373037, -0.17329912, -0.1722796 ,\n",
       "         -0.172012  , -0.16973296, -0.16692797, -0.16685485, -0.16649253,\n",
       "         -0.16603513, -0.16552626, -0.16450183, -0.16402246, -0.16389773,\n",
       "         -0.16252262, -0.16184105, -0.16036896, -0.15830189, -0.15765762,\n",
       "         -0.15738902, -0.15660827, -0.15546954, -0.15528187, -0.15464832,\n",
       "         -0.15449434, -0.15276648, -0.15180806, -0.15152401, -0.15148063,\n",
       "         -0.15055971, -0.15000716, -0.148107  , -0.14806376, -0.14577518,\n",
       "         -0.14463115, -0.14438726, -0.14329311, -0.14265312, -0.14257535,\n",
       "         -0.14100472, -0.14002194, -0.13945444, -0.13781094, -0.13545537,\n",
       "         -0.13508816, -0.13490012, -0.13243813, -0.13208251, -0.13207242,\n",
       "         -0.13141539, -0.1291472 , -0.12808125, -0.12732093, -0.12696514,\n",
       "         -0.12678404, -0.12648899, -0.12618686, -0.12583002, -0.12570382,\n",
       "         -0.12361084, -0.12325873, -0.12259343, -0.12224816, -0.12175483,\n",
       "         -0.1209431 , -0.12007304, -0.11966482, -0.11719194, -0.11653611,\n",
       "         -0.11086532, -0.10820306, -0.10743121, -0.10732432, -0.10476676,\n",
       "         -0.1039403 , -0.10349426, -0.10274325, -0.10208139, -0.10177894,\n",
       "         -0.10156574, -0.10097468, -0.10083885, -0.10019831, -0.10018786,\n",
       "         -0.0987405 , -0.09857205, -0.09828646, -0.096974  , -0.09620726,\n",
       "         -0.09575638, -0.09496439, -0.09462642, -0.09405768, -0.09326665,\n",
       "         -0.0928167 , -0.09275883, -0.09169709, -0.0909459 , -0.09027379,\n",
       "         -0.08969844, -0.08838449, -0.08514313, -0.08330824, -0.08251363,\n",
       "         -0.08189079, -0.08136314, -0.07946053, -0.07629365, -0.07614495,\n",
       "         -0.07596775, -0.07591101, -0.075337  , -0.07531453, -0.07459827,\n",
       "         -0.07309564, -0.0712313 , -0.07120428, -0.06988402, -0.06959756,\n",
       "         -0.06858156, -0.06823987, -0.06771852, -0.06701579, -0.06692255,\n",
       "         -0.06558337, -0.06413507, -0.05973625, -0.05867853, -0.05796436,\n",
       "         -0.05541271, -0.05386449, -0.05360558, -0.05312304, -0.05287462,\n",
       "         -0.05163082, -0.05070835, -0.04817832, -0.04690575, -0.04645732,\n",
       "         -0.04630316, -0.0458376 , -0.04455585, -0.04385943, -0.04359043,\n",
       "         -0.04348011, -0.04329637, -0.04308858, -0.04294124, -0.04277655,\n",
       "         -0.04186117, -0.04149683, -0.04139604, -0.04103014, -0.04014412,\n",
       "         -0.03642458, -0.0293791 , -0.02935105, -0.02854268, -0.02685702,\n",
       "         -0.02467522, -0.02441088, -0.0241738 , -0.0223535 , -0.02162969,\n",
       "         -0.02061545, -0.01993911, -0.01741576, -0.01660646, -0.01648187,\n",
       "         -0.01624714, -0.01503435, -0.0143724 , -0.01358955, -0.01232368,\n",
       "         -0.01194372, -0.01054136, -0.00969465, -0.00958009, -0.00954119,\n",
       "         -0.00810777, -0.00763859, -0.00604217, -0.0040297 , -0.00260863,\n",
       "         -0.00222309, -0.00182043,  0.00106317,  0.00132438,  0.00238946,\n",
       "          0.00272076,  0.00586638,  0.00631222,  0.00686296,  0.00763555,\n",
       "          0.0098072 ,  0.01001685,  0.01122179,  0.01131898,  0.01451274,\n",
       "          0.0149222 ,  0.01563835,  0.01730852,  0.01732608,  0.01737911,\n",
       "          0.01814981,  0.01820071,  0.01883515,  0.01995237,  0.02008142,\n",
       "          0.02067779,  0.02076144,  0.02103661,  0.02199627,  0.02217587,\n",
       "          0.02418386,  0.02437981,  0.02457707,  0.02497044,  0.02580895,\n",
       "          0.02690745,  0.02823409,  0.02893993,  0.03053721,  0.03266859,\n",
       "          0.0349082 ,  0.03491685,  0.0356328 ,  0.03617749,  0.03657921,\n",
       "          0.036923  ,  0.04138079,  0.04367805,  0.04380595,  0.0468849 ,\n",
       "          0.04950057,  0.05207828,  0.05219247,  0.05243906,  0.05464506,\n",
       "          0.05468781,  0.05736879,  0.05805124,  0.05917378,  0.05968241,\n",
       "          0.06542131,  0.06650611,  0.067846  ,  0.06821759,  0.06910074,\n",
       "          0.06996491,  0.07225191,  0.07432525,  0.07575116,  0.07615733,\n",
       "          0.07714024,  0.07722859,  0.07754295,  0.07770942,  0.08108193,\n",
       "          0.08127287,  0.08231973,  0.08447607,  0.08641017,  0.08678435,\n",
       "          0.08759964,  0.08831711,  0.088639  ,  0.08873961,  0.08969472,\n",
       "          0.08990998,  0.09087276,  0.09098417,  0.0910269 ,  0.09106538,\n",
       "          0.09204193,  0.09223042,  0.09288027,  0.09643307,  0.10021287,\n",
       "          0.10039224,  0.1041178 ,  0.10571196,  0.10630813,  0.10639321,\n",
       "          0.10724937,  0.11286675,  0.11396596,  0.11446471,  0.1145277 ,\n",
       "          0.11505802,  0.11555956,  0.11765698,  0.11787669,  0.11801543,\n",
       "          0.11848026,  0.11882617,  0.1204999 ,  0.12116925,  0.1214784 ,\n",
       "          0.12166544,  0.12223106,  0.12238443,  0.12289403,  0.12329467,\n",
       "          0.12670648,  0.12773476,  0.12889844,  0.12898184,  0.13044794,\n",
       "          0.1339977 ,  0.13478632,  0.13606106,  0.13746228,  0.13758269,\n",
       "          0.13876176,  0.1391869 ,  0.13946277,  0.13947252,  0.13962224,\n",
       "          0.13970511,  0.1439902 ,  0.14557024,  0.14719665,  0.15210327,\n",
       "          0.15212459,  0.15320082,  0.15342116,  0.15676196,  0.15731892,\n",
       "          0.15917647,  0.16017354,  0.16111751,  0.16250457,  0.1630782 ,\n",
       "          0.16585912,  0.16991655,  0.17138348,  0.17195714,  0.17204781,\n",
       "          0.17258231,  0.17568915,  0.17624248,  0.17714114,  0.17781654,\n",
       "          0.17939277,  0.18034867,  0.18051448,  0.18139251,  0.18173995,\n",
       "          0.18328134,  0.18493444,  0.18748828,  0.18976827,  0.19002502,\n",
       "          0.19078478,  0.19150811,  0.19253159,  0.19395641,  0.19415785,\n",
       "          0.19527001,  0.19562545,  0.19634349,  0.19646314,  0.19648243,\n",
       "          0.19699724,  0.19742877,  0.19824848,  0.19947928,  0.19957506,\n",
       "          0.19962205,  0.20085565,  0.2032175 ,  0.20388858,  0.2044144 ,\n",
       "          0.20494806,  0.20571004,  0.20657471,  0.20877039,  0.20903546,\n",
       "          0.21033683,  0.21045576,  0.2105284 ,  0.21376687,  0.2142413 ,\n",
       "          0.2150526 ,  0.21514325,  0.21685968,  0.21862639,  0.21938906,\n",
       "          0.21962016,  0.22140667,  0.2220556 ,  0.2239414 ,  0.22416764,\n",
       "          0.22525428,  0.22557353,  0.22559436,  0.22634246,  0.22704426,\n",
       "          0.22754361,  0.22754699,  0.22777127,  0.22788816,  0.22982764,\n",
       "          0.22999056,  0.23012203,  0.2307091 ,  0.23085581,  0.23174419,\n",
       "          0.23328913,  0.23481377,  0.23519402,  0.2358939 ,  0.23685316,\n",
       "          0.23725424,  0.23727858,  0.2395508 ,  0.23988392,  0.24009753,\n",
       "          0.24523296,  0.24539807,  0.24866362,  0.24878826,  0.25059502,\n",
       "          0.25076486,  0.25102165,  0.25324012,  0.2549011 ,  0.25677864,\n",
       "          0.25736414,  0.25837865,  0.25898455,  0.25928245,  0.26456197,\n",
       "          0.26532525,  0.26996719,  0.27058075,  0.27087276,  0.27122546,\n",
       "          0.27308355,  0.27311005,  0.27345554,  0.27404733,  0.27450095,\n",
       "          0.27740756,  0.2781716 ,  0.27827617,  0.2786954 ,  0.27917943,\n",
       "          0.2814796 ,  0.28323444,  0.28515291,  0.28854551,  0.29084016,\n",
       "          0.29122743,  0.29187957,  0.2936977 ,  0.29559037,  0.29639147,\n",
       "          0.29804683,  0.29920259,  0.29979588,  0.30289337,  0.30526386,\n",
       "          0.30619399,  0.30731896,  0.30936497,  0.31083862,  0.31193856,\n",
       "          0.31305386,  0.31367865,  0.31379782,  0.31388014,  0.31496648,\n",
       "          0.3151994 ,  0.31552382,  0.31733911,  0.31803331,  0.32002244,\n",
       "          0.32076712,  0.32211773,  0.32240674,  0.32371767,  0.3268616 ,\n",
       "          0.32865691,  0.32989737,  0.33104846,  0.33398164,  0.33918912,\n",
       "          0.34277686,  0.34285489,  0.34423496,  0.34640867,  0.34800823,\n",
       "          0.34815038,  0.34834527,  0.34894356,  0.34903831,  0.35324598,\n",
       "          0.35360604,  0.35580334,  0.35627618,  0.35712492,  0.35772264,\n",
       "          0.35833764,  0.35877747,  0.35900264,  0.35958084,  0.36055117,\n",
       "          0.36112301,  0.3620626 ,  0.36219152,  0.36231855,  0.36347065,\n",
       "          0.36385561,  0.36594547,  0.36638233,  0.36678854,  0.36716716,\n",
       "          0.36728941,  0.36812606,  0.36948853,  0.37178573,  0.37265066,\n",
       "          0.37355683,  0.37383218,  0.37428797,  0.37439992,  0.37602685,\n",
       "          0.37650525,  0.37739879,  0.3783725 ,  0.37917334,  0.37923476,\n",
       "          0.37952148,  0.38067812,  0.3811032 ,  0.38172021,  0.38173536,\n",
       "          0.3818965 ,  0.38204141,  0.38228367,  0.38502185,  0.38630467,\n",
       "          0.38696078,  0.38905995,  0.38944791,  0.38979366,  0.39192336,\n",
       "          0.39538588,  0.39569129,  0.3965466 ,  0.39667129,  0.39676116,\n",
       "          0.39754276,  0.39806236,  0.39896109,  0.39986674,  0.40116217,\n",
       "          0.40314965,  0.40371974,  0.40398395,  0.40404439,  0.40494835,\n",
       "          0.4065555 ,  0.40773296,  0.40787559,  0.40884372,  0.41328434,\n",
       "          0.41486309,  0.41497077,  0.41854645,  0.41948261,  0.41950741,\n",
       "          0.41978281,  0.42171907,  0.42211146,  0.4222985 ,  0.42234798,\n",
       "          0.42275661,  0.42330531,  0.42330607,  0.42415877,  0.42496691,\n",
       "          0.42721181,  0.42808129,  0.42929142,  0.42952932,  0.43081872,\n",
       "          0.43239394,  0.4325612 ,  0.434214  ,  0.43583208,  0.43711704,\n",
       "          0.43841202,  0.43916091,  0.44020969,  0.44043195,  0.4413777 ,\n",
       "          0.4416678 ,  0.4425836 ,  0.44385086,  0.44437239,  0.44502678,\n",
       "          0.44530153,  0.44737059,  0.4485403 ,  0.44886102,  0.44931882,\n",
       "          0.45095261,  0.45187448,  0.4521427 ,  0.45274901,  0.45279166,\n",
       "          0.4536757 ,  0.45433382,  0.45608363,  0.45640572,  0.45874092,\n",
       "          0.45898272,  0.45914225,  0.4591666 ,  0.45943334,  0.46083466,\n",
       "          0.46157015,  0.46193638,  0.46218855,  0.46277032,  0.4631973 ,\n",
       "          0.46492494,  0.46551664,  0.46614745,  0.46638997,  0.46705492,\n",
       "          0.4673378 ,  0.46779467,  0.46796557,  0.46828641,  0.4689717 ,\n",
       "          0.46920587,  0.47049369,  0.47073144,  0.47291949,  0.4738187 ,\n",
       "          0.47425621,  0.47509468,  0.47552151,  0.47588387,  0.47622566,\n",
       "          0.47749514,  0.47952693,  0.47996233,  0.48048566,  0.48058013,\n",
       "          0.48182939,  0.48342624,  0.48549143,  0.48734876,  0.48940978,\n",
       "          0.49033895,  0.490345  ,  0.49189033,  0.49201124,  0.49440079,\n",
       "          0.49581529,  0.49796225,  0.49884701,  0.49927799,  0.49980858])),\n",
       " (0.28672815123484141, -0.0033105384228883446, 0.97635090553386439))"
      ]
     },
     "execution_count": 21,
     "metadata": {},
     "output_type": "execute_result"
    },
    {
     "data": {
      "text/plain": [
       "<matplotlib.axes._subplots.AxesSubplot at 0xc805d30>"
      ]
     },
     "execution_count": 21,
     "metadata": {},
     "output_type": "execute_result"
    },
    {
     "data": {
      "text/plain": [
       "<matplotlib.axes._subplots.AxesSubplot at 0xc805d30>"
      ]
     },
     "execution_count": 21,
     "metadata": {},
     "output_type": "execute_result"
    },
    {
     "data": {
      "text/plain": [
       "(-2, 2)"
      ]
     },
     "execution_count": 21,
     "metadata": {},
     "output_type": "execute_result"
    },
    {
     "data": {
      "text/plain": [
       "([], <a list of 0 Text yticklabel objects>)"
      ]
     },
     "execution_count": 21,
     "metadata": {},
     "output_type": "execute_result"
    },
    {
     "data": {
      "text/plain": [
       "<matplotlib.axes._subplots.AxesSubplot at 0xc8759e8>"
      ]
     },
     "execution_count": 21,
     "metadata": {},
     "output_type": "execute_result"
    },
    {
     "data": {
      "text/plain": [
       "((array([ -3.19758950e+00,  -2.93237785e+00,  -2.78437841e+00,\n",
       "          -2.67999560e+00,  -2.59855946e+00,  -2.53139899e+00,\n",
       "          -2.47402263e+00,  -2.42379214e+00,  -2.37902149e+00,\n",
       "          -2.33856546e+00,  -2.30160949e+00,  -2.26755284e+00,\n",
       "          -2.23593934e+00,  -2.20641415e+00,  -2.17869564e+00,\n",
       "          -2.15255643e+00,  -2.12781017e+00,  -2.10430217e+00,\n",
       "          -2.08190261e+00,  -2.06050135e+00,  -2.04000420e+00,\n",
       "          -2.02032992e+00,  -2.00140792e+00,  -1.98317650e+00,\n",
       "          -1.96558137e+00,  -1.94857451e+00,  -1.93211325e+00,\n",
       "          -1.91615948e+00,  -1.90067901e+00,  -1.88564107e+00,\n",
       "          -1.87101783e+00,  -1.85678408e+00,  -1.84291686e+00,\n",
       "          -1.82939524e+00,  -1.81620005e+00,  -1.80331371e+00,\n",
       "          -1.79072004e+00,  -1.77840415e+00,  -1.76635224e+00,\n",
       "          -1.75455157e+00,  -1.74299028e+00,  -1.73165738e+00,\n",
       "          -1.72054262e+00,  -1.70963644e+00,  -1.69892989e+00,\n",
       "          -1.68841463e+00,  -1.67808281e+00,  -1.66792707e+00,\n",
       "          -1.65794051e+00,  -1.64811661e+00,  -1.63844924e+00,\n",
       "          -1.62893261e+00,  -1.61956127e+00,  -1.61033003e+00,\n",
       "          -1.60123402e+00,  -1.59226859e+00,  -1.58342935e+00,\n",
       "          -1.57471213e+00,  -1.56611295e+00,  -1.55762804e+00,\n",
       "          -1.54925381e+00,  -1.54098684e+00,  -1.53282387e+00,\n",
       "          -1.52476177e+00,  -1.51679758e+00,  -1.50892845e+00,\n",
       "          -1.50115166e+00,  -1.49346462e+00,  -1.48586482e+00,\n",
       "          -1.47834989e+00,  -1.47091753e+00,  -1.46356555e+00,\n",
       "          -1.45629184e+00,  -1.44909437e+00,  -1.44197119e+00,\n",
       "          -1.43492043e+00,  -1.42794030e+00,  -1.42102906e+00,\n",
       "          -1.41418503e+00,  -1.40740661e+00,  -1.40069224e+00,\n",
       "          -1.39404044e+00,  -1.38744975e+00,  -1.38091878e+00,\n",
       "          -1.37444619e+00,  -1.36803067e+00,  -1.36167098e+00,\n",
       "          -1.35536588e+00,  -1.34911421e+00,  -1.34291482e+00,\n",
       "          -1.33676663e+00,  -1.33066855e+00,  -1.32461956e+00,\n",
       "          -1.31861865e+00,  -1.31266485e+00,  -1.30675722e+00,\n",
       "          -1.30089485e+00,  -1.29507686e+00,  -1.28930237e+00,\n",
       "          -1.28357055e+00,  -1.27788060e+00,  -1.27223172e+00,\n",
       "          -1.26662315e+00,  -1.26105415e+00,  -1.25552398e+00,\n",
       "          -1.25003194e+00,  -1.24457735e+00,  -1.23915954e+00,\n",
       "          -1.23377786e+00,  -1.22843168e+00,  -1.22312038e+00,\n",
       "          -1.21784337e+00,  -1.21260004e+00,  -1.20738985e+00,\n",
       "          -1.20221223e+00,  -1.19706664e+00,  -1.19195255e+00,\n",
       "          -1.18686944e+00,  -1.18181682e+00,  -1.17679419e+00,\n",
       "          -1.17180107e+00,  -1.16683699e+00,  -1.16190151e+00,\n",
       "          -1.15699416e+00,  -1.15211453e+00,  -1.14726217e+00,\n",
       "          -1.14243667e+00,  -1.13763763e+00,  -1.13286465e+00,\n",
       "          -1.12811734e+00,  -1.12339532e+00,  -1.11869822e+00,\n",
       "          -1.11402566e+00,  -1.10937731e+00,  -1.10475280e+00,\n",
       "          -1.10015180e+00,  -1.09557397e+00,  -1.09101899e+00,\n",
       "          -1.08648653e+00,  -1.08197628e+00,  -1.07748793e+00,\n",
       "          -1.07302119e+00,  -1.06857575e+00,  -1.06415133e+00,\n",
       "          -1.05974765e+00,  -1.05536442e+00,  -1.05100137e+00,\n",
       "          -1.04665824e+00,  -1.04233476e+00,  -1.03803068e+00,\n",
       "          -1.03374574e+00,  -1.02947970e+00,  -1.02523232e+00,\n",
       "          -1.02100335e+00,  -1.01679256e+00,  -1.01259972e+00,\n",
       "          -1.00842461e+00,  -1.00426700e+00,  -1.00012668e+00,\n",
       "          -9.96003439e-01,  -9.91897058e-01,  -9.87807334e-01,\n",
       "          -9.83734067e-01,  -9.79677056e-01,  -9.75636106e-01,\n",
       "          -9.71611024e-01,  -9.67601623e-01,  -9.63607717e-01,\n",
       "          -9.59629122e-01,  -9.55665660e-01,  -9.51717154e-01,\n",
       "          -9.47783430e-01,  -9.43864319e-01,  -9.39959651e-01,\n",
       "          -9.36069261e-01,  -9.32192988e-01,  -9.28330671e-01,\n",
       "          -9.24482153e-01,  -9.20647280e-01,  -9.16825898e-01,\n",
       "          -9.13017857e-01,  -9.09223011e-01,  -9.05441213e-01,\n",
       "          -9.01672321e-01,  -8.97916193e-01,  -8.94172691e-01,\n",
       "          -8.90441678e-01,  -8.86723020e-01,  -8.83016583e-01,\n",
       "          -8.79322237e-01,  -8.75639853e-01,  -8.71969305e-01,\n",
       "          -8.68310468e-01,  -8.64663218e-01,  -8.61027434e-01,\n",
       "          -8.57402996e-01,  -8.53789787e-01,  -8.50187690e-01,\n",
       "          -8.46596591e-01,  -8.43016376e-01,  -8.39446935e-01,\n",
       "          -8.35888157e-01,  -8.32339934e-01,  -8.28802160e-01,\n",
       "          -8.25274728e-01,  -8.21757535e-01,  -8.18250479e-01,\n",
       "          -8.14753457e-01,  -8.11266372e-01,  -8.07789123e-01,\n",
       "          -8.04321614e-01,  -8.00863750e-01,  -7.97415434e-01,\n",
       "          -7.93976575e-01,  -7.90547079e-01,  -7.87126857e-01,\n",
       "          -7.83715817e-01,  -7.80313872e-01,  -7.76920933e-01,\n",
       "          -7.73536915e-01,  -7.70161733e-01,  -7.66795301e-01,\n",
       "          -7.63437536e-01,  -7.60088358e-01,  -7.56747683e-01,\n",
       "          -7.53415433e-01,  -7.50091527e-01,  -7.46775888e-01,\n",
       "          -7.43468439e-01,  -7.40169103e-01,  -7.36877804e-01,\n",
       "          -7.33594468e-01,  -7.30319022e-01,  -7.27051392e-01,\n",
       "          -7.23791507e-01,  -7.20539295e-01,  -7.17294687e-01,\n",
       "          -7.14057613e-01,  -7.10828003e-01,  -7.07605791e-01,\n",
       "          -7.04390909e-01,  -7.01183291e-01,  -6.97982871e-01,\n",
       "          -6.94789584e-01,  -6.91603367e-01,  -6.88424155e-01,\n",
       "          -6.85251886e-01,  -6.82086498e-01,  -6.78927930e-01,\n",
       "          -6.75776120e-01,  -6.72631010e-01,  -6.69492539e-01,\n",
       "          -6.66360648e-01,  -6.63235280e-01,  -6.60116377e-01,\n",
       "          -6.57003883e-01,  -6.53897740e-01,  -6.50797893e-01,\n",
       "          -6.47704287e-01,  -6.44616868e-01,  -6.41535581e-01,\n",
       "          -6.38460373e-01,  -6.35391191e-01,  -6.32327983e-01,\n",
       "          -6.29270697e-01,  -6.26219281e-01,  -6.23173684e-01,\n",
       "          -6.20133858e-01,  -6.17099750e-01,  -6.14071313e-01,\n",
       "          -6.11048498e-01,  -6.08031256e-01,  -6.05019539e-01,\n",
       "          -6.02013299e-01,  -5.99012491e-01,  -5.96017067e-01,\n",
       "          -5.93026981e-01,  -5.90042188e-01,  -5.87062643e-01,\n",
       "          -5.84088300e-01,  -5.81119115e-01,  -5.78155045e-01,\n",
       "          -5.75196045e-01,  -5.72242074e-01,  -5.69293087e-01,\n",
       "          -5.66349043e-01,  -5.63409899e-01,  -5.60475614e-01,\n",
       "          -5.57546147e-01,  -5.54621458e-01,  -5.51701504e-01,\n",
       "          -5.48786247e-01,  -5.45875647e-01,  -5.42969663e-01,\n",
       "          -5.40068258e-01,  -5.37171392e-01,  -5.34279026e-01,\n",
       "          -5.31391124e-01,  -5.28507646e-01,  -5.25628557e-01,\n",
       "          -5.22753817e-01,  -5.19883391e-01,  -5.17017243e-01,\n",
       "          -5.14155335e-01,  -5.11297632e-01,  -5.08444099e-01,\n",
       "          -5.05594699e-01,  -5.02749399e-01,  -4.99908163e-01,\n",
       "          -4.97070957e-01,  -4.94237747e-01,  -4.91408498e-01,\n",
       "          -4.88583178e-01,  -4.85761752e-01,  -4.82944188e-01,\n",
       "          -4.80130452e-01,  -4.77320513e-01,  -4.74514337e-01,\n",
       "          -4.71711893e-01,  -4.68913149e-01,  -4.66118073e-01,\n",
       "          -4.63326634e-01,  -4.60538801e-01,  -4.57754542e-01,\n",
       "          -4.54973827e-01,  -4.52196626e-01,  -4.49422908e-01,\n",
       "          -4.46652644e-01,  -4.43885803e-01,  -4.41122356e-01,\n",
       "          -4.38362274e-01,  -4.35605527e-01,  -4.32852086e-01,\n",
       "          -4.30101924e-01,  -4.27355010e-01,  -4.24611318e-01,\n",
       "          -4.21870818e-01,  -4.19133483e-01,  -4.16399284e-01,\n",
       "          -4.13668196e-01,  -4.10940189e-01,  -4.08215237e-01,\n",
       "          -4.05493313e-01,  -4.02774389e-01,  -4.00058440e-01,\n",
       "          -3.97345439e-01,  -3.94635359e-01,  -3.91928175e-01,\n",
       "          -3.89223860e-01,  -3.86522388e-01,  -3.83823735e-01,\n",
       "          -3.81127874e-01,  -3.78434779e-01,  -3.75744427e-01,\n",
       "          -3.73056792e-01,  -3.70371848e-01,  -3.67689572e-01,\n",
       "          -3.65009939e-01,  -3.62332924e-01,  -3.59658504e-01,\n",
       "          -3.56986653e-01,  -3.54317348e-01,  -3.51650566e-01,\n",
       "          -3.48986282e-01,  -3.46324472e-01,  -3.43665115e-01,\n",
       "          -3.41008186e-01,  -3.38353661e-01,  -3.35701519e-01,\n",
       "          -3.33051736e-01,  -3.30404290e-01,  -3.27759157e-01,\n",
       "          -3.25116316e-01,  -3.22475743e-01,  -3.19837417e-01,\n",
       "          -3.17201315e-01,  -3.14567416e-01,  -3.11935698e-01,\n",
       "          -3.09306138e-01,  -3.06678715e-01,  -3.04053407e-01,\n",
       "          -3.01430193e-01,  -2.98809052e-01,  -2.96189962e-01,\n",
       "          -2.93572903e-01,  -2.90957852e-01,  -2.88344790e-01,\n",
       "          -2.85733695e-01,  -2.83124547e-01,  -2.80517325e-01,\n",
       "          -2.77912008e-01,  -2.75308576e-01,  -2.72707009e-01,\n",
       "          -2.70107286e-01,  -2.67509388e-01,  -2.64913294e-01,\n",
       "          -2.62318984e-01,  -2.59726438e-01,  -2.57135637e-01,\n",
       "          -2.54546561e-01,  -2.51959189e-01,  -2.49373504e-01,\n",
       "          -2.46789484e-01,  -2.44207112e-01,  -2.41626367e-01,\n",
       "          -2.39047230e-01,  -2.36469683e-01,  -2.33893705e-01,\n",
       "          -2.31319279e-01,  -2.28746384e-01,  -2.26175004e-01,\n",
       "          -2.23605117e-01,  -2.21036707e-01,  -2.18469754e-01,\n",
       "          -2.15904240e-01,  -2.13340146e-01,  -2.10777454e-01,\n",
       "          -2.08216145e-01,  -2.05656202e-01,  -2.03097605e-01,\n",
       "          -2.00540338e-01,  -1.97984381e-01,  -1.95429717e-01,\n",
       "          -1.92876328e-01,  -1.90324196e-01,  -1.87773302e-01,\n",
       "          -1.85223630e-01,  -1.82675162e-01,  -1.80127879e-01,\n",
       "          -1.77581765e-01,  -1.75036802e-01,  -1.72492971e-01,\n",
       "          -1.69950256e-01,  -1.67408640e-01,  -1.64868105e-01,\n",
       "          -1.62328633e-01,  -1.59790208e-01,  -1.57252812e-01,\n",
       "          -1.54716428e-01,  -1.52181038e-01,  -1.49646627e-01,\n",
       "          -1.47113177e-01,  -1.44580670e-01,  -1.42049091e-01,\n",
       "          -1.39518421e-01,  -1.36988645e-01,  -1.34459745e-01,\n",
       "          -1.31931705e-01,  -1.29404507e-01,  -1.26878136e-01,\n",
       "          -1.24352575e-01,  -1.21827806e-01,  -1.19303813e-01,\n",
       "          -1.16780581e-01,  -1.14258092e-01,  -1.11736329e-01,\n",
       "          -1.09215277e-01,  -1.06694919e-01,  -1.04175238e-01,\n",
       "          -1.01656219e-01,  -9.91378445e-02,  -9.66200987e-02,\n",
       "          -9.41029651e-02,  -9.15864277e-02,  -8.90704701e-02,\n",
       "          -8.65550762e-02,  -8.40402299e-02,  -8.15259149e-02,\n",
       "          -7.90121153e-02,  -7.64988148e-02,  -7.39859974e-02,\n",
       "          -7.14736472e-02,  -6.89617480e-02,  -6.64502838e-02,\n",
       "          -6.39392387e-02,  -6.14285967e-02,  -5.89183419e-02,\n",
       "          -5.64084582e-02,  -5.38989299e-02,  -5.13897409e-02,\n",
       "          -4.88808755e-02,  -4.63723177e-02,  -4.38640516e-02,\n",
       "          -4.13560616e-02,  -3.88483316e-02,  -3.63408459e-02,\n",
       "          -3.38335886e-02,  -3.13265441e-02,  -2.88196964e-02,\n",
       "          -2.63130298e-02,  -2.38065286e-02,  -2.13001769e-02,\n",
       "          -1.87939590e-02,  -1.62878591e-02,  -1.37818616e-02,\n",
       "          -1.12759505e-02,  -8.77011034e-03,  -6.26432519e-03,\n",
       "          -3.75857938e-03,  -1.25285717e-03,   1.25285717e-03,\n",
       "           3.75857938e-03,   6.26432519e-03,   8.77011034e-03,\n",
       "           1.12759505e-02,   1.37818616e-02,   1.62878591e-02,\n",
       "           1.87939590e-02,   2.13001769e-02,   2.38065286e-02,\n",
       "           2.63130298e-02,   2.88196964e-02,   3.13265441e-02,\n",
       "           3.38335886e-02,   3.63408459e-02,   3.88483316e-02,\n",
       "           4.13560616e-02,   4.38640516e-02,   4.63723177e-02,\n",
       "           4.88808755e-02,   5.13897409e-02,   5.38989299e-02,\n",
       "           5.64084582e-02,   5.89183419e-02,   6.14285967e-02,\n",
       "           6.39392387e-02,   6.64502838e-02,   6.89617480e-02,\n",
       "           7.14736472e-02,   7.39859974e-02,   7.64988148e-02,\n",
       "           7.90121153e-02,   8.15259149e-02,   8.40402299e-02,\n",
       "           8.65550762e-02,   8.90704701e-02,   9.15864277e-02,\n",
       "           9.41029651e-02,   9.66200987e-02,   9.91378445e-02,\n",
       "           1.01656219e-01,   1.04175238e-01,   1.06694919e-01,\n",
       "           1.09215277e-01,   1.11736329e-01,   1.14258092e-01,\n",
       "           1.16780581e-01,   1.19303813e-01,   1.21827806e-01,\n",
       "           1.24352575e-01,   1.26878136e-01,   1.29404507e-01,\n",
       "           1.31931705e-01,   1.34459745e-01,   1.36988645e-01,\n",
       "           1.39518421e-01,   1.42049091e-01,   1.44580670e-01,\n",
       "           1.47113177e-01,   1.49646627e-01,   1.52181038e-01,\n",
       "           1.54716428e-01,   1.57252812e-01,   1.59790208e-01,\n",
       "           1.62328633e-01,   1.64868105e-01,   1.67408640e-01,\n",
       "           1.69950256e-01,   1.72492971e-01,   1.75036802e-01,\n",
       "           1.77581765e-01,   1.80127879e-01,   1.82675162e-01,\n",
       "           1.85223630e-01,   1.87773302e-01,   1.90324196e-01,\n",
       "           1.92876328e-01,   1.95429717e-01,   1.97984381e-01,\n",
       "           2.00540338e-01,   2.03097605e-01,   2.05656202e-01,\n",
       "           2.08216145e-01,   2.10777454e-01,   2.13340146e-01,\n",
       "           2.15904240e-01,   2.18469754e-01,   2.21036707e-01,\n",
       "           2.23605117e-01,   2.26175004e-01,   2.28746384e-01,\n",
       "           2.31319279e-01,   2.33893705e-01,   2.36469683e-01,\n",
       "           2.39047230e-01,   2.41626367e-01,   2.44207112e-01,\n",
       "           2.46789484e-01,   2.49373504e-01,   2.51959189e-01,\n",
       "           2.54546561e-01,   2.57135637e-01,   2.59726438e-01,\n",
       "           2.62318984e-01,   2.64913294e-01,   2.67509388e-01,\n",
       "           2.70107286e-01,   2.72707009e-01,   2.75308576e-01,\n",
       "           2.77912008e-01,   2.80517325e-01,   2.83124547e-01,\n",
       "           2.85733695e-01,   2.88344790e-01,   2.90957852e-01,\n",
       "           2.93572903e-01,   2.96189962e-01,   2.98809052e-01,\n",
       "           3.01430193e-01,   3.04053407e-01,   3.06678715e-01,\n",
       "           3.09306138e-01,   3.11935698e-01,   3.14567416e-01,\n",
       "           3.17201315e-01,   3.19837417e-01,   3.22475743e-01,\n",
       "           3.25116316e-01,   3.27759157e-01,   3.30404290e-01,\n",
       "           3.33051736e-01,   3.35701519e-01,   3.38353661e-01,\n",
       "           3.41008186e-01,   3.43665115e-01,   3.46324472e-01,\n",
       "           3.48986282e-01,   3.51650566e-01,   3.54317348e-01,\n",
       "           3.56986653e-01,   3.59658504e-01,   3.62332924e-01,\n",
       "           3.65009939e-01,   3.67689572e-01,   3.70371848e-01,\n",
       "           3.73056792e-01,   3.75744427e-01,   3.78434779e-01,\n",
       "           3.81127874e-01,   3.83823735e-01,   3.86522388e-01,\n",
       "           3.89223860e-01,   3.91928175e-01,   3.94635359e-01,\n",
       "           3.97345439e-01,   4.00058440e-01,   4.02774389e-01,\n",
       "           4.05493313e-01,   4.08215237e-01,   4.10940189e-01,\n",
       "           4.13668196e-01,   4.16399284e-01,   4.19133483e-01,\n",
       "           4.21870818e-01,   4.24611318e-01,   4.27355010e-01,\n",
       "           4.30101924e-01,   4.32852086e-01,   4.35605527e-01,\n",
       "           4.38362274e-01,   4.41122356e-01,   4.43885803e-01,\n",
       "           4.46652644e-01,   4.49422908e-01,   4.52196626e-01,\n",
       "           4.54973827e-01,   4.57754542e-01,   4.60538801e-01,\n",
       "           4.63326634e-01,   4.66118073e-01,   4.68913149e-01,\n",
       "           4.71711893e-01,   4.74514337e-01,   4.77320513e-01,\n",
       "           4.80130452e-01,   4.82944188e-01,   4.85761752e-01,\n",
       "           4.88583178e-01,   4.91408498e-01,   4.94237747e-01,\n",
       "           4.97070957e-01,   4.99908163e-01,   5.02749399e-01,\n",
       "           5.05594699e-01,   5.08444099e-01,   5.11297632e-01,\n",
       "           5.14155335e-01,   5.17017243e-01,   5.19883391e-01,\n",
       "           5.22753817e-01,   5.25628557e-01,   5.28507646e-01,\n",
       "           5.31391124e-01,   5.34279026e-01,   5.37171392e-01,\n",
       "           5.40068258e-01,   5.42969663e-01,   5.45875647e-01,\n",
       "           5.48786247e-01,   5.51701504e-01,   5.54621458e-01,\n",
       "           5.57546147e-01,   5.60475614e-01,   5.63409899e-01,\n",
       "           5.66349043e-01,   5.69293087e-01,   5.72242074e-01,\n",
       "           5.75196045e-01,   5.78155045e-01,   5.81119115e-01,\n",
       "           5.84088300e-01,   5.87062643e-01,   5.90042188e-01,\n",
       "           5.93026981e-01,   5.96017067e-01,   5.99012491e-01,\n",
       "           6.02013299e-01,   6.05019539e-01,   6.08031256e-01,\n",
       "           6.11048498e-01,   6.14071313e-01,   6.17099750e-01,\n",
       "           6.20133858e-01,   6.23173684e-01,   6.26219281e-01,\n",
       "           6.29270697e-01,   6.32327983e-01,   6.35391191e-01,\n",
       "           6.38460373e-01,   6.41535581e-01,   6.44616868e-01,\n",
       "           6.47704287e-01,   6.50797893e-01,   6.53897740e-01,\n",
       "           6.57003883e-01,   6.60116377e-01,   6.63235280e-01,\n",
       "           6.66360648e-01,   6.69492539e-01,   6.72631010e-01,\n",
       "           6.75776120e-01,   6.78927930e-01,   6.82086498e-01,\n",
       "           6.85251886e-01,   6.88424155e-01,   6.91603367e-01,\n",
       "           6.94789584e-01,   6.97982871e-01,   7.01183291e-01,\n",
       "           7.04390909e-01,   7.07605791e-01,   7.10828003e-01,\n",
       "           7.14057613e-01,   7.17294687e-01,   7.20539295e-01,\n",
       "           7.23791507e-01,   7.27051392e-01,   7.30319022e-01,\n",
       "           7.33594468e-01,   7.36877804e-01,   7.40169103e-01,\n",
       "           7.43468439e-01,   7.46775888e-01,   7.50091527e-01,\n",
       "           7.53415433e-01,   7.56747683e-01,   7.60088358e-01,\n",
       "           7.63437536e-01,   7.66795301e-01,   7.70161733e-01,\n",
       "           7.73536915e-01,   7.76920933e-01,   7.80313872e-01,\n",
       "           7.83715817e-01,   7.87126857e-01,   7.90547079e-01,\n",
       "           7.93976575e-01,   7.97415434e-01,   8.00863750e-01,\n",
       "           8.04321614e-01,   8.07789123e-01,   8.11266372e-01,\n",
       "           8.14753457e-01,   8.18250479e-01,   8.21757535e-01,\n",
       "           8.25274728e-01,   8.28802160e-01,   8.32339934e-01,\n",
       "           8.35888157e-01,   8.39446935e-01,   8.43016376e-01,\n",
       "           8.46596591e-01,   8.50187690e-01,   8.53789787e-01,\n",
       "           8.57402996e-01,   8.61027434e-01,   8.64663218e-01,\n",
       "           8.68310468e-01,   8.71969305e-01,   8.75639853e-01,\n",
       "           8.79322237e-01,   8.83016583e-01,   8.86723020e-01,\n",
       "           8.90441678e-01,   8.94172691e-01,   8.97916193e-01,\n",
       "           9.01672321e-01,   9.05441213e-01,   9.09223011e-01,\n",
       "           9.13017857e-01,   9.16825898e-01,   9.20647280e-01,\n",
       "           9.24482153e-01,   9.28330671e-01,   9.32192988e-01,\n",
       "           9.36069261e-01,   9.39959651e-01,   9.43864319e-01,\n",
       "           9.47783430e-01,   9.51717154e-01,   9.55665660e-01,\n",
       "           9.59629122e-01,   9.63607717e-01,   9.67601623e-01,\n",
       "           9.71611024e-01,   9.75636106e-01,   9.79677056e-01,\n",
       "           9.83734067e-01,   9.87807334e-01,   9.91897058e-01,\n",
       "           9.96003439e-01,   1.00012668e+00,   1.00426700e+00,\n",
       "           1.00842461e+00,   1.01259972e+00,   1.01679256e+00,\n",
       "           1.02100335e+00,   1.02523232e+00,   1.02947970e+00,\n",
       "           1.03374574e+00,   1.03803068e+00,   1.04233476e+00,\n",
       "           1.04665824e+00,   1.05100137e+00,   1.05536442e+00,\n",
       "           1.05974765e+00,   1.06415133e+00,   1.06857575e+00,\n",
       "           1.07302119e+00,   1.07748793e+00,   1.08197628e+00,\n",
       "           1.08648653e+00,   1.09101899e+00,   1.09557397e+00,\n",
       "           1.10015180e+00,   1.10475280e+00,   1.10937731e+00,\n",
       "           1.11402566e+00,   1.11869822e+00,   1.12339532e+00,\n",
       "           1.12811734e+00,   1.13286465e+00,   1.13763763e+00,\n",
       "           1.14243667e+00,   1.14726217e+00,   1.15211453e+00,\n",
       "           1.15699416e+00,   1.16190151e+00,   1.16683699e+00,\n",
       "           1.17180107e+00,   1.17679419e+00,   1.18181682e+00,\n",
       "           1.18686944e+00,   1.19195255e+00,   1.19706664e+00,\n",
       "           1.20221223e+00,   1.20738985e+00,   1.21260004e+00,\n",
       "           1.21784337e+00,   1.22312038e+00,   1.22843168e+00,\n",
       "           1.23377786e+00,   1.23915954e+00,   1.24457735e+00,\n",
       "           1.25003194e+00,   1.25552398e+00,   1.26105415e+00,\n",
       "           1.26662315e+00,   1.27223172e+00,   1.27788060e+00,\n",
       "           1.28357055e+00,   1.28930237e+00,   1.29507686e+00,\n",
       "           1.30089485e+00,   1.30675722e+00,   1.31266485e+00,\n",
       "           1.31861865e+00,   1.32461956e+00,   1.33066855e+00,\n",
       "           1.33676663e+00,   1.34291482e+00,   1.34911421e+00,\n",
       "           1.35536588e+00,   1.36167098e+00,   1.36803067e+00,\n",
       "           1.37444619e+00,   1.38091878e+00,   1.38744975e+00,\n",
       "           1.39404044e+00,   1.40069224e+00,   1.40740661e+00,\n",
       "           1.41418503e+00,   1.42102906e+00,   1.42794030e+00,\n",
       "           1.43492043e+00,   1.44197119e+00,   1.44909437e+00,\n",
       "           1.45629184e+00,   1.46356555e+00,   1.47091753e+00,\n",
       "           1.47834989e+00,   1.48586482e+00,   1.49346462e+00,\n",
       "           1.50115166e+00,   1.50892845e+00,   1.51679758e+00,\n",
       "           1.52476177e+00,   1.53282387e+00,   1.54098684e+00,\n",
       "           1.54925381e+00,   1.55762804e+00,   1.56611295e+00,\n",
       "           1.57471213e+00,   1.58342935e+00,   1.59226859e+00,\n",
       "           1.60123402e+00,   1.61033003e+00,   1.61956127e+00,\n",
       "           1.62893261e+00,   1.63844924e+00,   1.64811661e+00,\n",
       "           1.65794051e+00,   1.66792707e+00,   1.67808281e+00,\n",
       "           1.68841463e+00,   1.69892989e+00,   1.70963644e+00,\n",
       "           1.72054262e+00,   1.73165738e+00,   1.74299028e+00,\n",
       "           1.75455157e+00,   1.76635224e+00,   1.77840415e+00,\n",
       "           1.79072004e+00,   1.80331371e+00,   1.81620005e+00,\n",
       "           1.82939524e+00,   1.84291686e+00,   1.85678408e+00,\n",
       "           1.87101783e+00,   1.88564107e+00,   1.90067901e+00,\n",
       "           1.91615948e+00,   1.93211325e+00,   1.94857451e+00,\n",
       "           1.96558137e+00,   1.98317650e+00,   2.00140792e+00,\n",
       "           2.02032992e+00,   2.04000420e+00,   2.06050135e+00,\n",
       "           2.08190261e+00,   2.10430217e+00,   2.12781017e+00,\n",
       "           2.15255643e+00,   2.17869564e+00,   2.20641415e+00,\n",
       "           2.23593934e+00,   2.26755284e+00,   2.30160949e+00,\n",
       "           2.33856546e+00,   2.37902149e+00,   2.42379214e+00,\n",
       "           2.47402263e+00,   2.53139899e+00,   2.59855946e+00,\n",
       "           2.67999560e+00,   2.78437841e+00,   2.93237785e+00,\n",
       "           3.19758950e+00]),\n",
       "  array([ -6.96155207e-01,  -6.78335804e-01,  -6.76608925e-01,\n",
       "          -6.64279796e-01,  -6.51974555e-01,  -6.50852469e-01,\n",
       "          -6.28747153e-01,  -6.24827107e-01,  -6.21069690e-01,\n",
       "          -6.19654997e-01,  -6.06651740e-01,  -6.05608869e-01,\n",
       "          -6.03130469e-01,  -6.02113118e-01,  -6.00083087e-01,\n",
       "          -5.94607547e-01,  -5.93944559e-01,  -5.89438455e-01,\n",
       "          -5.86327718e-01,  -5.76917762e-01,  -5.73912757e-01,\n",
       "          -5.72555283e-01,  -5.71798090e-01,  -5.68953559e-01,\n",
       "          -5.64995310e-01,  -5.64021111e-01,  -5.54456268e-01,\n",
       "          -5.45839245e-01,  -5.41863046e-01,  -5.34930866e-01,\n",
       "          -5.30385555e-01,  -5.25107247e-01,  -5.24359087e-01,\n",
       "          -5.23688030e-01,  -5.16113675e-01,  -5.02333835e-01,\n",
       "          -5.01654887e-01,  -4.99325780e-01,  -4.97587096e-01,\n",
       "          -4.97250134e-01,  -4.96739378e-01,  -4.90821709e-01,\n",
       "          -4.85387091e-01,  -4.82106506e-01,  -4.81060160e-01,\n",
       "          -4.73847916e-01,  -4.72205923e-01,  -4.72044943e-01,\n",
       "          -4.71753158e-01,  -4.65563997e-01,  -4.65158777e-01,\n",
       "          -4.64185138e-01,  -4.63366018e-01,  -4.60115728e-01,\n",
       "          -4.60062762e-01,  -4.58308238e-01,  -4.55125468e-01,\n",
       "          -4.53266068e-01,  -4.49544029e-01,  -4.47398617e-01,\n",
       "          -4.45433090e-01,  -4.42578939e-01,  -4.42389131e-01,\n",
       "          -4.40356442e-01,  -4.39370208e-01,  -4.36764341e-01,\n",
       "          -4.34640810e-01,  -4.32131623e-01,  -4.31994668e-01,\n",
       "          -4.27795136e-01,  -4.25316237e-01,  -4.24895247e-01,\n",
       "          -4.23729231e-01,  -4.23302196e-01,  -4.17172406e-01,\n",
       "          -4.11051884e-01,  -4.11003977e-01,  -4.10485084e-01,\n",
       "          -4.09631131e-01,  -4.09229669e-01,  -4.04207203e-01,\n",
       "          -4.03398226e-01,  -4.02074577e-01,  -4.00580371e-01,\n",
       "          -4.00270510e-01,  -3.96288462e-01,  -3.95575843e-01,\n",
       "          -3.95471140e-01,  -3.94370220e-01,  -3.90726557e-01,\n",
       "          -3.89238917e-01,  -3.88403319e-01,  -3.88101195e-01,\n",
       "          -3.87879163e-01,  -3.86836841e-01,  -3.86737115e-01,\n",
       "          -3.84324619e-01,  -3.80481464e-01,  -3.80281001e-01,\n",
       "          -3.78849316e-01,  -3.77779249e-01,  -3.77313032e-01,\n",
       "          -3.77059394e-01,  -3.76806407e-01,  -3.74524707e-01,\n",
       "          -3.73094315e-01,  -3.71798409e-01,  -3.70870564e-01,\n",
       "          -3.70299152e-01,  -3.65959153e-01,  -3.65568475e-01,\n",
       "          -3.64620352e-01,  -3.63878581e-01,  -3.63170166e-01,\n",
       "          -3.57685383e-01,  -3.56444628e-01,  -3.55191724e-01,\n",
       "          -3.54062282e-01,  -3.53926662e-01,  -3.53210822e-01,\n",
       "          -3.52789240e-01,  -3.51225200e-01,  -3.50959370e-01,\n",
       "          -3.50533672e-01,  -3.47310176e-01,  -3.46662614e-01,\n",
       "          -3.45949705e-01,  -3.45393934e-01,  -3.43802966e-01,\n",
       "          -3.43296026e-01,  -3.42038241e-01,  -3.38720579e-01,\n",
       "          -3.38391504e-01,  -3.36507333e-01,  -3.36059060e-01,\n",
       "          -3.35719891e-01,  -3.35018761e-01,  -3.34171861e-01,\n",
       "          -3.32739645e-01,  -3.31723356e-01,  -3.28098783e-01,\n",
       "          -3.26286326e-01,  -3.25309812e-01,  -3.23155760e-01,\n",
       "          -3.22948713e-01,  -3.20607474e-01,  -3.19902557e-01,\n",
       "          -3.18121582e-01,  -3.15501078e-01,  -3.15156790e-01,\n",
       "          -3.15128927e-01,  -3.13461934e-01,  -3.13294386e-01,\n",
       "          -3.13204183e-01,  -3.13090987e-01,  -3.12748000e-01,\n",
       "          -3.12149843e-01,  -3.09372112e-01,  -3.08539988e-01,\n",
       "          -3.06554646e-01,  -3.06475182e-01,  -3.04646656e-01,\n",
       "          -3.04264287e-01,  -3.04121971e-01,  -3.02962916e-01,\n",
       "          -3.02881216e-01,  -3.02106296e-01,  -3.00138590e-01,\n",
       "          -2.99751385e-01,  -2.99460547e-01,  -2.97189794e-01,\n",
       "          -2.94685604e-01,  -2.94582229e-01,  -2.93601409e-01,\n",
       "          -2.93403929e-01,  -2.92324260e-01,  -2.91561338e-01,\n",
       "          -2.91414045e-01,  -2.89615317e-01,  -2.84143601e-01,\n",
       "          -2.83419784e-01,  -2.82902779e-01,  -2.82825398e-01,\n",
       "          -2.82532876e-01,  -2.77157493e-01,  -2.71306350e-01,\n",
       "          -2.69528945e-01,  -2.67730289e-01,  -2.67580088e-01,\n",
       "          -2.67037349e-01,  -2.66986047e-01,  -2.66823818e-01,\n",
       "          -2.66784678e-01,  -2.66649780e-01,  -2.65701924e-01,\n",
       "          -2.64574982e-01,  -2.64573704e-01,  -2.64454148e-01,\n",
       "          -2.64186635e-01,  -2.59700814e-01,  -2.58403995e-01,\n",
       "          -2.55307549e-01,  -2.55027321e-01,  -2.54787456e-01,\n",
       "          -2.52692561e-01,  -2.51456638e-01,  -2.50414306e-01,\n",
       "          -2.49901695e-01,  -2.49461426e-01,  -2.49404891e-01,\n",
       "          -2.48841490e-01,  -2.46639694e-01,  -2.46144231e-01,\n",
       "          -2.45459837e-01,  -2.45142470e-01,  -2.45077469e-01,\n",
       "          -2.45037125e-01,  -2.44706622e-01,  -2.44482141e-01,\n",
       "          -2.43805733e-01,  -2.43551300e-01,  -2.42472766e-01,\n",
       "          -2.41431749e-01,  -2.41319521e-01,  -2.41083698e-01,\n",
       "          -2.40110969e-01,  -2.36670060e-01,  -2.36659658e-01,\n",
       "          -2.35658639e-01,  -2.35285358e-01,  -2.34297745e-01,\n",
       "          -2.32974270e-01,  -2.32878319e-01,  -2.32523907e-01,\n",
       "          -2.32252496e-01,  -2.30101937e-01,  -2.29516405e-01,\n",
       "          -2.29162476e-01,  -2.28402313e-01,  -2.27769280e-01,\n",
       "          -2.26889608e-01,  -2.25437511e-01,  -2.24702039e-01,\n",
       "          -2.20930025e-01,  -2.20623148e-01,  -2.20323942e-01,\n",
       "          -2.19700455e-01,  -2.15717928e-01,  -2.13534386e-01,\n",
       "          -2.13114238e-01,  -2.09180500e-01,  -2.08754452e-01,\n",
       "          -2.08666078e-01,  -2.08564953e-01,  -2.08205765e-01,\n",
       "          -2.07034775e-01,  -2.06951877e-01,  -2.06027453e-01,\n",
       "          -2.04202750e-01,  -2.03081870e-01,  -2.02045578e-01,\n",
       "          -2.00981465e-01,  -1.99946526e-01,  -1.99375743e-01,\n",
       "          -1.98732017e-01,  -1.96697748e-01,  -1.96071196e-01,\n",
       "          -1.94966807e-01,  -1.93864472e-01,  -1.92168277e-01,\n",
       "          -1.91339513e-01,  -1.89481102e-01,  -1.89062886e-01,\n",
       "          -1.87598915e-01,  -1.87321524e-01,  -1.86796286e-01,\n",
       "          -1.86654904e-01,  -1.86523148e-01,  -1.86284045e-01,\n",
       "          -1.85663418e-01,  -1.85345712e-01,  -1.85281428e-01,\n",
       "          -1.83753604e-01,  -1.80710594e-01,  -1.80170631e-01,\n",
       "          -1.79416746e-01,  -1.78924794e-01,  -1.77645462e-01,\n",
       "          -1.77310346e-01,  -1.76397136e-01,  -1.74944888e-01,\n",
       "          -1.74195597e-01,  -1.72467829e-01,  -1.71192102e-01,\n",
       "          -1.67348373e-01,  -1.65972732e-01,  -1.65743002e-01,\n",
       "          -1.65244643e-01,  -1.63215023e-01,  -1.62763366e-01,\n",
       "          -1.62682263e-01,  -1.60227920e-01,  -1.60034828e-01,\n",
       "          -1.59474352e-01,  -1.58258435e-01,  -1.57124560e-01,\n",
       "          -1.56473163e-01,  -1.56066777e-01,  -1.53447369e-01,\n",
       "          -1.50759095e-01,  -1.49866967e-01,  -1.48224048e-01,\n",
       "          -1.46282062e-01,  -1.45767312e-01,  -1.45515302e-01,\n",
       "          -1.44794870e-01,  -1.44491796e-01,  -1.43381777e-01,\n",
       "          -1.37777027e-01,  -1.33844084e-01,  -1.33341814e-01,\n",
       "          -1.32299212e-01,  -1.30248218e-01,  -1.26929168e-01,\n",
       "          -1.25452484e-01,  -1.25089027e-01,  -1.25057945e-01,\n",
       "          -1.23612152e-01,  -1.23299210e-01,  -1.22963369e-01,\n",
       "          -1.22228688e-01,  -1.22005561e-01,  -1.20992494e-01,\n",
       "          -1.20216331e-01,  -1.19455058e-01,  -1.19143581e-01,\n",
       "          -1.16715731e-01,  -1.16383416e-01,  -1.16133907e-01,\n",
       "          -1.16081139e-01,  -1.16023816e-01,  -1.16023045e-01,\n",
       "          -1.15776361e-01,  -1.12736239e-01,  -1.12306987e-01,\n",
       "          -1.11883734e-01,  -1.09144685e-01,  -1.07928612e-01,\n",
       "          -1.06923454e-01,  -1.04959761e-01,  -1.04898090e-01,\n",
       "          -1.04578544e-01,  -1.04536054e-01,  -1.03417727e-01,\n",
       "          -1.02253259e-01,  -1.01964676e-01,  -1.00691424e-01,\n",
       "          -1.00005325e-01,  -9.96970680e-02,  -9.96472190e-02,\n",
       "          -9.94185730e-02,  -9.87761036e-02,  -9.80342453e-02,\n",
       "          -9.68495174e-02,  -9.57971344e-02,  -9.21031622e-02,\n",
       "          -9.19203624e-02,  -9.08603241e-02,  -9.08406616e-02,\n",
       "          -8.92063586e-02,  -8.87777633e-02,  -8.70123307e-02,\n",
       "          -8.57696213e-02,  -8.54917164e-02,  -8.29893576e-02,\n",
       "          -8.29595329e-02,  -8.09885409e-02,  -7.99250397e-02,\n",
       "          -7.98899060e-02,  -7.90462547e-02,  -7.88479414e-02,\n",
       "          -7.82427356e-02,  -7.78743937e-02,  -7.78727483e-02,\n",
       "          -7.34664571e-02,  -7.15092296e-02,  -7.11727047e-02,\n",
       "          -7.09332407e-02,  -6.95389107e-02,  -6.94878661e-02,\n",
       "          -6.89537017e-02,  -6.81033392e-02,  -6.78597962e-02,\n",
       "          -6.74561722e-02,  -6.72143356e-02,  -6.65921972e-02,\n",
       "          -6.60928029e-02,  -6.57536987e-02,  -6.50907168e-02,\n",
       "          -6.46375574e-02,  -6.31660353e-02,  -6.23560561e-02,\n",
       "          -5.93894171e-02,  -5.75620202e-02,  -5.70991551e-02,\n",
       "          -5.63991614e-02,  -5.36069668e-02,  -5.31414591e-02,\n",
       "          -5.15412202e-02,  -5.12876085e-02,  -4.99516047e-02,\n",
       "          -4.80494263e-02,  -4.77997066e-02,  -4.74315936e-02,\n",
       "          -4.71795833e-02,  -4.67560680e-02,  -4.60433285e-02,\n",
       "          -4.58398807e-02,  -4.57277015e-02,  -4.57008116e-02,\n",
       "          -4.52837867e-02,  -4.51801356e-02,  -4.33450198e-02,\n",
       "          -4.32048987e-02,  -4.21828139e-02,  -4.01146105e-02,\n",
       "          -3.90403987e-02,  -3.76566689e-02,  -3.73283096e-02,\n",
       "          -3.58874574e-02,  -3.58661490e-02,  -3.26253230e-02,\n",
       "          -3.22991786e-02,  -3.18658289e-02,  -2.98012222e-02,\n",
       "          -2.90354145e-02,  -2.89476109e-02,  -2.77245591e-02,\n",
       "          -2.72720181e-02,  -2.64893345e-02,  -2.63095794e-02,\n",
       "          -2.37201238e-02,  -2.25285706e-02,  -2.18224897e-02,\n",
       "          -2.09514970e-02,  -2.06811005e-02,  -1.99460624e-02,\n",
       "          -1.97786441e-02,  -1.97085973e-02,  -1.81311014e-02,\n",
       "          -1.73144411e-02,  -1.72791872e-02,  -1.62632817e-02,\n",
       "          -1.58253548e-02,  -1.52034158e-02,  -1.45524613e-02,\n",
       "          -1.36302721e-02,  -1.29626307e-02,  -1.27326948e-02,\n",
       "          -1.23815795e-02,  -1.23066438e-02,  -1.09829307e-02,\n",
       "          -1.07371342e-02,  -1.01869997e-02,  -9.49972852e-03,\n",
       "          -7.34622174e-03,  -6.78760200e-03,  -5.86361982e-03,\n",
       "          -5.07824747e-03,  -3.82630596e-03,  -2.84177653e-03,\n",
       "          -1.91701906e-03,  -1.65020000e-03,  -1.36705521e-03,\n",
       "          -7.56317434e-04,  -6.01186419e-04,  -7.13793294e-05,\n",
       "          -9.28669990e-06,   3.22557972e-04,   1.41066108e-03,\n",
       "           2.23903740e-03,   2.25435947e-03,   2.36222867e-03,\n",
       "           2.52848805e-03,   2.81270964e-03,   4.27856279e-03,\n",
       "           5.09401713e-03,   6.91470026e-03,   7.36352061e-03,\n",
       "           8.85995304e-03,   9.68833898e-03,   1.04591973e-02,\n",
       "           1.05228476e-02,   1.13949957e-02,   1.20105380e-02,\n",
       "           1.20561457e-02,   1.24246443e-02,   1.29320021e-02,\n",
       "           1.70127640e-02,   1.76735803e-02,   1.83381054e-02,\n",
       "           1.84674509e-02,   2.10450563e-02,   2.15283390e-02,\n",
       "           2.33625907e-02,   2.36774383e-02,   2.50916734e-02,\n",
       "           2.55477332e-02,   2.69951796e-02,   2.73889561e-02,\n",
       "           3.00105011e-02,   3.07384291e-02,   3.08162781e-02,\n",
       "           3.15340216e-02,   3.34819521e-02,   3.42189096e-02,\n",
       "           3.67162395e-02,   3.79402577e-02,   3.79624240e-02,\n",
       "           3.84798353e-02,   3.89922238e-02,   3.98159512e-02,\n",
       "           3.99387990e-02,   4.10861487e-02,   4.13159866e-02,\n",
       "           4.31387627e-02,   4.38345287e-02,   4.38668810e-02,\n",
       "           4.42988652e-02,   4.48226176e-02,   4.49805028e-02,\n",
       "           4.56294648e-02,   4.65879354e-02,   4.72000578e-02,\n",
       "           4.80831304e-02,   4.83467596e-02,   4.88156418e-02,\n",
       "           5.01926355e-02,   5.03116235e-02,   5.08980683e-02,\n",
       "           5.15603653e-02,   5.24366410e-02,   5.25077720e-02,\n",
       "           5.26253946e-02,   5.35664708e-02,   5.44700724e-02,\n",
       "           5.52857956e-02,   5.63601423e-02,   5.66916862e-02,\n",
       "           5.75356071e-02,   5.81178919e-02,   5.93898785e-02,\n",
       "           6.14409596e-02,   6.14874984e-02,   6.19910495e-02,\n",
       "           6.20274257e-02,   6.31951333e-02,   6.45665957e-02,\n",
       "           6.53371421e-02,   6.63513937e-02,   6.65049771e-02,\n",
       "           6.66225592e-02,   6.71428354e-02,   6.77522695e-02,\n",
       "           6.80977124e-02,   6.82030360e-02,   6.98622380e-02,\n",
       "           7.08241333e-02,   7.08254103e-02,   7.08772159e-02,\n",
       "           7.15020812e-02,   7.17113800e-02,   7.20058775e-02,\n",
       "           7.37274838e-02,   7.72389503e-02,   7.76035436e-02,\n",
       "           7.83444728e-02,   7.86886187e-02,   7.87674700e-02,\n",
       "           8.01738566e-02,   8.10326120e-02,   8.22543365e-02,\n",
       "           8.25209718e-02,   8.54776523e-02,   8.58516578e-02,\n",
       "           8.97919681e-02,   9.14540122e-02,   9.16507869e-02,\n",
       "           9.19964131e-02,   9.20501745e-02,   9.35909122e-02,\n",
       "           9.61615086e-02,   9.61863254e-02,   9.86890612e-02,\n",
       "           9.89147450e-02,   1.00340579e-01,   1.00417040e-01,\n",
       "           1.01367632e-01,   1.01900423e-01,   1.02981029e-01,\n",
       "           1.04039810e-01,   1.04971497e-01,   1.05152083e-01,\n",
       "           1.06111859e-01,   1.06384667e-01,   1.06507183e-01,\n",
       "           1.06772773e-01,   1.07220154e-01,   1.09194161e-01,\n",
       "           1.09667313e-01,   1.10369102e-01,   1.10385252e-01,\n",
       "           1.10392563e-01,   1.10407214e-01,   1.12221872e-01,\n",
       "           1.12990128e-01,   1.13476694e-01,   1.14113391e-01,\n",
       "           1.14163681e-01,   1.15629330e-01,   1.16155459e-01,\n",
       "           1.17514950e-01,   1.17642266e-01,   1.18068748e-01,\n",
       "           1.19259754e-01,   1.21712134e-01,   1.24950192e-01,\n",
       "           1.25999848e-01,   1.26900344e-01,   1.26923447e-01,\n",
       "           1.26979028e-01,   1.27759864e-01,   1.29093961e-01,\n",
       "           1.29277325e-01,   1.29559152e-01,   1.29920178e-01,\n",
       "           1.30826771e-01,   1.30842498e-01,   1.31740901e-01,\n",
       "           1.33004469e-01,   1.34027784e-01,   1.35414659e-01,\n",
       "           1.36115932e-01,   1.37445081e-01,   1.37462048e-01,\n",
       "           1.38183111e-01,   1.39652333e-01,   1.40799759e-01,\n",
       "           1.41380869e-01,   1.41412842e-01,   1.41577308e-01,\n",
       "           1.41747570e-01,   1.42096479e-01,   1.42107194e-01,\n",
       "           1.42344781e-01,   1.42558726e-01,   1.43498914e-01,\n",
       "           1.45139120e-01,   1.45219629e-01,   1.45466308e-01,\n",
       "           1.47450068e-01,   1.52291434e-01,   1.52465492e-01,\n",
       "           1.52465527e-01,   1.53832440e-01,   1.55670228e-01,\n",
       "           1.56050018e-01,   1.57194997e-01,   1.57223814e-01,\n",
       "           1.59269796e-01,   1.60240384e-01,   1.60392114e-01,\n",
       "           1.61131558e-01,   1.61162580e-01,   1.61439687e-01,\n",
       "           1.61810502e-01,   1.61894662e-01,   1.62813808e-01,\n",
       "           1.63065701e-01,   1.63207311e-01,   1.63664649e-01,\n",
       "           1.66071462e-01,   1.66975712e-01,   1.67306668e-01,\n",
       "           1.69492048e-01,   1.71722152e-01,   1.71953853e-01,\n",
       "           1.74358132e-01,   1.75132530e-01,   1.75508573e-01,\n",
       "           1.75595311e-01,   1.77280635e-01,   1.77475287e-01,\n",
       "           1.78514806e-01,   1.79113732e-01,   1.79649163e-01,\n",
       "           1.82969079e-01,   1.83720910e-01,   1.83741778e-01,\n",
       "           1.85095257e-01,   1.85411516e-01,   1.86336138e-01,\n",
       "           1.87508088e-01,   1.88891879e-01,   1.88922233e-01,\n",
       "           1.89311375e-01,   1.89319447e-01,   1.89811627e-01,\n",
       "           1.90804132e-01,   1.92498299e-01,   1.93515331e-01,\n",
       "           1.94430776e-01,   1.94572788e-01,   1.94622914e-01,\n",
       "           1.95229219e-01,   1.95286030e-01,   1.97033578e-01,\n",
       "           1.98269557e-01,   2.00100713e-01,   2.00665369e-01,\n",
       "           2.01029612e-01,   2.02336860e-01,   2.02631158e-01,\n",
       "           2.03365647e-01,   2.04345739e-01,   2.05532518e-01,\n",
       "           2.06692210e-01,   2.07840917e-01,   2.09118242e-01,\n",
       "           2.09239536e-01,   2.09678683e-01,   2.10393115e-01,\n",
       "           2.12608897e-01,   2.15746432e-01,   2.16271178e-01,\n",
       "           2.16548630e-01,   2.17479163e-01,   2.18683570e-01,\n",
       "           2.19092252e-01,   2.20110060e-01,   2.20773611e-01,\n",
       "           2.21549455e-01,   2.22317126e-01,   2.23109377e-01,\n",
       "           2.23188279e-01,   2.23676085e-01,   2.24361162e-01,\n",
       "           2.24717392e-01,   2.25361685e-01,   2.25641335e-01,\n",
       "           2.25791018e-01,   2.25833452e-01,   2.25867669e-01,\n",
       "           2.26451331e-01,   2.27528577e-01,   2.28051196e-01,\n",
       "           2.28769222e-01,   2.30944057e-01,   2.31719258e-01,\n",
       "           2.32601292e-01,   2.32788681e-01,   2.33909127e-01,\n",
       "           2.34498203e-01,   2.35864519e-01,   2.36687486e-01,\n",
       "           2.37310587e-01,   2.37786318e-01,   2.37802821e-01,\n",
       "           2.39045678e-01,   2.40084641e-01,   2.41089383e-01,\n",
       "           2.41095679e-01,   2.42375766e-01,   2.42686018e-01,\n",
       "           2.42850343e-01,   2.44225551e-01,   2.46831878e-01,\n",
       "           2.47236299e-01,   2.48264909e-01,   2.48574574e-01,\n",
       "           2.50073011e-01,   2.51106099e-01,   2.51781011e-01,\n",
       "           2.51985808e-01,   2.52013072e-01,   2.52017123e-01,\n",
       "           2.53308237e-01,   2.53567413e-01,   2.54623968e-01,\n",
       "           2.57439412e-01,   2.61181477e-01,   2.61331558e-01,\n",
       "           2.65194417e-01,   2.67938684e-01,   2.70746532e-01,\n",
       "           2.72436280e-01,   2.76882070e-01,   2.77191927e-01,\n",
       "           2.78402665e-01,   2.80163295e-01,   2.81501226e-01,\n",
       "           2.84818514e-01,   2.85946851e-01,   2.88340703e-01,\n",
       "           2.89304289e-01,   2.92812372e-01,   2.92921144e-01,\n",
       "           2.93192637e-01,   2.94409522e-01,   2.99747039e-01,\n",
       "           2.99778294e-01,   3.00825549e-01,   3.00957605e-01,\n",
       "           3.01701337e-01,   3.04412996e-01,   3.04522391e-01,\n",
       "           3.05331112e-01,   3.05476011e-01,   3.06552763e-01,\n",
       "           3.08162648e-01,   3.08167133e-01,   3.10284615e-01,\n",
       "           3.13878598e-01,   3.14381184e-01,   3.16035693e-01,\n",
       "           3.17375383e-01,   3.20497719e-01,   3.20906298e-01,\n",
       "           3.21927670e-01,   3.28350830e-01,   3.28729345e-01,\n",
       "           3.31344669e-01,   3.33244639e-01,   3.34374719e-01,\n",
       "           3.35161419e-01,   3.35672700e-01,   3.35752685e-01,\n",
       "           3.35785083e-01,   3.36011783e-01,   3.36073866e-01,\n",
       "           3.38124774e-01,   3.38157718e-01,   3.38188933e-01,\n",
       "           3.39621791e-01,   3.40596290e-01,   3.40739408e-01,\n",
       "           3.40965906e-01,   3.41012737e-01,   3.42849091e-01,\n",
       "           3.42910970e-01,   3.43330313e-01,   3.44129015e-01,\n",
       "           3.44342583e-01,   3.45088557e-01,   3.45135965e-01,\n",
       "           3.45193532e-01,   3.52683006e-01,   3.53502343e-01,\n",
       "           3.54336603e-01,   3.54575809e-01,   3.54604348e-01,\n",
       "           3.54680763e-01,   3.56685486e-01,   3.61292954e-01,\n",
       "           3.61748294e-01,   3.62211512e-01,   3.62498769e-01,\n",
       "           3.63807141e-01,   3.65280334e-01,   3.65594422e-01,\n",
       "           3.66418046e-01,   3.67797184e-01,   3.69415586e-01,\n",
       "           3.72157379e-01,   3.75229435e-01,   3.75924010e-01,\n",
       "           3.76702678e-01,   3.77744432e-01,   3.81801954e-01,\n",
       "           3.82518832e-01,   3.83569426e-01,   3.84219656e-01,\n",
       "           3.87379618e-01,   3.92518944e-01,   3.95047362e-01,\n",
       "           3.95390687e-01,   3.96943154e-01,   3.97419920e-01,\n",
       "           4.00142809e-01,   4.02434702e-01,   4.03571585e-01,\n",
       "           4.04828979e-01,   4.08842203e-01,   4.10202990e-01,\n",
       "           4.13118990e-01,   4.13539699e-01,   4.14265691e-01,\n",
       "           4.14889542e-01,   4.15799629e-01,   4.16550350e-01,\n",
       "           4.18050129e-01,   4.20976009e-01,   4.22024977e-01,\n",
       "           4.26297589e-01,   4.31396904e-01,   4.35134231e-01,\n",
       "           4.36249011e-01,   4.38023711e-01,   4.39999854e-01,\n",
       "           4.40015451e-01,   4.40812747e-01,   4.42286031e-01,\n",
       "           4.42627011e-01,   4.42928349e-01,   4.43353824e-01,\n",
       "           4.44646994e-01,   4.45470719e-01,   4.45577723e-01,\n",
       "           4.46445471e-01,   4.47826570e-01,   4.51024498e-01,\n",
       "           4.51950959e-01,   4.54604362e-01,   4.54674520e-01,\n",
       "           4.55833325e-01,   4.56551185e-01,   4.60994671e-01,\n",
       "           4.61283301e-01,   4.61365195e-01,   4.62105516e-01,\n",
       "           4.63221050e-01,   4.66780205e-01,   4.67860848e-01,\n",
       "           4.68660158e-01,   4.71195766e-01,   4.72420678e-01,\n",
       "           4.74067914e-01,   4.74132467e-01,   4.74148156e-01,\n",
       "           4.75779033e-01,   4.75975805e-01,   4.78273321e-01,\n",
       "           4.79978738e-01,   4.81669883e-01,   4.86276392e-01,\n",
       "           4.87625380e-01,   4.91517157e-01,   4.92774583e-01,\n",
       "           4.94501116e-01,   4.96477414e-01,   4.99855332e-01,\n",
       "           5.00419648e-01,   5.02742041e-01,   5.05288282e-01,\n",
       "           5.07214796e-01,   5.07414182e-01,   5.10633476e-01,\n",
       "           5.10952337e-01,   5.14492045e-01,   5.19717301e-01,\n",
       "           5.19772917e-01,   5.21331996e-01,   5.23661002e-01,\n",
       "           5.25914340e-01,   5.26160795e-01,   5.26520594e-01,\n",
       "           5.28914667e-01,   5.29311457e-01,   5.29322967e-01,\n",
       "           5.34448274e-01,   5.36688094e-01,   5.37628677e-01,\n",
       "           5.37650288e-01,   5.38552734e-01,   5.39861841e-01,\n",
       "           5.43415327e-01,   5.43751466e-01,   5.47102523e-01,\n",
       "           5.62034689e-01,   5.63993504e-01,   5.67971731e-01,\n",
       "           5.74933383e-01,   5.89145916e-01,   5.91018831e-01,\n",
       "           5.95989597e-01,   5.99025648e-01,   6.00795189e-01,\n",
       "           6.09389334e-01,   6.10237845e-01,   6.13424709e-01,\n",
       "           6.22610670e-01,   6.26189153e-01,   6.35978962e-01,\n",
       "           6.37358456e-01,   6.38177641e-01,   6.44894107e-01,\n",
       "           6.46466071e-01,   6.56906950e-01,   6.60673201e-01,\n",
       "           6.82532637e-01])),\n",
       " (0.29462531005054099, 0.013717965203126934, 0.99562663607670399))"
      ]
     },
     "execution_count": 21,
     "metadata": {},
     "output_type": "execute_result"
    },
    {
     "data": {
      "text/plain": [
       "<matplotlib.axes._subplots.AxesSubplot at 0xc9187f0>"
      ]
     },
     "execution_count": 21,
     "metadata": {},
     "output_type": "execute_result"
    },
    {
     "data": {
      "text/plain": [
       "<matplotlib.axes._subplots.AxesSubplot at 0xc9187f0>"
      ]
     },
     "execution_count": 21,
     "metadata": {},
     "output_type": "execute_result"
    },
    {
     "data": {
      "text/plain": [
       "(-2, 2)"
      ]
     },
     "execution_count": 21,
     "metadata": {},
     "output_type": "execute_result"
    },
    {
     "data": {
      "text/plain": [
       "([], <a list of 0 Text yticklabel objects>)"
      ]
     },
     "execution_count": 21,
     "metadata": {},
     "output_type": "execute_result"
    },
    {
     "data": {
      "text/plain": [
       "<matplotlib.axes._subplots.AxesSubplot at 0xc976780>"
      ]
     },
     "execution_count": 21,
     "metadata": {},
     "output_type": "execute_result"
    },
    {
     "data": {
      "text/plain": [
       "((array([ -3.19758950e+00,  -2.93237785e+00,  -2.78437841e+00,\n",
       "          -2.67999560e+00,  -2.59855946e+00,  -2.53139899e+00,\n",
       "          -2.47402263e+00,  -2.42379214e+00,  -2.37902149e+00,\n",
       "          -2.33856546e+00,  -2.30160949e+00,  -2.26755284e+00,\n",
       "          -2.23593934e+00,  -2.20641415e+00,  -2.17869564e+00,\n",
       "          -2.15255643e+00,  -2.12781017e+00,  -2.10430217e+00,\n",
       "          -2.08190261e+00,  -2.06050135e+00,  -2.04000420e+00,\n",
       "          -2.02032992e+00,  -2.00140792e+00,  -1.98317650e+00,\n",
       "          -1.96558137e+00,  -1.94857451e+00,  -1.93211325e+00,\n",
       "          -1.91615948e+00,  -1.90067901e+00,  -1.88564107e+00,\n",
       "          -1.87101783e+00,  -1.85678408e+00,  -1.84291686e+00,\n",
       "          -1.82939524e+00,  -1.81620005e+00,  -1.80331371e+00,\n",
       "          -1.79072004e+00,  -1.77840415e+00,  -1.76635224e+00,\n",
       "          -1.75455157e+00,  -1.74299028e+00,  -1.73165738e+00,\n",
       "          -1.72054262e+00,  -1.70963644e+00,  -1.69892989e+00,\n",
       "          -1.68841463e+00,  -1.67808281e+00,  -1.66792707e+00,\n",
       "          -1.65794051e+00,  -1.64811661e+00,  -1.63844924e+00,\n",
       "          -1.62893261e+00,  -1.61956127e+00,  -1.61033003e+00,\n",
       "          -1.60123402e+00,  -1.59226859e+00,  -1.58342935e+00,\n",
       "          -1.57471213e+00,  -1.56611295e+00,  -1.55762804e+00,\n",
       "          -1.54925381e+00,  -1.54098684e+00,  -1.53282387e+00,\n",
       "          -1.52476177e+00,  -1.51679758e+00,  -1.50892845e+00,\n",
       "          -1.50115166e+00,  -1.49346462e+00,  -1.48586482e+00,\n",
       "          -1.47834989e+00,  -1.47091753e+00,  -1.46356555e+00,\n",
       "          -1.45629184e+00,  -1.44909437e+00,  -1.44197119e+00,\n",
       "          -1.43492043e+00,  -1.42794030e+00,  -1.42102906e+00,\n",
       "          -1.41418503e+00,  -1.40740661e+00,  -1.40069224e+00,\n",
       "          -1.39404044e+00,  -1.38744975e+00,  -1.38091878e+00,\n",
       "          -1.37444619e+00,  -1.36803067e+00,  -1.36167098e+00,\n",
       "          -1.35536588e+00,  -1.34911421e+00,  -1.34291482e+00,\n",
       "          -1.33676663e+00,  -1.33066855e+00,  -1.32461956e+00,\n",
       "          -1.31861865e+00,  -1.31266485e+00,  -1.30675722e+00,\n",
       "          -1.30089485e+00,  -1.29507686e+00,  -1.28930237e+00,\n",
       "          -1.28357055e+00,  -1.27788060e+00,  -1.27223172e+00,\n",
       "          -1.26662315e+00,  -1.26105415e+00,  -1.25552398e+00,\n",
       "          -1.25003194e+00,  -1.24457735e+00,  -1.23915954e+00,\n",
       "          -1.23377786e+00,  -1.22843168e+00,  -1.22312038e+00,\n",
       "          -1.21784337e+00,  -1.21260004e+00,  -1.20738985e+00,\n",
       "          -1.20221223e+00,  -1.19706664e+00,  -1.19195255e+00,\n",
       "          -1.18686944e+00,  -1.18181682e+00,  -1.17679419e+00,\n",
       "          -1.17180107e+00,  -1.16683699e+00,  -1.16190151e+00,\n",
       "          -1.15699416e+00,  -1.15211453e+00,  -1.14726217e+00,\n",
       "          -1.14243667e+00,  -1.13763763e+00,  -1.13286465e+00,\n",
       "          -1.12811734e+00,  -1.12339532e+00,  -1.11869822e+00,\n",
       "          -1.11402566e+00,  -1.10937731e+00,  -1.10475280e+00,\n",
       "          -1.10015180e+00,  -1.09557397e+00,  -1.09101899e+00,\n",
       "          -1.08648653e+00,  -1.08197628e+00,  -1.07748793e+00,\n",
       "          -1.07302119e+00,  -1.06857575e+00,  -1.06415133e+00,\n",
       "          -1.05974765e+00,  -1.05536442e+00,  -1.05100137e+00,\n",
       "          -1.04665824e+00,  -1.04233476e+00,  -1.03803068e+00,\n",
       "          -1.03374574e+00,  -1.02947970e+00,  -1.02523232e+00,\n",
       "          -1.02100335e+00,  -1.01679256e+00,  -1.01259972e+00,\n",
       "          -1.00842461e+00,  -1.00426700e+00,  -1.00012668e+00,\n",
       "          -9.96003439e-01,  -9.91897058e-01,  -9.87807334e-01,\n",
       "          -9.83734067e-01,  -9.79677056e-01,  -9.75636106e-01,\n",
       "          -9.71611024e-01,  -9.67601623e-01,  -9.63607717e-01,\n",
       "          -9.59629122e-01,  -9.55665660e-01,  -9.51717154e-01,\n",
       "          -9.47783430e-01,  -9.43864319e-01,  -9.39959651e-01,\n",
       "          -9.36069261e-01,  -9.32192988e-01,  -9.28330671e-01,\n",
       "          -9.24482153e-01,  -9.20647280e-01,  -9.16825898e-01,\n",
       "          -9.13017857e-01,  -9.09223011e-01,  -9.05441213e-01,\n",
       "          -9.01672321e-01,  -8.97916193e-01,  -8.94172691e-01,\n",
       "          -8.90441678e-01,  -8.86723020e-01,  -8.83016583e-01,\n",
       "          -8.79322237e-01,  -8.75639853e-01,  -8.71969305e-01,\n",
       "          -8.68310468e-01,  -8.64663218e-01,  -8.61027434e-01,\n",
       "          -8.57402996e-01,  -8.53789787e-01,  -8.50187690e-01,\n",
       "          -8.46596591e-01,  -8.43016376e-01,  -8.39446935e-01,\n",
       "          -8.35888157e-01,  -8.32339934e-01,  -8.28802160e-01,\n",
       "          -8.25274728e-01,  -8.21757535e-01,  -8.18250479e-01,\n",
       "          -8.14753457e-01,  -8.11266372e-01,  -8.07789123e-01,\n",
       "          -8.04321614e-01,  -8.00863750e-01,  -7.97415434e-01,\n",
       "          -7.93976575e-01,  -7.90547079e-01,  -7.87126857e-01,\n",
       "          -7.83715817e-01,  -7.80313872e-01,  -7.76920933e-01,\n",
       "          -7.73536915e-01,  -7.70161733e-01,  -7.66795301e-01,\n",
       "          -7.63437536e-01,  -7.60088358e-01,  -7.56747683e-01,\n",
       "          -7.53415433e-01,  -7.50091527e-01,  -7.46775888e-01,\n",
       "          -7.43468439e-01,  -7.40169103e-01,  -7.36877804e-01,\n",
       "          -7.33594468e-01,  -7.30319022e-01,  -7.27051392e-01,\n",
       "          -7.23791507e-01,  -7.20539295e-01,  -7.17294687e-01,\n",
       "          -7.14057613e-01,  -7.10828003e-01,  -7.07605791e-01,\n",
       "          -7.04390909e-01,  -7.01183291e-01,  -6.97982871e-01,\n",
       "          -6.94789584e-01,  -6.91603367e-01,  -6.88424155e-01,\n",
       "          -6.85251886e-01,  -6.82086498e-01,  -6.78927930e-01,\n",
       "          -6.75776120e-01,  -6.72631010e-01,  -6.69492539e-01,\n",
       "          -6.66360648e-01,  -6.63235280e-01,  -6.60116377e-01,\n",
       "          -6.57003883e-01,  -6.53897740e-01,  -6.50797893e-01,\n",
       "          -6.47704287e-01,  -6.44616868e-01,  -6.41535581e-01,\n",
       "          -6.38460373e-01,  -6.35391191e-01,  -6.32327983e-01,\n",
       "          -6.29270697e-01,  -6.26219281e-01,  -6.23173684e-01,\n",
       "          -6.20133858e-01,  -6.17099750e-01,  -6.14071313e-01,\n",
       "          -6.11048498e-01,  -6.08031256e-01,  -6.05019539e-01,\n",
       "          -6.02013299e-01,  -5.99012491e-01,  -5.96017067e-01,\n",
       "          -5.93026981e-01,  -5.90042188e-01,  -5.87062643e-01,\n",
       "          -5.84088300e-01,  -5.81119115e-01,  -5.78155045e-01,\n",
       "          -5.75196045e-01,  -5.72242074e-01,  -5.69293087e-01,\n",
       "          -5.66349043e-01,  -5.63409899e-01,  -5.60475614e-01,\n",
       "          -5.57546147e-01,  -5.54621458e-01,  -5.51701504e-01,\n",
       "          -5.48786247e-01,  -5.45875647e-01,  -5.42969663e-01,\n",
       "          -5.40068258e-01,  -5.37171392e-01,  -5.34279026e-01,\n",
       "          -5.31391124e-01,  -5.28507646e-01,  -5.25628557e-01,\n",
       "          -5.22753817e-01,  -5.19883391e-01,  -5.17017243e-01,\n",
       "          -5.14155335e-01,  -5.11297632e-01,  -5.08444099e-01,\n",
       "          -5.05594699e-01,  -5.02749399e-01,  -4.99908163e-01,\n",
       "          -4.97070957e-01,  -4.94237747e-01,  -4.91408498e-01,\n",
       "          -4.88583178e-01,  -4.85761752e-01,  -4.82944188e-01,\n",
       "          -4.80130452e-01,  -4.77320513e-01,  -4.74514337e-01,\n",
       "          -4.71711893e-01,  -4.68913149e-01,  -4.66118073e-01,\n",
       "          -4.63326634e-01,  -4.60538801e-01,  -4.57754542e-01,\n",
       "          -4.54973827e-01,  -4.52196626e-01,  -4.49422908e-01,\n",
       "          -4.46652644e-01,  -4.43885803e-01,  -4.41122356e-01,\n",
       "          -4.38362274e-01,  -4.35605527e-01,  -4.32852086e-01,\n",
       "          -4.30101924e-01,  -4.27355010e-01,  -4.24611318e-01,\n",
       "          -4.21870818e-01,  -4.19133483e-01,  -4.16399284e-01,\n",
       "          -4.13668196e-01,  -4.10940189e-01,  -4.08215237e-01,\n",
       "          -4.05493313e-01,  -4.02774389e-01,  -4.00058440e-01,\n",
       "          -3.97345439e-01,  -3.94635359e-01,  -3.91928175e-01,\n",
       "          -3.89223860e-01,  -3.86522388e-01,  -3.83823735e-01,\n",
       "          -3.81127874e-01,  -3.78434779e-01,  -3.75744427e-01,\n",
       "          -3.73056792e-01,  -3.70371848e-01,  -3.67689572e-01,\n",
       "          -3.65009939e-01,  -3.62332924e-01,  -3.59658504e-01,\n",
       "          -3.56986653e-01,  -3.54317348e-01,  -3.51650566e-01,\n",
       "          -3.48986282e-01,  -3.46324472e-01,  -3.43665115e-01,\n",
       "          -3.41008186e-01,  -3.38353661e-01,  -3.35701519e-01,\n",
       "          -3.33051736e-01,  -3.30404290e-01,  -3.27759157e-01,\n",
       "          -3.25116316e-01,  -3.22475743e-01,  -3.19837417e-01,\n",
       "          -3.17201315e-01,  -3.14567416e-01,  -3.11935698e-01,\n",
       "          -3.09306138e-01,  -3.06678715e-01,  -3.04053407e-01,\n",
       "          -3.01430193e-01,  -2.98809052e-01,  -2.96189962e-01,\n",
       "          -2.93572903e-01,  -2.90957852e-01,  -2.88344790e-01,\n",
       "          -2.85733695e-01,  -2.83124547e-01,  -2.80517325e-01,\n",
       "          -2.77912008e-01,  -2.75308576e-01,  -2.72707009e-01,\n",
       "          -2.70107286e-01,  -2.67509388e-01,  -2.64913294e-01,\n",
       "          -2.62318984e-01,  -2.59726438e-01,  -2.57135637e-01,\n",
       "          -2.54546561e-01,  -2.51959189e-01,  -2.49373504e-01,\n",
       "          -2.46789484e-01,  -2.44207112e-01,  -2.41626367e-01,\n",
       "          -2.39047230e-01,  -2.36469683e-01,  -2.33893705e-01,\n",
       "          -2.31319279e-01,  -2.28746384e-01,  -2.26175004e-01,\n",
       "          -2.23605117e-01,  -2.21036707e-01,  -2.18469754e-01,\n",
       "          -2.15904240e-01,  -2.13340146e-01,  -2.10777454e-01,\n",
       "          -2.08216145e-01,  -2.05656202e-01,  -2.03097605e-01,\n",
       "          -2.00540338e-01,  -1.97984381e-01,  -1.95429717e-01,\n",
       "          -1.92876328e-01,  -1.90324196e-01,  -1.87773302e-01,\n",
       "          -1.85223630e-01,  -1.82675162e-01,  -1.80127879e-01,\n",
       "          -1.77581765e-01,  -1.75036802e-01,  -1.72492971e-01,\n",
       "          -1.69950256e-01,  -1.67408640e-01,  -1.64868105e-01,\n",
       "          -1.62328633e-01,  -1.59790208e-01,  -1.57252812e-01,\n",
       "          -1.54716428e-01,  -1.52181038e-01,  -1.49646627e-01,\n",
       "          -1.47113177e-01,  -1.44580670e-01,  -1.42049091e-01,\n",
       "          -1.39518421e-01,  -1.36988645e-01,  -1.34459745e-01,\n",
       "          -1.31931705e-01,  -1.29404507e-01,  -1.26878136e-01,\n",
       "          -1.24352575e-01,  -1.21827806e-01,  -1.19303813e-01,\n",
       "          -1.16780581e-01,  -1.14258092e-01,  -1.11736329e-01,\n",
       "          -1.09215277e-01,  -1.06694919e-01,  -1.04175238e-01,\n",
       "          -1.01656219e-01,  -9.91378445e-02,  -9.66200987e-02,\n",
       "          -9.41029651e-02,  -9.15864277e-02,  -8.90704701e-02,\n",
       "          -8.65550762e-02,  -8.40402299e-02,  -8.15259149e-02,\n",
       "          -7.90121153e-02,  -7.64988148e-02,  -7.39859974e-02,\n",
       "          -7.14736472e-02,  -6.89617480e-02,  -6.64502838e-02,\n",
       "          -6.39392387e-02,  -6.14285967e-02,  -5.89183419e-02,\n",
       "          -5.64084582e-02,  -5.38989299e-02,  -5.13897409e-02,\n",
       "          -4.88808755e-02,  -4.63723177e-02,  -4.38640516e-02,\n",
       "          -4.13560616e-02,  -3.88483316e-02,  -3.63408459e-02,\n",
       "          -3.38335886e-02,  -3.13265441e-02,  -2.88196964e-02,\n",
       "          -2.63130298e-02,  -2.38065286e-02,  -2.13001769e-02,\n",
       "          -1.87939590e-02,  -1.62878591e-02,  -1.37818616e-02,\n",
       "          -1.12759505e-02,  -8.77011034e-03,  -6.26432519e-03,\n",
       "          -3.75857938e-03,  -1.25285717e-03,   1.25285717e-03,\n",
       "           3.75857938e-03,   6.26432519e-03,   8.77011034e-03,\n",
       "           1.12759505e-02,   1.37818616e-02,   1.62878591e-02,\n",
       "           1.87939590e-02,   2.13001769e-02,   2.38065286e-02,\n",
       "           2.63130298e-02,   2.88196964e-02,   3.13265441e-02,\n",
       "           3.38335886e-02,   3.63408459e-02,   3.88483316e-02,\n",
       "           4.13560616e-02,   4.38640516e-02,   4.63723177e-02,\n",
       "           4.88808755e-02,   5.13897409e-02,   5.38989299e-02,\n",
       "           5.64084582e-02,   5.89183419e-02,   6.14285967e-02,\n",
       "           6.39392387e-02,   6.64502838e-02,   6.89617480e-02,\n",
       "           7.14736472e-02,   7.39859974e-02,   7.64988148e-02,\n",
       "           7.90121153e-02,   8.15259149e-02,   8.40402299e-02,\n",
       "           8.65550762e-02,   8.90704701e-02,   9.15864277e-02,\n",
       "           9.41029651e-02,   9.66200987e-02,   9.91378445e-02,\n",
       "           1.01656219e-01,   1.04175238e-01,   1.06694919e-01,\n",
       "           1.09215277e-01,   1.11736329e-01,   1.14258092e-01,\n",
       "           1.16780581e-01,   1.19303813e-01,   1.21827806e-01,\n",
       "           1.24352575e-01,   1.26878136e-01,   1.29404507e-01,\n",
       "           1.31931705e-01,   1.34459745e-01,   1.36988645e-01,\n",
       "           1.39518421e-01,   1.42049091e-01,   1.44580670e-01,\n",
       "           1.47113177e-01,   1.49646627e-01,   1.52181038e-01,\n",
       "           1.54716428e-01,   1.57252812e-01,   1.59790208e-01,\n",
       "           1.62328633e-01,   1.64868105e-01,   1.67408640e-01,\n",
       "           1.69950256e-01,   1.72492971e-01,   1.75036802e-01,\n",
       "           1.77581765e-01,   1.80127879e-01,   1.82675162e-01,\n",
       "           1.85223630e-01,   1.87773302e-01,   1.90324196e-01,\n",
       "           1.92876328e-01,   1.95429717e-01,   1.97984381e-01,\n",
       "           2.00540338e-01,   2.03097605e-01,   2.05656202e-01,\n",
       "           2.08216145e-01,   2.10777454e-01,   2.13340146e-01,\n",
       "           2.15904240e-01,   2.18469754e-01,   2.21036707e-01,\n",
       "           2.23605117e-01,   2.26175004e-01,   2.28746384e-01,\n",
       "           2.31319279e-01,   2.33893705e-01,   2.36469683e-01,\n",
       "           2.39047230e-01,   2.41626367e-01,   2.44207112e-01,\n",
       "           2.46789484e-01,   2.49373504e-01,   2.51959189e-01,\n",
       "           2.54546561e-01,   2.57135637e-01,   2.59726438e-01,\n",
       "           2.62318984e-01,   2.64913294e-01,   2.67509388e-01,\n",
       "           2.70107286e-01,   2.72707009e-01,   2.75308576e-01,\n",
       "           2.77912008e-01,   2.80517325e-01,   2.83124547e-01,\n",
       "           2.85733695e-01,   2.88344790e-01,   2.90957852e-01,\n",
       "           2.93572903e-01,   2.96189962e-01,   2.98809052e-01,\n",
       "           3.01430193e-01,   3.04053407e-01,   3.06678715e-01,\n",
       "           3.09306138e-01,   3.11935698e-01,   3.14567416e-01,\n",
       "           3.17201315e-01,   3.19837417e-01,   3.22475743e-01,\n",
       "           3.25116316e-01,   3.27759157e-01,   3.30404290e-01,\n",
       "           3.33051736e-01,   3.35701519e-01,   3.38353661e-01,\n",
       "           3.41008186e-01,   3.43665115e-01,   3.46324472e-01,\n",
       "           3.48986282e-01,   3.51650566e-01,   3.54317348e-01,\n",
       "           3.56986653e-01,   3.59658504e-01,   3.62332924e-01,\n",
       "           3.65009939e-01,   3.67689572e-01,   3.70371848e-01,\n",
       "           3.73056792e-01,   3.75744427e-01,   3.78434779e-01,\n",
       "           3.81127874e-01,   3.83823735e-01,   3.86522388e-01,\n",
       "           3.89223860e-01,   3.91928175e-01,   3.94635359e-01,\n",
       "           3.97345439e-01,   4.00058440e-01,   4.02774389e-01,\n",
       "           4.05493313e-01,   4.08215237e-01,   4.10940189e-01,\n",
       "           4.13668196e-01,   4.16399284e-01,   4.19133483e-01,\n",
       "           4.21870818e-01,   4.24611318e-01,   4.27355010e-01,\n",
       "           4.30101924e-01,   4.32852086e-01,   4.35605527e-01,\n",
       "           4.38362274e-01,   4.41122356e-01,   4.43885803e-01,\n",
       "           4.46652644e-01,   4.49422908e-01,   4.52196626e-01,\n",
       "           4.54973827e-01,   4.57754542e-01,   4.60538801e-01,\n",
       "           4.63326634e-01,   4.66118073e-01,   4.68913149e-01,\n",
       "           4.71711893e-01,   4.74514337e-01,   4.77320513e-01,\n",
       "           4.80130452e-01,   4.82944188e-01,   4.85761752e-01,\n",
       "           4.88583178e-01,   4.91408498e-01,   4.94237747e-01,\n",
       "           4.97070957e-01,   4.99908163e-01,   5.02749399e-01,\n",
       "           5.05594699e-01,   5.08444099e-01,   5.11297632e-01,\n",
       "           5.14155335e-01,   5.17017243e-01,   5.19883391e-01,\n",
       "           5.22753817e-01,   5.25628557e-01,   5.28507646e-01,\n",
       "           5.31391124e-01,   5.34279026e-01,   5.37171392e-01,\n",
       "           5.40068258e-01,   5.42969663e-01,   5.45875647e-01,\n",
       "           5.48786247e-01,   5.51701504e-01,   5.54621458e-01,\n",
       "           5.57546147e-01,   5.60475614e-01,   5.63409899e-01,\n",
       "           5.66349043e-01,   5.69293087e-01,   5.72242074e-01,\n",
       "           5.75196045e-01,   5.78155045e-01,   5.81119115e-01,\n",
       "           5.84088300e-01,   5.87062643e-01,   5.90042188e-01,\n",
       "           5.93026981e-01,   5.96017067e-01,   5.99012491e-01,\n",
       "           6.02013299e-01,   6.05019539e-01,   6.08031256e-01,\n",
       "           6.11048498e-01,   6.14071313e-01,   6.17099750e-01,\n",
       "           6.20133858e-01,   6.23173684e-01,   6.26219281e-01,\n",
       "           6.29270697e-01,   6.32327983e-01,   6.35391191e-01,\n",
       "           6.38460373e-01,   6.41535581e-01,   6.44616868e-01,\n",
       "           6.47704287e-01,   6.50797893e-01,   6.53897740e-01,\n",
       "           6.57003883e-01,   6.60116377e-01,   6.63235280e-01,\n",
       "           6.66360648e-01,   6.69492539e-01,   6.72631010e-01,\n",
       "           6.75776120e-01,   6.78927930e-01,   6.82086498e-01,\n",
       "           6.85251886e-01,   6.88424155e-01,   6.91603367e-01,\n",
       "           6.94789584e-01,   6.97982871e-01,   7.01183291e-01,\n",
       "           7.04390909e-01,   7.07605791e-01,   7.10828003e-01,\n",
       "           7.14057613e-01,   7.17294687e-01,   7.20539295e-01,\n",
       "           7.23791507e-01,   7.27051392e-01,   7.30319022e-01,\n",
       "           7.33594468e-01,   7.36877804e-01,   7.40169103e-01,\n",
       "           7.43468439e-01,   7.46775888e-01,   7.50091527e-01,\n",
       "           7.53415433e-01,   7.56747683e-01,   7.60088358e-01,\n",
       "           7.63437536e-01,   7.66795301e-01,   7.70161733e-01,\n",
       "           7.73536915e-01,   7.76920933e-01,   7.80313872e-01,\n",
       "           7.83715817e-01,   7.87126857e-01,   7.90547079e-01,\n",
       "           7.93976575e-01,   7.97415434e-01,   8.00863750e-01,\n",
       "           8.04321614e-01,   8.07789123e-01,   8.11266372e-01,\n",
       "           8.14753457e-01,   8.18250479e-01,   8.21757535e-01,\n",
       "           8.25274728e-01,   8.28802160e-01,   8.32339934e-01,\n",
       "           8.35888157e-01,   8.39446935e-01,   8.43016376e-01,\n",
       "           8.46596591e-01,   8.50187690e-01,   8.53789787e-01,\n",
       "           8.57402996e-01,   8.61027434e-01,   8.64663218e-01,\n",
       "           8.68310468e-01,   8.71969305e-01,   8.75639853e-01,\n",
       "           8.79322237e-01,   8.83016583e-01,   8.86723020e-01,\n",
       "           8.90441678e-01,   8.94172691e-01,   8.97916193e-01,\n",
       "           9.01672321e-01,   9.05441213e-01,   9.09223011e-01,\n",
       "           9.13017857e-01,   9.16825898e-01,   9.20647280e-01,\n",
       "           9.24482153e-01,   9.28330671e-01,   9.32192988e-01,\n",
       "           9.36069261e-01,   9.39959651e-01,   9.43864319e-01,\n",
       "           9.47783430e-01,   9.51717154e-01,   9.55665660e-01,\n",
       "           9.59629122e-01,   9.63607717e-01,   9.67601623e-01,\n",
       "           9.71611024e-01,   9.75636106e-01,   9.79677056e-01,\n",
       "           9.83734067e-01,   9.87807334e-01,   9.91897058e-01,\n",
       "           9.96003439e-01,   1.00012668e+00,   1.00426700e+00,\n",
       "           1.00842461e+00,   1.01259972e+00,   1.01679256e+00,\n",
       "           1.02100335e+00,   1.02523232e+00,   1.02947970e+00,\n",
       "           1.03374574e+00,   1.03803068e+00,   1.04233476e+00,\n",
       "           1.04665824e+00,   1.05100137e+00,   1.05536442e+00,\n",
       "           1.05974765e+00,   1.06415133e+00,   1.06857575e+00,\n",
       "           1.07302119e+00,   1.07748793e+00,   1.08197628e+00,\n",
       "           1.08648653e+00,   1.09101899e+00,   1.09557397e+00,\n",
       "           1.10015180e+00,   1.10475280e+00,   1.10937731e+00,\n",
       "           1.11402566e+00,   1.11869822e+00,   1.12339532e+00,\n",
       "           1.12811734e+00,   1.13286465e+00,   1.13763763e+00,\n",
       "           1.14243667e+00,   1.14726217e+00,   1.15211453e+00,\n",
       "           1.15699416e+00,   1.16190151e+00,   1.16683699e+00,\n",
       "           1.17180107e+00,   1.17679419e+00,   1.18181682e+00,\n",
       "           1.18686944e+00,   1.19195255e+00,   1.19706664e+00,\n",
       "           1.20221223e+00,   1.20738985e+00,   1.21260004e+00,\n",
       "           1.21784337e+00,   1.22312038e+00,   1.22843168e+00,\n",
       "           1.23377786e+00,   1.23915954e+00,   1.24457735e+00,\n",
       "           1.25003194e+00,   1.25552398e+00,   1.26105415e+00,\n",
       "           1.26662315e+00,   1.27223172e+00,   1.27788060e+00,\n",
       "           1.28357055e+00,   1.28930237e+00,   1.29507686e+00,\n",
       "           1.30089485e+00,   1.30675722e+00,   1.31266485e+00,\n",
       "           1.31861865e+00,   1.32461956e+00,   1.33066855e+00,\n",
       "           1.33676663e+00,   1.34291482e+00,   1.34911421e+00,\n",
       "           1.35536588e+00,   1.36167098e+00,   1.36803067e+00,\n",
       "           1.37444619e+00,   1.38091878e+00,   1.38744975e+00,\n",
       "           1.39404044e+00,   1.40069224e+00,   1.40740661e+00,\n",
       "           1.41418503e+00,   1.42102906e+00,   1.42794030e+00,\n",
       "           1.43492043e+00,   1.44197119e+00,   1.44909437e+00,\n",
       "           1.45629184e+00,   1.46356555e+00,   1.47091753e+00,\n",
       "           1.47834989e+00,   1.48586482e+00,   1.49346462e+00,\n",
       "           1.50115166e+00,   1.50892845e+00,   1.51679758e+00,\n",
       "           1.52476177e+00,   1.53282387e+00,   1.54098684e+00,\n",
       "           1.54925381e+00,   1.55762804e+00,   1.56611295e+00,\n",
       "           1.57471213e+00,   1.58342935e+00,   1.59226859e+00,\n",
       "           1.60123402e+00,   1.61033003e+00,   1.61956127e+00,\n",
       "           1.62893261e+00,   1.63844924e+00,   1.64811661e+00,\n",
       "           1.65794051e+00,   1.66792707e+00,   1.67808281e+00,\n",
       "           1.68841463e+00,   1.69892989e+00,   1.70963644e+00,\n",
       "           1.72054262e+00,   1.73165738e+00,   1.74299028e+00,\n",
       "           1.75455157e+00,   1.76635224e+00,   1.77840415e+00,\n",
       "           1.79072004e+00,   1.80331371e+00,   1.81620005e+00,\n",
       "           1.82939524e+00,   1.84291686e+00,   1.85678408e+00,\n",
       "           1.87101783e+00,   1.88564107e+00,   1.90067901e+00,\n",
       "           1.91615948e+00,   1.93211325e+00,   1.94857451e+00,\n",
       "           1.96558137e+00,   1.98317650e+00,   2.00140792e+00,\n",
       "           2.02032992e+00,   2.04000420e+00,   2.06050135e+00,\n",
       "           2.08190261e+00,   2.10430217e+00,   2.12781017e+00,\n",
       "           2.15255643e+00,   2.17869564e+00,   2.20641415e+00,\n",
       "           2.23593934e+00,   2.26755284e+00,   2.30160949e+00,\n",
       "           2.33856546e+00,   2.37902149e+00,   2.42379214e+00,\n",
       "           2.47402263e+00,   2.53139899e+00,   2.59855946e+00,\n",
       "           2.67999560e+00,   2.78437841e+00,   2.93237785e+00,\n",
       "           3.19758950e+00]),\n",
       "  array([ -7.88504329e-01,  -7.61552543e-01,  -7.33603381e-01,\n",
       "          -7.23144673e-01,  -7.05394577e-01,  -6.97244368e-01,\n",
       "          -6.96216369e-01,  -6.66655031e-01,  -6.63287303e-01,\n",
       "          -6.60444244e-01,  -6.46914668e-01,  -6.46448324e-01,\n",
       "          -6.36563526e-01,  -6.26523450e-01,  -6.16734318e-01,\n",
       "          -6.15384995e-01,  -6.11611998e-01,  -6.10417886e-01,\n",
       "          -6.08400017e-01,  -5.95879019e-01,  -5.89823361e-01,\n",
       "          -5.87569929e-01,  -5.86883573e-01,  -5.82172814e-01,\n",
       "          -5.76289737e-01,  -5.74535621e-01,  -5.64493961e-01,\n",
       "          -5.64410092e-01,  -5.63239069e-01,  -5.54644025e-01,\n",
       "          -5.50342486e-01,  -5.44400802e-01,  -5.43308251e-01,\n",
       "          -5.37944978e-01,  -5.37007678e-01,  -5.33227631e-01,\n",
       "          -5.17641477e-01,  -5.16254392e-01,  -5.10248727e-01,\n",
       "          -5.09257316e-01,  -5.05995422e-01,  -5.05091745e-01,\n",
       "          -5.03037220e-01,  -5.02659608e-01,  -5.00894790e-01,\n",
       "          -5.00761902e-01,  -4.97723803e-01,  -4.96281105e-01,\n",
       "          -4.94820695e-01,  -4.92667467e-01,  -4.89540812e-01,\n",
       "          -4.88714319e-01,  -4.85626090e-01,  -4.83588790e-01,\n",
       "          -4.82868447e-01,  -4.80501841e-01,  -4.79784078e-01,\n",
       "          -4.78172943e-01,  -4.75183414e-01,  -4.73820260e-01,\n",
       "          -4.72747242e-01,  -4.71649743e-01,  -4.63338859e-01,\n",
       "          -4.61241734e-01,  -4.59120217e-01,  -4.54581292e-01,\n",
       "          -4.52812149e-01,  -4.49555997e-01,  -4.48910300e-01,\n",
       "          -4.47307221e-01,  -4.45271289e-01,  -4.44313991e-01,\n",
       "          -4.43133525e-01,  -4.42368557e-01,  -4.42243078e-01,\n",
       "          -4.42019758e-01,  -4.42004026e-01,  -4.39378506e-01,\n",
       "          -4.31342938e-01,  -4.29637975e-01,  -4.28846073e-01,\n",
       "          -4.28585573e-01,  -4.27839452e-01,  -4.27011292e-01,\n",
       "          -4.23922512e-01,  -4.23235876e-01,  -4.22130109e-01,\n",
       "          -4.18398083e-01,  -4.18381194e-01,  -4.18321425e-01,\n",
       "          -4.17069782e-01,  -4.17059933e-01,  -4.16774358e-01,\n",
       "          -4.16342738e-01,  -4.16161433e-01,  -4.14605455e-01,\n",
       "          -4.11583598e-01,  -4.08976112e-01,  -4.07834766e-01,\n",
       "          -4.07814504e-01,  -4.04736914e-01,  -4.04033071e-01,\n",
       "          -4.01769303e-01,  -3.99675911e-01,  -3.95462650e-01,\n",
       "          -3.95247715e-01,  -3.90991095e-01,  -3.90920422e-01,\n",
       "          -3.88564859e-01,  -3.86954117e-01,  -3.84810341e-01,\n",
       "          -3.79752996e-01,  -3.78305772e-01,  -3.77563183e-01,\n",
       "          -3.74934458e-01,  -3.73483240e-01,  -3.73119805e-01,\n",
       "          -3.71744918e-01,  -3.71502193e-01,  -3.71315639e-01,\n",
       "          -3.70495865e-01,  -3.69662906e-01,  -3.67079729e-01,\n",
       "          -3.66956777e-01,  -3.64858210e-01,  -3.64266972e-01,\n",
       "          -3.63639130e-01,  -3.63196383e-01,  -3.61695612e-01,\n",
       "          -3.58790567e-01,  -3.57352163e-01,  -3.56532775e-01,\n",
       "          -3.56216358e-01,  -3.55163181e-01,  -3.54868723e-01,\n",
       "          -3.53520113e-01,  -3.53482958e-01,  -3.52791764e-01,\n",
       "          -3.50985743e-01,  -3.48627531e-01,  -3.45373757e-01,\n",
       "          -3.41835276e-01,  -3.39913944e-01,  -3.37717242e-01,\n",
       "          -3.35300661e-01,  -3.34348211e-01,  -3.33543084e-01,\n",
       "          -3.32804680e-01,  -3.31355727e-01,  -3.27864305e-01,\n",
       "          -3.26647678e-01,  -3.25745777e-01,  -3.24656808e-01,\n",
       "          -3.23104498e-01,  -3.22960425e-01,  -3.22605162e-01,\n",
       "          -3.21264702e-01,  -3.20964724e-01,  -3.20176534e-01,\n",
       "          -3.19875147e-01,  -3.19187883e-01,  -3.16445415e-01,\n",
       "          -3.15042484e-01,  -3.14716097e-01,  -3.14545945e-01,\n",
       "          -3.13976007e-01,  -3.12354425e-01,  -3.11528566e-01,\n",
       "          -3.11069456e-01,  -3.10569270e-01,  -3.09420309e-01,\n",
       "          -3.05836278e-01,  -3.04716167e-01,  -3.03498912e-01,\n",
       "          -3.02288419e-01,  -3.02188666e-01,  -3.01189745e-01,\n",
       "          -2.99382466e-01,  -2.96726072e-01,  -2.96053977e-01,\n",
       "          -2.94187265e-01,  -2.93991289e-01,  -2.91923334e-01,\n",
       "          -2.91721499e-01,  -2.90931903e-01,  -2.89910979e-01,\n",
       "          -2.89725367e-01,  -2.88910233e-01,  -2.88494390e-01,\n",
       "          -2.88294200e-01,  -2.87896798e-01,  -2.87560635e-01,\n",
       "          -2.85517433e-01,  -2.84595628e-01,  -2.83267995e-01,\n",
       "          -2.82439312e-01,  -2.81857972e-01,  -2.81427186e-01,\n",
       "          -2.79698075e-01,  -2.78152453e-01,  -2.77524264e-01,\n",
       "          -2.75110770e-01,  -2.74168144e-01,  -2.73534868e-01,\n",
       "          -2.73439275e-01,  -2.73160821e-01,  -2.73086716e-01,\n",
       "          -2.72993490e-01,  -2.70019171e-01,  -2.69321019e-01,\n",
       "          -2.68871100e-01,  -2.68484761e-01,  -2.66978544e-01,\n",
       "          -2.66912613e-01,  -2.66406586e-01,  -2.64897304e-01,\n",
       "          -2.63707267e-01,  -2.63376662e-01,  -2.62939488e-01,\n",
       "          -2.62359613e-01,  -2.60895033e-01,  -2.59694738e-01,\n",
       "          -2.58997999e-01,  -2.58789426e-01,  -2.56797989e-01,\n",
       "          -2.55596757e-01,  -2.55361642e-01,  -2.54489121e-01,\n",
       "          -2.52901457e-01,  -2.52382662e-01,  -2.51003447e-01,\n",
       "          -2.50291860e-01,  -2.48551164e-01,  -2.48426595e-01,\n",
       "          -2.48324151e-01,  -2.46892657e-01,  -2.45830616e-01,\n",
       "          -2.45378379e-01,  -2.44527741e-01,  -2.44355138e-01,\n",
       "          -2.44321179e-01,  -2.42551869e-01,  -2.41348079e-01,\n",
       "          -2.40741628e-01,  -2.39985812e-01,  -2.38591579e-01,\n",
       "          -2.36149748e-01,  -2.36064018e-01,  -2.36003614e-01,\n",
       "          -2.34767960e-01,  -2.34021298e-01,  -2.33794232e-01,\n",
       "          -2.32875679e-01,  -2.31354549e-01,  -2.30137925e-01,\n",
       "          -2.30057866e-01,  -2.29207575e-01,  -2.28894141e-01,\n",
       "          -2.28459695e-01,  -2.27703959e-01,  -2.25774623e-01,\n",
       "          -2.25610374e-01,  -2.25104930e-01,  -2.24765782e-01,\n",
       "          -2.24681275e-01,  -2.23825063e-01,  -2.22323895e-01,\n",
       "          -2.19620363e-01,  -2.17369034e-01,  -2.16894686e-01,\n",
       "          -2.14466301e-01,  -2.13586359e-01,  -2.12521016e-01,\n",
       "          -2.10719881e-01,  -2.09466484e-01,  -2.08076723e-01,\n",
       "          -2.07940328e-01,  -2.07091720e-01,  -2.06279498e-01,\n",
       "          -2.04943225e-01,  -2.04724396e-01,  -2.03391996e-01,\n",
       "          -2.03229727e-01,  -2.02576177e-01,  -2.02122584e-01,\n",
       "          -2.01987059e-01,  -2.01987016e-01,  -2.01498222e-01,\n",
       "          -2.01303465e-01,  -1.98511236e-01,  -1.97458836e-01,\n",
       "          -1.96087875e-01,  -1.95496880e-01,  -1.95362555e-01,\n",
       "          -1.94979353e-01,  -1.93946074e-01,  -1.93818166e-01,\n",
       "          -1.93769225e-01,  -1.90160350e-01,  -1.88573256e-01,\n",
       "          -1.87638081e-01,  -1.87139749e-01,  -1.82952684e-01,\n",
       "          -1.82947060e-01,  -1.81094443e-01,  -1.80658131e-01,\n",
       "          -1.80548322e-01,  -1.80063094e-01,  -1.79759549e-01,\n",
       "          -1.78939331e-01,  -1.78391071e-01,  -1.76811877e-01,\n",
       "          -1.76739149e-01,  -1.76201812e-01,  -1.75221337e-01,\n",
       "          -1.75180028e-01,  -1.75144021e-01,  -1.74287367e-01,\n",
       "          -1.73951727e-01,  -1.73357576e-01,  -1.73248346e-01,\n",
       "          -1.73160124e-01,  -1.72233215e-01,  -1.71896978e-01,\n",
       "          -1.71246584e-01,  -1.71106360e-01,  -1.70752962e-01,\n",
       "          -1.69204110e-01,  -1.68396553e-01,  -1.67925601e-01,\n",
       "          -1.66221034e-01,  -1.65917362e-01,  -1.65709591e-01,\n",
       "          -1.65480396e-01,  -1.63867854e-01,  -1.62423006e-01,\n",
       "          -1.62175646e-01,  -1.60749871e-01,  -1.60550977e-01,\n",
       "          -1.60046948e-01,  -1.59303613e-01,  -1.58988160e-01,\n",
       "          -1.58190361e-01,  -1.58017651e-01,  -1.57334318e-01,\n",
       "          -1.56712841e-01,  -1.56025798e-01,  -1.55445208e-01,\n",
       "          -1.55431240e-01,  -1.54815637e-01,  -1.54378111e-01,\n",
       "          -1.53792397e-01,  -1.51814837e-01,  -1.51350067e-01,\n",
       "          -1.51169198e-01,  -1.49319575e-01,  -1.45622700e-01,\n",
       "          -1.44971607e-01,  -1.43999006e-01,  -1.43536721e-01,\n",
       "          -1.37736348e-01,  -1.36949557e-01,  -1.36503455e-01,\n",
       "          -1.36358305e-01,  -1.36120467e-01,  -1.36051523e-01,\n",
       "          -1.35610177e-01,  -1.32696475e-01,  -1.31112379e-01,\n",
       "          -1.30873953e-01,  -1.30521650e-01,  -1.29665400e-01,\n",
       "          -1.25580053e-01,  -1.25513297e-01,  -1.25459842e-01,\n",
       "          -1.24934926e-01,  -1.21966826e-01,  -1.18051033e-01,\n",
       "          -1.14730587e-01,  -1.14516289e-01,  -1.12745882e-01,\n",
       "          -1.12241921e-01,  -1.11676086e-01,  -1.11066458e-01,\n",
       "          -1.10650273e-01,  -1.10166931e-01,  -1.09204654e-01,\n",
       "          -1.08521023e-01,  -1.06978911e-01,  -1.06847156e-01,\n",
       "          -1.06310073e-01,  -1.04525249e-01,  -1.03764983e-01,\n",
       "          -1.03687414e-01,  -1.02262051e-01,  -1.01906044e-01,\n",
       "          -1.00623864e-01,  -9.97440026e-02,  -9.91216816e-02,\n",
       "          -9.88202952e-02,  -9.84953376e-02,  -9.79808634e-02,\n",
       "          -9.71938276e-02,  -9.71435518e-02,  -9.66648257e-02,\n",
       "          -9.57115415e-02,  -9.51330191e-02,  -9.39443781e-02,\n",
       "          -9.09553000e-02,  -9.04665854e-02,  -8.98406863e-02,\n",
       "          -8.87754893e-02,  -8.80925095e-02,  -8.75329159e-02,\n",
       "          -8.32593768e-02,  -8.25293471e-02,  -8.19942135e-02,\n",
       "          -8.09373603e-02,  -7.70191915e-02,  -7.66674389e-02,\n",
       "          -7.52622163e-02,  -7.14524944e-02,  -7.08090335e-02,\n",
       "          -7.01991327e-02,  -6.95612583e-02,  -6.93322013e-02,\n",
       "          -6.84448318e-02,  -6.83206363e-02,  -6.77033842e-02,\n",
       "          -6.72162817e-02,  -6.61715508e-02,  -6.54283090e-02,\n",
       "          -6.52933941e-02,  -6.44914013e-02,  -6.42133924e-02,\n",
       "          -6.39837364e-02,  -6.35080636e-02,  -6.30318092e-02,\n",
       "          -6.25637402e-02,  -6.09824860e-02,  -6.05318905e-02,\n",
       "          -6.02311486e-02,  -5.98047771e-02,  -5.74454914e-02,\n",
       "          -5.66675156e-02,  -5.48040003e-02,  -5.39701392e-02,\n",
       "          -5.35617228e-02,  -5.21858933e-02,  -5.12180280e-02,\n",
       "          -5.11181263e-02,  -5.06841546e-02,  -4.77006807e-02,\n",
       "          -4.73144785e-02,  -4.65410652e-02,  -4.64425211e-02,\n",
       "          -4.45478260e-02,  -4.30338588e-02,  -4.29479527e-02,\n",
       "          -4.15915917e-02,  -4.11403626e-02,  -4.09562382e-02,\n",
       "          -4.09234843e-02,  -4.07409460e-02,  -4.06647646e-02,\n",
       "          -4.04318411e-02,  -3.99740610e-02,  -3.90803771e-02,\n",
       "          -3.88211168e-02,  -3.86563328e-02,  -3.67979159e-02,\n",
       "          -3.55328267e-02,  -3.36103429e-02,  -3.34309014e-02,\n",
       "          -3.23750668e-02,  -3.20974450e-02,  -3.20953620e-02,\n",
       "          -3.18596224e-02,  -3.00764823e-02,  -2.98301111e-02,\n",
       "          -2.95487973e-02,  -2.87892630e-02,  -2.87174571e-02,\n",
       "          -2.78571505e-02,  -2.71769097e-02,  -2.49921016e-02,\n",
       "          -2.49468439e-02,  -2.43912210e-02,  -2.43456831e-02,\n",
       "          -2.36249918e-02,  -2.36172201e-02,  -2.29285029e-02,\n",
       "          -2.10533135e-02,  -2.08000366e-02,  -1.97572176e-02,\n",
       "          -1.97341885e-02,  -1.96885402e-02,  -1.91861531e-02,\n",
       "          -1.83240768e-02,  -1.50638291e-02,  -1.49084379e-02,\n",
       "          -1.46207598e-02,  -1.41525578e-02,  -1.39864292e-02,\n",
       "          -1.34807416e-02,  -1.32034918e-02,  -1.23568396e-02,\n",
       "          -1.15272690e-02,  -1.14234694e-02,  -1.03416446e-02,\n",
       "          -1.02871724e-02,  -1.02835846e-02,  -1.00755055e-02,\n",
       "          -9.77348824e-03,  -9.75053543e-03,  -9.06041208e-03,\n",
       "          -8.32836311e-03,  -7.93054698e-03,  -7.49305018e-03,\n",
       "          -6.83008817e-03,  -5.31277708e-03,  -5.15885982e-03,\n",
       "          -5.08259392e-03,  -5.02117796e-03,  -4.69386456e-03,\n",
       "          -4.29790935e-03,  -4.08764105e-03,  -3.04217603e-03,\n",
       "          -3.03297710e-03,  -2.84268125e-03,  -2.71632414e-03,\n",
       "          -7.41285940e-04,  -3.23257314e-04,  -1.16555557e-04,\n",
       "           1.40286811e-04,   2.25273312e-04,   2.54375493e-03,\n",
       "           5.45490099e-03,   5.93000709e-03,   7.68324792e-03,\n",
       "           8.66024881e-03,   9.19113481e-03,   9.21219536e-03,\n",
       "           9.46880946e-03,   1.11112528e-02,   1.13055155e-02,\n",
       "           1.13437940e-02,   1.29953254e-02,   1.36143339e-02,\n",
       "           1.40693476e-02,   1.46338391e-02,   1.46420663e-02,\n",
       "           1.50213239e-02,   1.61048998e-02,   1.62108146e-02,\n",
       "           1.77732912e-02,   1.81203852e-02,   1.91502484e-02,\n",
       "           1.99880010e-02,   2.04262081e-02,   2.24304378e-02,\n",
       "           2.35085901e-02,   2.43347844e-02,   2.44005812e-02,\n",
       "           2.46854113e-02,   2.48353768e-02,   2.53291907e-02,\n",
       "           2.53920987e-02,   2.58224794e-02,   2.58607431e-02,\n",
       "           2.58786302e-02,   2.66964577e-02,   2.70362032e-02,\n",
       "           2.70489717e-02,   2.78356439e-02,   3.05231072e-02,\n",
       "           3.25069646e-02,   3.26456997e-02,   3.34921880e-02,\n",
       "           3.36525846e-02,   3.44519226e-02,   3.46304190e-02,\n",
       "           3.59131489e-02,   3.62540949e-02,   3.62709890e-02,\n",
       "           3.66778935e-02,   3.70676590e-02,   3.84658923e-02,\n",
       "           3.89118991e-02,   4.06089445e-02,   4.09486436e-02,\n",
       "           4.25249570e-02,   4.34795202e-02,   4.48025249e-02,\n",
       "           4.58387928e-02,   4.62516988e-02,   4.86171805e-02,\n",
       "           4.95742868e-02,   4.99245960e-02,   5.03193887e-02,\n",
       "           5.07326487e-02,   5.10954597e-02,   5.27768698e-02,\n",
       "           5.34172489e-02,   5.43947219e-02,   5.49165255e-02,\n",
       "           5.55630438e-02,   5.70848119e-02,   5.77094993e-02,\n",
       "           5.81060943e-02,   5.90476095e-02,   5.91391405e-02,\n",
       "           5.95571640e-02,   5.98553285e-02,   6.11696032e-02,\n",
       "           6.15837237e-02,   6.21680467e-02,   6.27133672e-02,\n",
       "           6.36287351e-02,   6.38000939e-02,   6.47665876e-02,\n",
       "           6.74130416e-02,   6.81580939e-02,   7.13495650e-02,\n",
       "           7.29892097e-02,   7.35947843e-02,   7.44558947e-02,\n",
       "           7.49811023e-02,   7.69390329e-02,   7.82632370e-02,\n",
       "           8.22538438e-02,   8.31077137e-02,   8.31957629e-02,\n",
       "           8.36949604e-02,   8.62582678e-02,   8.66464637e-02,\n",
       "           8.83666323e-02,   9.02059784e-02,   9.06247721e-02,\n",
       "           9.06673127e-02,   9.12318521e-02,   9.18873469e-02,\n",
       "           9.28430931e-02,   9.29009244e-02,   9.31203021e-02,\n",
       "           9.32880864e-02,   9.35363836e-02,   9.44524842e-02,\n",
       "           9.49285073e-02,   9.53307904e-02,   9.55747662e-02,\n",
       "           9.57562905e-02,   9.71165988e-02,   9.84490612e-02,\n",
       "           9.87598644e-02,   9.87940907e-02,   9.97822186e-02,\n",
       "           1.00328094e-01,   1.00571620e-01,   1.03689100e-01,\n",
       "           1.05025108e-01,   1.06211926e-01,   1.06291225e-01,\n",
       "           1.06830957e-01,   1.08370581e-01,   1.11145846e-01,\n",
       "           1.11749721e-01,   1.13266224e-01,   1.14322779e-01,\n",
       "           1.14347997e-01,   1.14856761e-01,   1.17262203e-01,\n",
       "           1.18007927e-01,   1.18809109e-01,   1.20676171e-01,\n",
       "           1.21013372e-01,   1.21487570e-01,   1.24538061e-01,\n",
       "           1.24600377e-01,   1.24999616e-01,   1.25411375e-01,\n",
       "           1.25692326e-01,   1.26129578e-01,   1.26159987e-01,\n",
       "           1.26598678e-01,   1.26686157e-01,   1.28193701e-01,\n",
       "           1.28231854e-01,   1.29318189e-01,   1.32042671e-01,\n",
       "           1.32172425e-01,   1.32222568e-01,   1.32318575e-01,\n",
       "           1.32715053e-01,   1.33195336e-01,   1.33581853e-01,\n",
       "           1.34362703e-01,   1.34648713e-01,   1.36290638e-01,\n",
       "           1.36674490e-01,   1.36857953e-01,   1.37267141e-01,\n",
       "           1.38701329e-01,   1.39019205e-01,   1.40171801e-01,\n",
       "           1.41260611e-01,   1.41449073e-01,   1.42739902e-01,\n",
       "           1.43035012e-01,   1.43392299e-01,   1.45455227e-01,\n",
       "           1.47323328e-01,   1.48235731e-01,   1.48518111e-01,\n",
       "           1.50046728e-01,   1.50101651e-01,   1.51201625e-01,\n",
       "           1.51855964e-01,   1.52825112e-01,   1.54036266e-01,\n",
       "           1.56571248e-01,   1.57616349e-01,   1.58873920e-01,\n",
       "           1.59217344e-01,   1.59286342e-01,   1.60328653e-01,\n",
       "           1.61262262e-01,   1.63882798e-01,   1.66217744e-01,\n",
       "           1.66321931e-01,   1.67938525e-01,   1.68037050e-01,\n",
       "           1.68355386e-01,   1.70449389e-01,   1.70463866e-01,\n",
       "           1.71249036e-01,   1.72752912e-01,   1.73563146e-01,\n",
       "           1.76581125e-01,   1.76670803e-01,   1.77014158e-01,\n",
       "           1.79134922e-01,   1.79507880e-01,   1.81366496e-01,\n",
       "           1.81784375e-01,   1.82925020e-01,   1.84628027e-01,\n",
       "           1.84953178e-01,   1.87675188e-01,   1.87779429e-01,\n",
       "           1.88076363e-01,   1.88772076e-01,   1.91114942e-01,\n",
       "           1.92553507e-01,   1.93157899e-01,   1.95064450e-01,\n",
       "           1.96295106e-01,   1.96980308e-01,   1.97125008e-01,\n",
       "           1.99381189e-01,   2.00507584e-01,   2.01083408e-01,\n",
       "           2.01521864e-01,   2.02271498e-01,   2.02405736e-01,\n",
       "           2.02794392e-01,   2.03275137e-01,   2.04121422e-01,\n",
       "           2.04836370e-01,   2.05728524e-01,   2.06986720e-01,\n",
       "           2.09117096e-01,   2.10424078e-01,   2.10646570e-01,\n",
       "           2.10719951e-01,   2.11768745e-01,   2.14382247e-01,\n",
       "           2.14950815e-01,   2.15995246e-01,   2.16389311e-01,\n",
       "           2.16643944e-01,   2.17353268e-01,   2.17842603e-01,\n",
       "           2.17904058e-01,   2.18610012e-01,   2.18929030e-01,\n",
       "           2.19612942e-01,   2.20256890e-01,   2.20539223e-01,\n",
       "           2.21512425e-01,   2.23885516e-01,   2.26179783e-01,\n",
       "           2.28303790e-01,   2.29899695e-01,   2.30138724e-01,\n",
       "           2.32579307e-01,   2.34081366e-01,   2.34371178e-01,\n",
       "           2.35242315e-01,   2.35259497e-01,   2.35448153e-01,\n",
       "           2.35450036e-01,   2.35785673e-01,   2.37246078e-01,\n",
       "           2.37310306e-01,   2.37740165e-01,   2.38553556e-01,\n",
       "           2.39004477e-01,   2.40517800e-01,   2.42079261e-01,\n",
       "           2.42620595e-01,   2.42683211e-01,   2.42754721e-01,\n",
       "           2.43749502e-01,   2.44342535e-01,   2.44833541e-01,\n",
       "           2.44986868e-01,   2.45483773e-01,   2.45736018e-01,\n",
       "           2.47096904e-01,   2.52012692e-01,   2.54145920e-01,\n",
       "           2.54185603e-01,   2.55122231e-01,   2.55367753e-01,\n",
       "           2.58377768e-01,   2.59076812e-01,   2.60005482e-01,\n",
       "           2.60444334e-01,   2.61424609e-01,   2.61468961e-01,\n",
       "           2.63076077e-01,   2.63268067e-01,   2.63665909e-01,\n",
       "           2.63670297e-01,   2.66570869e-01,   2.67496093e-01,\n",
       "           2.67919499e-01,   2.68026484e-01,   2.68596504e-01,\n",
       "           2.73975874e-01,   2.74016005e-01,   2.74752237e-01,\n",
       "           2.75435390e-01,   2.78504032e-01,   2.79292820e-01,\n",
       "           2.79527117e-01,   2.80112547e-01,   2.80231881e-01,\n",
       "           2.80337286e-01,   2.82183970e-01,   2.85326985e-01,\n",
       "           2.85502428e-01,   2.86089931e-01,   2.86755423e-01,\n",
       "           2.90315292e-01,   2.93633466e-01,   2.93688990e-01,\n",
       "           2.94133206e-01,   2.94997337e-01,   2.95191077e-01,\n",
       "           2.96027713e-01,   2.96453826e-01,   3.00407016e-01,\n",
       "           3.01466922e-01,   3.02022639e-01,   3.02534103e-01,\n",
       "           3.02623258e-01,   3.02885089e-01,   3.03952799e-01,\n",
       "           3.04175694e-01,   3.05093059e-01,   3.10622986e-01,\n",
       "           3.10828916e-01,   3.11729235e-01,   3.13183073e-01,\n",
       "           3.13545131e-01,   3.14637846e-01,   3.16727753e-01,\n",
       "           3.19178681e-01,   3.19183021e-01,   3.21118554e-01,\n",
       "           3.21246859e-01,   3.22755689e-01,   3.23095314e-01,\n",
       "           3.25020242e-01,   3.25997911e-01,   3.29326393e-01,\n",
       "           3.31350103e-01,   3.37328345e-01,   3.39112748e-01,\n",
       "           3.39549623e-01,   3.40204091e-01,   3.40535607e-01,\n",
       "           3.43042701e-01,   3.44948789e-01,   3.48184874e-01,\n",
       "           3.52273284e-01,   3.55452157e-01,   3.56654373e-01,\n",
       "           3.56862672e-01,   3.58618328e-01,   3.60105223e-01,\n",
       "           3.62411564e-01,   3.63125247e-01,   3.63920783e-01,\n",
       "           3.64979227e-01,   3.65139548e-01,   3.65324073e-01,\n",
       "           3.65709659e-01,   3.66298663e-01,   3.68384066e-01,\n",
       "           3.69495250e-01,   3.70659898e-01,   3.73181265e-01,\n",
       "           3.74434894e-01,   3.75858710e-01,   3.77032253e-01,\n",
       "           3.77894427e-01,   3.78273168e-01,   3.82828495e-01,\n",
       "           3.83408325e-01,   3.93268361e-01,   3.94957721e-01,\n",
       "           3.96515486e-01,   3.97953206e-01,   3.98456532e-01,\n",
       "           4.02673644e-01,   4.03015851e-01,   4.06806075e-01,\n",
       "           4.08347421e-01,   4.09117860e-01,   4.09743547e-01,\n",
       "           4.16808929e-01,   4.18639414e-01,   4.19654526e-01,\n",
       "           4.25864242e-01,   4.28890438e-01,   4.28930046e-01,\n",
       "           4.32671432e-01,   4.35931459e-01,   4.36656352e-01,\n",
       "           4.37119227e-01,   4.39599767e-01,   4.45695516e-01,\n",
       "           4.45804319e-01,   4.46443940e-01,   4.49656322e-01,\n",
       "           4.50972542e-01,   4.52914483e-01,   4.53153431e-01,\n",
       "           4.57033622e-01,   4.58506655e-01,   4.59266597e-01,\n",
       "           4.61692503e-01,   4.66712694e-01,   4.70518046e-01,\n",
       "           4.70522825e-01,   4.70531334e-01,   4.80497249e-01,\n",
       "           4.82807819e-01,   4.83007467e-01,   4.83016294e-01,\n",
       "           4.84361369e-01,   4.84573610e-01,   4.84857454e-01,\n",
       "           4.86349674e-01,   4.86419112e-01,   4.86574986e-01,\n",
       "           4.98286720e-01,   4.98596200e-01,   5.09690801e-01,\n",
       "           5.15150731e-01,   5.24314113e-01,   5.36860322e-01,\n",
       "           5.37998996e-01,   5.39023165e-01,   5.48696920e-01,\n",
       "           5.51423725e-01,   5.57709316e-01,   5.61050910e-01,\n",
       "           5.61317243e-01,   5.64360448e-01,   5.93209091e-01,\n",
       "           5.93941123e-01,   5.99932019e-01,   6.19424960e-01,\n",
       "           6.29992327e-01,   6.32951412e-01,   6.42737582e-01,\n",
       "           6.47438954e-01,   6.49271745e-01,   6.58936066e-01,\n",
       "           6.59993459e-01,   6.87116675e-01,   6.88775746e-01,\n",
       "           7.23103076e-01,   7.41827594e-01,   7.56440985e-01,\n",
       "           8.14872147e-01])),\n",
       " (0.28873657858166546, -0.022341521500539318, 0.99879078016217393))"
      ]
     },
     "execution_count": 21,
     "metadata": {},
     "output_type": "execute_result"
    },
    {
     "data": {
      "image/png": "[encoded data removed]",
      "text/plain": [
       "<matplotlib.figure.Figure at 0xc651e48>"
      ]
     },
     "metadata": {},
     "output_type": "display_data"
    }
   ],
   "source": [
    "xx = np.linspace(-2, 2, 100)\n",
    "plt.figure(figsize=(6,9))\n",
    "for i, N in enumerate([1, 2, 10]):\n",
    "    X = np.random.rand(1000, N) - 0.5\n",
    "    S = X.sum(axis=1)/np.sqrt(N)\n",
    "    plt.subplot(3, 2, 2*i+1)\n",
    "    sns.distplot(S, bins=10, kde=False, norm_hist=True)\n",
    "    plt.xlim(-2, 2)\n",
    "    plt.yticks([])\n",
    "    plt.subplot(3, 2, 2*i+2)\n",
    "    sp.stats.probplot(S, plot=plt)\n",
    "    \n",
    "plt.tight_layout()\n",
    "plt.show()"
   ]
  },
  {
   "cell_type": "markdown",
   "metadata": {},
   "source": [
    "# 29절: 카이제곱 분포와 F 분포\n",
    "\n",
    "# 카이 제곱 분포\n",
    "χ2 분포, 제곱을 하여 더해 양수값만을 가지는 분포, 자유도(degree of freedom) 모수를 가짐\n",
    "\n",
    "* 자유도 : 선택권이 있는 숫자의 개수\n",
    "우선 표준편차의 개념과 연관되는 개념\n",
    "\n",
    "예) 5명의 수학점수가 각각 21점, 23점, 24점, 27점, 30점이라고 가정하겠습니다. 이 때의 평균값은 25점입니다.<br>\n",
    "\"어떤 값이 되어도 상관없는\" 4사례를 자유도, 즉 Degree of Freedom이라고 합니다.\n",
    "\n",
    "사례수가 5개일 경우 자유도는 4이지만, 10이 된다면 자유도가 9가 됨"
   ]
  },
  {
   "cell_type": "code",
   "execution_count": 22,
   "metadata": {},
   "outputs": [
    {
     "data": {
      "text/plain": [
       "[<matplotlib.lines.Line2D at 0xc6c2320>]"
      ]
     },
     "execution_count": 22,
     "metadata": {},
     "output_type": "execute_result"
    },
    {
     "data": {
      "text/plain": [
       "[<matplotlib.lines.Line2D at 0xc693b38>]"
      ]
     },
     "execution_count": 22,
     "metadata": {},
     "output_type": "execute_result"
    },
    {
     "data": {
      "text/plain": [
       "[<matplotlib.lines.Line2D at 0xc689668>]"
      ]
     },
     "execution_count": 22,
     "metadata": {},
     "output_type": "execute_result"
    },
    {
     "data": {
      "text/plain": [
       "[<matplotlib.lines.Line2D at 0xc693b70>]"
      ]
     },
     "execution_count": 22,
     "metadata": {},
     "output_type": "execute_result"
    },
    {
     "data": {
      "text/plain": [
       "[<matplotlib.lines.Line2D at 0xc7112b0>]"
      ]
     },
     "execution_count": 22,
     "metadata": {},
     "output_type": "execute_result"
    },
    {
     "data": {
      "text/plain": [
       "[<matplotlib.lines.Line2D at 0xc6c9e10>]"
      ]
     },
     "execution_count": 22,
     "metadata": {},
     "output_type": "execute_result"
    },
    {
     "data": {
      "text/plain": [
       "[<matplotlib.lines.Line2D at 0xc71e208>]"
      ]
     },
     "execution_count": 22,
     "metadata": {},
     "output_type": "execute_result"
    },
    {
     "data": {
      "text/plain": [
       "(0, 10.1)"
      ]
     },
     "execution_count": 22,
     "metadata": {},
     "output_type": "execute_result"
    },
    {
     "data": {
      "text/plain": [
       "(0, 0.6)"
      ]
     },
     "execution_count": 22,
     "metadata": {},
     "output_type": "execute_result"
    },
    {
     "data": {
      "text/plain": [
       "<matplotlib.legend.Legend at 0xc61e8d0>"
      ]
     },
     "execution_count": 22,
     "metadata": {},
     "output_type": "execute_result"
    },
    {
     "data": {
      "image/png": "[encoded data removed]",
      "text/plain": [
       "<matplotlib.figure.Figure at 0xc2d9780>"
      ]
     },
     "metadata": {},
     "output_type": "display_data"
    }
   ],
   "source": [
    "\n",
    "xx = np.linspace(0.01, 10, 100)\n",
    "for df in [1, 2, 3, 4, 5, 6, 9]:\n",
    "    rv = sp.stats.chi2(df=df)\n",
    "    plt.plot(xx, rv.pdf(xx), label=(\"chi2 (dof = %d)\" % df))\n",
    "plt.xlim(0, 10.1)\n",
    "plt.ylim(0, 0.6)\n",
    "plt.legend()\n",
    "plt.show()"
   ]
  },
  {
   "cell_type": "markdown",
   "metadata": {},
   "source": [
    "# F 분포\n",
    "\n",
    "F 분포도 카이 제곱 분포를 따르는 독립적인 두 개의 확률 변수  χ12(n1) 와  χ22(n2) 의 확률 변수 샘플로부터 생성\n",
    "\n",
    "집단의 분산을 추정하고 검정할 때 사용하는 분포 "
   ]
  },
  {
   "cell_type": "code",
   "execution_count": 26,
   "metadata": {},
   "outputs": [
    {
     "data": {
      "text/plain": [
       "[<matplotlib.lines.Line2D at 0xcf526a0>]"
      ]
     },
     "execution_count": 26,
     "metadata": {},
     "output_type": "execute_result"
    },
    {
     "data": {
      "text/plain": [
       "[<matplotlib.lines.Line2D at 0xceae8d0>]"
      ]
     },
     "execution_count": 26,
     "metadata": {},
     "output_type": "execute_result"
    },
    {
     "data": {
      "text/plain": [
       "[<matplotlib.lines.Line2D at 0xcf528d0>]"
      ]
     },
     "execution_count": 26,
     "metadata": {},
     "output_type": "execute_result"
    },
    {
     "data": {
      "text/plain": [
       "[<matplotlib.lines.Line2D at 0xcf5bb38>]"
      ]
     },
     "execution_count": 26,
     "metadata": {},
     "output_type": "execute_result"
    },
    {
     "data": {
      "text/plain": [
       "[<matplotlib.lines.Line2D at 0xcf5d7b8>]"
      ]
     },
     "execution_count": 26,
     "metadata": {},
     "output_type": "execute_result"
    },
    {
     "data": {
      "text/plain": [
       "<matplotlib.legend.Legend at 0xcf5d828>"
      ]
     },
     "execution_count": 26,
     "metadata": {},
     "output_type": "execute_result"
    },
    {
     "data": {
      "image/png": "[encoded data removed]",
      "text/plain": [
       "<matplotlib.figure.Figure at 0xc631320>"
      ]
     },
     "metadata": {},
     "output_type": "display_data"
    }
   ],
   "source": [
    "xx = np.linspace(0.03, 3, 1000)\n",
    "#plt.hold(True)\n",
    "plt.plot(xx, sp.stats.f(1,1).pdf(xx), label=\"F(1,1)\")#, hold=True)\n",
    "plt.plot(xx, sp.stats.f(2,1).pdf(xx), label=\"F(2,1)\")\n",
    "plt.plot(xx, sp.stats.f(5,2).pdf(xx), label=\"F(5,2)\")\n",
    "plt.plot(xx, sp.stats.f(10,1).pdf(xx), label=\"F(10,1)\")\n",
    "plt.plot(xx, sp.stats.f(20,20).pdf(xx), label=\"F(20,20)\")\n",
    "plt.legend()\n",
    "plt.show()"
   ]
  },
  {
   "cell_type": "markdown",
   "metadata": {},
   "source": [
    "# 30절: 베타 분포와 감마 분포 \n",
    "\n",
    "# 베타 분포\n",
    "\n",
    "베이지안 추정의 결과를 묘사하기위한 목적으로 주로 사용\n",
    "\n",
    "베이지안 추정(Bayesian estimation)은 추정하고자 하는 모수의 값을 하나의 숫자로 나타내는 것이 아니라 분포로 묘사\n",
    "\n",
    "베타 분포의 확률 밀도 함수는 0부터 1까지만의 값을 가짐 균일분포의 일반화 "
   ]
  },
  {
   "cell_type": "code",
   "execution_count": 27,
   "metadata": {},
   "outputs": [
    {
     "data": {
      "text/plain": [
       "<matplotlib.axes._subplots.AxesSubplot at 0xc631b38>"
      ]
     },
     "execution_count": 27,
     "metadata": {},
     "output_type": "execute_result"
    },
    {
     "data": {
      "text/plain": [
       "[<matplotlib.patches.Polygon at 0xcfc6e48>]"
      ]
     },
     "execution_count": 27,
     "metadata": {},
     "output_type": "execute_result"
    },
    {
     "data": {
      "text/plain": [
       "(0, 6)"
      ]
     },
     "execution_count": 27,
     "metadata": {},
     "output_type": "execute_result"
    },
    {
     "data": {
      "text/plain": [
       "<matplotlib.text.Text at 0xcffd208>"
      ]
     },
     "execution_count": 27,
     "metadata": {},
     "output_type": "execute_result"
    },
    {
     "data": {
      "text/plain": [
       "<matplotlib.axes._subplots.AxesSubplot at 0xd02e6d8>"
      ]
     },
     "execution_count": 27,
     "metadata": {},
     "output_type": "execute_result"
    },
    {
     "data": {
      "text/plain": [
       "[<matplotlib.patches.Polygon at 0xd02e898>]"
      ]
     },
     "execution_count": 27,
     "metadata": {},
     "output_type": "execute_result"
    },
    {
     "data": {
      "text/plain": [
       "(0, 6)"
      ]
     },
     "execution_count": 27,
     "metadata": {},
     "output_type": "execute_result"
    },
    {
     "data": {
      "text/plain": [
       "<matplotlib.text.Text at 0xd078160>"
      ]
     },
     "execution_count": 27,
     "metadata": {},
     "output_type": "execute_result"
    },
    {
     "data": {
      "text/plain": [
       "<matplotlib.axes._subplots.AxesSubplot at 0xd080cc0>"
      ]
     },
     "execution_count": 27,
     "metadata": {},
     "output_type": "execute_result"
    },
    {
     "data": {
      "text/plain": [
       "[<matplotlib.patches.Polygon at 0xd092518>]"
      ]
     },
     "execution_count": 27,
     "metadata": {},
     "output_type": "execute_result"
    },
    {
     "data": {
      "text/plain": [
       "(0, 6)"
      ]
     },
     "execution_count": 27,
     "metadata": {},
     "output_type": "execute_result"
    },
    {
     "data": {
      "text/plain": [
       "<matplotlib.text.Text at 0xd0cec18>"
      ]
     },
     "execution_count": 27,
     "metadata": {},
     "output_type": "execute_result"
    },
    {
     "data": {
      "text/plain": [
       "<matplotlib.axes._subplots.AxesSubplot at 0xd0ff390>"
      ]
     },
     "execution_count": 27,
     "metadata": {},
     "output_type": "execute_result"
    },
    {
     "data": {
      "text/plain": [
       "[<matplotlib.patches.Polygon at 0xd0ff588>]"
      ]
     },
     "execution_count": 27,
     "metadata": {},
     "output_type": "execute_result"
    },
    {
     "data": {
      "text/plain": [
       "(0, 6)"
      ]
     },
     "execution_count": 27,
     "metadata": {},
     "output_type": "execute_result"
    },
    {
     "data": {
      "text/plain": [
       "<matplotlib.text.Text at 0xd0809e8>"
      ]
     },
     "execution_count": 27,
     "metadata": {},
     "output_type": "execute_result"
    },
    {
     "data": {
      "image/png": "[encoded data removed]",
      "text/plain": [
       "<matplotlib.figure.Figure at 0xcfc6e10>"
      ]
     },
     "metadata": {},
     "output_type": "display_data"
    }
   ],
   "source": [
    "xx = np.linspace(0, 1, 1000)\n",
    "plt.subplot(221)\n",
    "plt.fill(xx, sp.stats.beta(1.0001, 1.0001).pdf(xx)); plt.ylim(0, 6)\n",
    "plt.title(\"(A) a=1, b=1\")\n",
    "plt.subplot(222)\n",
    "plt.fill(xx, sp.stats.beta(4, 2).pdf(xx)); plt.ylim(0, 6)\n",
    "plt.title(\"(B) a=4, b=2, mode={0}\".format((4-1)/(4+2-2)))\n",
    "plt.subplot(223)\n",
    "plt.fill(xx, sp.stats.beta(8, 4).pdf(xx)); plt.ylim(0, 6)\n",
    "plt.title(\"(C) a=8, b=4, mode={0}\".format((8-1)/(8+4-2)))\n",
    "plt.subplot(224)\n",
    "plt.fill(xx, sp.stats.beta(30, 12).pdf(xx)); plt.ylim(0, 6)\n",
    "plt.title(\"(D) a=30, b=12, mode={0}\".format((30-1)/(30+12-2)))\n",
    "plt.tight_layout()\n",
    "plt.show()"
   ]
  },
  {
   "cell_type": "markdown",
   "metadata": {},
   "source": [
    "* (A): 추정할 수 없다. (정보가 없음)\n",
    "* (B): 모수값이 0.75일 가능성이 가장 크다. (정확도 낮음)\n",
    "* (C): 모수값이 0.70일 가능성이 가장 크다. (정확도 중간)\n",
    "* (D): 모수값이 0.725일 가능성이 가장 크다. (정확도 높음)\n",
    "\n",
    "베타 분포의 기댓값, 최빈값, 분산\n",
    "\n",
    "기댓값\n",
    "$E[x] = \\dfrac{a}{a+b}$ \n",
    "\n",
    "최빈값\n",
    "$\\dfrac{a - 1}{a+b - 2}$\n",
    "\n",
    "분산\n",
    "$\\text{Var}[x] = \\dfrac{ab}{(a+b)^2(a+b+1)}$"
   ]
  },
  {
   "cell_type": "markdown",
   "metadata": {},
   "source": [
    "#  감마 분포\n",
    "\n",
    "모수의 베이지안 추정에 사용\n",
    "\n",
    "감마 분포는 0부터 무한대의 값을 가지는 양수 값을 추정하는데 사용\n",
    "\n",
    "감마 분포의 확률 밀도 함수는 a와 b라는 두 개의 모수(parameter)를 가짐\n",
    "\n",
    "$\\text{Gam}(x;a,b) = \\frac{1}{\\Gamma(a)} b^a x^{a-1}e^{-bx}$ \n",
    "\n",
    "SciPy의 stats 서브패키지에서 제공하는 gamma 클래스는 모수 b=1 로 고정되어 a  값만 설정할 수 있다. b 를 바꾸려면 x 값 스케일과 계수를 수동으로 설정하여야 한다.\n"
   ]
  },
  {
   "cell_type": "code",
   "execution_count": 28,
   "metadata": {},
   "outputs": [
    {
     "data": {
      "text/plain": [
       "<matplotlib.axes._subplots.AxesSubplot at 0xcf0e048>"
      ]
     },
     "execution_count": 28,
     "metadata": {},
     "output_type": "execute_result"
    },
    {
     "data": {
      "text/plain": [
       "[<matplotlib.lines.Line2D at 0xcfa4fd0>]"
      ]
     },
     "execution_count": 28,
     "metadata": {},
     "output_type": "execute_result"
    },
    {
     "data": {
      "text/plain": [
       "(0, 0.4)"
      ]
     },
     "execution_count": 28,
     "metadata": {},
     "output_type": "execute_result"
    },
    {
     "data": {
      "text/plain": [
       "<matplotlib.text.Text at 0xca25160>"
      ]
     },
     "execution_count": 28,
     "metadata": {},
     "output_type": "execute_result"
    },
    {
     "data": {
      "text/plain": [
       "<matplotlib.axes._subplots.AxesSubplot at 0xc5eaf98>"
      ]
     },
     "execution_count": 28,
     "metadata": {},
     "output_type": "execute_result"
    },
    {
     "data": {
      "text/plain": [
       "[<matplotlib.lines.Line2D at 0xc312160>]"
      ]
     },
     "execution_count": 28,
     "metadata": {},
     "output_type": "execute_result"
    },
    {
     "data": {
      "text/plain": [
       "(0, 0.4)"
      ]
     },
     "execution_count": 28,
     "metadata": {},
     "output_type": "execute_result"
    },
    {
     "data": {
      "text/plain": [
       "<matplotlib.text.Text at 0xc78ac88>"
      ]
     },
     "execution_count": 28,
     "metadata": {},
     "output_type": "execute_result"
    },
    {
     "data": {
      "text/plain": [
       "<matplotlib.axes._subplots.AxesSubplot at 0xc7f0320>"
      ]
     },
     "execution_count": 28,
     "metadata": {},
     "output_type": "execute_result"
    },
    {
     "data": {
      "text/plain": [
       "[<matplotlib.lines.Line2D at 0xc7f0ac8>]"
      ]
     },
     "execution_count": 28,
     "metadata": {},
     "output_type": "execute_result"
    },
    {
     "data": {
      "text/plain": [
       "(0, 0.4)"
      ]
     },
     "execution_count": 28,
     "metadata": {},
     "output_type": "execute_result"
    },
    {
     "data": {
      "text/plain": [
       "<matplotlib.text.Text at 0xc8c7dd8>"
      ]
     },
     "execution_count": 28,
     "metadata": {},
     "output_type": "execute_result"
    },
    {
     "data": {
      "text/plain": [
       "<matplotlib.axes._subplots.AxesSubplot at 0xc9849e8>"
      ]
     },
     "execution_count": 28,
     "metadata": {},
     "output_type": "execute_result"
    },
    {
     "data": {
      "text/plain": [
       "[<matplotlib.lines.Line2D at 0xc98c438>]"
      ]
     },
     "execution_count": 28,
     "metadata": {},
     "output_type": "execute_result"
    },
    {
     "data": {
      "text/plain": [
       "(0, 0.4)"
      ]
     },
     "execution_count": 28,
     "metadata": {},
     "output_type": "execute_result"
    },
    {
     "data": {
      "text/plain": [
       "<matplotlib.text.Text at 0xc71e860>"
      ]
     },
     "execution_count": 28,
     "metadata": {},
     "output_type": "execute_result"
    },
    {
     "data": {
      "image/png": "[encoded data removed]",
      "text/plain": [
       "<matplotlib.figure.Figure at 0xcfa4da0>"
      ]
     },
     "metadata": {},
     "output_type": "display_data"
    }
   ],
   "source": [
    "xx = np.linspace(0, 10, 100)\n",
    "plt.subplot(221)\n",
    "plt.plot(xx, sp.stats.gamma(9).pdf(xx))\n",
    "plt.ylim(0, 0.4)\n",
    "plt.title(\"(A) a=9, b=1, mode=8\")\n",
    "plt.subplot(222)\n",
    "plt.plot(xx, sp.stats.gamma(6).pdf(xx))\n",
    "plt.ylim(0, 0.4)\n",
    "plt.title(\"(B) a=6, b=1, mode=5\")\n",
    "plt.subplot(223)\n",
    "plt.plot(xx, sp.stats.gamma(3).pdf(xx))\n",
    "plt.ylim(0, 0.4)\n",
    "plt.title(\"(C) a=3, b=1, mode=2\")\n",
    "plt.subplot(224)\n",
    "plt.plot(xx, sp.stats.gamma(2).pdf(xx))\n",
    "plt.ylim(0, 0.4)\n",
    "plt.title(\"(D) a=2, b=1, mode=1\")\n",
    "plt.tight_layout()\n",
    "plt.show()"
   ]
  },
  {
   "cell_type": "markdown",
   "metadata": {},
   "source": [
    "* (A): 모수값이 8일 가능성이 가장 크다. (정확도 아주 낮음)\n",
    "* (B): 모수값이 5일 가능성이 가장 크다. (정확도 낮음)\n",
    "* (C): 모수값이 2일 가능성이 가장 크다. (정확도 높음)\n",
    "* (D): 모수값이 1일 가능성이 가장 크다. (정확도 아주 높음)\n",
    "    \n",
    "기댓값\n",
    "\n",
    "$\\text{E}[X] = \\dfrac{a}{b}$\n",
    "\n",
    "최빈값\n",
    "\n",
    "$\\dfrac{a-1}{b}$\n",
    "\n",
    "분산 \n",
    "\n",
    "$\\text{Var}[X] = \\dfrac{a}{b^2}$"
   ]
  },
  {
   "cell_type": "markdown",
   "metadata": {},
   "source": [
    "# 31절: 카테고리 분포와 다항 분포\n",
    "\n",
    "# 카테고리 분포\n",
    "\n",
    "베르누이 분포의 확장판\n",
    "\n",
    "카테고리 분포는 1부터 K까지의 K 개의 정수 값 중 하나가 나오는 확률 변수의 분포\n",
    "\n",
    "일반적으로는 0 또는 1 값만 가지는  KK 개 베르누이 분포 벡터를 가지는 다변수 확률 분포로 가정하여 사용\n",
    "\n",
    "기댓값\n",
    "\n",
    "$\\text{E}[x_k] = \\theta_k$\n",
    "\n",
    "분산\n",
    "\n",
    "$\\text{Var}[x_k] = \\theta_k(1-\\theta_k)$ \n",
    "\n",
    "\n",
    "NumPy의 random 서브패키지의 multinomial 명령에서 n 인수를 1로 설정하고 pvals에 모수 벡터 θ 를 설정하면 1부터 len(pvals)까지의 카테고리 분포를 따르는 데이터 샘플을 생성할 수 있다.\n"
   ]
  },
  {
   "cell_type": "code",
   "execution_count": 31,
   "metadata": {},
   "outputs": [
    {
     "data": {
      "text/plain": [
       "array([ 0.16666667,  0.16666667,  0.16666667,  0.16666667,  0.16666667,\n",
       "        0.16666667])"
      ]
     },
     "execution_count": 31,
     "metadata": {},
     "output_type": "execute_result"
    },
    {
     "data": {
      "text/plain": [
       "array([[0, 0, 0, 0, 0, 1],\n",
       "       [0, 0, 1, 0, 0, 0],\n",
       "       [1, 0, 0, 0, 0, 0],\n",
       "       [0, 0, 0, 0, 1, 0],\n",
       "       [0, 0, 0, 1, 0, 0],\n",
       "       [0, 1, 0, 0, 0, 0],\n",
       "       [1, 0, 0, 0, 0, 0],\n",
       "       [0, 0, 1, 0, 0, 0],\n",
       "       [0, 0, 0, 1, 0, 0],\n",
       "       [0, 0, 0, 1, 0, 0],\n",
       "       [0, 0, 0, 0, 1, 0],\n",
       "       [0, 1, 0, 0, 0, 0],\n",
       "       [0, 0, 0, 1, 0, 0],\n",
       "       [0, 0, 0, 0, 0, 1],\n",
       "       [0, 0, 0, 0, 1, 0],\n",
       "       [0, 0, 0, 0, 0, 1],\n",
       "       [0, 0, 0, 0, 1, 0],\n",
       "       [0, 0, 0, 1, 0, 0],\n",
       "       [0, 1, 0, 0, 0, 0],\n",
       "       [0, 1, 0, 0, 0, 0]])"
      ]
     },
     "execution_count": 31,
     "metadata": {},
     "output_type": "execute_result"
    }
   ],
   "source": [
    "np.random.seed(0)\n",
    "theta = np.array([1/6]*6)\n",
    "theta  \n",
    "X = np.random.multinomial(1, theta, size=20)\n",
    "X"
   ]
  },
  {
   "cell_type": "code",
   "execution_count": 32,
   "metadata": {},
   "outputs": [
    {
     "data": {
      "text/plain": [
       "<Container object of 6 artists>"
      ]
     },
     "execution_count": 32,
     "metadata": {},
     "output_type": "execute_result"
    },
    {
     "data": {
      "image/png": "[encoded data removed]",
      "text/plain": [
       "<matplotlib.figure.Figure at 0xcec9160>"
      ]
     },
     "metadata": {},
     "output_type": "display_data"
    }
   ],
   "source": [
    "plt.bar(np.arange(1, 7), X.sum(axis=0), align=\"center\")\n",
    "plt.show()"
   ]
  },
  {
   "cell_type": "code",
   "execution_count": 33,
   "metadata": {},
   "outputs": [
    {
     "data": {
      "text/html": [
       "<div>\n",
       "<style>\n",
       "    .dataframe thead tr:only-child th {\n",
       "        text-align: right;\n",
       "    }\n",
       "\n",
       "    .dataframe thead th {\n",
       "        text-align: left;\n",
       "    }\n",
       "\n",
       "    .dataframe tbody tr th {\n",
       "        vertical-align: top;\n",
       "    }\n",
       "</style>\n",
       "<table border=\"1\" class=\"dataframe\">\n",
       "  <thead>\n",
       "    <tr style=\"text-align: right;\">\n",
       "      <th></th>\n",
       "      <th>value</th>\n",
       "      <th>type</th>\n",
       "      <th>ratio</th>\n",
       "    </tr>\n",
       "  </thead>\n",
       "  <tbody>\n",
       "    <tr>\n",
       "      <th>0</th>\n",
       "      <td>0</td>\n",
       "      <td>simulation</td>\n",
       "      <td>0.100000</td>\n",
       "    </tr>\n",
       "    <tr>\n",
       "      <th>1</th>\n",
       "      <td>0</td>\n",
       "      <td>theoretic</td>\n",
       "      <td>0.166667</td>\n",
       "    </tr>\n",
       "    <tr>\n",
       "      <th>2</th>\n",
       "      <td>1</td>\n",
       "      <td>simulation</td>\n",
       "      <td>0.200000</td>\n",
       "    </tr>\n",
       "    <tr>\n",
       "      <th>3</th>\n",
       "      <td>1</td>\n",
       "      <td>theoretic</td>\n",
       "      <td>0.166667</td>\n",
       "    </tr>\n",
       "    <tr>\n",
       "      <th>4</th>\n",
       "      <td>2</td>\n",
       "      <td>simulation</td>\n",
       "      <td>0.100000</td>\n",
       "    </tr>\n",
       "  </tbody>\n",
       "</table>\n",
       "</div>"
      ],
      "text/plain": [
       "   value        type     ratio\n",
       "0      0  simulation  0.100000\n",
       "1      0   theoretic  0.166667\n",
       "2      1  simulation  0.200000\n",
       "3      1   theoretic  0.166667\n",
       "4      2  simulation  0.100000"
      ]
     },
     "execution_count": 33,
     "metadata": {},
     "output_type": "execute_result"
    }
   ],
   "source": [
    "df = pd.DataFrame({\"theoretic\": theta, \"simulation\": X.mean(axis=0)}).stack()\n",
    "df = df.reset_index()\n",
    "df.columns = [\"value\", \"type\", \"ratio\"]\n",
    "df.head()"
   ]
  },
  {
   "cell_type": "code",
   "execution_count": 34,
   "metadata": {},
   "outputs": [
    {
     "data": {
      "text/plain": [
       "<matplotlib.axes._subplots.AxesSubplot at 0xc9f3128>"
      ]
     },
     "execution_count": 34,
     "metadata": {},
     "output_type": "execute_result"
    },
    {
     "data": {
      "image/png": "[encoded data removed]",
      "text/plain": [
       "<matplotlib.figure.Figure at 0xd126da0>"
      ]
     },
     "metadata": {},
     "output_type": "display_data"
    }
   ],
   "source": [
    "\n",
    "sns.barplot(x=\"value\", y=\"ratio\", hue=\"type\", data=df)\n",
    "plt.show()"
   ]
  },
  {
   "cell_type": "markdown",
   "metadata": {},
   "source": [
    "* θ 를 다른 값으로 \n"
   ]
  },
  {
   "cell_type": "code",
   "execution_count": 35,
   "metadata": {},
   "outputs": [
    {
     "data": {
      "text/plain": [
       "array([[0, 0, 0, 0, 0, 1],\n",
       "       [0, 0, 0, 1, 0, 0],\n",
       "       [0, 0, 0, 0, 1, 0],\n",
       "       [0, 0, 0, 1, 0, 0],\n",
       "       [0, 0, 1, 0, 0, 0],\n",
       "       [0, 0, 0, 0, 1, 0],\n",
       "       [0, 0, 0, 0, 0, 1],\n",
       "       [0, 0, 0, 0, 1, 0],\n",
       "       [0, 0, 1, 0, 0, 0],\n",
       "       [0, 0, 0, 0, 0, 1],\n",
       "       [0, 0, 0, 0, 0, 1],\n",
       "       [0, 0, 0, 1, 0, 0],\n",
       "       [0, 0, 0, 0, 0, 1],\n",
       "       [0, 0, 0, 0, 1, 0],\n",
       "       [0, 0, 0, 1, 0, 0],\n",
       "       [0, 0, 0, 1, 0, 0],\n",
       "       [0, 0, 0, 0, 0, 1],\n",
       "       [0, 0, 0, 0, 0, 1],\n",
       "       [0, 0, 0, 0, 0, 1],\n",
       "       [0, 0, 0, 1, 0, 0]])"
      ]
     },
     "execution_count": 35,
     "metadata": {},
     "output_type": "execute_result"
    },
    {
     "data": {
      "text/plain": [
       "<Container object of 6 artists>"
      ]
     },
     "execution_count": 35,
     "metadata": {},
     "output_type": "execute_result"
    },
    {
     "data": {
      "image/png": "[encoded data removed]",
      "text/plain": [
       "<matplotlib.figure.Figure at 0xcebfeb8>"
      ]
     },
     "metadata": {},
     "output_type": "display_data"
    }
   ],
   "source": [
    "np.random.seed(0)\n",
    "theta = np.array([0, 0, 0.1, 0.2, 0.3, 0.4])\n",
    "X = np.random.multinomial(1, theta, size=20)\n",
    "X\n",
    "plt.bar(np.arange(1, 7), X.sum(axis=0), align=\"center\")\n",
    "plt.show()"
   ]
  },
  {
   "cell_type": "code",
   "execution_count": 36,
   "metadata": {},
   "outputs": [
    {
     "data": {
      "text/html": [
       "<div>\n",
       "<style>\n",
       "    .dataframe thead tr:only-child th {\n",
       "        text-align: right;\n",
       "    }\n",
       "\n",
       "    .dataframe thead th {\n",
       "        text-align: left;\n",
       "    }\n",
       "\n",
       "    .dataframe tbody tr th {\n",
       "        vertical-align: top;\n",
       "    }\n",
       "</style>\n",
       "<table border=\"1\" class=\"dataframe\">\n",
       "  <thead>\n",
       "    <tr style=\"text-align: right;\">\n",
       "      <th></th>\n",
       "      <th>value</th>\n",
       "      <th>type</th>\n",
       "      <th>ratio</th>\n",
       "    </tr>\n",
       "  </thead>\n",
       "  <tbody>\n",
       "    <tr>\n",
       "      <th>0</th>\n",
       "      <td>0</td>\n",
       "      <td>simulation</td>\n",
       "      <td>0.0</td>\n",
       "    </tr>\n",
       "    <tr>\n",
       "      <th>1</th>\n",
       "      <td>0</td>\n",
       "      <td>theoretic</td>\n",
       "      <td>0.0</td>\n",
       "    </tr>\n",
       "    <tr>\n",
       "      <th>2</th>\n",
       "      <td>1</td>\n",
       "      <td>simulation</td>\n",
       "      <td>0.0</td>\n",
       "    </tr>\n",
       "    <tr>\n",
       "      <th>3</th>\n",
       "      <td>1</td>\n",
       "      <td>theoretic</td>\n",
       "      <td>0.0</td>\n",
       "    </tr>\n",
       "    <tr>\n",
       "      <th>4</th>\n",
       "      <td>2</td>\n",
       "      <td>simulation</td>\n",
       "      <td>0.1</td>\n",
       "    </tr>\n",
       "  </tbody>\n",
       "</table>\n",
       "</div>"
      ],
      "text/plain": [
       "   value        type  ratio\n",
       "0      0  simulation    0.0\n",
       "1      0   theoretic    0.0\n",
       "2      1  simulation    0.0\n",
       "3      1   theoretic    0.0\n",
       "4      2  simulation    0.1"
      ]
     },
     "execution_count": 36,
     "metadata": {},
     "output_type": "execute_result"
    },
    {
     "data": {
      "text/plain": [
       "<matplotlib.axes._subplots.AxesSubplot at 0xcb04dd8>"
      ]
     },
     "execution_count": 36,
     "metadata": {},
     "output_type": "execute_result"
    },
    {
     "data": {
      "image/png": "[encoded data removed]",
      "text/plain": [
       "<matplotlib.figure.Figure at 0xc9fe390>"
      ]
     },
     "metadata": {},
     "output_type": "display_data"
    }
   ],
   "source": [
    "df = pd.DataFrame({\"theoretic\": theta, \"simulation\": X.mean(axis=0)}).stack()\n",
    "df = df.reset_index()\n",
    "df.columns = [\"value\", \"type\", \"ratio\"]\n",
    "df.head()\n",
    "\n",
    "sns.barplot(x=\"value\", y=\"ratio\", hue=\"type\", data=df)\n",
    "plt.show()"
   ]
  },
  {
   "cell_type": "markdown",
   "metadata": {},
   "source": [
    "# 다항 분포\n",
    "\n",
    "독립적인 카테고리 분포를 여러번 시도하여 얻은 각 원소의 성공횟수 값이 이루는 분포 \n",
    "\n",
    "독립적인 카테고리 시도를 N 번 반복해서  k 가 각각 xk 번 나올 확률\n",
    "\n",
    "$\\text{Mu}(x;N,\\theta) = \\binom N x  \\prod_{k=1}^K \\theta_k^{x_k} = \\binom N {x_1, \\cdots, x_K} \\prod_{k=1}^K \\theta_k^{x_k}$ \n",
    "\n",
    "기댓값\n",
    "\n",
    "$\\text{E}[x_k] = N\\theta_k$\n",
    "\n",
    "분산\n",
    "\n",
    "$\\text{Var}[x_k] = N\\theta_k(1-\\theta_k)$ \n",
    "\n",
    "SciPy는 다항 분포를 위한 별도의 클래스나 명령어를 제공하지 않고 NumPy의 random 서브패키지에서 다항 분포 샘플 생성을 하는 multinomial 명령어를 지원한다.\n",
    "\n",
    "n 인수는 시행 횟수 N 을 설정하고 pvals에 모수 벡터  θ 를 설정한다."
   ]
  },
  {
   "cell_type": "code",
   "execution_count": 43,
   "metadata": {},
   "outputs": [
    {
     "data": {
      "text/plain": [
       "array([[ 0,  0,  3,  6,  9, 12],\n",
       "       [ 0,  0,  5,  9,  6, 10],\n",
       "       [ 0,  0,  3,  9,  5, 13],\n",
       "       [ 0,  0,  5,  7, 10,  8],\n",
       "       [ 0,  0,  3,  8,  6, 13]])"
      ]
     },
     "execution_count": 43,
     "metadata": {},
     "output_type": "execute_result"
    }
   ],
   "source": [
    "np.random.seed(0)\n",
    "N = 30\n",
    "theta = np.array([0, 0, 0.1, 0.2, 0.3, 0.4])\n",
    "X = np.random.multinomial(N, theta, size=100)\n",
    "X[:5]"
   ]
  },
  {
   "cell_type": "code",
   "execution_count": 42,
   "metadata": {},
   "outputs": [
    {
     "data": {
      "image/png": "[encoded data removed]",
      "text/plain": [
       "<matplotlib.figure.Figure at 0xe6f8278>"
      ]
     },
     "metadata": {},
     "output_type": "display_data"
    }
   ],
   "source": [
    "plt.boxplot(X)\n",
    "plt.show();"
   ]
  },
  {
   "cell_type": "code",
   "execution_count": 38,
   "metadata": {},
   "outputs": [
    {
     "data": {
      "text/html": [
       "<div>\n",
       "<style>\n",
       "    .dataframe thead tr:only-child th {\n",
       "        text-align: right;\n",
       "    }\n",
       "\n",
       "    .dataframe thead th {\n",
       "        text-align: left;\n",
       "    }\n",
       "\n",
       "    .dataframe tbody tr th {\n",
       "        vertical-align: top;\n",
       "    }\n",
       "</style>\n",
       "<table border=\"1\" class=\"dataframe\">\n",
       "  <thead>\n",
       "    <tr style=\"text-align: right;\">\n",
       "      <th></th>\n",
       "      <th>trial</th>\n",
       "      <th>class</th>\n",
       "      <th>binomial</th>\n",
       "    </tr>\n",
       "  </thead>\n",
       "  <tbody>\n",
       "    <tr>\n",
       "      <th>0</th>\n",
       "      <td>0</td>\n",
       "      <td>0</td>\n",
       "      <td>0</td>\n",
       "    </tr>\n",
       "    <tr>\n",
       "      <th>1</th>\n",
       "      <td>0</td>\n",
       "      <td>1</td>\n",
       "      <td>0</td>\n",
       "    </tr>\n",
       "    <tr>\n",
       "      <th>2</th>\n",
       "      <td>0</td>\n",
       "      <td>2</td>\n",
       "      <td>3</td>\n",
       "    </tr>\n",
       "    <tr>\n",
       "      <th>3</th>\n",
       "      <td>0</td>\n",
       "      <td>3</td>\n",
       "      <td>6</td>\n",
       "    </tr>\n",
       "    <tr>\n",
       "      <th>4</th>\n",
       "      <td>0</td>\n",
       "      <td>4</td>\n",
       "      <td>9</td>\n",
       "    </tr>\n",
       "  </tbody>\n",
       "</table>\n",
       "</div>"
      ],
      "text/plain": [
       "   trial  class  binomial\n",
       "0      0      0         0\n",
       "1      0      1         0\n",
       "2      0      2         3\n",
       "3      0      3         6\n",
       "4      0      4         9"
      ]
     },
     "execution_count": 38,
     "metadata": {},
     "output_type": "execute_result"
    },
    {
     "data": {
      "text/plain": [
       "<matplotlib.axes._subplots.AxesSubplot at 0xe35b748>"
      ]
     },
     "execution_count": 38,
     "metadata": {},
     "output_type": "execute_result"
    },
    {
     "data": {
      "text/plain": [
       "<matplotlib.axes._subplots.AxesSubplot at 0xe35b748>"
      ]
     },
     "execution_count": 38,
     "metadata": {},
     "output_type": "execute_result"
    },
    {
     "data": {
      "image/png": "[encoded data removed]",
      "text/plain": [
       "<matplotlib.figure.Figure at 0xca0be48>"
      ]
     },
     "metadata": {},
     "output_type": "display_data"
    }
   ],
   "source": [
    "df = pd.DataFrame(X).stack().reset_index()\n",
    "df.columns = [\"trial\", \"class\", \"binomial\"]\n",
    "df.head()\n",
    "\n",
    "\n",
    "sns.boxplot(x=\"class\", y=\"binomial\", data=df)\n",
    "sns.stripplot(x=\"class\", y=\"binomial\", data=df, jitter=True, color=\".3\")\n",
    "plt.show()\n"
   ]
  },
  {
   "cell_type": "code",
   "execution_count": 39,
   "metadata": {},
   "outputs": [
    {
     "data": {
      "text/plain": [
       "<matplotlib.axes._subplots.AxesSubplot at 0xe496be0>"
      ]
     },
     "execution_count": 39,
     "metadata": {},
     "output_type": "execute_result"
    },
    {
     "data": {
      "text/plain": [
       "<matplotlib.axes._subplots.AxesSubplot at 0xe496be0>"
      ]
     },
     "execution_count": 39,
     "metadata": {},
     "output_type": "execute_result"
    },
    {
     "data": {
      "image/png": "[encoded data removed]",
      "text/plain": [
       "<matplotlib.figure.Figure at 0xccceba8>"
      ]
     },
     "metadata": {},
     "output_type": "display_data"
    }
   ],
   "source": [
    "\n",
    "sns.violinplot(x=\"class\", y=\"binomial\", data=df, inner=\"quartile\")\n",
    "sns.stripplot(x=\"class\", y=\"binomial\", data=df, jitter=True, color=\".3\")\n",
    "plt.show()"
   ]
  },
  {
   "cell_type": "markdown",
   "metadata": {},
   "source": [
    "# 32절: 디리클레 분포\n",
    "\n",
    "베타 분포의 확장판\n",
    "\n",
    "디리클레 분포는 0과 1사이의 사이의 값을 가지는 다변수(multivariate) 확률 변수의 베이지안 모형에 사용\n",
    "\n",
    "다변수 확률 변수들의 합이 1이되어야 함\n",
    "\n",
    "\n"
   ]
  },
  {
   "cell_type": "code",
   "execution_count": null,
   "metadata": {
    "collapsed": true
   },
   "outputs": [],
   "source": []
  }
 ],
 "metadata": {
  "kernelspec": {
   "display_name": "Python 3",
   "language": "python",
   "name": "python3"
  },
  "language_info": {
   "codemirror_mode": {
    "name": "ipython",
    "version": 3
   },
   "file_extension": ".py",
   "mimetype": "text/x-python",
   "name": "python",
   "nbconvert_exporter": "python",
   "pygments_lexer": "ipython3",
   "version": "3.6.1"
  }
 },
 "nbformat": 4,
 "nbformat_minor": 2
}
