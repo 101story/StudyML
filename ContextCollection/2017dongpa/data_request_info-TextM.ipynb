{
 "cells": [
  {
   "cell_type": "code",
   "execution_count": 2,
   "metadata": {
    "collapsed": true
   },
   "outputs": [],
   "source": [
    "import pandas as pd\n",
    "import numpy as np"
   ]
  },
  {
   "cell_type": "code",
   "execution_count": null,
   "metadata": {
    "scrolled": false
   },
   "outputs": [],
   "source": [
    "minwan_data = pd.read_excel(r'C:\\Users\\jhee\\Documents\\StudyFolder\\Project_DongpaBangjiP\\current_data\\request\\request_info.xlsx')\n",
    "minwan_data.head(10)"
   ]
  },
  {
   "cell_type": "code",
   "execution_count": 19,
   "metadata": {},
   "outputs": [
    {
     "data": {
      "text/plain": [
       "동파             5020\n",
       "계량기기타          1475\n",
       "밸브고장             34\n",
       "계량기고장(지침부동)      23\n",
       "계량기이설            17\n",
       "계량기뚜껑신청           7\n",
       "계량기고장(회전불량)       2\n",
       "노후교체              2\n",
       "계량기불량             1\n",
       "Name: mid_class, dtype: int64"
      ]
     },
     "execution_count": 19,
     "metadata": {},
     "output_type": "execute_result"
    }
   ],
   "source": [
    "minwan_data['classification'].value_counts()"
   ]
  },
  {
   "cell_type": "code",
   "execution_count": 21,
   "metadata": {},
   "outputs": [
    {
     "data": {
      "text/plain": [
       "완료    6362\n",
       "반려     217\n",
       "접수       2\n",
       "Name: stcd, dtype: int64"
      ]
     },
     "execution_count": 21,
     "metadata": {},
     "output_type": "execute_result"
    }
   ],
   "source": [
    "minwan_data['state'].value_counts()"
   ]
  },
  {
   "cell_type": "code",
   "execution_count": 23,
   "metadata": {},
   "outputs": [
    {
     "data": {
      "text/plain": [
       "동파             5020\n",
       "계량기기타          1475\n",
       "밸브고장             34\n",
       "계량기고장(지침부동)      23\n",
       "계량기이설            17\n",
       "계량기뚜껑신청           7\n",
       "계량기고장(회전불량)       2\n",
       "노후교체              2\n",
       "계량기불량             1\n",
       "Name: mid_class, dtype: int64"
      ]
     },
     "execution_count": 23,
     "metadata": {},
     "output_type": "execute_result"
    }
   ],
   "source": [
    "minwan_data['mid_class'].value_counts()"
   ]
  },
  {
   "cell_type": "code",
   "execution_count": 12,
   "metadata": {},
   "outputs": [
    {
     "data": {
      "text/plain": [
       "'2017-06-15 10:49'"
      ]
     },
     "execution_count": 12,
     "metadata": {},
     "output_type": "execute_result"
    }
   ],
   "source": [
    "minwan_data['date'][0]"
   ]
  },
  {
   "cell_type": "code",
   "execution_count": 60,
   "metadata": {},
   "outputs": [
    {
     "name": "stdout",
     "output_type": "stream",
     "text": [
      "2015 282\n",
      "2012 1146\n",
      "2013 1026\n",
      "2014 405\n",
      "2010 1233\n",
      "2011 1522\n",
      "2017 243\n",
      "2016 724\n",
      "---------------\n",
      "05 288\n",
      "08 123\n",
      "02 1379\n",
      "09 107\n",
      "06 195\n",
      "11 224\n",
      "04 548\n",
      "01 1896\n",
      "07 109\n",
      "03 1001\n",
      "10 123\n",
      "12 588\n"
     ]
    }
   ],
   "source": [
    "dates = [ minwan_data['date'][i].split(' ')[0].split('-') for i in range(len(minwan_data['date']))  ]\n",
    "year=[i[0] for i in dates]\n",
    "month=[i[1] for i in dates]\n",
    "day=[i[2] for i in dates]\n",
    "\n",
    "for i in set(year):\n",
    "    print(i, year.count(i))\n",
    "print('---------------')\n",
    "for i in set(month):\n",
    "    print(i, month.count(i))"
   ]
  },
  {
   "cell_type": "code",
   "execution_count": 64,
   "metadata": {},
   "outputs": [
    {
     "name": "stdout",
     "output_type": "stream",
     "text": [
      "['2010', '2011', '2012', '2013', '2014', '2015', '2016', '2017'] [1233, 1522, 1146, 1026, 405, 282, 724, 243]\n"
     ]
    },
    {
     "data": {
      "image/png": "[encoded data removed]",
      "text/plain": [
       "<matplotlib.figure.Figure at 0x20b76ba6b70>"
      ]
     },
     "metadata": {},
     "output_type": "display_data"
    }
   ],
   "source": [
    "import matplotlib.pyplot as plt\n",
    "\n",
    "def barchart(data, labels): \n",
    "    num_bars = len(data) \n",
    "    positions = range(1, num_bars + 1) \n",
    "    plt.barh(positions, data, align='center') \n",
    "    plt.yticks(positions, labels) \n",
    "    plt.xlabel('Temperature') \n",
    "    plt.ylabel('Year') \n",
    "    plt.title('year') \n",
    "    plt.grid()\n",
    "    plt.show() \n",
    "\n",
    "x = list(set(year))\n",
    "x.sort()\n",
    "y = [int(year.count(i)) for i in x]\n",
    "print(x,y)\n",
    "barchart(y, x)"
   ]
  },
  {
   "cell_type": "code",
   "execution_count": 65,
   "metadata": {},
   "outputs": [
    {
     "data": {
      "image/png": "[encoded data removed]",
      "text/plain": [
       "<matplotlib.figure.Figure at 0x20b76d783c8>"
      ]
     },
     "metadata": {},
     "output_type": "display_data"
    }
   ],
   "source": [
    "x = list(set(month))\n",
    "x.sort()\n",
    "y = [int(month.count(i)) for i in x]\n",
    "barchart(y, x)"
   ]
  },
  {
   "cell_type": "code",
   "execution_count": 4,
   "metadata": {},
   "outputs": [
    {
     "name": "stdout",
     "output_type": "stream",
     "text": [
      "6362\n"
     ]
    }
   ],
   "source": [
    "stateEnd_data = minwan_data[minwan_data['state']=='완료']\n",
    "print(stateEnd_data.shape[0])"
   ]
  },
  {
   "cell_type": "code",
   "execution_count": null,
   "metadata": {
    "collapsed": true
   },
   "outputs": [],
   "source": [
    "for i in stateEnd_data.index:\n",
    "    if '재인입' in str(stateEnd_data.loc[i,'content']) :\n",
    "        stateEnd_data=stateEnd_data.drop(i)\n",
    "\n",
    "stateEnd_data.shape[0]"
   ]
  },
  {
   "cell_type": "code",
   "execution_count": 5,
   "metadata": {},
   "outputs": [
    {
     "name": "stderr",
     "output_type": "stream",
     "text": [
      "C:\\Users\\jhee\\Documents\\Anaconda3\\lib\\site-packages\\pandas\\core\\indexing.py:141: SettingWithCopyWarning: \n",
      "A value is trying to be set on a copy of a slice from a DataFrame\n",
      "\n",
      "See the caveats in the documentation: http://pandas.pydata.org/pandas-docs/stable/indexing.html#indexing-view-versus-copy\n",
      "  self._setitem_with_indexer(indexer, value)\n",
      "C:\\Users\\jhee\\Documents\\Anaconda3\\lib\\site-packages\\ipykernel\\__main__.py:4: SettingWithCopyWarning: \n",
      "A value is trying to be set on a copy of a slice from a DataFrame\n",
      "\n",
      "See the caveats in the documentation: http://pandas.pydata.org/pandas-docs/stable/indexing.html#indexing-view-versus-copy\n",
      "C:\\Users\\jhee\\Documents\\Anaconda3\\lib\\site-packages\\ipykernel\\__main__.py:6: SettingWithCopyWarning: \n",
      "A value is trying to be set on a copy of a slice from a DataFrame.\n",
      "Try using .loc[row_indexer,col_indexer] = value instead\n",
      "\n",
      "See the caveats in the documentation: http://pandas.pydata.org/pandas-docs/stable/indexing.html#indexing-view-versus-copy\n",
      "C:\\Users\\jhee\\Documents\\Anaconda3\\lib\\site-packages\\ipykernel\\__main__.py:9: SettingWithCopyWarning: \n",
      "A value is trying to be set on a copy of a slice from a DataFrame\n",
      "\n",
      "See the caveats in the documentation: http://pandas.pydata.org/pandas-docs/stable/indexing.html#indexing-view-versus-copy\n"
     ]
    }
   ],
   "source": [
    "from konlpy.tag import Twitter\n",
    "twitter = Twitter()\n",
    "for i in stateEnd_data.index:\n",
    "    stateEnd_data.loc[i,'content']=str(stateEnd_data.loc[i,'content']).replace(\"/\",' ')\n",
    "\n",
    "stateEnd_data['nouns'] = ''\n",
    "\n",
    "for i in stateEnd_data.index:\n",
    "    stateEnd_data.loc[i,'nouns']=twitter.nouns(stateEnd_data.loc[i,'content'])\n",
    "    "
   ]
  },
  {
   "cell_type": "code",
   "execution_count": 6,
   "metadata": {},
   "outputs": [
    {
     "data": {
      "text/plain": [
       "0                   [계량기, 지침, 앞, 수가, 현장, 확인]\n",
       "2                                   [동파, 문의]\n",
       "4                                  [계량기, 동파]\n",
       "5    [매매, 현, 소유, 주, 겨울, 계량기, 동파, 유리, 확인, 요청]\n",
       "7            [계량기, 메모, 계량기, 동파, 관리사, 통화, 요청]\n",
       "Name: nouns, dtype: object"
      ]
     },
     "execution_count": 6,
     "metadata": {},
     "output_type": "execute_result"
    }
   ],
   "source": [
    "stateEnd_data['nouns'].head()"
   ]
  },
  {
   "cell_type": "code",
   "execution_count": 6,
   "metadata": {
    "collapsed": true
   },
   "outputs": [],
   "source": [
    "stateEnd_data['dongpaxo'] = ''"
   ]
  },
  {
   "cell_type": "code",
   "execution_count": 8,
   "metadata": {},
   "outputs": [
    {
     "name": "stderr",
     "output_type": "stream",
     "text": [
      "C:\\Users\\jhee\\Documents\\Anaconda3\\lib\\site-packages\\pandas\\core\\indexing.py:297: SettingWithCopyWarning: \n",
      "A value is trying to be set on a copy of a slice from a DataFrame.\n",
      "Try using .loc[row_indexer,col_indexer] = value instead\n",
      "\n",
      "See the caveats in the documentation: http://pandas.pydata.org/pandas-docs/stable/indexing.html#indexing-view-versus-copy\n",
      "  self.obj[key] = _infer_fill_value(value)\n",
      "C:\\Users\\jhee\\Documents\\Anaconda3\\lib\\site-packages\\pandas\\core\\indexing.py:477: SettingWithCopyWarning: \n",
      "A value is trying to be set on a copy of a slice from a DataFrame.\n",
      "Try using .loc[row_indexer,col_indexer] = value instead\n",
      "\n",
      "See the caveats in the documentation: http://pandas.pydata.org/pandas-docs/stable/indexing.html#indexing-view-versus-copy\n",
      "  self.obj[item] = s\n"
     ]
    }
   ],
   "source": [
    "s=0\n",
    "for i in stateEnd_data.index:\n",
    "    temp = stateEnd_data.loc[i,'nouns']\n",
    "    if '동파' in temp and len(temp)==1:\n",
    "        stateEnd_data.loc[i,'dongpaxo'] = 0\n",
    "        s+=1"
   ]
  },
  {
   "cell_type": "code",
   "execution_count": 9,
   "metadata": {},
   "outputs": [
    {
     "data": {
      "text/plain": [
       "409"
      ]
     },
     "execution_count": 9,
     "metadata": {},
     "output_type": "execute_result"
    }
   ],
   "source": [
    "s"
   ]
  },
  {
   "cell_type": "code",
   "execution_count": 8,
   "metadata": {},
   "outputs": [
    {
     "data": {
      "text/plain": [
       "     5657\n",
       "0     409\n",
       "Name: dongpaxo, dtype: int64"
      ]
     },
     "execution_count": 8,
     "metadata": {},
     "output_type": "execute_result"
    }
   ],
   "source": [
    "stateEnd_data['dongpaxo'].value_counts()"
   ]
  },
  {
   "cell_type": "code",
   "execution_count": 9,
   "metadata": {},
   "outputs": [
    {
     "data": {
      "text/plain": [
       "0                              [계량기, 지침, 앞, 수가, 현장, 확인]\n",
       "2                                              [동파, 문의]\n",
       "4                                             [계량기, 동파]\n",
       "5               [매매, 현, 소유, 주, 겨울, 계량기, 동파, 유리, 확인, 요청]\n",
       "7                       [계량기, 메모, 계량기, 동파, 관리사, 통화, 요청]\n",
       "8                                     [계량기, 동파, 교체, 요청]\n",
       "9                                     [계량기, 동파, 교체, 요청]\n",
       "10                                    [계량기, 동파, 교체, 요청]\n",
       "11                                         [동파, 접수, 요청]\n",
       "12    [계량기, 유리, 밸브, 자동, 확인, 요청, 동파, 확인, 시, 계량기, 교체, ...\n",
       "Name: nouns, dtype: object"
      ]
     },
     "execution_count": 9,
     "metadata": {},
     "output_type": "execute_result"
    }
   ],
   "source": [
    "stateEnd_data['nouns'].head(10)"
   ]
  },
  {
   "cell_type": "code",
   "execution_count": 10,
   "metadata": {
    "collapsed": true
   },
   "outputs": [],
   "source": [
    "for i in stateEnd_data.index:\n",
    "    temp = stateEnd_data.loc[i,'nouns']\n",
    "    if '동파' in temp and '계량기' in temp:\n",
    "        if '교체' in temp and '요청' in temp:\n",
    "            stateEnd_data.loc[i,'dongpaxo'] = 0\n",
    "        elif '교체' in temp:\n",
    "        stateEnd_data.loc[i,'dongpaxo'] = 0\n",
    "    elif '동파' in temp and '교체' in temp:\n",
    "        stateEnd_data.loc[i,'dongpaxo'] = 0"
   ]
  },
  {
   "cell_type": "code",
   "execution_count": 11,
   "metadata": {},
   "outputs": [
    {
     "data": {
      "text/plain": [
       "0    3807\n",
       "     2259\n",
       "Name: dongpaxo, dtype: int64"
      ]
     },
     "execution_count": 11,
     "metadata": {},
     "output_type": "execute_result"
    }
   ],
   "source": [
    "stateEnd_data['dongpaxo'].value_counts()"
   ]
  },
  {
   "cell_type": "code",
   "execution_count": 12,
   "metadata": {},
   "outputs": [],
   "source": [
    "# for i in stateEnd_data.index:\n",
    "#     temp=stateEnd_data.loc[i,'nouns']\n",
    "#     if '동파' in temp:\n",
    "#         if '계량기' or '교체' in temp:\n",
    "#              stateEnd_data.loc[i,'dongpaxo']=0"
   ]
  },
  {
   "cell_type": "code",
   "execution_count": 12,
   "metadata": {},
   "outputs": [
    {
     "data": {
      "text/plain": [
       "0    3807\n",
       "     2259\n",
       "Name: dongpaxo, dtype: int64"
      ]
     },
     "execution_count": 12,
     "metadata": {},
     "output_type": "execute_result"
    }
   ],
   "source": [
    "stateEnd_data['dongpaxo'].value_counts()"
   ]
  },
  {
   "cell_type": "code",
   "execution_count": 14,
   "metadata": {
    "collapsed": true
   },
   "outputs": [],
   "source": [
    "# mola=stateEnd_data[stateEnd_data['dongpaxo']!=0]"
   ]
  },
  {
   "cell_type": "code",
   "execution_count": 13,
   "metadata": {
    "collapsed": true
   },
   "outputs": [],
   "source": [
    "for i in stateEnd_data.index:\n",
    "    temp=stateEnd_data.loc[i,'nouns']\n",
    "    if '동파' in temp:\n",
    "        if '유리' and '파손' in temp:\n",
    "             stateEnd_data.loc[i,'dongpaxo']=0"
   ]
  },
  {
   "cell_type": "code",
   "execution_count": 16,
   "metadata": {},
   "outputs": [
    {
     "data": {
      "text/plain": [
       "0    3892\n",
       "     2174\n",
       "Name: dongpaxo, dtype: int64"
      ]
     },
     "execution_count": 16,
     "metadata": {},
     "output_type": "execute_result"
    }
   ],
   "source": [
    "stateEnd_data['dongpaxo'].value_counts()"
   ]
  },
  {
   "cell_type": "code",
   "execution_count": 14,
   "metadata": {
    "collapsed": true
   },
   "outputs": [],
   "source": [
    "for i in stateEnd_data.index:\n",
    "    temp=stateEnd_data.loc[i,'nouns']\n",
    "    if '동파' in temp:\n",
    "        if '계량기' and '신고' in temp:\n",
    "             stateEnd_data.loc[i,'dongpaxo']=0"
   ]
  },
  {
   "cell_type": "code",
   "execution_count": 15,
   "metadata": {},
   "outputs": [
    {
     "data": {
      "text/plain": [
       "0    3956\n",
       "     2110\n",
       "Name: dongpaxo, dtype: int64"
      ]
     },
     "execution_count": 15,
     "metadata": {},
     "output_type": "execute_result"
    }
   ],
   "source": [
    "stateEnd_data['dongpaxo'].value_counts()"
   ]
  },
  {
   "cell_type": "code",
   "execution_count": 19,
   "metadata": {},
   "outputs": [],
   "source": [
    "# writer = pd.ExcelWriter('output.xlsx')\n",
    "# stateEnd_data.to_excel(writer,'Sheet1')\n",
    "# writer.save()"
   ]
  },
  {
   "cell_type": "code",
   "execution_count": null,
   "metadata": {},
   "outputs": [],
   "source": [
    "stateEnd_data[stateEnd_data['consumer_id']=='41480-09-15383']"
   ]
  },
  {
   "cell_type": "code",
   "execution_count": 16,
   "metadata": {},
   "outputs": [
    {
     "data": {
      "text/html": [
       "<div>\n",
       "<table border=\"1\" class=\"dataframe\">\n",
       "  <thead>\n",
       "    <tr style=\"text-align: right;\">\n",
       "      <th></th>\n",
       "      <th>신청일시</th>\n",
       "      <th>중분류</th>\n",
       "      <th>수용가번호</th>\n",
       "      <th>상태</th>\n",
       "      <th>민원내용</th>\n",
       "      <th>check</th>\n",
       "      <th>Unnamed: 6</th>\n",
       "    </tr>\n",
       "  </thead>\n",
       "  <tbody>\n",
       "    <tr>\n",
       "      <th>0</th>\n",
       "      <td>2017-06-15 10:49</td>\n",
       "      <td>계량기고장(회전불량)</td>\n",
       "      <td>41480-16-03444</td>\n",
       "      <td>완료</td>\n",
       "      <td>계량기지침 앞자리수가 딸려 올려가 있음 / 현장확인요청함</td>\n",
       "      <td>2</td>\n",
       "      <td>NaN</td>\n",
       "    </tr>\n",
       "    <tr>\n",
       "      <th>1</th>\n",
       "      <td>2017-06-13 14:44</td>\n",
       "      <td>계량기기타</td>\n",
       "      <td>41480-12-01908</td>\n",
       "      <td>반려</td>\n",
       "      <td>계량기 유리 안으로 물 고임/ 그대로 유지해도 괜찮은 것인지 확인 요청( 겨울철 동...</td>\n",
       "      <td>2</td>\n",
       "      <td>NaN</td>\n",
       "    </tr>\n",
       "    <tr>\n",
       "      <th>2</th>\n",
       "      <td>2017-06-12 13:27</td>\n",
       "      <td>계량기기타</td>\n",
       "      <td>NaN</td>\n",
       "      <td>완료</td>\n",
       "      <td>동파로문의</td>\n",
       "      <td>2</td>\n",
       "      <td>NaN</td>\n",
       "    </tr>\n",
       "    <tr>\n",
       "      <th>3</th>\n",
       "      <td>2017-06-09 14:04</td>\n",
       "      <td>계량기기타</td>\n",
       "      <td>41480-09-26820</td>\n",
       "      <td>접수</td>\n",
       "      <td>계량기가 외부와 가까이 노출되어 겨울이면 동파된다고함 보호통 교체 요청</td>\n",
       "      <td>2</td>\n",
       "      <td>NaN</td>\n",
       "    </tr>\n",
       "    <tr>\n",
       "      <th>4</th>\n",
       "      <td>2017-06-08 15:24</td>\n",
       "      <td>계량기기타</td>\n",
       "      <td>41480-11-03416</td>\n",
       "      <td>완료</td>\n",
       "      <td>.계량기 동파라고 합니다</td>\n",
       "      <td>0</td>\n",
       "      <td>NaN</td>\n",
       "    </tr>\n",
       "  </tbody>\n",
       "</table>\n",
       "</div>"
      ],
      "text/plain": [
       "               신청일시          중분류           수용가번호  상태  \\\n",
       "0  2017-06-15 10:49  계량기고장(회전불량)  41480-16-03444  완료   \n",
       "1  2017-06-13 14:44        계량기기타  41480-12-01908  반려   \n",
       "2  2017-06-12 13:27        계량기기타             NaN  완료   \n",
       "3  2017-06-09 14:04        계량기기타  41480-09-26820  접수   \n",
       "4  2017-06-08 15:24        계량기기타  41480-11-03416  완료   \n",
       "\n",
       "                                                민원내용  check Unnamed: 6  \n",
       "0                   계량기지침 앞자리수가 딸려 올려가 있음 / 현장확인요청함       2        NaN  \n",
       "1  계량기 유리 안으로 물 고임/ 그대로 유지해도 괜찮은 것인지 확인 요청( 겨울철 동...      2        NaN  \n",
       "2                                              동파로문의      2        NaN  \n",
       "3            계량기가 외부와 가까이 노출되어 겨울이면 동파된다고함 보호통 교체 요청      2        NaN  \n",
       "4                                     .계량기 동파라고 합니다       0        NaN  "
      ]
     },
     "execution_count": 16,
     "metadata": {},
     "output_type": "execute_result"
    }
   ],
   "source": [
    "minwon_jisu = pd.read_excel(r'C:\\Users\\jhee\\Documents\\StudyFolder\\Project_DongpaBangjiP\\request_jisu.xlsx')\n",
    "minwon_jisu.head()"
   ]
  },
  {
   "cell_type": "code",
   "execution_count": 17,
   "metadata": {},
   "outputs": [
    {
     "name": "stdout",
     "output_type": "stream",
     "text": [
      "1458\n",
      "1365\n"
     ]
    },
    {
     "data": {
      "text/plain": [
       "1365"
      ]
     },
     "execution_count": 17,
     "metadata": {},
     "output_type": "execute_result"
    }
   ],
   "source": [
    "print(minwon_jisu.shape[0])\n",
    "stateEnd_jisu = minwon_jisu[minwon_jisu['상태']=='완료']\n",
    "print(stateEnd_jisu.shape[0])\n",
    "\n",
    "stateEnd_jisu.shape[0]"
   ]
  },
  {
   "cell_type": "code",
   "execution_count": null,
   "metadata": {},
   "outputs": [],
   "source": [
    "#stateEnd_jisu['신청일시']=='2017-04-11 11:48'\n",
    "stateEnd_data[stateEnd_data['date']=='2017-04-11 11:47']\n",
    "#stateEnd_data['date']==stateEnd_jisu['신청일시'][i] and stateEnd_data['consumer_id']==stateEnd_jisu['수용가번호'][i]"
   ]
  },
  {
   "cell_type": "code",
   "execution_count": null,
   "metadata": {},
   "outputs": [],
   "source": [
    "temp_data=stateEnd_data[stateEnd_data['date']==stateEnd_jisu['신청일시'][44]] \n",
    "print(temp_data)\n",
    "temp_data[temp_data['consumer_id']==stateEnd_jisu['수용가번호'][44]]"
   ]
  },
  {
   "cell_type": "code",
   "execution_count": null,
   "metadata": {},
   "outputs": [],
   "source": [
    "stateEnd_data['req_jisu']=''\n",
    "for i in stateEnd_jisu.index:\n",
    "    temp_data=stateEnd_data[stateEnd_data['date']==stateEnd_jisu['신청일시'][i]] \n",
    "    idx = temp_data[temp_data['consumer_id']==stateEnd_jisu['수용가번호'][i]].index\n",
    "    stateEnd_data['req_jisu'][idx]=stateEnd_jisu['check'][i]\n",
    "stateEnd_data.head()"
   ]
  },
  {
   "cell_type": "code",
   "execution_count": 21,
   "metadata": {},
   "outputs": [
    {
     "data": {
      "text/html": [
       "<div>\n",
       "<table border=\"1\" class=\"dataframe\">\n",
       "  <thead>\n",
       "    <tr style=\"text-align: right;\">\n",
       "      <th></th>\n",
       "      <th>신청일시</th>\n",
       "      <th>중분류</th>\n",
       "      <th>수용가번호</th>\n",
       "      <th>상태</th>\n",
       "      <th>민원내용</th>\n",
       "      <th>check</th>\n",
       "    </tr>\n",
       "  </thead>\n",
       "  <tbody>\n",
       "    <tr>\n",
       "      <th>0</th>\n",
       "      <td>2012-05-04 11:13</td>\n",
       "      <td>동파</td>\n",
       "      <td>41480-11-03325</td>\n",
       "      <td>완료</td>\n",
       "      <td>계량기 동파되었다함 / 연락후 방문요청</td>\n",
       "      <td>0.0</td>\n",
       "    </tr>\n",
       "    <tr>\n",
       "      <th>1</th>\n",
       "      <td>2012-05-04 09:05</td>\n",
       "      <td>동파</td>\n",
       "      <td>41480-09-04091</td>\n",
       "      <td>완료</td>\n",
       "      <td>계량기 동파되었다함</td>\n",
       "      <td>0.0</td>\n",
       "    </tr>\n",
       "    <tr>\n",
       "      <th>2</th>\n",
       "      <td>2012-05-03 15:48</td>\n",
       "      <td>동파</td>\n",
       "      <td>NaN</td>\n",
       "      <td>완료</td>\n",
       "      <td>위 민원인연락처이며,  파주시청 동파신고 (  신규준공 다음날 나오는가옥으로 먼저 ...</td>\n",
       "      <td>0.0</td>\n",
       "    </tr>\n",
       "    <tr>\n",
       "      <th>3</th>\n",
       "      <td>2012-05-03 14:40</td>\n",
       "      <td>동파</td>\n",
       "      <td>41480-09-06938</td>\n",
       "      <td>완료</td>\n",
       "      <td>동파</td>\n",
       "      <td>0.0</td>\n",
       "    </tr>\n",
       "    <tr>\n",
       "      <th>4</th>\n",
       "      <td>2012-05-03 14:38</td>\n",
       "      <td>동파</td>\n",
       "      <td>41480-09-06937</td>\n",
       "      <td>완료</td>\n",
       "      <td>동파교체</td>\n",
       "      <td>0.0</td>\n",
       "    </tr>\n",
       "  </tbody>\n",
       "</table>\n",
       "</div>"
      ],
      "text/plain": [
       "               신청일시 중분류           수용가번호  상태  \\\n",
       "0  2012-05-04 11:13  동파  41480-11-03325  완료   \n",
       "1  2012-05-04 09:05  동파  41480-09-04091  완료   \n",
       "2  2012-05-03 15:48  동파             NaN  완료   \n",
       "3  2012-05-03 14:40  동파  41480-09-06938  완료   \n",
       "4  2012-05-03 14:38  동파  41480-09-06937  완료   \n",
       "\n",
       "                                                민원내용  check  \n",
       "0                             계량기 동파되었다함 / 연락후 방문요청     0.0  \n",
       "1                                        계량기 동파되었다함     0.0  \n",
       "2  위 민원인연락처이며,  파주시청 동파신고 (  신규준공 다음날 나오는가옥으로 먼저 ...    0.0  \n",
       "3                                                 동파    0.0  \n",
       "4                                               동파교체    0.0  "
      ]
     },
     "execution_count": 21,
     "metadata": {},
     "output_type": "execute_result"
    }
   ],
   "source": [
    "minwon_jiw = pd.read_excel(r'C:\\Users\\jhee\\Documents\\StudyFolder\\Project_DongpaBangjiP\\request_jiw.xlsx')\n",
    "minwon_jiw.head()"
   ]
  },
  {
   "cell_type": "code",
   "execution_count": 22,
   "metadata": {},
   "outputs": [
    {
     "data": {
      "text/plain": [
       "1114"
      ]
     },
     "execution_count": 22,
     "metadata": {},
     "output_type": "execute_result"
    }
   ],
   "source": [
    "minwon_jiw.shape[0]"
   ]
  },
  {
   "cell_type": "code",
   "execution_count": null,
   "metadata": {},
   "outputs": [],
   "source": [
    "stateEnd_data['req_jiw']=''\n",
    "for i in minwon_jiw.index:\n",
    "    temp_data=stateEnd_data[stateEnd_data['date']==minwon_jiw['신청일시'][i]] \n",
    "    idx = temp_data[temp_data['consumer_id']==minwon_jiw['수용가번호'][i]].index\n",
    "    stateEnd_data['req_jisu'][idx]=minwon_jiw['check'][i]\n",
    "stateEnd_data.head()"
   ]
  },
  {
   "cell_type": "code",
   "execution_count": 24,
   "metadata": {
    "collapsed": true
   },
   "outputs": [],
   "source": [
    "writer = pd.ExcelWriter('output.xlsx')\n",
    "stateEnd_data.to_excel(writer,'Sheet2')\n",
    "writer.save()"
   ]
  },
  {
   "cell_type": "code",
   "execution_count": 70,
   "metadata": {},
   "outputs": [
    {
     "data": {
      "text/html": [
       "<div>\n",
       "<table border=\"1\" class=\"dataframe\">\n",
       "  <thead>\n",
       "    <tr style=\"text-align: right;\">\n",
       "      <th></th>\n",
       "      <th>content</th>\n",
       "      <th>count</th>\n",
       "      <th>per</th>\n",
       "      <th>Unnamed: 3</th>\n",
       "    </tr>\n",
       "  </thead>\n",
       "  <tbody>\n",
       "    <tr>\n",
       "      <th>1</th>\n",
       "      <td>동파</td>\n",
       "      <td>368</td>\n",
       "      <td>0.061870</td>\n",
       "      <td>1950.0</td>\n",
       "    </tr>\n",
       "    <tr>\n",
       "      <th>2</th>\n",
       "      <td>계량기 동파</td>\n",
       "      <td>216</td>\n",
       "      <td>0.036315</td>\n",
       "      <td>493.0</td>\n",
       "    </tr>\n",
       "    <tr>\n",
       "      <th>3</th>\n",
       "      <td>교체요청</td>\n",
       "      <td>115</td>\n",
       "      <td>0.019334</td>\n",
       "      <td>NaN</td>\n",
       "    </tr>\n",
       "    <tr>\n",
       "      <th>4</th>\n",
       "      <td>계량기동파신고</td>\n",
       "      <td>108</td>\n",
       "      <td>0.018157</td>\n",
       "      <td>NaN</td>\n",
       "    </tr>\n",
       "    <tr>\n",
       "      <th>5</th>\n",
       "      <td>계량기동파</td>\n",
       "      <td>48</td>\n",
       "      <td>0.008070</td>\n",
       "      <td>NaN</td>\n",
       "    </tr>\n",
       "  </tbody>\n",
       "</table>\n",
       "</div>"
      ],
      "text/plain": [
       "   content  count       per  Unnamed: 3\n",
       "1       동파    368  0.061870      1950.0\n",
       "2   계량기 동파    216  0.036315       493.0\n",
       "3     교체요청    115  0.019334         NaN\n",
       "4  계량기동파신고    108  0.018157         NaN\n",
       "5    계량기동파     48  0.008070         NaN"
      ]
     },
     "execution_count": 70,
     "metadata": {},
     "output_type": "execute_result"
    }
   ],
   "source": [
    "dongpa = pd.read_excel(r'C:\\Users\\jhee\\Documents\\StudyFolder\\Project_DongpaBangjiP\\export_not_yellow.xlsx')\n",
    "dongpa.head()"
   ]
  },
  {
   "cell_type": "code",
   "execution_count": 72,
   "metadata": {},
   "outputs": [
    {
     "name": "stdout",
     "output_type": "stream",
     "text": [
      "1457\n",
      "1952\n"
     ]
    }
   ],
   "source": [
    "#print(dongpa['content'])\n",
    "# print(stateEnd_data['content']=='동파')\n",
    "# print(stateEnd_data['content'][17])\n",
    "# a = dongpa['content'].tolist()\n",
    "\n",
    "# if stateEnd_data['content'][17] in a:\n",
    "#     print('----')\n",
    "s = 0\n",
    "for i in stateEnd_data.index:\n",
    "    if stateEnd_data['content'][i] in dongpa['content'].tolist():\n",
    "        s+=1\n",
    "print(s)\n",
    "print(sum(dongpa['count']))"
   ]
  },
  {
   "cell_type": "code",
   "execution_count": null,
   "metadata": {
    "collapsed": true
   },
   "outputs": [],
   "source": [
    "stateEnd_data['notYellow'] = ''\n"
   ]
  }
 ],
 "metadata": {
  "kernelspec": {
   "display_name": "Python 3",
   "language": "python",
   "name": "python3"
  },
  "language_info": {
   "codemirror_mode": {
    "name": "ipython",
    "version": 3
   },
   "file_extension": ".py",
   "mimetype": "text/x-python",
   "name": "python",
   "nbconvert_exporter": "python",
   "pygments_lexer": "ipython3",
   "version": "3.5.2"
  }
 },
 "nbformat": 4,
 "nbformat_minor": 2
}
