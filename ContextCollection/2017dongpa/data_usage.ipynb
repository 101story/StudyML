{
 "cells": [
  {
   "cell_type": "code",
   "execution_count": 1,
   "metadata": {
    "collapsed": true
   },
   "outputs": [],
   "source": [
    "import pandas as pd\n",
    "import numpy as np"
   ]
  },
  {
   "cell_type": "code",
   "execution_count": 2,
   "metadata": {
    "collapsed": true
   },
   "outputs": [],
   "source": [
    "usage_2010 = pd.read_excel(r'current_data\\usage\\usage_2010.xls', index_col='consumer_id')\n",
    "# usage_2010.head(3)"
   ]
  },
  {
   "cell_type": "code",
   "execution_count": 3,
   "metadata": {
    "collapsed": true
   },
   "outputs": [],
   "source": [
    "usage_2011 = pd.read_excel(r'current_data\\usage\\usage_2011.xls', index_col='consumer_id')\n",
    "# usage_2011.head(3)"
   ]
  },
  {
   "cell_type": "code",
   "execution_count": 4,
   "metadata": {
    "collapsed": true
   },
   "outputs": [],
   "source": [
    "usage_2012_1 = pd.read_excel(r'current_data\\usage\\usage_2012_1.xls', index_col='consumer_id')\n",
    "# usage_2012_1.head(3)"
   ]
  },
  {
   "cell_type": "code",
   "execution_count": 5,
   "metadata": {
    "collapsed": true
   },
   "outputs": [],
   "source": [
    "usage_2012_2 = pd.read_excel(r'current_data\\usage\\usage_2012_2.xls', index_col='consumer_id')\n",
    "# usage_2012_2.head(3)"
   ]
  },
  {
   "cell_type": "code",
   "execution_count": 6,
   "metadata": {
    "collapsed": true
   },
   "outputs": [],
   "source": [
    "usage_2013_1 = pd.read_excel(r'current_data\\usage\\usage_2013_1.xls', index_col='consumer_id')\n",
    "#usage_2013_1.head(3)"
   ]
  },
  {
   "cell_type": "code",
   "execution_count": 7,
   "metadata": {
    "collapsed": true
   },
   "outputs": [],
   "source": [
    "usage_2013_2 = pd.read_excel(r'current_data\\usage\\usage_2013_2.xls', index_col='consumer_id')\n",
    "#usage_2013_2.head(3)"
   ]
  },
  {
   "cell_type": "code",
   "execution_count": 8,
   "metadata": {
    "collapsed": true
   },
   "outputs": [],
   "source": [
    "usage_2014_1 = pd.read_excel(r'current_data\\usage\\usage_2014_1.xls', index_col='consumer_id')\n",
    "usage_2014_1.columns = ['2014-01', '2014-02', '2014-03','2014-04','2014-05','2014-06']\n",
    "#usage_2014_1.head(3)"
   ]
  },
  {
   "cell_type": "code",
   "execution_count": 9,
   "metadata": {
    "collapsed": true
   },
   "outputs": [],
   "source": [
    "usage_2014_2 = pd.read_excel(r'current_data\\usage\\usage_2014_2.xls', index_col='consumer_id')\n",
    "#usage_2014_2.head(3)"
   ]
  },
  {
   "cell_type": "code",
   "execution_count": 10,
   "metadata": {
    "collapsed": true
   },
   "outputs": [],
   "source": [
    "usage_2015_1 = pd.read_excel(r'current_data\\usage\\usage_2015_1.xls', index_col='consumer_id')\n",
    "#usage_2015_1.head(3)"
   ]
  },
  {
   "cell_type": "code",
   "execution_count": 11,
   "metadata": {
    "collapsed": true
   },
   "outputs": [],
   "source": [
    "usage_2015_2 = pd.read_excel(r'current_data\\usage\\usage_2015_2.xls', index_col='consumer_id')\n",
    "#usage_2012_2.head(3)"
   ]
  },
  {
   "cell_type": "code",
   "execution_count": 12,
   "metadata": {
    "collapsed": true
   },
   "outputs": [],
   "source": [
    "usage_2016_1 = pd.read_excel(r'current_data\\usage\\usage_2016_1.xls', index_col='consumer_id')\n",
    "#usage_2016_1.head(3)"
   ]
  },
  {
   "cell_type": "code",
   "execution_count": 13,
   "metadata": {
    "collapsed": true
   },
   "outputs": [],
   "source": [
    "usage_2016_2 = pd.read_excel(r'current_data\\usage\\usage_2016_2.xls', index_col='consumer_id')\n",
    "#usage_2016_2.head(3)"
   ]
  },
  {
   "cell_type": "code",
   "execution_count": null,
   "metadata": {
    "scrolled": true
   },
   "outputs": [],
   "source": [
    "usage_sum = pd.concat([usage_2010, usage_2011, usage_2012_1, usage_2012_2, usage_2013_1, usage_2013_2, usage_2014_1,usage_2014_2,\n",
    "                      usage_2015_1,usage_2015_2, usage_2016_1, usage_2016_2], axis=1)\n",
    "print(usage_sum.shape)\n",
    "usage_sum.head(3)"
   ]
  },
  {
   "cell_type": "code",
   "execution_count": 74,
   "metadata": {
    "scrolled": true
   },
   "outputs": [
    {
     "data": {
      "text/plain": [
       "1245246"
      ]
     },
     "execution_count": 74,
     "metadata": {},
     "output_type": "execute_result"
    }
   ],
   "source": [
    "# null 값 수 \n",
    "usage_sum.isnull().sum().sum()"
   ]
  },
  {
   "cell_type": "code",
   "execution_count": 75,
   "metadata": {
    "scrolled": true
   },
   "outputs": [
    {
     "data": {
      "text/plain": [
       "3215070"
      ]
     },
     "execution_count": 75,
     "metadata": {},
     "output_type": "execute_result"
    }
   ],
   "source": [
    "# null 이 아닌 수 \n",
    "usage_sum.notnull().sum().sum()"
   ]
  },
  {
   "cell_type": "code",
   "execution_count": 84,
   "metadata": {
    "scrolled": true
   },
   "outputs": [
    {
     "data": {
      "text/html": [
       "<div>\n",
       "<style>\n",
       "    .dataframe thead tr:only-child th {\n",
       "        text-align: right;\n",
       "    }\n",
       "\n",
       "    .dataframe thead th {\n",
       "        text-align: left;\n",
       "    }\n",
       "\n",
       "    .dataframe tbody tr th {\n",
       "        vertical-align: top;\n",
       "    }\n",
       "</style>\n",
       "<table border=\"1\" class=\"dataframe\">\n",
       "  <thead>\n",
       "    <tr style=\"text-align: right;\">\n",
       "      <th></th>\n",
       "      <th>2010-01</th>\n",
       "      <th>2010-02</th>\n",
       "      <th>2010-03</th>\n",
       "      <th>2010-04</th>\n",
       "      <th>2010-05</th>\n",
       "      <th>2010-06</th>\n",
       "      <th>2010-07</th>\n",
       "      <th>2010-08</th>\n",
       "      <th>2010-09</th>\n",
       "      <th>2010-10</th>\n",
       "      <th>...</th>\n",
       "      <th>2016-03</th>\n",
       "      <th>2016-04</th>\n",
       "      <th>2016-05</th>\n",
       "      <th>2016-06</th>\n",
       "      <th>2016-07</th>\n",
       "      <th>2016-08</th>\n",
       "      <th>2016-09</th>\n",
       "      <th>2016-10</th>\n",
       "      <th>2016-11</th>\n",
       "      <th>2016-12</th>\n",
       "    </tr>\n",
       "  </thead>\n",
       "  <tbody>\n",
       "    <tr>\n",
       "      <th>count</th>\n",
       "      <td>30806.000000</td>\n",
       "      <td>30851.000000</td>\n",
       "      <td>31084.000000</td>\n",
       "      <td>31174.000000</td>\n",
       "      <td>31323.000000</td>\n",
       "      <td>31528.000000</td>\n",
       "      <td>31755.000000</td>\n",
       "      <td>32232.000000</td>\n",
       "      <td>32416.000000</td>\n",
       "      <td>32702.000000</td>\n",
       "      <td>...</td>\n",
       "      <td>42740.000000</td>\n",
       "      <td>43218.000000</td>\n",
       "      <td>43561.000000</td>\n",
       "      <td>43907.000000</td>\n",
       "      <td>49929.000000</td>\n",
       "      <td>50247.000000</td>\n",
       "      <td>50930.000000</td>\n",
       "      <td>51350.000000</td>\n",
       "      <td>51792.000000</td>\n",
       "      <td>52067.000000</td>\n",
       "    </tr>\n",
       "    <tr>\n",
       "      <th>mean</th>\n",
       "      <td>99.585990</td>\n",
       "      <td>94.677677</td>\n",
       "      <td>84.721175</td>\n",
       "      <td>92.319529</td>\n",
       "      <td>93.116272</td>\n",
       "      <td>99.123985</td>\n",
       "      <td>105.072556</td>\n",
       "      <td>104.626675</td>\n",
       "      <td>101.308860</td>\n",
       "      <td>96.701058</td>\n",
       "      <td>...</td>\n",
       "      <td>77.252995</td>\n",
       "      <td>83.655398</td>\n",
       "      <td>80.282707</td>\n",
       "      <td>85.897169</td>\n",
       "      <td>87.451020</td>\n",
       "      <td>90.593468</td>\n",
       "      <td>90.809974</td>\n",
       "      <td>82.464985</td>\n",
       "      <td>82.828236</td>\n",
       "      <td>80.121401</td>\n",
       "    </tr>\n",
       "    <tr>\n",
       "      <th>std</th>\n",
       "      <td>1031.729675</td>\n",
       "      <td>986.317515</td>\n",
       "      <td>920.430356</td>\n",
       "      <td>1015.395821</td>\n",
       "      <td>1021.912124</td>\n",
       "      <td>1119.293677</td>\n",
       "      <td>1223.866617</td>\n",
       "      <td>1285.380837</td>\n",
       "      <td>1131.584232</td>\n",
       "      <td>1046.106273</td>\n",
       "      <td>...</td>\n",
       "      <td>849.678286</td>\n",
       "      <td>878.852203</td>\n",
       "      <td>889.631366</td>\n",
       "      <td>908.093487</td>\n",
       "      <td>950.794043</td>\n",
       "      <td>1019.324734</td>\n",
       "      <td>970.314289</td>\n",
       "      <td>936.665269</td>\n",
       "      <td>919.625633</td>\n",
       "      <td>936.760525</td>\n",
       "    </tr>\n",
       "    <tr>\n",
       "      <th>min</th>\n",
       "      <td>0.000000</td>\n",
       "      <td>0.000000</td>\n",
       "      <td>0.000000</td>\n",
       "      <td>0.000000</td>\n",
       "      <td>0.000000</td>\n",
       "      <td>0.000000</td>\n",
       "      <td>0.000000</td>\n",
       "      <td>0.000000</td>\n",
       "      <td>0.000000</td>\n",
       "      <td>0.000000</td>\n",
       "      <td>...</td>\n",
       "      <td>0.000000</td>\n",
       "      <td>0.000000</td>\n",
       "      <td>0.000000</td>\n",
       "      <td>0.000000</td>\n",
       "      <td>0.000000</td>\n",
       "      <td>0.000000</td>\n",
       "      <td>0.000000</td>\n",
       "      <td>0.000000</td>\n",
       "      <td>0.000000</td>\n",
       "      <td>0.000000</td>\n",
       "    </tr>\n",
       "    <tr>\n",
       "      <th>25%</th>\n",
       "      <td>6.000000</td>\n",
       "      <td>5.000000</td>\n",
       "      <td>4.000000</td>\n",
       "      <td>5.000000</td>\n",
       "      <td>5.000000</td>\n",
       "      <td>6.000000</td>\n",
       "      <td>6.000000</td>\n",
       "      <td>6.000000</td>\n",
       "      <td>6.000000</td>\n",
       "      <td>5.000000</td>\n",
       "      <td>...</td>\n",
       "      <td>4.000000</td>\n",
       "      <td>5.000000</td>\n",
       "      <td>5.000000</td>\n",
       "      <td>6.000000</td>\n",
       "      <td>6.000000</td>\n",
       "      <td>6.000000</td>\n",
       "      <td>7.000000</td>\n",
       "      <td>5.000000</td>\n",
       "      <td>5.000000</td>\n",
       "      <td>5.000000</td>\n",
       "    </tr>\n",
       "    <tr>\n",
       "      <th>50%</th>\n",
       "      <td>18.000000</td>\n",
       "      <td>17.000000</td>\n",
       "      <td>14.000000</td>\n",
       "      <td>15.000000</td>\n",
       "      <td>16.000000</td>\n",
       "      <td>18.000000</td>\n",
       "      <td>19.000000</td>\n",
       "      <td>19.000000</td>\n",
       "      <td>18.000000</td>\n",
       "      <td>18.000000</td>\n",
       "      <td>...</td>\n",
       "      <td>13.000000</td>\n",
       "      <td>15.000000</td>\n",
       "      <td>15.000000</td>\n",
       "      <td>17.000000</td>\n",
       "      <td>17.000000</td>\n",
       "      <td>18.000000</td>\n",
       "      <td>19.000000</td>\n",
       "      <td>15.000000</td>\n",
       "      <td>16.000000</td>\n",
       "      <td>14.000000</td>\n",
       "    </tr>\n",
       "    <tr>\n",
       "      <th>75%</th>\n",
       "      <td>38.000000</td>\n",
       "      <td>36.000000</td>\n",
       "      <td>30.000000</td>\n",
       "      <td>32.000000</td>\n",
       "      <td>33.000000</td>\n",
       "      <td>36.000000</td>\n",
       "      <td>38.000000</td>\n",
       "      <td>37.000000</td>\n",
       "      <td>37.000000</td>\n",
       "      <td>36.000000</td>\n",
       "      <td>...</td>\n",
       "      <td>27.000000</td>\n",
       "      <td>31.000000</td>\n",
       "      <td>30.000000</td>\n",
       "      <td>34.000000</td>\n",
       "      <td>33.000000</td>\n",
       "      <td>35.000000</td>\n",
       "      <td>36.000000</td>\n",
       "      <td>30.000000</td>\n",
       "      <td>32.000000</td>\n",
       "      <td>29.000000</td>\n",
       "    </tr>\n",
       "    <tr>\n",
       "      <th>max</th>\n",
       "      <td>58955.000000</td>\n",
       "      <td>55278.000000</td>\n",
       "      <td>52366.000000</td>\n",
       "      <td>59329.000000</td>\n",
       "      <td>60556.000000</td>\n",
       "      <td>66595.000000</td>\n",
       "      <td>90604.000000</td>\n",
       "      <td>107081.000000</td>\n",
       "      <td>73600.000000</td>\n",
       "      <td>64164.000000</td>\n",
       "      <td>...</td>\n",
       "      <td>45543.000000</td>\n",
       "      <td>45114.000000</td>\n",
       "      <td>49437.000000</td>\n",
       "      <td>48483.000000</td>\n",
       "      <td>60845.000000</td>\n",
       "      <td>71297.000000</td>\n",
       "      <td>67183.000000</td>\n",
       "      <td>69768.000000</td>\n",
       "      <td>66233.000000</td>\n",
       "      <td>71324.000000</td>\n",
       "    </tr>\n",
       "  </tbody>\n",
       "</table>\n",
       "<p>8 rows × 84 columns</p>\n",
       "</div>"
      ],
      "text/plain": [
       "            2010-01       2010-02       2010-03       2010-04       2010-05  \\\n",
       "count  30806.000000  30851.000000  31084.000000  31174.000000  31323.000000   \n",
       "mean      99.585990     94.677677     84.721175     92.319529     93.116272   \n",
       "std     1031.729675    986.317515    920.430356   1015.395821   1021.912124   \n",
       "min        0.000000      0.000000      0.000000      0.000000      0.000000   \n",
       "25%        6.000000      5.000000      4.000000      5.000000      5.000000   \n",
       "50%       18.000000     17.000000     14.000000     15.000000     16.000000   \n",
       "75%       38.000000     36.000000     30.000000     32.000000     33.000000   \n",
       "max    58955.000000  55278.000000  52366.000000  59329.000000  60556.000000   \n",
       "\n",
       "            2010-06       2010-07        2010-08       2010-09       2010-10  \\\n",
       "count  31528.000000  31755.000000   32232.000000  32416.000000  32702.000000   \n",
       "mean      99.123985    105.072556     104.626675    101.308860     96.701058   \n",
       "std     1119.293677   1223.866617    1285.380837   1131.584232   1046.106273   \n",
       "min        0.000000      0.000000       0.000000      0.000000      0.000000   \n",
       "25%        6.000000      6.000000       6.000000      6.000000      5.000000   \n",
       "50%       18.000000     19.000000      19.000000     18.000000     18.000000   \n",
       "75%       36.000000     38.000000      37.000000     37.000000     36.000000   \n",
       "max    66595.000000  90604.000000  107081.000000  73600.000000  64164.000000   \n",
       "\n",
       "           ...            2016-03       2016-04       2016-05       2016-06  \\\n",
       "count      ...       42740.000000  43218.000000  43561.000000  43907.000000   \n",
       "mean       ...          77.252995     83.655398     80.282707     85.897169   \n",
       "std        ...         849.678286    878.852203    889.631366    908.093487   \n",
       "min        ...           0.000000      0.000000      0.000000      0.000000   \n",
       "25%        ...           4.000000      5.000000      5.000000      6.000000   \n",
       "50%        ...          13.000000     15.000000     15.000000     17.000000   \n",
       "75%        ...          27.000000     31.000000     30.000000     34.000000   \n",
       "max        ...       45543.000000  45114.000000  49437.000000  48483.000000   \n",
       "\n",
       "            2016-07       2016-08       2016-09       2016-10       2016-11  \\\n",
       "count  49929.000000  50247.000000  50930.000000  51350.000000  51792.000000   \n",
       "mean      87.451020     90.593468     90.809974     82.464985     82.828236   \n",
       "std      950.794043   1019.324734    970.314289    936.665269    919.625633   \n",
       "min        0.000000      0.000000      0.000000      0.000000      0.000000   \n",
       "25%        6.000000      6.000000      7.000000      5.000000      5.000000   \n",
       "50%       17.000000     18.000000     19.000000     15.000000     16.000000   \n",
       "75%       33.000000     35.000000     36.000000     30.000000     32.000000   \n",
       "max    60845.000000  71297.000000  67183.000000  69768.000000  66233.000000   \n",
       "\n",
       "            2016-12  \n",
       "count  52067.000000  \n",
       "mean      80.121401  \n",
       "std      936.760525  \n",
       "min        0.000000  \n",
       "25%        5.000000  \n",
       "50%       14.000000  \n",
       "75%       29.000000  \n",
       "max    71324.000000  \n",
       "\n",
       "[8 rows x 84 columns]"
      ]
     },
     "execution_count": 84,
     "metadata": {},
     "output_type": "execute_result"
    }
   ],
   "source": [
    "# 매달에 대한 describe \n",
    "usage_sum.describe()"
   ]
  },
  {
   "cell_type": "code",
   "execution_count": 85,
   "metadata": {
    "collapsed": true
   },
   "outputs": [],
   "source": [
    "# 사용자에 대한 describe\n",
    "user_desc = usage_sum.apply(pd.Series.describe, axis=1)"
   ]
  },
  {
   "cell_type": "code",
   "execution_count": 86,
   "metadata": {},
   "outputs": [
    {
     "data": {
      "text/html": [
       "<div>\n",
       "<style>\n",
       "    .dataframe thead tr:only-child th {\n",
       "        text-align: right;\n",
       "    }\n",
       "\n",
       "    .dataframe thead th {\n",
       "        text-align: left;\n",
       "    }\n",
       "\n",
       "    .dataframe tbody tr th {\n",
       "        vertical-align: top;\n",
       "    }\n",
       "</style>\n",
       "<table border=\"1\" class=\"dataframe\">\n",
       "  <thead>\n",
       "    <tr style=\"text-align: right;\">\n",
       "      <th></th>\n",
       "      <th>count</th>\n",
       "      <th>mean</th>\n",
       "      <th>std</th>\n",
       "      <th>min</th>\n",
       "      <th>25%</th>\n",
       "      <th>50%</th>\n",
       "      <th>75%</th>\n",
       "      <th>max</th>\n",
       "    </tr>\n",
       "  </thead>\n",
       "  <tbody>\n",
       "    <tr>\n",
       "      <th>41480-09-00001</th>\n",
       "      <td>84.0</td>\n",
       "      <td>296.095238</td>\n",
       "      <td>58.423180</td>\n",
       "      <td>161.0</td>\n",
       "      <td>254.75</td>\n",
       "      <td>302.0</td>\n",
       "      <td>331.0</td>\n",
       "      <td>478.0</td>\n",
       "    </tr>\n",
       "    <tr>\n",
       "      <th>41480-09-00002</th>\n",
       "      <td>83.0</td>\n",
       "      <td>0.000000</td>\n",
       "      <td>0.000000</td>\n",
       "      <td>0.0</td>\n",
       "      <td>0.00</td>\n",
       "      <td>0.0</td>\n",
       "      <td>0.0</td>\n",
       "      <td>0.0</td>\n",
       "    </tr>\n",
       "    <tr>\n",
       "      <th>41480-09-00003</th>\n",
       "      <td>84.0</td>\n",
       "      <td>391.309524</td>\n",
       "      <td>165.232365</td>\n",
       "      <td>10.0</td>\n",
       "      <td>252.75</td>\n",
       "      <td>480.0</td>\n",
       "      <td>530.5</td>\n",
       "      <td>636.0</td>\n",
       "    </tr>\n",
       "  </tbody>\n",
       "</table>\n",
       "</div>"
      ],
      "text/plain": [
       "                count        mean         std    min     25%    50%    75%  \\\n",
       "41480-09-00001   84.0  296.095238   58.423180  161.0  254.75  302.0  331.0   \n",
       "41480-09-00002   83.0    0.000000    0.000000    0.0    0.00    0.0    0.0   \n",
       "41480-09-00003   84.0  391.309524  165.232365   10.0  252.75  480.0  530.5   \n",
       "\n",
       "                  max  \n",
       "41480-09-00001  478.0  \n",
       "41480-09-00002    0.0  \n",
       "41480-09-00003  636.0  "
      ]
     },
     "execution_count": 86,
     "metadata": {},
     "output_type": "execute_result"
    }
   ],
   "source": [
    "user_desc.head(3)"
   ]
  },
  {
   "cell_type": "code",
   "execution_count": 87,
   "metadata": {},
   "outputs": [
    {
     "data": {
      "text/plain": [
       "84.54516151513553"
      ]
     },
     "execution_count": 87,
     "metadata": {},
     "output_type": "execute_result"
    }
   ],
   "source": [
    "user_desc['mean'].mean()"
   ]
  },
  {
   "cell_type": "code",
   "execution_count": 16,
   "metadata": {
    "scrolled": true
   },
   "outputs": [
    {
     "ename": "NameError",
     "evalue": "name 'user_desc' is not defined",
     "output_type": "error",
     "traceback": [
      "\u001b[1;31m---------------------------------------------------------------------------\u001b[0m",
      "\u001b[1;31mNameError\u001b[0m                                 Traceback (most recent call last)",
      "\u001b[1;32m<ipython-input-16-f74f6cc8b0ab>\u001b[0m in \u001b[0;36m<module>\u001b[1;34m()\u001b[0m\n\u001b[0;32m      1\u001b[0m \u001b[1;31m# 매달 기록 되지 않은 집\u001b[0m\u001b[1;33m\u001b[0m\u001b[1;33m\u001b[0m\u001b[0m\n\u001b[1;32m----> 2\u001b[1;33m \u001b[0mprint\u001b[0m\u001b[1;33m(\u001b[0m\u001b[0muser_desc\u001b[0m\u001b[1;33m.\u001b[0m\u001b[0mcolumns\u001b[0m\u001b[1;33m)\u001b[0m\u001b[1;33m\u001b[0m\u001b[0m\n\u001b[0m\u001b[0;32m      3\u001b[0m \u001b[0ma\u001b[0m \u001b[1;33m=\u001b[0m \u001b[0muser_desc\u001b[0m\u001b[1;33m[\u001b[0m\u001b[0muser_desc\u001b[0m\u001b[1;33m[\u001b[0m\u001b[1;34m'count'\u001b[0m\u001b[1;33m]\u001b[0m\u001b[1;33m.\u001b[0m\u001b[0mne\u001b[0m\u001b[1;33m(\u001b[0m\u001b[1;36m84.0\u001b[0m\u001b[1;33m)\u001b[0m\u001b[1;33m]\u001b[0m\u001b[1;33m\u001b[0m\u001b[0m\n\u001b[0;32m      4\u001b[0m \u001b[0ma\u001b[0m\u001b[1;33m.\u001b[0m\u001b[0mloc\u001b[0m\u001b[1;33m[\u001b[0m\u001b[1;33m:\u001b[0m\u001b[1;33m,\u001b[0m\u001b[1;34m'count'\u001b[0m\u001b[1;33m]\u001b[0m\u001b[1;33m.\u001b[0m\u001b[0mdescribe\u001b[0m\u001b[1;33m(\u001b[0m\u001b[1;33m)\u001b[0m\u001b[1;33m\u001b[0m\u001b[0m\n",
      "\u001b[1;31mNameError\u001b[0m: name 'user_desc' is not defined"
     ]
    }
   ],
   "source": [
    "# 매달 기록 되지 않은 집 \n",
    "print(user_desc.columns)\n",
    "a = user_desc[user_desc['count'].nuser_usaged.to_csv('user_usaged.cvs',header=True)e(84.0)]\n",
    "a.loc[:,'count'].describe()"
   ]
  },
  {
   "cell_type": "code",
   "execution_count": 88,
   "metadata": {
    "collapsed": true
   },
   "outputs": [],
   "source": [
    "user_desc.to_csv('user_desc.csv',header=True)"
   ]
  },
  {
   "cell_type": "code",
   "execution_count": 22,
   "metadata": {},
   "outputs": [
    {
     "name": "stdout",
     "output_type": "stream",
     "text": [
      "총 가정 수 :  53099\n",
      "사용량이 0 가정 수 :  2345\n"
     ]
    }
   ],
   "source": [
    "# 사용량이 0 인 집 수\n",
    "a = user_desc[user_desc['mean']==0.000000]\n",
    "#print(len(user_desc))\n",
    "print(\"총 가정 수 : \",len(usage_sum))\n",
    "print(\"사용량이 0 가정 수 : \", len(a))"
   ]
  },
  {
   "cell_type": "code",
   "execution_count": 23,
   "metadata": {
    "collapsed": true
   },
   "outputs": [],
   "source": [
    "# user_desc[user_desc['mean']>1.0].index\n",
    "user_usaged = usage_sum[user_desc['mean']>1.0]"
   ]
  },
  {
   "cell_type": "code",
   "execution_count": null,
   "metadata": {},
   "outputs": [],
   "source": [
    "print(len(usage_sum))\n",
    "print(len(user_usaged))\n",
    "user_usaged.describe()"
   ]
  },
  {
   "cell_type": "code",
   "execution_count": null,
   "metadata": {
    "scrolled": true
   },
   "outputs": [],
   "source": [
    "user_usaged.head()"
   ]
  },
  {
   "cell_type": "code",
   "execution_count": null,
   "metadata": {},
   "outputs": [],
   "source": [
    "# 평균 값을 채우기 \n",
    "#print(user_desc['mean'])\n",
    "user_usaged.fillna(user_desc['mean'])"
   ]
  },
  {
   "cell_type": "code",
   "execution_count": null,
   "metadata": {
    "scrolled": true
   },
   "outputs": [],
   "source": [
    "user_usagedT= np.transpose(user_usaged)\n",
    "# user_usagedT.head()\n",
    "user_usagedT = user_usagedT.fillna(user_desc['mean'])\n",
    "user_usagedT.head()"
   ]
  },
  {
   "cell_type": "code",
   "execution_count": 28,
   "metadata": {
    "collapsed": true
   },
   "outputs": [],
   "source": [
    "#writer = pd.wide_to_longriter('user_usagedT.xlsx')\n",
    "user_usaged = user_usaged.fillna(user_desc['mean'])\n",
    "user_usagedT.to_csv('user_usagedT.cvs',header=True)\n",
    "user_usaged.to_csv('user_usaged.cvs',header=True)"
   ]
  },
  {
   "cell_type": "code",
   "execution_count": 29,
   "metadata": {
    "collapsed": true
   },
   "outputs": [],
   "source": [
    "import matplotlib.pyplot as plt"
   ]
  },
  {
   "cell_type": "code",
   "execution_count": null,
   "metadata": {
    "scrolled": false
   },
   "outputs": [],
   "source": [
    "user_usagedT[user_usagedT.columns[0]]"
   ]
  },
  {
   "cell_type": "code",
   "execution_count": 1,
   "metadata": {
    "collapsed": true
   },
   "outputs": [],
   "source": [
    "# plt.scatter(user_usagedT, user_usagedT)\n",
    "# user_usagedT.plot()\n",
    "#plt.scatter(user_usagedT.index.values, user_usagedT[user_usagedT.columns[0]])\n",
    "# plt.plot(user_usagedT[1:2])`\n",
    "# user_usagedT.iloc [:2]"
   ]
  },
  {
   "cell_type": "code",
   "execution_count": null,
   "metadata": {
    "collapsed": true
   },
   "outputs": [],
   "source": [
    "plt.show()"
   ]
  },
  {
   "cell_type": "markdown",
   "metadata": {
    "collapsed": true
   },
   "source": [
    "## 평균채우기"
   ]
  },
  {
   "cell_type": "code",
   "execution_count": null,
   "metadata": {
    "scrolled": true
   },
   "outputs": [],
   "source": [
    "#request= pd.read_excel(r'current_data\\request\\request_info_allcheck.xlsx')\n",
    "request= pd.read_csv('request_utf.csv', sep='\\t')\n",
    "request.head(3)"
   ]
  },
  {
   "cell_type": "code",
   "execution_count": null,
   "metadata": {
    "scrolled": true
   },
   "outputs": [],
   "source": [
    "checked = request[request[\"check\"]==1].loc[:,[\"date\", \"consumer_id\", \"check\"]]\n",
    "checked.head(3)"
   ]
  },
  {
   "cell_type": "code",
   "execution_count": 28,
   "metadata": {},
   "outputs": [
    {
     "name": "stdout",
     "output_type": "stream",
     "text": [
      "<class 'pandas.core.frame.DataFrame'>\n",
      "Int64Index: 5219 entries, 0 to 5218\n",
      "Data columns (total 3 columns):\n",
      "date           5219 non-null object\n",
      "consumer_id    5219 non-null object\n",
      "check          5219 non-null int64\n",
      "dtypes: int64(1), object(2)\n",
      "memory usage: 163.1+ KB\n"
     ]
    }
   ],
   "source": [
    "checked.info()"
   ]
  },
  {
   "cell_type": "code",
   "execution_count": 29,
   "metadata": {},
   "outputs": [
    {
     "name": "stdout",
     "output_type": "stream",
     "text": [
      "2017 06\n"
     ]
    }
   ],
   "source": [
    "import datetime\n",
    "d = datetime.datetime.strptime(\"2017-06-08 15:24\", '%Y-%m-%d %H:%M')\n",
    "y = d.strftime('%Y')\n",
    "m = d.strftime('%m')\n",
    "print(y, m)"
   ]
  },
  {
   "cell_type": "code",
   "execution_count": 30,
   "metadata": {},
   "outputs": [
    {
     "data": {
      "text/plain": [
       "'2017'"
      ]
     },
     "execution_count": 30,
     "metadata": {},
     "output_type": "execute_result"
    }
   ],
   "source": [
    "\n",
    "def spliteDate(d):\n",
    "    dt = datetime.datetime.strptime(str(d), '%Y-%m-%d %H:%M:%S')\n",
    "    #if to=='year':\n",
    "    return dt.strftime('%Y')\n",
    "    #elif to=='month':\n",
    "    #   return dt.strftime('%m')\n",
    "        \n",
    "#int(spliteDate(\"2017-06-08 15:24\", 'month'))\n",
    "spliteDate(\"2017-06-08 15:24:00\")"
   ]
  },
  {
   "cell_type": "code",
   "execution_count": 31,
   "metadata": {},
   "outputs": [
    {
     "data": {
      "text/plain": [
       "pandas.core.series.Series"
      ]
     },
     "execution_count": 31,
     "metadata": {},
     "output_type": "execute_result"
    }
   ],
   "source": [
    "type(checked['date'])"
   ]
  },
  {
   "cell_type": "code",
   "execution_count": 32,
   "metadata": {},
   "outputs": [
    {
     "data": {
      "text/plain": [
       "'06'"
      ]
     },
     "execution_count": 32,
     "metadata": {},
     "output_type": "execute_result"
    }
   ],
   "source": [
    "d = \"2017-06-08 15:24:\"\n",
    "d[0:4]\n",
    "d[5:7]"
   ]
  },
  {
   "cell_type": "code",
   "execution_count": 33,
   "metadata": {
    "collapsed": true
   },
   "outputs": [],
   "source": [
    "checked['date'] = pd.to_datetime(checked['date'])"
   ]
  },
  {
   "cell_type": "code",
   "execution_count": 34,
   "metadata": {},
   "outputs": [
    {
     "data": {
      "text/plain": [
       "0   2017-06-08 15:24:00\n",
       "1   2017-06-05 09:17:00\n",
       "2   2017-05-25 12:15:00\n",
       "3   2017-05-23 16:21:00\n",
       "4   2017-05-23 15:17:00\n",
       "Name: date, dtype: datetime64[ns]"
      ]
     },
     "execution_count": 34,
     "metadata": {},
     "output_type": "execute_result"
    }
   ],
   "source": [
    "checked['date'].head()"
   ]
  },
  {
   "cell_type": "code",
   "execution_count": 35,
   "metadata": {
    "collapsed": true
   },
   "outputs": [],
   "source": [
    "checked['year']=checked['date'].dt.strftime('%Y')"
   ]
  },
  {
   "cell_type": "code",
   "execution_count": null,
   "metadata": {},
   "outputs": [],
   "source": [
    "checked['month']=checked['date'].dt.strftime('%m')\n",
    "checked['ym']= checked['year']+'-'+checked['month']\n",
    "checked.head(10)"
   ]
  },
  {
   "cell_type": "code",
   "execution_count": null,
   "metadata": {},
   "outputs": [],
   "source": [
    "usage_sum.head(10)"
   ]
  },
  {
   "cell_type": "code",
   "execution_count": 38,
   "metadata": {
    "collapsed": true
   },
   "outputs": [],
   "source": [
    "#usage_check = pd.merge(checked, usage_sum, left_on='consumer_id', right_index=True, how='left' )"
   ]
  },
  {
   "cell_type": "code",
   "execution_count": 39,
   "metadata": {
    "collapsed": true
   },
   "outputs": [],
   "source": [
    "# print(len(checked))\n",
    "# len(usage_check)"
   ]
  },
  {
   "cell_type": "code",
   "execution_count": 40,
   "metadata": {
    "collapsed": true
   },
   "outputs": [],
   "source": [
    "# usage_check.tail(10)"
   ]
  },
  {
   "cell_type": "code",
   "execution_count": 41,
   "metadata": {
    "collapsed": true
   },
   "outputs": [],
   "source": [
    "#fillmean = usage_sum.fillna(user_desc['mean'], inplace=True)"
   ]
  },
  {
   "cell_type": "code",
   "execution_count": 42,
   "metadata": {
    "collapsed": true
   },
   "outputs": [],
   "source": [
    "#len(usage_sum)"
   ]
  },
  {
   "cell_type": "code",
   "execution_count": 43,
   "metadata": {
    "collapsed": true,
    "scrolled": true
   },
   "outputs": [],
   "source": [
    "#usage_sum.head(10)"
   ]
  },
  {
   "cell_type": "code",
   "execution_count": null,
   "metadata": {},
   "outputs": [],
   "source": [
    "usage_sumT= np.transpose(usage_sum)\n",
    "usage_sumT.head(3)"
   ]
  },
  {
   "cell_type": "code",
   "execution_count": 45,
   "metadata": {
    "collapsed": true
   },
   "outputs": [],
   "source": [
    "fillmeanT = usage_sumT.fillna(usage_sumT.mean()) "
   ]
  },
  {
   "cell_type": "code",
   "execution_count": null,
   "metadata": {
    "scrolled": false
   },
   "outputs": [],
   "source": [
    "fillmeanT.isnull().sum()\n",
    "fillmeanT.head(3)"
   ]
  },
  {
   "cell_type": "code",
   "execution_count": null,
   "metadata": {},
   "outputs": [],
   "source": [
    "checked.head(3)"
   ]
  },
  {
   "cell_type": "code",
   "execution_count": null,
   "metadata": {},
   "outputs": [],
   "source": [
    "fillmean=np.transpose(fillmeanT)\n",
    "usage_check = pd.merge(checked, fillmean, left_on='consumer_id', right_index=True, how='left' )"
   ]
  },
  {
   "cell_type": "code",
   "execution_count": null,
   "metadata": {},
   "outputs": [],
   "source": [
    "usage_check.tail()"
   ]
  },
  {
   "cell_type": "code",
   "execution_count": 50,
   "metadata": {
    "collapsed": true
   },
   "outputs": [],
   "source": [
    "usage_check.to_csv('usage_check.csv',header=True)\n",
    "fillmean.to_csv('fillmean.csv',header=True)"
   ]
  },
  {
   "cell_type": "code",
   "execution_count": 51,
   "metadata": {},
   "outputs": [
    {
     "data": {
      "text/plain": [
       "(5219, 90)"
      ]
     },
     "execution_count": 51,
     "metadata": {},
     "output_type": "execute_result"
    }
   ],
   "source": [
    "usage_check.shape"
   ]
  },
  {
   "cell_type": "code",
   "execution_count": 52,
   "metadata": {},
   "outputs": [
    {
     "data": {
      "text/plain": [
       "(53099, 84)"
      ]
     },
     "execution_count": 52,
     "metadata": {},
     "output_type": "execute_result"
    }
   ],
   "source": [
    "fillmean.shape"
   ]
  },
  {
   "cell_type": "code",
   "execution_count": 53,
   "metadata": {},
   "outputs": [
    {
     "data": {
      "text/plain": [
       "'2016-05'"
      ]
     },
     "execution_count": 53,
     "metadata": {},
     "output_type": "execute_result"
    }
   ],
   "source": [
    "usage_check['ym'][300]"
   ]
  },
  {
   "cell_type": "code",
   "execution_count": 54,
   "metadata": {},
   "outputs": [
    {
     "name": "stdout",
     "output_type": "stream",
     "text": [
      "2011-02\n",
      "19\n"
     ]
    },
    {
     "data": {
      "text/plain": [
       "6.0"
      ]
     },
     "execution_count": 54,
     "metadata": {},
     "output_type": "execute_result"
    }
   ],
   "source": [
    "#for idx in usage_check.index:\n",
    "s = usage_check['ym'][3498]\n",
    "print(s)\n",
    "i = usage_check.columns.get_loc(str(s))\n",
    "#i = usage_check.columns.get_loc('2017-06')\n",
    "print(i)\n",
    "#usage_check['consumer_id'=='41480-09-10029'].iloc[:, i-6:i]\n",
    "#tm = usage_check[usage_check['consumer_id']=='41480-09-23924'].iloc[:, i-3:i]\n",
    "#tm = usage_check.iloc[:, i-3:i]\n",
    "tm = usage_check[usage_check.index==3498].iloc[:, i-3:i]\n",
    "a = tm.mean(axis=1)\n",
    "a[3498]"
   ]
  },
  {
   "cell_type": "code",
   "execution_count": 55,
   "metadata": {},
   "outputs": [
    {
     "data": {
      "text/html": [
       "<div>\n",
       "<style>\n",
       "    .dataframe thead tr:only-child th {\n",
       "        text-align: right;\n",
       "    }\n",
       "\n",
       "    .dataframe thead th {\n",
       "        text-align: left;\n",
       "    }\n",
       "\n",
       "    .dataframe tbody tr th {\n",
       "        vertical-align: top;\n",
       "    }\n",
       "</style>\n",
       "<table border=\"1\" class=\"dataframe\">\n",
       "  <thead>\n",
       "    <tr style=\"text-align: right;\">\n",
       "      <th></th>\n",
       "      <th>2010-11</th>\n",
       "      <th>2010-12</th>\n",
       "      <th>2011-01</th>\n",
       "    </tr>\n",
       "  </thead>\n",
       "  <tbody>\n",
       "    <tr>\n",
       "      <th>3498</th>\n",
       "      <td>4.0</td>\n",
       "      <td>7.0</td>\n",
       "      <td>7.0</td>\n",
       "    </tr>\n",
       "  </tbody>\n",
       "</table>\n",
       "</div>"
      ],
      "text/plain": [
       "      2010-11  2010-12  2011-01\n",
       "3498      4.0      7.0      7.0"
      ]
     },
     "execution_count": 55,
     "metadata": {},
     "output_type": "execute_result"
    }
   ],
   "source": [
    "usage_check[usage_check.index==3498].iloc[:, i-3:i]"
   ]
  },
  {
   "cell_type": "code",
   "execution_count": 68,
   "metadata": {
    "collapsed": true
   },
   "outputs": [],
   "source": [
    "def usageMean(i):\n",
    "    s = usage_check['ym'][i]\n",
    "    cnum = usage_check.columns.get_loc(str(s))\n",
    "    tm = usage_check[usage_check.index==i].iloc[:, cnum-3:cnum]\n",
    "    m = tm.mean(axis=1)\n",
    "    #print(tm)\n",
    "    #print(i, usage_check['consumer_id'][i], m)\n",
    "    return m[i]"
   ]
  },
  {
   "cell_type": "code",
   "execution_count": null,
   "metadata": {},
   "outputs": [
    {
     "name": "stderr",
     "output_type": "stream",
     "text": [
      "C:\\Users\\jhee\\Documents\\Anaconda3\\lib\\site-packages\\ipykernel_launcher.py:5: SettingWithCopyWarning: \n",
      "A value is trying to be set on a copy of a slice from a DataFrame\n",
      "\n",
      "See the caveats in the documentation: http://pandas.pydata.org/pandas-docs/stable/indexing.html#indexing-view-versus-copy\n",
      "  \"\"\"\n"
     ]
    }
   ],
   "source": [
    "#usage_check['thMonthMean'] = ''\n",
    "#for i in usage_check.index:\n",
    "#    if usage_check['year'][i]!='2017'and usage_check['year'][i]!='2010':\n",
    "#        # print(checked['year'][i])\n",
    "#        usage_check['thMonthMean'][i] = usageMean(i)\n"
   ]
  },
  {
   "cell_type": "code",
   "execution_count": null,
   "metadata": {},
   "outputs": [],
   "source": [
    "summary_usage_check = usage_check.loc[:,[\"date\", \"consumer_id\", \"check\", 'ym', 'thMonthMean']]\n",
    "summary_usage_check.head()"
   ]
  },
  {
   "cell_type": "code",
   "execution_count": 59,
   "metadata": {
    "collapsed": true
   },
   "outputs": [],
   "source": [
    "summary_usage_check.to_csv('summary_usage_check.csv',header=True)"
   ]
  },
  {
   "cell_type": "code",
   "execution_count": 60,
   "metadata": {},
   "outputs": [
    {
     "name": "stdout",
     "output_type": "stream",
     "text": [
      "<class 'pandas.core.frame.DataFrame'>\n",
      "Int64Index: 5219 entries, 0 to 5218\n",
      "Data columns (total 5 columns):\n",
      "date           5219 non-null datetime64[ns]\n",
      "consumer_id    5219 non-null object\n",
      "check          5219 non-null int64\n",
      "ym             5219 non-null object\n",
      "thMonthMean    0 non-null float64\n",
      "dtypes: datetime64[ns](1), float64(1), int64(1), object(2)\n",
      "memory usage: 404.6+ KB\n"
     ]
    }
   ],
   "source": [
    "summary_usage_check.info()"
   ]
  },
  {
   "cell_type": "code",
   "execution_count": 61,
   "metadata": {},
   "outputs": [
    {
     "name": "stdout",
     "output_type": "stream",
     "text": [
      "2011-02\n"
     ]
    },
    {
     "data": {
      "text/plain": [
       "1.0"
      ]
     },
     "execution_count": 61,
     "metadata": {},
     "output_type": "execute_result"
    }
   ],
   "source": [
    "#for idx in usage_check.index:\n",
    "s = usage_check['ym'][3498]\n",
    "print(s)\n",
    "i = usage_check.columns.get_loc(str(s))\n",
    "tm = usage_check[usage_check.index==3498].iloc[:,i]\n",
    "tm[3498]\n",
    "#tm.iloc[0,0]"
   ]
  },
  {
   "cell_type": "code",
   "execution_count": 62,
   "metadata": {
    "collapsed": true
   },
   "outputs": [],
   "source": [
    "def usageBeforeM(i):\n",
    "    s = usage_check['ym'][i]\n",
    "    cnum = usage_check.columns.get_loc(str(s))\n",
    "    tm = usage_check[usage_check.index==i].iloc[:, cnum-1:cnum]\n",
    "    return tm.iloc[0,0]"
   ]
  },
  {
   "cell_type": "code",
   "execution_count": 65,
   "metadata": {},
   "outputs": [],
   "source": [
    "def usageM(i):\n",
    "    s = usage_check['ym'][i]\n",
    "    cnum = usage_check.columns.get_loc(str(s))\n",
    "    tm = usage_check[usage_check.index==i].iloc[:, cnum]\n",
    "    return tm[i]"
   ]
  },
  {
   "cell_type": "code",
   "execution_count": 66,
   "metadata": {},
   "outputs": [],
   "source": [
    "usage_check['beforeUM'] = ''\n",
    "for i in usage_check.index:\n",
    "    if usage_check['year'][i]=='2010':\n",
    "        if usage_check['month'][i]=='01':\n",
    "            usage_check.loc[i,'beforeUM']=usageM(i)\n",
    "        else:\n",
    "            usage_check.loc[i,'beforeUM'] = usageBeforeM(i)\n",
    "    elif usage_check['year'][i]!='2017':\n",
    "        usage_check.loc[i,'beforeUM'] = usageBeforeM(i)"
   ]
  },
  {
   "cell_type": "code",
   "execution_count": null,
   "metadata": {},
   "outputs": [],
   "source": [
    "summary_usage_BM = usage_check.loc[:,[\"date\", \"consumer_id\", \"check\", 'ym', 'beforeUM']]\n",
    "summary_usage_BM.head()"
   ]
  },
  {
   "cell_type": "code",
   "execution_count": 72,
   "metadata": {
    "collapsed": true
   },
   "outputs": [],
   "source": [
    "summary_usage_BM.to_csv('summary_usage_BM.csv',header=True)"
   ]
  },
  {
   "cell_type": "markdown",
   "metadata": {},
   "source": [
    "# 재확인"
   ]
  },
  {
   "cell_type": "code",
   "execution_count": 69,
   "metadata": {
    "collapsed": true
   },
   "outputs": [],
   "source": [
    "summary_usage_BM = pd.read_csv('summary_usage_BM.csv')"
   ]
  },
  {
   "cell_type": "code",
   "execution_count": 70,
   "metadata": {},
   "outputs": [
    {
     "data": {
      "text/plain": [
       "count     5003.000000\n",
       "mean        78.775079\n",
       "std        935.884215\n",
       "min          0.000000\n",
       "25%          0.000000\n",
       "50%          4.000000\n",
       "75%         19.000000\n",
       "max      51318.000000\n",
       "Name: beforeUM, dtype: float64"
      ]
     },
     "execution_count": 70,
     "metadata": {},
     "output_type": "execute_result"
    }
   ],
   "source": [
    "summary_usage_BM['beforeUM'].describe()"
   ]
  },
  {
   "cell_type": "code",
   "execution_count": 138,
   "metadata": {
    "scrolled": true
   },
   "outputs": [
    {
     "data": {
      "text/plain": [
       "count     5002.000000\n",
       "mean        68.531332\n",
       "std        592.421145\n",
       "min          0.000000\n",
       "25%          0.000000\n",
       "50%          4.000000\n",
       "75%         19.000000\n",
       "max      19169.000000\n",
       "Name: beforeUM, dtype: float64"
      ]
     },
     "execution_count": 138,
     "metadata": {},
     "output_type": "execute_result"
    }
   ],
   "source": [
    "bb = summary_usage_BM[summary_usage_BM['beforeUM']<50000]\n",
    "bb['beforeUM'].describe()"
   ]
  },
  {
   "cell_type": "code",
   "execution_count": 137,
   "metadata": {},
   "outputs": [
    {
     "data": {
      "text/plain": [
       "4.0"
      ]
     },
     "execution_count": 137,
     "metadata": {},
     "output_type": "execute_result"
    }
   ],
   "source": [
    "import statistics\n",
    "statistics.median(bb['beforeUM'])"
   ]
  },
  {
   "cell_type": "code",
   "execution_count": 71,
   "metadata": {},
   "outputs": [
    {
     "name": "stdout",
     "output_type": "stream",
     "text": [
      "<class 'pandas.core.frame.DataFrame'>\n",
      "RangeIndex: 5219 entries, 0 to 5218\n",
      "Data columns (total 6 columns):\n",
      "Unnamed: 0     5219 non-null int64\n",
      "date           5219 non-null object\n",
      "consumer_id    5219 non-null object\n",
      "check          5219 non-null int64\n",
      "ym             5219 non-null object\n",
      "beforeUM       5003 non-null float64\n",
      "dtypes: float64(1), int64(2), object(3)\n",
      "memory usage: 244.7+ KB\n"
     ]
    }
   ],
   "source": [
    "summary_usage_BM.info()"
   ]
  },
  {
   "cell_type": "code",
   "execution_count": 63,
   "metadata": {
    "collapsed": true
   },
   "outputs": [],
   "source": [
    "#summary_usage_BM['beforeUM'] = (summary_usage_BM['beforeUM'].notnull()).astype(float)"
   ]
  },
  {
   "cell_type": "code",
   "execution_count": null,
   "metadata": {},
   "outputs": [],
   "source": [
    "summary_usage_BM[summary_usage_BM['beforeUM']>79].describe()"
   ]
  },
  {
   "cell_type": "code",
   "execution_count": null,
   "metadata": {},
   "outputs": [],
   "source": [
    "summary_usage_BM.head()"
   ]
  },
  {
   "cell_type": "code",
   "execution_count": null,
   "metadata": {},
   "outputs": [],
   "source": [
    "summary_usage_BM.loc[5208,'beforeUM']"
   ]
  },
  {
   "cell_type": "code",
   "execution_count": null,
   "metadata": {},
   "outputs": [],
   "source": [
    "df = summary_usage_BM[summary_usage_BM['beforeUM'].notnull()]\n",
    "df=df.drop(['Unnamed: 0'], axis=1)"
   ]
  },
  {
   "cell_type": "code",
   "execution_count": null,
   "metadata": {
    "scrolled": true
   },
   "outputs": [],
   "source": [
    "df.head()"
   ]
  },
  {
   "cell_type": "code",
   "execution_count": 162,
   "metadata": {},
   "outputs": [
    {
     "data": {
      "text/plain": [
       "(3764, 5)"
      ]
     },
     "execution_count": 162,
     "metadata": {},
     "output_type": "execute_result"
    }
   ],
   "source": [
    "dfa = df[df['beforeUM']<20]\n",
    "dfa.shape"
   ]
  },
  {
   "cell_type": "code",
   "execution_count": 163,
   "metadata": {
    "scrolled": true
   },
   "outputs": [
    {
     "data": {
      "image/png": "[encoded data removed]",
      "text/plain": [
       "<matplotlib.figure.Figure at 0x1e852ed76a0>"
      ]
     },
     "metadata": {},
     "output_type": "display_data"
    }
   ],
   "source": [
    "import matplotlib.pyplot as plt\n",
    "%matplotlib inline\n",
    "plt.figure()\n",
    "data = dfa['beforeUM']\n",
    "plt.boxplot(data.values, labels=['usage'])\n",
    "plt.grid()\n",
    "plt.savefig('usage.png')\n",
    "plt.show()"
   ]
  },
  {
   "cell_type": "code",
   "execution_count": 112,
   "metadata": {},
   "outputs": [
    {
     "data": {
      "text/plain": [
       "array([ 87.,   7.,   2., ...,   0.,   3.,   6.])"
      ]
     },
     "execution_count": 112,
     "metadata": {},
     "output_type": "execute_result"
    }
   ],
   "source": [
    "type(dfa)\n",
    "dfa"
   ]
  },
  {
   "cell_type": "code",
   "execution_count": null,
   "metadata": {
    "collapsed": true
   },
   "outputs": [],
   "source": []
  }
 ],
 "metadata": {
  "kernelspec": {
   "display_name": "Python 3",
   "language": "python",
   "name": "python3"
  },
  "language_info": {
   "codemirror_mode": {
    "name": "ipython",
    "version": 3
   },
   "file_extension": ".py",
   "mimetype": "text/x-python",
   "name": "python",
   "nbconvert_exporter": "python",
   "pygments_lexer": "ipython3",
   "version": "3.5.2"
  }
 },
 "nbformat": 4,
 "nbformat_minor": 2
}
