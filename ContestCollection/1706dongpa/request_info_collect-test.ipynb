{
 "cells": [
  {
   "cell_type": "code",
   "execution_count": null,
   "metadata": {},
   "outputs": [],
   "source": [
    "import pandas as pd\n",
    "import numpy as np"
   ]
  },
  {
   "cell_type": "code",
   "execution_count": null,
   "metadata": {
    "scrolled": true
   },
   "outputs": [],
   "source": [
    "minwan_data = pd.read_excel(r'C:\\Users\\jhee\\Documents\\StudyFolder\\Project_DongpaBangjiP\\current_data\\request\\request_info.xlsx')\n",
    "minwan_data.head(10)"
   ]
  },
  {
   "cell_type": "code",
   "execution_count": null,
   "metadata": {},
   "outputs": [],
   "source": [
    "# minwan_data.columns.values[4]='contents'\n",
    "# minwan_data.head(3)"
   ]
  },
  {
   "cell_type": "code",
   "execution_count": null,
   "metadata": {},
   "outputs": [],
   "source": [
    "minwan_data.shape"
   ]
  },
  {
   "cell_type": "code",
   "execution_count": null,
   "metadata": {},
   "outputs": [],
   "source": [
    "check_data = pd.read_excel('classification_re.xlsx')\n",
    "check_data.tail(10)"
   ]
  },
  {
   "cell_type": "code",
   "execution_count": null,
   "metadata": {},
   "outputs": [],
   "source": [
    "check_data.shape"
   ]
  },
  {
   "cell_type": "code",
   "execution_count": null,
   "metadata": {},
   "outputs": [],
   "source": [
    "check_data[check_data['content'] == '계량기지침 앞자리수가 딸려 올려가 있음 / 현장확인요청함']"
   ]
  },
  {
   "cell_type": "code",
   "execution_count": null,
   "metadata": {
    "scrolled": true
   },
   "outputs": [],
   "source": [
    "minwan_data[minwan_data['content'] == '계량기지침 앞자리수가 딸려 올려가 있음 / 현장확인요청함 ']"
   ]
  },
  {
   "cell_type": "code",
   "execution_count": null,
   "metadata": {},
   "outputs": [],
   "source": [
    "minwan_data['content'][0]"
   ]
  },
  {
   "cell_type": "code",
   "execution_count": null,
   "metadata": {},
   "outputs": [],
   "source": [
    "df = pd.DataFrame([['   a   ', 10], ['b ', 5]])\n",
    "df"
   ]
  },
  {
   "cell_type": "code",
   "execution_count": null,
   "metadata": {},
   "outputs": [],
   "source": [
    "df.replace(r'\\s*(.*?)\\s*', r'\\1', regex=True)\n",
    "# df[0]=='a'\n",
    "df[0]=='   a   '"
   ]
  },
  {
   "cell_type": "code",
   "execution_count": null,
   "metadata": {},
   "outputs": [],
   "source": [
    "df[0] = df[0].str.strip()\n",
    "df[0]=='a'"
   ]
  },
  {
   "cell_type": "code",
   "execution_count": null,
   "metadata": {},
   "outputs": [],
   "source": [
    "type(df[0])"
   ]
  },
  {
   "cell_type": "code",
   "execution_count": null,
   "metadata": {},
   "outputs": [],
   "source": [
    "# 문자 양끝 공백제거\n",
    "a = map(str.strip, minwan_data['content'])\n",
    "type(a)\n",
    "minwan_data['content'] = minwan_data['content'].str.strip()\n",
    "minwan_data[minwan_data['content'] == '계량기지침 앞자리수가 딸려 올려가 있음 / 현장확인요청함']\n",
    "# minwan_data['content'].head(10)"
   ]
  },
  {
   "cell_type": "code",
   "execution_count": null,
   "metadata": {},
   "outputs": [],
   "source": [
    "# import re\n",
    "# re.sum(minwan_data['content'])"
   ]
  },
  {
   "cell_type": "code",
   "execution_count": null,
   "metadata": {},
   "outputs": [],
   "source": [
    "check_data['content'] = check_data['content'].str.strip()\n",
    "check_data[check_data['content'] == '계량기지침 앞자리수가 딸려 올려가 있음 / 현장확인요청함']"
   ]
  },
  {
   "cell_type": "code",
   "execution_count": null,
   "metadata": {},
   "outputs": [],
   "source": [
    "minwan_data['check'] = ''\n",
    "\n",
    "for i in minwan_data.index:\n",
    "    idx = check_data[check_data['content']==minwan_data['content'][i]].index\n",
    "    if len(check_data['check'][idx].tolist())!=0:\n",
    "        minwan_data['check'][i]=check_data['check'][idx].tolist()[0]\n",
    "minwan_data.head(10)"
   ]
  },
  {
   "cell_type": "code",
   "execution_count": null,
   "metadata": {},
   "outputs": [],
   "source": [
    "check_data.loc[:,['content','check']].head(5)"
   ]
  },
  {
   "cell_type": "code",
   "execution_count": null,
   "metadata": {},
   "outputs": [],
   "source": [
    "print(merged[merged['check'].isnull()].shape)\n",
    "merged[merged['check'].isnull()]"
   ]
  },
  {
   "cell_type": "code",
   "execution_count": null,
   "metadata": {},
   "outputs": [],
   "source": [
    "writer = pd.ExcelWriter('check_null.xlsx')\n",
    "merged[merged['check'].isnull()].to_excel(writer,'Sheet1')\n",
    "writer.save()"
   ]
  },
  {
   "cell_type": "code",
   "execution_count": null,
   "metadata": {},
   "outputs": [],
   "source": [
    "empty =  minwan_data[minwan_data['check']=='']\n",
    "print(empty.shape)\n",
    "empty.head(10)"
   ]
  },
  {
   "cell_type": "code",
   "execution_count": null,
   "metadata": {},
   "outputs": [],
   "source": [
    "# 특수문자 제거\n",
    "import re\n",
    "\n",
    "s = \"1.123ggbi.    fdd\\asdf\\n/d\"\n",
    "s=re.sub(\"[\\s/]\", '', s)\n",
    "print(s)\n",
    "\n",
    "# print(re.sub(\"[^1.]\", '',s))"
   ]
  },
  {
   "cell_type": "code",
   "execution_count": null,
   "metadata": {},
   "outputs": [],
   "source": [
    "def rm_s(s):\n",
    "    return re.sub(\"[\\s]\", ' ',s)"
   ]
  },
  {
   "cell_type": "code",
   "execution_count": null,
   "metadata": {},
   "outputs": [],
   "source": [
    "#minwan_data['content'] = re.sub(\"[\\s]\", ' ',minwan_data['content'])\n",
    "#minwan_data['content'].apply(rm_s)\n",
    "# a = [re.sub(\"[\\s]\",' ',e) for e in minwan_data['content']]\n",
    "for i in minwan_data['content'].index:\n",
    "    minwan_data['content'][i]=re.sub(\"[\\s]\",' ',str(minwan_data['content'][i]))"
   ]
  },
  {
   "cell_type": "code",
   "execution_count": null,
   "metadata": {},
   "outputs": [],
   "source": [
    "for i in check_data['content'].index:\n",
    "    check_data['content'][i]=re.sub(\"[\\s]\",' ',str(check_data['content'][i]))"
   ]
  },
  {
   "cell_type": "code",
   "execution_count": null,
   "metadata": {},
   "outputs": [],
   "source": [
    "# merge 함수 사용 \n",
    "merged = pd.merge(minwan_data, check_data.loc[:,['content','check']], how='inner', on='content')\n",
    "merged"
   ]
  },
  {
   "cell_type": "code",
   "execution_count": null,
   "metadata": {},
   "outputs": [],
   "source": [
    "empty =  merged[merged['check'].isnull()]\n",
    "print(minwan_data.shape)\n",
    "print(merged.shape)\n",
    "print(empty.shape)\n",
    "empty.head(10)"
   ]
  },
  {
   "cell_type": "code",
   "execution_count": null,
   "metadata": {},
   "outputs": [],
   "source": [
    "writer = pd.ExcelWriter('check_null.xlsx')\n",
    "merged[merged['check'].isnull()].to_excel(writer,'Sheet1')\n",
    "writer.save()"
   ]
  },
  {
   "cell_type": "code",
   "execution_count": null,
   "metadata": {},
   "outputs": [],
   "source": [
    "writer = pd.ExcelWriter('checked.xlsx')\n",
    "merged.to_excel(writer,'Sheet1')\n",
    "writer.save()"
   ]
  },
  {
   "cell_type": "code",
   "execution_count": null,
   "metadata": {},
   "outputs": [],
   "source": []
  }
 ],
 "metadata": {
  "kernelspec": {
   "display_name": "Python 3",
   "language": "python",
   "name": "python3"
  },
  "language_info": {
   "codemirror_mode": {
    "name": "ipython",
    "version": 3
   },
   "file_extension": ".py",
   "mimetype": "text/x-python",
   "name": "python",
   "nbconvert_exporter": "python",
   "pygments_lexer": "ipython3",
   "version": "3.5.2"
  }
 },
 "nbformat": 4,
 "nbformat_minor": 2
}
