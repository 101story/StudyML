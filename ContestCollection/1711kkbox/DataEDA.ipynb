{
 "cells": [
  {
   "cell_type": "markdown",
   "metadata": {
    "collapsed": true
   },
   "source": [
    "from IPython.core.interactiveshell import InteractiveShell\n",
    "InteractiveShell.ast_node_interactivity = \"all\" #'last' 기본값"
   ]
  },
  {
   "cell_type": "code",
   "execution_count": 1,
   "metadata": {
    "collapsed": true
   },
   "outputs": [],
   "source": [
    "import dask.dataframe as dd"
   ]
  },
  {
   "cell_type": "code",
   "execution_count": 2,
   "metadata": {
    "collapsed": true
   },
   "outputs": [],
   "source": [
    "import pandas as pd"
   ]
  },
  {
   "cell_type": "code",
   "execution_count": 3,
   "metadata": {
    "collapsed": true
   },
   "outputs": [],
   "source": [
    "from datetime import datetime"
   ]
  },
  {
   "cell_type": "code",
   "execution_count": 4,
   "metadata": {
    "collapsed": true
   },
   "outputs": [],
   "source": [
    "import matplotlib.pyplot as plt\n",
    "plt.rc('figure', figsize=(12, 4))"
   ]
  },
  {
   "cell_type": "markdown",
   "metadata": {},
   "source": [
    "* Member Data\n",
    "* Transaction Data \n",
    "    * 약 2G 정도의 데이터 DESK 이용 \n",
    "* User Log Data \n",
    "    * 제외 약 4억건 대용량으로 하둡에서 처리 \n",
    "* Train Data\n",
    "* Test Data"
   ]
  },
  {
   "cell_type": "markdown",
   "metadata": {},
   "source": [
    "## Member Data"
   ]
  },
  {
   "cell_type": "code",
   "execution_count": null,
   "metadata": {},
   "outputs": [],
   "source": [
    "df = pd.read_csv(\"./rowdata/members_v2.csv/members_v2.csv\", \n",
    "    dtype={\"msno\":str, \"registration_init_time\":str})\n",
    "df[:10]"
   ]
  },
  {
   "cell_type": "code",
   "execution_count": 6,
   "metadata": {},
   "outputs": [
    {
     "name": "stdout",
     "output_type": "stream",
     "text": [
      "<class 'pandas.core.frame.DataFrame'>\n",
      "RangeIndex: 795090 entries, 0 to 795089\n",
      "Data columns (total 6 columns):\n",
      "msno                      795090 non-null object\n",
      "city                      795090 non-null int64\n",
      "bd                        795090 non-null int64\n",
      "gender                    318249 non-null object\n",
      "registered_via            795090 non-null int64\n",
      "registration_init_time    795090 non-null object\n",
      "dtypes: int64(3), object(3)\n",
      "memory usage: 36.4+ MB\n"
     ]
    }
   ],
   "source": [
    "df.info()"
   ]
  },
  {
   "cell_type": "code",
   "execution_count": null,
   "metadata": {},
   "outputs": [],
   "source": [
    "df3 = pd.read_csv(\"./rowdata/members_v3.csv/members_v3.csv\", \n",
    "    dtype={\"msno\":str, \"registration_init_time\":str})\n",
    "df3[:10]"
   ]
  },
  {
   "cell_type": "code",
   "execution_count": null,
   "metadata": {},
   "outputs": [],
   "source": [
    "df.head()"
   ]
  },
  {
   "cell_type": "code",
   "execution_count": 7,
   "metadata": {},
   "outputs": [
    {
     "data": {
      "text/plain": [
       "0"
      ]
     },
     "execution_count": 7,
     "metadata": {},
     "output_type": "execute_result"
    }
   ],
   "source": [
    "df.city.isnull().sum()"
   ]
  },
  {
   "cell_type": "code",
   "execution_count": 8,
   "metadata": {},
   "outputs": [
    {
     "name": "stdout",
     "output_type": "stream",
     "text": [
      "<class 'pandas.core.frame.DataFrame'>\n",
      "RangeIndex: 6769473 entries, 0 to 6769472\n",
      "Data columns (total 6 columns):\n",
      "msno                      object\n",
      "city                      int64\n",
      "bd                        int64\n",
      "gender                    object\n",
      "registered_via            int64\n",
      "registration_init_time    object\n",
      "dtypes: int64(3), object(3)\n",
      "memory usage: 309.9+ MB\n"
     ]
    }
   ],
   "source": [
    "df.info()"
   ]
  },
  {
   "cell_type": "code",
   "execution_count": 9,
   "metadata": {
    "collapsed": true
   },
   "outputs": [],
   "source": [
    " df['registration_init_time'] = df['registration_init_time'].map(lambda x : datetime.strptime(x, '%Y%m%d'))"
   ]
  },
  {
   "cell_type": "code",
   "execution_count": 10,
   "metadata": {},
   "outputs": [
    {
     "data": {
      "text/plain": [
       "pandas._libs.tslib.Timestamp"
      ]
     },
     "execution_count": 10,
     "metadata": {},
     "output_type": "execute_result"
    }
   ],
   "source": [
    "type(df['registration_init_time'][0])"
   ]
  },
  {
   "cell_type": "code",
   "execution_count": 11,
   "metadata": {},
   "outputs": [
    {
     "data": {
      "text/html": [
       "<div>\n",
       "<style>\n",
       "    .dataframe thead tr:only-child th {\n",
       "        text-align: right;\n",
       "    }\n",
       "\n",
       "    .dataframe thead th {\n",
       "        text-align: left;\n",
       "    }\n",
       "\n",
       "    .dataframe tbody tr th {\n",
       "        vertical-align: top;\n",
       "    }\n",
       "</style>\n",
       "<table border=\"1\" class=\"dataframe\">\n",
       "  <thead>\n",
       "    <tr style=\"text-align: right;\">\n",
       "      <th></th>\n",
       "      <th>city</th>\n",
       "      <th>bd</th>\n",
       "      <th>registered_via</th>\n",
       "    </tr>\n",
       "  </thead>\n",
       "  <tbody>\n",
       "    <tr>\n",
       "      <th>count</th>\n",
       "      <td>6.769473e+06</td>\n",
       "      <td>6.769473e+06</td>\n",
       "      <td>6.769473e+06</td>\n",
       "    </tr>\n",
       "    <tr>\n",
       "      <th>mean</th>\n",
       "      <td>3.847358e+00</td>\n",
       "      <td>9.795794e+00</td>\n",
       "      <td>5.253069e+00</td>\n",
       "    </tr>\n",
       "    <tr>\n",
       "      <th>std</th>\n",
       "      <td>5.478359e+00</td>\n",
       "      <td>1.792590e+01</td>\n",
       "      <td>2.361398e+00</td>\n",
       "    </tr>\n",
       "    <tr>\n",
       "      <th>min</th>\n",
       "      <td>1.000000e+00</td>\n",
       "      <td>-7.168000e+03</td>\n",
       "      <td>-1.000000e+00</td>\n",
       "    </tr>\n",
       "    <tr>\n",
       "      <th>25%</th>\n",
       "      <td>1.000000e+00</td>\n",
       "      <td>0.000000e+00</td>\n",
       "      <td>4.000000e+00</td>\n",
       "    </tr>\n",
       "    <tr>\n",
       "      <th>50%</th>\n",
       "      <td>1.000000e+00</td>\n",
       "      <td>0.000000e+00</td>\n",
       "      <td>4.000000e+00</td>\n",
       "    </tr>\n",
       "    <tr>\n",
       "      <th>75%</th>\n",
       "      <td>4.000000e+00</td>\n",
       "      <td>2.100000e+01</td>\n",
       "      <td>7.000000e+00</td>\n",
       "    </tr>\n",
       "    <tr>\n",
       "      <th>max</th>\n",
       "      <td>2.200000e+01</td>\n",
       "      <td>2.016000e+03</td>\n",
       "      <td>1.900000e+01</td>\n",
       "    </tr>\n",
       "  </tbody>\n",
       "</table>\n",
       "</div>"
      ],
      "text/plain": [
       "               city            bd  registered_via\n",
       "count  6.769473e+06  6.769473e+06    6.769473e+06\n",
       "mean   3.847358e+00  9.795794e+00    5.253069e+00\n",
       "std    5.478359e+00  1.792590e+01    2.361398e+00\n",
       "min    1.000000e+00 -7.168000e+03   -1.000000e+00\n",
       "25%    1.000000e+00  0.000000e+00    4.000000e+00\n",
       "50%    1.000000e+00  0.000000e+00    4.000000e+00\n",
       "75%    4.000000e+00  2.100000e+01    7.000000e+00\n",
       "max    2.200000e+01  2.016000e+03    1.900000e+01"
      ]
     },
     "execution_count": 11,
     "metadata": {},
     "output_type": "execute_result"
    }
   ],
   "source": [
    "df.describe()"
   ]
  },
  {
   "cell_type": "code",
   "execution_count": 12,
   "metadata": {},
   "outputs": [
    {
     "data": {
      "text/plain": [
       "1     4804326\n",
       "5      385069\n",
       "13     320978\n",
       "4      246848\n",
       "22     210407\n",
       "15     190213\n",
       "6      135200\n",
       "14      89940\n",
       "12      66843\n",
       "9       47639\n",
       "11      47489\n",
       "8       45975\n",
       "18      38039\n",
       "10      32482\n",
       "21      30837\n",
       "17      27772\n",
       "3       27282\n",
       "7       11610\n",
       "16       5092\n",
       "20       4233\n",
       "19       1199\n",
       "Name: city, dtype: int64"
      ]
     },
     "execution_count": 12,
     "metadata": {},
     "output_type": "execute_result"
    }
   ],
   "source": [
    "df.city.value_counts()"
   ]
  },
  {
   "cell_type": "code",
   "execution_count": 13,
   "metadata": {},
   "outputs": [
    {
     "data": {
      "text/plain": [
       "21"
      ]
     },
     "execution_count": 13,
     "metadata": {},
     "output_type": "execute_result"
    }
   ],
   "source": [
    "df.city.nunique()"
   ]
  },
  {
   "cell_type": "code",
   "execution_count": 14,
   "metadata": {},
   "outputs": [
    {
     "data": {
      "text/plain": [
       "array([    0,    32,    30,    34,    19,    63,    18,    28,    29,\n",
       "          31,    22,    23,    21,    27,    47,    38,    36,    26,\n",
       "          58,    43,    33,    39,    24,    20,    25,    41,    17,\n",
       "          54,    40,    45,    52,    56,    50,    35,    42,    49,\n",
       "          44,    48,    57,    37,    51,    60,    46,    59,    53,\n",
       "          16,    14,   104,    15,    64,    91,    69,    62,    55,\n",
       "          61,    65,    75,   106,   108,    99,    68,    82,    95,\n",
       "          90,    67,    96,    77,    66,   -39,     6,    76,   109,\n",
       "          72,    13,    80,    93,     7,  1028,    94,   117,    70,\n",
       "           4,   793,   105,   923,   107,   112,    73,    87,    88,\n",
       "          86,    71,    81,    97,    85,    79,   102,   101,    78,\n",
       "         111,     1,    89,    74,    84,   110,    98,  -518,   -51,\n",
       "          12,    83,  1037,   103,   116,   100,    10,  1025,     5,\n",
       "         220,    92,     9,   115,     8,  1039,  1052,  -506,   938,\n",
       "          11,  -510,   -36,   240,  1031,   -43,   584,   944,  -958,\n",
       "         137,   -48,     3,  1032,  -515,   217,     2,  1820,  -504,\n",
       "        -519,   265,   143,   119,   151,   -47,   689,   183,   -42,\n",
       "         959,   946,   -49,  -514,   122,   943,  -523,  -517,  -482,\n",
       "        -520,   907,   936,  1018,  1062,  1030,  1043,  1017,   951,\n",
       "         126,   141,   113,   930,  -508,  1034,  -974,  1819,   806,\n",
       "        1033,   144,  1026,   -37,  -500,  -509,  1053,   942,   778,\n",
       "        -516,  1046,  1008,   -46,  1011,   950,   155,   114,   125,\n",
       "         -12,  1048,   124,  1040,  1036,   138,   153,   948,   827,\n",
       "         -52, -7168,   826,  -511,   -45,  1041,   820,  1821,   118,\n",
       "        -540,  -513,  1061,   743,  1937,  1038,  1045,   228,  1051,\n",
       "        1049,   932,   357,   244,   164,  1029,   -44,   783,   129,\n",
       "         -34,   -23,   128,  -521,   922,   761,   328,   131,   823,\n",
       "         386,  -526,   -50,   319,   994,   132,   822,   160,   824,\n",
       "         939,   947,   136,  2011,  1309,   685,   941,   937,  1213,\n",
       "         340,    -5,   931,  1954,   933,   140,   -14,   -33,   -22,\n",
       "        -512,   232, -6998,    -9,  1022,   120,   -32,   955,   332,\n",
       "         -38,   519,   945,  -522,  -503,   940,   906,   935,   148,\n",
       "         123,   139,   926,   949,   925,  2009,   322,   462,  1089,\n",
       "        1009,   121,   163,  1058,  1111,   -41,  1050,   327,   197,\n",
       "         -35,   -40,   929,   964,  1035,   825,  1019,   924,    -7,\n",
       "        -501,  1958,  1042,   323,   837,  -493,   -31, -6807,   919,\n",
       "         320,  -498,   786,   334,  -525,  -496,   321,  -502,   237,\n",
       "         231,  1021,   821,  1970,   920,   819,  -527,   928,  -505,\n",
       "          -8,  -497,  -176,   230,   934,  1056,   133, -1970,   649,\n",
       "        -488,   -19,   810,  1421,  2014,   243, -2828,  1013,  1044,\n",
       "        1501,  1946,  2016,   222, -6445,   167,   961,   -10,  -484,\n",
       "        1968,  -489,  1064,  1949,  -507,  -956, -5978,  -951,   130,\n",
       "        -529,   -30,  -178,   353,   954,  -524, -3152,   573], dtype=int64)"
      ]
     },
     "execution_count": 14,
     "metadata": {},
     "output_type": "execute_result"
    }
   ],
   "source": [
    "df.bd.unique()"
   ]
  },
  {
   "cell_type": "code",
   "execution_count": 15,
   "metadata": {},
   "outputs": [
    {
     "data": {
      "text/plain": [
       " 4     2793213\n",
       " 3     1643208\n",
       " 9     1482863\n",
       " 7      805895\n",
       " 11      25047\n",
       " 13       5455\n",
       " 8        3982\n",
       " 5        3115\n",
       " 17       1494\n",
       " 2        1452\n",
       " 6        1213\n",
       " 19        974\n",
       " 16        888\n",
       " 14        615\n",
       " 1          43\n",
       " 10         10\n",
       " 18          5\n",
       "-1           1\n",
       "Name: registered_via, dtype: int64"
      ]
     },
     "execution_count": 15,
     "metadata": {},
     "output_type": "execute_result"
    }
   ],
   "source": [
    "df.registered_via.value_counts()"
   ]
  },
  {
   "cell_type": "code",
   "execution_count": 16,
   "metadata": {},
   "outputs": [
    {
     "data": {
      "text/plain": [
       "count                  805895\n",
       "unique                   2705\n",
       "top       2016-01-16 00:00:00\n",
       "freq                     1831\n",
       "first     2006-10-28 00:00:00\n",
       "last      2017-04-29 00:00:00\n",
       "Name: registration_init_time, dtype: object"
      ]
     },
     "execution_count": 16,
     "metadata": {},
     "output_type": "execute_result"
    }
   ],
   "source": [
    "df[df.registered_via==7].registration_init_time.describe()"
   ]
  },
  {
   "cell_type": "code",
   "execution_count": 17,
   "metadata": {},
   "outputs": [
    {
     "data": {
      "text/plain": [
       "msno                            0\n",
       "city                            0\n",
       "bd                              0\n",
       "gender                    4429505\n",
       "registered_via                  0\n",
       "registration_init_time          0\n",
       "dtype: int64"
      ]
     },
     "execution_count": 17,
     "metadata": {},
     "output_type": "execute_result"
    }
   ],
   "source": [
    "df.isnull().sum()"
   ]
  },
  {
   "cell_type": "code",
   "execution_count": 18,
   "metadata": {},
   "outputs": [
    {
     "data": {
      "text/plain": [
       "Index(['msno', 'city', 'bd', 'gender', 'registered_via',\n",
       "       'registration_init_time'],\n",
       "      dtype='object')"
      ]
     },
     "execution_count": 18,
     "metadata": {},
     "output_type": "execute_result"
    }
   ],
   "source": [
    "df.columns"
   ]
  },
  {
   "cell_type": "code",
   "execution_count": 19,
   "metadata": {},
   "outputs": [
    {
     "data": {
      "text/plain": [
       "True"
      ]
     },
     "execution_count": 19,
     "metadata": {},
     "output_type": "execute_result"
    }
   ],
   "source": [
    "df.msno.is_unique"
   ]
  },
  {
   "cell_type": "code",
   "execution_count": 20,
   "metadata": {},
   "outputs": [
    {
     "data": {
      "text/plain": [
       "male      1195355\n",
       "female    1144613\n",
       "Name: gender, dtype: int64"
      ]
     },
     "execution_count": 20,
     "metadata": {},
     "output_type": "execute_result"
    }
   ],
   "source": [
    "df.gender.value_counts()"
   ]
  },
  {
   "cell_type": "code",
   "execution_count": 21,
   "metadata": {},
   "outputs": [
    {
     "data": {
      "text/plain": [
       "count                 6769473\n",
       "unique                   4782\n",
       "top       2015-10-09 00:00:00\n",
       "freq                    12413\n",
       "first     2004-03-26 00:00:00\n",
       "last      2017-04-29 00:00:00\n",
       "Name: registration_init_time, dtype: object"
      ]
     },
     "execution_count": 21,
     "metadata": {},
     "output_type": "execute_result"
    }
   ],
   "source": [
    "df.registration_init_time.describe()"
   ]
  },
  {
   "cell_type": "markdown",
   "metadata": {},
   "source": [
    "## Train Data"
   ]
  },
  {
   "cell_type": "code",
   "execution_count": null,
   "metadata": {
    "scrolled": true
   },
   "outputs": [],
   "source": [
    "traindf = pd.read_csv(\"./rowdata/train.csv/train.csv\")\n",
    "traindf.head()"
   ]
  },
  {
   "cell_type": "code",
   "execution_count": 23,
   "metadata": {},
   "outputs": [
    {
     "name": "stdout",
     "output_type": "stream",
     "text": [
      "<class 'pandas.core.frame.DataFrame'>\n",
      "RangeIndex: 992931 entries, 0 to 992930\n",
      "Data columns (total 2 columns):\n",
      "msno        992931 non-null object\n",
      "is_churn    992931 non-null int64\n",
      "dtypes: int64(1), object(1)\n",
      "memory usage: 15.2+ MB\n"
     ]
    }
   ],
   "source": [
    "traindf.info()"
   ]
  },
  {
   "cell_type": "code",
   "execution_count": null,
   "metadata": {
    "scrolled": true
   },
   "outputs": [],
   "source": [
    "traindf2 = pd.read_csv(\"./rowdata/train_v2.csv/train_v2.csv\")\n",
    "traindf2.head()"
   ]
  },
  {
   "cell_type": "code",
   "execution_count": 25,
   "metadata": {},
   "outputs": [
    {
     "name": "stdout",
     "output_type": "stream",
     "text": [
      "<class 'pandas.core.frame.DataFrame'>\n",
      "RangeIndex: 970960 entries, 0 to 970959\n",
      "Data columns (total 2 columns):\n",
      "msno        970960 non-null object\n",
      "is_churn    970960 non-null int64\n",
      "dtypes: int64(1), object(1)\n",
      "memory usage: 14.8+ MB\n"
     ]
    }
   ],
   "source": [
    "traindf2.info()"
   ]
  },
  {
   "cell_type": "code",
   "execution_count": 26,
   "metadata": {},
   "outputs": [
    {
     "data": {
      "text/plain": [
       "0    883630\n",
       "1     87330\n",
       "Name: is_churn, dtype: int64"
      ]
     },
     "execution_count": 26,
     "metadata": {},
     "output_type": "execute_result"
    }
   ],
   "source": [
    "traindf.is_churn.value_counts()\n",
    "traindf2.is_churn.value_counts()"
   ]
  },
  {
   "cell_type": "code",
   "execution_count": 27,
   "metadata": {},
   "outputs": [
    {
     "data": {
      "text/plain": [
       "True"
      ]
     },
     "execution_count": 27,
     "metadata": {},
     "output_type": "execute_result"
    }
   ],
   "source": [
    "traindf.msno.is_unique\n",
    "traindf2.msno.is_unique"
   ]
  },
  {
   "cell_type": "code",
   "execution_count": 28,
   "metadata": {},
   "outputs": [
    {
     "data": {
      "text/plain": [
       "Index(['msno', 'city', 'bd', 'gender', 'registered_via',\n",
       "       'registration_init_time'],\n",
       "      dtype='object')"
      ]
     },
     "execution_count": 28,
     "metadata": {},
     "output_type": "execute_result"
    }
   ],
   "source": [
    "df.columns"
   ]
  },
  {
   "cell_type": "markdown",
   "metadata": {},
   "source": [
    "## Train1과 Train2 Data 유효성 검증"
   ]
  },
  {
   "cell_type": "code",
   "execution_count": 29,
   "metadata": {},
   "outputs": [
    {
     "data": {
      "text/plain": [
       "msno        881701\n",
       "is_churn    881701\n",
       "dtype: int64"
      ]
     },
     "execution_count": 29,
     "metadata": {},
     "output_type": "execute_result"
    }
   ],
   "source": [
    "traindf[traindf['msno'].isin(traindf2['msno'])].count()"
   ]
  },
  {
   "cell_type": "code",
   "execution_count": 30,
   "metadata": {},
   "outputs": [
    {
     "data": {
      "text/plain": [
       "msno        881701\n",
       "is_churn    881701\n",
       "dtype: int64"
      ]
     },
     "execution_count": 30,
     "metadata": {},
     "output_type": "execute_result"
    }
   ],
   "source": [
    "traindf2[traindf2['msno'].isin(traindf['msno'])].count()"
   ]
  },
  {
   "cell_type": "code",
   "execution_count": 31,
   "metadata": {},
   "outputs": [
    {
     "data": {
      "text/plain": [
       "msno        111230\n",
       "is_churn    111230\n",
       "dtype: int64"
      ]
     },
     "execution_count": 31,
     "metadata": {},
     "output_type": "execute_result"
    }
   ],
   "source": [
    "traindf[traindf['msno'].isin(traindf2['msno'])==False].count()"
   ]
  },
  {
   "cell_type": "code",
   "execution_count": 32,
   "metadata": {},
   "outputs": [
    {
     "data": {
      "text/plain": [
       "msno        89259\n",
       "is_churn    89259\n",
       "dtype: int64"
      ]
     },
     "execution_count": 32,
     "metadata": {},
     "output_type": "execute_result"
    }
   ],
   "source": [
    "traindf2[traindf2['msno'].isin(traindf['msno'])==False].count()"
   ]
  },
  {
   "cell_type": "code",
   "execution_count": 33,
   "metadata": {
    "collapsed": true
   },
   "outputs": [],
   "source": [
    "# train2 에 없는 train1 값만 추출 \n",
    "nottrain2df = traindf[traindf['msno'].isin(traindf2['msno'])==False]"
   ]
  },
  {
   "cell_type": "code",
   "execution_count": 34,
   "metadata": {},
   "outputs": [
    {
     "data": {
      "text/plain": [
       "msno        0\n",
       "is_churn    0\n",
       "dtype: int64"
      ]
     },
     "execution_count": 34,
     "metadata": {},
     "output_type": "execute_result"
    }
   ],
   "source": [
    "traindf2[traindf2['msno'].isin(nottrain2df['msno'])].count()"
   ]
  },
  {
   "cell_type": "code",
   "execution_count": 35,
   "metadata": {
    "collapsed": true
   },
   "outputs": [],
   "source": [
    "# train2 와 train2에 없는 train1 값 합침 \n",
    "trainAlldf = pd.concat([nottrain2df, traindf2])"
   ]
  },
  {
   "cell_type": "code",
   "execution_count": 36,
   "metadata": {},
   "outputs": [
    {
     "name": "stdout",
     "output_type": "stream",
     "text": [
      "<class 'pandas.core.frame.DataFrame'>\n",
      "Int64Index: 1082190 entries, 0 to 970959\n",
      "Data columns (total 2 columns):\n",
      "msno        1082190 non-null object\n",
      "is_churn    1082190 non-null int64\n",
      "dtypes: int64(1), object(1)\n",
      "memory usage: 24.8+ MB\n"
     ]
    }
   ],
   "source": [
    "trainAlldf.info()"
   ]
  },
  {
   "cell_type": "code",
   "execution_count": null,
   "metadata": {},
   "outputs": [],
   "source": [
    "df[df['msno'].isin(trainAlldf['msno'])==False].head()"
   ]
  },
  {
   "cell_type": "code",
   "execution_count": 38,
   "metadata": {},
   "outputs": [
    {
     "data": {
      "text/html": [
       "<div>\n",
       "<style>\n",
       "    .dataframe thead tr:only-child th {\n",
       "        text-align: right;\n",
       "    }\n",
       "\n",
       "    .dataframe thead th {\n",
       "        text-align: left;\n",
       "    }\n",
       "\n",
       "    .dataframe tbody tr th {\n",
       "        vertical-align: top;\n",
       "    }\n",
       "</style>\n",
       "<table border=\"1\" class=\"dataframe\">\n",
       "  <thead>\n",
       "    <tr style=\"text-align: right;\">\n",
       "      <th></th>\n",
       "      <th>msno</th>\n",
       "      <th>is_churn</th>\n",
       "    </tr>\n",
       "  </thead>\n",
       "  <tbody>\n",
       "  </tbody>\n",
       "</table>\n",
       "</div>"
      ],
      "text/plain": [
       "Empty DataFrame\n",
       "Columns: [msno, is_churn]\n",
       "Index: []"
      ]
     },
     "execution_count": 38,
     "metadata": {},
     "output_type": "execute_result"
    }
   ],
   "source": [
    "trainAlldf[trainAlldf['msno']=='Rb9UwLQTrxzBVwCB6+bCcSQWZ9JiNLC9dXtM1oEsZA8=']"
   ]
  },
  {
   "cell_type": "markdown",
   "metadata": {},
   "source": [
    "#### 확인 \n",
    "Member 오리지널 데이터와 합쳐진 데이터 확인"
   ]
  },
  {
   "cell_type": "code",
   "execution_count": 39,
   "metadata": {
    "collapsed": true
   },
   "outputs": [],
   "source": [
    "ex = trainAlldf[trainAlldf['msno'].isin(df['msno'])==False]"
   ]
  },
  {
   "cell_type": "code",
   "execution_count": 40,
   "metadata": {},
   "outputs": [
    {
     "data": {
      "text/plain": [
       "msno        120759\n",
       "is_churn    120759\n",
       "dtype: int64"
      ]
     },
     "execution_count": 40,
     "metadata": {},
     "output_type": "execute_result"
    }
   ],
   "source": [
    "ex.count()"
   ]
  },
  {
   "cell_type": "code",
   "execution_count": 41,
   "metadata": {},
   "outputs": [
    {
     "data": {
      "text/plain": [
       "True"
      ]
     },
     "execution_count": 41,
     "metadata": {},
     "output_type": "execute_result"
    }
   ],
   "source": [
    "ex['msno'].is_unique"
   ]
  },
  {
   "cell_type": "code",
   "execution_count": 42,
   "metadata": {
    "collapsed": true
   },
   "outputs": [],
   "source": [
    "trainNmem = trainAlldf[trainAlldf['msno'].isin(df['msno'])]"
   ]
  },
  {
   "cell_type": "code",
   "execution_count": 43,
   "metadata": {},
   "outputs": [
    {
     "name": "stdout",
     "output_type": "stream",
     "text": [
      "<class 'pandas.core.frame.DataFrame'>\n",
      "Int64Index: 961431 entries, 0 to 970958\n",
      "Data columns (total 2 columns):\n",
      "msno        961431 non-null object\n",
      "is_churn    961431 non-null int64\n",
      "dtypes: int64(1), object(1)\n",
      "memory usage: 22.0+ MB\n"
     ]
    }
   ],
   "source": [
    "trainNmem.info()"
   ]
  },
  {
   "cell_type": "code",
   "execution_count": 44,
   "metadata": {
    "collapsed": true
   },
   "outputs": [],
   "source": [
    "ex2 = df[df['msno'].isin(trainAlldf['msno'])==False]"
   ]
  },
  {
   "cell_type": "code",
   "execution_count": 45,
   "metadata": {},
   "outputs": [
    {
     "data": {
      "text/plain": [
       "msno                      5808042\n",
       "city                      5808042\n",
       "bd                        5808042\n",
       "gender                    1897899\n",
       "registered_via            5808042\n",
       "registration_init_time    5808042\n",
       "dtype: int64"
      ]
     },
     "execution_count": 45,
     "metadata": {},
     "output_type": "execute_result"
    }
   ],
   "source": [
    "ex2.count()"
   ]
  },
  {
   "cell_type": "markdown",
   "metadata": {},
   "source": [
    "## Member merge Train "
   ]
  },
  {
   "cell_type": "code",
   "execution_count": 43,
   "metadata": {
    "collapsed": true
   },
   "outputs": [],
   "source": [
    "mtdf = pd.merge(trainAlldf, df, how='left')"
   ]
  },
  {
   "cell_type": "code",
   "execution_count": 44,
   "metadata": {},
   "outputs": [
    {
     "name": "stdout",
     "output_type": "stream",
     "text": [
      "<class 'pandas.core.frame.DataFrame'>\n",
      "Int64Index: 1082190 entries, 0 to 1082189\n",
      "Data columns (total 7 columns):\n",
      "msno                      1082190 non-null object\n",
      "is_churn                  1082190 non-null int64\n",
      "city                      961431 non-null float64\n",
      "bd                        961431 non-null float64\n",
      "gender                    442069 non-null object\n",
      "registered_via            961431 non-null float64\n",
      "registration_init_time    961431 non-null datetime64[ns]\n",
      "dtypes: datetime64[ns](1), float64(3), int64(1), object(2)\n",
      "memory usage: 66.1+ MB\n"
     ]
    }
   ],
   "source": [
    "mtdf.info()"
   ]
  },
  {
   "cell_type": "code",
   "execution_count": null,
   "metadata": {
    "scrolled": true
   },
   "outputs": [],
   "source": [
    "mtdf.head()"
   ]
  },
  {
   "cell_type": "code",
   "execution_count": null,
   "metadata": {},
   "outputs": [],
   "source": [
    "mtdf.tail()"
   ]
  },
  {
   "cell_type": "code",
   "execution_count": 47,
   "metadata": {},
   "outputs": [
    {
     "data": {
      "text/plain": [
       "msno                      120759\n",
       "is_churn                  120759\n",
       "city                           0\n",
       "bd                             0\n",
       "gender                         0\n",
       "registered_via                 0\n",
       "registration_init_time         0\n",
       "dtype: int64"
      ]
     },
     "execution_count": 47,
     "metadata": {},
     "output_type": "execute_result"
    }
   ],
   "source": [
    "mtdf[mtdf['city'].isnull()].count()"
   ]
  },
  {
   "cell_type": "code",
   "execution_count": 48,
   "metadata": {},
   "outputs": [
    {
     "data": {
      "text/plain": [
       "True"
      ]
     },
     "execution_count": 48,
     "metadata": {},
     "output_type": "execute_result"
    }
   ],
   "source": [
    "mtdf['msno'].is_unique"
   ]
  },
  {
   "cell_type": "code",
   "execution_count": 49,
   "metadata": {
    "scrolled": true
   },
   "outputs": [
    {
     "data": {
      "text/html": [
       "<div>\n",
       "<style>\n",
       "    .dataframe thead tr:only-child th {\n",
       "        text-align: right;\n",
       "    }\n",
       "\n",
       "    .dataframe thead th {\n",
       "        text-align: left;\n",
       "    }\n",
       "\n",
       "    .dataframe tbody tr th {\n",
       "        vertical-align: top;\n",
       "    }\n",
       "</style>\n",
       "<table border=\"1\" class=\"dataframe\">\n",
       "  <thead>\n",
       "    <tr style=\"text-align: right;\">\n",
       "      <th></th>\n",
       "      <th>msno</th>\n",
       "      <th>is_churn</th>\n",
       "    </tr>\n",
       "  </thead>\n",
       "  <tbody>\n",
       "  </tbody>\n",
       "</table>\n",
       "</div>"
      ],
      "text/plain": [
       "Empty DataFrame\n",
       "Columns: [msno, is_churn]\n",
       "Index: []"
      ]
     },
     "execution_count": 49,
     "metadata": {},
     "output_type": "execute_result"
    }
   ],
   "source": [
    "traindf2[traindf2['msno']=='%%%%']"
   ]
  },
  {
   "cell_type": "code",
   "execution_count": 53,
   "metadata": {
    "collapsed": true
   },
   "outputs": [],
   "source": [
    "mtdf.to_csv(\"memTrain.csv\")"
   ]
  },
  {
   "cell_type": "markdown",
   "metadata": {},
   "source": [
    "------------------------\n",
    "test "
   ]
  },
  {
   "cell_type": "code",
   "execution_count": null,
   "metadata": {},
   "outputs": [],
   "source": [
    "testdf1 = pd.read_csv(\"./rowdata/sample_submission_zero.csv/sample_submission_zero.csv\")\n",
    "testdf1.head()"
   ]
  },
  {
   "cell_type": "code",
   "execution_count": null,
   "metadata": {},
   "outputs": [],
   "source": [
    "testdf2 = pd.read_csv(\"./rowdata/sample_submission_v2.csv/sample_submission_v2.csv\")\n",
    "testdf2.head()"
   ]
  },
  {
   "cell_type": "code",
   "execution_count": 74,
   "metadata": {},
   "outputs": [
    {
     "name": "stdout",
     "output_type": "stream",
     "text": [
      "<class 'pandas.core.frame.DataFrame'>\n",
      "RangeIndex: 970960 entries, 0 to 970959\n",
      "Data columns (total 2 columns):\n",
      "msno        970960 non-null object\n",
      "is_churn    970960 non-null int64\n",
      "dtypes: int64(1), object(1)\n",
      "memory usage: 14.8+ MB\n",
      "<class 'pandas.core.frame.DataFrame'>\n",
      "RangeIndex: 907471 entries, 0 to 907470\n",
      "Data columns (total 2 columns):\n",
      "msno        907471 non-null object\n",
      "is_churn    907471 non-null int64\n",
      "dtypes: int64(1), object(1)\n",
      "memory usage: 13.8+ MB\n"
     ]
    }
   ],
   "source": [
    "testdf1.info()\n",
    "testdf2.info()"
   ]
  },
  {
   "cell_type": "markdown",
   "metadata": {},
   "source": [
    "------------------------ "
   ]
  },
  {
   "cell_type": "markdown",
   "metadata": {},
   "source": [
    "## Transaction Data"
   ]
  },
  {
   "cell_type": "code",
   "execution_count": null,
   "metadata": {},
   "outputs": [],
   "source": [
    "tsdf = dd.read_csv(\"./rowdata/tran_merge.csv\")\n",
    "tsdf.head()"
   ]
  },
  {
   "cell_type": "code",
   "execution_count": null,
   "metadata": {},
   "outputs": [],
   "source": [
    "del tsdf['Unnamed: 0']"
   ]
  },
  {
   "cell_type": "code",
   "execution_count": null,
   "metadata": {},
   "outputs": [],
   "source": [
    "tsdf.head()"
   ]
  },
  {
   "cell_type": "code",
   "execution_count": null,
   "metadata": {},
   "outputs": [],
   "source": [
    "#tsdf = tsdf.compute()"
   ]
  },
  {
   "cell_type": "code",
   "execution_count": null,
   "metadata": {},
   "outputs": [],
   "source": [
    "mgalldd = tsdf.merge(mtdf, how='left', left_on='msno', right_on='msno')"
   ]
  },
  {
   "cell_type": "code",
   "execution_count": null,
   "metadata": {},
   "outputs": [],
   "source": [
    "mgalldd.head()"
   ]
  },
  {
   "cell_type": "code",
   "execution_count": 59,
   "metadata": {},
   "outputs": [
    {
     "data": {
      "text/plain": [
       "msno                      22975416\n",
       "payment_method_id         22975416\n",
       "payment_plan_days         22975416\n",
       "plan_list_price           22975416\n",
       "actual_amount_paid        22975416\n",
       "is_auto_renew             22975416\n",
       "transaction_date          22975416\n",
       "membership_expire_date    22975416\n",
       "is_cancel                 22975416\n",
       "is_churn                  17629560\n",
       "city                      15898098\n",
       "bd                        15898098\n",
       "gender                     7744552\n",
       "registered_via            15898098\n",
       "registration_init_time    15898098\n",
       "dtype: int64"
      ]
     },
     "execution_count": 59,
     "metadata": {},
     "output_type": "execute_result"
    }
   ],
   "source": [
    "mgalldd.count().compute()"
   ]
  },
  {
   "cell_type": "code",
   "execution_count": 73,
   "metadata": {},
   "outputs": [
    {
     "name": "stderr",
     "output_type": "stream",
     "text": [
      "C:\\Anaconda3\\lib\\site-packages\\numpy\\lib\\function_base.py:4116: RuntimeWarning: Invalid value encountered in percentile\n",
      "  interpolation=interpolation)\n"
     ]
    },
    {
     "data": {
      "text/html": [
       "<div>\n",
       "<style>\n",
       "    .dataframe thead tr:only-child th {\n",
       "        text-align: right;\n",
       "    }\n",
       "\n",
       "    .dataframe thead th {\n",
       "        text-align: left;\n",
       "    }\n",
       "\n",
       "    .dataframe tbody tr th {\n",
       "        vertical-align: top;\n",
       "    }\n",
       "</style>\n",
       "<table border=\"1\" class=\"dataframe\">\n",
       "  <thead>\n",
       "    <tr style=\"text-align: right;\">\n",
       "      <th></th>\n",
       "      <th>payment_method_id</th>\n",
       "      <th>payment_plan_days</th>\n",
       "      <th>plan_list_price</th>\n",
       "      <th>actual_amount_paid</th>\n",
       "      <th>is_auto_renew</th>\n",
       "      <th>transaction_date</th>\n",
       "      <th>membership_expire_date</th>\n",
       "      <th>is_cancel</th>\n",
       "      <th>is_churn</th>\n",
       "      <th>city</th>\n",
       "      <th>bd</th>\n",
       "      <th>registered_via</th>\n",
       "    </tr>\n",
       "  </thead>\n",
       "  <tbody>\n",
       "    <tr>\n",
       "      <th>count</th>\n",
       "      <td>2.297542e+07</td>\n",
       "      <td>2.297542e+07</td>\n",
       "      <td>2.297542e+07</td>\n",
       "      <td>2.297542e+07</td>\n",
       "      <td>2.297542e+07</td>\n",
       "      <td>2.297542e+07</td>\n",
       "      <td>2.297542e+07</td>\n",
       "      <td>2.297542e+07</td>\n",
       "      <td>1.762956e+07</td>\n",
       "      <td>1.589810e+07</td>\n",
       "      <td>1.589810e+07</td>\n",
       "      <td>1.589810e+07</td>\n",
       "    </tr>\n",
       "    <tr>\n",
       "      <th>mean</th>\n",
       "      <td>3.886963e+01</td>\n",
       "      <td>3.349921e+01</td>\n",
       "      <td>1.487280e+02</td>\n",
       "      <td>1.506711e+02</td>\n",
       "      <td>8.477943e-01</td>\n",
       "      <td>2.015828e+07</td>\n",
       "      <td>2.015940e+07</td>\n",
       "      <td>3.879808e-02</td>\n",
       "      <td>8.728261e-02</td>\n",
       "      <td>6.323378e+00</td>\n",
       "      <td>1.496933e+01</td>\n",
       "      <td>7.056248e+00</td>\n",
       "    </tr>\n",
       "    <tr>\n",
       "      <th>std</th>\n",
       "      <td>3.624264e+00</td>\n",
       "      <td>3.985840e+01</td>\n",
       "      <td>1.704627e+02</td>\n",
       "      <td>1.714726e+02</td>\n",
       "      <td>3.592202e-01</td>\n",
       "      <td>6.627944e+03</td>\n",
       "      <td>8.127187e+03</td>\n",
       "      <td>1.931134e-01</td>\n",
       "      <td>2.822488e-01</td>\n",
       "      <td>6.515471e+00</td>\n",
       "      <td>2.129768e+01</td>\n",
       "      <td>1.836186e+00</td>\n",
       "    </tr>\n",
       "    <tr>\n",
       "      <th>min</th>\n",
       "      <td>1.000000e+00</td>\n",
       "      <td>0.000000e+00</td>\n",
       "      <td>0.000000e+00</td>\n",
       "      <td>0.000000e+00</td>\n",
       "      <td>0.000000e+00</td>\n",
       "      <td>2.015010e+07</td>\n",
       "      <td>1.970010e+07</td>\n",
       "      <td>0.000000e+00</td>\n",
       "      <td>0.000000e+00</td>\n",
       "      <td>1.000000e+00</td>\n",
       "      <td>-3.152000e+03</td>\n",
       "      <td>3.000000e+00</td>\n",
       "    </tr>\n",
       "    <tr>\n",
       "      <th>25%</th>\n",
       "      <td>3.800000e+01</td>\n",
       "      <td>3.000000e+01</td>\n",
       "      <td>9.900000e+01</td>\n",
       "      <td>9.900000e+01</td>\n",
       "      <td>1.000000e+00</td>\n",
       "      <td>2.016032e+07</td>\n",
       "      <td>2.016043e+07</td>\n",
       "      <td>0.000000e+00</td>\n",
       "      <td>NaN</td>\n",
       "      <td>NaN</td>\n",
       "      <td>NaN</td>\n",
       "      <td>NaN</td>\n",
       "    </tr>\n",
       "    <tr>\n",
       "      <th>50%</th>\n",
       "      <td>4.100000e+01</td>\n",
       "      <td>3.000000e+01</td>\n",
       "      <td>1.490000e+02</td>\n",
       "      <td>1.490000e+02</td>\n",
       "      <td>1.000000e+00</td>\n",
       "      <td>2.016092e+07</td>\n",
       "      <td>2.016103e+07</td>\n",
       "      <td>0.000000e+00</td>\n",
       "      <td>NaN</td>\n",
       "      <td>NaN</td>\n",
       "      <td>NaN</td>\n",
       "      <td>NaN</td>\n",
       "    </tr>\n",
       "    <tr>\n",
       "      <th>75%</th>\n",
       "      <td>4.100000e+01</td>\n",
       "      <td>3.000000e+01</td>\n",
       "      <td>1.490000e+02</td>\n",
       "      <td>1.490000e+02</td>\n",
       "      <td>1.000000e+00</td>\n",
       "      <td>2.017032e+07</td>\n",
       "      <td>2.017050e+07</td>\n",
       "      <td>0.000000e+00</td>\n",
       "      <td>NaN</td>\n",
       "      <td>NaN</td>\n",
       "      <td>NaN</td>\n",
       "      <td>NaN</td>\n",
       "    </tr>\n",
       "    <tr>\n",
       "      <th>max</th>\n",
       "      <td>4.100000e+01</td>\n",
       "      <td>4.500000e+02</td>\n",
       "      <td>2.000000e+03</td>\n",
       "      <td>2.000000e+03</td>\n",
       "      <td>1.000000e+00</td>\n",
       "      <td>2.017033e+07</td>\n",
       "      <td>2.036102e+07</td>\n",
       "      <td>1.000000e+00</td>\n",
       "      <td>1.000000e+00</td>\n",
       "      <td>2.200000e+01</td>\n",
       "      <td>2.016000e+03</td>\n",
       "      <td>1.300000e+01</td>\n",
       "    </tr>\n",
       "  </tbody>\n",
       "</table>\n",
       "</div>"
      ],
      "text/plain": [
       "       payment_method_id  payment_plan_days  plan_list_price  \\\n",
       "count       2.297542e+07       2.297542e+07     2.297542e+07   \n",
       "mean        3.886963e+01       3.349921e+01     1.487280e+02   \n",
       "std         3.624264e+00       3.985840e+01     1.704627e+02   \n",
       "min         1.000000e+00       0.000000e+00     0.000000e+00   \n",
       "25%         3.800000e+01       3.000000e+01     9.900000e+01   \n",
       "50%         4.100000e+01       3.000000e+01     1.490000e+02   \n",
       "75%         4.100000e+01       3.000000e+01     1.490000e+02   \n",
       "max         4.100000e+01       4.500000e+02     2.000000e+03   \n",
       "\n",
       "       actual_amount_paid  is_auto_renew  transaction_date  \\\n",
       "count        2.297542e+07   2.297542e+07      2.297542e+07   \n",
       "mean         1.506711e+02   8.477943e-01      2.015828e+07   \n",
       "std          1.714726e+02   3.592202e-01      6.627944e+03   \n",
       "min          0.000000e+00   0.000000e+00      2.015010e+07   \n",
       "25%          9.900000e+01   1.000000e+00      2.016032e+07   \n",
       "50%          1.490000e+02   1.000000e+00      2.016092e+07   \n",
       "75%          1.490000e+02   1.000000e+00      2.017032e+07   \n",
       "max          2.000000e+03   1.000000e+00      2.017033e+07   \n",
       "\n",
       "       membership_expire_date     is_cancel      is_churn          city  \\\n",
       "count            2.297542e+07  2.297542e+07  1.762956e+07  1.589810e+07   \n",
       "mean             2.015940e+07  3.879808e-02  8.728261e-02  6.323378e+00   \n",
       "std              8.127187e+03  1.931134e-01  2.822488e-01  6.515471e+00   \n",
       "min              1.970010e+07  0.000000e+00  0.000000e+00  1.000000e+00   \n",
       "25%              2.016043e+07  0.000000e+00           NaN           NaN   \n",
       "50%              2.016103e+07  0.000000e+00           NaN           NaN   \n",
       "75%              2.017050e+07  0.000000e+00           NaN           NaN   \n",
       "max              2.036102e+07  1.000000e+00  1.000000e+00  2.200000e+01   \n",
       "\n",
       "                 bd  registered_via  \n",
       "count  1.589810e+07    1.589810e+07  \n",
       "mean   1.496933e+01    7.056248e+00  \n",
       "std    2.129768e+01    1.836186e+00  \n",
       "min   -3.152000e+03    3.000000e+00  \n",
       "25%             NaN             NaN  \n",
       "50%             NaN             NaN  \n",
       "75%             NaN             NaN  \n",
       "max    2.016000e+03    1.300000e+01  "
      ]
     },
     "execution_count": 73,
     "metadata": {},
     "output_type": "execute_result"
    }
   ],
   "source": [
    "mgalldd.describe().compute()"
   ]
  },
  {
   "cell_type": "code",
   "execution_count": 74,
   "metadata": {
    "collapsed": true
   },
   "outputs": [],
   "source": [
    "mgallcity = mgalldd[mgalldd['city'].isnull()==False]"
   ]
  },
  {
   "cell_type": "code",
   "execution_count": null,
   "metadata": {},
   "outputs": [],
   "source": [
    "mgallcity.head()"
   ]
  },
  {
   "cell_type": "code",
   "execution_count": 76,
   "metadata": {
    "scrolled": true
   },
   "outputs": [
    {
     "data": {
      "text/plain": [
       "msno                      15898098\n",
       "payment_method_id         15898098\n",
       "payment_plan_days         15898098\n",
       "plan_list_price           15898098\n",
       "actual_amount_paid        15898098\n",
       "is_auto_renew             15898098\n",
       "transaction_date          15898098\n",
       "membership_expire_date    15898098\n",
       "is_cancel                 15898098\n",
       "is_churn                  15898098\n",
       "city                      15898098\n",
       "bd                        15898098\n",
       "gender                     7744552\n",
       "registered_via            15898098\n",
       "registration_init_time    15898098\n",
       "dtype: int64"
      ]
     },
     "execution_count": 76,
     "metadata": {},
     "output_type": "execute_result"
    }
   ],
   "source": [
    "mgallcity.count().compute()"
   ]
  },
  {
   "cell_type": "code",
   "execution_count": 77,
   "metadata": {
    "collapsed": true
   },
   "outputs": [],
   "source": [
    "mgalldf = mgallcity.compute() "
   ]
  },
  {
   "cell_type": "code",
   "execution_count": 78,
   "metadata": {
    "collapsed": true
   },
   "outputs": [],
   "source": [
    "mgalldf.to_csv('memNall.csv')"
   ]
  },
  {
   "cell_type": "code",
   "execution_count": null,
   "metadata": {
    "scrolled": true
   },
   "outputs": [],
   "source": [
    "mgalldf.head()"
   ]
  },
  {
   "cell_type": "markdown",
   "metadata": {},
   "source": [
    "-------"
   ]
  },
  {
   "cell_type": "markdown",
   "metadata": {},
   "source": [
    "## Member 데이터 확인용 "
   ]
  },
  {
   "cell_type": "code",
   "execution_count": null,
   "metadata": {},
   "outputs": [],
   "source": [
    "gs = pd.read_csv(\"./member_v1.csv\")\n",
    "gs.head(10)"
   ]
  },
  {
   "cell_type": "code",
   "execution_count": 61,
   "metadata": {},
   "outputs": [
    {
     "name": "stdout",
     "output_type": "stream",
     "text": [
      "<class 'pandas.core.frame.DataFrame'>\n",
      "RangeIndex: 1082190 entries, 0 to 1082189\n",
      "Data columns (total 9 columns):\n",
      "Unnamed: 0                1082190 non-null int64\n",
      "msno                      1082190 non-null object\n",
      "city                      961431 non-null float64\n",
      "bd                        961431 non-null float64\n",
      "gender                    442069 non-null object\n",
      "registered_via            961431 non-null float64\n",
      "registration_init_time    961431 non-null float64\n",
      "old.churn                 992931 non-null float64\n",
      "new.churn                 970960 non-null float64\n",
      "dtypes: float64(6), int64(1), object(2)\n",
      "memory usage: 74.3+ MB\n"
     ]
    }
   ],
   "source": [
    "gs.info()"
   ]
  },
  {
   "cell_type": "code",
   "execution_count": 75,
   "metadata": {
    "collapsed": true
   },
   "outputs": [],
   "source": [
    "del gs['Unnamed: 0']"
   ]
  },
  {
   "cell_type": "code",
   "execution_count": null,
   "metadata": {},
   "outputs": [],
   "source": [
    "gs.head()"
   ]
  },
  {
   "cell_type": "code",
   "execution_count": null,
   "metadata": {
    "collapsed": true
   },
   "outputs": [],
   "source": []
  }
 ],
 "metadata": {
  "kernelspec": {
   "display_name": "Python 3",
   "language": "python",
   "name": "python3"
  },
  "language_info": {
   "codemirror_mode": {
    "name": "ipython",
    "version": 3
   },
   "file_extension": ".py",
   "mimetype": "text/x-python",
   "name": "python",
   "nbconvert_exporter": "python",
   "pygments_lexer": "ipython3",
   "version": "3.5.2"
  }
 },
 "nbformat": 4,
 "nbformat_minor": 2
}
