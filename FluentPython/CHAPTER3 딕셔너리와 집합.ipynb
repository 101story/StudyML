{
 "cells": [
  {
   "cell_type": "code",
   "execution_count": 20,
   "metadata": {},
   "outputs": [],
   "source": [
    "from IPython.core.interactiveshell import InteractiveShell\n",
    "InteractiveShell.ast_node_interactivity = \"all\" #'last' 기본값"
   ]
  },
  {
   "cell_type": "markdown",
   "metadata": {},
   "source": [
    "## dict 클래스\n",
    "- 모듈 네임스페이스, 클래스 및 인스턴스 속성, 함수의 키워드 인수 등 \n",
    "- __builtins__.__dict__\n",
    "- 해시테이블 \n",
    "\n",
    "\n",
    "1. 공통으로 사용되는 딕셔너리 메서드\n",
    "2. 없는 키에 대한 특별처리 \n",
    "3. 표준라이브러리에서 제공하는 다양한 딕셔너리 클래스 \n",
    "4. set 과 frozenset 형\n",
    "5. 해시 테이블의 작동 방식\n",
    "6. 해시 테이블의 의미 "
   ]
  },
  {
   "cell_type": "code",
   "execution_count": 1,
   "metadata": {},
   "outputs": [
    {
     "data": {
      "text/plain": [
       "True"
      ]
     },
     "execution_count": 1,
     "metadata": {},
     "output_type": "execute_result"
    }
   ],
   "source": [
    "my_dict = {}\n",
    "import collections\n",
    "isinstance(my_dict, collections.abc.Mapping)"
   ]
  },
  {
   "cell_type": "markdown",
   "metadata": {},
   "source": [
    "collections.abc 모듈은 dict 및 이와 유사한 자료형의 인터페이스를 정의하기 위해 Mapping 및 MutableMapping 추상 베이스 클래스를 제공 (ABC)"
   ]
  },
  {
   "cell_type": "markdown",
   "metadata": {},
   "source": [
    "**해시 가능 hashable**\n",
    "\n",
    "수명 주기 동안 결코 변하지 않는 해시값을 가지고 있고 (__hash__()) 다른 객체와 비교할 수 있으면 (__eq__()) 해시 가능하다. 원자적 불변형 str, byte, 수치형 은 모두 해시가능하다. "
   ]
  },
  {
   "cell_type": "code",
   "execution_count": 10,
   "metadata": {},
   "outputs": [
    {
     "data": {
      "text/plain": [
       "8027212646858338501"
      ]
     },
     "execution_count": 10,
     "metadata": {},
     "output_type": "execute_result"
    }
   ],
   "source": [
    "tt = (1,2,(30,40))\n",
    "hash(tt)"
   ]
  },
  {
   "cell_type": "code",
   "execution_count": 11,
   "metadata": {},
   "outputs": [
    {
     "ename": "TypeError",
     "evalue": "unhashable type: 'list'",
     "output_type": "error",
     "traceback": [
      "\u001b[0;31m---------------------------------------------------------------------------\u001b[0m",
      "\u001b[0;31mTypeError\u001b[0m                                 Traceback (most recent call last)",
      "\u001b[0;32m<ipython-input-11-f7ea546b2bf3>\u001b[0m in \u001b[0;36m<module>\u001b[0;34m()\u001b[0m\n\u001b[1;32m      1\u001b[0m \u001b[0mtl\u001b[0m \u001b[0;34m=\u001b[0m \u001b[0;34m(\u001b[0m\u001b[0;36m1\u001b[0m\u001b[0;34m,\u001b[0m\u001b[0;36m2\u001b[0m\u001b[0;34m,\u001b[0m\u001b[0;34m[\u001b[0m\u001b[0;36m30\u001b[0m\u001b[0;34m,\u001b[0m\u001b[0;36m40\u001b[0m\u001b[0;34m]\u001b[0m\u001b[0;34m)\u001b[0m\u001b[0;34m\u001b[0m\u001b[0m\n\u001b[0;32m----> 2\u001b[0;31m \u001b[0mhash\u001b[0m\u001b[0;34m(\u001b[0m\u001b[0mtl\u001b[0m\u001b[0;34m)\u001b[0m\u001b[0;34m\u001b[0m\u001b[0m\n\u001b[0m",
      "\u001b[0;31mTypeError\u001b[0m: unhashable type: 'list'"
     ]
    }
   ],
   "source": [
    "tl = (1,2,[30,40])\n",
    "hash(tl)"
   ]
  },
  {
   "cell_type": "code",
   "execution_count": 12,
   "metadata": {},
   "outputs": [
    {
     "data": {
      "text/plain": [
       "-4118419923444501110"
      ]
     },
     "execution_count": 12,
     "metadata": {},
     "output_type": "execute_result"
    }
   ],
   "source": [
    "tf = (1,2,frozenset([30,40]))\n",
    "hash(tf)"
   ]
  },
  {
   "cell_type": "markdown",
   "metadata": {},
   "source": [
    "### dict 구현 하는 방법"
   ]
  },
  {
   "cell_type": "code",
   "execution_count": 13,
   "metadata": {},
   "outputs": [
    {
     "data": {
      "text/plain": [
       "True"
      ]
     },
     "execution_count": 13,
     "metadata": {},
     "output_type": "execute_result"
    }
   ],
   "source": [
    "a = dict(one=1, two=2, three=3)\n",
    "b= {'one': 1, 'two': 2, 'three': 3}\n",
    "c= dict(zip(['one', 'two', 'three'], [1, 2, 3]))\n",
    "d= dict([('two', 2), ('one', 1), ('three', 3)])\n",
    "e= dict({'three': 3, 'one': 1, 'two': 2})\n",
    "a== b == c == d == e"
   ]
  },
  {
   "cell_type": "markdown",
   "metadata": {},
   "source": [
    "## 지능형 딕셔너리 \n",
    "dict comprehensions\n",
    "\n",
    "listcomp 지능형 리스트 와 genexps 제너레이터 표현식 <br>\n",
    "모든 반복형 객체에서 키-값 쌍을 생성함으로써 딕셔너리 객체를 만들 수 있다. "
   ]
  },
  {
   "cell_type": "code",
   "execution_count": 21,
   "metadata": {},
   "outputs": [
    {
     "data": {
      "text/plain": [
       "{'Bangladesh': 880,\n",
       " 'Brazil': 55,\n",
       " 'China': 86,\n",
       " 'India': 91,\n",
       " 'Indonesia': 62,\n",
       " 'Japan': 81,\n",
       " 'Nigeria': 234,\n",
       " 'Pakistan': 92,\n",
       " 'Russia': 7,\n",
       " 'United States': 1}"
      ]
     },
     "execution_count": 21,
     "metadata": {},
     "output_type": "execute_result"
    },
    {
     "data": {
      "text/plain": [
       "{1: 'UNITED STATES', 7: 'RUSSIA', 55: 'BRAZIL', 62: 'INDONESIA'}"
      ]
     },
     "execution_count": 21,
     "metadata": {},
     "output_type": "execute_result"
    }
   ],
   "source": [
    "DIAL_CODES = [\n",
    "(86, 'China'),\n",
    "(91, 'India'),\n",
    "(1, 'United States'),\n",
    "(62, 'Indonesia'),\n",
    "(55, 'Brazil'),\n",
    "(92, 'Pakistan'),\n",
    "(880, 'Bangladesh'),\n",
    "(234, 'Nigeria'),\n",
    "(7, 'Russia'),\n",
    "(81, 'Japan'),\n",
    "]\n",
    "country_code = {country: code for code, country in DIAL_CODES}\n",
    "country_code\n",
    "{code: country.upper() for country, code in country_code.items() if code<66}"
   ]
  },
  {
   "cell_type": "markdown",
   "metadata": {},
   "source": [
    "## 공통적인 매핑 메서드\n",
    "- dict, defaultdict, orderedDict 클래스 가 가지는 공통 메서드"
   ]
  },
  {
   "cell_type": "markdown",
   "metadata": {},
   "source": [
    "### setdefault() \n",
    "존재하지 않는 키 k로 d[k]를 접근하면 dict 는 오류를 발생시킨다. d.get(k, default) 를 사용한다. \n",
    "\n",
    "setdefault(k, default) : k in d 가 참이면 d[k] 를 반환 아니면 d[k] = default 를 설정하고 값을 반환"
   ]
  },
  {
   "cell_type": "code",
   "execution_count": null,
   "metadata": {},
   "outputs": [],
   "source": [
    "import sys\n",
    "import re\n",
    "\n",
    "WORD_RE = re.compile('\\w+')\n",
    "index = {}\n",
    "with open(sys.argv[1], encoding='utf-8') as fp:\n",
    "    for line_no, line in enumerate(fp, 1):\n",
    "        for match in WORD_RE.finditer(line):\n",
    "            word = match.group()\n",
    "            column_no = match.start()+1\n",
    "            location = (line_no, column_no)    \n",
    "            # 단어가 있으면 가져오고 없으면 빈배열을 가져옴 \n",
    "            # occurrences = index.get(word, [])\n",
    "            # 새로만든 location 을 추가\n",
    "            # occurrences.append(location)\n",
    "            # index 한번 더 거색해 변경된 occurences 를 index 에 넣는다.\n",
    "            # index[word] = occurrences\n",
    "            # 한줄로\n",
    "            index.setdefault(word, []).append(location)\n",
    "    \n",
    "# print in alphabetical order\n",
    "for word in sorted(index, key=str.upper):\n",
    "    print(word, index[word])"
   ]
  },
  {
   "cell_type": "markdown",
   "metadata": {},
   "source": [
    "## 키 조회 \n",
    "검색할때 키가 존재 하지 않을때 특별한 값을 반환하는 매핑 방법 \n",
    "\n",
    "- 평범한 dict 대신 defaultdict 를 사용 \n",
    "- dict 등의 매핑현을 상속해서 __missing__() 메서드를 추가하는 방법 "
   ]
  },
  {
   "cell_type": "markdown",
   "metadata": {},
   "source": [
    "### defaultdict\n",
    "존재 하지 않는 키로 검색 시 요청에 따라 항복을 생성하도록 설정 "
   ]
  },
  {
   "cell_type": "code",
   "execution_count": null,
   "metadata": {},
   "outputs": [],
   "source": [
    "# 기본값을 생성하기 위해 사용되는 콜러블로 default_factory 객체 생성\n",
    "# list 생성자를 갖는 defaultdict 를 생성 \n",
    "collections.defaultdict(list)\n",
    "...\n",
    "location = (line_no, column_no)  \n",
    "index[word].append(locaton)\n",
    "# word 가 index 에 들어 있지 않으면 default_factory 를 호출해서 \n",
    "# 없는 값에 대한 항목을 생성하는데, 여기서 빈리스트를 생성해 index[word] 에 할당후 반환 \n"
   ]
  },
  {
   "cell_type": "markdown",
   "metadata": {},
   "source": [
    "### missing 메서드 \n",
    "dict 에는 정의되지 않았지만 dict 클래스를 상속하여 정의하면 dict.__getitem__() 메서드가 __missiog__() 메서드를 호출한다\n",
    "\n",
    "사용자 정의 매핑형을 만들 떄는 dict 보다 collections.UserDict 클래스를 상속하는 것이 낫다. 아래는 dict.__getitem__() 내장 메서드가 missing 메서드를 지원하는 것을 보여주기 위함 "
   ]
  },
  {
   "cell_type": "code",
   "execution_count": null,
   "metadata": {},
   "outputs": [],
   "source": [
    "class StrKeyDict0(dict):\n",
    "    \n",
    "    def __missing__(self, key):\n",
    "        # key 가 없으면 호출 \n",
    "        if isinstance(key, str):\n",
    "            # self[str(key)]가 str 키를 이용해서 getitem 호출 키가 없으면 다시 missing 을 호출해서 재귀에 빠질수 있다.\n",
    "            raise KeyError(key)\n",
    "        return self[str(key)]\n",
    "        \n",
    "    def get(self, key, default=None):\n",
    "        try:\n",
    "            return self[key]\n",
    "        except KeyError:\n",
    "            return default\n",
    "    \n",
    "    def __contains__(self, key):\n",
    "        # str(key) in self.keys() 호출하면 contains 메서드를 호출해 재귀에 빠질수 있다. \n",
    "        # key in self.keys() 를 같이 넣어 준다. \n",
    "        return key in self.keys() or str(key) in self.keys()\n"
   ]
  },
  {
   "cell_type": "markdown",
   "metadata": {},
   "source": [
    "## 그외 메핑형 \n",
    "- collections.OrderedDict\n",
    "키를 삽입한 순서대로 유지함ㅇ로써 항목을 반복하는 순서를 예측 \n",
    "- collections.ChinMap\n",
    "맵핑들의 목록을 담고 있으며 한꺼번에 모두 검색할 수 있따. \n",
    "- collections.Counter\n",
    "모든 키에 정수형 카우터를 갖고 있는 매핑. 기존 키를 생신하면 카운터가 늘어난다. \n",
    "- collections.UserDict \n",
    "표준 dic 처럼 작동하는 매핑을 순수 파이썬으로 구현\n",
    "\n",
    "## UserDict 상속\n",
    "userdict 는 dict 를 상속하지 않고 내부에 실제 항목을 담고 있는 data 라는 dict 객체를 가지고 있따. \n",
    "재귀적 호출으 ㄹ피할 수 있다. \n"
   ]
  },
  {
   "cell_type": "code",
   "execution_count": 24,
   "metadata": {},
   "outputs": [],
   "source": [
    "import collections\n",
    "\n",
    "class StrKeyDict(collections.UserDict):\n",
    "    \n",
    "    def __missing__(self, key):\n",
    "        if isinstance(key, str):\n",
    "            raise KeyError(key)\n",
    "        return self[str(key)]\n",
    "\n",
    "    def __contains__(self, key):\n",
    "        return str(key) in self.data\n",
    "    \n",
    "    # 모든 key 를 str 형으로 변환하므로 연산을 self.data에 위임할 때 더간단하다. \n",
    "    def __setitem__(self, key, item):\n",
    "        self.data[str(key)] = item"
   ]
  },
  {
   "cell_type": "markdown",
   "metadata": {},
   "source": [
    "- MutableMapping.update()\n",
    "다른 매핑이나 (키, 값) 쌍의 반복형 및 키워드 인수에서 객체를 로딩하기 위해 __init__()에 의해 사용 될 수도 있다. \n",
    "- Mapping.get()\n",
    "StrKeyDict0 에서는 __getitem__()과 일치하는 결과를 가져오기 위해 get() 구현해야 했지만 StrKeyDict 에서는 동일하게 구현된 mapping.get을 상속받는다. "
   ]
  },
  {
   "cell_type": "markdown",
   "metadata": {},
   "source": [
    "## 불변 매핑 \n",
    "거의다 매핑형은 가변이지만 사용자가 실수로 매핑을 변경하지 못하도록 보장하고 싶은 경우 \n",
    "\n",
    "mappingproxy 사용 \n"
   ]
  },
  {
   "cell_type": "code",
   "execution_count": 29,
   "metadata": {},
   "outputs": [
    {
     "data": {
      "text/plain": [
       "mappingproxy({1: 'A'})"
      ]
     },
     "execution_count": 29,
     "metadata": {},
     "output_type": "execute_result"
    },
    {
     "data": {
      "text/plain": [
       "'A'"
      ]
     },
     "execution_count": 29,
     "metadata": {},
     "output_type": "execute_result"
    }
   ],
   "source": [
    "from types import MappingProxyType\n",
    "\n",
    "d = {1: 'A'}\n",
    "d_proxy = MappingProxyType(d)\n",
    "d_proxy\n",
    "d_proxy[1]"
   ]
  },
  {
   "cell_type": "code",
   "execution_count": 27,
   "metadata": {},
   "outputs": [
    {
     "ename": "TypeError",
     "evalue": "'mappingproxy' object does not support item assignment",
     "output_type": "error",
     "traceback": [
      "\u001b[0;31m---------------------------------------------------------------------------\u001b[0m",
      "\u001b[0;31mTypeError\u001b[0m                                 Traceback (most recent call last)",
      "\u001b[0;32m<ipython-input-27-bc17a9a62754>\u001b[0m in \u001b[0;36m<module>\u001b[0;34m()\u001b[0m\n\u001b[0;32m----> 1\u001b[0;31m \u001b[0md_proxy\u001b[0m\u001b[0;34m[\u001b[0m\u001b[0;36m2\u001b[0m\u001b[0;34m]\u001b[0m \u001b[0;34m=\u001b[0m \u001b[0;34m'x'\u001b[0m\u001b[0;34m\u001b[0m\u001b[0m\n\u001b[0m",
      "\u001b[0;31mTypeError\u001b[0m: 'mappingproxy' object does not support item assignment"
     ]
    }
   ],
   "source": [
    "d_proxy[2] = 'x'"
   ]
  },
  {
   "cell_type": "code",
   "execution_count": 28,
   "metadata": {},
   "outputs": [
    {
     "data": {
      "text/plain": [
       "mappingproxy({1: 'A', 2: 'B'})"
      ]
     },
     "execution_count": 28,
     "metadata": {},
     "output_type": "execute_result"
    },
    {
     "data": {
      "text/plain": [
       "'B'"
      ]
     },
     "execution_count": 28,
     "metadata": {},
     "output_type": "execute_result"
    }
   ],
   "source": [
    "d[2] = 'B'\n",
    "d_proxy\n",
    "d_proxy[2]"
   ]
  },
  {
   "cell_type": "markdown",
   "metadata": {},
   "source": [
    "## 집합이론\n",
    "set, frozenset 중복 항목 제거 \n",
    "\n",
    "set 은 해시 불가 frozenset 은 해시 가능, frozenset 이 set에 들어갈 수 있다.\n"
   ]
  },
  {
   "cell_type": "code",
   "execution_count": 35,
   "metadata": {},
   "outputs": [
    {
     "data": {
      "text/plain": [
       "2"
      ]
     },
     "execution_count": 35,
     "metadata": {},
     "output_type": "execute_result"
    }
   ],
   "source": [
    "# set1안에 set2가 얼마나 있는지 알고 싶을 떄\n",
    "set1 = set([1,2,3,4])\n",
    "set2 = set([2,3,6])\n",
    "found = len(set1&set2)\n",
    "found"
   ]
  },
  {
   "cell_type": "markdown",
   "metadata": {},
   "source": [
    "### 집합 리터럴 \n",
    "공집합은 {1}와 같이 리터럴로 표기할 수 없으므로 반드시 set() 으로 표기"
   ]
  },
  {
   "cell_type": "code",
   "execution_count": 36,
   "metadata": {},
   "outputs": [
    {
     "data": {
      "text/plain": [
       "set"
      ]
     },
     "execution_count": 36,
     "metadata": {},
     "output_type": "execute_result"
    },
    {
     "data": {
      "text/plain": [
       "1"
      ]
     },
     "execution_count": 36,
     "metadata": {},
     "output_type": "execute_result"
    },
    {
     "data": {
      "text/plain": [
       "set()"
      ]
     },
     "execution_count": 36,
     "metadata": {},
     "output_type": "execute_result"
    }
   ],
   "source": [
    "s={1}\n",
    "type(s)\n",
    "s.pop()\n",
    "s"
   ]
  },
  {
   "cell_type": "markdown",
   "metadata": {},
   "source": [
    "{1,2,3} 같은 리터럴 집합 구문은 set([1,2,3]) 처럼 생성자를 호출하는 것보다 빠르고 가독성이 좋다. 생성자에 넣는것은 집합명을 검색하고, 리스트를 생성하고, 리스트를 생성자에 전달해야 하므로 느리고 반면 {} 는 build_set 이라는 특수 바이트코드를 실행한다. "
   ]
  },
  {
   "cell_type": "code",
   "execution_count": 37,
   "metadata": {},
   "outputs": [
    {
     "name": "stdout",
     "output_type": "stream",
     "text": [
      "  1           0 LOAD_CONST               0 (1)\n",
      "              3 BUILD_SET                1\n",
      "              6 RETURN_VALUE\n"
     ]
    }
   ],
   "source": [
    "from dis import dis\n",
    "dis('{1}')"
   ]
  },
  {
   "cell_type": "code",
   "execution_count": 38,
   "metadata": {},
   "outputs": [
    {
     "name": "stdout",
     "output_type": "stream",
     "text": [
      "  1           0 LOAD_NAME                0 (set)\n",
      "              3 LOAD_CONST               0 (1)\n",
      "              6 BUILD_LIST               1\n",
      "              9 CALL_FUNCTION            1 (1 positional, 0 keyword pair)\n",
      "             12 RETURN_VALUE\n"
     ]
    }
   ],
   "source": [
    "dis('set([1])')"
   ]
  },
  {
   "cell_type": "markdown",
   "metadata": {},
   "source": [
    "### 지능형 집합\n",
    "set comprehension (setcomp) "
   ]
  },
  {
   "cell_type": "code",
   "execution_count": 39,
   "metadata": {},
   "outputs": [
    {
     "data": {
      "text/plain": [
       "{'#',\n",
       " '$',\n",
       " '%',\n",
       " '+',\n",
       " '<',\n",
       " '=',\n",
       " '>',\n",
       " '¢',\n",
       " '£',\n",
       " '¤',\n",
       " '¥',\n",
       " '§',\n",
       " '©',\n",
       " '¬',\n",
       " '®',\n",
       " '°',\n",
       " '±',\n",
       " 'µ',\n",
       " '¶',\n",
       " '×',\n",
       " '÷'}"
      ]
     },
     "execution_count": 39,
     "metadata": {},
     "output_type": "execute_result"
    }
   ],
   "source": [
    "from unicodedata import name \n",
    "#문자명을 가져옴 \n",
    "#코드 번호가 32~255 사이에 있는 문자 중 문자명 안에 \n",
    "#SIGN 단어가 있는 문자들의 집합성성 \n",
    "{chr(i) for i in range(32, 256) if 'SIGN' in name(chr(i), '')}"
   ]
  },
  {
   "cell_type": "markdown",
   "metadata": {},
   "source": [
    "### 집합연산 \n",
    "- 교집합\n",
    "s&z s&=z\n",
    "- 합집합\n",
    "s|z z|=z\n",
    "- 차집합\n",
    "s-z s-=z\n",
    "- 대칭차 \n",
    "s^z s^=z"
   ]
  },
  {
   "cell_type": "markdown",
   "metadata": {},
   "source": [
    "**비교 연산자**\n",
    "\n",
    "- 공통요소가 없다. \n",
    "s.isdisjoint(z)\n",
    "- e 가 s 의 요소 \n",
    "e in s \n",
    "- s 가 z 의 부분집합\n",
    "s <= z\n",
    "- s 가 z 의 진부분집합\n",
    "s < z\n",
    "- s 가 z 의 상위집합 \n",
    "s >= z\n",
    "- s 가 z 의 진상위집합 \n",
    "s > z\n",
    "\n",
    "**그밖에...**\n",
    "- s.add(e): Add element e to s .\n",
    "- s.clear(): Remove all elements of s .\n",
    "- s.copy(): Shallow copy of s .\n",
    "- s.discard(e): Remove element e from s if it is present.\n",
    "- s.__iter__(): Get iterator over s .\n",
    "- s.__len__(): len(s)\n",
    "- s.pop(): Remove and return an element from s , raising KeyError if s is empty.\n",
    "- s.remove(e): Remove element e from s , raising KeyError if e not in s ."
   ]
  },
  {
   "cell_type": "markdown",
   "metadata": {},
   "source": [
    "## dict 와 set 내부 구조\n",
    "\n",
    "### 성능실험    \n",
    "|len of haystack |factor| dict time| factor| set time|factor| set& time| factor| list time |factor|\n",
    "|--------|-----|-----|-----|-----|-----|-----|-----|-----|-----|\n",
    "|1,000| 1x | 0.000202s| 1.00x| 0.000143s| 1.00x |0.000087s| 1.00x |0.010556s |1.00x|\n",
    "|10,000| 10x| 0.000140s| 0.69x| 0.000147s| 1.03x| 0.000092s| 1.06x |0.086586s|8.20x|\n"
   ]
  },
  {
   "cell_type": "markdown",
   "metadata": {},
   "source": [
    "### "
   ]
  }
 ],
 "metadata": {
  "kernelspec": {
   "display_name": "Python 3",
   "language": "python",
   "name": "python3"
  },
  "language_info": {
   "codemirror_mode": {
    "name": "ipython",
    "version": 3
   },
   "file_extension": ".py",
   "mimetype": "text/x-python",
   "name": "python",
   "nbconvert_exporter": "python",
   "pygments_lexer": "ipython3",
   "version": "3.5.2"
  }
 },
 "nbformat": 4,
 "nbformat_minor": 2
}
