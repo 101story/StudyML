{
 "cells": [
  {
   "cell_type": "markdown",
   "metadata": {},
   "source": [
    "# 정규표현식 이용\n",
    " 주민등록번호의 뒷자리를 * 문자로 변경 하시오.\n",
    "1. 전체 텍스트를 공백 문자로 나눈다(split).\n",
    "2. 나누어진 단어들이 주민등록번호 형식인지 조사한다.\n",
    "3. 단어가 주민등록번호 형식이라면 뒷자리를 *로 변환한다.\n",
    "4. 나누어진 단어들을 다시 조립한다."
   ]
  },
  {
   "cell_type": "code",
   "execution_count": 3,
   "metadata": {},
   "outputs": [
    {
     "name": "stdout",
     "output_type": "stream",
     "text": [
      "\n",
      "park 800905-1234567-*******\n",
      "kim 900905-2134567-*******\n",
      "\n"
     ]
    }
   ],
   "source": [
    "import re \n",
    "data = \"\"\"\n",
    "park 800905-1234567\n",
    "kim 900905-2134567\n",
    "\"\"\"\n",
    "pat = re.compile(\"(\\d{6}[-]\\d{7})\")\n",
    "print(pat.sub(\"\\g<1>-*******\", data))"
   ]
  },
  {
   "cell_type": "markdown",
   "metadata": {},
   "source": [
    "# 정규표현식 메타문자"
   ]
  },
  {
   "cell_type": "markdown",
   "metadata": {},
   "source": [
    "## 메타 문자란 \n",
    "원래 그 문자가 가진 뜻이 아닌 특별한 용도로 사용되는 문자들<br>\n",
    "&nbsp;&nbsp;  . ^ $ * + ? { } [ ] \\ | ( )\n",
    "* [a-zA-Z] : 알파벳 모두\n",
    "* a.b : a와 b라는 문자 사이에 어떤 문자가 들어가도 모두 매치 .는 \\n을 제외한 모든 문자와 매치 \n",
    "* [abc] : a, b, c 중 한 개의 문자와 매치\n",
    "* \\- : 문자 사이의 범위(From - To) [a-zA-Z] : 알파벳 모두, [0-9] : 숫자\n",
    "* ^ : 반대(not) [^0-9] : 숫자가 아닌 문자만\n",
    "* \\d : [0-9]\n",
    "* \\D : [^0-9]\n",
    "* \\s : whitespace 문자와 매치, [ \\t\\n\\r\\f\\v] 빈칸(공백)\n",
    "* \\w : 문자+숫자(alphanumeric) [a-zA-Z0-9]\n",
    "* \\W : 문자+숫자(alphanumeric)가 아닌 문자 [^a-zA-Z0-9]\n",
    "* a.b : a + 모든문자 + b :  어떤 문자라도 하나는있어야 함\n",
    "* a[.]b : \"a.b\" 매치 \"a0b\" 매치안됨 Dot(.)문자\n",
    "* ca\\*t : a가 0부터 무한대로 반복\n",
    "* ca+t : 반복횟수가 1개 이상 \n",
    "* ca{2,5}t : a(2~5회 반복)\n",
    "* ab?c : {0, 1} 있어도 되고 없어도 된다"
   ]
  },
  {
   "cell_type": "markdown",
   "metadata": {},
   "source": [
    "## re 모듈 (regular expression)\n",
    "* re.compile : 패턴객체 생성\n",
    "* match() : 문자열의 처음부터 정규식과 매치되는지 조사한다.\n",
    "* search() : 문자열 전체를 검색하여 정규식과 매치되는지 조사한다.\n",
    "* findall() : 정규식과 매치되는 모든 문자열(substring)을 리스트로 리턴한다\n",
    "* finditer() : 정규식과 매치되는 모든 문자열(substring)을 iterator 객체로 리턴한다"
   ]
  },
  {
   "cell_type": "code",
   "execution_count": 4,
   "metadata": {
    "collapsed": true
   },
   "outputs": [],
   "source": [
    "import re\n",
    "p = re.compile('[a-z]+')"
   ]
  },
  {
   "cell_type": "code",
   "execution_count": 9,
   "metadata": {},
   "outputs": [
    {
     "name": "stdout",
     "output_type": "stream",
     "text": [
      "<_sre.SRE_Match object; span=(0, 6), match='python'>\n",
      "None\n",
      "Match found:  string\n"
     ]
    }
   ],
   "source": [
    "# match\n",
    "m = p.match(\"python\")\n",
    "print(m)\n",
    "m = p.match(\"3python\")\n",
    "print(m)\n",
    "\n",
    "m = p.match( 'string goes here' )\n",
    "if m:\n",
    "    print('Match found: ', m.group())\n",
    "else:\n",
    "    print('No match')"
   ]
  },
  {
   "cell_type": "code",
   "execution_count": 8,
   "metadata": {},
   "outputs": [
    {
     "name": "stdout",
     "output_type": "stream",
     "text": [
      "<_sre.SRE_Match object; span=(0, 6), match='python'>\n",
      "<_sre.SRE_Match object; span=(2, 8), match='python'>\n"
     ]
    }
   ],
   "source": [
    "# search\n",
    "m = p.search(\"python\")\n",
    "print(m)\n",
    "m = p.search(\"2 python\")\n",
    "print(m) "
   ]
  },
  {
   "cell_type": "code",
   "execution_count": 10,
   "metadata": {},
   "outputs": [
    {
     "name": "stdout",
     "output_type": "stream",
     "text": [
      "['life', 'is', 'too', 'short']\n"
     ]
    }
   ],
   "source": [
    "# findall\n",
    "result = p.findall('life is too short')\n",
    "print(result)"
   ]
  },
  {
   "cell_type": "code",
   "execution_count": 11,
   "metadata": {},
   "outputs": [
    {
     "name": "stdout",
     "output_type": "stream",
     "text": [
      "<callable_iterator object at 0x0000000004CAE908>\n",
      "<_sre.SRE_Match object; span=(0, 4), match='life'>\n",
      "<_sre.SRE_Match object; span=(5, 7), match='is'>\n",
      "<_sre.SRE_Match object; span=(8, 11), match='too'>\n",
      "<_sre.SRE_Match object; span=(12, 17), match='short'>\n"
     ]
    }
   ],
   "source": [
    "# finditer\n",
    "result = p.finditer('life is too short')\n",
    "print(result)\n",
    "for r in result:print(r)"
   ]
  },
  {
   "cell_type": "markdown",
   "metadata": {},
   "source": [
    "### match 객체의 메서드\n",
    "* group() 매치된 문자열을 리턴한다.\n",
    "* start() 매치된 문자열의 시작 위치를 리턴한다.\n",
    "* end()\t매치된 문자열의 끝 위치를 리턴한다.\n",
    "* span() 매치된 문자열의 (시작, 끝) 에 해당되는 튜플을 리턴한다."
   ]
  },
  {
   "cell_type": "code",
   "execution_count": 12,
   "metadata": {},
   "outputs": [
    {
     "name": "stdout",
     "output_type": "stream",
     "text": [
      "python\n",
      "0\n",
      "6\n",
      "(0, 6)\n"
     ]
    }
   ],
   "source": [
    "m = p.match(\"python\")\n",
    "print(m.group())\n",
    "print(m.start()) # 항상 문자열의 시작부터 조사\n",
    "print(m.end())\n",
    "print(m.span())"
   ]
  },
  {
   "cell_type": "code",
   "execution_count": 13,
   "metadata": {},
   "outputs": [
    {
     "name": "stdout",
     "output_type": "stream",
     "text": [
      "python\n",
      "2\n",
      "8\n",
      "(2, 8)\n"
     ]
    }
   ],
   "source": [
    "m = p.search(\"3 python\")\n",
    "print(m.group())\n",
    "print(m.start()) \n",
    "print(m.end())\n",
    "print(m.span())"
   ]
  },
  {
   "cell_type": "code",
   "execution_count": 14,
   "metadata": {
    "collapsed": true
   },
   "outputs": [],
   "source": [
    "# 모듈 단위로 수행\n",
    "# p = re.compile('[a-z]+')\n",
    "# m = p.match('python')\n",
    "m = re.match('[a-z]', \"python\")"
   ]
  },
  {
   "cell_type": "markdown",
   "metadata": {},
   "source": [
    "## 컴파일 옵션\n",
    "* DOTALL(S) - . 이 줄바꿈 문자를 포함하여 모든 문자와 매치할 수 있도록 한다.\n",
    "* IGNORECASE(I) - 대소문자에 관계없이 매치할 수 있도록 한다.\n",
    "* MULTILINE(M) - 여러줄과 매치할 수 있도록 한다. (^ : 처음은 항상 해당 글자로 시작, \\$ : 해당 글자로 끝나야한다.)\n",
    "* VERBOSE(X) - verbose 모드를 사용할 수 있도록 한다. (정규식을 보기 편하게 만들수 있고 주석등을 사용할 수 있게된다.)\n",
    "\n",
    "사용 re.DOTALL 또는 re.S"
   ]
  },
  {
   "cell_type": "code",
   "execution_count": 29,
   "metadata": {},
   "outputs": [
    {
     "name": "stdout",
     "output_type": "stream",
     "text": [
      "None\n",
      "<_sre.SRE_Match object; span=(0, 3), match='a0b'>\n",
      "None\n",
      "<_sre.SRE_Match object; span=(0, 3), match='a\\nb'>\n"
     ]
    }
   ],
   "source": [
    "# DOTALL(S) \n",
    "import re\n",
    "p = re.compile('a.b')\n",
    "m = p.match('aeeb')\n",
    "print(m)\n",
    "m = p.match('a0b')\n",
    "print(m)\n",
    "m = p.match('a\\nb')\n",
    "print(m)\n",
    "p = re.compile('a.b', re.DOTALL)\n",
    "m = p.match('a\\nb')\n",
    "print(m)"
   ]
  },
  {
   "cell_type": "code",
   "execution_count": 19,
   "metadata": {},
   "outputs": [
    {
     "name": "stdout",
     "output_type": "stream",
     "text": [
      "<_sre.SRE_Match object; span=(0, 1), match='p'>\n",
      "<_sre.SRE_Match object; span=(0, 1), match='A'>\n",
      "None\n"
     ]
    }
   ],
   "source": [
    "# IGNORECASE(I)  \n",
    "p = re.compile('[a-z]', re.I)\n",
    "print(p.match('python'))\n",
    "print(p.match('ABC'))\n",
    "print(p.match('123dfd'))"
   ]
  },
  {
   "cell_type": "code",
   "execution_count": 21,
   "metadata": {},
   "outputs": [
    {
     "name": "stdout",
     "output_type": "stream",
     "text": [
      "['python one']\n",
      "['python one', 'python two', 'python three']\n"
     ]
    }
   ],
   "source": [
    "# MULTILINE(M)\n",
    "# \"python\"이라는 문자열로 시작하고 그 후에 whitespace, 그 후에 단어가 와야함\n",
    "# 문자열 전체 중 매칭되는것\n",
    "p = re.compile(\"^python\\s\\w+\")\n",
    "\n",
    "data = \"\"\"python one\n",
    "life is too short\n",
    "python two\n",
    "you need python\n",
    "python three\"\"\"\n",
    "\n",
    "print(p.findall(data))\n",
    "\n",
    "# 라인의 처음 중 매칭되는것\n",
    "p = re.compile(\"^python\\s\\w+\", re.MULTILINE)\n",
    "print(p.findall(data))"
   ]
  },
  {
   "cell_type": "code",
   "execution_count": 22,
   "metadata": {
    "collapsed": true
   },
   "outputs": [],
   "source": [
    "# VERBOSE(X)\n",
    "charref = re.compile(r'&[#](0[0-7]+|[0-9]+|x[0-9a-fA-F]+);')\n",
    "charref = re.compile(r\"\"\"\n",
    " &[#]                # Start of a numeric entity reference\n",
    " (\n",
    "     0[0-7]+         # Octal form\n",
    "   | [0-9]+          # Decimal form\n",
    "   | x[0-9a-fA-F]+   # Hexadecimal form\n",
    " )\n",
    " ;                   # Trailing semicolon\n",
    "\"\"\", re.VERBOSE)\n",
    "# 문자열에 사용된 whitespace는 컴파일 시 제거된다\n",
    "# 단 [ ] 내에 사용된 whitespace는 제외\n",
    "# 줄 단위로 #기호를 이용하여 주석문을 작성"
   ]
  },
  {
   "cell_type": "markdown",
   "metadata": {},
   "source": [
    "## 백슬래시 (\\\\)\n",
    "* 백슬래시 2개를 사용\n",
    "* r'\\\\section' : Raw string 이용 "
   ]
  },
  {
   "cell_type": "code",
   "execution_count": 25,
   "metadata": {
    "collapsed": true
   },
   "outputs": [],
   "source": [
    "p = re.compile('\\\\section') # 백슬래시 한개\n",
    "# p = re.compile('\\\\\\\\section') # 백슬래시 두개 이상\n",
    "p = re.compile(r'\\\\section')"
   ]
  },
  {
   "cell_type": "markdown",
   "metadata": {
    "collapsed": true
   },
   "source": [
    "# 강력한 정규 표현식"
   ]
  },
  {
   "cell_type": "markdown",
   "metadata": {},
   "source": [
    "## 메타문자\n",
    "+, *, [], {} 등의 메타문자는 매치가 진행될 때 현재 매치되고 있는 문자열의 위치가 변경됨\n",
    "* 소모시키지 않는 메타 \n",
    "|, ^, $, \\A, \\Z, \\b, \\B "
   ]
  },
  {
   "cell_type": "code",
   "execution_count": 10,
   "metadata": {},
   "outputs": [
    {
     "name": "stdout",
     "output_type": "stream",
     "text": [
      "<_sre.SRE_Match object; span=(0, 4), match='Crow'>\n",
      "None\n"
     ]
    }
   ],
   "source": [
    "# | : or\n",
    "import re\n",
    "p=re.compile('Crow|Servo')\n",
    "m=p.match('Crowhello')\n",
    "print(m)\n",
    "m=p.match('he|lowServo')\n",
    "print(m)"
   ]
  },
  {
   "cell_type": "code",
   "execution_count": 12,
   "metadata": {},
   "outputs": [
    {
     "name": "stdout",
     "output_type": "stream",
     "text": [
      "<_sre.SRE_Match object; span=(0, 4), match='Life'>\n",
      "None\n"
     ]
    }
   ],
   "source": [
    "# ^ : 맨 처음과 일치\n",
    "print(re.search('^Life', 'Life is too short'))\n",
    "print(re.search('^Life', 'is Life'))"
   ]
  },
  {
   "cell_type": "code",
   "execution_count": 14,
   "metadata": {},
   "outputs": [
    {
     "name": "stdout",
     "output_type": "stream",
     "text": [
      "<_sre.SRE_Match object; span=(12, 17), match='short'>\n"
     ]
    }
   ],
   "source": [
    "# $ :  끝과 매치함\n",
    "print(re.search('short$', 'Life is too short'))"
   ]
  },
  {
   "cell_type": "code",
   "execution_count": 15,
   "metadata": {
    "collapsed": true
   },
   "outputs": [],
   "source": [
    "# \\A : 문자열의 처음과 매치 (전체 문자열의 처음)\n",
    "# \\Z : 전체 문자열의 끝과 매치\n",
    "# \\b : 단어 구분자(Word boundary)\n",
    "p=re.compile(r'\\bclass\\b') # \"class\"라는 단어와 매치\n",
    "print(p.search('no class at all'))"
   ]
  },
  {
   "cell_type": "code",
   "execution_count": 16,
   "metadata": {},
   "outputs": [
    {
     "name": "stdout",
     "output_type": "stream",
     "text": [
      "<_sre.SRE_Match object; span=(6, 11), match='class'>\n",
      "None\n"
     ]
    }
   ],
   "source": [
    "# \\B : whitespace로 구분된 단어가 아닌 경우\n",
    "p = re.compile(r'\\Bclass\\B')\n",
    "print(p.search('the declassified algorithm'))\n",
    "print(p.search('one subclass is'))"
   ]
  },
  {
   "cell_type": "markdown",
   "metadata": {},
   "source": [
    "## 그룹핑\n",
    "계속해서 반복되는지 조사하는 정규식  \"()\" : (ABC)+"
   ]
  },
  {
   "cell_type": "code",
   "execution_count": 17,
   "metadata": {},
   "outputs": [
    {
     "name": "stdout",
     "output_type": "stream",
     "text": [
      "<_sre.SRE_Match object; span=(0, 9), match='ABCABCABC'>\n",
      "ABCABCABC\n"
     ]
    }
   ],
   "source": [
    "p=re.compile('(ABC)+')\n",
    "m=p.search('ABCABCABC OK?')\n",
    "print(m)\n",
    "print(m.group())"
   ]
  },
  {
   "cell_type": "code",
   "execution_count": 22,
   "metadata": {},
   "outputs": [
    {
     "name": "stdout",
     "output_type": "stream",
     "text": [
      "park 010-1234-1234\n",
      "park\n"
     ]
    }
   ],
   "source": [
    "# 이름 + \" \" + 전화번호 형태의 문자열을 찾는 정규표현식\n",
    "p = re.compile(r\"\\w+\\s+\\d+[-]\\d+[-]\\d+\") \n",
    "p1 = re.compile(r\"(\\w+)\\s+\\d+[-]\\d+[-]\\d+\") # 그룹으로 만듬 \n",
    "m = p.search(\"park 010-1234-1234\")\n",
    "m1 = p1.search(\"park 010-1234-1234\")\n",
    "print(m.group())\n",
    "print(m1.group(1))"
   ]
  },
  {
   "cell_type": "code",
   "execution_count": 24,
   "metadata": {},
   "outputs": [
    {
     "name": "stdout",
     "output_type": "stream",
     "text": [
      "010-1234-1234\n",
      "010\n"
     ]
    }
   ],
   "source": [
    "p=re.compile(r\"(\\w+)\\s+((\\d+)[-]\\d+[-]\\d+)\")\n",
    "m = p.search(\"park 010-1234-1234\")\n",
    "print(m.group(2))\n",
    "print(m.group(3))"
   ]
  },
  {
   "cell_type": "markdown",
   "metadata": {},
   "source": [
    "### 문자열 재참조"
   ]
  },
  {
   "cell_type": "code",
   "execution_count": 25,
   "metadata": {},
   "outputs": [
    {
     "data": {
      "text/plain": [
       "'the the'"
      ]
     },
     "execution_count": 25,
     "metadata": {},
     "output_type": "execute_result"
    }
   ],
   "source": [
    "# (\\b\\w+)\\s+\\1 : (그룹1) + \" \" + \"그룹1과 동일한 단어\" 와 매치\n",
    "# 2개의 동일한 단어가 연속적으로 사용되어야만 매치\n",
    "p = re.compile(r'(\\b\\w+)\\s+\\1')\n",
    "p.search('Paris in the the spring').group()"
   ]
  },
  {
   "cell_type": "markdown",
   "metadata": {},
   "source": [
    "### 그룹핑된 문자열에 이름 붙이기\n",
    "(\\w+) --> (?P<name>\\w+) (?P<그룹명>...)"
   ]
  },
  {
   "cell_type": "code",
   "execution_count": 26,
   "metadata": {},
   "outputs": [
    {
     "name": "stdout",
     "output_type": "stream",
     "text": [
      "park\n"
     ]
    }
   ],
   "source": [
    "p=re.compile(r\"(?P<name>\\w+)\\s+((\\d+)[-]\\d+[-]\\d+)\")\n",
    "m = p.search(\"park 010-1234-1234\")\n",
    "print(m.group(\"name\"))"
   ]
  },
  {
   "cell_type": "code",
   "execution_count": 28,
   "metadata": {},
   "outputs": [
    {
     "data": {
      "text/plain": [
       "'the the'"
      ]
     },
     "execution_count": 28,
     "metadata": {},
     "output_type": "execute_result"
    }
   ],
   "source": [
    "# 재 참조시에는 (?P=그룹명)\n",
    "p=re.compile(r'(?P<word>\\b\\w+)\\s+(?P=word)') \n",
    "p.search('Paris in the the sping').group()"
   ]
  },
  {
   "cell_type": "markdown",
   "metadata": {},
   "source": [
    "## 전방 탐색\n",
    "* 긍정형 전방 탐색((?=...)) - ... 에 해당되는 정규식과 매치되어야 하며 조건이 통과되어도 문자열이 소모되지 않는다. 검색 결과에는 제외됨\n",
    "* 부정형 전방 탐색((?!...)) - ...에 해당되는 정규식과 매치되지 않아야 하며 조건이 통과되어도 문자열이 소모되지 않는다."
   ]
  },
  {
   "cell_type": "code",
   "execution_count": 29,
   "metadata": {},
   "outputs": [
    {
     "name": "stdout",
     "output_type": "stream",
     "text": [
      "http\n"
     ]
    }
   ],
   "source": [
    "p = re.compile(\".+(?=:)\")\n",
    "m = p.search(\"http://google.com\")\n",
    "print(m.group())"
   ]
  },
  {
   "cell_type": "code",
   "execution_count": 40,
   "metadata": {},
   "outputs": [
    {
     "name": "stdout",
     "output_type": "stream",
     "text": [
      "None abcd.txt None abcd.exe.bat\n"
     ]
    }
   ],
   "source": [
    "p = re.compile(\".*[.](?!bat$|exe$).*$\")\n",
    "m = p.search(\"abcd.bat\")\n",
    "m1 = p.search(\"abcd.txt\")\n",
    "m2 = p.search(\"abcd\")\n",
    "m3 = p.search(\"abcd.exe.bat\")\n",
    "print(m, m1.group(), m2, m3.group())"
   ]
  },
  {
   "cell_type": "markdown",
   "metadata": {},
   "source": [
    "## 문자열 바꾸기"
   ]
  },
  {
   "cell_type": "code",
   "execution_count": 43,
   "metadata": {},
   "outputs": [
    {
     "name": "stdout",
     "output_type": "stream",
     "text": [
      "colour socks and colour shoes\n",
      "colour socks and red shoes\n"
     ]
    }
   ],
   "source": [
    "# sub(바꿀문자, 주어진문자, 바꾸기횟수)\n",
    "p=re.compile('(blue|white|red)')\n",
    "print(p.sub('colour','blue socks and red shoes'))\n",
    "print(p.sub('colour','blue socks and red shoes', count=1))"
   ]
  },
  {
   "cell_type": "code",
   "execution_count": 46,
   "metadata": {},
   "outputs": [
    {
     "data": {
      "text/plain": [
       "('colour socks and colour shoes', 2)"
      ]
     },
     "execution_count": 46,
     "metadata": {},
     "output_type": "execute_result"
    }
   ],
   "source": [
    "# subn () 리턴되는 결과(바꾸기가 발생한 횟수) 튜플로 리턴\n",
    "p = re.compile('(blue|white|red)')\n",
    "p.subn( 'colour', 'blue socks and red shoes')"
   ]
  },
  {
   "cell_type": "markdown",
   "metadata": {},
   "source": [
    "### sub 메서드 사용 시 참조 구문 사용하기"
   ]
  },
  {
   "cell_type": "code",
   "execution_count": 47,
   "metadata": {},
   "outputs": [
    {
     "name": "stdout",
     "output_type": "stream",
     "text": [
      "010-1234-1234 park\n",
      "010-1234-1234 park\n"
     ]
    }
   ],
   "source": [
    "p=re.compile(r\"(?P<name>\\w+)\\s+(?P<phone>(\\d+)[-]\\d+[-]\\d+)\")\n",
    "print(p.sub(\"\\g<phone> \\g<name>\", \"park 010-1234-1234\"))\n",
    "print(p.sub(\"\\g<2> \\g<1>\", \"park 010-1234-1234\"))"
   ]
  },
  {
   "cell_type": "markdown",
   "metadata": {},
   "source": [
    "### sub 메서드의 입력 인수로 함수 넣기"
   ]
  },
  {
   "cell_type": "code",
   "execution_count": 49,
   "metadata": {},
   "outputs": [
    {
     "data": {
      "text/plain": [
       "'Call 0xffd2 for printing, 0xc000 for user code.'"
      ]
     },
     "execution_count": 49,
     "metadata": {},
     "output_type": "execute_result"
    }
   ],
   "source": [
    "# 16 진수로 변환\n",
    "def hexrep(match):\n",
    "    value = int(match.group())\n",
    "    return hex(value)\n",
    "\n",
    "p = re.compile(r'\\d+')\n",
    "p.sub(hexrep, 'Call 65490 for printing, 49152 for user code.')"
   ]
  },
  {
   "cell_type": "markdown",
   "metadata": {},
   "source": [
    "## Greedy vs Non-Greedy\n",
    " * \\* : greedy 탐욕스러워서 매치할 수 있는 최대한의 문자열 모두 소모\n",
    " * ? : non-greedy 문자인 사용하면 * 의 탐욕을 제한"
   ]
  },
  {
   "cell_type": "code",
   "execution_count": 50,
   "metadata": {},
   "outputs": [
    {
     "name": "stdout",
     "output_type": "stream",
     "text": [
      "(0, 32)\n",
      "<html><head><title>Title</title>\n",
      "<html>\n"
     ]
    }
   ],
   "source": [
    "s = '<html><head><title>Title</title>'\n",
    "len(s)\n",
    "print(re.match('<.*>', s).span())\n",
    "print(re.match('<.*>', s).group())\n",
    "print(re.match('<.*?>', s).group())"
   ]
  },
  {
   "cell_type": "markdown",
   "metadata": {},
   "source": [
    "## Q1"
   ]
  },
  {
   "cell_type": "code",
   "execution_count": 7,
   "metadata": {},
   "outputs": [
    {
     "name": "stdout",
     "output_type": "stream",
     "text": [
      "a...b\n"
     ]
    }
   ],
   "source": [
    "import re\n",
    "p=re.compile('a[.]{3,}b')\n",
    "m=p.match('a...b')\n",
    "print(m.group())"
   ]
  },
  {
   "cell_type": "markdown",
   "metadata": {},
   "source": [
    "## Q2"
   ]
  },
  {
   "cell_type": "code",
   "execution_count": 10,
   "metadata": {},
   "outputs": [
    {
     "data": {
      "text/plain": [
       "10"
      ]
     },
     "execution_count": 10,
     "metadata": {},
     "output_type": "execute_result"
    }
   ],
   "source": [
    "p= re.compile('[a-z]+')\n",
    "m=p.search('5 python')\n",
    "m.start()+m.end()"
   ]
  },
  {
   "cell_type": "markdown",
   "metadata": {},
   "source": [
    "## Q3"
   ]
  },
  {
   "cell_type": "code",
   "execution_count": 20,
   "metadata": {},
   "outputs": [
    {
     "name": "stdout",
     "output_type": "stream",
     "text": [
      "\n",
      "park 010-1234--####\n",
      "kim 010-9999--####\n",
      "kim 010-999--####\n",
      "\n"
     ]
    }
   ],
   "source": [
    "# 뒷자리 4개를 # 로\n",
    "\n",
    "data = \"\"\"\n",
    "park 010-1234-4567\n",
    "kim 010-9999-9999\n",
    "kim 010-999-9999\n",
    "\"\"\"\n",
    "pat = re.compile(\"((\\d{3}[-]\\d{3,}[-])\\d{4})\")\n",
    "print(pat.sub(\"\\g<2>-####\", data))"
   ]
  },
  {
   "cell_type": "markdown",
   "metadata": {},
   "source": [
    "## Q4"
   ]
  },
  {
   "cell_type": "code",
   "execution_count": 67,
   "metadata": {},
   "outputs": [
    {
     "name": "stdout",
     "output_type": "stream",
     "text": [
      "abc@naver.com\n",
      "qwer@daum.net\n"
     ]
    }
   ],
   "source": [
    "# .com, .net 이 아닌 이메일주소 제외 abc@naver.com\n",
    "\n",
    "data = \"\"\"\n",
    "abc@naver.com\n",
    "bbbbb@gmail.co.kr\n",
    "qwer@daum.net\n",
    "bbbbb@gmail.co.kr\n",
    "bbbbb@gmail.net.kr\n",
    "\"\"\"\n",
    "#print(data.split())\n",
    "\n",
    "p = re.compile('(.*[@].*[.](com|net)$)')\n",
    "\n",
    "for i in data.split():\n",
    "    m = p.match(i)\n",
    "    if m !=None:\n",
    "        print(m.group())\n"
   ]
  },
  {
   "cell_type": "markdown",
   "metadata": {},
   "source": [
    "# 파이썬으로 XML 처리하기"
   ]
  },
  {
   "cell_type": "markdown",
   "metadata": {},
   "source": [
    "## XML 문서 생성하기\n"
   ]
  },
  {
   "cell_type": "code",
   "execution_count": 1,
   "metadata": {},
   "outputs": [
    {
     "name": "stdout",
     "output_type": "stream",
     "text": [
      "<note><to>Tove</to></note>\n"
     ]
    }
   ],
   "source": [
    "from xml.etree.ElementTree import Element, dump\n",
    "\n",
    "note = Element(\"note\")\n",
    "to = Element(\"to\")\n",
    "to.text = \"Tove\"\n",
    "\n",
    "note.append(to)\n",
    "dump(note) # 인자로 넘어온 tag 이하를 print 해줌 "
   ]
  },
  {
   "cell_type": "markdown",
   "metadata": {},
   "source": [
    "### SubElement"
   ]
  },
  {
   "cell_type": "code",
   "execution_count": 4,
   "metadata": {},
   "outputs": [
    {
     "name": "stdout",
     "output_type": "stream",
     "text": [
      "<note><to>Tove</to></note>\n",
      "<note><to>Tove</to><from>Jani</from></note>\n"
     ]
    }
   ],
   "source": [
    "from xml.etree.ElementTree import Element, SubElement, dump\n",
    "\n",
    "note = Element(\"note\")\n",
    "to = Element(\"to\")\n",
    "to.text = \"Tove\"\n",
    "\n",
    "note.append(to)\n",
    "dump(note)\n",
    "\n",
    "SubElement(note, \"from\").text = \"Jani\"\n",
    "dump(note)"
   ]
  },
  {
   "cell_type": "code",
   "execution_count": 5,
   "metadata": {
    "collapsed": true
   },
   "outputs": [],
   "source": [
    "# 삭제\n",
    "dummy = Element(\"dummy\")\n",
    "note.insert(1, dummy)\n",
    "note.remove(dummy)"
   ]
  },
  {
   "cell_type": "markdown",
   "metadata": {},
   "source": [
    "### 애트리뷰트 추가하기\n",
    "\n"
   ]
  },
  {
   "cell_type": "code",
   "execution_count": 6,
   "metadata": {},
   "outputs": [
    {
     "name": "stdout",
     "output_type": "stream",
     "text": [
      "<note data=\"20171111\"><to>Tove</to><from>Jani</from></note>\n"
     ]
    }
   ],
   "source": [
    "from xml.etree.ElementTree import Element, SubElement, dump\n",
    "\n",
    "note = Element(\"note\")\n",
    "to = Element(\"to\")\n",
    "to.text = \"Tove\"\n",
    "\n",
    "note.append(to)\n",
    "SubElement(note, \"from\").text = \"Jani\"\n",
    "note.attrib[\"data\"] = \"20171111\"\n",
    "# note = Element(\"note\", date=\"20120104\")\n",
    "\n",
    "dump(note)"
   ]
  },
  {
   "cell_type": "markdown",
   "metadata": {},
   "source": [
    "### indent 함수\n",
    " 정렬된 형태의 xml 값을 확인"
   ]
  },
  {
   "cell_type": "code",
   "execution_count": 8,
   "metadata": {},
   "outputs": [
    {
     "name": "stdout",
     "output_type": "stream",
     "text": [
      "<note date=\"20120104\">\n",
      " <to>Tove</to>\n",
      " <from>Jani</from>\n",
      " <heading>Reminder</heading>\n",
      " <body>Don't forget me this weekend!</body>\n",
      "</note>\n"
     ]
    }
   ],
   "source": [
    "from xml.etree.ElementTree import Element, SubElement, dump\n",
    "\n",
    "note = Element(\"note\")\n",
    "note.attrib[\"date\"] = \"20120104\"\n",
    "\n",
    "to = Element(\"to\")\n",
    "to.text = \"Tove\"\n",
    "note.append(to)\n",
    "\n",
    "SubElement(note, \"from\").text = \"Jani\"\n",
    "SubElement(note, \"heading\").text = \"Reminder\"\n",
    "SubElement(note, \"body\").text = \"Don't forget me this weekend!\"\n",
    "\n",
    "def indent(elem, level=0):\n",
    "    i = '\\n'+level*\" \"\n",
    "    if len(elem):\n",
    "        if not elem.text or not elem.text.strip():\n",
    "            elem.text = i+\" \"\n",
    "        if not elem.tail or not elem.tail.strip():\n",
    "            elem.tail = i\n",
    "        for elem in elem:\n",
    "            indent(elem, level+1)\n",
    "        if not elem.tail or not elem.tail.strip():\n",
    "            elem.tail = i\n",
    "    else:\n",
    "        if level and (not elem.tail or not elem.tail.strip()):\n",
    "            elem.tail = i\n",
    "\n",
    "indent(note)\n",
    "dump(note)"
   ]
  },
  {
   "cell_type": "markdown",
   "metadata": {},
   "source": [
    "### 파일에 쓰기(write) 수행"
   ]
  },
  {
   "cell_type": "code",
   "execution_count": 9,
   "metadata": {
    "collapsed": true
   },
   "outputs": [],
   "source": [
    "from xml.etree.ElementTree import ElementTree\n",
    "ElementTree(note).write(\"note.xml\")"
   ]
  },
  {
   "cell_type": "markdown",
   "metadata": {},
   "source": [
    "## XML문서 파싱"
   ]
  },
  {
   "cell_type": "code",
   "execution_count": 11,
   "metadata": {
    "collapsed": true
   },
   "outputs": [],
   "source": [
    "from xml.etree.ElementTree import parse\n",
    "tree = parse(\"note.xml\")\n",
    "note = tree.getroot()"
   ]
  },
  {
   "cell_type": "markdown",
   "metadata": {},
   "source": [
    "### 애트리뷰트 값 읽기"
   ]
  },
  {
   "cell_type": "code",
   "execution_count": 13,
   "metadata": {},
   "outputs": [
    {
     "name": "stdout",
     "output_type": "stream",
     "text": [
      "None\n",
      "default\n",
      "['date']\n",
      "[('date', '20120104')]\n"
     ]
    }
   ],
   "source": [
    "print(note.get(\"data\")) # 애트리뷰트의 값\n",
    "print(note.get(\"foo\", \"default\")) \n",
    "#디폴트 값을 주었다면 첫 번째 인자에 해당되는 애트리뷰트 값이 없을 경우 \n",
    "#두 번째 값을 리턴\n",
    "print(note.keys())\n",
    "print(note.items())"
   ]
  },
  {
   "cell_type": "markdown",
   "metadata": {},
   "source": [
    "### XML 태그 접근하기"
   ]
  },
  {
   "cell_type": "code",
   "execution_count": 15,
   "metadata": {},
   "outputs": [
    {
     "name": "stdout",
     "output_type": "stream",
     "text": [
      "<Element 'from' at 0x000000000500A1D8> [<Element 'from' at 0x000000000500A1D8>] Jani\n"
     ]
    }
   ],
   "source": [
    "from_tag = note.find(\"from\") # from과 일치하는 첫 번째 태그를 찾아서 리턴\n",
    "from_tags = note.findall(\"from\") # from과 일치하는 모든 태그를 리스트\n",
    "from_text = note.findtext(\"from\") #  note 태그 하위에 from과 일치하는 첫번째 태그의 텍스트 값을 리턴\n",
    "print(from_tag, from_tags, from_text)"
   ]
  },
  {
   "cell_type": "code",
   "execution_count": 16,
   "metadata": {},
   "outputs": [
    {
     "name": "stdout",
     "output_type": "stream",
     "text": [
      "<_elementtree._element_iterator object at 0x0000000004FFB7D8>\n",
      "[<Element 'to' at 0x0000000004FEEA48>, <Element 'from' at 0x000000000500A1D8>, <Element 'heading' at 0x000000000500A138>, <Element 'body' at 0x000000000500A188>]\n"
     ]
    }
   ],
   "source": [
    "childs = note.getiterator()\n",
    "print(childs)\n",
    "childs = note.getchildren()\n",
    "print(childs)"
   ]
  },
  {
   "cell_type": "code",
   "execution_count": 17,
   "metadata": {},
   "outputs": [
    {
     "data": {
      "text/plain": [
       "<_elementtree._element_iterator at 0x4ffb468>"
      ]
     },
     "execution_count": 17,
     "metadata": {},
     "output_type": "execute_result"
    }
   ],
   "source": [
    "note.getiterator(\"from\")"
   ]
  },
  {
   "cell_type": "code",
   "execution_count": 18,
   "metadata": {},
   "outputs": [
    {
     "name": "stdout",
     "output_type": "stream",
     "text": [
      "<Element 'note' at 0x0000000004FD5CC8> <Element 'to' at 0x0000000004FEEA48>\n",
      "<Element 'note' at 0x0000000004FD5CC8> <Element 'from' at 0x000000000500A1D8>\n",
      "<Element 'note' at 0x0000000004FD5CC8> <Element 'heading' at 0x000000000500A138>\n",
      "<Element 'note' at 0x0000000004FD5CC8> <Element 'body' at 0x000000000500A188>\n"
     ]
    }
   ],
   "source": [
    "for parent in tree.getiterator():\n",
    "    for child in parent:\n",
    "        print(parent, child)"
   ]
  },
  {
   "cell_type": "markdown",
   "metadata": {},
   "source": [
    "http://effbot.org/zone/element.htm"
   ]
  },
  {
   "cell_type": "markdown",
   "metadata": {},
   "source": [
    "## Q1"
   ]
  },
  {
   "cell_type": "code",
   "execution_count": 69,
   "metadata": {},
   "outputs": [
    {
     "name": "stdout",
     "output_type": "stream",
     "text": [
      "<blog date=\"20151231\">\n",
      " <subject>why python?</subject>\n",
      " <author>Eric</author>\n",
      " <content>asdfasdf</content>\n",
      "</blog>\n"
     ]
    }
   ],
   "source": [
    "'''<blog date = 20151231>\n",
    "<subject> why python?</subject>\n",
    "<author>Eric</author>\n",
    "<content>asdfasdf</content>\n",
    "</blog>'''\n",
    "\n",
    "from xml.etree.ElementTree import Element, SubElement, dump\n",
    "note = Element(\"blog\")\n",
    "note.set(\"date\", \"20151231\")\n",
    "SubElement(note, \"subject\").text = \"why python?\"\n",
    "SubElement(note, \"author\").text = \"Eric\"\n",
    "SubElement(note, \"content\").text = \"asdfasdf\"\n",
    "\n",
    "\n",
    "def indent(elem, level=0):\n",
    "    i = '\\n'+level*\" \"\n",
    "    if len(elem):\n",
    "        if not elem.text or not elem.text.strip():\n",
    "            elem.text = i+\" \"\n",
    "        if not elem.tail or not elem.tail.strip():\n",
    "            elem.tail = i\n",
    "        for elem in elem:\n",
    "            indent(elem, level+1)\n",
    "        if not elem.tail or not elem.tail.strip():\n",
    "            elem.tail = i\n",
    "    else:\n",
    "        if level and (not elem.tail or not elem.tail.strip()):\n",
    "            elem.tail = i\n",
    "\n",
    "indent(note)\n",
    "dump(note)"
   ]
  },
  {
   "cell_type": "code",
   "execution_count": null,
   "metadata": {
    "collapsed": true
   },
   "outputs": [],
   "source": []
  }
 ],
 "metadata": {
  "kernelspec": {
   "display_name": "Python 3",
   "language": "python",
   "name": "python3"
  },
  "language_info": {
   "codemirror_mode": {
    "name": "ipython",
    "version": 3
   },
   "file_extension": ".py",
   "mimetype": "text/x-python",
   "name": "python",
   "nbconvert_exporter": "python",
   "pygments_lexer": "ipython3",
   "version": "3.6.1"
  }
 },
 "nbformat": 4,
 "nbformat_minor": 2
}
