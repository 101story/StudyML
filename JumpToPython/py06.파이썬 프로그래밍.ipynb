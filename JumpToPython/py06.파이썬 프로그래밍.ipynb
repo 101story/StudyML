{
 "cells": [
  {
   "cell_type": "markdown",
   "metadata": {},
   "source": [
    "# 구구단 만들기\n",
    "* 함수 이름은? GuGu로 짓자\n",
    "* 입력받는 값은? 2\n",
    "* 출력하는 값은? 2단(2, 4, 6, 8, …, 18)\n",
    "* 결과는 어떤 형태로 저장하지? 연속된 자료형이니까 리스트!"
   ]
  },
  {
   "cell_type": "code",
   "execution_count": 10,
   "metadata": {},
   "outputs": [
    {
     "name": "stdout",
     "output_type": "stream",
     "text": [
      "[2, 4, 6, 8, 10, 12, 14, 16, 18]\n"
     ]
    }
   ],
   "source": [
    "def GuGu(n):\n",
    "    if(n>0):\n",
    "        result = [n*i for i in range(1,10)]\n",
    "    else:\n",
    "        print(\"0 단 이하는 없습니다.\")\n",
    "    return result\n",
    "\n",
    "print(GuGu(2))"
   ]
  },
  {
   "cell_type": "markdown",
   "metadata": {},
   "source": [
    "# 3과 5의 배수 합하기\n",
    "* 입력 받는 값은? 1부터 999까지(1000 미만의 자연수)\n",
    "* 출력하는 값은? 3의 배수와 5의 배수의 총합"
   ]
  },
  {
   "cell_type": "code",
   "execution_count": 24,
   "metadata": {},
   "outputs": [
    {
     "name": "stdout",
     "output_type": "stream",
     "text": [
      "33\n"
     ]
    }
   ],
   "source": [
    "def mulSum(n):\n",
    "    if(n>0):\n",
    "        sam = [i for i in range(1,n+1) if i%3==0]\n",
    "        oh = [i for i in range(1,n+1) if i%5==0]\n",
    "    else:\n",
    "        print(\"0 단 이하는 없습니다.\")\n",
    "    return sum(sam)+sum(oh)\n",
    "\n",
    "print(mulSum(10))"
   ]
  },
  {
   "cell_type": "markdown",
   "metadata": {},
   "source": [
    "# 게시판 페이징하기\n",
    "* 함수 이름은? getTotalPage\n",
    "* 입력 받는 값은? 게시물의 총 건수(m), 한 페이지에 보여줄 게시물 수(n)\n",
    "* 출력하는 값은? 총 페이지수"
   ]
  },
  {
   "cell_type": "code",
   "execution_count": 27,
   "metadata": {},
   "outputs": [
    {
     "name": "stdout",
     "output_type": "stream",
     "text": [
      "3\n"
     ]
    }
   ],
   "source": [
    "# 소수점 아래 자리를 버리기 위해서 / 대신 // 연산자를 사용\n",
    "def getTotalPage(m,n):\n",
    "    if(m%n)==0:\n",
    "        return int(m/(n+1))\n",
    "    \n",
    "print(getTotalPage(10,2))"
   ]
  },
  {
   "cell_type": "markdown",
   "metadata": {},
   "source": [
    "# 간단한 메모장 만들기\n",
    "* 필요한 기능은? 메모 추가하기, 메모 조회하기\n",
    "* 입력 받는 값은? -a 옵션 메모 내용, 프로그램 실행 옵션 >python memo.py –a \"Life\"  \n",
    "* 출력 하는 값은? -v 옵션 memo.txt 내용 출력 >python memo.py –v"
   ]
  },
  {
   "cell_type": "code",
   "execution_count": 43,
   "metadata": {},
   "outputs": [
    {
     "name": "stdout",
     "output_type": "stream",
     "text": [
      "simplemeno.py\n",
      "None\n",
      "Life is too short\n",
      "\n",
      "None\n"
     ]
    }
   ],
   "source": [
    "def notepad(*args):\n",
    "    option = args[1]\n",
    "    if option == '-a':\n",
    "        memo = args[2]\n",
    "        #print(memo)\n",
    "        f = open(args[0], 'w')\n",
    "        f.write(memo)\n",
    "        f.write('\\n')\n",
    "        f.close()\n",
    "        print(args[0])\n",
    "        \n",
    "    elif option == '-v':\n",
    "        f = open(args[0])\n",
    "        memo = f.read()\n",
    "        f.close()\n",
    "        print(memo)\n",
    "        \n",
    "print(notepad(\"simplemeno.py\", \"-a\", \"Life is too short\"))\n",
    "print(notepad(\"simplemeno.py\", \"-v\" ))"
   ]
  },
  {
   "cell_type": "markdown",
   "metadata": {},
   "source": [
    "# 탭을 4개의 공백으로 바꾸기\n",
    "* 필요한 기능은? 문서 파일 읽어 들이기, 문자열 변경하기\n",
    "* 입력 받는 값은? 탭을 포함한 문서 파일\n",
    "* 출력하는 값은? 탭이 공백으로 수정된 문서 파일"
   ]
  },
  {
   "cell_type": "code",
   "execution_count": 48,
   "metadata": {},
   "outputs": [
    {
     "name": "stdout",
     "output_type": "stream",
     "text": [
      "Life    is    too    short\n",
      "You    need    python\n"
     ]
    }
   ],
   "source": [
    "def tabto4(oldf, newf):\n",
    "    f = open(oldf)\n",
    "    content = f.read()\n",
    "    f.close()\n",
    "    \n",
    "    newCon = content.replace(\"\\t\", \" \"*4)\n",
    "    \n",
    "    f = open(newf, 'w')\n",
    "    f.write(newCon)\n",
    "    f.close()\n",
    "\n",
    "tabto4(\"tabto4_old.txt\", \"tabto4_new.txt\")\n",
    "f = open(\"tabto4_new.txt\")\n",
    "print(f.read())\n",
    "f.close()"
   ]
  },
  {
   "cell_type": "markdown",
   "metadata": {},
   "source": [
    "# 하위 디렉터리 검색\n",
    "특정 디렉터리부터 시작해서 그 하위의 모든 파일 중 파이썬 파일(*.py)만 출력"
   ]
  },
  {
   "cell_type": "code",
   "execution_count": 65,
   "metadata": {},
   "outputs": [
    {
     "name": "stdout",
     "output_type": "stream",
     "text": [
      "c:/sw\n",
      "('C:/dev/sw/asdf', '.txt')\n",
      "C:/Users/student/Documents/jhdatafile/StudyGit/JumpToPython/calculator.py\n",
      "C:/Users/student/Documents/jhdatafile/StudyGit/JumpToPython/mod_sum.py\n",
      "C:/Users/student/Documents/jhdatafile/StudyGit/JumpToPython/simplemeno.py\n"
     ]
    }
   ],
   "source": [
    "import os\n",
    "print(os.path.join(\"c:/\", \"sw\"))\n",
    "print(os.path.splitext(\"C:/dev/sw/asdf.txt\"))\n",
    "for (path, dir, files) in os.walk(\"C:/Users/student/Documents/jhdatafile/StudyGit/JumpToPython\"):\n",
    "    for filename in files:\n",
    "        ext = os.path.splitext(filename)[-1]\n",
    "        if ext == '.py':\n",
    "            print(\"%s/%s\" % (path, filename))"
   ]
  },
  {
   "cell_type": "code",
   "execution_count": 68,
   "metadata": {},
   "outputs": [
    {
     "name": "stdout",
     "output_type": "stream",
     "text": [
      "C:/Users/student/Documents/jhdatafile/StudyGit\\JumpToPython\\calculator.py\n",
      "C:/Users/student/Documents/jhdatafile/StudyGit\\JumpToPython\\mod_sum.py\n",
      "C:/Users/student/Documents/jhdatafile/StudyGit\\JumpToPython\\simplemeno.py\n"
     ]
    }
   ],
   "source": [
    "import os\n",
    "\n",
    "def search(dirname):\n",
    "    try:\n",
    "        filenames = os.listdir(dirname)\n",
    "        for filename in filenames:\n",
    "            full_filename = os.path.join(dirname, filename)\n",
    "            if os.path.isdir(full_filename):\n",
    "                search(full_filename)\n",
    "            else:\n",
    "                ext = os.path.splitext(full_filename)[-1]\n",
    "                if ext == '.py': \n",
    "                    print(full_filename)\n",
    "    except PermissionError:\n",
    "        pass\n",
    "    \n",
    "search(\"C:/Users/student/Documents/jhdatafile/StudyGit\")\n",
    "    "
   ]
  },
  {
   "cell_type": "markdown",
   "metadata": {},
   "source": [
    "# Q1 문자열 압축하기\n",
    "문자열을 입력받아 같은 문자가 연속적으로 반복되는 경우에 그 반복횟수를 표시에 문자열을 압축"
   ]
  },
  {
   "cell_type": "code",
   "execution_count": 100,
   "metadata": {},
   "outputs": [
    {
     "name": "stdout",
     "output_type": "stream",
     "text": [
      "c2b2a2\n"
     ]
    }
   ],
   "source": [
    "def strzip(s):\n",
    "    ls=set(s)\n",
    "    #print(ls)\n",
    "    result=''\n",
    "    for i in ls:\n",
    "        result = result+i\n",
    "        result = result+str(s.count(i))\n",
    "    return result\n",
    "\n",
    "print(strzip(\"aabbcc\"))"
   ]
  },
  {
   "cell_type": "markdown",
   "metadata": {
    "collapsed": true
   },
   "source": [
    "# Q2 Duplicate Number \n",
    "0~9 문자로된 숫자를 입력받아 0~9까지 모든 숫자가 꼭 한번씩만 사용된 것 True "
   ]
  },
  {
   "cell_type": "code",
   "execution_count": 20,
   "metadata": {},
   "outputs": [
    {
     "name": "stdout",
     "output_type": "stream",
     "text": [
      "False\n",
      "True\n"
     ]
    }
   ],
   "source": [
    "def dunumber(strnum):\n",
    "    num = [0,1,2,3,4,5,6,7,8,9]\n",
    "    cnt = [strnum.count(str(i)) for i in num]\n",
    "    return all(cnt)\n",
    "print(dunumber(\"12322\"))\n",
    "print(dunumber(\"0123456789\"))"
   ]
  },
  {
   "cell_type": "markdown",
   "metadata": {},
   "source": [
    "# Q3 모스 부호 해독\n",
    "문자열로 모스부호를 입력 받아 해독하여 영어 문장으로 출력하는 프로그램"
   ]
  },
  {
   "cell_type": "code",
   "execution_count": 51,
   "metadata": {},
   "outputs": [
    {
     "name": "stdout",
     "output_type": "stream",
     "text": [
      ". .- ...   .---\n"
     ]
    }
   ],
   "source": [
    " morseCode = {'a':'.-', 'b':'-...', 'c':'-.-.', 'd':'-..', 'e':'.', \n",
    "             'f':'..-.', 'g':'--.', 'h':'....', 'i':'..', 'j':'.---', \n",
    "             'k':'-.-', 'l':'.-..', 'm':'--', 'n':'-.', 'o':'---', \n",
    "             'p':'.--.', 'q':'--.-', 'r':'.-.', 's':'...', 't':'-', \n",
    "             'u':'..-', 'v':'...-', 'w':'.--', 'x':'-..-', 'y':'-.--', 'z':'--..', ' ':' '}\n",
    "def toMorse(estr):\n",
    "    mosStr = [morseCode[i] for i in estr.lower()]\n",
    "    return ' '.join(mosStr)\n",
    "print(toMorse(\"EAs j\"))"
   ]
  }
 ],
 "metadata": {
  "kernelspec": {
   "display_name": "Python 3",
   "language": "python",
   "name": "python3"
  },
  "language_info": {
   "codemirror_mode": {
    "name": "ipython",
    "version": 3
   },
   "file_extension": ".py",
   "mimetype": "text/x-python",
   "name": "python",
   "nbconvert_exporter": "python",
   "pygments_lexer": "ipython3",
   "version": "3.5.2"
  }
 },
 "nbformat": 4,
 "nbformat_minor": 2
}
