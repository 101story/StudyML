{
 "cells": [
  {
   "cell_type": "markdown",
   "metadata": {},
   "source": [
    "# 문자열"
   ]
  },
  {
   "cell_type": "code",
   "execution_count": 5,
   "metadata": {},
   "outputs": [
    {
     "data": {
      "text/plain": [
       "-1"
      ]
     },
     "execution_count": 5,
     "metadata": {},
     "output_type": "execute_result"
    }
   ],
   "source": [
    "'abcd'.find('e') # 글자 위치 출력"
   ]
  },
  {
   "cell_type": "code",
   "execution_count": 6,
   "metadata": {},
   "outputs": [
    {
     "ename": "ValueError",
     "evalue": "substring not found",
     "output_type": "error",
     "traceback": [
      "\u001b[1;31m---------------------------------------------------------------------------\u001b[0m",
      "\u001b[1;31mValueError\u001b[0m                                Traceback (most recent call last)",
      "\u001b[1;32m<ipython-input-6-e3f7193c828d>\u001b[0m in \u001b[0;36m<module>\u001b[1;34m()\u001b[0m\n\u001b[1;32m----> 1\u001b[1;33m \u001b[1;34m'abcd'\u001b[0m\u001b[1;33m.\u001b[0m\u001b[0mindex\u001b[0m\u001b[1;33m(\u001b[0m\u001b[1;34m'e'\u001b[0m\u001b[1;33m)\u001b[0m \u001b[1;31m# 없으면 에러\u001b[0m\u001b[1;33m\u001b[0m\u001b[0m\n\u001b[0m",
      "\u001b[1;31mValueError\u001b[0m: substring not found"
     ]
    }
   ],
   "source": [
    "'abcd'.index('e') # 없으면 에러"
   ]
  },
  {
   "cell_type": "code",
   "execution_count": 12,
   "metadata": {},
   "outputs": [
    {
     "name": "stdout",
     "output_type": "stream",
     "text": [
      "zabcdezabcdezabcdezabcdez\n",
      "ABCDE\n",
      "abcde\n",
      "hi \n",
      " hi\n",
      "hi\n",
      "abcde\n",
      "['a', 'b', 'c', 'd']\n"
     ]
    }
   ],
   "source": [
    "a='abcde'\n",
    "print(a.join('zzzzz')) # 문자열 삽입\n",
    "print(a.upper()) # 대문자로 바꾸기\n",
    "print(a.lower()) # 소문자로 바꾸기\n",
    "print(' hi '.lstrip()) # 왼쪽공백 지우기\n",
    "print(' hi '.rstrip()) # 오른쪽공백 지우기\n",
    "print(' hi '.strip()) # 양쪽공백 지우기\n",
    "print(a.replace('z','u')) # 문자열 바꾸기\n",
    "print('a,b,c,d'.split(',')) # 문자열 나누기"
   ]
  },
  {
   "cell_type": "code",
   "execution_count": 15,
   "metadata": {},
   "outputs": [
    {
     "data": {
      "text/plain": [
       "'one...1----'"
      ]
     },
     "execution_count": 15,
     "metadata": {},
     "output_type": "execute_result"
    }
   ],
   "source": [
    "'{0}...{1}{2}'.format(\"one\", 1, \"----\") # 문자열 포매팅 "
   ]
  },
  {
   "cell_type": "code",
   "execution_count": 23,
   "metadata": {},
   "outputs": [
    {
     "name": "stdout",
     "output_type": "stream",
     "text": [
      "!!!!!!!!aa\n",
      "    aa    \n",
      "    3.2131\n",
      "{ and }\n"
     ]
    }
   ],
   "source": [
    "print(\"{0:!>10}\".format('aa')) # 문자열 포매팅 공백추가\n",
    "print(\"{0:^10}\".format('aa')) # 문자열 가운데 정렬\n",
    "print(\"{0:10.4f}\".format(3.21313)) # 문자열 소숫점 표시\n",
    "print( \"{{ and }}\".format()) # {} 문자 표현 "
   ]
  },
  {
   "cell_type": "markdown",
   "metadata": {},
   "source": [
    "이스케이프 코드 \n",
    "<table align=\"left\">\n",
    "<tbody >\n",
    "<tr>\n",
    "    <th>코드</th>\n",
    "    <th>설명</th>\n",
    "</tr>\n",
    "<tr>\n",
    "    <td>\\n</td>\n",
    "    <td>개행 (줄바꿈)</td>\n",
    "</tr>\n",
    "<tr>\n",
    "    <td>\\t</td>\n",
    "    <td>수평 탭</td>\n",
    "</tr>\n",
    "<tr>\n",
    "    <td>\\\\</td>\n",
    "    <td>문자 \\</td>\n",
    "</tr>\n",
    "<tr>\n",
    "    <td>\\'</td>\n",
    "    <td>단일 인용부호 '</td>\n",
    "</tr>\n",
    "<tr>\n",
    "    <td>\\\"</td>\n",
    "    <td>이중 인용부호 \"</td>\n",
    "</tr>\n",
    "<tr>\n",
    "    <td>\\r</td>\n",
    "    <td>캐리지리턴</td>\n",
    "</tr>\n",
    "<tr>\n",
    "    <td>\\f</td>\n",
    "    <td>폼피드</td>\n",
    "</tr>\n",
    "<tr>\n",
    "    <td>\\a</td>\n",
    "    <td>벨 소리</td>\n",
    "</tr>\n",
    "<tr>\n",
    "    <td>\\b</td>\n",
    "    <td>백 스페이스</td>\n",
    "</tr>\n",
    "<tr>\n",
    "    <td>\\000</td>\n",
    "    <td>널문자</td>\n",
    "</tr>\n",
    "</tbody>\n",
    "</table>"
   ]
  },
  {
   "cell_type": "markdown",
   "metadata": {},
   "source": [
    "문자열 포맷 코드 <br/>\n",
    "코드 &nbsp; 설명<br/>\n",
    "%s\t&nbsp;&nbsp;&nbsp;&nbsp; 문자열 (String)<br/>\n",
    "%c\t&nbsp;&nbsp;&nbsp;&nbsp;\t문자 1개(character)<br/>\n",
    "%d\t&nbsp;&nbsp;&nbsp;&nbsp;\t정수 (Integer)<br/>\n",
    "%f\t&nbsp;&nbsp;&nbsp;&nbsp;\t부동소수 (floating-point)<br/>\n",
    "%o\t&nbsp;&nbsp;&nbsp;&nbsp;\t8진수<br/>\n",
    "%x\t&nbsp;&nbsp;&nbsp;&nbsp;\t16진수<br/>\n",
    "%%\t&nbsp;&nbsp;&nbsp;&nbsp;\tLiteral % (문자 % 자체)<br/>"
   ]
  },
  {
   "cell_type": "code",
   "execution_count": 3,
   "metadata": {},
   "outputs": [
    {
     "name": "stdout",
     "output_type": "stream",
     "text": [
      "hi        jane.\n",
      "3.4213\n"
     ]
    }
   ],
   "source": [
    "print(\"%-10sjane.\" % 'hi') #문자 공백넣기\n",
    "print(\"%0.4f\" % 3.42134234) #소수점 숫자표현"
   ]
  },
  {
   "cell_type": "markdown",
   "metadata": {},
   "source": [
    "## Q1"
   ]
  },
  {
   "cell_type": "code",
   "execution_count": 29,
   "metadata": {},
   "outputs": [
    {
     "name": "stdout",
     "output_type": "stream",
     "text": [
      "881120\n",
      "1068234\n"
     ]
    }
   ],
   "source": [
    "pin = \"881120-1068234\"\n",
    "yyyymmdd=pin[ :pin.find('-')]\n",
    "num=pin[pin.find('-')+1:]\n",
    "print(yyyymmdd)\n",
    "print(num)"
   ]
  },
  {
   "cell_type": "markdown",
   "metadata": {},
   "source": [
    "## Q2"
   ]
  },
  {
   "cell_type": "code",
   "execution_count": 30,
   "metadata": {},
   "outputs": [
    {
     "name": "stdout",
     "output_type": "stream",
     "text": [
      "1\n"
     ]
    }
   ],
   "source": [
    "print(pin[pin.find('-')+1])"
   ]
  },
  {
   "cell_type": "markdown",
   "metadata": {},
   "source": [
    "# 리스트"
   ]
  },
  {
   "cell_type": "code",
   "execution_count": 34,
   "metadata": {},
   "outputs": [
    {
     "name": "stdout",
     "output_type": "stream",
     "text": [
      "['a', 'b']\n"
     ]
    }
   ],
   "source": [
    "a = [1, 2, 3, ['a', 'b', 'c'], 4, 5]\n",
    "print(a[3][:2])"
   ]
  },
  {
   "cell_type": "code",
   "execution_count": 56,
   "metadata": {},
   "outputs": [
    {
     "name": "stdout",
     "output_type": "stream",
     "text": [
      "[1, 2, 3, 'a', 1, 2, 3, 'a', 1, 2, 3, 'a']\n"
     ]
    }
   ],
   "source": [
    "a = [1, 2, 3,'a']\n",
    "print(a * 3)\n",
    "b = a + [4]"
   ]
  },
  {
   "cell_type": "code",
   "execution_count": 43,
   "metadata": {},
   "outputs": [
    {
     "data": {
      "text/plain": [
       "5"
      ]
     },
     "execution_count": 43,
     "metadata": {},
     "output_type": "execute_result"
    }
   ],
   "source": [
    "a = [1, 2, 3]\n",
    "a.append(4) # 뒤에 붙이기\n",
    "a.sort() # 정렬\n",
    "a.reverse() # 뒤집기\n",
    "a.index(1) # 요소 인덱스 \n",
    "a.insert(0, 4) # 요소 추가 0번쨰 자리\n",
    "a.remove(3) # 요소 1개 삭제\n",
    "a.count(1) # 요소 개수 세기\n",
    "a.extend([4,5]) # 요소 확장\n",
    "a.pop() # 맨 마지막 요소"
   ]
  },
  {
   "cell_type": "markdown",
   "metadata": {},
   "source": [
    "## Q1"
   ]
  },
  {
   "cell_type": "code",
   "execution_count": 36,
   "metadata": {},
   "outputs": [
    {
     "name": "stdout",
     "output_type": "stream",
     "text": [
      "[1, 2, 3, 4, 5]\n",
      "[5, 4, 3, 2, 1]\n"
     ]
    }
   ],
   "source": [
    "a = [1,3,5,4,2]\n",
    "a.sort()\n",
    "print(a)\n",
    "a.reverse()\n",
    "print(a)"
   ]
  },
  {
   "cell_type": "markdown",
   "metadata": {},
   "source": [
    "## Q2"
   ]
  },
  {
   "cell_type": "code",
   "execution_count": 42,
   "metadata": {},
   "outputs": [
    {
     "name": "stdout",
     "output_type": "stream",
     "text": [
      "Life is too short\n"
     ]
    }
   ],
   "source": [
    "a = ['Life', 'is', 'too','short']\n",
    "result=' '.join(a)\n",
    "print(result)"
   ]
  },
  {
   "cell_type": "markdown",
   "metadata": {},
   "source": [
    "# 튜플"
   ]
  },
  {
   "cell_type": "markdown",
   "metadata": {
    "collapsed": true
   },
   "source": [
    "## Q1"
   ]
  },
  {
   "cell_type": "code",
   "execution_count": 45,
   "metadata": {},
   "outputs": [
    {
     "name": "stdout",
     "output_type": "stream",
     "text": [
      "(1, 2, 3, 'a', 4)\n"
     ]
    }
   ],
   "source": [
    "a=(1,2,3,'a')\n",
    "# a=a+(4) \n",
    "a=a+(4,) \n",
    "print(a)"
   ]
  },
  {
   "cell_type": "markdown",
   "metadata": {},
   "source": [
    "# 딕셔너리"
   ]
  },
  {
   "cell_type": "code",
   "execution_count": 31,
   "metadata": {
    "collapsed": true
   },
   "outputs": [],
   "source": [
    "dic = {'name':'pey', 'phone':'0119993323', 'birth': '1118'}\n",
    "a = { 'a': [1,2,3]}\n",
    "a['a']"
   ]
  },
  {
   "cell_type": "code",
   "execution_count": 36,
   "metadata": {},
   "outputs": [
    {
     "data": {
      "text/plain": [
       "False"
      ]
     },
     "execution_count": 36,
     "metadata": {},
     "output_type": "execute_result"
    }
   ],
   "source": [
    "dic.keys() # 키확인\n",
    "list(dic.keys()) # 객체를 리스트로 변환\n",
    "dic.values() # value 확인\n",
    "#키로 값 얻기 \n",
    "dic.get('name')\n",
    "dic['name']\n",
    "dic.items() # Key, Value 쌍\n",
    "del dic['birth'] #삭제\n",
    "dic.clear() # 모두 지우기\n",
    "'name' in dic # 존재 확인하기"
   ]
  },
  {
   "cell_type": "markdown",
   "metadata": {},
   "source": [
    "## Q1"
   ]
  },
  {
   "cell_type": "code",
   "execution_count": 40,
   "metadata": {},
   "outputs": [
    {
     "name": "stdout",
     "output_type": "stream",
     "text": [
      "{'A': 90, 'C': 70}\n",
      "80\n"
     ]
    }
   ],
   "source": [
    "a = {'A':90, 'B':80, 'C':70}\n",
    "result = a['B']\n",
    "del a['B']\n",
    "print(a)\n",
    "print(result)"
   ]
  },
  {
   "cell_type": "markdown",
   "metadata": {},
   "source": [
    "# 집합"
   ]
  },
  {
   "cell_type": "code",
   "execution_count": 42,
   "metadata": {
    "collapsed": true
   },
   "outputs": [],
   "source": [
    "s2 = set(\"Hello\") # 중복제거\n",
    "l1 = list(s2)\n",
    "t1 = tuple(s2)"
   ]
  },
  {
   "cell_type": "code",
   "execution_count": 43,
   "metadata": {},
   "outputs": [
    {
     "data": {
      "text/plain": [
       "{1, 2, 3}"
      ]
     },
     "execution_count": 43,
     "metadata": {},
     "output_type": "execute_result"
    }
   ],
   "source": [
    "s1 = set([1, 2, 3, 4, 5, 6])\n",
    "s2 = set([4, 5, 6, 7, 8, 9])\n",
    "# 교칩합\n",
    "s1 & s2 \n",
    "s1.intersection(s2)\n",
    "# 합집합\n",
    "s1 | s2\n",
    "s1.union(s2)\n",
    "# 차집합\n",
    "s1 - s2\n",
    "s1.difference(s2)"
   ]
  },
  {
   "cell_type": "code",
   "execution_count": 46,
   "metadata": {
    "collapsed": true
   },
   "outputs": [],
   "source": [
    "s1.add(1111) # 값 한게 추가\n",
    "s1.update([4, 5, 6]) # 값 여러게\n",
    "s1.remove(2) # 값 제거 "
   ]
  },
  {
   "cell_type": "markdown",
   "metadata": {},
   "source": [
    "## Q1"
   ]
  },
  {
   "cell_type": "code",
   "execution_count": 50,
   "metadata": {},
   "outputs": [
    {
     "name": "stdout",
     "output_type": "stream",
     "text": [
      "[1, 2, 3, 4, 5]\n"
     ]
    }
   ],
   "source": [
    "a = [1,1,1,2,2,3,3,3,4,4,5]\n",
    "aSet = set(a)\n",
    "b = list(aSet)\n",
    "print(b)"
   ]
  },
  {
   "cell_type": "markdown",
   "metadata": {},
   "source": [
    "# 변수"
   ]
  },
  {
   "cell_type": "code",
   "execution_count": 52,
   "metadata": {},
   "outputs": [
    {
     "name": "stdout",
     "output_type": "stream",
     "text": [
      "4\n",
      "3\n",
      "2\n",
      "1\n"
     ]
    }
   ],
   "source": [
    "a = [1, 2, 3, 4]\n",
    "while a: print(a.pop())"
   ]
  },
  {
   "cell_type": "code",
   "execution_count": 53,
   "metadata": {},
   "outputs": [
    {
     "name": "stdout",
     "output_type": "stream",
     "text": [
      "541\n",
      "544\n",
      "542\n"
     ]
    }
   ],
   "source": [
    "import sys\n",
    "print(sys.getrefcount(3)) # 정수형 객체에 참조 개수\n",
    "a = 3\n",
    "print(sys.getrefcount(3)) # 파이썬 내부적으로 3이라는 자료형을 이미 사용함\n",
    "b = 3\n",
    "print(sys.getrefcount(3))"
   ]
  },
  {
   "cell_type": "code",
   "execution_count": 54,
   "metadata": {
    "collapsed": true
   },
   "outputs": [],
   "source": [
    "a, b = ('python', 'life')\n",
    "(a, b) = 'python', 'life'\n",
    "[a,b] = ['python', 'life']\n",
    "a, b = b, a\n",
    "del(a) # 메모리에 변수 삭제"
   ]
  },
  {
   "cell_type": "code",
   "execution_count": 59,
   "metadata": {},
   "outputs": [
    {
     "name": "stdout",
     "output_type": "stream",
     "text": [
      "[1, 4, 3] [1, 4, 3]\n",
      "[1, 4, 3] [1, 2, 3]\n"
     ]
    }
   ],
   "source": [
    "a = [1,2,3]\n",
    "b = a\n",
    "a[1] = 4\n",
    "print(a,b)\n",
    "a = [1,2,3]\n",
    "b = a[:]\n",
    "a[1] = 4\n",
    "print(a,b)"
   ]
  },
  {
   "cell_type": "code",
   "execution_count": 60,
   "metadata": {},
   "outputs": [
    {
     "data": {
      "text/plain": [
       "False"
      ]
     },
     "execution_count": 60,
     "metadata": {},
     "output_type": "execute_result"
    }
   ],
   "source": [
    "from copy import copy\n",
    "b = copy(a) \n",
    "b is a # 같은 값, 다른 객체"
   ]
  },
  {
   "cell_type": "markdown",
   "metadata": {},
   "source": [
    "## Q1"
   ]
  },
  {
   "cell_type": "code",
   "execution_count": 62,
   "metadata": {},
   "outputs": [
    {
     "name": "stdout",
     "output_type": "stream",
     "text": [
      "[1, 4, 3]\n"
     ]
    },
    {
     "data": {
      "text/plain": [
       "True"
      ]
     },
     "execution_count": 62,
     "metadata": {},
     "output_type": "execute_result"
    }
   ],
   "source": [
    "a=b=[1,2,3]\n",
    "a[1]=4\n",
    "print(b)\n",
    "a is b # 같은 객체"
   ]
  }
 ],
 "metadata": {
  "kernelspec": {
   "display_name": "Python 3",
   "language": "python",
   "name": "python3"
  },
  "language_info": {
   "codemirror_mode": {
    "name": "ipython",
    "version": 3
   },
   "file_extension": ".py",
   "mimetype": "text/x-python",
   "name": "python",
   "nbconvert_exporter": "python",
   "pygments_lexer": "ipython3",
   "version": "3.6.1"
  }
 },
 "nbformat": 4,
 "nbformat_minor": 2
}
