{
 "cells": [
  {
   "cell_type": "markdown",
   "metadata": {},
   "source": [
    "https://beomi.github.io/2017/02/27/HowToMakeWebCrawler-With-Selenium/"
   ]
  },
  {
   "cell_type": "code",
   "execution_count": 2,
   "metadata": {
    "collapsed": true
   },
   "outputs": [],
   "source": [
    "import bs4 as bs\n",
    "from selenium import webdriver\n",
    "\n",
    "# 크롭 화면 띄워서 크롤링하기 \n",
    "# driver = webdriver.Chrome(executable_path='C:/Users/jhfolder/GitRepositories/crawling/chromedriver.exe', port=9515)\n",
    "# driver = webdriver.Chrome()\n",
    "# driver.get('https://www.hanwhafireworks.com/event-goldenticket.do') \n",
    "\n",
    "# PhantomJS는 기본적으로 WebTesting을 위해 나온 Headless Browser다.(화면이 존재하지 않는다)\n",
    "driver = webdriver.PhantomJS('crawling/phantomjs-2.1.1-windows/bin/phantomjs')\n",
    "driver.get('https://www.hanwhafireworks.com/event-goldenticket.do') \n",
    "\n",
    "driver.implicitly_wait(3) # 3초 기다림\n",
    "# a = driver.find_element_by_xpath('//*[@id=\"header\"]/div/div[2]/ul/li[2]/div')\n",
    "\n",
    "# print(a)\n",
    "html = driver.page_source # 페이지의 elements모두 가져오기\n",
    "soup = bs.BeautifulSoup(html, 'html.parser') \n",
    "    \n",
    "count=[]\n",
    "for link in soup.find(\"div\", {\"id\":\"header\"}).find(\"div\", {\"class\":\"navi\"}).find(\"div\", {\"class\":\"rolling_box_gnb\"}).findAll(\"span\"):\n",
    "    count.append(link.text)"
   ]
  },
  {
   "cell_type": "code",
   "execution_count": 11,
   "metadata": {},
   "outputs": [
    {
     "data": {
      "text/plain": [
       "'240'"
      ]
     },
     "execution_count": 11,
     "metadata": {},
     "output_type": "execute_result"
    }
   ],
   "source": [
    "''.join(count[1:])"
   ]
  },
  {
   "cell_type": "code",
   "execution_count": 15,
   "metadata": {},
   "outputs": [
    {
     "data": {
      "text/plain": [
       "'19-19'"
      ]
     },
     "execution_count": 15,
     "metadata": {},
     "output_type": "execute_result"
    }
   ],
   "source": [
    "import time\n",
    "\n",
    "now = time.localtime()\n",
    "time.strftime(\"%H-%M\" ,now)"
   ]
  },
  {
   "cell_type": "markdown",
   "metadata": {},
   "source": [
    "-----------------------------"
   ]
  },
  {
   "cell_type": "code",
   "execution_count": 24,
   "metadata": {
    "collapsed": true
   },
   "outputs": [],
   "source": [
    "import bs4 as bs\n",
    "from selenium import webdriver\n"
   ]
  },
  {
   "cell_type": "code",
   "execution_count": 20,
   "metadata": {
    "collapsed": true
   },
   "outputs": [],
   "source": [
    "def get_count():\n",
    "    driver.get('https://www.hanwhafireworks.com/event-goldenticket.do') \n",
    "    driver.implicitly_wait(3)\n",
    "    html = driver.page_source # 페이지의 elements모두 가져오기\n",
    "    soup = bs.BeautifulSoup(html, 'html.parser') \n",
    "    count=[]\n",
    "    for link in soup.find(\"div\", {\"id\":\"header\"}).find(\"div\", {\"class\":\"navi\"}).find(\"div\", {\"class\":\"rolling_box_gnb\"}).findAll(\"span\"):\n",
    "        count.append(link.text)\n",
    "\n",
    "    return count"
   ]
  },
  {
   "cell_type": "code",
   "execution_count": 27,
   "metadata": {
    "scrolled": true
   },
   "outputs": [],
   "source": [
    "import threading \n",
    "import time\n",
    "\n",
    "end = False\n",
    "\n",
    "def execute_funct(second=60.0):\n",
    "    global end\n",
    "    if end:\n",
    "        return\n",
    "    \n",
    "    now = time.localtime()\n",
    "    #print(\"here\")\n",
    "    data = get_count()\n",
    "    #print(\"data \",data)\n",
    "    now_time = time.strftime(\"%H-%M\" ,now)\n",
    "    s = now_time+'\\t' +''.join(data[1:])\n",
    "    \n",
    "    with open(\"countData.txt\", 'a') as f:\n",
    "        f.write('\\n'+s)\n",
    "        \n",
    "    threading.Timer(second, execute_funct, [second]).start()"
   ]
  },
  {
   "cell_type": "code",
   "execution_count": 29,
   "metadata": {},
   "outputs": [],
   "source": [
    "driver = webdriver.PhantomJS('crawling/phantomjs-2.1.1-windows/bin/phantomjs')\n",
    "execute_funct()"
   ]
  },
  {
   "cell_type": "code",
   "execution_count": null,
   "metadata": {
    "collapsed": true
   },
   "outputs": [],
   "source": []
  }
 ],
 "metadata": {
  "kernelspec": {
   "display_name": "Python 3",
   "language": "python",
   "name": "python3"
  },
  "language_info": {
   "codemirror_mode": {
    "name": "ipython",
    "version": 3
   },
   "file_extension": ".py",
   "mimetype": "text/x-python",
   "name": "python",
   "nbconvert_exporter": "python",
   "pygments_lexer": "ipython3",
   "version": "3.6.1"
  }
 },
 "nbformat": 4,
 "nbformat_minor": 2
}
