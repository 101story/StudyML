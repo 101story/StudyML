{
 "cells": [
  {
   "cell_type": "code",
   "execution_count": 1,
   "metadata": {},
   "outputs": [
    {
     "name": "stdout",
     "output_type": "stream",
     "text": [
      "Reading package lists... Done\n",
      "Building dependency tree       \n",
      "Reading state information... Done\n",
      "python3-bs4 is already the newest version (4.4.1-1).\n",
      "python3-bs4 set to manually installed.\n",
      "0 upgraded, 0 newly installed, 0 to remove and 20 not upgraded.\n"
     ]
    }
   ],
   "source": [
    "!apt-get install python3-bs4"
   ]
  },
  {
   "cell_type": "code",
   "execution_count": 10,
   "metadata": {},
   "outputs": [
    {
     "name": "stdout",
     "output_type": "stream",
     "text": [
      "Requirement already up-to-date: beautifulsoup4 in /usr/local/lib/python3.5/dist-packages\r\n"
     ]
    }
   ],
   "source": [
    "!pip3 install --upgrade beautifulsoup4"
   ]
  },
  {
   "cell_type": "code",
   "execution_count": 5,
   "metadata": {},
   "outputs": [
    {
     "name": "stdout",
     "output_type": "stream",
     "text": [
      "Requirement already up-to-date: html5lib in /usr/local/lib/python3.5/dist-packages\n",
      "Requirement already up-to-date: webencodings in /usr/local/lib/python3.5/dist-packages (from html5lib)\n",
      "Requirement already up-to-date: six in /usr/local/lib/python3.5/dist-packages (from html5lib)\n",
      "Collecting setuptools>=18.5 (from html5lib)\n",
      "  Downloading setuptools-36.6.0-py2.py3-none-any.whl (481kB)\n",
      "\u001b[K    100% |################################| 481kB 1.6MB/s ta 0:00:01\n",
      "\u001b[?25hInstalling collected packages: setuptools\n",
      "  Found existing installation: setuptools 36.5.0\n",
      "    Uninstalling setuptools-36.5.0:\n",
      "      Successfully uninstalled setuptools-36.5.0\n",
      "Successfully installed setuptools-36.6.0\n"
     ]
    }
   ],
   "source": [
    "!pip install --upgrade html5lib"
   ]
  },
  {
   "cell_type": "code",
   "execution_count": 7,
   "metadata": {},
   "outputs": [
    {
     "name": "stdout",
     "output_type": "stream",
     "text": [
      "Collecting html5lib==1.0b8\n",
      "  Downloading html5lib-1.0b8.tar.gz (889kB)\n",
      "\u001b[K    100% |################################| 890kB 882kB/s eta 0:00:01\n",
      "\u001b[?25hRequirement already up-to-date: six in /usr/local/lib/python3.5/dist-packages (from html5lib==1.0b8)\n",
      "Building wheels for collected packages: html5lib\n",
      "  Running setup.py bdist_wheel for html5lib ... \u001b[?25ldone\n",
      "\u001b[?25h  Stored in directory: /root/.cache/pip/wheels/d4/d1/0b/a6b6f9f204af55c9bb8c97eae2a78b690b7150a7b850bb9403\n",
      "Successfully built html5lib\n",
      "Installing collected packages: html5lib\n",
      "  Found existing installation: html5lib 1.0b10\n",
      "    Uninstalling html5lib-1.0b10:\n",
      "      Successfully uninstalled html5lib-1.0b10\n",
      "Successfully installed html5lib-1.0b8\n"
     ]
    }
   ],
   "source": [
    "!pip install --upgrade html5lib==1.0b8"
   ]
  },
  {
   "cell_type": "code",
   "execution_count": 12,
   "metadata": {},
   "outputs": [
    {
     "name": "stdout",
     "output_type": "stream",
     "text": [
      "Reading package lists... Done\n",
      "Building dependency tree       \n",
      "Reading state information... Done\n",
      "python3-html5lib is already the newest version (0.999-4).\n",
      "python3-html5lib set to manually installed.\n",
      "0 upgraded, 0 newly installed, 0 to remove and 20 not upgraded.\n"
     ]
    }
   ],
   "source": [
    "!apt-get install python3-html5lib"
   ]
  },
  {
   "cell_type": "code",
   "execution_count": 1,
   "metadata": {},
   "outputs": [],
   "source": [
    "from bs4 import BeautifulSoup"
   ]
  },
  {
   "cell_type": "code",
   "execution_count": null,
   "metadata": {},
   "outputs": [],
   "source": []
  }
 ],
 "metadata": {
  "kernelspec": {
   "display_name": "Python 3",
   "language": "python",
   "name": "python3"
  },
  "language_info": {
   "codemirror_mode": {
    "name": "ipython",
    "version": 3
   },
   "file_extension": ".py",
   "mimetype": "text/x-python",
   "name": "python",
   "nbconvert_exporter": "python",
   "pygments_lexer": "ipython3",
   "version": "3.5.2"
  }
 },
 "nbformat": 4,
 "nbformat_minor": 2
}
