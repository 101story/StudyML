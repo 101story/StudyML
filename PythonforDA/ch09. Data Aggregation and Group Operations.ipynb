{
 "cells": [
  {
   "cell_type": "markdown",
   "metadata": {},
   "source": [
    "# Data Aggregation and Group Operations"
   ]
  },
  {
   "cell_type": "code",
   "execution_count": 2,
   "metadata": {
    "collapsed": true
   },
   "outputs": [],
   "source": [
    "from __future__ import division\n",
    "from numpy.random import randn\n",
    "import numpy as np\n",
    "import os\n",
    "import matplotlib.pyplot as plt\n",
    "np.random.seed(12345)\n",
    "plt.rc('figure', figsize=(10, 6))\n",
    "from pandas import Series, DataFrame\n",
    "import pandas as pd\n",
    "np.set_printoptions(precision=4)"
   ]
  },
  {
   "cell_type": "code",
   "execution_count": 3,
   "metadata": {
    "collapsed": true
   },
   "outputs": [],
   "source": [
    "pd.options.display.notebook_repr_html = False"
   ]
  },
  {
   "cell_type": "code",
   "execution_count": 4,
   "metadata": {
    "collapsed": true
   },
   "outputs": [],
   "source": [
    "%matplotlib inline"
   ]
  },
  {
   "cell_type": "code",
   "execution_count": 5,
   "metadata": {
    "collapsed": true
   },
   "outputs": [],
   "source": [
    "from IPython.core.interactiveshell import InteractiveShell\n",
    "InteractiveShell.ast_node_interactivity = 'all'"
   ]
  },
  {
   "cell_type": "markdown",
   "metadata": {},
   "source": [
    "## GroupBy mechanics\n",
    "\n",
    "그룹연산 split-apply-combine (분리, 적용, 결합)\n",
    "\n",
    "* apply\n",
    "    - aggregation : df -> series -> scala 로 차원이 줄어듬 (연산이 2개인경우 줄지 않을 수 있다.)\n",
    "    - transformation : group-secific computations : data 에 단항 연산을 적용 \n",
    "    - filtration : 조건에 맞는것을 골라냄 \n",
    "    \n",
    "    \n",
    "* combine\n",
    "    df <- series <- scala\n",
    "    \n",
    "    \n",
    "* 그룹의 인덱스 -> 결과의 인덱스를 구성 <br>\n",
    "    같은 것끼리 모을떄 key가 될수 있는 것들<br>\n",
    "    (리스트, 배열, 컬럼명, 사전, Series 객체, 축 인덱스, 인덱스 함수) 조합\n",
    "    \n",
    "\n",
    "* groupby 객체 <br>\n",
    "    iter 객체를 가지고 있음 \n",
    "    \n",
    "\n",
    "* groupby() 의 by 인자 <br>\n",
    "    mapper 또는 컬럼 이름으로 묶기 <br>\n",
    "    function, dic, Series, ndarray, str, list of strs\n",
    "    \n",
    "    \n",
    "* groupby() 의 level 인자 <br>\n",
    "    level 을 index 로 묶기 "
   ]
  },
  {
   "cell_type": "code",
   "execution_count": 6,
   "metadata": {},
   "outputs": [
    {
     "data": {
      "text/plain": [
       "   data1  data2 key1 key2\n",
       "0      2      5    a  one\n",
       "1      5      2    a  two\n",
       "2      1      1    b  one\n",
       "3      4      6    b  two\n",
       "4      9      1    a  one"
      ]
     },
     "execution_count": 6,
     "metadata": {},
     "output_type": "execute_result"
    }
   ],
   "source": [
    "df = DataFrame({'key1' : ['a', 'a', 'b', 'b', 'a'],\n",
    "                'key2' : ['one', 'two', 'one', 'two', 'one'],\n",
    "                'data1' : np.random.randint(10, size=5),\n",
    "                'data2' : np.random.randint(10, size=5)}) \n",
    "                # randint(10, size=5) 정수로 변경 \n",
    "\n",
    "df # 사전으로 만들면 컬럼명이 정렬되서 나옴 "
   ]
  },
  {
   "cell_type": "code",
   "execution_count": 7,
   "metadata": {},
   "outputs": [
    {
     "data": {
      "text/plain": [
       "<pandas.core.groupby.SeriesGroupBy object at 0x000002CB4BFB6550>"
      ]
     },
     "execution_count": 7,
     "metadata": {},
     "output_type": "execute_result"
    },
    {
     "data": {
      "text/plain": [
       "<pandas.core.groupby.SeriesGroupBy object at 0x000002CB4BFB64A8>"
      ]
     },
     "execution_count": 7,
     "metadata": {},
     "output_type": "execute_result"
    }
   ],
   "source": [
    "grouped = df['data1'].groupby(df['key1'])\n",
    "grouped\n",
    "grouped1 = df.data1.groupby(df.key1)\n",
    "grouped1"
   ]
  },
  {
   "cell_type": "code",
   "execution_count": 8,
   "metadata": {},
   "outputs": [
    {
     "data": {
      "text/plain": [
       "pandas.core.series.Series"
      ]
     },
     "execution_count": 8,
     "metadata": {},
     "output_type": "execute_result"
    },
    {
     "data": {
      "text/plain": [
       "pandas.core.frame.DataFrame"
      ]
     },
     "execution_count": 8,
     "metadata": {},
     "output_type": "execute_result"
    }
   ],
   "source": [
    "type(df['data1'])\n",
    "type(df[['data1']])"
   ]
  },
  {
   "cell_type": "code",
   "execution_count": 9,
   "metadata": {},
   "outputs": [
    {
     "data": {
      "text/plain": [
       "key1\n",
       "a    5.333333\n",
       "b    2.500000\n",
       "Name: data1, dtype: float64"
      ]
     },
     "execution_count": 9,
     "metadata": {},
     "output_type": "execute_result"
    }
   ],
   "source": [
    "grouped.mean()"
   ]
  },
  {
   "cell_type": "code",
   "execution_count": 10,
   "metadata": {},
   "outputs": [
    {
     "data": {
      "text/plain": [
       "key1  key2\n",
       "a     one     5.5\n",
       "      two     5.0\n",
       "b     one     1.0\n",
       "      two     4.0\n",
       "Name: data1, dtype: float64"
      ]
     },
     "execution_count": 10,
     "metadata": {},
     "output_type": "execute_result"
    }
   ],
   "source": [
    "means = df['data1'].groupby([df['key1'], df['key2']]).mean()\n",
    "means"
   ]
  },
  {
   "cell_type": "code",
   "execution_count": 11,
   "metadata": {},
   "outputs": [
    {
     "data": {
      "text/plain": [
       "key2  one  two\n",
       "key1          \n",
       "a     5.5  5.0\n",
       "b     1.0  4.0"
      ]
     },
     "execution_count": 11,
     "metadata": {},
     "output_type": "execute_result"
    }
   ],
   "source": [
    "means.unstack()"
   ]
  },
  {
   "cell_type": "code",
   "execution_count": 12,
   "metadata": {},
   "outputs": [
    {
     "data": {
      "text/plain": [
       "   data1  data2 key1 key2\n",
       "0      2      5    a  one\n",
       "1      5      2    a  two\n",
       "2      1      1    b  one\n",
       "3      4      6    b  two\n",
       "4      9      1    a  one"
      ]
     },
     "execution_count": 12,
     "metadata": {},
     "output_type": "execute_result"
    },
    {
     "data": {
      "text/plain": [
       "California  2005    5\n",
       "            2006    1\n",
       "Ohio        2005    3\n",
       "            2006    9\n",
       "Name: data1, dtype: int32"
      ]
     },
     "execution_count": 12,
     "metadata": {},
     "output_type": "execute_result"
    }
   ],
   "source": [
    "df\n",
    "states = np.array(['Ohio', 'California', 'California', 'Ohio', 'Ohio'])\n",
    "years = np.array([2005, 2005, 2006, 2005, 2006])\n",
    "df['data1'].groupby([states, years]).mean()"
   ]
  },
  {
   "cell_type": "code",
   "execution_count": 13,
   "metadata": {},
   "outputs": [
    {
     "data": {
      "text/plain": [
       "         data1     data2\n",
       "key1                    \n",
       "a     5.333333  2.666667\n",
       "b     2.500000  3.500000"
      ]
     },
     "execution_count": 13,
     "metadata": {},
     "output_type": "execute_result"
    }
   ],
   "source": [
    "df.groupby('key1').mean() # 수치값의 평균"
   ]
  },
  {
   "cell_type": "code",
   "execution_count": 14,
   "metadata": {},
   "outputs": [
    {
     "data": {
      "text/plain": [
       "           data1  data2\n",
       "key1 key2              \n",
       "a    one     5.5    3.0\n",
       "     two     5.0    2.0\n",
       "b    one     1.0    1.0\n",
       "     two     4.0    6.0"
      ]
     },
     "execution_count": 14,
     "metadata": {},
     "output_type": "execute_result"
    }
   ],
   "source": [
    "df.groupby(['key1', 'key2']).mean()"
   ]
  },
  {
   "cell_type": "code",
   "execution_count": 15,
   "metadata": {},
   "outputs": [
    {
     "data": {
      "text/plain": [
       "key1  key2\n",
       "a     one     2\n",
       "      two     1\n",
       "b     one     1\n",
       "      two     1\n",
       "dtype: int64"
      ]
     },
     "execution_count": 15,
     "metadata": {},
     "output_type": "execute_result"
    }
   ],
   "source": [
    "# 원소 개수를 구함 \n",
    "df.groupby(['key1', 'key2']).size() "
   ]
  },
  {
   "cell_type": "markdown",
   "metadata": {},
   "source": [
    "### Iterating over groups\n",
    "\n",
    "그룹 순회"
   ]
  },
  {
   "cell_type": "code",
   "execution_count": 16,
   "metadata": {},
   "outputs": [
    {
     "data": {
      "text/plain": [
       "   data1  data2 key1 key2\n",
       "0      2      5    a  one\n",
       "1      5      2    a  two\n",
       "2      1      1    b  one\n",
       "3      4      6    b  two\n",
       "4      9      1    a  one"
      ]
     },
     "execution_count": 16,
     "metadata": {},
     "output_type": "execute_result"
    },
    {
     "name": "stdout",
     "output_type": "stream",
     "text": [
      "a\n",
      "   data1  data2 key1 key2\n",
      "0      2      5    a  one\n",
      "1      5      2    a  two\n",
      "4      9      1    a  one\n",
      "b\n",
      "   data1  data2 key1 key2\n",
      "2      1      1    b  one\n",
      "3      4      6    b  two\n"
     ]
    }
   ],
   "source": [
    "df\n",
    "# group 의 이름이 a, b \n",
    "for name, group in df.groupby('key1'):\n",
    "    print(name)\n",
    "    print(group)"
   ]
  },
  {
   "cell_type": "code",
   "execution_count": 17,
   "metadata": {},
   "outputs": [
    {
     "name": "stdout",
     "output_type": "stream",
     "text": [
      "('a', 'one')\n",
      "\r",
      "    data1  data2 key1 key2\n",
      "0      2      5    a  one\n",
      "4      9      1    a  one\n",
      "('a', 'two')\n",
      "\r",
      "    data1  data2 key1 key2\n",
      "1      5      2    a  two\n",
      "('b', 'one')\n",
      "\r",
      "    data1  data2 key1 key2\n",
      "2      1      1    b  one\n",
      "('b', 'two')\n",
      "\r",
      "    data1  data2 key1 key2\n",
      "3      4      6    b  two\n"
     ]
    }
   ],
   "source": [
    "for (k1, k2), group in df.groupby(['key1', 'key2']):\n",
    "    print((k1, k2))\n",
    "    print('\\r', group)"
   ]
  },
  {
   "cell_type": "code",
   "execution_count": 18,
   "metadata": {},
   "outputs": [
    {
     "data": {
      "text/plain": [
       "[('a',    data1  data2 key1 key2\n",
       "  0      2      5    a  one\n",
       "  1      5      2    a  two\n",
       "  4      9      1    a  one), ('b',    data1  data2 key1 key2\n",
       "  2      1      1    b  one\n",
       "  3      4      6    b  two)]"
      ]
     },
     "execution_count": 18,
     "metadata": {},
     "output_type": "execute_result"
    }
   ],
   "source": [
    "# [(a,   data1  data2 key1 key2), (a,   data1  data2 key1 key2)] 튜플 리스트\n",
    "list(df.groupby('key1'))"
   ]
  },
  {
   "cell_type": "code",
   "execution_count": 19,
   "metadata": {},
   "outputs": [
    {
     "data": {
      "text/plain": [
       "   data1  data2 key1 key2\n",
       "2      1      1    b  one\n",
       "3      4      6    b  two"
      ]
     },
     "execution_count": 19,
     "metadata": {},
     "output_type": "execute_result"
    }
   ],
   "source": [
    "pieces = dict(list(df.groupby('key1')))\n",
    "pieces['b']"
   ]
  },
  {
   "cell_type": "code",
   "execution_count": 20,
   "metadata": {},
   "outputs": [
    {
     "data": {
      "text/plain": [
       "data1     int32\n",
       "data2     int32\n",
       "key1     object\n",
       "key2     object\n",
       "dtype: object"
      ]
     },
     "execution_count": 20,
     "metadata": {},
     "output_type": "execute_result"
    },
    {
     "data": {
      "text/plain": [
       "   data1  data2 key1 key2\n",
       "0      2      5    a  one\n",
       "1      5      2    a  two\n",
       "2      1      1    b  one\n",
       "3      4      6    b  two\n",
       "4      9      1    a  one"
      ]
     },
     "execution_count": 20,
     "metadata": {},
     "output_type": "execute_result"
    }
   ],
   "source": [
    "df.dtypes\n",
    "df"
   ]
  },
  {
   "cell_type": "code",
   "execution_count": 21,
   "metadata": {},
   "outputs": [
    {
     "data": {
      "text/plain": [
       "{dtype('int32'):    data1  data2\n",
       " 0      2      5\n",
       " 1      5      2\n",
       " 2      1      1\n",
       " 3      4      6\n",
       " 4      9      1, dtype('O'):   key1 key2\n",
       " 0    a  one\n",
       " 1    a  two\n",
       " 2    b  one\n",
       " 3    b  two\n",
       " 4    a  one}"
      ]
     },
     "execution_count": 21,
     "metadata": {},
     "output_type": "execute_result"
    }
   ],
   "source": [
    "# Series df.dtypes 를 key 로 axis=1 컬럼을 기준으로 묶음 \n",
    "grouped = df.groupby(df.dtypes, axis=1)\n",
    "dict(list(grouped))"
   ]
  },
  {
   "cell_type": "code",
   "execution_count": 22,
   "metadata": {},
   "outputs": [
    {
     "data": {
      "text/plain": [
       "key2     object\n",
       "data1     int32\n",
       "data2     int32\n",
       "key1     object\n",
       "dtype: object"
      ]
     },
     "execution_count": 22,
     "metadata": {},
     "output_type": "execute_result"
    },
    {
     "data": {
      "text/plain": [
       "{dtype('int32'):    data1  data2\n",
       " 0      2      5\n",
       " 1      5      2\n",
       " 2      1      1\n",
       " 3      4      6\n",
       " 4      9      1, dtype('O'):   key1 key2\n",
       " 0    a  one\n",
       " 1    a  two\n",
       " 2    b  one\n",
       " 3    b  two\n",
       " 4    a  one}"
      ]
     },
     "execution_count": 22,
     "metadata": {},
     "output_type": "execute_result"
    }
   ],
   "source": [
    "s1 = df.dtypes[[3,0,1,2]]\n",
    "s1\n",
    "grouped = df.groupby(s1, axis=1)\n",
    "dict(list(grouped))"
   ]
  },
  {
   "cell_type": "markdown",
   "metadata": {},
   "source": [
    "### Selecting a column or subset of columns"
   ]
  },
  {
   "cell_type": "code",
   "execution_count": 23,
   "metadata": {},
   "outputs": [
    {
     "data": {
      "text/plain": [
       "   data1  data2 key1 key2\n",
       "0      2      5    a  one\n",
       "1      5      2    a  two\n",
       "2      1      1    b  one\n",
       "3      4      6    b  two\n",
       "4      9      1    a  one"
      ]
     },
     "execution_count": 23,
     "metadata": {},
     "output_type": "execute_result"
    },
    {
     "data": {
      "text/plain": [
       "<pandas.core.groupby.SeriesGroupBy object at 0x000002CB4C00B198>"
      ]
     },
     "execution_count": 23,
     "metadata": {},
     "output_type": "execute_result"
    },
    {
     "data": {
      "text/plain": [
       "<pandas.core.groupby.DataFrameGroupBy object at 0x000002CB4C00BD30>"
      ]
     },
     "execution_count": 23,
     "metadata": {},
     "output_type": "execute_result"
    }
   ],
   "source": [
    "df\n",
    "df.groupby('key1')['data1'] # series \n",
    "df.groupby('key1')[['data2']] # dataframe 컬럼이 한개"
   ]
  },
  {
   "cell_type": "code",
   "execution_count": 24,
   "metadata": {},
   "outputs": [
    {
     "data": {
      "text/plain": [
       "<pandas.core.groupby.SeriesGroupBy object at 0x000002CB4C017908>"
      ]
     },
     "execution_count": 24,
     "metadata": {},
     "output_type": "execute_result"
    },
    {
     "data": {
      "text/plain": [
       "<pandas.core.groupby.DataFrameGroupBy object at 0x000002CB4C00BBE0>"
      ]
     },
     "execution_count": 24,
     "metadata": {},
     "output_type": "execute_result"
    }
   ],
   "source": [
    "# 이렇게 써도 위와 같음\n",
    "df['data1'].groupby(df['key1'])\n",
    "df[['data2']].groupby(df['key1'])"
   ]
  },
  {
   "cell_type": "code",
   "execution_count": 25,
   "metadata": {},
   "outputs": [
    {
     "data": {
      "text/plain": [
       "           data2\n",
       "key1 key2       \n",
       "a    one       3\n",
       "     two       2\n",
       "b    one       1\n",
       "     two       6"
      ]
     },
     "execution_count": 25,
     "metadata": {},
     "output_type": "execute_result"
    }
   ],
   "source": [
    "df.groupby(['key1', 'key2'])[['data2']].mean() #dataframe"
   ]
  },
  {
   "cell_type": "code",
   "execution_count": 26,
   "metadata": {},
   "outputs": [
    {
     "data": {
      "text/plain": [
       "<pandas.core.groupby.SeriesGroupBy object at 0x000002CB4BFB60B8>"
      ]
     },
     "execution_count": 26,
     "metadata": {},
     "output_type": "execute_result"
    }
   ],
   "source": [
    "s_grouped = df.groupby(['key1', 'key2'])['data2']\n",
    "s_grouped #series"
   ]
  },
  {
   "cell_type": "code",
   "execution_count": 27,
   "metadata": {},
   "outputs": [
    {
     "data": {
      "text/plain": [
       "key1  key2\n",
       "a     one     3\n",
       "      two     2\n",
       "b     one     1\n",
       "      two     6\n",
       "Name: data2, dtype: int32"
      ]
     },
     "execution_count": 27,
     "metadata": {},
     "output_type": "execute_result"
    }
   ],
   "source": [
    "# DF 인덱스에 대한 이름이 있음 2차원 데이터 Name: data2, dtype: int32\n",
    "s_grouped.mean()"
   ]
  },
  {
   "cell_type": "markdown",
   "metadata": {},
   "source": [
    "### Grouping with dicts and Series"
   ]
  },
  {
   "cell_type": "code",
   "execution_count": 28,
   "metadata": {},
   "outputs": [
    {
     "data": {
      "text/plain": [
       "   a    b    c  d  e\n",
       "0  2  1.0  2.0  0  2\n",
       "1  1  1.0  2.0  1  2\n",
       "2  2  NaN  NaN  1  1\n",
       "3  0  NaN  NaN  0  1\n",
       "4  2  1.0  1.0  2  1"
      ]
     },
     "execution_count": 28,
     "metadata": {},
     "output_type": "execute_result"
    }
   ],
   "source": [
    "people = DataFrame(np.random.randint(3, size=(5, 5)),\n",
    "                   columns=['a', 'b', 'c', 'd', 'e'],\n",
    "                   )\n",
    "people.loc[2:3, ['b', 'c']] = np.nan # 4 개가 na 로 변경됨 \n",
    "people"
   ]
  },
  {
   "cell_type": "markdown",
   "metadata": {},
   "source": [
    "2:3 인덱스의 label 이 3 까지 추출 포함"
   ]
  },
  {
   "cell_type": "code",
   "execution_count": 29,
   "metadata": {},
   "outputs": [
    {
     "data": {
      "text/plain": [
       "        a    b    c  d  e\n",
       "Joe     0  1.0  2.0  0  1\n",
       "Steve   0  2.0  0.0  2  0\n",
       "Wes     0  NaN  NaN  0  2\n",
       "Jim     0  0.0  2.0  1  2\n",
       "Travis  2  2.0  1.0  2  2"
      ]
     },
     "execution_count": 29,
     "metadata": {},
     "output_type": "execute_result"
    }
   ],
   "source": [
    "people = DataFrame(np.random.randint(3, size=(5,5)), #np.random.randn(5, 5)\n",
    "                   columns=['a', 'b', 'c', 'd', 'e'],\n",
    "                   index=['Joe', 'Steve', 'Wes', 'Jim', 'Travis'])\n",
    "people.loc[2:3, ['b', 'c']] = np.nan # Add a few NA values\n",
    "people"
   ]
  },
  {
   "cell_type": "markdown",
   "metadata": {},
   "source": [
    "2:3 이 위치값으로 인식되어 3 을 제외한 값까지만 들어감 "
   ]
  },
  {
   "cell_type": "code",
   "execution_count": 30,
   "metadata": {
    "collapsed": true
   },
   "outputs": [],
   "source": [
    "mapping = {'a': 'red', 'b': 'red', 'c': 'blue',\n",
    "           'd': 'blue', 'e': 'red', 'f' : 'orange'}"
   ]
  },
  {
   "cell_type": "markdown",
   "metadata": {},
   "source": [
    "'a': 'red', 'b': 'red', 'e': 'red' -> red 로 묶음 <br>\n",
    "'d': 'blue', 'c': 'blue' -> blue 로 묶음 "
   ]
  },
  {
   "cell_type": "code",
   "execution_count": 31,
   "metadata": {},
   "outputs": [
    {
     "data": {
      "text/plain": [
       "[('blue',           c  d\n",
       "  Joe     2.0  0\n",
       "  Steve   0.0  2\n",
       "  Wes     NaN  0\n",
       "  Jim     2.0  1\n",
       "  Travis  1.0  2), ('red',         a    b  e\n",
       "  Joe     0  1.0  1\n",
       "  Steve   0  2.0  0\n",
       "  Wes     0  NaN  2\n",
       "  Jim     0  0.0  2\n",
       "  Travis  2  2.0  2)]"
      ]
     },
     "execution_count": 31,
     "metadata": {},
     "output_type": "execute_result"
    },
    {
     "data": {
      "text/plain": [
       "blue    2\n",
       "red     3\n",
       "dtype: int64"
      ]
     },
     "execution_count": 31,
     "metadata": {},
     "output_type": "execute_result"
    },
    {
     "data": {
      "text/plain": [
       "        blue  red\n",
       "Joe      2.0  2.0\n",
       "Steve    2.0  2.0\n",
       "Wes      0.0  2.0\n",
       "Jim      3.0  2.0\n",
       "Travis   3.0  6.0"
      ]
     },
     "execution_count": 31,
     "metadata": {},
     "output_type": "execute_result"
    }
   ],
   "source": [
    "by_column = people.groupby(mapping, axis=1)\n",
    "list(by_column)\n",
    "by_column.size()\n",
    "by_column.sum()"
   ]
  },
  {
   "cell_type": "code",
   "execution_count": 32,
   "metadata": {},
   "outputs": [
    {
     "data": {
      "text/plain": [
       "a       red\n",
       "b       red\n",
       "c      blue\n",
       "d      blue\n",
       "e       red\n",
       "f    orange\n",
       "dtype: object"
      ]
     },
     "execution_count": 32,
     "metadata": {},
     "output_type": "execute_result"
    }
   ],
   "source": [
    "map_series = Series(mapping)\n",
    "map_series"
   ]
  },
  {
   "cell_type": "code",
   "execution_count": 33,
   "metadata": {},
   "outputs": [
    {
     "data": {
      "text/plain": [
       "        blue  red\n",
       "Joe        2    3\n",
       "Steve      2    3\n",
       "Wes        1    2\n",
       "Jim        2    3\n",
       "Travis     2    3"
      ]
     },
     "execution_count": 33,
     "metadata": {},
     "output_type": "execute_result"
    }
   ],
   "source": [
    "people.groupby(map_series, axis=1).count()"
   ]
  },
  {
   "cell_type": "markdown",
   "metadata": {},
   "source": [
    "### Grouping with functions"
   ]
  },
  {
   "cell_type": "code",
   "execution_count": 34,
   "metadata": {},
   "outputs": [
    {
     "data": {
      "text/plain": [
       "        a    b    c  d  e\n",
       "Joe     0  1.0  2.0  0  1\n",
       "Steve   0  2.0  0.0  2  0\n",
       "Wes     0  NaN  NaN  0  2\n",
       "Jim     0  0.0  2.0  1  2\n",
       "Travis  2  2.0  1.0  2  2"
      ]
     },
     "execution_count": 34,
     "metadata": {},
     "output_type": "execute_result"
    }
   ],
   "source": [
    "people"
   ]
  },
  {
   "cell_type": "code",
   "execution_count": 35,
   "metadata": {},
   "outputs": [
    {
     "data": {
      "text/plain": [
       "   a    b    c  d  e\n",
       "3  0  1.0  4.0  1  5\n",
       "5  0  2.0  0.0  2  0\n",
       "6  2  2.0  1.0  2  2"
      ]
     },
     "execution_count": 35,
     "metadata": {},
     "output_type": "execute_result"
    },
    {
     "data": {
      "text/plain": [
       "     3    5    6\n",
       "a  0.0  0.0  2.0\n",
       "b  1.0  2.0  2.0\n",
       "c  4.0  0.0  1.0\n",
       "d  1.0  2.0  2.0\n",
       "e  5.0  0.0  2.0"
      ]
     },
     "execution_count": 35,
     "metadata": {},
     "output_type": "execute_result"
    },
    {
     "data": {
      "text/plain": [
       "          1\n",
       "Joe     4.0\n",
       "Steve   4.0\n",
       "Wes     2.0\n",
       "Jim     5.0\n",
       "Travis  9.0"
      ]
     },
     "execution_count": 35,
     "metadata": {},
     "output_type": "execute_result"
    }
   ],
   "source": [
    "# len : dataframe 의 index이름에 length 가 같은값 \n",
    "people.groupby(len).sum()\n",
    "# axis 를 1 로 주면 a,b,c,d\n",
    "people.T.groupby(len, axis=1).sum()\n",
    "people.groupby(len, axis=1).sum()"
   ]
  },
  {
   "cell_type": "code",
   "execution_count": 36,
   "metadata": {},
   "outputs": [
    {
     "data": {
      "text/plain": [
       "       a    b    c  d  e\n",
       "3 one  0  1.0  2.0  0  1\n",
       "  two  0  0.0  2.0  1  2\n",
       "5 one  0  2.0  0.0  2  0\n",
       "6 two  2  2.0  1.0  2  2"
      ]
     },
     "execution_count": 36,
     "metadata": {},
     "output_type": "execute_result"
    }
   ],
   "source": [
    "# 계층 인덱스 복합키\n",
    "key_list = ['one', 'one', 'one', 'two', 'two']\n",
    "people.groupby([len, key_list]).min()"
   ]
  },
  {
   "cell_type": "code",
   "execution_count": 37,
   "metadata": {},
   "outputs": [
    {
     "data": {
      "text/plain": [
       "     a    b    c  e\n",
       "  d                \n",
       "3 0  0  1.0  2.0  1\n",
       "  1  0  0.0  2.0  2\n",
       "5 2  0  2.0  0.0  0\n",
       "6 2  2  2.0  1.0  2"
      ]
     },
     "execution_count": 37,
     "metadata": {},
     "output_type": "execute_result"
    }
   ],
   "source": [
    "# 3, 5, 3, 3, 6 \n",
    "people.groupby([len, 'd']).min()"
   ]
  },
  {
   "cell_type": "markdown",
   "metadata": {},
   "source": [
    "### Grouping by index levels"
   ]
  },
  {
   "cell_type": "code",
   "execution_count": 38,
   "metadata": {},
   "outputs": [
    {
     "data": {
      "text/plain": [
       "MultiIndex(levels=[['JP', 'US'], [1, 3, 5]],\n",
       "           labels=[[1, 1, 1, 0, 0], [0, 1, 2, 0, 1]],\n",
       "           names=['cty', 'tenor'])"
      ]
     },
     "execution_count": 38,
     "metadata": {},
     "output_type": "execute_result"
    },
    {
     "data": {
      "text/plain": [
       "cty    US          JP    \n",
       "tenor   1   3   5   1   3\n",
       "0       7  17   0  12  14\n",
       "1      11   3   0   3   0\n",
       "2       6   2  17  12   5\n",
       "3       8  11   1   0   5"
      ]
     },
     "execution_count": 38,
     "metadata": {},
     "output_type": "execute_result"
    }
   ],
   "source": [
    "# 멀티 인덱스 상위레벨의 포지션 값을 label 을 줌 \n",
    "columns = pd.MultiIndex.from_arrays([['US', 'US', 'US', 'JP', 'JP'],\n",
    "                                    [1, 3, 5, 1, 3]], names=['cty', 'tenor'])\n",
    "columns\n",
    "hier_df = DataFrame(np.random.randint(20, size=(4, 5)), columns=columns)\n",
    "hier_df\n",
    "\n",
    "# 'US', 'US', 'US' (1,3,5) / 'JP', 'JP' (1, 3)\n",
    "# row 의 index 는 지정하지 않음 "
   ]
  },
  {
   "cell_type": "code",
   "execution_count": 39,
   "metadata": {},
   "outputs": [
    {
     "data": {
      "text/plain": [
       "cty  JP  US\n",
       "0     2   3\n",
       "1     2   3\n",
       "2     2   3\n",
       "3     2   3"
      ]
     },
     "execution_count": 39,
     "metadata": {},
     "output_type": "execute_result"
    }
   ],
   "source": [
    "# index level city (us, jp) 그룹핑 방향이 컬럼을 옮기는 순\n",
    "hier_df.groupby(level='cty', axis=1).count() # null 값 제외 "
   ]
  },
  {
   "cell_type": "markdown",
   "metadata": {},
   "source": [
    "## Data aggregation\n",
    "\n",
    "데이터 집계"
   ]
  },
  {
   "cell_type": "code",
   "execution_count": 40,
   "metadata": {},
   "outputs": [
    {
     "data": {
      "text/plain": [
       "   data1  data2 key1 key2\n",
       "0      2      5    a  one\n",
       "1      5      2    a  two\n",
       "2      1      1    b  one\n",
       "3      4      6    b  two\n",
       "4      9      1    a  one"
      ]
     },
     "execution_count": 40,
     "metadata": {},
     "output_type": "execute_result"
    }
   ],
   "source": [
    "df"
   ]
  },
  {
   "cell_type": "code",
   "execution_count": 41,
   "metadata": {},
   "outputs": [
    {
     "data": {
      "text/plain": [
       "key1\n",
       "a    8.2\n",
       "b    3.7\n",
       "Name: data1, dtype: float64"
      ]
     },
     "execution_count": 41,
     "metadata": {},
     "output_type": "execute_result"
    }
   ],
   "source": [
    "grouped = df.groupby('key1')\n",
    "grouped['data1'].quantile(0.9) # 상위 90%\n",
    "# == grouped.quantile(0.9)['data1'] "
   ]
  },
  {
   "cell_type": "markdown",
   "metadata": {},
   "source": [
    "값이 너무 없는 경우 중앙값을 연산으로 구할 수 있다. <br>\n",
    "예) 값이 3개인 경우 2, 3, 9 : 4*4/5 = 15/5 = 8.2\n",
    "\n",
    "quantitle : 양<br>\n",
    "quartile : 4 분위수 "
   ]
  },
  {
   "cell_type": "markdown",
   "metadata": {},
   "source": [
    "차원을 줄여주려면 aggregate 사용 그렇지 않으면 transform "
   ]
  },
  {
   "cell_type": "code",
   "execution_count": 42,
   "metadata": {},
   "outputs": [
    {
     "data": {
      "text/plain": [
       "   data1  data2 key1 key2\n",
       "0      2      5    a  one\n",
       "1      5      2    a  two\n",
       "2      1      1    b  one\n",
       "3      4      6    b  two\n",
       "4      9      1    a  one"
      ]
     },
     "execution_count": 42,
     "metadata": {},
     "output_type": "execute_result"
    },
    {
     "data": {
      "text/plain": [
       "      data1  data2\n",
       "key1              \n",
       "a         7      4\n",
       "b         3      5"
      ]
     },
     "execution_count": 42,
     "metadata": {},
     "output_type": "execute_result"
    },
    {
     "data": {
      "text/plain": [
       "      data1  data2\n",
       "key1              \n",
       "a         7      4\n",
       "b         3      5"
      ]
     },
     "execution_count": 42,
     "metadata": {},
     "output_type": "execute_result"
    }
   ],
   "source": [
    "# 배열을 받아서 dataframe 으로 \n",
    "def peak_to_peak(arr):\n",
    "    return arr.max() - arr.min()\n",
    "\n",
    "grouped.head()\n",
    "# DataFrameGoupby 의 method \n",
    "grouped.agg(peak_to_peak) # DF -> Series 함수를 적용해서 집계 해라 (그룹마다 적용됨) \n",
    "# Groupby 객체 의 aggregate method\n",
    "grouped.aggregate(peak_to_peak) # key2는 문자라 제외"
   ]
  },
  {
   "cell_type": "code",
   "execution_count": 43,
   "metadata": {},
   "outputs": [
    {
     "data": {
      "text/plain": [
       "     data1                                                data2            \\\n",
       "     count      mean       std  min   25%  50%   75%  max count      mean   \n",
       "key1                                                                        \n",
       "a      3.0  5.333333  3.511885  2.0  3.50  5.0  7.00  9.0   3.0  2.666667   \n",
       "b      2.0  2.500000  2.121320  1.0  1.75  2.5  3.25  4.0   2.0  3.500000   \n",
       "\n",
       "                                           \n",
       "           std  min   25%  50%   75%  max  \n",
       "key1                                       \n",
       "a     2.081666  1.0  1.50  2.0  3.50  5.0  \n",
       "b     3.535534  1.0  2.25  3.5  4.75  6.0  "
      ]
     },
     "execution_count": 43,
     "metadata": {},
     "output_type": "execute_result"
    }
   ],
   "source": [
    "grouped.describe()"
   ]
  },
  {
   "cell_type": "code",
   "execution_count": 45,
   "metadata": {},
   "outputs": [
    {
     "data": {
      "text/plain": [
       "   total_bill   tip     sex smoker  day    time  size   tip_pct\n",
       "0       16.99  1.01  Female     No  Sun  Dinner     2  0.059447\n",
       "1       10.34  1.66    Male     No  Sun  Dinner     3  0.160542\n",
       "2       21.01  3.50    Male     No  Sun  Dinner     3  0.166587\n",
       "3       23.68  3.31    Male     No  Sun  Dinner     2  0.139780\n",
       "4       24.59  3.61  Female     No  Sun  Dinner     4  0.146808\n",
       "5       25.29  4.71    Male     No  Sun  Dinner     4  0.186240"
      ]
     },
     "execution_count": 45,
     "metadata": {},
     "output_type": "execute_result"
    }
   ],
   "source": [
    "tips = pd.read_csv('data/ch08/tips.csv')\n",
    "# Add tip percentage of total bill\n",
    "tips['tip_pct'] = tips['tip'] / tips['total_bill'] # tip 비율 \n",
    "tips[:6]"
   ]
  },
  {
   "cell_type": "markdown",
   "metadata": {},
   "source": [
    "### Column-wise and multiple function application"
   ]
  },
  {
   "cell_type": "code",
   "execution_count": 46,
   "metadata": {},
   "outputs": [
    {
     "name": "stdout",
     "output_type": "stream",
     "text": [
      "Female No\n",
      "     total_bill   tip     sex smoker   day    time  size   tip_pct\n",
      "0         16.99  1.01  Female     No   Sun  Dinner     2  0.059447\n",
      "4         24.59  3.61  Female     No   Sun  Dinner     4  0.146808\n",
      "11        35.26  5.00  Female     No   Sun  Dinner     4  0.141804\n",
      "14        14.83  3.02  Female     No   Sun  Dinner     2  0.203641\n",
      "16        10.33  1.67  Female     No   Sun  Dinner     3  0.161665\n",
      "18        16.97  3.50  Female     No   Sun  Dinner     3  0.206246\n",
      "21        20.29  2.75  Female     No   Sat  Dinner     2  0.135535\n",
      "22        15.77  2.23  Female     No   Sat  Dinner     2  0.141408\n",
      "29        19.65  3.00  Female     No   Sat  Dinner     2  0.152672\n",
      "32        15.06  3.00  Female     No   Sat  Dinner     2  0.199203\n",
      "33        20.69  2.45  Female     No   Sat  Dinner     4  0.118415\n",
      "37        16.93  3.07  Female     No   Sat  Dinner     3  0.181335\n",
      "51        10.29  2.60  Female     No   Sun  Dinner     2  0.252672\n",
      "52        34.81  5.20  Female     No   Sun  Dinner     4  0.149382\n",
      "57        26.41  1.50  Female     No   Sat  Dinner     2  0.056797\n",
      "66        16.45  2.47  Female     No   Sat  Dinner     2  0.150152\n",
      "71        17.07  3.00  Female     No   Sat  Dinner     3  0.175747\n",
      "74        14.73  2.20  Female     No   Sat  Dinner     2  0.149355\n",
      "82        10.07  1.83  Female     No  Thur   Lunch     1  0.181728\n",
      "85        34.83  5.17  Female     No  Thur   Lunch     4  0.148435\n",
      "94        22.75  3.25  Female     No   Fri  Dinner     2  0.142857\n",
      "104       20.92  4.08  Female     No   Sat  Dinner     2  0.195029\n",
      "111        7.25  1.00  Female     No   Sat  Dinner     1  0.137931\n",
      "114       25.71  4.00  Female     No   Sun  Dinner     3  0.155581\n",
      "115       17.31  3.50  Female     No   Sun  Dinner     2  0.202195\n",
      "117       10.65  1.50  Female     No  Thur   Lunch     2  0.140845\n",
      "118       12.43  1.80  Female     No  Thur   Lunch     2  0.144811\n",
      "119       24.08  2.92  Female     No  Thur   Lunch     4  0.121262\n",
      "121       13.42  1.68  Female     No  Thur   Lunch     2  0.125186\n",
      "124       12.48  2.52  Female     No  Thur   Lunch     2  0.201923\n",
      "125       29.80  4.20  Female     No  Thur   Lunch     6  0.140940\n",
      "127       14.52  2.00  Female     No  Thur   Lunch     2  0.137741\n",
      "128       11.38  2.00  Female     No  Thur   Lunch     2  0.175747\n",
      "131       20.27  2.83  Female     No  Thur   Lunch     2  0.139615\n",
      "132       11.17  1.50  Female     No  Thur   Lunch     2  0.134288\n",
      "133       12.26  2.00  Female     No  Thur   Lunch     2  0.163132\n",
      "134       18.26  3.25  Female     No  Thur   Lunch     2  0.177985\n",
      "135        8.51  1.25  Female     No  Thur   Lunch     2  0.146886\n",
      "136       10.33  2.00  Female     No  Thur   Lunch     2  0.193611\n",
      "137       14.15  2.00  Female     No  Thur   Lunch     2  0.141343\n",
      "139       13.16  2.75  Female     No  Thur   Lunch     2  0.208967\n",
      "140       17.47  3.50  Female     No  Thur   Lunch     2  0.200343\n",
      "143       27.05  5.00  Female     No  Thur   Lunch     6  0.184843\n",
      "144       16.43  2.30  Female     No  Thur   Lunch     2  0.139988\n",
      "145        8.35  1.50  Female     No  Thur   Lunch     2  0.179641\n",
      "146       18.64  1.36  Female     No  Thur   Lunch     3  0.072961\n",
      "147       11.87  1.63  Female     No  Thur   Lunch     2  0.137321\n",
      "155       29.85  5.14  Female     No   Sun  Dinner     5  0.172194\n",
      "157       25.00  3.75  Female     No   Sun  Dinner     4  0.150000\n",
      "158       13.39  2.61  Female     No   Sun  Dinner     2  0.194922\n",
      "162       16.21  2.00  Female     No   Sun  Dinner     3  0.123381\n",
      "223       15.98  3.00  Female     No   Fri   Lunch     3  0.187735\n",
      "238       35.83  4.67  Female     No   Sat  Dinner     3  0.130338\n",
      "243       18.78  3.00  Female     No  Thur  Dinner     2  0.159744\n",
      "Female Yes\n",
      "     total_bill   tip     sex smoker   day    time  size   tip_pct\n",
      "67         3.07  1.00  Female    Yes   Sat  Dinner     1  0.325733\n",
      "72        26.86  3.14  Female    Yes   Sat  Dinner     2  0.116902\n",
      "73        25.28  5.00  Female    Yes   Sat  Dinner     2  0.197785\n",
      "92         5.75  1.00  Female    Yes   Fri  Dinner     2  0.173913\n",
      "93        16.32  4.30  Female    Yes   Fri  Dinner     2  0.263480\n",
      "100       11.35  2.50  Female    Yes   Fri  Dinner     2  0.220264\n",
      "101       15.38  3.00  Female    Yes   Fri  Dinner     2  0.195059\n",
      "102       44.30  2.50  Female    Yes   Sat  Dinner     3  0.056433\n",
      "103       22.42  3.48  Female    Yes   Sat  Dinner     2  0.155219\n",
      "109       14.31  4.00  Female    Yes   Sat  Dinner     2  0.279525\n",
      "164       17.51  3.00  Female    Yes   Sun  Dinner     2  0.171331\n",
      "168       10.59  1.61  Female    Yes   Sat  Dinner     2  0.152030\n",
      "169       10.63  2.00  Female    Yes   Sat  Dinner     2  0.188147\n",
      "178        9.60  4.00  Female    Yes   Sun  Dinner     2  0.416667\n",
      "186       20.90  3.50  Female    Yes   Sun  Dinner     3  0.167464\n",
      "188       18.15  3.50  Female    Yes   Sun  Dinner     3  0.192837\n",
      "191       19.81  4.19  Female    Yes  Thur   Lunch     2  0.211509\n",
      "197       43.11  5.00  Female    Yes  Thur   Lunch     4  0.115982\n",
      "198       13.00  2.00  Female    Yes  Thur   Lunch     2  0.153846\n",
      "201       12.74  2.01  Female    Yes  Thur   Lunch     2  0.157771\n",
      "202       13.00  2.00  Female    Yes  Thur   Lunch     2  0.153846\n",
      "203       16.40  2.50  Female    Yes  Thur   Lunch     2  0.152439\n",
      "205       16.47  3.23  Female    Yes  Thur   Lunch     3  0.196114\n",
      "209       12.76  2.23  Female    Yes   Sat  Dinner     2  0.174765\n",
      "213       13.27  2.50  Female    Yes   Sat  Dinner     2  0.188395\n",
      "214       28.17  6.50  Female    Yes   Sat  Dinner     3  0.230742\n",
      "215       12.90  1.10  Female    Yes   Sat  Dinner     2  0.085271\n",
      "219       30.14  3.09  Female    Yes   Sat  Dinner     4  0.102522\n",
      "221       13.42  3.48  Female    Yes   Fri   Lunch     2  0.259314\n",
      "225       16.27  2.50  Female    Yes   Fri   Lunch     2  0.153657\n",
      "226       10.09  2.00  Female    Yes   Fri   Lunch     2  0.198216\n",
      "229       22.12  2.88  Female    Yes   Sat  Dinner     2  0.130199\n",
      "240       27.18  2.00  Female    Yes   Sat  Dinner     2  0.073584\n",
      "Male No\n",
      "     total_bill   tip   sex smoker   day    time  size   tip_pct\n",
      "1         10.34  1.66  Male     No   Sun  Dinner     3  0.160542\n",
      "2         21.01  3.50  Male     No   Sun  Dinner     3  0.166587\n",
      "3         23.68  3.31  Male     No   Sun  Dinner     2  0.139780\n",
      "5         25.29  4.71  Male     No   Sun  Dinner     4  0.186240\n",
      "6          8.77  2.00  Male     No   Sun  Dinner     2  0.228050\n",
      "7         26.88  3.12  Male     No   Sun  Dinner     4  0.116071\n",
      "8         15.04  1.96  Male     No   Sun  Dinner     2  0.130319\n",
      "9         14.78  3.23  Male     No   Sun  Dinner     2  0.218539\n",
      "10        10.27  1.71  Male     No   Sun  Dinner     2  0.166504\n",
      "12        15.42  1.57  Male     No   Sun  Dinner     2  0.101816\n",
      "13        18.43  3.00  Male     No   Sun  Dinner     4  0.162778\n",
      "15        21.58  3.92  Male     No   Sun  Dinner     2  0.181650\n",
      "17        16.29  3.71  Male     No   Sun  Dinner     3  0.227747\n",
      "19        20.65  3.35  Male     No   Sat  Dinner     3  0.162228\n",
      "20        17.92  4.08  Male     No   Sat  Dinner     2  0.227679\n",
      "23        39.42  7.58  Male     No   Sat  Dinner     4  0.192288\n",
      "24        19.82  3.18  Male     No   Sat  Dinner     2  0.160444\n",
      "25        17.81  2.34  Male     No   Sat  Dinner     4  0.131387\n",
      "26        13.37  2.00  Male     No   Sat  Dinner     2  0.149589\n",
      "27        12.69  2.00  Male     No   Sat  Dinner     2  0.157604\n",
      "28        21.70  4.30  Male     No   Sat  Dinner     2  0.198157\n",
      "30         9.55  1.45  Male     No   Sat  Dinner     2  0.151832\n",
      "31        18.35  2.50  Male     No   Sat  Dinner     4  0.136240\n",
      "34        17.78  3.27  Male     No   Sat  Dinner     2  0.183915\n",
      "35        24.06  3.60  Male     No   Sat  Dinner     3  0.149626\n",
      "36        16.31  2.00  Male     No   Sat  Dinner     3  0.122624\n",
      "38        18.69  2.31  Male     No   Sat  Dinner     3  0.123596\n",
      "39        31.27  5.00  Male     No   Sat  Dinner     3  0.159898\n",
      "40        16.04  2.24  Male     No   Sat  Dinner     3  0.139651\n",
      "41        17.46  2.54  Male     No   Sun  Dinner     2  0.145475\n",
      "..          ...   ...   ...    ...   ...     ...   ...       ...\n",
      "126        8.52  1.48  Male     No  Thur   Lunch     2  0.173709\n",
      "129       22.82  2.18  Male     No  Thur   Lunch     3  0.095530\n",
      "130       19.08  1.50  Male     No  Thur   Lunch     2  0.078616\n",
      "141       34.30  6.70  Male     No  Thur   Lunch     6  0.195335\n",
      "142       41.19  5.00  Male     No  Thur   Lunch     5  0.121389\n",
      "148        9.78  1.73  Male     No  Thur   Lunch     2  0.176892\n",
      "149        7.51  2.00  Male     No  Thur   Lunch     2  0.266312\n",
      "150       14.07  2.50  Male     No   Sun  Dinner     2  0.177683\n",
      "151       13.13  2.00  Male     No   Sun  Dinner     2  0.152323\n",
      "152       17.26  2.74  Male     No   Sun  Dinner     3  0.158749\n",
      "153       24.55  2.00  Male     No   Sun  Dinner     4  0.081466\n",
      "154       19.77  2.00  Male     No   Sun  Dinner     4  0.101163\n",
      "156       48.17  5.00  Male     No   Sun  Dinner     6  0.103799\n",
      "159       16.49  2.00  Male     No   Sun  Dinner     4  0.121286\n",
      "160       21.50  3.50  Male     No   Sun  Dinner     4  0.162791\n",
      "161       12.66  2.50  Male     No   Sun  Dinner     2  0.197472\n",
      "163       13.81  2.00  Male     No   Sun  Dinner     2  0.144823\n",
      "165       24.52  3.48  Male     No   Sun  Dinner     3  0.141925\n",
      "166       20.76  2.24  Male     No   Sun  Dinner     2  0.107900\n",
      "167       31.71  4.50  Male     No   Sun  Dinner     4  0.141911\n",
      "185       20.69  5.00  Male     No   Sun  Dinner     5  0.241663\n",
      "195        7.56  1.44  Male     No  Thur   Lunch     2  0.190476\n",
      "212       48.33  9.00  Male     No   Sat  Dinner     4  0.186220\n",
      "227       20.45  3.00  Male     No   Sat  Dinner     4  0.146699\n",
      "228       13.28  2.72  Male     No   Sat  Dinner     2  0.204819\n",
      "232       11.61  3.39  Male     No   Sat  Dinner     2  0.291990\n",
      "233       10.77  1.47  Male     No   Sat  Dinner     2  0.136490\n",
      "235       10.07  1.25  Male     No   Sat  Dinner     2  0.124131\n",
      "239       29.03  5.92  Male     No   Sat  Dinner     3  0.203927\n",
      "242       17.82  1.75  Male     No   Sat  Dinner     2  0.098204\n",
      "\n",
      "[97 rows x 8 columns]\n",
      "Male Yes\n",
      "     total_bill    tip   sex smoker   day    time  size   tip_pct\n",
      "56        38.01   3.00  Male    Yes   Sat  Dinner     4  0.078927\n",
      "58        11.24   1.76  Male    Yes   Sat  Dinner     2  0.156584\n",
      "60        20.29   3.21  Male    Yes   Sat  Dinner     2  0.158206\n",
      "61        13.81   2.00  Male    Yes   Sat  Dinner     2  0.144823\n",
      "62        11.02   1.98  Male    Yes   Sat  Dinner     2  0.179673\n",
      "63        18.29   3.76  Male    Yes   Sat  Dinner     4  0.205577\n",
      "69        15.01   2.09  Male    Yes   Sat  Dinner     2  0.139241\n",
      "76        17.92   3.08  Male    Yes   Sat  Dinner     2  0.171875\n",
      "80        19.44   3.00  Male    Yes  Thur   Lunch     2  0.154321\n",
      "83        32.68   5.00  Male    Yes  Thur   Lunch     2  0.152999\n",
      "90        28.97   3.00  Male    Yes   Fri  Dinner     2  0.103555\n",
      "95        40.17   4.73  Male    Yes   Fri  Dinner     4  0.117750\n",
      "96        27.28   4.00  Male    Yes   Fri  Dinner     2  0.146628\n",
      "97        12.03   1.50  Male    Yes   Fri  Dinner     2  0.124688\n",
      "98        21.01   3.00  Male    Yes   Fri  Dinner     2  0.142789\n",
      "105       15.36   1.64  Male    Yes   Sat  Dinner     2  0.106771\n",
      "106       20.49   4.06  Male    Yes   Sat  Dinner     2  0.198145\n",
      "107       25.21   4.29  Male    Yes   Sat  Dinner     2  0.170171\n",
      "138       16.00   2.00  Male    Yes  Thur   Lunch     2  0.125000\n",
      "170       50.81  10.00  Male    Yes   Sat  Dinner     3  0.196812\n",
      "171       15.81   3.16  Male    Yes   Sat  Dinner     2  0.199873\n",
      "172        7.25   5.15  Male    Yes   Sun  Dinner     2  0.710345\n",
      "173       31.85   3.18  Male    Yes   Sun  Dinner     2  0.099843\n",
      "174       16.82   4.00  Male    Yes   Sun  Dinner     2  0.237812\n",
      "175       32.90   3.11  Male    Yes   Sun  Dinner     2  0.094529\n",
      "176       17.89   2.00  Male    Yes   Sun  Dinner     2  0.111794\n",
      "177       14.48   2.00  Male    Yes   Sun  Dinner     2  0.138122\n",
      "179       34.63   3.55  Male    Yes   Sun  Dinner     2  0.102512\n",
      "180       34.65   3.68  Male    Yes   Sun  Dinner     4  0.106205\n",
      "181       23.33   5.65  Male    Yes   Sun  Dinner     2  0.242177\n",
      "182       45.35   3.50  Male    Yes   Sun  Dinner     3  0.077178\n",
      "183       23.17   6.50  Male    Yes   Sun  Dinner     4  0.280535\n",
      "184       40.55   3.00  Male    Yes   Sun  Dinner     2  0.073983\n",
      "187       30.46   2.00  Male    Yes   Sun  Dinner     5  0.065660\n",
      "189       23.10   4.00  Male    Yes   Sun  Dinner     3  0.173160\n",
      "190       15.69   1.50  Male    Yes   Sun  Dinner     2  0.095602\n",
      "192       28.44   2.56  Male    Yes  Thur   Lunch     2  0.090014\n",
      "193       15.48   2.02  Male    Yes  Thur   Lunch     2  0.130491\n",
      "194       16.58   4.00  Male    Yes  Thur   Lunch     2  0.241255\n",
      "196       10.34   2.00  Male    Yes  Thur   Lunch     2  0.193424\n",
      "199       13.51   2.00  Male    Yes  Thur   Lunch     2  0.148038\n",
      "200       18.71   4.00  Male    Yes  Thur   Lunch     3  0.213789\n",
      "204       20.53   4.00  Male    Yes  Thur   Lunch     4  0.194837\n",
      "206       26.59   3.41  Male    Yes   Sat  Dinner     3  0.128244\n",
      "207       38.73   3.00  Male    Yes   Sat  Dinner     4  0.077459\n",
      "208       24.27   2.03  Male    Yes   Sat  Dinner     2  0.083642\n",
      "210       30.06   2.00  Male    Yes   Sat  Dinner     3  0.066534\n",
      "211       25.89   5.16  Male    Yes   Sat  Dinner     4  0.199305\n",
      "216       28.15   3.00  Male    Yes   Sat  Dinner     5  0.106572\n",
      "217       11.59   1.50  Male    Yes   Sat  Dinner     2  0.129422\n",
      "218        7.74   1.44  Male    Yes   Sat  Dinner     2  0.186047\n",
      "220       12.16   2.20  Male    Yes   Fri   Lunch     2  0.180921\n",
      "222        8.58   1.92  Male    Yes   Fri   Lunch     1  0.223776\n",
      "224       13.42   1.58  Male    Yes   Fri   Lunch     2  0.117735\n",
      "230       24.01   2.00  Male    Yes   Sat  Dinner     4  0.083299\n",
      "231       15.69   3.00  Male    Yes   Sat  Dinner     3  0.191205\n",
      "234       15.53   3.00  Male    Yes   Sat  Dinner     2  0.193175\n",
      "236       12.60   1.00  Male    Yes   Sat  Dinner     2  0.079365\n",
      "237       32.83   1.17  Male    Yes   Sat  Dinner     2  0.035638\n",
      "241       22.67   2.00  Male    Yes   Sat  Dinner     2  0.088222\n"
     ]
    }
   ],
   "source": [
    "grouped = tips.groupby(['sex', 'smoker'])\n",
    "for (sex, smoker), group in grouped:\n",
    "    print(sex, smoker)\n",
    "    print(group)"
   ]
  },
  {
   "cell_type": "code",
   "execution_count": 47,
   "metadata": {},
   "outputs": [
    {
     "data": {
      "text/plain": [
       "sex     smoker\n",
       "Female  No        0.156921\n",
       "        Yes       0.182150\n",
       "Male    No        0.160669\n",
       "        Yes       0.152771\n",
       "Name: tip_pct, dtype: float64"
      ]
     },
     "execution_count": 47,
     "metadata": {},
     "output_type": "execute_result"
    }
   ],
   "source": [
    "grouped_pct = grouped['tip_pct']\n",
    "grouped_pct.agg('mean')"
   ]
  },
  {
   "cell_type": "code",
   "execution_count": 48,
   "metadata": {},
   "outputs": [
    {
     "data": {
      "text/plain": [
       "                   mean       std  peak_to_peak\n",
       "sex    smoker                                  \n",
       "Female No      0.156921  0.036421      0.195876\n",
       "       Yes     0.182150  0.071595      0.360233\n",
       "Male   No      0.160669  0.041849      0.220186\n",
       "       Yes     0.152771  0.090588      0.674707"
      ]
     },
     "execution_count": 48,
     "metadata": {},
     "output_type": "execute_result"
    }
   ],
   "source": [
    "grouped_pct.agg(['mean', 'std', peak_to_peak])"
   ]
  },
  {
   "cell_type": "code",
   "execution_count": 49,
   "metadata": {},
   "outputs": [
    {
     "data": {
      "text/plain": [
       "                    foo       bar\n",
       "sex    smoker                    \n",
       "Female No      0.156921  0.036421\n",
       "       Yes     0.182150  0.071595\n",
       "Male   No      0.160669  0.041849\n",
       "       Yes     0.152771  0.090588"
      ]
     },
     "execution_count": 49,
     "metadata": {},
     "output_type": "execute_result"
    }
   ],
   "source": [
    "grouped_pct.agg([('foo', 'mean'), ('bar', np.std)])"
   ]
  },
  {
   "cell_type": "code",
   "execution_count": 50,
   "metadata": {},
   "outputs": [
    {
     "data": {
      "text/plain": [
       "              tip_pct                     total_bill                  \n",
       "                count      mean       max      count       mean    max\n",
       "sex    smoker                                                         \n",
       "Female No          54  0.156921  0.252672         54  18.105185  35.83\n",
       "       Yes         33  0.182150  0.416667         33  17.977879  44.30\n",
       "Male   No          97  0.160669  0.291990         97  19.791237  48.33\n",
       "       Yes         60  0.152771  0.710345         60  22.284500  50.81"
      ]
     },
     "execution_count": 50,
     "metadata": {},
     "output_type": "execute_result"
    }
   ],
   "source": [
    "# 두개 값에 대해서 'count', 'mean', 'max' 값들을 구함 \n",
    "functions = ['count', 'mean', 'max']\n",
    "result = grouped['tip_pct', 'total_bill'].agg(functions)\n",
    "result"
   ]
  },
  {
   "cell_type": "code",
   "execution_count": 51,
   "metadata": {},
   "outputs": [
    {
     "data": {
      "text/plain": [
       "               count      mean       max\n",
       "sex    smoker                           \n",
       "Female No         54  0.156921  0.252672\n",
       "       Yes        33  0.182150  0.416667\n",
       "Male   No         97  0.160669  0.291990\n",
       "       Yes        60  0.152771  0.710345"
      ]
     },
     "execution_count": 51,
     "metadata": {},
     "output_type": "execute_result"
    }
   ],
   "source": [
    "result['tip_pct']"
   ]
  },
  {
   "cell_type": "code",
   "execution_count": 52,
   "metadata": {},
   "outputs": [
    {
     "data": {
      "text/plain": [
       "                   tip_pct              total_bill           \n",
       "              Durchschnitt Abweichung Durchschnitt Abweichung\n",
       "sex    smoker                                                \n",
       "Female No         0.156921   0.001327    18.105185  53.092422\n",
       "       Yes        0.182150   0.005126    17.977879  84.451517\n",
       "Male   No         0.160669   0.001751    19.791237  76.152961\n",
       "       Yes        0.152771   0.008206    22.284500  98.244673"
      ]
     },
     "execution_count": 52,
     "metadata": {},
     "output_type": "execute_result"
    }
   ],
   "source": [
    "# 튜플을 만듬 \n",
    "ftuples = [('Durchschnitt', 'mean'), ('Abweichung', np.var)]\n",
    "grouped['tip_pct', 'total_bill'].agg(ftuples)"
   ]
  },
  {
   "cell_type": "code",
   "execution_count": 53,
   "metadata": {},
   "outputs": [
    {
     "data": {
      "text/plain": [
       "                tip  size\n",
       "sex    smoker            \n",
       "Female No       5.2   140\n",
       "       Yes      6.5    74\n",
       "Male   No       9.0   263\n",
       "       Yes     10.0   150"
      ]
     },
     "execution_count": 53,
     "metadata": {},
     "output_type": "execute_result"
    }
   ],
   "source": [
    "# 컬럼당 함수가 한개씩만 적용 \n",
    "grouped.agg({'tip' : np.max, 'size' : 'sum'})"
   ]
  },
  {
   "cell_type": "code",
   "execution_count": 54,
   "metadata": {},
   "outputs": [
    {
     "data": {
      "text/plain": [
       "                tip_pct                               size\n",
       "                    min       max      mean       std  sum\n",
       "sex    smoker                                             \n",
       "Female No      0.056797  0.252672  0.156921  0.036421  140\n",
       "       Yes     0.056433  0.416667  0.182150  0.071595   74\n",
       "Male   No      0.071804  0.291990  0.160669  0.041849  263\n",
       "       Yes     0.035638  0.710345  0.152771  0.090588  150"
      ]
     },
     "execution_count": 54,
     "metadata": {},
     "output_type": "execute_result"
    }
   ],
   "source": [
    "# 계층적 \n",
    "grouped.agg({'tip_pct' : ['min', 'max', 'mean', 'std'],\n",
    "             'size' : 'sum'})"
   ]
  },
  {
   "cell_type": "markdown",
   "metadata": {},
   "source": [
    "### Returning aggregated data in \"unindexed\" form"
   ]
  },
  {
   "cell_type": "code",
   "execution_count": 55,
   "metadata": {},
   "outputs": [
    {
     "data": {
      "text/plain": [
       "      sex smoker  total_bill       tip      size   tip_pct\n",
       "0  Female     No   18.105185  2.773519  2.592593  0.156921\n",
       "1  Female    Yes   17.977879  2.931515  2.242424  0.182150\n",
       "2    Male     No   19.791237  3.113402  2.711340  0.160669\n",
       "3    Male    Yes   22.284500  3.051167  2.500000  0.152771"
      ]
     },
     "execution_count": 55,
     "metadata": {},
     "output_type": "execute_result"
    }
   ],
   "source": [
    "tips.groupby(['sex', 'smoker'], as_index=False).mean() # as_index=False index 로 안만들겠다. "
   ]
  },
  {
   "cell_type": "markdown",
   "metadata": {},
   "source": [
    "* 여성 비흡연자/흡연자, 남성 비흡연자/흡연자 별 팁 비율 막대 그래프 "
   ]
  },
  {
   "cell_type": "code",
   "execution_count": 56,
   "metadata": {},
   "outputs": [
    {
     "data": {
      "text/plain": [
       "<matplotlib.axes._subplots.AxesSubplot at 0x2cb4c03b198>"
      ]
     },
     "execution_count": 56,
     "metadata": {},
     "output_type": "execute_result"
    },
    {
     "data": {
      "image/png": "[encoded data removed]",
      "text/plain": [
       "<matplotlib.figure.Figure at 0x2cb4c0c5748>"
      ]
     },
     "metadata": {},
     "output_type": "display_data"
    }
   ],
   "source": [
    "# Series 객체를 이용\n",
    "tips.groupby(['sex', 'smoker'])['tip_pct'].mean().plot(kind='barh')\n",
    "#grouped_pct.mean().plot(kind='bar')"
   ]
  },
  {
   "cell_type": "markdown",
   "metadata": {},
   "source": [
    "* 여성/남성 흡연/비흡연자의 음식값과 팁 비율에 대한 산포도"
   ]
  },
  {
   "cell_type": "code",
   "execution_count": 57,
   "metadata": {},
   "outputs": [
    {
     "data": {
      "text/plain": [
       "   total_bill   tip     sex smoker  day    time  size   tip_pct\n",
       "0       16.99  1.01  Female     No  Sun  Dinner     2  0.059447\n",
       "1       10.34  1.66    Male     No  Sun  Dinner     3  0.160542\n",
       "2       21.01  3.50    Male     No  Sun  Dinner     3  0.166587\n",
       "3       23.68  3.31    Male     No  Sun  Dinner     2  0.139780\n",
       "4       24.59  3.61  Female     No  Sun  Dinner     4  0.146808"
      ]
     },
     "execution_count": 57,
     "metadata": {},
     "output_type": "execute_result"
    }
   ],
   "source": [
    "tips[:5]"
   ]
  },
  {
   "cell_type": "code",
   "execution_count": 58,
   "metadata": {},
   "outputs": [
    {
     "data": {
      "text/plain": [
       "<matplotlib.collections.PathCollection at 0x2cb4c5c1c18>"
      ]
     },
     "execution_count": 58,
     "metadata": {},
     "output_type": "execute_result"
    },
    {
     "data": {
      "text/plain": [
       "<matplotlib.collections.PathCollection at 0x2cb4c5cb8d0>"
      ]
     },
     "execution_count": 58,
     "metadata": {},
     "output_type": "execute_result"
    },
    {
     "data": {
      "text/plain": [
       "<matplotlib.collections.PathCollection at 0x2cb4c5cbf60>"
      ]
     },
     "execution_count": 58,
     "metadata": {},
     "output_type": "execute_result"
    },
    {
     "data": {
      "text/plain": [
       "<matplotlib.collections.PathCollection at 0x2cb4c5d4a90>"
      ]
     },
     "execution_count": 58,
     "metadata": {},
     "output_type": "execute_result"
    },
    {
     "data": {
      "text/plain": [
       "<matplotlib.legend.Legend at 0x2cb4c2763c8>"
      ]
     },
     "execution_count": 58,
     "metadata": {},
     "output_type": "execute_result"
    },
    {
     "data": {
      "image/png": "[encoded data removed]",
      "text/plain": [
       "<matplotlib.figure.Figure at 0x2cb4c276dd8>"
      ]
     },
     "metadata": {},
     "output_type": "display_data"
    }
   ],
   "source": [
    "g = tips.groupby(['sex', 'smoker'])\n",
    "#g.groups\n",
    "#g.get_group(('Male', 'Yes'))\n",
    "\n",
    "for i in g.groups:\n",
    "    # print(i)\n",
    "    # g.get_group(i)['total_bill'].plot(style='.')\n",
    "    # g.get_group(i)['tip'].plot(style='.')\n",
    "    plt.scatter(y=g.get_group(i)['tip_pct'], x=g.get_group(i)['total_bill'], label=str(' '.join(i)))\n",
    "plt.legend()"
   ]
  },
  {
   "cell_type": "code",
   "execution_count": 59,
   "metadata": {
    "collapsed": true
   },
   "outputs": [],
   "source": [
    "# tips.groupby(['sex', 'smoker'])['total_bill', 'tip_pct'].plot(style='.')#.plot(kind='scatter')\n",
    "# type(tmp)"
   ]
  },
  {
   "cell_type": "markdown",
   "metadata": {},
   "source": [
    "## Group-wise operations and transformations"
   ]
  },
  {
   "cell_type": "code",
   "execution_count": 60,
   "metadata": {},
   "outputs": [
    {
     "data": {
      "text/plain": [
       "   data1  data2 key1 key2\n",
       "0      2      5    a  one\n",
       "1      5      2    a  two\n",
       "2      1      1    b  one\n",
       "3      4      6    b  two\n",
       "4      9      1    a  one"
      ]
     },
     "execution_count": 60,
     "metadata": {},
     "output_type": "execute_result"
    }
   ],
   "source": [
    "df"
   ]
  },
  {
   "cell_type": "code",
   "execution_count": 61,
   "metadata": {},
   "outputs": [
    {
     "data": {
      "text/plain": [
       "      mean_data1  mean_data2\n",
       "key1                        \n",
       "a       5.333333    2.666667\n",
       "b       2.500000    3.500000"
      ]
     },
     "execution_count": 61,
     "metadata": {},
     "output_type": "execute_result"
    }
   ],
   "source": [
    "k1_means = df.groupby('key1').mean().add_prefix('mean_')\n",
    "k1_means"
   ]
  },
  {
   "cell_type": "code",
   "execution_count": 62,
   "metadata": {},
   "outputs": [
    {
     "data": {
      "text/plain": [
       "   data1  data2 key1 key2  mean_data1  mean_data2\n",
       "0      2      5    a  one    5.333333    2.666667\n",
       "1      5      2    a  two    5.333333    2.666667\n",
       "4      9      1    a  one    5.333333    2.666667\n",
       "2      1      1    b  one    2.500000    3.500000\n",
       "3      4      6    b  two    2.500000    3.500000"
      ]
     },
     "execution_count": 62,
     "metadata": {},
     "output_type": "execute_result"
    }
   ],
   "source": [
    "pd.merge(df, k1_means, left_on='key1', right_index=True)"
   ]
  },
  {
   "cell_type": "code",
   "execution_count": 63,
   "metadata": {},
   "outputs": [
    {
     "data": {
      "text/plain": [
       "            a    b    c         d         e\n",
       "one  0.666667  1.5  1.5  0.666667  1.666667\n",
       "two  0.000000  1.0  1.0  1.500000  1.000000"
      ]
     },
     "execution_count": 63,
     "metadata": {},
     "output_type": "execute_result"
    }
   ],
   "source": [
    "key = ['one', 'two', 'one', 'two', 'one']\n",
    "people.groupby(key).mean()"
   ]
  },
  {
   "cell_type": "code",
   "execution_count": 64,
   "metadata": {},
   "outputs": [
    {
     "data": {
      "text/plain": [
       "        a    b    c  d  e\n",
       "Joe     0  1.0  2.0  0  1\n",
       "Steve   0  2.0  0.0  2  0\n",
       "Wes     0  NaN  NaN  0  2\n",
       "Jim     0  0.0  2.0  1  2\n",
       "Travis  2  2.0  1.0  2  2"
      ]
     },
     "execution_count": 64,
     "metadata": {},
     "output_type": "execute_result"
    },
    {
     "data": {
      "text/plain": [
       "               a    b    c         d         e\n",
       "Joe     0.666667  1.5  1.5  0.666667  1.666667\n",
       "Steve   0.000000  1.0  1.0  1.500000  1.000000\n",
       "Wes     0.666667  1.5  1.5  0.666667  1.666667\n",
       "Jim     0.000000  1.0  1.0  1.500000  1.000000\n",
       "Travis  0.666667  1.5  1.5  0.666667  1.666667"
      ]
     },
     "execution_count": 64,
     "metadata": {},
     "output_type": "execute_result"
    }
   ],
   "source": [
    "people\n",
    "# 원본에 mean 값을 적용 그룹에 대한 평균값 \n",
    "people.groupby(key).transform(np.mean)"
   ]
  },
  {
   "cell_type": "code",
   "execution_count": 65,
   "metadata": {},
   "outputs": [
    {
     "data": {
      "text/plain": [
       "               a    b    c         d         e\n",
       "Joe    -0.666667 -0.5  0.5 -0.666667 -0.666667\n",
       "Steve   0.000000  1.0 -1.0  0.500000 -1.000000\n",
       "Wes    -0.666667  NaN  NaN -0.666667  0.333333\n",
       "Jim     0.000000 -1.0  1.0 -0.500000  1.000000\n",
       "Travis  1.333333  0.5 -0.5  1.333333  0.333333"
      ]
     },
     "execution_count": 65,
     "metadata": {},
     "output_type": "execute_result"
    }
   ],
   "source": [
    "# 사용자 정의 함수 적용 \n",
    "def demean(arr):\n",
    "    return arr - arr.mean() # 그룹의 평균을 뻄\n",
    "demeaned = people.groupby(key).transform(demean)\n",
    "demeaned"
   ]
  },
  {
   "cell_type": "code",
   "execution_count": 66,
   "metadata": {},
   "outputs": [
    {
     "data": {
      "text/plain": [
       "                a    b    c             d             e\n",
       "one  7.401487e-17  0.0  0.0  7.401487e-17 -7.401487e-17\n",
       "two  0.000000e+00  0.0  0.0  0.000000e+00  0.000000e+00"
      ]
     },
     "execution_count": 66,
     "metadata": {},
     "output_type": "execute_result"
    }
   ],
   "source": [
    "demeaned.groupby(key).mean()"
   ]
  },
  {
   "cell_type": "markdown",
   "metadata": {},
   "source": [
    "### Apply: General split-apply-combine"
   ]
  },
  {
   "cell_type": "code",
   "execution_count": 67,
   "metadata": {},
   "outputs": [
    {
     "data": {
      "text/plain": [
       "     total_bill   tip     sex smoker  day    time  size   tip_pct\n",
       "109       14.31  4.00  Female    Yes  Sat  Dinner     2  0.279525\n",
       "183       23.17  6.50    Male    Yes  Sun  Dinner     4  0.280535\n",
       "232       11.61  3.39    Male     No  Sat  Dinner     2  0.291990\n",
       "67         3.07  1.00  Female    Yes  Sat  Dinner     1  0.325733\n",
       "178        9.60  4.00  Female    Yes  Sun  Dinner     2  0.416667\n",
       "172        7.25  5.15    Male    Yes  Sun  Dinner     2  0.710345"
      ]
     },
     "execution_count": 67,
     "metadata": {},
     "output_type": "execute_result"
    }
   ],
   "source": [
    "# 데이터프레임을 컬럼으로 정렬한 후 오름차순의 끝에서 5개\n",
    "def top(df, n=5, column='tip_pct'):\n",
    "    #return df.sort_index(by=column)[-n:]\n",
    "    return df.sort_values(by=column)[-n:] \n",
    "top(tips, n=6)"
   ]
  },
  {
   "cell_type": "code",
   "execution_count": 68,
   "metadata": {},
   "outputs": [
    {
     "data": {
      "text/plain": [
       "            total_bill   tip     sex smoker   day    time  size   tip_pct\n",
       "smoker                                                                   \n",
       "No     88        24.71  5.85    Male     No  Thur   Lunch     2  0.236746\n",
       "       185       20.69  5.00    Male     No   Sun  Dinner     5  0.241663\n",
       "       51        10.29  2.60  Female     No   Sun  Dinner     2  0.252672\n",
       "       149        7.51  2.00    Male     No  Thur   Lunch     2  0.266312\n",
       "       232       11.61  3.39    Male     No   Sat  Dinner     2  0.291990\n",
       "Yes    109       14.31  4.00  Female    Yes   Sat  Dinner     2  0.279525\n",
       "       183       23.17  6.50    Male    Yes   Sun  Dinner     4  0.280535\n",
       "       67         3.07  1.00  Female    Yes   Sat  Dinner     1  0.325733\n",
       "       178        9.60  4.00  Female    Yes   Sun  Dinner     2  0.416667\n",
       "       172        7.25  5.15    Male    Yes   Sun  Dinner     2  0.710345"
      ]
     },
     "execution_count": 68,
     "metadata": {},
     "output_type": "execute_result"
    }
   ],
   "source": [
    "tips.groupby('smoker').apply(top)"
   ]
  },
  {
   "cell_type": "code",
   "execution_count": 69,
   "metadata": {},
   "outputs": [
    {
     "data": {
      "text/plain": [
       "                 total_bill    tip     sex smoker   day    time  size  \\\n",
       "smoker day                                                              \n",
       "No     Fri  91        22.49   3.50    Male     No   Fri  Dinner     2   \n",
       "            94        22.75   3.25  Female     No   Fri  Dinner     2   \n",
       "       Sat  59        48.27   6.73    Male     No   Sat  Dinner     4   \n",
       "            212       48.33   9.00    Male     No   Sat  Dinner     4   \n",
       "       Sun  112       38.07   4.00    Male     No   Sun  Dinner     3   \n",
       "            156       48.17   5.00    Male     No   Sun  Dinner     6   \n",
       "       Thur 85        34.83   5.17  Female     No  Thur   Lunch     4   \n",
       "            142       41.19   5.00    Male     No  Thur   Lunch     5   \n",
       "Yes    Fri  90        28.97   3.00    Male    Yes   Fri  Dinner     2   \n",
       "            95        40.17   4.73    Male    Yes   Fri  Dinner     4   \n",
       "       Sat  102       44.30   2.50  Female    Yes   Sat  Dinner     3   \n",
       "            170       50.81  10.00    Male    Yes   Sat  Dinner     3   \n",
       "       Sun  184       40.55   3.00    Male    Yes   Sun  Dinner     2   \n",
       "            182       45.35   3.50    Male    Yes   Sun  Dinner     3   \n",
       "       Thur 83        32.68   5.00    Male    Yes  Thur   Lunch     2   \n",
       "            197       43.11   5.00  Female    Yes  Thur   Lunch     4   \n",
       "\n",
       "                  tip_pct  \n",
       "smoker day                 \n",
       "No     Fri  91   0.155625  \n",
       "            94   0.142857  \n",
       "       Sat  59   0.139424  \n",
       "            212  0.186220  \n",
       "       Sun  112  0.105070  \n",
       "            156  0.103799  \n",
       "       Thur 85   0.148435  \n",
       "            142  0.121389  \n",
       "Yes    Fri  90   0.103555  \n",
       "            95   0.117750  \n",
       "       Sat  102  0.056433  \n",
       "            170  0.196812  \n",
       "       Sun  184  0.073983  \n",
       "            182  0.077178  \n",
       "       Thur 83   0.152999  \n",
       "            197  0.115982  "
      ]
     },
     "execution_count": 69,
     "metadata": {},
     "output_type": "execute_result"
    },
    {
     "data": {
      "text/plain": [
       "                 total_bill    tip     sex smoker   day    time  size  \\\n",
       "smoker day                                                              \n",
       "No     Fri  94        22.75   3.25  Female     No   Fri  Dinner     2   \n",
       "       Sat  212       48.33   9.00    Male     No   Sat  Dinner     4   \n",
       "       Sun  156       48.17   5.00    Male     No   Sun  Dinner     6   \n",
       "       Thur 142       41.19   5.00    Male     No  Thur   Lunch     5   \n",
       "Yes    Fri  95        40.17   4.73    Male    Yes   Fri  Dinner     4   \n",
       "       Sat  170       50.81  10.00    Male    Yes   Sat  Dinner     3   \n",
       "       Sun  182       45.35   3.50    Male    Yes   Sun  Dinner     3   \n",
       "       Thur 197       43.11   5.00  Female    Yes  Thur   Lunch     4   \n",
       "\n",
       "                  tip_pct  \n",
       "smoker day                 \n",
       "No     Fri  94   0.142857  \n",
       "       Sat  212  0.186220  \n",
       "       Sun  156  0.103799  \n",
       "       Thur 142  0.121389  \n",
       "Yes    Fri  95   0.117750  \n",
       "       Sat  170  0.196812  \n",
       "       Sun  182  0.077178  \n",
       "       Thur 197  0.115982  "
      ]
     },
     "execution_count": 69,
     "metadata": {},
     "output_type": "execute_result"
    }
   ],
   "source": [
    "# apply 에서 top 함수를 호출 인자를 전달\n",
    "tips.groupby(['smoker', 'day']).apply(top, n=2, column='total_bill') \n",
    "tips.groupby(['smoker', 'day']).apply(top, n=1, column='total_bill') # n=1 키워드 상위 1명 "
   ]
  },
  {
   "cell_type": "code",
   "execution_count": 70,
   "metadata": {},
   "outputs": [
    {
     "data": {
      "text/plain": [
       "        count      mean       std       min       25%       50%       75%  \\\n",
       "smoker                                                                      \n",
       "No      151.0  0.159328  0.039910  0.056797  0.136906  0.155625  0.185014   \n",
       "Yes      93.0  0.163196  0.085119  0.035638  0.106771  0.153846  0.195059   \n",
       "\n",
       "             max  \n",
       "smoker            \n",
       "No      0.291990  \n",
       "Yes     0.710345  "
      ]
     },
     "execution_count": 70,
     "metadata": {},
     "output_type": "execute_result"
    }
   ],
   "source": [
    "result = tips.groupby('smoker')['tip_pct'].describe()\n",
    "result"
   ]
  },
  {
   "cell_type": "code",
   "execution_count": 71,
   "metadata": {},
   "outputs": [
    {
     "data": {
      "text/plain": [
       "       smoker\n",
       "count  No        151.000000\n",
       "       Yes        93.000000\n",
       "mean   No          0.159328\n",
       "       Yes         0.163196\n",
       "std    No          0.039910\n",
       "       Yes         0.085119\n",
       "min    No          0.056797\n",
       "       Yes         0.035638\n",
       "25%    No          0.136906\n",
       "       Yes         0.106771\n",
       "50%    No          0.155625\n",
       "       Yes         0.153846\n",
       "75%    No          0.185014\n",
       "       Yes         0.195059\n",
       "max    No          0.291990\n",
       "       Yes         0.710345\n",
       "dtype: float64"
      ]
     },
     "execution_count": 71,
     "metadata": {},
     "output_type": "execute_result"
    }
   ],
   "source": [
    "result.unstack('smoker')"
   ]
  },
  {
   "cell_type": "code",
   "execution_count": 72,
   "metadata": {},
   "outputs": [
    {
     "data": {
      "text/plain": [
       "                     total_bill        tip       size    tip_pct\n",
       "sex    smoker                                                   \n",
       "Female No     count   54.000000  54.000000  54.000000  54.000000\n",
       "              mean    18.105185   2.773519   2.592593   0.156921\n",
       "              std      7.286455   1.128425   1.073146   0.036421\n",
       "              min      7.250000   1.000000   1.000000   0.056797\n",
       "              25%     12.650000   2.000000   2.000000   0.139708\n",
       "              50%     16.690000   2.680000   2.000000   0.149691\n",
       "              75%     20.862500   3.437500   3.000000   0.181630\n",
       "              max     35.830000   5.200000   6.000000   0.252672\n",
       "       Yes    count   33.000000  33.000000  33.000000  33.000000\n",
       "              mean    17.977879   2.931515   2.242424   0.182150\n",
       "              std      9.189751   1.219916   0.613917   0.071595\n",
       "              min      3.070000   1.000000   1.000000   0.056433\n",
       "              25%     12.760000   2.000000   2.000000   0.152439\n",
       "              50%     16.270000   2.880000   2.000000   0.173913\n",
       "              75%     22.120000   3.500000   2.000000   0.198216\n",
       "              max     44.300000   6.500000   4.000000   0.416667\n",
       "Male   No     count   97.000000  97.000000  97.000000  97.000000\n",
       "              mean    19.791237   3.113402   2.711340   0.160669\n",
       "              std      8.726566   1.489559   0.989094   0.041849\n",
       "              min      7.510000   1.250000   2.000000   0.071804\n",
       "              25%     13.810000   2.000000   2.000000   0.131810\n",
       "              50%     18.240000   2.740000   2.000000   0.157604\n",
       "              75%     22.820000   3.710000   3.000000   0.186220\n",
       "              max     48.330000   9.000000   6.000000   0.291990\n",
       "       Yes    count   60.000000  60.000000  60.000000  60.000000\n",
       "              mean    22.284500   3.051167   2.500000   0.152771\n",
       "              std      9.911845   1.500120   0.892530   0.090588\n",
       "              min      7.250000   1.000000   1.000000   0.035638\n",
       "              25%     15.272500   2.000000   2.000000   0.101845\n",
       "              50%     20.390000   3.000000   2.000000   0.141015\n",
       "              75%     28.572500   3.820000   3.000000   0.191697\n",
       "              max     50.810000  10.000000   5.000000   0.710345"
      ]
     },
     "execution_count": 72,
     "metadata": {},
     "output_type": "execute_result"
    }
   ],
   "source": [
    "# tips.groupby('smoker')['tip_pct'].describe() 내부적으로 아래와 같이 수행된다. \n",
    "f = lambda x: x.describe()\n",
    "# tips.groupby('smoker')['tip_pct'].apply(f).unstak()\n",
    "grouped.apply(f)"
   ]
  },
  {
   "cell_type": "markdown",
   "metadata": {},
   "source": [
    "transfrom : 입력, 출력 개수가 같아야 함 "
   ]
  },
  {
   "cell_type": "markdown",
   "metadata": {},
   "source": [
    "#### Suppressing the group keys"
   ]
  },
  {
   "cell_type": "code",
   "execution_count": 73,
   "metadata": {},
   "outputs": [
    {
     "data": {
      "text/plain": [
       "     total_bill   tip     sex smoker   day    time  size   tip_pct\n",
       "88        24.71  5.85    Male     No  Thur   Lunch     2  0.236746\n",
       "185       20.69  5.00    Male     No   Sun  Dinner     5  0.241663\n",
       "51        10.29  2.60  Female     No   Sun  Dinner     2  0.252672\n",
       "149        7.51  2.00    Male     No  Thur   Lunch     2  0.266312\n",
       "232       11.61  3.39    Male     No   Sat  Dinner     2  0.291990\n",
       "109       14.31  4.00  Female    Yes   Sat  Dinner     2  0.279525\n",
       "183       23.17  6.50    Male    Yes   Sun  Dinner     4  0.280535\n",
       "67         3.07  1.00  Female    Yes   Sat  Dinner     1  0.325733\n",
       "178        9.60  4.00  Female    Yes   Sun  Dinner     2  0.416667\n",
       "172        7.25  5.15    Male    Yes   Sun  Dinner     2  0.710345"
      ]
     },
     "execution_count": 73,
     "metadata": {},
     "output_type": "execute_result"
    }
   ],
   "source": [
    "tips.groupby('smoker', group_keys=False).apply(top) # smoker 를 키로 하지 않겠다."
   ]
  },
  {
   "cell_type": "markdown",
   "metadata": {},
   "source": [
    "### Quantile and bucket analysis\n",
    "\n",
    "qcut() 값이 동등하게 들어감 <br>\n",
    "groupby(factor 객체) 넣어서 범위로 묶음 <br>\n",
    "apply() 함수 적용 "
   ]
  },
  {
   "cell_type": "code",
   "execution_count": 74,
   "metadata": {},
   "outputs": [
    {
     "data": {
      "text/plain": [
       "0    (0.0912, 1.972]\n",
       "1    (-3.679, -1.79]\n",
       "2    (-1.79, 0.0912]\n",
       "3    (-1.79, 0.0912]\n",
       "4    (0.0912, 1.972]\n",
       "5    (0.0912, 1.972]\n",
       "6    (0.0912, 1.972]\n",
       "7    (-1.79, 0.0912]\n",
       "8    (0.0912, 1.972]\n",
       "9    (0.0912, 1.972]\n",
       "Name: data1, dtype: category\n",
       "Categories (4, interval[float64]): [(-3.679, -1.79] < (-1.79, 0.0912] < (0.0912, 1.972] < (1.972, 3.853]]"
      ]
     },
     "execution_count": 74,
     "metadata": {},
     "output_type": "execute_result"
    }
   ],
   "source": [
    "frame = DataFrame({'data1': np.random.randn(1000),\n",
    "                   'data2': np.random.randn(1000)})\n",
    "factor = pd.cut(frame.data1, 4) # 똑같은 간격 4개 # 깡통 범위 \n",
    "factor[:10] "
   ]
  },
  {
   "cell_type": "code",
   "execution_count": 75,
   "metadata": {},
   "outputs": [
    {
     "data": {
      "text/plain": [
       "{Interval(-3.6789999999999998, -1.79, closed='right'): Int64Index([  1,  10,  58, 107, 159, 190, 258, 271, 316, 319, 323, 328, 333,\n",
       "             358, 433, 592, 599, 600, 614, 640, 661, 672, 700, 705, 989],\n",
       "            dtype='int64'),\n",
       " Interval(-1.79, 0.091200000000000003, closed='right'): Int64Index([  2,   3,   7,  11,  12,  14,  15,  16,  18,  20,\n",
       "             ...\n",
       "             983, 984, 985, 986, 991, 993, 994, 995, 996, 997],\n",
       "            dtype='int64', length=499),\n",
       " Interval(0.091200000000000003, 1.972, closed='right'): Int64Index([  0,   4,   5,   6,   8,   9,  13,  17,  19,  21,\n",
       "             ...\n",
       "             972, 974, 975, 980, 987, 988, 990, 992, 998, 999],\n",
       "            dtype='int64', length=455),\n",
       " Interval(1.972, 3.8530000000000002, closed='right'): Int64Index([ 46,  52,  73,  79, 116, 119, 188, 191, 237, 280, 426, 444, 460,\n",
       "             503, 563, 617, 750, 766, 915, 932, 967],\n",
       "            dtype='int64')}"
      ]
     },
     "execution_count": 75,
     "metadata": {},
     "output_type": "execute_result"
    }
   ],
   "source": [
    "def get_stats(group):\n",
    "    return {'min': group.min(), 'max': group.max(),\n",
    "            'count': group.count(), 'mean': group.mean()}\n",
    "\n",
    "grouped = frame.data2.groupby(factor)\n",
    "grouped.groups"
   ]
  },
  {
   "cell_type": "code",
   "execution_count": 76,
   "metadata": {},
   "outputs": [
    {
     "data": {
      "text/plain": [
       "                 count       max      mean       min\n",
       "data1                                               \n",
       "(-3.679, -1.79]   25.0  1.847269 -0.030273 -2.335657\n",
       "(-1.79, 0.0912]  499.0  2.670508  0.013946 -2.431757\n",
       "(0.0912, 1.972]  455.0  3.378134 -0.004598 -3.141375\n",
       "(1.972, 3.853]    21.0  1.315193 -0.341477 -3.110265"
      ]
     },
     "execution_count": 76,
     "metadata": {},
     "output_type": "execute_result"
    }
   ],
   "source": [
    "grouped.apply(get_stats).unstack()\n",
    "\n",
    "#ADAPT the output is not sorted in the book while this is the case now (swap first two lines)"
   ]
  },
  {
   "cell_type": "code",
   "execution_count": 77,
   "metadata": {
    "scrolled": true
   },
   "outputs": [
    {
     "data": {
      "text/plain": [
       "0    7\n",
       "1    0\n",
       "2    4\n",
       "3    4\n",
       "4    8\n",
       "Name: data1, dtype: int64"
      ]
     },
     "execution_count": 77,
     "metadata": {},
     "output_type": "execute_result"
    }
   ],
   "source": [
    "# Return quantile numbers\n",
    "grouping = pd.qcut(frame.data1, 10, labels=False) # \n",
    "grouping[:5]"
   ]
  },
  {
   "cell_type": "code",
   "execution_count": 78,
   "metadata": {},
   "outputs": [
    {
     "data": {
      "text/plain": [
       "       count       max      mean       min\n",
       "data1                                     \n",
       "0      100.0  1.847269  0.101756 -2.335657\n",
       "1      100.0  2.643396  0.036708 -2.416970\n",
       "2      100.0  2.126706 -0.203447 -2.381475\n",
       "3      100.0  2.670508  0.091977 -2.295885\n",
       "4      100.0  2.167097  0.062519 -1.873239\n",
       "5      100.0  2.060531 -0.141510 -3.141375\n",
       "6      100.0  2.259351  0.065282 -2.400782\n",
       "7      100.0  2.138909 -0.100099 -2.572466\n",
       "8      100.0  2.556462  0.086500 -2.563130\n",
       "9      100.0  3.378134 -0.030297 -3.110265"
      ]
     },
     "execution_count": 78,
     "metadata": {},
     "output_type": "execute_result"
    }
   ],
   "source": [
    "grouped = frame.data2.groupby(grouping)\n",
    "grouped.apply(get_stats).unstack()"
   ]
  },
  {
   "cell_type": "markdown",
   "metadata": {},
   "source": [
    "### Example: Filling missing values with group-specific values\n",
    "\n",
    "그룹에 누락된 값 채우기"
   ]
  },
  {
   "cell_type": "code",
   "execution_count": 79,
   "metadata": {},
   "outputs": [
    {
     "data": {
      "text/plain": [
       "0         NaN\n",
       "1    0.103941\n",
       "2         NaN\n",
       "3   -0.566671\n",
       "4         NaN\n",
       "5   -0.383785\n",
       "dtype: float64"
      ]
     },
     "execution_count": 79,
     "metadata": {},
     "output_type": "execute_result"
    }
   ],
   "source": [
    "s = Series(np.random.randn(6))\n",
    "s[::2] = np.nan\n",
    "s"
   ]
  },
  {
   "cell_type": "code",
   "execution_count": 80,
   "metadata": {},
   "outputs": [
    {
     "data": {
      "text/plain": [
       "'헬로헬로헬로'"
      ]
     },
     "execution_count": 80,
     "metadata": {},
     "output_type": "execute_result"
    }
   ],
   "source": [
    "'헬로'*3"
   ]
  },
  {
   "cell_type": "code",
   "execution_count": 81,
   "metadata": {},
   "outputs": [
    {
     "data": {
      "text/plain": [
       "0   -0.282172\n",
       "1    0.103941\n",
       "2   -0.282172\n",
       "3   -0.566671\n",
       "4   -0.282172\n",
       "5   -0.383785\n",
       "dtype: float64"
      ]
     },
     "execution_count": 81,
     "metadata": {},
     "output_type": "execute_result"
    }
   ],
   "source": [
    "s.fillna(s.mean()) # 평균값으로 널값을 채움 "
   ]
  },
  {
   "cell_type": "code",
   "execution_count": 82,
   "metadata": {},
   "outputs": [
    {
     "data": {
      "text/plain": [
       "Ohio          0.623075\n",
       "New York     -1.133058\n",
       "Vermont            NaN\n",
       "Florida       0.610587\n",
       "Oregon        0.522668\n",
       "Nevada             NaN\n",
       "California   -0.262791\n",
       "Idaho              NaN\n",
       "dtype: float64"
      ]
     },
     "execution_count": 82,
     "metadata": {},
     "output_type": "execute_result"
    }
   ],
   "source": [
    "states = ['Ohio', 'New York', 'Vermont', 'Florida',\n",
    "          'Oregon', 'Nevada', 'California', 'Idaho']\n",
    "group_key = ['East'] * 4 + ['West'] * 4\n",
    "data = Series(np.random.randn(8), index=states)\n",
    "data[['Vermont', 'Nevada', 'Idaho']] = np.nan\n",
    "data"
   ]
  },
  {
   "cell_type": "code",
   "execution_count": 83,
   "metadata": {},
   "outputs": [
    {
     "data": {
      "text/plain": [
       "Ohio        0.623075\n",
       "New York   -1.133058\n",
       "Vermont          NaN\n",
       "Florida     0.610587\n",
       "dtype: float64"
      ]
     },
     "execution_count": 83,
     "metadata": {},
     "output_type": "execute_result"
    }
   ],
   "source": [
    "data[np.array(group_key)=='East']"
   ]
  },
  {
   "cell_type": "code",
   "execution_count": 84,
   "metadata": {},
   "outputs": [
    {
     "data": {
      "text/plain": [
       "East    0.033534\n",
       "West    0.129938\n",
       "dtype: float64"
      ]
     },
     "execution_count": 84,
     "metadata": {},
     "output_type": "execute_result"
    }
   ],
   "source": [
    "data.groupby(group_key).mean() # 위에 4개에 대한 평균 밑에 4개에 대한 평균"
   ]
  },
  {
   "cell_type": "code",
   "execution_count": 85,
   "metadata": {},
   "outputs": [
    {
     "data": {
      "text/plain": [
       "[('East', Ohio        0.623075\n",
       "  New York   -1.133058\n",
       "  Vermont          NaN\n",
       "  Florida     0.610587\n",
       "  dtype: float64), ('West', Oregon        0.522668\n",
       "  Nevada             NaN\n",
       "  California   -0.262791\n",
       "  Idaho              NaN\n",
       "  dtype: float64)]"
      ]
     },
     "execution_count": 85,
     "metadata": {},
     "output_type": "execute_result"
    },
    {
     "data": {
      "text/plain": [
       "Ohio          0.623075\n",
       "New York     -1.133058\n",
       "Vermont       0.033534\n",
       "Florida       0.610587\n",
       "Oregon        0.522668\n",
       "Nevada        0.129938\n",
       "California   -0.262791\n",
       "Idaho         0.129938\n",
       "dtype: float64"
      ]
     },
     "execution_count": 85,
     "metadata": {},
     "output_type": "execute_result"
    },
    {
     "data": {
      "text/plain": [
       "Ohio          0.623075\n",
       "New York     -1.133058\n",
       "Vermont       0.033534\n",
       "Florida       0.610587\n",
       "Oregon        0.522668\n",
       "Nevada        0.129938\n",
       "California   -0.262791\n",
       "Idaho         0.129938\n",
       "dtype: float64"
      ]
     },
     "execution_count": 85,
     "metadata": {},
     "output_type": "execute_result"
    },
    {
     "data": {
      "text/plain": [
       "Ohio                                                   0.623075\n",
       "New York                                               -1.13306\n",
       "Vermont       <bound method Series.mean of Ohio        0.623...\n",
       "Florida                                                0.610587\n",
       "Oregon                                                 0.522668\n",
       "Nevada        <bound method Series.mean of Oregon        0.5...\n",
       "California                                            -0.262791\n",
       "Idaho         <bound method Series.mean of Oregon        0.5...\n",
       "dtype: object"
      ]
     },
     "execution_count": 85,
     "metadata": {},
     "output_type": "execute_result"
    },
    {
     "data": {
      "text/plain": [
       "<bound method GroupBy.mean of <pandas.core.groupby.DataFrameGroupBy object at 0x000002CB4C276CF8>>"
      ]
     },
     "execution_count": 85,
     "metadata": {},
     "output_type": "execute_result"
    }
   ],
   "source": [
    "list(data.groupby(group_key))\n",
    "fill_mean = lambda g: g.fillna(g.mean())\n",
    "\n",
    "data.groupby(group_key).apply(fill_mean)\n",
    "data.groupby(group_key).transform(fill_mean)\n",
    "data.groupby(group_key).apply(lambda g:g.fillna(g.mean))\n",
    "g.mean"
   ]
  },
  {
   "cell_type": "code",
   "execution_count": 86,
   "metadata": {},
   "outputs": [
    {
     "data": {
      "text/plain": [
       "Ohio          0.623075\n",
       "New York     -1.133058\n",
       "Vermont       0.500000\n",
       "Florida       0.610587\n",
       "Oregon        0.522668\n",
       "Nevada       -1.000000\n",
       "California   -0.262791\n",
       "Idaho        -1.000000\n",
       "dtype: float64"
      ]
     },
     "execution_count": 86,
     "metadata": {},
     "output_type": "execute_result"
    }
   ],
   "source": [
    "fill_values = {'East': 0.5, 'West': -1}\n",
    "fill_func = lambda g: g.fillna(fill_values[g.name]) #g.name 에 na 값을 채움  \n",
    "\n",
    "data.groupby(group_key).apply(fill_func) "
   ]
  },
  {
   "cell_type": "markdown",
   "metadata": {},
   "source": [
    "transform, apply 는 주로 원본에 덮어 씌울때 많이 사용함 <br>\n",
    "transform 은 같은 크기로 리턴 1개 또는 N 개만 가능, apply 는 다됨"
   ]
  },
  {
   "cell_type": "markdown",
   "metadata": {},
   "source": [
    "### Example: Random sampling and permutation\n",
    "\n",
    "랜덤표본 샘플 "
   ]
  },
  {
   "cell_type": "code",
   "execution_count": 87,
   "metadata": {
    "scrolled": true
   },
   "outputs": [
    {
     "data": {
      "text/plain": [
       "AH      1\n",
       "2H      2\n",
       "3H      3\n",
       "4H      4\n",
       "5H      5\n",
       "6H      6\n",
       "7H      7\n",
       "8H      8\n",
       "9H      9\n",
       "10H    10\n",
       "JH     10\n",
       "KH     10\n",
       "QH     10\n",
       "AS      1\n",
       "2S      2\n",
       "3S      3\n",
       "4S      4\n",
       "5S      5\n",
       "6S      6\n",
       "7S      7\n",
       "8S      8\n",
       "9S      9\n",
       "10S    10\n",
       "JS     10\n",
       "KS     10\n",
       "QS     10\n",
       "AC      1\n",
       "2C      2\n",
       "3C      3\n",
       "4C      4\n",
       "5C      5\n",
       "6C      6\n",
       "7C      7\n",
       "8C      8\n",
       "9C      9\n",
       "10C    10\n",
       "JC     10\n",
       "KC     10\n",
       "QC     10\n",
       "AD      1\n",
       "2D      2\n",
       "3D      3\n",
       "4D      4\n",
       "5D      5\n",
       "6D      6\n",
       "7D      7\n",
       "8D      8\n",
       "9D      9\n",
       "10D    10\n",
       "JD     10\n",
       "KD     10\n",
       "QD     10\n",
       "dtype: int64"
      ]
     },
     "execution_count": 87,
     "metadata": {},
     "output_type": "execute_result"
    }
   ],
   "source": [
    "# Hearts, Spades, Clubs, Diamonds\n",
    "suits = ['H', 'S', 'C', 'D']\n",
    "#card_val = (range(1, 11) + [10] * 3) * 4\n",
    "# range 객체 (제너레이터) -> list 가 오면 그때 값을 생성함 \n",
    "card_val = (list(range(1, 11)) + [10] * 3) * 4 \n",
    "base_names = ['A'] + list(range(2, 11)) + ['J', 'K', 'Q']\n",
    "cards = []\n",
    "for suit in suits:\n",
    "    cards.extend(str(num) + suit for num in base_names) # extend : list와 list 붙이기\n",
    "\n",
    "deck = Series(card_val, index=cards)\n",
    "deck"
   ]
  },
  {
   "cell_type": "code",
   "execution_count": 88,
   "metadata": {},
   "outputs": [
    {
     "data": {
      "text/plain": [
       "AH      1\n",
       "2H      2\n",
       "3H      3\n",
       "4H      4\n",
       "5H      5\n",
       "6H      6\n",
       "7H      7\n",
       "8H      8\n",
       "9H      9\n",
       "10H    10\n",
       "JH     10\n",
       "KH     10\n",
       "QH     10\n",
       "dtype: int64"
      ]
     },
     "execution_count": 88,
     "metadata": {},
     "output_type": "execute_result"
    }
   ],
   "source": [
    "deck[:13]"
   ]
  },
  {
   "cell_type": "code",
   "execution_count": 89,
   "metadata": {},
   "outputs": [
    {
     "data": {
      "text/plain": [
       "AD     1\n",
       "JH    10\n",
       "4S     4\n",
       "JD    10\n",
       "2D     2\n",
       "dtype: int64"
      ]
     },
     "execution_count": 89,
     "metadata": {},
     "output_type": "execute_result"
    }
   ],
   "source": [
    "# np.random.permutation : 범위내에서 랜덤으로 값을 뽑음 \n",
    "def draw(deck, n=5):\n",
    "    return deck.take(np.random.permutation(len(deck))[:n])\n",
    "    # return deck[(np.random.permutation(len(deck))[:n])] # fancy-indexing\n",
    "draw(deck)"
   ]
  },
  {
   "cell_type": "code",
   "execution_count": 96,
   "metadata": {
    "scrolled": true
   },
   "outputs": [
    {
     "data": {
      "text/plain": [
       "Index(['AH', '2H', '3H', '4H', '5H', '6H', '7H', '8H', '9H', '10H', 'JH', 'KH',\n",
       "       'QH', 'AS', '2S', '3S', '4S', '5S', '6S', '7S', '8S', '9S', '10S', 'JS',\n",
       "       'KS', 'QS', 'AC', '2C', '3C', '4C', '5C', '6C', '7C', '8C', '9C', '10C',\n",
       "       'JC', 'KC', 'QC', 'AD', '2D', '3D', '4D', '5D', '6D', '7D', '8D', '9D',\n",
       "       '10D', 'JD', 'KD', 'QD'],\n",
       "      dtype='object')"
      ]
     },
     "execution_count": 96,
     "metadata": {},
     "output_type": "execute_result"
    },
    {
     "data": {
      "text/plain": [
       "C  KC     10\n",
       "   6C      6\n",
       "D  2D      2\n",
       "   10D    10\n",
       "H  4H      4\n",
       "   3H      3\n",
       "S  4S      4\n",
       "   2S      2\n",
       "dtype: int64"
      ]
     },
     "execution_count": 96,
     "metadata": {},
     "output_type": "execute_result"
    }
   ],
   "source": [
    "get_suit = lambda card: card[-1] # last letter is suit\n",
    "deck.index\n",
    "deck.groupby(get_suit).apply(draw, n=2)"
   ]
  },
  {
   "cell_type": "code",
   "execution_count": 97,
   "metadata": {},
   "outputs": [
    {
     "data": {
      "text/plain": [
       "3C     3\n",
       "5C     5\n",
       "AD     1\n",
       "KD    10\n",
       "7H     7\n",
       "JH    10\n",
       "6S     6\n",
       "7S     7\n",
       "dtype: int64"
      ]
     },
     "execution_count": 97,
     "metadata": {},
     "output_type": "execute_result"
    }
   ],
   "source": [
    "# alternatively\n",
    "deck.groupby(get_suit, group_keys=False).apply(draw, n=2)"
   ]
  },
  {
   "cell_type": "markdown",
   "metadata": {},
   "source": [
    "### Example: Group weighted average and correlation"
   ]
  },
  {
   "cell_type": "code",
   "execution_count": 98,
   "metadata": {},
   "outputs": [
    {
     "data": {
      "text/plain": [
       "  category      data   weights\n",
       "0        a  1.512003  0.824111\n",
       "1        a  0.225764  0.490986\n",
       "2        a  0.184897  0.096314\n",
       "3        a  0.712251  0.311536\n",
       "4        b -1.796839  0.145389\n",
       "5        b  1.094787  0.853206\n",
       "6        b -1.070083  0.821228\n",
       "7        b -0.217309  0.843914"
      ]
     },
     "execution_count": 98,
     "metadata": {},
     "output_type": "execute_result"
    }
   ],
   "source": [
    "df = DataFrame({'category': ['a', 'a', 'a', 'a', 'b', 'b', 'b', 'b'],\n",
    "                'data': np.random.randn(8),\n",
    "                'weights': np.random.rand(8)})\n",
    "df"
   ]
  },
  {
   "cell_type": "code",
   "execution_count": 99,
   "metadata": {},
   "outputs": [
    {
     "data": {
      "text/plain": [
       "category\n",
       "a    0.926672\n",
       "b   -0.146161\n",
       "dtype: float64"
      ]
     },
     "execution_count": 99,
     "metadata": {},
     "output_type": "execute_result"
    }
   ],
   "source": [
    "!!!질문\n",
    "grouped = df.groupby('category')\n",
    "get_wavg = lambda g: np.average(g['data'], weights=g['weights'])\n",
    "grouped.apply(get_wavg)"
   ]
  },
  {
   "cell_type": "code",
   "execution_count": 100,
   "metadata": {
    "collapsed": true
   },
   "outputs": [],
   "source": [
    "np.average?"
   ]
  },
  {
   "cell_type": "code",
   "execution_count": 101,
   "metadata": {},
   "outputs": [
    {
     "name": "stdout",
     "output_type": "stream",
     "text": [
      "<class 'pandas.core.frame.DataFrame'>\n",
      "DatetimeIndex: 2214 entries, 2003-01-02 to 2011-10-14\n",
      "Data columns (total 4 columns):\n",
      "AAPL    2214 non-null float64\n",
      "MSFT    2214 non-null float64\n",
      "XOM     2214 non-null float64\n",
      "SPX     2214 non-null float64\n",
      "dtypes: float64(4)\n",
      "memory usage: 86.5 KB\n"
     ]
    }
   ],
   "source": [
    "close_px = pd.read_csv('data/ch09/stock_px.csv', parse_dates=True, index_col=0)\n",
    "close_px.info()"
   ]
  },
  {
   "cell_type": "code",
   "execution_count": 106,
   "metadata": {},
   "outputs": [
    {
     "data": {
      "text/plain": [
       "            AAPL   MSFT    XOM     SPX\n",
       "2003-01-02  7.40  21.11  29.22  909.03\n",
       "2003-01-03  7.45  21.14  29.24  908.59\n",
       "2003-01-06  7.45  21.52  29.96  929.01\n",
       "2003-01-07  7.43  21.93  28.95  922.93"
      ]
     },
     "execution_count": 106,
     "metadata": {},
     "output_type": "execute_result"
    }
   ],
   "source": [
    "close_px[:4]"
   ]
  },
  {
   "cell_type": "code",
   "execution_count": 108,
   "metadata": {},
   "outputs": [
    {
     "data": {
      "text/plain": [
       "                AAPL      MSFT       XOM       SPX\n",
       "2003-01-02       NaN       NaN       NaN       NaN\n",
       "2003-01-03  0.006757  0.001421  0.000684 -0.000484\n",
       "2003-01-06  0.000000  0.017975  0.024624  0.022474\n",
       "2003-01-07 -0.002685  0.019052 -0.033712 -0.006545"
      ]
     },
     "execution_count": 108,
     "metadata": {},
     "output_type": "execute_result"
    }
   ],
   "source": [
    "close_px.pct_change()[:4] # 2003-01-02 NaN???"
   ]
  },
  {
   "cell_type": "code",
   "execution_count": 112,
   "metadata": {},
   "outputs": [
    {
     "data": {
      "text/plain": [
       "          AAPL      MSFT       XOM  SPX\n",
       "2003  0.541124  0.745174  0.661265  1.0\n",
       "2004  0.374283  0.588531  0.557742  1.0\n",
       "2005  0.467540  0.562374  0.631010  1.0\n",
       "2006  0.428267  0.406126  0.518514  1.0\n",
       "2007  0.508118  0.658770  0.786264  1.0\n",
       "2008  0.681434  0.804626  0.828303  1.0\n",
       "2009  0.707103  0.654902  0.797921  1.0\n",
       "2010  0.710105  0.730118  0.839057  1.0\n",
       "2011  0.691931  0.800996  0.859975  1.0"
      ]
     },
     "execution_count": 112,
     "metadata": {},
     "output_type": "execute_result"
    }
   ],
   "source": [
    "rets = close_px.pct_change().dropna()\n",
    "spx_corr = lambda x: x.corrwith(x['SPX'])\n",
    "by_year = rets.groupby(lambda x: x.year)\n",
    "by_year.apply(spx_corr)"
   ]
  },
  {
   "cell_type": "code",
   "execution_count": 113,
   "metadata": {},
   "outputs": [
    {
     "data": {
      "text/plain": [
       "2003    0.480868\n",
       "2004    0.259024\n",
       "2005    0.300093\n",
       "2006    0.161735\n",
       "2007    0.417738\n",
       "2008    0.611901\n",
       "2009    0.432738\n",
       "2010    0.571946\n",
       "2011    0.581987\n",
       "dtype: float64"
      ]
     },
     "execution_count": 113,
     "metadata": {},
     "output_type": "execute_result"
    }
   ],
   "source": [
    "# Annual correlation of Apple with Microsoft\n",
    "by_year.apply(lambda g: g['AAPL'].corr(g['MSFT']))"
   ]
  },
  {
   "cell_type": "markdown",
   "metadata": {},
   "source": [
    "### Example: Group-wise linear regression\n",
    "\n",
    "!! 질문!!"
   ]
  },
  {
   "cell_type": "code",
   "execution_count": 114,
   "metadata": {},
   "outputs": [
    {
     "name": "stderr",
     "output_type": "stream",
     "text": [
      "C:\\Users\\jhee\\Documents\\Anaconda3\\lib\\site-packages\\statsmodels\\compat\\pandas.py:56: FutureWarning: The pandas.core.datetools module is deprecated and will be removed in a future version. Please use the pandas.tseries module instead.\n",
      "  from pandas.core import datetools\n"
     ]
    }
   ],
   "source": [
    "# sm.OLS(Y, X)?? \n",
    "import statsmodels.api as sm\n",
    "def regress(data, yvar, xvars):\n",
    "    Y = data[yvar]\n",
    "    X = data[xvars]\n",
    "    X['intercept'] = 1.\n",
    "    result = sm.OLS(Y, X).fit()\n",
    "    return result.params"
   ]
  },
  {
   "cell_type": "code",
   "execution_count": 115,
   "metadata": {},
   "outputs": [
    {
     "data": {
      "text/plain": [
       "           SPX  intercept\n",
       "2003  1.195406   0.000710\n",
       "2004  1.363463   0.004201\n",
       "2005  1.766415   0.003246\n",
       "2006  1.645496   0.000080\n",
       "2007  1.198761   0.003438\n",
       "2008  0.968016  -0.001110\n",
       "2009  0.879103   0.002954\n",
       "2010  1.052608   0.001261\n",
       "2011  0.806605   0.001514"
      ]
     },
     "execution_count": 115,
     "metadata": {},
     "output_type": "execute_result"
    }
   ],
   "source": [
    "by_year.apply(regress, 'AAPL', ['SPX'])"
   ]
  },
  {
   "cell_type": "markdown",
   "metadata": {},
   "source": [
    "## Pivot tables and Cross-tabulation"
   ]
  },
  {
   "cell_type": "code",
   "execution_count": 116,
   "metadata": {},
   "outputs": [
    {
     "data": {
      "text/plain": [
       "                   size       tip   tip_pct  total_bill\n",
       "sex    smoker                                          \n",
       "Female No      2.592593  2.773519  0.156921   18.105185\n",
       "       Yes     2.242424  2.931515  0.182150   17.977879\n",
       "Male   No      2.711340  3.113402  0.160669   19.791237\n",
       "       Yes     2.500000  3.051167  0.152771   22.284500"
      ]
     },
     "execution_count": 116,
     "metadata": {},
     "output_type": "execute_result"
    }
   ],
   "source": [
    "tips.pivot_table(index=['sex', 'smoker'])"
   ]
  },
  {
   "cell_type": "code",
   "execution_count": 117,
   "metadata": {},
   "outputs": [
    {
     "data": {
      "text/plain": [
       "                 size             tip_pct          \n",
       "smoker             No       Yes        No       Yes\n",
       "sex    day                                         \n",
       "Female Fri   2.500000  2.000000  0.165296  0.209129\n",
       "       Sat   2.307692  2.200000  0.147993  0.163817\n",
       "       Sun   3.071429  2.500000  0.165710  0.237075\n",
       "       Thur  2.480000  2.428571  0.155971  0.163073\n",
       "Male   Fri   2.000000  2.125000  0.138005  0.144730\n",
       "       Sat   2.656250  2.629630  0.162132  0.139067\n",
       "       Sun   2.883721  2.600000  0.158291  0.173964\n",
       "       Thur  2.500000  2.300000  0.165706  0.164417"
      ]
     },
     "execution_count": 117,
     "metadata": {},
     "output_type": "execute_result"
    }
   ],
   "source": [
    "tips.pivot_table(['tip_pct', 'size'], index=['sex', 'day'],\n",
    "                 columns='smoker')"
   ]
  },
  {
   "cell_type": "code",
   "execution_count": 118,
   "metadata": {},
   "outputs": [
    {
     "data": {
      "text/plain": [
       "                 size                       tip_pct                    \n",
       "smoker             No       Yes       All        No       Yes       All\n",
       "sex    day                                                             \n",
       "Female Fri   2.500000  2.000000  2.111111  0.165296  0.209129  0.199388\n",
       "       Sat   2.307692  2.200000  2.250000  0.147993  0.163817  0.156470\n",
       "       Sun   3.071429  2.500000  2.944444  0.165710  0.237075  0.181569\n",
       "       Thur  2.480000  2.428571  2.468750  0.155971  0.163073  0.157525\n",
       "Male   Fri   2.000000  2.125000  2.100000  0.138005  0.144730  0.143385\n",
       "       Sat   2.656250  2.629630  2.644068  0.162132  0.139067  0.151577\n",
       "       Sun   2.883721  2.600000  2.810345  0.158291  0.173964  0.162344\n",
       "       Thur  2.500000  2.300000  2.433333  0.165706  0.164417  0.165276\n",
       "All          2.668874  2.408602  2.569672  0.159328  0.163196  0.160803"
      ]
     },
     "execution_count": 118,
     "metadata": {},
     "output_type": "execute_result"
    }
   ],
   "source": [
    "tips.pivot_table(['tip_pct', 'size'], index=['sex', 'day'],\n",
    "                 columns='smoker', margins=True)"
   ]
  },
  {
   "cell_type": "code",
   "execution_count": 119,
   "metadata": {},
   "outputs": [
    {
     "data": {
      "text/plain": [
       "day             Fri   Sat   Sun  Thur    All\n",
       "sex    smoker                               \n",
       "Female No       2.0  13.0  14.0  25.0   54.0\n",
       "       Yes      7.0  15.0   4.0   7.0   33.0\n",
       "Male   No       2.0  32.0  43.0  20.0   97.0\n",
       "       Yes      8.0  27.0  15.0  10.0   60.0\n",
       "All            19.0  87.0  76.0  62.0  244.0"
      ]
     },
     "execution_count": 119,
     "metadata": {},
     "output_type": "execute_result"
    }
   ],
   "source": [
    "tips.pivot_table('tip_pct', index=['sex', 'smoker'], columns='day',\n",
    "                 aggfunc=len, margins=True)"
   ]
  },
  {
   "cell_type": "code",
   "execution_count": 120,
   "metadata": {},
   "outputs": [
    {
     "data": {
      "text/plain": [
       "day                   Fri  Sat  Sun  Thur\n",
       "time   sex    smoker                     \n",
       "Dinner Female No        2   30   43     2\n",
       "              Yes       8   33   10     0\n",
       "       Male   No        4   85  124     0\n",
       "              Yes      12   71   39     0\n",
       "Lunch  Female No        3    0    0    60\n",
       "              Yes       6    0    0    17\n",
       "       Male   No        0    0    0    50\n",
       "              Yes       5    0    0    23"
      ]
     },
     "execution_count": 120,
     "metadata": {},
     "output_type": "execute_result"
    }
   ],
   "source": [
    "tips.pivot_table('size', index=['time', 'sex', 'smoker'],\n",
    "                 columns='day', aggfunc='sum', fill_value=0)"
   ]
  },
  {
   "cell_type": "markdown",
   "metadata": {},
   "source": [
    "### Cross-tabulations: crosstab"
   ]
  },
  {
   "cell_type": "code",
   "execution_count": null,
   "metadata": {
    "collapsed": true
   },
   "outputs": [],
   "source": [
    "from StringIO import StringIO\n",
    "data = \"\"\"\\\n",
    "Sample    Gender    Handedness\n",
    "1    Female    Right-handed\n",
    "2    Male    Left-handed\n",
    "3    Female    Right-handed\n",
    "4    Male    Right-handed\n",
    "5    Male    Left-handed\n",
    "6    Male    Right-handed\n",
    "7    Female    Right-handed\n",
    "8    Female    Left-handed\n",
    "9    Male    Right-handed\n",
    "10    Female    Right-handed\"\"\"\n",
    "data = pd.read_table(StringIO(data), sep='\\s+')"
   ]
  },
  {
   "cell_type": "code",
   "execution_count": null,
   "metadata": {
    "collapsed": true
   },
   "outputs": [],
   "source": [
    "data"
   ]
  },
  {
   "cell_type": "code",
   "execution_count": null,
   "metadata": {
    "collapsed": true
   },
   "outputs": [],
   "source": [
    "pd.crosstab(data.Gender, data.Handedness, margins=True)"
   ]
  },
  {
   "cell_type": "code",
   "execution_count": null,
   "metadata": {
    "collapsed": true
   },
   "outputs": [],
   "source": [
    "pd.crosstab([tips.time, tips.day], tips.smoker, margins=True)"
   ]
  },
  {
   "cell_type": "markdown",
   "metadata": {},
   "source": [
    "## Example: 2012 Federal Election Commission Database"
   ]
  },
  {
   "cell_type": "code",
   "execution_count": null,
   "metadata": {
    "collapsed": true
   },
   "outputs": [],
   "source": [
    "fec = pd.read_csv('ch09/P00000001-ALL.csv')"
   ]
  },
  {
   "cell_type": "code",
   "execution_count": null,
   "metadata": {
    "collapsed": true
   },
   "outputs": [],
   "source": [
    "fec.info()"
   ]
  },
  {
   "cell_type": "code",
   "execution_count": null,
   "metadata": {
    "collapsed": true
   },
   "outputs": [],
   "source": [
    "fec.ix[123456]"
   ]
  },
  {
   "cell_type": "code",
   "execution_count": null,
   "metadata": {
    "collapsed": true
   },
   "outputs": [],
   "source": [
    "unique_cands = fec.cand_nm.unique()\n",
    "unique_cands"
   ]
  },
  {
   "cell_type": "code",
   "execution_count": null,
   "metadata": {
    "collapsed": true
   },
   "outputs": [],
   "source": [
    "unique_cands[2]"
   ]
  },
  {
   "cell_type": "code",
   "execution_count": null,
   "metadata": {
    "collapsed": true
   },
   "outputs": [],
   "source": [
    "parties = {'Bachmann, Michelle': 'Republican',\n",
    "           'Cain, Herman': 'Republican',\n",
    "           'Gingrich, Newt': 'Republican',\n",
    "           'Huntsman, Jon': 'Republican',\n",
    "           'Johnson, Gary Earl': 'Republican',\n",
    "           'McCotter, Thaddeus G': 'Republican',\n",
    "           'Obama, Barack': 'Democrat',\n",
    "           'Paul, Ron': 'Republican',\n",
    "           'Pawlenty, Timothy': 'Republican',\n",
    "           'Perry, Rick': 'Republican',\n",
    "           \"Roemer, Charles E. 'Buddy' III\": 'Republican',\n",
    "           'Romney, Mitt': 'Republican',\n",
    "           'Santorum, Rick': 'Republican'}"
   ]
  },
  {
   "cell_type": "code",
   "execution_count": null,
   "metadata": {
    "collapsed": true
   },
   "outputs": [],
   "source": [
    "fec.cand_nm[123456:123461]"
   ]
  },
  {
   "cell_type": "code",
   "execution_count": null,
   "metadata": {
    "collapsed": true
   },
   "outputs": [],
   "source": [
    "fec.cand_nm[123456:123461].map(parties)"
   ]
  },
  {
   "cell_type": "code",
   "execution_count": null,
   "metadata": {
    "collapsed": true
   },
   "outputs": [],
   "source": [
    "# Add it as a column\n",
    "fec['party'] = fec.cand_nm.map(parties)"
   ]
  },
  {
   "cell_type": "code",
   "execution_count": null,
   "metadata": {
    "collapsed": true
   },
   "outputs": [],
   "source": [
    "fec['party'].value_counts()"
   ]
  },
  {
   "cell_type": "code",
   "execution_count": null,
   "metadata": {
    "collapsed": true
   },
   "outputs": [],
   "source": [
    "(fec.contb_receipt_amt > 0).value_counts()"
   ]
  },
  {
   "cell_type": "code",
   "execution_count": null,
   "metadata": {
    "collapsed": true
   },
   "outputs": [],
   "source": [
    "fec = fec[fec.contb_receipt_amt > 0]"
   ]
  },
  {
   "cell_type": "code",
   "execution_count": null,
   "metadata": {
    "collapsed": true
   },
   "outputs": [],
   "source": [
    "fec_mrbo = fec[fec.cand_nm.isin(['Obama, Barack', 'Romney, Mitt'])]"
   ]
  },
  {
   "cell_type": "markdown",
   "metadata": {},
   "source": [
    "### Donation statistics by occupation and employer"
   ]
  },
  {
   "cell_type": "code",
   "execution_count": null,
   "metadata": {
    "collapsed": true
   },
   "outputs": [],
   "source": [
    "fec.contbr_occupation.value_counts()[:10]"
   ]
  },
  {
   "cell_type": "code",
   "execution_count": null,
   "metadata": {
    "collapsed": true
   },
   "outputs": [],
   "source": [
    "occ_mapping = {\n",
    "   'INFORMATION REQUESTED PER BEST EFFORTS' : 'NOT PROVIDED',\n",
    "   'INFORMATION REQUESTED' : 'NOT PROVIDED',\n",
    "   'INFORMATION REQUESTED (BEST EFFORTS)' : 'NOT PROVIDED',\n",
    "   'C.E.O.': 'CEO'\n",
    "}\n",
    "\n",
    "# If no mapping provided, return x\n",
    "f = lambda x: occ_mapping.get(x, x)\n",
    "fec.contbr_occupation = fec.contbr_occupation.map(f)"
   ]
  },
  {
   "cell_type": "code",
   "execution_count": null,
   "metadata": {
    "collapsed": true
   },
   "outputs": [],
   "source": [
    "emp_mapping = {\n",
    "   'INFORMATION REQUESTED PER BEST EFFORTS' : 'NOT PROVIDED',\n",
    "   'INFORMATION REQUESTED' : 'NOT PROVIDED',\n",
    "   'SELF' : 'SELF-EMPLOYED',\n",
    "   'SELF EMPLOYED' : 'SELF-EMPLOYED',\n",
    "}\n",
    "\n",
    "# If no mapping provided, return x\n",
    "f = lambda x: emp_mapping.get(x, x)\n",
    "fec.contbr_employer = fec.contbr_employer.map(f)"
   ]
  },
  {
   "cell_type": "code",
   "execution_count": null,
   "metadata": {
    "collapsed": true
   },
   "outputs": [],
   "source": [
    "by_occupation = fec.pivot_table('contb_receipt_amt',\n",
    "                                index='contbr_occupation',\n",
    "                                columns='party', aggfunc='sum')"
   ]
  },
  {
   "cell_type": "code",
   "execution_count": null,
   "metadata": {
    "collapsed": true
   },
   "outputs": [],
   "source": [
    "over_2mm = by_occupation[by_occupation.sum(1) > 2000000]\n",
    "over_2mm"
   ]
  },
  {
   "cell_type": "code",
   "execution_count": null,
   "metadata": {
    "collapsed": true
   },
   "outputs": [],
   "source": [
    "over_2mm.plot(kind='barh')"
   ]
  },
  {
   "cell_type": "code",
   "execution_count": null,
   "metadata": {
    "collapsed": true
   },
   "outputs": [],
   "source": [
    "def get_top_amounts(group, key, n=5):\n",
    "    totals = group.groupby(key)['contb_receipt_amt'].sum()\n",
    "\n",
    "    # Order totals by key in descending order\n",
    "    return totals.order(ascending=False)[-n:]"
   ]
  },
  {
   "cell_type": "code",
   "execution_count": null,
   "metadata": {
    "collapsed": true
   },
   "outputs": [],
   "source": [
    "grouped = fec_mrbo.groupby('cand_nm')\n",
    "grouped.apply(get_top_amounts, 'contbr_occupation', n=7)"
   ]
  },
  {
   "cell_type": "code",
   "execution_count": null,
   "metadata": {
    "collapsed": true
   },
   "outputs": [],
   "source": [
    "grouped.apply(get_top_amounts, 'contbr_employer', n=10)"
   ]
  },
  {
   "cell_type": "markdown",
   "metadata": {},
   "source": [
    "### Bucketing donation amounts"
   ]
  },
  {
   "cell_type": "code",
   "execution_count": null,
   "metadata": {
    "collapsed": true
   },
   "outputs": [],
   "source": [
    "bins = np.array([0, 1, 10, 100, 1000, 10000, 100000, 1000000, 10000000])\n",
    "labels = pd.cut(fec_mrbo.contb_receipt_amt, bins)\n",
    "labels"
   ]
  },
  {
   "cell_type": "code",
   "execution_count": null,
   "metadata": {
    "collapsed": true
   },
   "outputs": [],
   "source": [
    "grouped = fec_mrbo.groupby(['cand_nm', labels])\n",
    "grouped.size().unstack(0)"
   ]
  },
  {
   "cell_type": "code",
   "execution_count": null,
   "metadata": {
    "collapsed": true
   },
   "outputs": [],
   "source": [
    "bucket_sums = grouped.contb_receipt_amt.sum().unstack(0)\n",
    "bucket_sums"
   ]
  },
  {
   "cell_type": "code",
   "execution_count": null,
   "metadata": {
    "collapsed": true
   },
   "outputs": [],
   "source": [
    "normed_sums = bucket_sums.div(bucket_sums.sum(axis=1), axis=0)\n",
    "normed_sums"
   ]
  },
  {
   "cell_type": "code",
   "execution_count": null,
   "metadata": {
    "collapsed": true
   },
   "outputs": [],
   "source": [
    "normed_sums[:-2].plot(kind='barh', stacked=True)"
   ]
  },
  {
   "cell_type": "markdown",
   "metadata": {},
   "source": [
    "### Donation statistics by state"
   ]
  },
  {
   "cell_type": "code",
   "execution_count": null,
   "metadata": {
    "collapsed": true
   },
   "outputs": [],
   "source": [
    "grouped = fec_mrbo.groupby(['cand_nm', 'contbr_st'])\n",
    "totals = grouped.contb_receipt_amt.sum().unstack(0).fillna(0)\n",
    "totals = totals[totals.sum(1) > 100000]\n",
    "totals[:10]"
   ]
  },
  {
   "cell_type": "code",
   "execution_count": null,
   "metadata": {
    "collapsed": true
   },
   "outputs": [],
   "source": [
    "percent = totals.div(totals.sum(1), axis=0)\n",
    "percent[:10]"
   ]
  }
 ],
 "metadata": {
  "kernelspec": {
   "display_name": "Python 3",
   "language": "python",
   "name": "python3"
  },
  "language_info": {
   "codemirror_mode": {
    "name": "ipython",
    "version": 3
   },
   "file_extension": ".py",
   "mimetype": "text/x-python",
   "name": "python",
   "nbconvert_exporter": "python",
   "pygments_lexer": "ipython3",
   "version": "3.6.1"
  }
 },
 "nbformat": 4,
 "nbformat_minor": 1
}
