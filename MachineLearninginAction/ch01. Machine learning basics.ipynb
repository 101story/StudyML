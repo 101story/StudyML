{
 "cells": [
  {
   "cell_type": "code",
   "execution_count": 1,
   "metadata": {
    "collapsed": true
   },
   "outputs": [],
   "source": [
    "import scipy as sp\n",
    "from scipy import stats, optimize, interpolate\n",
    "import matplotlib.pyplot as plt\n",
    "import pandas as pd\n",
    "import numpy as np\n",
    "\n",
    "from IPython.core.interactiveshell import InteractiveShell\n",
    "InteractiveShell.ast_node_interactivity = \"all\" #'last' 기본값"
   ]
  },
  {
   "cell_type": "markdown",
   "metadata": {},
   "source": [
    "## 1.1 Basic\n",
    "\n",
    "* System -> 모델 종류\n",
    "    \n",
    "    Hard Computing, Soft Computing\n",
    "    Fuzzy, ANN, DL ...\n",
    "\n",
    "* Genetic Algorithim : 유전 알고리즘 (환경이 변해도 유전자가 새롭게 변할 수 있도록 하는 알고리즘, 진화이론) \n",
    "\n",
    "\n",
    "* 기계학습\n",
    "    - system 은 black box 시스템의 모델링을 스스로 하게 하자.\n",
    "    - 경험을 통해서 스스로 학습하게 만든다. (문제를 해결하기 위해서)\n",
    "    - ML (알고리즘, 전문가에 가까움),  신경망 / DL \n",
    "    - 통계(확률), 수학적최적화가 중요 \n",
    "    \n",
    "    - 알고리즘 종류 \n",
    "        1.\tDecision tree learning\n",
    "        2.\tAssociation rule learning\n",
    "        3.\tArtificial neural networks\n",
    "        4.\tDeep learning\n",
    "        5.\tInductive logic programming\n",
    "        6.\tSupport vector machines\n",
    "        7.\tClustering\n",
    "        8.\tBayesian networks\n",
    "        9.\tReinforcement learning\n",
    "        10.\tRepresentation learning\n",
    "        11.\tSimilarity and metric learning\n",
    "        12.\tSparse dictionary learning\n",
    "        13.\tGenetic algorithms\n",
    "        14.\tRule-based machine learning\n",
    "        15.\tLearning classifier systems\n",
    "\n",
    "    \n",
    "* 비선형 : 입력과 출력이 비율적으로 증감하지 않는 값들 \n",
    "* online recommendataion (집단지성) 여러사람의 경험을 가지고 개인에게, 추천시스템 등.. \n",
    "* fraud detection : 위조, 사기 등 감지\n",
    "\n",
    "* 기계학습 방법론\n",
    "    - supervised learning : 분류, 회귀, 예측 <br>\n",
    "        classification, regression, kNN, linear, NaiveBayes, Local Weighted linear, SVM, Ridge, Decision tree, Lasso\n",
    "    - unsupervised learning : input 만 존재, clustering (입력에서 서로의 관계를 찾아 분류함, 집단에서 그룹을 나눔)<br>\n",
    "        Clustering, Density Estimation, K-Means, Expectation maximizaion, DBSCAN, Parzen window\n",
    "    - reinforcement learning : 로보틱스, 게이밍에서 주로 사용 (벽돌깨기-처음에는 많이 놓치지만 패널티(점수,시간..)를 받고 학습하다보면 높아짐)\n",
    "    \n",
    "        해공간 (solution space) : 답에 가까운 여러가지 방법 (변수에 따른 차원만큼 존재) -> 을 찾는대 이용됨 (강화학습)\n",
    "  \n",
    "\n",
    "* SVM : 선으로 부류를 나눔 (선에 가까운 벡터들을 서포트 벡터라함) \n",
    "* AdaBoost : 앙상블 기법 각 분류기가 투표를 해서 많이 나온쪽으로 판단함 \n",
    "\n",
    "\n",
    "* An Introduction to Data Mining\n",
    "    \n",
    "    http://www.saedsayad.com/data_mining_map.htm\n",
    "\n"
   ]
  },
  {
   "cell_type": "markdown",
   "metadata": {},
   "source": [
    "## 1.2 Key terminology\n",
    "\n",
    "  * Feature: 특징\n",
    "  * 수치형 데이터 (Numeric), 명목형 데이터 (Nominal(categorical))\n",
    "  * Classification: 분류\n",
    "  * Class: 분류 항목\n",
    "  * Training set\n",
    "  * Training examples\n",
    "  * Target variable (통계: dependent variable)\n",
    "  * Test set\n",
    "  * Knowledge Representation: 지식 표현 <br>\n",
    "      (완성된 기계학습이 지식을 어떻게 구성했는지 확인해서 재사용함, 알고리즘에 따라 볼 수 없을 수 있다.)\n",
    "      \n",
    "## 1.4 How to choose the right algorithm\n",
    "\n",
    "* Choosing the right estimator\n",
    "\n",
    "    http://scikit-learn.org/stable/tutorial/machine_learning_map/index.html\n",
    "\n",
    "scikit-learn : 신경망보다는 ML 중심으로 되어 있음 "
   ]
  },
  {
   "cell_type": "markdown",
   "metadata": {},
   "source": [
    "## 1.5 Steps in developing a machine learning application\n",
    "\n",
    "1. 데이터 수집(Collect data)\n",
    "    - 다양한 소스(원천)과 방법\n",
    "2. 입력 데이터 준비(Prepare the input data)\n",
    "    - 수집한 데이터를 유용한 형식으로 변환\n",
    "3. 입력 데이터 분석(Analyze the input data)\n",
    "    - 데이터를 주의 깊게 보고자하는 단계\n",
    "4. 알고리즘 훈련(Training)\n",
    "    - 기계 학습이 이루어지는 단계\n",
    "5. 알고리즘 테스트\n",
    "    - 이전 단계에서 학습된 정보를 사용하는 단계\n",
    "6. 사용하기\n",
    "    - 애플리케이션을 위한 실질적인 프로그램 만들기"
   ]
  },
  {
   "cell_type": "markdown",
   "metadata": {},
   "source": [
    "### 환경 설정 가상 환경 분리 \n",
    "\n",
    "##### python 2.7\n",
    "(C:\\Anaconda3) C:\\Users\\IceMan>conda create --name ml27 python=2.7 numpy ipython-notebook <br>\n",
    "(C:\\Anaconda3) C:\\Users\\IceMan>activate ml27 <br>\n",
    "(ml27) C:\\Users\\IceMan> cd 작업디렉토리 <br>\n",
    "(ml27) C:작업디렉토리> jupyter notebook\n",
    "\n",
    "##### python 3.6\n",
    "(C:\\Anaconda3) C:\\Users\\IceMan>conda create --name ml36 python=3.6 numpy ipython <br>\n",
    "(C:\\Anaconda3) C:\\Users\\IceMan>activate ml36 <br>\n",
    "(ml36) C:\\Users\\IceMan> cd 작업디렉토리 <br>\n",
    "(ml36) C:작업디렉토리> jupyter notebook"
   ]
  },
  {
   "cell_type": "markdown",
   "metadata": {},
   "source": [
    "### Jupyter notebook 홈 디렉토리 변경 \n",
    "\n",
    "    1. Command 실행 \n",
    "    2. jupyter notebook --generate-config 입력\n",
    "    3. 사용자 폴더에 .jupyter 폴더 진입\n",
    "    4. jupyter_notebook_config.py 열기\n",
    "    5. #c.NotebookApp.notebook_dir = '' 열찾기 (179 번째 line 정도)\n",
    "    6. 주석제거\n",
    "    7. '' 란 안에 원하는 폴더의 절대 경로 삽입. 단 \\ --> / 로 변경 (c:\\temp --> c:/temp)\n",
    "    8. 저장 후 jupyter notebook 재실행\n",
    "\n",
    "\n",
    "출처: http://luke77.tistory.com/52 [Luke Kim]\n"
   ]
  },
  {
   "cell_type": "code",
   "execution_count": null,
   "metadata": {
    "collapsed": true
   },
   "outputs": [],
   "source": []
  }
 ],
 "metadata": {
  "kernelspec": {
   "display_name": "Python 3",
   "language": "python",
   "name": "python3"
  },
  "language_info": {
   "codemirror_mode": {
    "name": "ipython",
    "version": 3
   },
   "file_extension": ".py",
   "mimetype": "text/x-python",
   "name": "python",
   "nbconvert_exporter": "python",
   "pygments_lexer": "ipython3",
   "version": "3.6.1"
  }
 },
 "nbformat": 4,
 "nbformat_minor": 2
}
