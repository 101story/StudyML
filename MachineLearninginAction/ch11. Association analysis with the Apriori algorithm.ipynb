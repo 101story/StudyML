{
 "cells": [
  {
   "cell_type": "code",
   "execution_count": 1,
   "metadata": {
    "collapsed": true
   },
   "outputs": [],
   "source": [
    "from IPython.core.interactiveshell import InteractiveShell\n",
    "InteractiveShell.ast_node_interactivity = \"all\" \n",
    "\n",
    "from __future__ import print_function"
   ]
  },
  {
   "cell_type": "markdown",
   "metadata": {},
   "source": [
    "# 11.1 Association analysis\n",
    "\n",
    "연관분석 \n",
    "\n",
    "* Brute-force solutions : 무식하게 전부다 해보는\n",
    "\n",
    "데이터 간의 관계 : 연관분석, 연관규칙 \n",
    "\n",
    "\n",
    "# 11.2 The Apriori principle\n",
    "\n",
    "* sparse matrix : 인스턴스에 존재 하는 아이템만 체크한 matrix\n",
    "\n",
    "- frequent : 공통적으로 함께 발생한 아이템 목록 (지지도와 신뢰도를 사용)\n",
    "- support : frequent item set 아이템이 전체집합에 중 포함된 확률 <br>\n",
    "    (5개 집합중 4개에 속함 4/5)\n",
    "- confidence : association rules 두개의 연관규칙이 얼마나 강한지 <br>\n",
    "    (기저기가 있으면 두유가 있을 확률이 높다.(반대가 늘 참은 아님))\n",
    "- transaction : 거래 목록 (사용자마다의 구매목록)\n",
    "\n",
    "아이템이 하나씩 추가될때마다 조합에 대한 support, confidence 계산량이 너무 큼 \n",
    "\n",
    "* Apriori principle : 관심있는 아이템의 집합만 고려 관심없는 조합을 가지치기함 \n",
    "      특정 아이템 집합이 자주나오면 속해있는 부분집합도 자주 나온다. \n",
    "        예) 013 자주나오면 01, 03, 13 도 자주 나올것이다. \n",
    "      자주 나오지 않은 아이템은 합집합도 자주나오지 않을것이다.\n"
   ]
  },
  {
   "cell_type": "markdown",
   "metadata": {},
   "source": [
    "# 11.3 Finding frequent itemsets with the Apriori algorithm\n",
    "\n",
    "\n",
    "빈발 아이템 집합을 먼저 찾아야만 연관규칙을 찾을 수 있다.\n",
    "입력 : 최소지지도와 데이터 집합이 필요 \n",
    "\n",
    "## 11.3.1 Generating candidate itemsets\n",
    "\n",
    "* 의사코드 \n",
    "        for 데이터 집합 tran 에 있는 각각의 트랜잭션 반복 \n",
    "        for 각 후보 아이템 집합 can 을 반복 \n",
    "            can 이 tran 의 부분집합인지 확인\n",
    "            부분집합이면 can 의 계수를 증가 \n",
    "        for 후보 아이템 집합을 반복\n",
    "            해당 아이템의 지지도가 최소이면 이 아이템을 저장\n",
    "        빈발 아이템 목록 반환\n"
   ]
  },
  {
   "cell_type": "code",
   "execution_count": 59,
   "metadata": {
    "collapsed": true
   },
   "outputs": [],
   "source": [
    "import numpy as np\n",
    "import apriori"
   ]
  },
  {
   "cell_type": "code",
   "execution_count": 16,
   "metadata": {
    "collapsed": true
   },
   "outputs": [],
   "source": [
    "def loadDataSet():\n",
    "    return [[1, 3, 4], [2, 3, 5], [1, 2, 3, 5], [2, 5]]"
   ]
  },
  {
   "cell_type": "code",
   "execution_count": 17,
   "metadata": {
    "collapsed": true
   },
   "outputs": [],
   "source": [
    "# 1, 2, .. 아이템 하나별로 만듬 \n",
    "def createC1(dataSet):\n",
    "    C1 = []\n",
    "    # 1,3,4 트랜젝션 \n",
    "    for transaction in dataSet:\n",
    "        \n",
    "        for item in transaction:\n",
    "            # c1 [[1],[1,2]] 에 [1,2] 가 있는지 \n",
    "            if [item] not in C1 : # not [item] in C1\n",
    "                C1.append([item]) # [] 중요!!\n",
    "    \n",
    "    C1.sort()\n",
    "    return map(frozenset, C1)\n",
    "\n",
    "#symmetric diff : 대칭차\n",
    "# frozenset : immutable, hashable 한 집합 한번 만들고 변경 할 수 없다. (사전의 key 를 만들떄 사용)"
   ]
  },
  {
   "cell_type": "code",
   "execution_count": 18,
   "metadata": {},
   "outputs": [
    {
     "data": {
      "text/plain": [
       "[frozenset({1}), frozenset({2}), frozenset({1, 2})]"
      ]
     },
     "execution_count": 18,
     "metadata": {},
     "output_type": "execute_result"
    },
    {
     "data": {
      "text/plain": [
       "[{1}, {2}, {1, 2}]"
      ]
     },
     "execution_count": 18,
     "metadata": {},
     "output_type": "execute_result"
    }
   ],
   "source": [
    "a =[[1],[2], [1,2]]\n",
    "map(frozenset, a)\n",
    "map(set, a) # {1}집합"
   ]
  },
  {
   "cell_type": "code",
   "execution_count": 37,
   "metadata": {},
   "outputs": [
    {
     "data": {
      "text/plain": [
       "[frozenset({1}),\n",
       " frozenset({2}),\n",
       " frozenset({3}),\n",
       " frozenset({4}),\n",
       " frozenset({5})]"
      ]
     },
     "execution_count": 37,
     "metadata": {},
     "output_type": "execute_result"
    }
   ],
   "source": [
    "dataSet = loadDataSet()\n",
    "C1 = createC1(dataSet)\n",
    "C1"
   ]
  },
  {
   "cell_type": "code",
   "execution_count": 87,
   "metadata": {
    "collapsed": true
   },
   "outputs": [],
   "source": [
    "# 지지도 구하기 \n",
    "def scanD(D, Ck, minSupport):\n",
    "    ssCnt = {}\n",
    "    \n",
    "    # 전체 trans 집합\n",
    "    for tid in D:\n",
    "        # frozenset 목록 \n",
    "        for can in Ck:\n",
    "            if can.issubset(tid):\n",
    "                # 구매 횟수 print(ssCnt[can], itd)\n",
    "                if not ssCnt.has_key(can): ssCnt[can]=1; \n",
    "                else: ssCnt[can] += 1\n",
    "    print(ssCnt)\n",
    "    # 아이템 개수 \n",
    "    numItems = float(len(D))\n",
    "    retList = []\n",
    "    supportData = {}\n",
    "    \n",
    "    for key in ssCnt:\n",
    "        # 4개 중에 2번 나오면 0.5 \n",
    "        support = ssCnt[key]/numItems\n",
    "        if support >= minSupport:\n",
    "            retList.insert(0,key)\n",
    "        supportData[key] = support\n",
    "    return retList, supportData\n"
   ]
  },
  {
   "cell_type": "code",
   "execution_count": 88,
   "metadata": {},
   "outputs": [
    {
     "name": "stdout",
     "output_type": "stream",
     "text": [
      "{frozenset([4]): 1, frozenset([5]): 3, frozenset([2]): 3, frozenset([3]): 3, frozenset([1]): 2}\n"
     ]
    },
    {
     "data": {
      "text/plain": [
       "[frozenset({1}), frozenset({3}), frozenset({2}), frozenset({5})]"
      ]
     },
     "execution_count": 88,
     "metadata": {},
     "output_type": "execute_result"
    },
    {
     "data": {
      "text/plain": [
       "{frozenset({4}): 0.25,\n",
       " frozenset({5}): 0.75,\n",
       " frozenset({2}): 0.75,\n",
       " frozenset({3}): 0.75,\n",
       " frozenset({1}): 0.5}"
      ]
     },
     "execution_count": 88,
     "metadata": {},
     "output_type": "execute_result"
    }
   ],
   "source": [
    "# 아이템 목록 집합으로 바꿔줌 \n",
    "D = map(set, dataSet)\n",
    "L1, suppData0 = scanD(D, C1, 0.5)\n",
    "L1 # 최소 support 만족하는 c1 \n",
    "suppData0"
   ]
  },
  {
   "cell_type": "code",
   "execution_count": 91,
   "metadata": {},
   "outputs": [
    {
     "data": {
      "text/plain": [
       "list"
      ]
     },
     "execution_count": 91,
     "metadata": {},
     "output_type": "execute_result"
    },
    {
     "data": {
      "text/plain": [
       "False"
      ]
     },
     "execution_count": 91,
     "metadata": {},
     "output_type": "execute_result"
    },
    {
     "data": {
      "text/plain": [
       "True"
      ]
     },
     "execution_count": 91,
     "metadata": {},
     "output_type": "execute_result"
    }
   ],
   "source": [
    "a = map(frozenset,[[1, 3, 4], [2, 3, 5], [1, 2, 3, 5], [2, 5]])\n",
    "type(a)\n",
    "a[0].issubset([3])\n",
    "a[0].issubset([1,3,4])"
   ]
  },
  {
   "cell_type": "code",
   "execution_count": 62,
   "metadata": {
    "collapsed": true
   },
   "outputs": [],
   "source": [
    "# 합집합 만들기 \n",
    "# Lk : frozen{1}..4를 제외한 값, k : 2\n",
    "def aprioriGen(Lk, k): #creates Ck\n",
    "    retList = []\n",
    "    lenLk = len(Lk)\n",
    "    \n",
    "    for i in range(lenLk):\n",
    "        # 1~4\n",
    "        for j in range(i+1, lenLk): \n",
    "            # frozenset({1,2}), frozenset({1,3}) 의 부분 집합이 같은지 {1} 로 같음 \n",
    "            L1 = list(Lk[i])[:k-2]; L2 = list(Lk[j])[:k-2]\n",
    "            L1.sort(); L2.sort()\n",
    "            if L1==L2: #if first k-2 elements are equal\n",
    "                # frozenset({1}), frozenset({3}) : frozenset({1,3})\n",
    "                retList.append(Lk[i] | Lk[j]) #set union 합\n",
    "                \n",
    "    return retList\n",
    "\n",
    "# Ck 로 부터 Lk 를 얻기 위해서 데이터 집합을 봄 \n",
    "def apriori(dataSet, minSupport = 0.5):\n",
    "    C1 = createC1(dataSet)\n",
    "    D = map(set, dataSet)\n",
    "    L1, supportData = scanD(D, C1, minSupport)\n",
    "    L = [L1] # 중첩리스트 \n",
    "    k = 2 # support 의 기준이 minSupport 이상인 값만 가지고 조합을 찾겠다. \n",
    "    while (len(L[k-2]) > 0):\n",
    "        Ck = aprioriGen(L[k-2], k)\n",
    "        Lk, supK = scanD(D, Ck, minSupport)#scan DB to get Lk\n",
    "        supportData.update(supK)\n",
    "        L.append(Lk)\n",
    "        k += 1\n",
    "    return L, supportData\n"
   ]
  },
  {
   "cell_type": "code",
   "execution_count": 63,
   "metadata": {},
   "outputs": [
    {
     "name": "stdout",
     "output_type": "stream",
     "text": [
      "{frozenset([4]): 1, frozenset([5]): 3, frozenset([2]): 3, frozenset([3]): 3, frozenset([1]): 2}\n",
      "{frozenset([1, 2]): 1, frozenset([1, 5]): 1, frozenset([3, 5]): 2, frozenset([2, 3]): 2, frozenset([2, 5]): 3, frozenset([1, 3]): 2}\n",
      "{frozenset([2, 3, 5]): 2}\n",
      "{}\n"
     ]
    },
    {
     "data": {
      "text/plain": [
       "[[frozenset({1}), frozenset({3}), frozenset({2}), frozenset({5})],\n",
       " [frozenset({1, 3}), frozenset({2, 5}), frozenset({2, 3}), frozenset({3, 5})],\n",
       " [frozenset({2, 3, 5})],\n",
       " []]"
      ]
     },
     "execution_count": 63,
     "metadata": {},
     "output_type": "execute_result"
    },
    {
     "data": {
      "text/plain": [
       "{frozenset({5}): 0.75,\n",
       " frozenset({3}): 0.75,\n",
       " frozenset({2, 3, 5}): 0.5,\n",
       " frozenset({1, 2}): 0.25,\n",
       " frozenset({1, 5}): 0.25,\n",
       " frozenset({3, 5}): 0.5,\n",
       " frozenset({4}): 0.25,\n",
       " frozenset({2, 3}): 0.5,\n",
       " frozenset({2, 5}): 0.75,\n",
       " frozenset({1}): 0.5,\n",
       " frozenset({1, 3}): 0.5,\n",
       " frozenset({2}): 0.75}"
      ]
     },
     "execution_count": 63,
     "metadata": {},
     "output_type": "execute_result"
    }
   ],
   "source": [
    "L, suppData = apriori(dataSet)\n",
    "L\n",
    "suppData\n",
    "\n",
    "# 지지도가 낮은 subset 은 버리고 관심있는 집합만 뽑음 "
   ]
  },
  {
   "cell_type": "markdown",
   "metadata": {},
   "source": [
    "# 11.4 Mining association rules from frequent item sets\n",
    "\n",
    "* 선행조건 (antecedent) ->  결과 (consequent) \n",
    "\n",
    "* confidence (신뢰도) : support(P | H:합집합)/support(P)\n",
    "\n",
    "    **012->3** 이 낮으면 02->12, 01->23 도 낮다. <br>\n",
    "    **02->12, 01->23** 낮으면 0->123 도 낮다."
   ]
  },
  {
   "cell_type": "code",
   "execution_count": 67,
   "metadata": {
    "collapsed": true
   },
   "outputs": [],
   "source": [
    "# 신뢰도 값을 가지고 규칙들의 리스트를 생성, 정렬해서 사용 \n",
    "def generateRules(L, supportData, minConf=0.7):  #supportData is a dict coming from scanD\n",
    "    bigRuleList = []\n",
    "    for i in range(1, len(L)):#only get the sets with two or more items\n",
    "        for freqSet in L[i]:\n",
    "            H1 = [frozenset([item]) for item in freqSet]\n",
    "            if (i > 1):\n",
    "                rulesFromConseq(freqSet, H1, supportData, bigRuleList, minConf)\n",
    "            else:\n",
    "                calcConf(freqSet, H1, supportData, bigRuleList, minConf)\n",
    "    return bigRuleList         \n",
    "\n",
    "# 신뢰도 구하기 \n",
    "def calcConf(freqSet, H, supportData, brl, minConf=0.7):\n",
    "    prunedH = [] #create new list to return\n",
    "    for conseq in H:\n",
    "        conf = supportData[freqSet]/supportData[freqSet-conseq] #calc confidence\n",
    "        if conf >= minConf: \n",
    "            print(freqSet-conseq,'-->',conseq,'conf:',conf)\n",
    "            brl.append((freqSet-conseq, conseq, conf))\n",
    "            prunedH.append(conseq)\n",
    "    return prunedH\n",
    "\n",
    "# 연관 규칙을 만듬 \n",
    "def rulesFromConseq(freqSet, H, supportData, brl, minConf=0.7):\n",
    "    m = len(H[0])\n",
    "    if (len(freqSet) > (m + 1)): #try further merging\n",
    "        Hmp1 = aprioriGen(H, m+1)#create Hm+1 new candidates\n",
    "        Hmp1 = calcConf(freqSet, Hmp1, supportData, brl, minConf)\n",
    "        if (len(Hmp1) > 1):    #need at least two sets to merge\n",
    "            rulesFromConseq(freqSet, Hmp1, supportData, brl, minConf)\n",
    "            "
   ]
  },
  {
   "cell_type": "code",
   "execution_count": 68,
   "metadata": {},
   "outputs": [
    {
     "name": "stdout",
     "output_type": "stream",
     "text": [
      "frozenset([1]) --> frozenset([3]) conf: 1.0\n",
      "frozenset([5]) --> frozenset([2]) conf: 1.0\n",
      "frozenset([2]) --> frozenset([5]) conf: 1.0\n"
     ]
    },
    {
     "data": {
      "text/plain": [
       "[(frozenset({1}), frozenset({3}), 1.0),\n",
       " (frozenset({5}), frozenset({2}), 1.0),\n",
       " (frozenset({2}), frozenset({5}), 1.0)]"
      ]
     },
     "execution_count": 68,
     "metadata": {},
     "output_type": "execute_result"
    }
   ],
   "source": [
    "rules = generateRules(L, suppData, minConf=0.7)\n",
    "rules"
   ]
  },
  {
   "cell_type": "code",
   "execution_count": null,
   "metadata": {
    "collapsed": true
   },
   "outputs": [],
   "source": []
  }
 ],
 "metadata": {
  "kernelspec": {
   "display_name": "Python 3",
   "language": "python",
   "name": "python3"
  },
  "language_info": {
   "codemirror_mode": {
    "name": "ipython",
    "version": 3
   },
   "file_extension": ".py",
   "mimetype": "text/x-python",
   "name": "python",
   "nbconvert_exporter": "python",
   "pygments_lexer": "ipython3",
   "version": "3.6.1"
  }
 },
 "nbformat": 4,
 "nbformat_minor": 2
}
