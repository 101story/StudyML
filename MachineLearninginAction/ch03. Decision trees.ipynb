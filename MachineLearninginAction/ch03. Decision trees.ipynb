{
 "cells": [
  {
   "cell_type": "code",
   "execution_count": 1,
   "metadata": {
    "collapsed": true
   },
   "outputs": [],
   "source": [
    "from IPython.core.interactiveshell import InteractiveShell\n",
    "InteractiveShell.ast_node_interactivity = \"all\" #'last' 기본값"
   ]
  },
  {
   "cell_type": "markdown",
   "metadata": {},
   "source": [
    "* 참고 머신 러닝 인 액션 정리 - 3장 - 의사결정트리 <br>\n",
    "http://javacan.tistory.com/entry/MachineLearningInAction-03-DecisitionTree-ID3"
   ]
  },
  {
   "cell_type": "markdown",
   "metadata": {},
   "source": [
    "# Splitting datasets one feature at a time: decision trees\n",
    "\n",
    "\n",
    "* 의사 결정 트리 (스무고개)\n",
    "\n",
    "\n",
    "* Decision Tree Flowchart\n",
    "    - Decision Block (의사결정 블록, 사각형)\n",
    "    - Terminal Block (단말 블록, 타원형)\n",
    "    - Branch (가지)\n",
    "    \n",
    "    \n",
    "* 장점\n",
    "    - 적은 계산 비용\n",
    "    - 이해하기 쉬운 학습 결과\n",
    "    - 누락값 처리\n",
    "    - 분류와 무관한 특징 처리 가능\n",
    "\n",
    "\n",
    "* 단점\n",
    "    - 과적합되기 쉬움 (너무 복잡한 형태)\n",
    "    \n",
    "    \n",
    "* 적용\n",
    "    - 수치형값, 명목형값\n",
    "\n",
    "---- 이진트리도 있으나 주로 정렬할때 사용 (여기서는 사용하지 않는다.)<br>\n",
    "kNN 알고리즘은 데이터에대한 추가적으로 생각할 정보를 주지 않는다. \n",
    "\n",
    "_알쓸신잡) <br>\n",
    "Btreeindex, bitmapindex.. 오라클의 저장단위는 물리적인단위, 논리적인 단위로 나뉘어 져있다. 논리적인 단위가 있는 이유 다른 file system 이여도 저장 가능하도록 하기위해서. NTFS 는 제한없음, FAT32 4G 가 최대 <br>\n",
    "오라클 데이터 주소값 : 6자리3자리6자리3자리 > 오파블로 (objectId(segmentID), 파일번호(몇번째파일), 데이터블럭ID, RowID)_"
   ]
  },
  {
   "cell_type": "markdown",
   "metadata": {},
   "source": [
    "## 3.1 Tree construction\n",
    "\n",
    "** ID3 알고리즘**\n",
    "\n",
    "* ID3 를 이용한 트리 생성 순서 \n",
    "\n",
    "    1. 데이터를 가장 잘 나눌 수 있는 특징을 먼저 찾아서 데이터 집합을 하위 집합으로 분할\n",
    "        - 정보 이득 (Informaion Gain) 이 가장 큰 특징 (현상태와 그다음상태의 정보 차이) \n",
    "        - 엔트로피 (Entropy 정보량) 가 가장 크게 낮아지는 특징\n",
    "        - 정보량이 많다. = 선택사항이 많다. = 불확실 하다. = 복잡성, 불확정성\n",
    "    2. 해당 특징을 포함하는 노드 생성\n",
    "    3. 하위 집합의 모든 데이터가 같은 클래스에 속하면 해당 하위 집합에 대한 분류 종료\n",
    "    4. 2의 경우가 아니라면 이 하위 집합에 대해 1을 적용\n",
    "    5. 모든 데이터가 분류될 때까지 (=모든 하위 집합에 대해) 1~4 반복\n",
    "        - 재귀적방법으로 해결\n",
    "        - factorial(n) : n x (n-1) x (n-2).... =>  fact(n) = n x fact(n-1)\n",
    "    \n",
    "    \n",
    "노드에 비에 feature 정보가 적을 땐 남아있는 타갯들을 보고 다수결로 해결 \n",
    "\n",
    "\n",
    "### $ 트리 구조 생성 의사코드 \n",
    "\n",
    "    데이터 집합에 있는 모든 아이템이 같은 부류항복에 속하는지 확인 :\n",
    "        if 그렇다면, 분류 항목 표시를 반환\n",
    "        else 아니면\n",
    "            데이터를 분할하는 가장 좋은 속성을 찾음\n",
    "            데이터 집합 분할\n",
    "            가지 노드 생성\n",
    "                for 각노드마다 분할 반복\n",
    "                    create branch 를 호출하고 가지노드에 결과 추가 \n",
    "            가지 노드를 반환함 \n",
    "\n",
    "\n",
    "General approach to decision trees\n",
    "\n",
    "    1. Collect: 모든 방법\n",
    "    2. Prepare: 명목형값, 연속형값(수지형)은 양자화를 통해 이산형 값으로 변환 \n",
    "        - 양자화 (Quantizaton) : 끊어지는 값으로 만듬, 이산\n",
    "    3. Analyze: 모든방법, 트리를 만든 후 시각적 트리 검토\n",
    "    4. Train: 트리형태로 구조 구성\n",
    "    5. Test: 학습된 트리로 오류율(error rate) 계산\n",
    "    6. Use: 모든 지도학습에서 사용 (데이터를 이해하기 위해 사용되기도 함)\n",
    "\n",
    "    >> Knowledge Representation : 생성된 tree 구조 \n",
    "\n",
    "\n",
    "* 의사결정트리 알고리즘 종류\n",
    "    - ID3 (Iterative Dichotomiser 3)\n",
    "    - C4.5 (successor of ID3)\n",
    "    - C5.0 (successor of ID4)\n",
    "    - CART (Classification And Regression Tree)\n",
    "    - CHAID (CHi-squared Automatic Interaction Detector) : 이 알고리즘은 분류 트리를 계산할 때 다단계 분할을 수행한다.\n",
    "    - MARS (Multivariate adaptive regression splines) : 더 많은 수치 데이터를 처리하기 위해 결정 트리를 사용한다.\n",
    "    - 조건부 추론 트리 (Conditional Inference Trees) : 과적합을 피하기 위해 여러 테스트에 대해 보정 분할 기준으로 비 - 파라미터 테스트를 사용하는 통계 기반의 방법이다. 이 방법은 편견 예측 선택 결과와 가지 치기가 필요하지 않다.\n",
    "    \n",
    "    https://ko.wikipedia.org/wiki/%EA%B2%B0%EC%A0%95_%ED%8A%B8%EB%A6%AC_%ED%95%99%EC%8A%B5%EB%B2%95\n",
    "    \n",
    "    \n",
    "* 가장 적합한 분할 기준 선택 방법\n",
    " - 정보 이득\n",
    " - 지니 불순도 : 집합에 이질적인 것이 얼마나 섞였는지를 측정하는 지표\n",
    " - 분산 감소 \n",
    " \n",
    " \n",
    "* target 정보의 yes 로 판단할지 no 로 판단할지는 양적인 조건으로 판단 quantitative 예) 물고기다. 아니다.  "
   ]
  },
  {
   "cell_type": "markdown",
   "metadata": {},
   "source": [
    "## 3.1.1 Information gain\n",
    "\n",
    "* 교제 용어 \n",
    "    - class : target 예) 물고기인지 아닌지\n",
    "    - class label : target 의 실제 value 값 예) yes, no\n",
    "    - label : feature column 값 예) 지느러미여부, 아가미가있나\n",
    "\n",
    "\n",
    "* 데이터를 분할하기 이전 이후의 정보량(엔트로피) 변화\n",
    "* 정보 이득이 가장 큰 특징에 대한 분할 수행\n",
    "* 정보 이득으로 정보의 불확실성(엔트로피) 감소\n",
    "\n",
    "### 개별 정보량과 엔트로피 \n",
    "\n",
    "$log_2p(x_i)$\n",
    "\n",
    "* 개별 정보량 \n",
    "    * 확률이 낮을 수록 개별 정보량은 커짐 : 엔트로피가 커지는데 기어\n",
    "        * 로그의 결과에 -1 을 곱한 이유 (0~1 확률은 1/n 분수니까, log(1) 이하의 값은 음수가 나옴) <br>\n",
    "        확률이 낮을수록 개별 정보량은 커짐 > 엔트로피가 커짐 \n",
    "    * 정보를 전달(표현) 하는데 몇 자리 2진수(몇비트) 면 충분한가\n",
    "        * 밑이 2 인 log (컴퓨터로 정보를 전달 하려고 하기 때문에)         \n",
    "  \n",
    "  \n",
    "* 엔트로피 \n",
    "    * 개별 정보량에 대한 기댓값 <br>\n",
    "        $H=-\\sum_{i=1}^{n}p(x_i)\\log_2 P(x_i)$\n",
    "    * 불확실한 정도, 무질서 정도\n",
    "    * 확률이 낮은 사건이 많을수록 정보의 엔트로피(불확실성)이 커진다.\n",
    "        - 로그함수 0 에 가까울수록 -y 값이 커짐\n",
    "    * 정보의 불확실성이 높다.\n",
    "        = 어떤 값이 나올지 알기 힘들다.\n",
    "    * 엔트로피가 높은 원인\n",
    "        - 모든 사건의 확률이 균등 \n",
    "            개별정보가 기대값이 가장 많을때, 동전 앞,뒤면 나오는 확률이 같을때<br>\n",
    "            앞면이 나올 확률이 높은 경우 (예, 8/10) 정보의 불확실 성은 줄어든다. (앞면이 많이 나올테니까) 정보량이 적다. (외부에 남아있는 정보가 적다. 뒷면이 나올 확률 2/10)             \n",
    "        - 확률이 낮은 사건이 많음 (정보가 다양) \n",
    "      \n",
    "\n",
    "\n",
    "<img src='03.entropy.png' width=500>\n",
    "--- 엔트로피의 성질 : 집합에 범주가 고르게 분포할 수록 엔트로피 값은 높다. (불확실성 상태가 크다.)\n",
    "의사결정 나무에서는 엔트로피가 높을 수록 Target 구분을 잘 못해주는 속성 필드가 되며, 낮을 수록 구분을 잘 해주는 유의한 속성 필드가 된다.\n",
    "\n"
   ]
  },
  {
   "cell_type": "markdown",
   "metadata": {},
   "source": [
    "* [code] 3.1 calcShannonEnt : 데이터 집합의 새넌 엔트로피 계산 \n",
    "\n",
    "입력 데이터 집합을 순회하면서 타겟 라벨의 빈도수를 구함"
   ]
  },
  {
   "cell_type": "code",
   "execution_count": 4,
   "metadata": {
    "collapsed": true
   },
   "outputs": [],
   "source": [
    "import trees\n",
    "import numpy as np"
   ]
  },
  {
   "cell_type": "code",
   "execution_count": 11,
   "metadata": {},
   "outputs": [
    {
     "data": {
      "text/plain": [
       "([[1, 1, 'yes'], [1, 1, 'yes'], [1, 0, 'no'], [0, 1, 'no'], [0, 1, 'no']],\n",
       " ['no surfacing', 'flippers'])"
      ]
     },
     "execution_count": 11,
     "metadata": {},
     "output_type": "execute_result"
    }
   ],
   "source": [
    "marinedata, labels = trees.createDataSet()\n",
    "marinedata, labels"
   ]
  },
  {
   "cell_type": "code",
   "execution_count": 12,
   "metadata": {},
   "outputs": [
    {
     "data": {
      "text/plain": [
       "5"
      ]
     },
     "execution_count": 12,
     "metadata": {},
     "output_type": "execute_result"
    },
    {
     "data": {
      "text/plain": [
       "[1, 1, 'yes']"
      ]
     },
     "execution_count": 12,
     "metadata": {},
     "output_type": "execute_result"
    },
    {
     "data": {
      "text/plain": [
       "'yes'"
      ]
     },
     "execution_count": 12,
     "metadata": {},
     "output_type": "execute_result"
    },
    {
     "data": {
      "text/plain": [
       "{'yes': 0}"
      ]
     },
     "execution_count": 12,
     "metadata": {},
     "output_type": "execute_result"
    },
    {
     "data": {
      "text/plain": [
       "{'yes': 1}"
      ]
     },
     "execution_count": 12,
     "metadata": {},
     "output_type": "execute_result"
    }
   ],
   "source": [
    "# 가능한 모든 분류에 대한 딕셔너리 만들기 \n",
    "numentries = len(marinedata); numentries\n",
    "labelcounts = {}\n",
    "\n",
    "# for 문 \n",
    "i=0\n",
    "featvec = marinedata[i]; featvec\n",
    "current_targetlabel = featvec[-1]; current_targetlabel\n",
    "# 새로운 키 인 경우 사전에 저장 (for 문으로 여러개의 분류도 가능 )\n",
    "if current_targetlabel not in labelcounts.keys():\n",
    "    labelcounts[current_targetlabel] = 0\n",
    "    labelcounts\n",
    "labelcounts[current_targetlabel] += 1\n",
    "labelcounts"
   ]
  },
  {
   "cell_type": "markdown",
   "metadata": {},
   "source": [
    "-- 사전의 get 함수 활용"
   ]
  },
  {
   "cell_type": "code",
   "execution_count": 13,
   "metadata": {},
   "outputs": [
    {
     "data": {
      "text/plain": [
       "{'yes': 2}"
      ]
     },
     "execution_count": 13,
     "metadata": {},
     "output_type": "execute_result"
    }
   ],
   "source": [
    "# 새로운 키 인 경우 사전에 저장 (다른방법) \n",
    "# if current_targetlabel not in labelcounts.keys():labelcounts[current_targetlabel] = 0\n",
    "# labelcounts[current_targetlabel] += 1\n",
    "\n",
    "labelcounts[current_targetlabel] = labelcounts.get(current_targetlabel, 0) + 1\n",
    "labelcounts"
   ]
  },
  {
   "cell_type": "code",
   "execution_count": 21,
   "metadata": {},
   "outputs": [
    {
     "data": {
      "text/plain": [
       "'yes'"
      ]
     },
     "execution_count": 21,
     "metadata": {},
     "output_type": "execute_result"
    },
    {
     "data": {
      "text/plain": [
       "2"
      ]
     },
     "execution_count": 21,
     "metadata": {},
     "output_type": "execute_result"
    },
    {
     "data": {
      "text/plain": [
       "0.5287712379549449"
      ]
     },
     "execution_count": 21,
     "metadata": {},
     "output_type": "execute_result"
    }
   ],
   "source": [
    "import math\n",
    "# 새넌 엔트로피 구하기 \n",
    "shannonEnt = 0.0\n",
    "i = 0\n",
    "# for 문 \n",
    "key = labelcounts.keys()[i]; key\n",
    "labelcounts[key]\n",
    "prob = float(labelcounts[key])/numentries\n",
    "shannonEnt -= prob * math.log(prob,2) #log base 2\n",
    "shannonEnt # yes 일때의 확률이 나옴 "
   ]
  },
  {
   "cell_type": "markdown",
   "metadata": {},
   "source": [
    "* [code] trees calcShannonEnt 사용 "
   ]
  },
  {
   "cell_type": "code",
   "execution_count": 25,
   "metadata": {},
   "outputs": [
    {
     "data": {
      "text/plain": [
       "<module 'trees' from 'trees.py'>"
      ]
     },
     "execution_count": 25,
     "metadata": {},
     "output_type": "execute_result"
    },
    {
     "data": {
      "text/plain": [
       "0.9709505944546686"
      ]
     },
     "execution_count": 25,
     "metadata": {},
     "output_type": "execute_result"
    }
   ],
   "source": [
    "reload(trees)\n",
    "marinedata, labels = trees.createDataSet()\n",
    "shannonEnt = trees.calcShannonEnt(marinedata); shannonEnt"
   ]
  },
  {
   "cell_type": "markdown",
   "metadata": {},
   "source": [
    "shannonEnt 는 target 종류가 늘어날 수록 값이 커진다. <br>\n",
    "    \n",
    "    yes 2/5, no 3/5 = shannonEnt 0.9 \n",
    "        -> yes 1/5, no 3/5, maybe(추가) 1/5 = shannonEnt 1.3 \n",
    "\n",
    "    정보량이 증가, 복잡도가 높아짐 "
   ]
  },
  {
   "cell_type": "markdown",
   "metadata": {},
   "source": [
    "## 3.1.2 Splitting the dataset\n",
    "\n",
    "데이터를 첫 번째 feature 값 (라벨) 로 분할하되 그 값이 '1' 인 생물의 데이터 집합 얻기 <br>\n",
    "집합을 분할하기 위해서 feature 를 선택해야 한다.     \n",
    "\n",
    "데이터를 2차원으로 분류 > feature 가 2개 \n",
    "\n",
    "어떤 feature 를 선택할 것인가\n"
   ]
  },
  {
   "cell_type": "markdown",
   "metadata": {},
   "source": [
    "* [code] splitDataSet(dataSet, axis, value) feature 의 value 값에 따라 data 모으기 "
   ]
  },
  {
   "cell_type": "code",
   "execution_count": 26,
   "metadata": {
    "collapsed": true
   },
   "outputs": [],
   "source": [
    "retdataset = []\n",
    "marinedata, labels = trees.createDataSet()"
   ]
  },
  {
   "cell_type": "code",
   "execution_count": 40,
   "metadata": {},
   "outputs": [
    {
     "data": {
      "text/plain": [
       "[1, 1, 'yes']"
      ]
     },
     "execution_count": 40,
     "metadata": {},
     "output_type": "execute_result"
    },
    {
     "data": {
      "text/plain": [
       "[1]"
      ]
     },
     "execution_count": 40,
     "metadata": {},
     "output_type": "execute_result"
    },
    {
     "data": {
      "text/plain": [
       "[1, 'yes']"
      ]
     },
     "execution_count": 40,
     "metadata": {},
     "output_type": "execute_result"
    },
    {
     "data": {
      "text/plain": [
       "[[1, 'yes'], [1, 'yes'], [1, 'yes']]"
      ]
     },
     "execution_count": 40,
     "metadata": {},
     "output_type": "execute_result"
    }
   ],
   "source": [
    "# 첫번째 feature(axis=0) 가 1인 것만 뽑기 \n",
    "axis=1; value=1\n",
    "\n",
    "i=0\n",
    "# for 문 \n",
    "featvec = marinedata[i]; featvec\n",
    "# value 가 1 이면 저장하기 해당 feature 값 나머지 데이터 저장 \n",
    "if featvec[axis] == value:\n",
    "    # [1,1,'yes'] 에서 [ 만 선택 \n",
    "    reducedfeatvet = featvec[:axis]; reducedfeatvet\n",
    "    # [1,1,'yes'] 에서 나머지 1,'yes'] 만 선택 \n",
    "    # append 면 [, [1,'yes']] 중첩으로 들어감 풀어져 나옴 \n",
    "    # extend [1, 'yes']\n",
    "    reducedfeatvet.extend(featvec[axis+1:]); reducedfeatvet\n",
    "    # append 로 중접으로 쌓음  [[1, 'yes'], [1, 'yes']]\n",
    "    retdataset.append(reducedfeatvet); retdataset\n",
    "\n",
    "# axis=1 인 경우 [1, 0, yes] 중에서 1 고르고 yes 를 골라서 붙임 [1, yes]"
   ]
  },
  {
   "cell_type": "code",
   "execution_count": null,
   "metadata": {
    "collapsed": true
   },
   "outputs": [],
   "source": [
    "# 다른 방법 \n",
    "# if featvec[axis] == value:\n",
    "#     reducedfeatvet = featvec[:axis]\n",
    "#     reducedfeatvet.extend(featvec[axis+1:])\n",
    "#     retdataset.append(reducedfeatvet)\n",
    "if featvec[axis] == value:\n",
    "    del featvec[1]\n",
    "    retdataset.append(featvec); retdataset"
   ]
  },
  {
   "cell_type": "markdown",
   "metadata": {},
   "source": [
    "* [code] trees splitDataSet 사용 (모든 feature value 에 대해서 엔트로피 구하기) "
   ]
  },
  {
   "cell_type": "code",
   "execution_count": 37,
   "metadata": {},
   "outputs": [
    {
     "data": {
      "text/plain": [
       "<module 'trees' from 'trees.pyc'>"
      ]
     },
     "execution_count": 37,
     "metadata": {},
     "output_type": "execute_result"
    },
    {
     "data": {
      "text/plain": [
       "[[1, 'yes'], [1, 'yes'], [0, 'no']]"
      ]
     },
     "execution_count": 37,
     "metadata": {},
     "output_type": "execute_result"
    },
    {
     "data": {
      "text/plain": [
       "0.9182958340544896"
      ]
     },
     "execution_count": 37,
     "metadata": {},
     "output_type": "execute_result"
    }
   ],
   "source": [
    "reload(trees)\n",
    "# 첫번째 피처 값 (라벨)이 1인 데이터 집합의 엔트로피 구하기 \n",
    "feat01 = trees.splitDataSet(marinedata, 0, 1); feat01\n",
    "trees.calcShannonEnt(feat01)"
   ]
  },
  {
   "cell_type": "code",
   "execution_count": 38,
   "metadata": {},
   "outputs": [
    {
     "data": {
      "text/plain": [
       "[[1, 'no'], [1, 'no']]"
      ]
     },
     "execution_count": 38,
     "metadata": {},
     "output_type": "execute_result"
    },
    {
     "data": {
      "text/plain": [
       "0.0"
      ]
     },
     "execution_count": 38,
     "metadata": {},
     "output_type": "execute_result"
    }
   ],
   "source": [
    "# 첫번쨰 피처 값이 0인 데이터 집합의 엔트로피 \n",
    "feat00 = trees.splitDataSet(marinedata, 0, 0); feat00\n",
    "trees.calcShannonEnt(feat00) # 전부 같은 데이터만 있음 분류할 필요가 없다."
   ]
  },
  {
   "cell_type": "code",
   "execution_count": 39,
   "metadata": {},
   "outputs": [
    {
     "data": {
      "text/plain": [
       "[[1, 'no']]"
      ]
     },
     "execution_count": 39,
     "metadata": {},
     "output_type": "execute_result"
    },
    {
     "data": {
      "text/plain": [
       "0.0"
      ]
     },
     "execution_count": 39,
     "metadata": {},
     "output_type": "execute_result"
    },
    {
     "data": {
      "text/plain": [
       "[[1, 'yes'], [1, 'yes'], [0, 'no'], [0, 'no']]"
      ]
     },
     "execution_count": 39,
     "metadata": {},
     "output_type": "execute_result"
    },
    {
     "data": {
      "text/plain": [
       "1.0"
      ]
     },
     "execution_count": 39,
     "metadata": {},
     "output_type": "execute_result"
    }
   ],
   "source": [
    "feat10 = trees.splitDataSet(marinedata, 1, 0); feat10\n",
    "trees.calcShannonEnt(feat10)\n",
    "feat11 = trees.splitDataSet(marinedata, 1, 1); feat11\n",
    "trees.calcShannonEnt(feat11)"
   ]
  },
  {
   "cell_type": "markdown",
   "metadata": {},
   "source": [
    "* [code] chooseBestFeatureToSplit 데이터 분할 시 가장 좋은 속성 선택하기 "
   ]
  },
  {
   "cell_type": "code",
   "execution_count": 64,
   "metadata": {
    "collapsed": true
   },
   "outputs": [],
   "source": [
    "def chooseBestFeatureToSplit(dataSet):\n",
    "    numFeatures = len(dataSet[0]) - 1     # 마지막 label 값 제외 \n",
    "    baseEntropy = trees.calcShannonEnt(dataSet) # 아직 분할되지 않은 값 \n",
    "    print(\"\\n == 최적 피처 찾기 시작 ==\")\n",
    "    # 타입이 확실하지 않은 경우 {} 에 값을 넣어줌  {name} -> .formant(name=numFeatures) \n",
    "    print(\"피처 개수 : {0}, 기본 엔트로피 :{1}\".format(numFeatures, baseEntropy))\n",
    "    bestInfoGain = 0.0; bestFeature = -1  # 어떤 feature 일때 엔트로피 값이 큰가 \n",
    "    \n",
    "    for i in range(numFeatures):          # iterate over all the features \n",
    "        #create a list of all the examples of this feature\n",
    "        featList = [example[i] for example in dataSet] \n",
    "        uniqueVals = set(featList)       # get a set of unique values\n",
    "        newEntropy = 0.0\n",
    "        print(\"\\n>>> feature {}'s value list : {}\".format(i, featList))\n",
    "        print(\"  unique value of the above feature : {}\".format(uniqueVals))\n",
    "        \n",
    "        for value in uniqueVals:\n",
    "            subDataSet = trees.splitDataSet(dataSet, i, value)\n",
    "            print(\"\\n\\t SubDataSet(feat#: {}, feat-val: {}): {}\"\\\n",
    "                  .format(i, value, subDataSet))\n",
    "            \n",
    "            prob = len(subDataSet)/float(len(dataSet))\n",
    "            newEntropy += prob * trees.calcShannonEnt(subDataSet)   \n",
    "            print(\"\\t Probagility of the subdataset : {}\".format(prob))\n",
    "            print(\"\\t Entropy of the subdataset : {}\".format(trees.calcShannonEnt(subDataSet)))\n",
    "            print(\"\\t Cumulative Entropy : {}\".format(newEntropy))\n",
    "            \n",
    "        infoGain = baseEntropy - newEntropy     #calculate the info gain; ie reduction in entropy\n",
    "        print(\"\\n  The determined Entorypy for feature {}: {}\".format(i, newEntropy))\n",
    "        print(\"  Information Gain for feature {}: {}\".format(i, infoGain))\n",
    "        \n",
    "        if (infoGain > bestInfoGain):       #compare this to the best gain so far\n",
    "            bestInfoGain = infoGain         #if better than current best, set to best\n",
    "            bestFeature = i\n",
    "            \n",
    "        print(\"\\n  bestFeature : {}\".format(bestFeature))\n",
    "    return bestFeature                      #returns an integer\n"
   ]
  },
  {
   "cell_type": "code",
   "execution_count": 65,
   "metadata": {},
   "outputs": [
    {
     "data": {
      "text/plain": [
       "[[1, 1, 'yes'], [1, 1, 'yes'], [1, 0, 'no'], [0, 1, 'no'], [0, 1, 'no']]"
      ]
     },
     "execution_count": 65,
     "metadata": {},
     "output_type": "execute_result"
    },
    {
     "data": {
      "text/plain": [
       "['no surfacing', 'flippers']"
      ]
     },
     "execution_count": 65,
     "metadata": {},
     "output_type": "execute_result"
    }
   ],
   "source": [
    "myDat, features = trees.createDataSet()\n",
    "myDat; features "
   ]
  },
  {
   "cell_type": "code",
   "execution_count": 66,
   "metadata": {},
   "outputs": [
    {
     "name": "stdout",
     "output_type": "stream",
     "text": [
      "\n",
      " == 최적 피처 찾기 시작 ==\n",
      "피처 개수 : 2, 기본 엔트로피 :0.970950594455\n",
      "\n",
      ">>> feature 0's value list : [1, 1, 1, 0, 0]\n",
      "  unique value of the above feature : set([0, 1])\n",
      "\n",
      "\t SubDataSet(feat#: 0, feat-val: 0): [[1, 'no'], [1, 'no']]\n",
      "\t Probagility of the subdataset : 0.4\n",
      "\t Entropy of the subdataset : 0.0\n",
      "\t Cumulative Entropy : 0.0\n",
      "\n",
      "\t SubDataSet(feat#: 0, feat-val: 1): [[1, 'yes'], [1, 'yes'], [0, 'no']]\n",
      "\t Probagility of the subdataset : 0.6\n",
      "\t Entropy of the subdataset : 0.918295834054\n",
      "\t Cumulative Entropy : 0.550977500433\n",
      "\n",
      "  The determined Entorypy for feature 0: 0.550977500433\n",
      "  Information Gain for feature 0: 0.419973094022\n",
      "\n",
      "  bestFeature : 0\n",
      "\n",
      ">>> feature 1's value list : [1, 1, 0, 1, 1]\n",
      "  unique value of the above feature : set([0, 1])\n",
      "\n",
      "\t SubDataSet(feat#: 1, feat-val: 0): [[1, 'no']]\n",
      "\t Probagility of the subdataset : 0.2\n",
      "\t Entropy of the subdataset : 0.0\n",
      "\t Cumulative Entropy : 0.0\n",
      "\n",
      "\t SubDataSet(feat#: 1, feat-val: 1): [[1, 'yes'], [1, 'yes'], [0, 'no'], [0, 'no']]\n",
      "\t Probagility of the subdataset : 0.8\n",
      "\t Entropy of the subdataset : 1.0\n",
      "\t Cumulative Entropy : 0.8\n",
      "\n",
      "  The determined Entorypy for feature 1: 0.8\n",
      "  Information Gain for feature 1: 0.170950594455\n",
      "\n",
      "  bestFeature : 0\n"
     ]
    },
    {
     "data": {
      "text/plain": [
       "0"
      ]
     },
     "execution_count": 66,
     "metadata": {},
     "output_type": "execute_result"
    }
   ],
   "source": [
    "bestFeature = chooseBestFeatureToSplit(myDat)\n",
    "bestFeature"
   ]
  },
  {
   "cell_type": "markdown",
   "metadata": {},
   "source": [
    "* [code] 트리 만들기 "
   ]
  },
  {
   "cell_type": "code",
   "execution_count": 80,
   "metadata": {},
   "outputs": [
    {
     "data": {
      "text/plain": [
       "<module 'trees' from 'trees.py'>"
      ]
     },
     "execution_count": 80,
     "metadata": {},
     "output_type": "execute_result"
    }
   ],
   "source": [
    "reload(trees)"
   ]
  },
  {
   "cell_type": "code",
   "execution_count": 102,
   "metadata": {
    "collapsed": true
   },
   "outputs": [],
   "source": [
    "def createTree(dataSet,labels):\n",
    "    classList = [example[-1] for example in dataSet]\n",
    "    print(\"\\n=== Begin CreateTree() ===\")\n",
    "    print(\"\\r class labels for training set : {}\".format(classList))\n",
    "    # \\r 그줄 맨앞으로감\n",
    "        \n",
    "    # 재귀함수 stop 조건 #1 : 리프노드 만드는 조건이 값이 전부 같을때\n",
    "    if classList.count(classList[0]) == len(classList): \n",
    "        print(\"  stopcondition 1 Leaf Node's value :{}\".format(classList[0]))\n",
    "        return classList[0]\n",
    "    \n",
    "    # 재귀함수 stop 조건 #2 : 더이상의 featuer 가 없고(나눌수없다.), label이 다를떄 다수결로 정함\n",
    "    # featuer 개수가 2개 인데 target의 값이 3개 인경우 (수면위, 지느러미) target : 물고기다. 아니다. 모른다. \n",
    "    if len(dataSet[0]) == 1: \n",
    "        print(\"  stopcondition 2 Leaf Node's value :{}\".format(trees.majorityCnt(classList)))\n",
    "        return trees.majorityCnt(classList) # 다수결로 정해진 값을 받음\n",
    "    \n",
    "    bestFeat = trees.chooseBestFeatureToSplit(dataSet)\n",
    "    bestFeatLabel = labels[bestFeat]\n",
    "    print(\"  Current Gest Feature: {}\".format(bestFeatLabel))\n",
    "    \n",
    "    myTree = {bestFeatLabel:{}}\n",
    "    print(\"  Current Tree: {}\".format(myTree))\n",
    "    \n",
    "    # best 한 값을 첫번쨰 node 로 만들고 만들어진 label 은 삭제 후 전달 \n",
    "    del(labels[bestFeat])\n",
    "    print(\"  Class labels remained: {}\".format(labels))\n",
    "    \n",
    "    featValues = [example[bestFeat] for example in dataSet]\n",
    "    print(\"  DataSet for best feature: {}\".format(featValues))\n",
    "    uniqueVals = set(featValues)\n",
    "    \n",
    "    # unique value가 있는만큼 재귀함수를 호출\n",
    "    for value in uniqueVals:\n",
    "        subLabels = labels[:]       \n",
    "        print(\"    \\r sublabels: {}\".format(subLabels))\n",
    "        myTree[bestFeatLabel][value] = createTree(trees.splitDataSet(dataSet, bestFeat, value),subLabels)\n",
    "    return myTree   "
   ]
  },
  {
   "cell_type": "code",
   "execution_count": 103,
   "metadata": {},
   "outputs": [
    {
     "name": "stdout",
     "output_type": "stream",
     "text": [
      "\n",
      "=== Begin CreateTree() ===\n",
      "\r",
      " class labels for training set : ['yes', 'yes', 'no', 'no', 'no']\n",
      "  Current Gest Feature: no surfacing\n",
      "  Current Tree: {'no surfacing': {}}\n",
      "  Class labels remained: ['flippers']\n",
      "  DataSet for best feature: [1, 1, 1, 0, 0]\n",
      "    \r",
      " sublabels: ['flippers']\n",
      "\n",
      "=== Begin CreateTree() ===\n",
      "\r",
      " class labels for training set : ['no', 'no']\n",
      "  stopcondition 1 Leaf Node's value :no\n",
      "    \r",
      " sublabels: ['flippers']\n",
      "\n",
      "=== Begin CreateTree() ===\n",
      "\r",
      " class labels for training set : ['yes', 'yes', 'no']\n",
      "  Current Gest Feature: flippers\n",
      "  Current Tree: {'flippers': {}}\n",
      "  Class labels remained: []\n",
      "  DataSet for best feature: [1, 1, 0]\n",
      "    \r",
      " sublabels: []\n",
      "\n",
      "=== Begin CreateTree() ===\n",
      "\r",
      " class labels for training set : ['no']\n",
      "  stopcondition 1 Leaf Node's value :no\n",
      "    \r",
      " sublabels: []\n",
      "\n",
      "=== Begin CreateTree() ===\n",
      "\r",
      " class labels for training set : ['yes', 'yes']\n",
      "  stopcondition 1 Leaf Node's value :yes\n"
     ]
    },
    {
     "data": {
      "text/plain": [
       "{'no surfacing': {0: 'no', 1: {'flippers': {0: 'no', 1: 'yes'}}}}"
      ]
     },
     "execution_count": 103,
     "metadata": {},
     "output_type": "execute_result"
    }
   ],
   "source": [
    "myDat, features = trees.createDataSet()\n",
    "createTree(myDat, features)\n",
    "# {'no surfacing': {0: 'no', 1: {'flippers': {0: 'no', 1: 'yes'}}}}\n",
    "# no surfacing : 0 이면 no, no surfacing : 1 이면 yes (물위로 안올라오면 물고기가 아니다.)"
   ]
  },
  {
   "cell_type": "code",
   "execution_count": 104,
   "metadata": {},
   "outputs": [
    {
     "data": {
      "text/plain": [
       "3"
      ]
     },
     "execution_count": 104,
     "metadata": {},
     "output_type": "execute_result"
    },
    {
     "data": {
      "text/plain": [
       "3"
      ]
     },
     "execution_count": 104,
     "metadata": {},
     "output_type": "execute_result"
    }
   ],
   "source": [
    "# 리스트 안에 해당 값 개수 세기 \n",
    "l = [1,2,3,4,2,2,1,1]\n",
    "l.count(1)\n",
    "lnum = np.array(l)\n",
    "lnum[lnum == 1].sum()"
   ]
  },
  {
   "cell_type": "markdown",
   "metadata": {},
   "source": [
    "# 3.2 Plotting trees in Python with Matplotlib annotations\n",
    "- figure : 전체 영역 \n",
    "- axes : 축포함 그래프 영역 \n",
    "- axis : 오로지 축만\n",
    "\n",
    "* 그래프 영역 설명 \n",
    "https://matplotlib.org/faq/usage_faq.html\n",
    "\n",
    "\n",
    "## 3.2.1 Matplotlib annotations\n",
    "* matplot annotiation : 그래프위에 설명 \n",
    "https://matplotlib.org/users/annotations.html\n",
    "    \n",
    "    \n",
    "* annotate() method\n",
    "\n",
    "\n",
    "* 두개의 점 고려, 각점은 튜블로 표현\n",
    "    - x,y : 적용될 위치 \n",
    "    - xytext : 출력할 문자 위치\n",
    "\n",
    "\n",
    "* 기본적으로 text 에서 annotation 으로 그려짐 \n",
    "\n",
    "\n",
    "* 좌표계 (xy, xytext 의 좌료계 지정 : xycoords, textcooreds)\n",
    "    - figure 계열 : points, pixel, fraction (0.0, 1.1)\n",
    "    - axes 계열 : points, pixel, fraction\n",
    "    - data : (기본값) \n",
    "\n",
    "\n",
    "* polar annotation : 극좌표계\n",
    "\n",
    "** treePlotter.py ** 참고 "
   ]
  },
  {
   "cell_type": "markdown",
   "metadata": {},
   "source": [
    "* [code] getNumLeafs : leaf node 알아오기"
   ]
  },
  {
   "cell_type": "code",
   "execution_count": 144,
   "metadata": {
    "collapsed": true
   },
   "outputs": [],
   "source": [
    "import treePlotter as tplt\n",
    "import matplotlib.pyplot as plt"
   ]
  },
  {
   "cell_type": "code",
   "execution_count": 145,
   "metadata": {
    "collapsed": true
   },
   "outputs": [],
   "source": [
    "# myTree: {'no surfacing': {0: 'no', 1: {'flippers': {0: 'no', 1: 'yes'}}}}\n",
    "\n",
    "def getNumLeafs(myTree):\n",
    "    numLeafs = 0\n",
    "    firstStr = myTree.keys()[0]     # myTree.keys() : 'no surfacing'\n",
    "    print(\"\\n myTree.keys() : {}\".format(firstStr))\n",
    "    subDict = myTree[firstStr]\n",
    "    print(\"\\r myTree[firstStr] : {}\".format(subDict))\n",
    "    \n",
    "    print(\"\\r subDict.keys() : {}\".format(subDict.keys()))\n",
    "    \n",
    "    for key in subDict.keys():    \n",
    "        # __name__ : type 의 이름 내부함수 사용 \n",
    "        if type(subDict[key]).__name__=='dict':\n",
    "            numLeafs += getNumLeafs(subDict[key]) # 하위 부분만 넘김 \n",
    "            print(\"\\n\\t numLeafs : {}\".format(numLeafs))\n",
    "        else:   numLeafs +=1\n",
    "            \n",
    "    print(\"\\n Determined numLeafs: {}\".format(numLeafs))\n",
    "    return numLeafs"
   ]
  },
  {
   "cell_type": "code",
   "execution_count": 146,
   "metadata": {
    "scrolled": true
   },
   "outputs": [
    {
     "data": {
      "text/plain": [
       "{'no surfacing': {0: 'no', 1: {'flippers': {0: 'no', 1: 'yes'}}}}"
      ]
     },
     "execution_count": 146,
     "metadata": {},
     "output_type": "execute_result"
    },
    {
     "name": "stdout",
     "output_type": "stream",
     "text": [
      "\n",
      " myTree.keys() : no surfacing\n",
      "\r",
      " myTree[firstStr] : {0: 'no', 1: {'flippers': {0: 'no', 1: 'yes'}}}\n",
      "\r",
      " subDict.keys() : [0, 1]\n",
      "\n",
      " myTree.keys() : flippers\n",
      "\r",
      " myTree[firstStr] : {0: 'no', 1: 'yes'}\n",
      "\r",
      " subDict.keys() : [0, 1]\n",
      "\n",
      " Determined numLeafs: 2\n",
      "\n",
      "\t numLeafs : 3\n",
      "\n",
      " Determined numLeafs: 3\n"
     ]
    },
    {
     "data": {
      "text/plain": [
       "3"
      ]
     },
     "execution_count": 146,
     "metadata": {},
     "output_type": "execute_result"
    }
   ],
   "source": [
    "myDat, features = trees.createDataSet()\n",
    "myTree = trees.createTree(myDat, features)\n",
    "myTree\n",
    "getNumLeafs(myTree)"
   ]
  },
  {
   "cell_type": "markdown",
   "metadata": {},
   "source": [
    "* [code] getTreeDepth : 트리 깊이 알아오기 "
   ]
  },
  {
   "cell_type": "code",
   "execution_count": 147,
   "metadata": {
    "collapsed": true
   },
   "outputs": [],
   "source": [
    "def getTreeDepth(myTree):\n",
    "    maxDepth = 0\n",
    "    firstStr = myTree.keys()[0]\n",
    "    secondDict = myTree[firstStr]\n",
    "    for key in secondDict.keys():\n",
    "        if type(secondDict[key]).__name__=='dict':#test to see if the nodes are dictonaires, if not they are leaf nodes\n",
    "            thisDepth = 1 + getTreeDepth(secondDict[key])\n",
    "        else:   thisDepth = 1    \n",
    "        \n",
    "        if thisDepth > maxDepth: maxDepth = thisDepth\n",
    "    return maxDepth"
   ]
  },
  {
   "cell_type": "code",
   "execution_count": 148,
   "metadata": {},
   "outputs": [
    {
     "data": {
      "text/plain": [
       "{'no surfacing': {0: 'no', 1: {'flippers': {0: 'no', 1: 'yes'}}}}"
      ]
     },
     "execution_count": 148,
     "metadata": {},
     "output_type": "execute_result"
    },
    {
     "data": {
      "text/plain": [
       "2"
      ]
     },
     "execution_count": 148,
     "metadata": {},
     "output_type": "execute_result"
    }
   ],
   "source": [
    "myDat, features = trees.createDataSet()\n",
    "myTree = trees.createTree(myDat, features)\n",
    "myTree\n",
    "getTreeDepth(myTree)"
   ]
  },
  {
   "cell_type": "markdown",
   "metadata": {},
   "source": [
    "* [code] createPlot() : 텍스트 주석을 가진 트리 노느 플롯"
   ]
  },
  {
   "cell_type": "code",
   "execution_count": 149,
   "metadata": {
    "collapsed": true
   },
   "outputs": [],
   "source": [
    "# 노드 그리기 : xy=parentPt 화살표 받는 값, xytext=centerPt 화살표 시작 값, \n",
    "# va vertical : 세로중심, arrowprops : 왼쪽으로 화살표가 그려지게함 \n",
    "def plotNode(nodeTxt, centerPt, parentPt, nodeType):\n",
    "    createPlot.ax1.annotate(nodeTxt, xy=parentPt,  xycoords='axes fraction',\n",
    "             xytext=centerPt, textcoords='axes fraction',\n",
    "             va=\"center\", ha=\"center\", bbox=nodeType, arrowprops=arrow_args )"
   ]
  },
  {
   "cell_type": "code",
   "execution_count": 150,
   "metadata": {
    "collapsed": true
   },
   "outputs": [],
   "source": [
    "# 예시로 그려보기 \n",
    "decisionNode = dict(boxstyle=\"sawtooth\", fc=\"0.8\")\n",
    "leafNode = dict(boxstyle=\"round4\", fc=\"0.8\")\n",
    "arrow_args = dict(arrowstyle=\"<-\")\n",
    "\n",
    "def createPlot():\n",
    "    fig = plt.figure(1, facecolor='white')\n",
    "    fig.clf()\n",
    "    createPlot.ax1 = plt.subplot(111, frameon=False) #ticks for demo puropses \n",
    "    plotNode('a decision node', (0.5, 0.1), (0.1, 0.5), decisionNode)\n",
    "    plotNode('a leaf node', (0.8, 0.1), (0.3, 0.8), leafNode)\n",
    "    plt.show()"
   ]
  },
  {
   "cell_type": "code",
   "execution_count": 151,
   "metadata": {},
   "outputs": [
    {
     "data": {
      "image/png": "[encoded data removed]",
      "text/plain": [
       "<matplotlib.figure.Figure at 0x7c314e0>"
      ]
     },
     "metadata": {},
     "output_type": "display_data"
    }
   ],
   "source": [
    "createPlot()"
   ]
  },
  {
   "cell_type": "markdown",
   "metadata": {},
   "source": [
    "## 3.2.2 Constructing a tree of annotations\n",
    "\n",
    "* 리프 노드의 개수 - 각 요소의 적절한 x 축 방향 크기 계산에 필요\n",
    "* 트리의 깊이 - 각 요소의 적절한 y 축 방향 크기 계산에 필요 \n"
   ]
  },
  {
   "cell_type": "markdown",
   "metadata": {},
   "source": [
    "* [code] plotTree : Tree 그리기 "
   ]
  },
  {
   "cell_type": "code",
   "execution_count": 176,
   "metadata": {
    "collapsed": true
   },
   "outputs": [],
   "source": [
    "def plotMidText(cntrPt, parentPt, txtString):\n",
    "    xMid = (parentPt[0]-cntrPt[0])/2.0 + cntrPt[0]\n",
    "    yMid = (parentPt[1]-cntrPt[1])/2.0 + cntrPt[1]\n",
    "    createPlot.ax1.text(xMid, yMid, txtString, va=\"center\", ha=\"center\", rotation=30)"
   ]
  },
  {
   "cell_type": "code",
   "execution_count": 177,
   "metadata": {
    "collapsed": true
   },
   "outputs": [],
   "source": [
    "decisionNode = dict(boxstyle=\"sawtooth\", fc=\"0.8\")\n",
    "leafNode = dict(boxstyle=\"round4\", fc=\"0.8\")\n",
    "arrow_args = dict(arrowstyle=\"<-\")\n",
    "\n",
    "def createPlot(inTree):\n",
    "    fig = plt.figure(1, facecolor='white')\n",
    "    fig.clf()\n",
    "    \n",
    "    axprops = dict(xticks=[], yticks=[])\n",
    "        # **axprops xticks=[], yticks=[] 형태로 넘어감 \n",
    "    # createPlot.ax1\n",
    "    createPlot.ax1 = plt.subplot(111, frameon=False, **axprops)    #no ticks\n",
    "    #createPlot.ax1 = plt.subplot(111, frameon=False) #ticks for demo puropses \n",
    "    # axprops : 이런변수는 private 한 변수 \n",
    "    # createPlot.ax1 : 이렇게 선언하면 public 한 변수가됨 (권장하지 않음..)\n",
    "    \n",
    "    plotTree.totalW = float(tplt.getNumLeafs(inTree))\n",
    "    plotTree.totalD = float(tplt.getTreeDepth(inTree))\n",
    "    \n",
    "    # -0.5 : 구해진 좌표에서 -0.5를 해서 가운데로 보냄\n",
    "    plotTree.xOff = -0.5/plotTree.totalW; plotTree.yOff = 1.0; # 제일 위에 \n",
    "    plotTree(inTree, (0.5,1.0), '')\n",
    "    plt.show()"
   ]
  },
  {
   "cell_type": "code",
   "execution_count": 178,
   "metadata": {
    "collapsed": true
   },
   "outputs": [],
   "source": [
    "def plotTree(myTree, parentPt, nodeTxt):#if the first key tells you what feat was split on\n",
    "    numLeafs = tplt.getNumLeafs(myTree)  #this determines the x width of this tree\n",
    "    depth = tplt.getTreeDepth(myTree)\n",
    "    \n",
    "    firstStr = myTree.keys()[0]     #the text label for this node should be this\n",
    "    cntrPt = (plotTree.xOff + (1.0 + float(numLeafs))/2.0/plotTree.totalW, plotTree.yOff)\n",
    "    plotMidText(cntrPt, parentPt, nodeTxt)\n",
    "    plotNode(firstStr, cntrPt, parentPt, decisionNode)\n",
    "    secondDict = myTree[firstStr]\n",
    "    \n",
    "    # 다음 노드가 그려질 위치 계산 \n",
    "    plotTree.yOff = plotTree.yOff - 1.0/plotTree.totalD\n",
    "    \n",
    "    for key in secondDict.keys():\n",
    "        if type(secondDict[key]).__name__=='dict':#test to see if the nodes are dictonaires, if not they are leaf nodes   \n",
    "            plotTree(secondDict[key],cntrPt,str(key))        #recursion\n",
    "        else:   #it's a leaf node print the leaf node\n",
    "            # 위치값만 변경해줌 \n",
    "            plotTree.xOff = plotTree.xOff + 1.0/plotTree.totalW\n",
    "            # 노드 출력 \n",
    "            plotNode(secondDict[key], (plotTree.xOff, plotTree.yOff), cntrPt, leafNode)\n",
    "            # 텍스스 출력 \n",
    "            plotMidText((plotTree.xOff, plotTree.yOff), cntrPt, str(key))\n",
    "            \n",
    "    plotTree.yOff = plotTree.yOff + 1.0/plotTree.totalD\n",
    "#if you do get a dictonary you know it's a tree, and the first element will be another dict"
   ]
  },
  {
   "cell_type": "code",
   "execution_count": 179,
   "metadata": {},
   "outputs": [
    {
     "data": {
      "text/plain": [
       "<module 'treePlotter' from 'treePlotter.pyc'>"
      ]
     },
     "execution_count": 179,
     "metadata": {},
     "output_type": "execute_result"
    },
    {
     "data": {
      "text/plain": [
       "{'no surfacing': {0: 'no', 1: {'flippers': {0: 'no', 1: 'yes'}}}}"
      ]
     },
     "execution_count": 179,
     "metadata": {},
     "output_type": "execute_result"
    },
    {
     "data": {
      "image/png": "[encoded data removed]",
      "text/plain": [
       "<matplotlib.figure.Figure at 0x7b66ac8>"
      ]
     },
     "metadata": {},
     "output_type": "display_data"
    }
   ],
   "source": [
    "reload(tplt)\n",
    "myDat, features = trees.createDataSet()\n",
    "myTree = trees.createTree(myDat, features)\n",
    "myTree\n",
    "createPlot(myTree)"
   ]
  },
  {
   "cell_type": "code",
   "execution_count": 172,
   "metadata": {
    "collapsed": true
   },
   "outputs": [],
   "source": [
    "def func1():\n",
    "    x = 10\n",
    "    func1.y = 20\n",
    "    return x+func1.y"
   ]
  },
  {
   "cell_type": "code",
   "execution_count": 175,
   "metadata": {},
   "outputs": [
    {
     "data": {
      "text/plain": [
       "30"
      ]
     },
     "execution_count": 175,
     "metadata": {},
     "output_type": "execute_result"
    },
    {
     "data": {
      "text/plain": [
       "20"
      ]
     },
     "execution_count": 175,
     "metadata": {},
     "output_type": "execute_result"
    }
   ],
   "source": [
    "func1()\n",
    "func1.y"
   ]
  },
  {
   "cell_type": "markdown",
   "metadata": {},
   "source": [
    "# 3.3 Testing and storing the classifier\n",
    "\n",
    "분류기 검증 및 저장 "
   ]
  },
  {
   "cell_type": "markdown",
   "metadata": {},
   "source": [
    "## 3.3.1 Test: using the tree for classification\n",
    "\n",
    "\n",
    "\n",
    "* [code] trees.py classify() : 기존의 의사결정 트리를 위한 분류 함수  "
   ]
  },
  {
   "cell_type": "code",
   "execution_count": 186,
   "metadata": {
    "collapsed": true
   },
   "outputs": [],
   "source": [
    "def classify(inputTree,featLabels,testVec):\n",
    "    firstStr = inputTree.keys()[0]\n",
    "    secondDict = inputTree[firstStr]\n",
    "    featIndex = featLabels.index(firstStr)\n",
    "    key = testVec[featIndex]\n",
    "    valueOfFeat = secondDict[key]\n",
    "    print(\"\\nfirstStr {}\".format(firstStr))\n",
    "    print(\"secondDict {} \".format(secondDict))\n",
    "    print(\"featIndex {}\".format(featIndex))\n",
    "    print(\"key {}\".format(key))\n",
    "    print(\"valueOfFeat {}\".format(valueOfFeat))\n",
    "    \n",
    "    if isinstance(valueOfFeat, dict): \n",
    "        classLabel = classify(valueOfFeat, featLabels, testVec)\n",
    "    else: classLabel = valueOfFeat\n",
    "    \n",
    "    return classLabel"
   ]
  },
  {
   "cell_type": "code",
   "execution_count": 191,
   "metadata": {},
   "outputs": [
    {
     "data": {
      "text/plain": [
       "{'no surfacing': {0: 'no', 1: {'flippers': {0: 'no', 1: 'yes'}}}}"
      ]
     },
     "execution_count": 191,
     "metadata": {},
     "output_type": "execute_result"
    },
    {
     "name": "stdout",
     "output_type": "stream",
     "text": [
      "\n",
      "firstStr no surfacing\n",
      "secondDict {0: 'no', 1: {'flippers': {0: 'no', 1: 'yes'}}} \n",
      "featIndex 0\n",
      "key 1\n",
      "valueOfFeat {'flippers': {0: 'no', 1: 'yes'}}\n",
      "\n",
      "firstStr flippers\n",
      "secondDict {0: 'no', 1: 'yes'} \n",
      "featIndex 1\n",
      "key 1\n",
      "valueOfFeat yes\n"
     ]
    },
    {
     "data": {
      "text/plain": [
       "'yes'"
      ]
     },
     "execution_count": 191,
     "metadata": {},
     "output_type": "execute_result"
    }
   ],
   "source": [
    "myDat, features = trees.createDataSet()\n",
    "myTree = trees.createTree(myDat, features[:]) \n",
    "# features[:] 또는 list(features) : 리스트를 복제해서 넘김 \n",
    "myTree\n",
    "# myDat, features = trees.createDataSet() # createTree에서 del 시킴\n",
    "classify(myTree, features, [1,1]) # features 순으로 [1,0] 새로운 데이터 "
   ]
  },
  {
   "cell_type": "markdown",
   "metadata": {},
   "source": [
    "## 3.3.2 Use: persisting the decision tree\n",
    "\n",
    "- 분류한 문제마다 의사결정 트리를 작성하는 것은 시간 낭비\n",
    "- 훈련된 의사결정을 저장해 두었다가 필요할 때 불러내어 사용 \n",
    "    \n",
    "https://docs.python.org/3/library/pickle.html\n",
    "    \n",
    "* pickle : 데이터를 주고 받는데 있어서 일반화 시키는 방법 \n",
    "        파이썬 객체 구조를 직렬화/역질렬화하기 위한 바이너리 프로토콜 구현\n",
    "        직렬화라는 말은 메모리나 저장공간에 담을 수 있도록 직렬\n",
    "\n",
    "    - dump() : 메서드는 열린 파일(파일과 유사한 객체)로 직렬화\n",
    "    - dumps() : 메서드는 문자열로 직렬화합\n",
    "    - load() : 메서드는 열려 있는 파일과 유사한 객체로부터 역직렬화\n",
    "    - loads() 메서드는 문자열로부터 역직렬화합니다."
   ]
  },
  {
   "cell_type": "markdown",
   "metadata": {},
   "source": [
    "* [code] trees.py storeTree() : pickle 을 가지고 의사결정 트리 유지시키는 방법   "
   ]
  },
  {
   "cell_type": "code",
   "execution_count": 192,
   "metadata": {
    "collapsed": true
   },
   "outputs": [],
   "source": [
    "def storeTree(inputTree,filename):\n",
    "    import pickle\n",
    "    fw = open(filename,'w')\n",
    "    pickle.dump(inputTree,fw)\n",
    "    fw.close()"
   ]
  },
  {
   "cell_type": "code",
   "execution_count": 193,
   "metadata": {
    "collapsed": true
   },
   "outputs": [],
   "source": [
    "def grabTree(filename):\n",
    "    import pickle\n",
    "    fr = open(filename)\n",
    "    return pickle.load(fr)"
   ]
  },
  {
   "cell_type": "code",
   "execution_count": 196,
   "metadata": {},
   "outputs": [
    {
     "data": {
      "text/plain": [
       "{'no surfacing': {0: 'no', 1: {'flippers': {0: 'no', 1: 'yes'}}}}"
      ]
     },
     "execution_count": 196,
     "metadata": {},
     "output_type": "execute_result"
    }
   ],
   "source": [
    "filename = 'data/ch03/DecisionTree.txt'\n",
    "storeTree(myTree, filename)\n",
    "grabTree(filename)"
   ]
  },
  {
   "cell_type": "markdown",
   "metadata": {},
   "source": [
    "# 3.4 Example: using decision trees to predict contact lens type\n",
    "\n",
    "Example: using decision trees to predict contact lens type\n",
    "1. Collect: Text file provided.\n",
    "2. Prepare: Parse tab-delimited lines.\n",
    "3. Analyze: Quickly review data visually to make sure it was parsed properly. The final tree will be plotted with createPlot().\n",
    "4. Train: Use createTree() from section 3.1.\n",
    "5. Test: Write a function to descend the tree for a given instance.\n",
    "6. Use: Persist the tree data structure so it can be recalled without building the tree; then use it in any application.\n",
    "\n",
    "\n",
    "* 용어 \n",
    "    - persistence : 지속성, 연속성, 관계형 데이터베이스의 관리를 표현 (연동)\n",
    "        (like 자바 퍼시스턴스 API, mybatis, ibatis, hibernate...) \n",
    "\n"
   ]
  },
  {
   "cell_type": "code",
   "execution_count": 200,
   "metadata": {
    "scrolled": true
   },
   "outputs": [
    {
     "data": {
      "text/plain": [
       "[['young', 'myope', 'no', 'reduced', 'no lenses'],\n",
       " ['young', 'myope', 'no', 'normal', 'soft'],\n",
       " ['young', 'myope', 'yes', 'reduced', 'no lenses'],\n",
       " ['young', 'myope', 'yes', 'normal', 'hard'],\n",
       " ['young', 'hyper', 'no', 'reduced', 'no lenses'],\n",
       " ['young', 'hyper', 'no', 'normal', 'soft'],\n",
       " ['young', 'hyper', 'yes', 'reduced', 'no lenses'],\n",
       " ['young', 'hyper', 'yes', 'normal', 'hard'],\n",
       " ['pre', 'myope', 'no', 'reduced', 'no lenses'],\n",
       " ['pre', 'myope', 'no', 'normal', 'soft'],\n",
       " ['pre', 'myope', 'yes', 'reduced', 'no lenses'],\n",
       " ['pre', 'myope', 'yes', 'normal', 'hard'],\n",
       " ['pre', 'hyper', 'no', 'reduced', 'no lenses'],\n",
       " ['pre', 'hyper', 'no', 'normal', 'soft'],\n",
       " ['pre', 'hyper', 'yes', 'reduced', 'no lenses'],\n",
       " ['pre', 'hyper', 'yes', 'normal', 'no lenses'],\n",
       " ['presbyopic', 'myope', 'no', 'reduced', 'no lenses'],\n",
       " ['presbyopic', 'myope', 'no', 'normal', 'no lenses'],\n",
       " ['presbyopic', 'myope', 'yes', 'reduced', 'no lenses'],\n",
       " ['presbyopic', 'myope', 'yes', 'normal', 'hard'],\n",
       " ['presbyopic', 'hyper', 'no', 'reduced', 'no lenses'],\n",
       " ['presbyopic', 'hyper', 'no', 'normal', 'soft'],\n",
       " ['presbyopic', 'hyper', 'yes', 'reduced', 'no lenses'],\n",
       " ['presbyopic', 'hyper', 'yes', 'normal', 'no lenses']]"
      ]
     },
     "execution_count": 200,
     "metadata": {},
     "output_type": "execute_result"
    }
   ],
   "source": [
    "fr = open('data/ch03/lenses.txt')\n",
    "lenses = [inst.strip().split('\\t') for inst in fr.readlines()]\n",
    "lenses"
   ]
  },
  {
   "cell_type": "code",
   "execution_count": 208,
   "metadata": {
    "collapsed": true
   },
   "outputs": [],
   "source": [
    "lenses_feature = ['age', 'prescript', 'astigmatic', 'tear_rate']"
   ]
  },
  {
   "cell_type": "code",
   "execution_count": 209,
   "metadata": {},
   "outputs": [
    {
     "data": {
      "text/plain": [
       "<module 'trees' from 'trees.pyc'>"
      ]
     },
     "execution_count": 209,
     "metadata": {},
     "output_type": "execute_result"
    },
    {
     "data": {
      "text/plain": [
       "{'tear_rate': {'normal': {'astigmatic': {'no': {'age': {'pre': 'soft',\n",
       "      'presbyopic': {'prescript': {'hyper': 'soft', 'myope': 'no lenses'}},\n",
       "      'young': 'soft'}},\n",
       "    'yes': {'prescript': {'hyper': {'age': {'pre': 'no lenses',\n",
       "        'presbyopic': 'no lenses',\n",
       "        'young': 'hard'}},\n",
       "      'myope': 'hard'}}}},\n",
       "  'reduced': 'no lenses'}}"
      ]
     },
     "execution_count": 209,
     "metadata": {},
     "output_type": "execute_result"
    }
   ],
   "source": [
    "# Training \n",
    "reload(trees)\n",
    "lenses_tree = trees.createTree(lenses, lenses_feature[:]);\n",
    "lenses_tree"
   ]
  },
  {
   "cell_type": "code",
   "execution_count": 210,
   "metadata": {},
   "outputs": [
    {
     "data": {
      "text/plain": [
       "<module 'treePlotter' from 'treePlotter.pyc'>"
      ]
     },
     "execution_count": 210,
     "metadata": {},
     "output_type": "execute_result"
    },
    {
     "data": {
      "image/png": "[encoded data removed]",
      "text/plain": [
       "<matplotlib.figure.Figure at 0x83217b8>"
      ]
     },
     "metadata": {},
     "output_type": "display_data"
    }
   ],
   "source": [
    "# plot \n",
    "reload(tplt)\n",
    "tplt.createPlot(lenses_tree)"
   ]
  },
  {
   "cell_type": "code",
   "execution_count": 214,
   "metadata": {},
   "outputs": [
    {
     "data": {
      "text/plain": [
       "'hard'"
      ]
     },
     "execution_count": 214,
     "metadata": {},
     "output_type": "execute_result"
    }
   ],
   "source": [
    "# 신규 데이터로 검증 \n",
    "my_staus = ['pre', 'myope', 'yes', 'normal']\n",
    "trees.classify(lenses_tree, lenses_feature, my_staus)"
   ]
  },
  {
   "cell_type": "markdown",
   "metadata": {},
   "source": [
    "#### 과적합 (overfitting) 문제 \n",
    "- 가지치기, 노드 자르고 붙이기 등..."
   ]
  }
 ],
 "metadata": {
  "kernelspec": {
   "display_name": "Python 3",
   "language": "python",
   "name": "python3"
  },
  "language_info": {
   "codemirror_mode": {
    "name": "ipython",
    "version": 3
   },
   "file_extension": ".py",
   "mimetype": "text/x-python",
   "name": "python",
   "nbconvert_exporter": "python",
   "pygments_lexer": "ipython3",
   "version": "3.6.1"
  }
 },
 "nbformat": 4,
 "nbformat_minor": 2
}
