{
 "cells": [
  {
   "cell_type": "code",
   "execution_count": 1,
   "metadata": {
    "collapsed": true
   },
   "outputs": [],
   "source": [
    "from IPython.core.interactiveshell import InteractiveShell\n",
    "InteractiveShell.ast_node_interactivity = \"all\" \n",
    "\n",
    "from __future__ import print_function"
   ]
  },
  {
   "cell_type": "markdown",
   "metadata": {},
   "source": [
    "# 10.1 The k-means clustering algorithm\n",
    "\n",
    "거리 계산, 주어진 집합에 대해서 k 개의 집합을 찾음 \n",
    "\n",
    "* 의사코드 \n",
    "\n",
    "        초기 중심을 설정하기 위한 k 개의 점 생성\n",
    "        while 모든 점의 군집 배치에 변화가 없을 때까지 반복\n",
    "            for 데이터 집합 내의 모든 점 순회\n",
    "                for 모든 중신을 순회 할떄까지 반복\n",
    "                    중신과 점사이의 거리를 계산\n",
    "                assign 점을 거리가 가장 가까운 군집으로 재할당\n",
    "            for 모든 군집에 대해 군집 내에 있는 점들을 평균을 계산 할때까지 반복 \n",
    "                assign 각각의 군집에서 계산된 평균을 군집의 중심으로 변경 \n",
    "                \n",
    "\n",
    "초기 설정 : x, y 최소와 최대값 안에서 임의의 중심을 잡음 \n",
    "\n"
   ]
  },
  {
   "cell_type": "code",
   "execution_count": 4,
   "metadata": {},
   "outputs": [
    {
     "data": {
      "text/plain": [
       "[4, 3, 2, 1]"
      ]
     },
     "execution_count": 4,
     "metadata": {},
     "output_type": "execute_result"
    },
    {
     "data": {
      "text/plain": [
       "[4, 3, 2, 1]"
      ]
     },
     "execution_count": 4,
     "metadata": {},
     "output_type": "execute_result"
    }
   ],
   "source": [
    "# map 함수복습 \n",
    "x = ['asdf', 'asd', 'ss','b']\n",
    "r = []\n",
    "for i in x :\n",
    "    r.append(len(i))\n",
    "r    \n",
    "    \n",
    "# map\n",
    "r2 = map(len, x); r2\n",
    "#= [len(x[0]), len(x[1], ... )]\n"
   ]
  },
  {
   "cell_type": "code",
   "execution_count": 94,
   "metadata": {
    "collapsed": true
   },
   "outputs": [],
   "source": [
    "import kMeans\n",
    "import numpy as np"
   ]
  },
  {
   "cell_type": "code",
   "execution_count": 6,
   "metadata": {
    "collapsed": true
   },
   "outputs": [],
   "source": [
    "def loadDataSet(fileName):      \n",
    "    dataMat = []                \n",
    "    fr = open(fileName)\n",
    "    for line in fr.readlines():\n",
    "        curLine = line.strip().split('\\t')\n",
    "        fltLine = map(float,curLine) \n",
    "        dataMat.append(fltLine)\n",
    "    return dataMat"
   ]
  },
  {
   "cell_type": "code",
   "execution_count": 68,
   "metadata": {
    "collapsed": true
   },
   "outputs": [],
   "source": [
    "#유클리드 거리 계산\n",
    "def distEclud(vecA, vecB):\n",
    "    return np.sqrt(np.sum(np.power(vecA - vecB, 2))) #la.norm(vecA-vecB)"
   ]
  },
  {
   "cell_type": "code",
   "execution_count": 83,
   "metadata": {
    "collapsed": true
   },
   "outputs": [],
   "source": [
    "# 주어진 데이터 집합에서 임의로 선택된 k 개의 중심을 원소로 하는 하나의 집합을 생성 \n",
    "# 집합을 중심으로 최초 초기화\n",
    "# dataSet 80x2 \n",
    "def randCent(dataSet, k):\n",
    "    # feature 개수\n",
    "    n = np.shape(dataSet)[1] \n",
    "    \n",
    "    # 임의로 안하고 우선 zero 로 초기화\n",
    "    centroids = np.mat(np.zeros((k,n)))\n",
    "    \n",
    "    for j in range(n):\n",
    "        minJ = min(dataSet[:,j]) \n",
    "        rangeJ = float(max(dataSet[:,j]) - minJ)\n",
    "        # np.random.rand(k,1) kx1 의 랜덤 밸류\n",
    "        centroids[:,j] = np.mat(minJ + rangeJ * np.random.rand(k,1))\n",
    "    \n",
    "    # 한줄로 -->    \n",
    "#     min_data = np.min(dataSet, axis=0)\n",
    "#     print(min_data)\n",
    "#     range_data = np.max(dataSet, axis=0)-min_data\n",
    "#     print(range_data)\n",
    "#     # min_data: matrix 1x2 / range_data: mat 1x2  np.random.rand(k,1) kx1\n",
    "#     # range_data.A numpy array 로 broadcasting kx2 로 만들어줌 (mat 라서 안됨)\n",
    "#     # 1xn + 1xn * kxn -> broadcasting 에 의해 kxn + kxn * kxn \n",
    "#     print(type(min_data), min_data)\n",
    "#     print(type(min_data.A), min_data.A)\n",
    "#     centroids = np.mat(min_data.A + range_data.A*np.random.rand(k,n))\n",
    "    \n",
    "    return centroids\n"
   ]
  },
  {
   "cell_type": "code",
   "execution_count": 84,
   "metadata": {},
   "outputs": [
    {
     "data": {
      "text/plain": [
       "(80L, 2L)"
      ]
     },
     "execution_count": 84,
     "metadata": {},
     "output_type": "execute_result"
    }
   ],
   "source": [
    "datMat = np.mat(loadDataSet('data/ch10/testSet.txt'))\n",
    "datMat.shape"
   ]
  },
  {
   "cell_type": "code",
   "execution_count": 85,
   "metadata": {},
   "outputs": [
    {
     "data": {
      "text/plain": [
       "-5.3797129999999997"
      ]
     },
     "execution_count": 85,
     "metadata": {},
     "output_type": "execute_result"
    },
    {
     "data": {
      "text/plain": [
       "4.8381379999999998"
      ]
     },
     "execution_count": 85,
     "metadata": {},
     "output_type": "execute_result"
    },
    {
     "data": {
      "text/plain": [
       "matrix([[-5.379713, -4.232586]])"
      ]
     },
     "execution_count": 85,
     "metadata": {},
     "output_type": "execute_result"
    },
    {
     "data": {
      "text/plain": [
       "matrix([[ 4.838138,  5.1904  ]])"
      ]
     },
     "execution_count": 85,
     "metadata": {},
     "output_type": "execute_result"
    }
   ],
   "source": [
    "np.min(datMat[:,0])\n",
    "np.max(datMat[:,0])\n",
    "np.min(datMat, axis=0)\n",
    "np.max(datMat, axis=0)"
   ]
  },
  {
   "cell_type": "code",
   "execution_count": 86,
   "metadata": {},
   "outputs": [
    {
     "data": {
      "text/plain": [
       "matrix([[-0.03298406, -3.56806515],\n",
       "        [ 0.39082824, -2.64071998],\n",
       "        [ 1.67599413,  1.48388028],\n",
       "        [-5.13449401,  3.49405726]])"
      ]
     },
     "execution_count": 86,
     "metadata": {},
     "output_type": "execute_result"
    }
   ],
   "source": [
    "randCent(datMat, 4)"
   ]
  },
  {
   "cell_type": "code",
   "execution_count": 87,
   "metadata": {
    "collapsed": true
   },
   "outputs": [],
   "source": [
    "# kMeans \n",
    "def kMeans(dataSet, k, distMeas=distEclud, createCent=randCent):\n",
    "    m = np.shape(dataSet)[0] # row 개수 80\n",
    "    # 어떤 점이 어떤 클러스터에 속하는지\n",
    "    clusterAssment = np.mat(np.zeros((m,2)))\n",
    "                                     \n",
    "    # 중심점 초기화 randCent\n",
    "    centroids = createCent(dataSet, k)\n",
    "    \n",
    "    # flag\n",
    "    clusterChanged = True\n",
    "    while clusterChanged:\n",
    "        clusterChanged = False\n",
    "        \n",
    "        # row\n",
    "        for i in range(m):\n",
    "            minDist = 99999; minIndex = -1 # 초기화 \n",
    "            \n",
    "            # 모든 centroids 에 대해 거리를 구함 \n",
    "            for j in range(k):\n",
    "                # 인스턴스 모든 컬럼의 거리를 구해서 \n",
    "                distJI = distMeas(centroids[j,:],dataSet[i,:])\n",
    "                \n",
    "                # 최소거리 update\n",
    "                if distJI < minDist:\n",
    "                    minDist = distJI; minIndex = j # centroids 번호\n",
    "                    \n",
    "            # 각 row 에 대한 min 값이면      \n",
    "            if clusterAssment[i,0] != minIndex: clusterChanged = True\n",
    "            \n",
    "            # 인덱스, 오차거리제곱(오차가 줄어드는 방향으로 중심을 옮김)\n",
    "            clusterAssment[i,:] = minIndex, minDist**2 \n",
    "        \n",
    "        print(centroids)\n",
    "        \n",
    "        # centroids 중심값 update \n",
    "        for cent in range(k):\n",
    "            # nonzero zero가 아닌 요소를 반환 nonzero(clusterAssment[:,0].A==cent) index 값\n",
    "            ptsInClust = dataSet[np.nonzero(clusterAssment[:,0].A==cent)[0]]\n",
    "            # ptsInClust 의 평균으로 update\n",
    "            centroids[cent,:] = np.mean(ptsInClust, axis=0) \n",
    "            \n",
    "    return centroids, clusterAssment"
   ]
  },
  {
   "cell_type": "code",
   "execution_count": 88,
   "metadata": {},
   "outputs": [
    {
     "name": "stdout",
     "output_type": "stream",
     "text": [
      "[[-3.02168296  0.67872982]\n",
      " [-1.64319028 -4.13844837]\n",
      " [ 1.15290773 -0.09569993]\n",
      " [-0.65990966 -3.00385797]]\n",
      "[[-2.605345    2.35623864]\n",
      " [-3.53766144 -3.06629044]\n",
      " [ 2.8287018   1.4343227 ]\n",
      " [ 1.7308385  -3.45518233]]\n",
      "[[-2.46154315  2.78737555]\n",
      " [-3.53973889 -2.89384326]\n",
      " [ 2.71502526  2.5965363 ]\n",
      " [ 2.54173689 -3.11892933]]\n",
      "[[-2.46154315  2.78737555]\n",
      " [-3.53973889 -2.89384326]\n",
      " [ 2.6265299   3.10868015]\n",
      " [ 2.65077367 -2.79019029]]\n"
     ]
    }
   ],
   "source": [
    "myCentroids, clusterAssment = kMeans(datMat, 4, distMeas=distEclud, createCent=randCent)"
   ]
  },
  {
   "cell_type": "code",
   "execution_count": 89,
   "metadata": {
    "collapsed": true
   },
   "outputs": [],
   "source": [
    "import matplotlib.pyplot as plt\n",
    "%matplotlib inline"
   ]
  },
  {
   "cell_type": "code",
   "execution_count": 90,
   "metadata": {},
   "outputs": [
    {
     "data": {
      "text/plain": [
       "<matplotlib.collections.PathCollection at 0x7834f60>"
      ]
     },
     "execution_count": 90,
     "metadata": {},
     "output_type": "execute_result"
    },
    {
     "data": {
      "text/plain": [
       "<matplotlib.collections.PathCollection at 0x7834f28>"
      ]
     },
     "execution_count": 90,
     "metadata": {},
     "output_type": "execute_result"
    },
    {
     "data": {
      "image/png": "[encoded data removed]",
      "text/plain": [
       "<matplotlib.figure.Figure at 0x74ecc50>"
      ]
     },
     "metadata": {},
     "output_type": "display_data"
    }
   ],
   "source": [
    "fig = plt.figure()\n",
    "ax = fig.add_subplot(1,1,1)\n",
    "ax.scatter(datMat.A[:, 0], datMat.A[:, 1])\n",
    "ax.scatter(myCentroids.A[:, 0], myCentroids.A[:, 1], s=200, marker='+')"
   ]
  },
  {
   "cell_type": "markdown",
   "metadata": {},
   "source": [
    "# 10.2 Improving cluster performance with postprocessing\n",
    "\n",
    "\n",
    "* SSE, or sum of squared error : 같은 집단끼리의 중심으로부터의 거리를 전부 더함 \n",
    "\n",
    "오차의 제곱은 중심으로부터 멀리 있는 점에게 가중치를 준다. \n",
    "\n",
    "\n",
    "* SSE 를 줄이는 방법 : \n",
    "    군집의 개수를 유지하면서 해결하는 방법 > SSE 가 가장 큰 분류를 2로 나눔 (k 를 2로 주고 해당 집합만 가지고 실행)\n",
    "    \n",
    "    \n",
    "클러스터를 쪼갰다가 다시 merge 시킴 \n",
    "\n",
    "\n",
    "* 가까운 중심끼리 병합 (두 중심을 병합) \n",
    "    - 가장 가까운 Centroid 병합 (Centroid 끼리 거리를 구해서)\n",
    "    - 모든 가능한 쌍을 병합했을 때 총 SSE 가 가장 적게 증가하는 병합 요소를 찾음 \n",
    "    \n",
    "    "
   ]
  },
  {
   "cell_type": "markdown",
   "metadata": {},
   "source": [
    "# 10.3 Bisecting k-means\n",
    "\n",
    "local min 에 빠져서 성능이 안좋아 짐을 보안 \n",
    "\n",
    "    전체 하나의 군집으로 보고 2개씩 나눔 \n",
    "        다음에 분할 될 SSE 가 최소가 되는 군집을 선택 \n",
    "\n",
    "    군집의 개수가 사용자가 정의하는 값이 될때까지 반복 \n",
    "    \n",
    "    또는 > SSE 가 가장큰 군집을 선택해서 분할하는 방법 \n"
   ]
  },
  {
   "cell_type": "code",
   "execution_count": 100,
   "metadata": {
    "collapsed": true
   },
   "outputs": [],
   "source": [
    "def biKmeans(dataSet, k, distMeas=distEclud):\n",
    "    m = np.shape(dataSet)[0]\n",
    "    clusterAssment = np.mat(np.zeros((m,2)))\n",
    "    \n",
    "    # 모든점의 평균점으로 초기화\n",
    "    centroid0 = np.mean(dataSet, axis=0).tolist()[0]\n",
    "    \n",
    "    centList =[centroid0] \n",
    "    \n",
    "    # row\n",
    "    for j in range(m):\n",
    "        # 중심점과의 거리를 구함 \n",
    "        clusterAssment[j,1] = distMeas(np.mat(centroid0), dataSet[j,:])**2\n",
    "        \n",
    "    # 설정한 개수 이상이 될때까지 \n",
    "    while (len(centList) < k):\n",
    "        lowestSSE = np.inf\n",
    "        \n",
    "        # centList\n",
    "        for i in range(len(centList)):\n",
    "            # clusterAssment index 가 i 인 인덱스 얻어옴 \n",
    "            ptsInCurrCluster = dataSet[np.nonzero(clusterAssment[:,0].A==i)[0],:]\n",
    "            \n",
    "            # 이등분 시킴 \n",
    "            centroidMat, splitClustAss = kMeans.kMeans(ptsInCurrCluster, 2, distMeas)\n",
    "            # 나눴을 때 sum 값 \n",
    "            sseSplit = sum(splitClustAss[:,1])\n",
    "            # 나눠지지 않은 군집의 sum 값\n",
    "            sseNotSplit = sum(clusterAssment[np.nonzero(clusterAssment[:,0].A!=i)[0],1])\n",
    "            print(\"sseSplit, and notSplit: \",sseSplit,sseNotSplit)\n",
    "            \n",
    "            # 최소 sse 보다 적으면 최적의 centroid \n",
    "            if (sseSplit + sseNotSplit) < lowestSSE:\n",
    "                bestCentToSplit = i\n",
    "                bestNewCents = centroidMat\n",
    "                bestClustAss = splitClustAss.copy()\n",
    "                lowestSSE = sseSplit + sseNotSplit\n",
    "                \n",
    "        bestClustAss[np.nonzero(bestClustAss[:,0].A == 1)[0],0] = len(centList) \n",
    "        bestClustAss[np.nonzero(bestClustAss[:,0].A == 0)[0],0] = bestCentToSplit\n",
    "        print('the bestCentToSplit is: ',bestCentToSplit) \n",
    "        print('the len of bestClustAss is: ', len(bestClustAss)) \n",
    "        centList[bestCentToSplit] = bestNewCents[0,:].tolist()[0]\n",
    "        centList.append(bestNewCents[1,:].tolist()[0])\n",
    "        clusterAssment[np.nonzero(clusterAssment[:,0].A == bestCentToSplit)[0],:]= bestClustAss\n",
    "    return np.mat(centList), clusterAssment"
   ]
  },
  {
   "cell_type": "code",
   "execution_count": 107,
   "metadata": {},
   "outputs": [
    {
     "data": {
      "text/plain": [
       "<module 'kMeans' from 'kMeans.pyc'>"
      ]
     },
     "execution_count": 107,
     "metadata": {},
     "output_type": "execute_result"
    },
    {
     "name": "stdout",
     "output_type": "stream",
     "text": [
      "[[ 4.41523574  2.93382475]\n",
      " [-1.75086905 -1.99091402]]\n",
      "[[ 2.76275171  3.12704005]\n",
      " [-1.73028592  0.20133246]]\n",
      "[[ 2.93386365  3.12782785]\n",
      " [-1.70351595  0.27408125]]\n",
      "sseSplit, and notSplit:  [[ 541.29762926]] 0\n",
      "the bestCentToSplit is:  0\n",
      "the len of bestClustAss is:  60\n",
      "[[ 3.08414569  3.74005091]\n",
      " [ 3.03685061  4.14646582]]\n",
      "[[ 2.92343329  2.89682571]\n",
      " [ 2.992969    4.43684   ]]\n",
      "[[ 2.82404644  2.837813  ]\n",
      " [ 3.3731325   4.28788725]]\n",
      "[[ 2.61879214  2.73824236]\n",
      " [ 3.6690305   4.03686067]]\n",
      "sseSplit, and notSplit:  [[ 27.81377618]] [[ 501.76833058]]\n",
      "[[-4.56081458 -2.85904412]\n",
      " [-0.047507    4.34715232]]\n",
      "[[-0.62407076 -2.58281924]\n",
      " [-2.89658695  3.43170811]]\n",
      "[[-0.45965615 -2.7782156 ]\n",
      " [-2.94737575  3.3263781 ]]\n",
      "sseSplit, and notSplit:  [[ 67.22020008]] [[ 39.52929868]]\n",
      "the bestCentToSplit is:  1\n",
      "the len of bestClustAss is:  40\n",
      "[[ 1.64356079  3.53137488]\n",
      " [ 1.54872094  4.29308838]]\n",
      "[[ 2.91003433  2.95853389]\n",
      " [ 3.1483275   4.6514735 ]]\n",
      "[[ 2.82404644  2.837813  ]\n",
      " [ 3.3731325   4.28788725]]\n",
      "[[ 2.61879214  2.73824236]\n",
      " [ 3.6690305   4.03686067]]\n",
      "sseSplit, and notSplit:  [[ 27.81377618]] [[ 67.22020008]]\n",
      "[[-0.29592453 -2.24155033]\n",
      " [ 0.4422406  -1.78679946]]\n",
      "[[-0.57667394 -2.78835533]\n",
      " [ 0.593504   -2.686958  ]]\n",
      "[[-0.93324907 -2.59690843]\n",
      " [ 0.645394   -3.20126567]]\n",
      "[[-1.07894467 -2.43015258]\n",
      " [ 0.46927663 -3.30031012]]\n",
      "[[-1.12616164 -2.30193564]\n",
      " [ 0.35496167 -3.36033556]]\n",
      "sseSplit, and notSplit:  [[ 12.75326314]] [[ 77.59224932]]\n",
      "[[-4.55945728  3.80222868]\n",
      " [-0.91294111  3.07544929]]\n",
      "[[-3.58362738  3.28784469]\n",
      " [-1.76576557  3.39794014]]\n",
      "sseSplit, and notSplit:  [[ 22.9717719]] [[ 68.68654813]]\n",
      "the bestCentToSplit is:  1\n",
      "the len of bestClustAss is:  20\n"
     ]
    }
   ],
   "source": [
    "reload(kMeans)\n",
    "dataMat3 = np.mat(kMeans.loadDataSet('data/ch10/testSet2.txt'))\n",
    "centList, myNewAssments = biKmeans(dataMat3, 4)"
   ]
  },
  {
   "cell_type": "code",
   "execution_count": 108,
   "metadata": {},
   "outputs": [
    {
     "data": {
      "text/plain": [
       "<matplotlib.collections.PathCollection at 0x89790b8>"
      ]
     },
     "execution_count": 108,
     "metadata": {},
     "output_type": "execute_result"
    },
    {
     "data": {
      "text/plain": [
       "<matplotlib.collections.PathCollection at 0x8979780>"
      ]
     },
     "execution_count": 108,
     "metadata": {},
     "output_type": "execute_result"
    },
    {
     "data": {
      "image/png": "[encoded data removed]",
      "text/plain": [
       "<matplotlib.figure.Figure at 0x8844198>"
      ]
     },
     "metadata": {},
     "output_type": "display_data"
    }
   ],
   "source": [
    "fig = plt.figure()\n",
    "ax = fig.add_subplot(1,1,1)\n",
    "ax.scatter(dataMat3.A[:, 0], dataMat3.A[:, 1])\n",
    "ax.scatter(centList.A[:, 0], centList.A[:, 1], s=200, marker='+')"
   ]
  },
  {
   "cell_type": "code",
   "execution_count": null,
   "metadata": {
    "collapsed": true
   },
   "outputs": [],
   "source": []
  }
 ],
 "metadata": {
  "kernelspec": {
   "display_name": "Python 3",
   "language": "python",
   "name": "python3"
  },
  "language_info": {
   "codemirror_mode": {
    "name": "ipython",
    "version": 3
   },
   "file_extension": ".py",
   "mimetype": "text/x-python",
   "name": "python",
   "nbconvert_exporter": "python",
   "pygments_lexer": "ipython3",
   "version": "3.6.1"
  }
 },
 "nbformat": 4,
 "nbformat_minor": 2
}
