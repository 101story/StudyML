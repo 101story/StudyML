{
 "cells": [
  {
   "cell_type": "code",
   "execution_count": 1,
   "metadata": {
    "collapsed": true
   },
   "outputs": [],
   "source": [
    "from IPython.core.interactiveshell import InteractiveShell\n",
    "InteractiveShell.ast_node_interactivity = \"all\" "
   ]
  },
  {
   "cell_type": "markdown",
   "metadata": {},
   "source": [
    "# 4.1 Classifying with Bayesian decision theory\n",
    "\n",
    "* 이전까지는 정보를 가지고 분류 하다가가 확률을 가지고 분류함 \n",
    "\n",
    "- 장점 : 소량의 데이터, 여러 개의 분류 항목을 다룸\n",
    "- 단점 : 입력데이터에 따라 민감함\n",
    "- 적용 : 명목형 값\n",
    "\n",
    "\n",
    "* 어디에 속할 확률이 높은가 여부로 판별함\n",
    "    - if p1(x, y) > p2(x, y), then the class is 1.\n",
    "    - if p2(x, y) > p1(x, y), then the class is 2.\n",
    "\n",
    "\n",
    "* Byes?\n",
    "    * 베이지안확률 이라고하는 분류 사용하기 편하고 인기가 있음 \n",
    "    * 확실하지 않은 상태의 사전지식과 논리를 적용하는 것이 가능 \n",
    "    * 빈발 확률 \n",
    "    * 데이터로부터 결론을 도출해 내고 논리와 사전 지식을 허용하지 않음\n",
    "    \n",
    "    \n",
    "# 4.2 Conditional probability\n",
    "조건부확률\n",
    "\n",
    "P(A|B) = p(A∩B)/p(B)<br>\n",
    "p(A∩B) = p(B|A)*p(A)\n",
    "\n",
    "    -> P(A|B) = p(B|A)*p(A) / p(B)\n",
    "    \n",
    "    \n",
    "# 4.3 Classifying with conditional probabilities\\\n",
    "\n",
    "If P(c1|x, y) > P(c2|x, y), the class is c1. <br>\n",
    "If P(c1|x, y) < P(c2|x, y), the class is c2."
   ]
  },
  {
   "cell_type": "code",
   "execution_count": null,
   "metadata": {
    "collapsed": true
   },
   "outputs": [],
   "source": []
  }
 ],
 "metadata": {
  "kernelspec": {
   "display_name": "Python 2",
   "language": "python",
   "name": "python2"
  },
  "language_info": {
   "codemirror_mode": {
    "name": "ipython",
    "version": 2
   },
   "file_extension": ".py",
   "mimetype": "text/x-python",
   "name": "python",
   "nbconvert_exporter": "python",
   "pygments_lexer": "ipython2",
   "version": "2.7.13"
  }
 },
 "nbformat": 4,
 "nbformat_minor": 2
}
